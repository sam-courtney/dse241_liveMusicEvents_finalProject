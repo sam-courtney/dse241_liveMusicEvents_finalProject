{
 "cells": [
  {
   "cell_type": "markdown",
   "id": "c24686ae-41b8-425f-9b4c-e89f2bb7d0fe",
   "metadata": {},
   "source": [
    "# DSE 241 - Final Project\n",
    "# Rock & Fucking Roll"
   ]
  },
  {
   "cell_type": "markdown",
   "id": "327b5618-f4aa-4529-aca3-7a2b127f8e82",
   "metadata": {},
   "source": [
    "## Requirements"
   ]
  },
  {
   "cell_type": "code",
   "execution_count": 27,
   "id": "884c0faa-1277-4c81-8a8c-e6bb3a174a06",
   "metadata": {},
   "outputs": [],
   "source": [
    "import requests\n",
    "import pandas as pd\n",
    "import numpy as np"
   ]
  },
  {
   "cell_type": "markdown",
   "id": "9c4d8ef3-b428-4371-9963-31ea48652a8e",
   "metadata": {},
   "source": [
    "## Functions"
   ]
  },
  {
   "cell_type": "code",
   "execution_count": 28,
   "id": "ee028625-22a0-4cca-8f3b-687cfbef1827",
   "metadata": {},
   "outputs": [],
   "source": [
    "def read_api_key(file_name):\n",
    "    f = open(file_name, 'r')\n",
    "    key = f.read()\n",
    "    f.close()\n",
    "    return key\n",
    "\n",
    "def getgenre_artist(string):\n",
    "    ## lower case\n",
    "    ## replace \" \" with \"_\"\n",
    "    artist = string.replace(' ','_').lower()\n",
    "    return artist\n",
    "\n",
    "def bands_artist(string):\n",
    "    ## url-ify artist names\n",
    "    ## replaces \" \" with \"%20\"\n",
    "    artist = string.replace(' ',r'%20')\n",
    "    return artist\n",
    "    \n",
    "    \n",
    "def parse_events(event_json):\n",
    "    ### defined to help parse the JSON of individual events returned by Bandintown API ###\n",
    "    ### this will pull out the keys and values for the event object ###\n",
    "    ### the end result is a list that can be entered as a row to a Pandas dataframe ###\n",
    "    \n",
    "    ### TODO: determine if the output is better in Pandas or Numpy ###\n",
    "    ### TODO: define event_json object ###\n",
    "    \n",
    "    events_data = []\n",
    "    num_of_events = len(event_json) # event json has an entry for each event ## each event has lots of other nested data\n",
    "\n",
    "    keys_of_interest = [\n",
    "            'datetime' # date-time of the event\n",
    "            , 'title'  # name of the event  ## may need to create a condition to check if exists and set to null if missing\n",
    "            , 'lineup' # list of strings containing names of artists  ## may leave as a nested list in data frame to avoid sparseness  ### list may be ordered in terms of headliners (??)\n",
    "            , 'festival_start_date' # date festival starts  ### may be a useful indicator that the artist is performing at a festival-event, need to test this for reliability\n",
    "            , 'festival_end_date'   # date festival ends, will differ from start date on multi-day events (may not exist on single day events)\n",
    "            , 'venue'  # this is a nested dictionary, will need to tease this one out to flatten the data\n",
    "    ]\n",
    "\n",
    "    venue_keys_of_interest = [\n",
    "             'city'        # city name, string\n",
    "            , 'region'     # state-level, string\n",
    "            , 'country'    # country name, string\n",
    "            , 'latitude'   # coordinate data, float\n",
    "            , 'longitude'  # coordinate data, float\n",
    "            , 'location'   # arbitrary string describing geolocation  ## consider not including\n",
    "            , 'name'       # arbitrary string describing venue name, could be misleading since some venues are at locations, but given festival name  ## consider not including\n",
    "    ]\n",
    "\n",
    "    for i in range(num_of_events):\n",
    "        event = event_json[i]\n",
    "        event_list = []\n",
    "\n",
    "        for key in keys_of_interest:\n",
    "            value = event.get(key)\n",
    "            if key == 'venue':\n",
    "                for venue_key in venue_keys_of_interest:\n",
    "                    venue_value = value.get(venue_key)\n",
    "                    event_list.append(venue_value)\n",
    "            else:\n",
    "                event_list.append(value)\n",
    "\n",
    "        events_data.append(event_list)\n",
    "\n",
    "\n",
    "    cols = keys_of_interest[:-1] + venue_keys_of_interest\n",
    "    events_df = pd.DataFrame(events_data, columns=cols)\n",
    "    events_df['artist'] = artist\n",
    "    return events_df"
   ]
  },
  {
   "cell_type": "markdown",
   "id": "26325d4d-c8ee-4369-a568-d2e19ec91cf7",
   "metadata": {},
   "source": [
    "## Key Inputs"
   ]
  },
  {
   "cell_type": "code",
   "execution_count": 29,
   "id": "370a4474-931c-45d8-8c47-bef55969c386",
   "metadata": {},
   "outputs": [],
   "source": [
    "artist = 'Tame Impala'\n",
    "\n",
    "bands_key = read_api_key('bands_api_key.txt') ## shhhh... its a secret\n",
    "\n",
    "analysis_level = 1\n",
    "gg_artist = getgenre_artist(artist)\n",
    "bands_artist = bands_artist(artist)\n",
    "getgenre_api_url = r'https://api.getgenre.com/search?artist_name={}&analysis={}'.format(gg_artist, analysis_level)\n",
    "bands_api_url = r'https://rest.bandsintown.com/artists/{}/events/?app_id={}'.format(bands_artist, bands_key)"
   ]
  },
  {
   "cell_type": "code",
   "execution_count": 30,
   "id": "00e0146d-d8b1-4b4c-affc-d7919dcfee18",
   "metadata": {},
   "outputs": [
    {
     "data": {
      "text/plain": "'tame_impala'"
     },
     "execution_count": 30,
     "metadata": {},
     "output_type": "execute_result"
    }
   ],
   "source": [
    "gg_artist"
   ]
  },
  {
   "cell_type": "code",
   "execution_count": 31,
   "id": "6cfcea8e-b4d7-468e-bf0a-5f254e9e5109",
   "metadata": {},
   "outputs": [
    {
     "data": {
      "text/plain": "'Tame%20Impala'"
     },
     "execution_count": 31,
     "metadata": {},
     "output_type": "execute_result"
    }
   ],
   "source": [
    "bands_artist"
   ]
  },
  {
   "cell_type": "markdown",
   "id": "452b9e2b-cc0d-4645-b79d-87f97b2a4513",
   "metadata": {},
   "source": [
    "## Working Code\n",
    "### Let's Go"
   ]
  },
  {
   "cell_type": "code",
   "execution_count": 32,
   "id": "47028c40-99f1-4338-bf18-f22a3260cce4",
   "metadata": {},
   "outputs": [],
   "source": [
    "r = requests.get(bands_api_url)"
   ]
  },
  {
   "cell_type": "code",
   "execution_count": 33,
   "id": "a47e2644-a408-4cd7-9910-fbb319d57527",
   "metadata": {},
   "outputs": [],
   "source": [
    "event_json = r.json()"
   ]
  },
  {
   "cell_type": "code",
   "execution_count": 34,
   "id": "9bfa7535-fa5b-4583-87e3-b08e47370a8f",
   "metadata": {
    "tags": []
   },
   "outputs": [
    {
     "name": "stdout",
     "output_type": "stream",
     "text": [
      "(24, 13)\n"
     ]
    },
    {
     "data": {
      "text/plain": "              datetime                  title  \\\n0  2022-02-26T19:00:00  Innings Festival 2022   \n1  2022-03-03T19:00:00                          \n2  2022-03-07T20:00:00                          \n3  2022-03-09T20:00:00                          \n4  2022-03-10T20:00:00                          \n\n                                              lineup festival_start_date  \\\n0  [Tame Impala, Foo Fighters, My Morning Jacket,...          2022-02-26   \n1  [Tame Impala, Pepper, Flying Lotus, Caribou, D...                       \n2                                      [Tame Impala]                       \n3                      [Tame Impala, Sudan Archives]                       \n4                                      [Tame Impala]                       \n\n  festival_end_date        city region        country    latitude  \\\n0        2022-02-27       Tempe     AZ  United States  33.4307373   \n1                    Okeechobee     FL  United States    27.35988   \n2                    Pittsburgh     PA  United States  40.4438281   \n3                       Toronto     ON         Canada   43.643466   \n4                         Laval     QC         Canada  45.5558363   \n\n             longitude        location                    name       artist  \n0  -111.94169360000001       Tempe, AZ   Innings Festival 2022  Tame Impala  \n1   -80.73357399999998  Okeechobee, FL     Sunshine Grove - FL  Tame Impala  \n2   -79.96228339999999  Pittsburgh, PA  Petersen Events Center  Tame Impala  \n3           -79.379142     Toronto, ON        Scotiabank Arena  Tame Impala  \n4          -73.7214777       Laval, QC              Place Bell  Tame Impala  ",
      "text/html": "<div>\n<style scoped>\n    .dataframe tbody tr th:only-of-type {\n        vertical-align: middle;\n    }\n\n    .dataframe tbody tr th {\n        vertical-align: top;\n    }\n\n    .dataframe thead th {\n        text-align: right;\n    }\n</style>\n<table border=\"1\" class=\"dataframe\">\n  <thead>\n    <tr style=\"text-align: right;\">\n      <th></th>\n      <th>datetime</th>\n      <th>title</th>\n      <th>lineup</th>\n      <th>festival_start_date</th>\n      <th>festival_end_date</th>\n      <th>city</th>\n      <th>region</th>\n      <th>country</th>\n      <th>latitude</th>\n      <th>longitude</th>\n      <th>location</th>\n      <th>name</th>\n      <th>artist</th>\n    </tr>\n  </thead>\n  <tbody>\n    <tr>\n      <th>0</th>\n      <td>2022-02-26T19:00:00</td>\n      <td>Innings Festival 2022</td>\n      <td>[Tame Impala, Foo Fighters, My Morning Jacket,...</td>\n      <td>2022-02-26</td>\n      <td>2022-02-27</td>\n      <td>Tempe</td>\n      <td>AZ</td>\n      <td>United States</td>\n      <td>33.4307373</td>\n      <td>-111.94169360000001</td>\n      <td>Tempe, AZ</td>\n      <td>Innings Festival 2022</td>\n      <td>Tame Impala</td>\n    </tr>\n    <tr>\n      <th>1</th>\n      <td>2022-03-03T19:00:00</td>\n      <td></td>\n      <td>[Tame Impala, Pepper, Flying Lotus, Caribou, D...</td>\n      <td></td>\n      <td></td>\n      <td>Okeechobee</td>\n      <td>FL</td>\n      <td>United States</td>\n      <td>27.35988</td>\n      <td>-80.73357399999998</td>\n      <td>Okeechobee, FL</td>\n      <td>Sunshine Grove - FL</td>\n      <td>Tame Impala</td>\n    </tr>\n    <tr>\n      <th>2</th>\n      <td>2022-03-07T20:00:00</td>\n      <td></td>\n      <td>[Tame Impala]</td>\n      <td></td>\n      <td></td>\n      <td>Pittsburgh</td>\n      <td>PA</td>\n      <td>United States</td>\n      <td>40.4438281</td>\n      <td>-79.96228339999999</td>\n      <td>Pittsburgh, PA</td>\n      <td>Petersen Events Center</td>\n      <td>Tame Impala</td>\n    </tr>\n    <tr>\n      <th>3</th>\n      <td>2022-03-09T20:00:00</td>\n      <td></td>\n      <td>[Tame Impala, Sudan Archives]</td>\n      <td></td>\n      <td></td>\n      <td>Toronto</td>\n      <td>ON</td>\n      <td>Canada</td>\n      <td>43.643466</td>\n      <td>-79.379142</td>\n      <td>Toronto, ON</td>\n      <td>Scotiabank Arena</td>\n      <td>Tame Impala</td>\n    </tr>\n    <tr>\n      <th>4</th>\n      <td>2022-03-10T20:00:00</td>\n      <td></td>\n      <td>[Tame Impala]</td>\n      <td></td>\n      <td></td>\n      <td>Laval</td>\n      <td>QC</td>\n      <td>Canada</td>\n      <td>45.5558363</td>\n      <td>-73.7214777</td>\n      <td>Laval, QC</td>\n      <td>Place Bell</td>\n      <td>Tame Impala</td>\n    </tr>\n  </tbody>\n</table>\n</div>"
     },
     "execution_count": 34,
     "metadata": {},
     "output_type": "execute_result"
    }
   ],
   "source": [
    "test_df = parse_events(event_json)\n",
    "print(test_df.shape)\n",
    "test_df.head()"
   ]
  },
  {
   "cell_type": "code",
   "execution_count": 35,
   "id": "8d57d071-a329-4600-a892-c1975c2b0fc7",
   "metadata": {},
   "outputs": [],
   "source": [
    "r_gg = requests.get(getgenre_api_url)"
   ]
  },
  {
   "cell_type": "code",
   "execution_count": 60,
   "id": "ca1c09ba-03ed-457d-8f95-b574d2756d55",
   "metadata": {},
   "outputs": [],
   "source": [
    "genre_json = r_gg.json()\n",
    "top_gg = genre_json['analysis']['top_genres']"
   ]
  },
  {
   "cell_type": "code",
   "execution_count": 61,
   "id": "85fbbbda-9cd1-406f-ae5b-ebfc00c8bd16",
   "metadata": {},
   "outputs": [
    {
     "data": {
      "text/plain": "              datetime                  title  \\\n0  2022-02-26T19:00:00  Innings Festival 2022   \n1  2022-03-03T19:00:00                          \n2  2022-03-07T20:00:00                          \n3  2022-03-09T20:00:00                          \n4  2022-03-10T20:00:00                          \n\n                                              lineup festival_start_date  \\\n0  [Tame Impala, Foo Fighters, My Morning Jacket,...          2022-02-26   \n1  [Tame Impala, Pepper, Flying Lotus, Caribou, D...                       \n2                                      [Tame Impala]                       \n3                      [Tame Impala, Sudan Archives]                       \n4                                      [Tame Impala]                       \n\n  festival_end_date        city region        country    latitude  \\\n0        2022-02-27       Tempe     AZ  United States  33.4307373   \n1                    Okeechobee     FL  United States    27.35988   \n2                    Pittsburgh     PA  United States  40.4438281   \n3                       Toronto     ON         Canada   43.643466   \n4                         Laval     QC         Canada  45.5558363   \n\n             longitude        location                    name       artist  \\\n0  -111.94169360000001       Tempe, AZ   Innings Festival 2022  Tame Impala   \n1   -80.73357399999998  Okeechobee, FL     Sunshine Grove - FL  Tame Impala   \n2   -79.96228339999999  Pittsburgh, PA  Petersen Events Center  Tame Impala   \n3           -79.379142     Toronto, ON        Scotiabank Arena  Tame Impala   \n4          -73.7214777       Laval, QC              Place Bell  Tame Impala   \n\n                                    artist_topgenres  \n0  [indie rock, psychedelic rock, synthpop, neo-p...  \n1  [indie rock, psychedelic rock, synthpop, neo-p...  \n2  [indie rock, psychedelic rock, synthpop, neo-p...  \n3  [indie rock, psychedelic rock, synthpop, neo-p...  \n4  [indie rock, psychedelic rock, synthpop, neo-p...  ",
      "text/html": "<div>\n<style scoped>\n    .dataframe tbody tr th:only-of-type {\n        vertical-align: middle;\n    }\n\n    .dataframe tbody tr th {\n        vertical-align: top;\n    }\n\n    .dataframe thead th {\n        text-align: right;\n    }\n</style>\n<table border=\"1\" class=\"dataframe\">\n  <thead>\n    <tr style=\"text-align: right;\">\n      <th></th>\n      <th>datetime</th>\n      <th>title</th>\n      <th>lineup</th>\n      <th>festival_start_date</th>\n      <th>festival_end_date</th>\n      <th>city</th>\n      <th>region</th>\n      <th>country</th>\n      <th>latitude</th>\n      <th>longitude</th>\n      <th>location</th>\n      <th>name</th>\n      <th>artist</th>\n      <th>artist_topgenres</th>\n    </tr>\n  </thead>\n  <tbody>\n    <tr>\n      <th>0</th>\n      <td>2022-02-26T19:00:00</td>\n      <td>Innings Festival 2022</td>\n      <td>[Tame Impala, Foo Fighters, My Morning Jacket,...</td>\n      <td>2022-02-26</td>\n      <td>2022-02-27</td>\n      <td>Tempe</td>\n      <td>AZ</td>\n      <td>United States</td>\n      <td>33.4307373</td>\n      <td>-111.94169360000001</td>\n      <td>Tempe, AZ</td>\n      <td>Innings Festival 2022</td>\n      <td>Tame Impala</td>\n      <td>[indie rock, psychedelic rock, synthpop, neo-p...</td>\n    </tr>\n    <tr>\n      <th>1</th>\n      <td>2022-03-03T19:00:00</td>\n      <td></td>\n      <td>[Tame Impala, Pepper, Flying Lotus, Caribou, D...</td>\n      <td></td>\n      <td></td>\n      <td>Okeechobee</td>\n      <td>FL</td>\n      <td>United States</td>\n      <td>27.35988</td>\n      <td>-80.73357399999998</td>\n      <td>Okeechobee, FL</td>\n      <td>Sunshine Grove - FL</td>\n      <td>Tame Impala</td>\n      <td>[indie rock, psychedelic rock, synthpop, neo-p...</td>\n    </tr>\n    <tr>\n      <th>2</th>\n      <td>2022-03-07T20:00:00</td>\n      <td></td>\n      <td>[Tame Impala]</td>\n      <td></td>\n      <td></td>\n      <td>Pittsburgh</td>\n      <td>PA</td>\n      <td>United States</td>\n      <td>40.4438281</td>\n      <td>-79.96228339999999</td>\n      <td>Pittsburgh, PA</td>\n      <td>Petersen Events Center</td>\n      <td>Tame Impala</td>\n      <td>[indie rock, psychedelic rock, synthpop, neo-p...</td>\n    </tr>\n    <tr>\n      <th>3</th>\n      <td>2022-03-09T20:00:00</td>\n      <td></td>\n      <td>[Tame Impala, Sudan Archives]</td>\n      <td></td>\n      <td></td>\n      <td>Toronto</td>\n      <td>ON</td>\n      <td>Canada</td>\n      <td>43.643466</td>\n      <td>-79.379142</td>\n      <td>Toronto, ON</td>\n      <td>Scotiabank Arena</td>\n      <td>Tame Impala</td>\n      <td>[indie rock, psychedelic rock, synthpop, neo-p...</td>\n    </tr>\n    <tr>\n      <th>4</th>\n      <td>2022-03-10T20:00:00</td>\n      <td></td>\n      <td>[Tame Impala]</td>\n      <td></td>\n      <td></td>\n      <td>Laval</td>\n      <td>QC</td>\n      <td>Canada</td>\n      <td>45.5558363</td>\n      <td>-73.7214777</td>\n      <td>Laval, QC</td>\n      <td>Place Bell</td>\n      <td>Tame Impala</td>\n      <td>[indie rock, psychedelic rock, synthpop, neo-p...</td>\n    </tr>\n  </tbody>\n</table>\n</div>"
     },
     "execution_count": 61,
     "metadata": {},
     "output_type": "execute_result"
    }
   ],
   "source": [
    "test_df['artist'] = artist\n",
    "test_df['artist_topgenres'] = [top_gg for _ in range(len(test_df))]\n",
    "test_df.head()"
   ]
  },
  {
   "cell_type": "markdown",
   "id": "2ab4caa9-4bb1-4c5b-8488-b2b8ef65c7df",
   "metadata": {},
   "source": [
    "## Messy Workspace -- May not Run"
   ]
  },
  {
   "cell_type": "code",
   "execution_count": 37,
   "id": "c5bb464d-c881-49d5-83d2-21d24e17e04f",
   "metadata": {
    "tags": []
   },
   "outputs": [
    {
     "data": {
      "text/plain": "{'offers': [{'type': 'Tickets',\n   'url': 'https://www.bandsintown.com/t/1023669640?app_id=8a5eb4a34e1366162ba48546a8a63976&came_from=267&utm_medium=api&utm_source=public_api&utm_campaign=ticket',\n   'status': 'available'}],\n 'venue': {'country': 'United States',\n  'city': 'Pittsburgh',\n  'latitude': '40.4438281',\n  'name': 'Petersen Events Center',\n  'location': 'Pittsburgh, PA',\n  'region': 'PA',\n  'longitude': '-79.96228339999999'},\n 'festival_datetime_display_rule': '',\n 'description': 'Tame Impala',\n 'lineup': ['Tame Impala'],\n 'festival_start_date': '',\n 'bandsintown_plus': False,\n 'title': '',\n 'artist_id': '208845',\n 'url': 'https://www.bandsintown.com/e/1023669640?app_id=8a5eb4a34e1366162ba48546a8a63976&came_from=267&utm_medium=api&utm_source=public_api&utm_campaign=event',\n 'datetime': '2022-03-07T20:00:00',\n 'on_sale_datetime': '2021-12-10T10:00:00',\n 'id': '1023669640',\n 'festival_end_date': ''}"
     },
     "execution_count": 37,
     "metadata": {},
     "output_type": "execute_result"
    }
   ],
   "source": [
    "ej = r.json()\n",
    "ej[2]"
   ]
  },
  {
   "cell_type": "code",
   "execution_count": 38,
   "id": "8b835acd-ccac-4c96-a281-0d6510451e8e",
   "metadata": {},
   "outputs": [
    {
     "data": {
      "text/plain": "24"
     },
     "execution_count": 38,
     "metadata": {},
     "output_type": "execute_result"
    }
   ],
   "source": [
    "len(event_json)"
   ]
  },
  {
   "cell_type": "code",
   "execution_count": 39,
   "id": "02de8e44-617c-4215-ae76-710ac67407c9",
   "metadata": {
    "tags": []
   },
   "outputs": [],
   "source": [
    "#r.text"
   ]
  },
  {
   "cell_type": "code",
   "execution_count": 40,
   "id": "4f8c83e9-a728-4ba5-b8c9-abbbe011cb72",
   "metadata": {},
   "outputs": [
    {
     "data": {
      "text/plain": "15"
     },
     "execution_count": 40,
     "metadata": {},
     "output_type": "execute_result"
    }
   ],
   "source": [
    "len(ej[0])"
   ]
  },
  {
   "cell_type": "code",
   "execution_count": 41,
   "id": "09c3a67a-32ce-4b70-9e83-9753dab2c73f",
   "metadata": {},
   "outputs": [
    {
     "data": {
      "text/plain": "dict_keys(['offers', 'venue', 'artist', 'festival_datetime_display_rule', 'description', 'lineup', 'festival_start_date', 'bandsintown_plus', 'title', 'artist_id', 'url', 'datetime', 'on_sale_datetime', 'id', 'festival_end_date'])"
     },
     "execution_count": 41,
     "metadata": {},
     "output_type": "execute_result"
    }
   ],
   "source": [
    "ej[0].keys()"
   ]
  },
  {
   "cell_type": "code",
   "execution_count": 42,
   "id": "07ac0ee8-80be-49a2-a3ab-ce20398c4728",
   "metadata": {},
   "outputs": [
    {
     "data": {
      "text/plain": "['offers',\n 'venue',\n 'artist',\n 'festival_datetime_display_rule',\n 'description',\n 'lineup',\n 'festival_start_date',\n 'bandsintown_plus',\n 'title',\n 'artist_id',\n 'url',\n 'datetime',\n 'on_sale_datetime',\n 'id',\n 'festival_end_date']"
     },
     "execution_count": 42,
     "metadata": {},
     "output_type": "execute_result"
    }
   ],
   "source": [
    "list(ej[0].keys())"
   ]
  },
  {
   "cell_type": "code",
   "execution_count": 43,
   "id": "53146583-e11c-400f-ac54-49c1c11aab0e",
   "metadata": {},
   "outputs": [
    {
     "data": {
      "text/plain": "dict"
     },
     "execution_count": 43,
     "metadata": {},
     "output_type": "execute_result"
    }
   ],
   "source": [
    "type(ej[0])"
   ]
  },
  {
   "cell_type": "code",
   "execution_count": 44,
   "id": "077c0f79-81dd-47c4-97be-6c1b5502ee5b",
   "metadata": {},
   "outputs": [
    {
     "data": {
      "text/plain": "dict_values([[{'type': 'Tickets', 'url': 'https://www.bandsintown.com/t/1023143559?app_id=8a5eb4a34e1366162ba48546a8a63976&came_from=267&utm_medium=api&utm_source=public_api&utm_campaign=ticket', 'status': 'available'}], {'country': 'United States', 'city': 'Tempe', 'latitude': '33.4307373', 'name': 'Innings Festival 2022', 'location': 'Tempe, AZ', 'region': 'AZ', 'longitude': '-111.94169360000001'}, {'thumb_url': 'https://photos.bandsintown.com/thumb/9092561.jpeg', 'mbid': '63aa26c3-d59b-4da4-84ac-716b54f1ef4d', 'facebook_page_url': 'http://www.facebook.com/35478245776', 'image_url': 'https://photos.bandsintown.com/large/9092561.jpeg', 'tracker_count': 1668071.0, 'tracking': [], 'upcoming_event_count': 24.0, 'url': 'https://www.bandsintown.com/a/208845?came_from=267&app_id=8a5eb4a34e1366162ba48546a8a63976', 'support_url': '', 'name': 'Tame Impala', 'options': {'display_listen_unit': False}, 'links': [{'type': 'website', 'url': 'https://official.tameimpala.com/'}, {'type': 'facebook', 'url': 'https://www.facebook.com/tameimpala/'}, {'type': 'twitter', 'url': 'https://twitter.com/tameimpala'}, {'type': 'instagram', 'url': 'https://www.instagram.com/tame__impala/'}, {'type': 'youtube', 'url': 'https://www.youtube.com/user/tameimpalamusic/'}, {'type': 'vevo', 'url': 'https://www.youtube.com/user/tameimpalaVEVO/'}, {'type': 'spotify', 'url': 'https://open.spotify.com/artist/5INjqkS1o8h1imAzPqGZBb?si=uYzm0PS8R468EeTsQhAb-w'}, {'type': 'store/merch', 'url': 'https://us.tameimpala.com/collections/merch'}, {'type': 'musicbrainz', 'url': 'https://musicbrainz.org/artist/63aa26c3-d59b-4da4-84ac-716b54f1ef4d'}, {'type': 'wikipedia', 'url': 'https://en.wikipedia.org/wiki/Tame_Impala'}, {'type': 'allmusic', 'url': 'https://www.allmusic.com/artist/tame-impala-mn0002014409'}], 'id': '208845'}, 'range', '', ['Tame Impala', 'Foo Fighters', 'My Morning Jacket', 'St. Vincent', 'Dashboard Confessional', 'Sydney Sprague', 'the Tantrums', 'Nothing But Thieves', 'almost monday', 'Del Water Gap', 'Billy Strings', 'White Reaper', 'The DIP', 'Jade Bird', 'Matt and Kim', 'Caamp', 'Black Pumas'], '2022-02-26', False, 'Innings Festival 2022', '208845', 'https://www.bandsintown.com/e/1023143559?app_id=8a5eb4a34e1366162ba48546a8a63976&came_from=267&utm_medium=api&utm_source=public_api&utm_campaign=event', '2022-02-26T19:00:00', '2021-10-06T10:00:00', '1023143559', '2022-02-27'])"
     },
     "execution_count": 44,
     "metadata": {},
     "output_type": "execute_result"
    }
   ],
   "source": [
    "ej[0].values()"
   ]
  },
  {
   "cell_type": "code",
   "execution_count": 45,
   "id": "1f65589a-7863-47f3-ba0e-d552395102d5",
   "metadata": {},
   "outputs": [
    {
     "name": "stdout",
     "output_type": "stream",
     "text": [
      "{'country': 'United States', 'city': 'Tempe', 'latitude': '33.4307373', 'name': 'Innings Festival 2022', 'location': 'Tempe, AZ', 'region': 'AZ', 'longitude': '-111.94169360000001'}\n"
     ]
    },
    {
     "data": {
      "text/plain": "dict"
     },
     "execution_count": 45,
     "metadata": {},
     "output_type": "execute_result"
    }
   ],
   "source": [
    "v = ej[0].get('venue')\n",
    "print(v)\n",
    "type(v)"
   ]
  },
  {
   "cell_type": "code",
   "execution_count": 46,
   "id": "528d7460-796b-43e0-bdeb-f50ea5c5f80a",
   "metadata": {},
   "outputs": [
    {
     "data": {
      "text/plain": "'United States'"
     },
     "execution_count": 46,
     "metadata": {},
     "output_type": "execute_result"
    }
   ],
   "source": [
    "v.get('country')"
   ]
  },
  {
   "cell_type": "code",
   "execution_count": 47,
   "outputs": [
    {
     "name": "stdout",
     "output_type": "stream",
     "text": [
      "offers  : \n",
      " [{'type': 'Tickets', 'url': 'https://www.bandsintown.com/t/1023143559?app_id=8a5eb4a34e1366162ba48546a8a63976&came_from=267&utm_medium=api&utm_source=public_api&utm_campaign=ticket', 'status': 'available'}] \n",
      "\n",
      "venue  : \n",
      " {'country': 'United States', 'city': 'Tempe', 'latitude': '33.4307373', 'name': 'Innings Festival 2022', 'location': 'Tempe, AZ', 'region': 'AZ', 'longitude': '-111.94169360000001'} \n",
      "\n",
      "artist  : \n",
      " {'thumb_url': 'https://photos.bandsintown.com/thumb/9092561.jpeg', 'mbid': '63aa26c3-d59b-4da4-84ac-716b54f1ef4d', 'facebook_page_url': 'http://www.facebook.com/35478245776', 'image_url': 'https://photos.bandsintown.com/large/9092561.jpeg', 'tracker_count': 1668071.0, 'tracking': [], 'upcoming_event_count': 24.0, 'url': 'https://www.bandsintown.com/a/208845?came_from=267&app_id=8a5eb4a34e1366162ba48546a8a63976', 'support_url': '', 'name': 'Tame Impala', 'options': {'display_listen_unit': False}, 'links': [{'type': 'website', 'url': 'https://official.tameimpala.com/'}, {'type': 'facebook', 'url': 'https://www.facebook.com/tameimpala/'}, {'type': 'twitter', 'url': 'https://twitter.com/tameimpala'}, {'type': 'instagram', 'url': 'https://www.instagram.com/tame__impala/'}, {'type': 'youtube', 'url': 'https://www.youtube.com/user/tameimpalamusic/'}, {'type': 'vevo', 'url': 'https://www.youtube.com/user/tameimpalaVEVO/'}, {'type': 'spotify', 'url': 'https://open.spotify.com/artist/5INjqkS1o8h1imAzPqGZBb?si=uYzm0PS8R468EeTsQhAb-w'}, {'type': 'store/merch', 'url': 'https://us.tameimpala.com/collections/merch'}, {'type': 'musicbrainz', 'url': 'https://musicbrainz.org/artist/63aa26c3-d59b-4da4-84ac-716b54f1ef4d'}, {'type': 'wikipedia', 'url': 'https://en.wikipedia.org/wiki/Tame_Impala'}, {'type': 'allmusic', 'url': 'https://www.allmusic.com/artist/tame-impala-mn0002014409'}], 'id': '208845'} \n",
      "\n",
      "festival_datetime_display_rule  : \n",
      " range \n",
      "\n",
      "description  : \n",
      "  \n",
      "\n",
      "lineup  : \n",
      " ['Tame Impala', 'Foo Fighters', 'My Morning Jacket', 'St. Vincent', 'Dashboard Confessional', 'Sydney Sprague', 'the Tantrums', 'Nothing But Thieves', 'almost monday', 'Del Water Gap', 'Billy Strings', 'White Reaper', 'The DIP', 'Jade Bird', 'Matt and Kim', 'Caamp', 'Black Pumas'] \n",
      "\n",
      "festival_start_date  : \n",
      " 2022-02-26 \n",
      "\n",
      "bandsintown_plus  : \n",
      " False \n",
      "\n",
      "title  : \n",
      " Innings Festival 2022 \n",
      "\n",
      "artist_id  : \n",
      " 208845 \n",
      "\n",
      "url  : \n",
      " https://www.bandsintown.com/e/1023143559?app_id=8a5eb4a34e1366162ba48546a8a63976&came_from=267&utm_medium=api&utm_source=public_api&utm_campaign=event \n",
      "\n",
      "datetime  : \n",
      " 2022-02-26T19:00:00 \n",
      "\n",
      "on_sale_datetime  : \n",
      " 2021-10-06T10:00:00 \n",
      "\n",
      "id  : \n",
      " 1023143559 \n",
      "\n",
      "festival_end_date  : \n",
      " 2022-02-27 \n",
      "\n"
     ]
    }
   ],
   "source": [
    "for key in list(ej[0].keys()):\n",
    "    print(key, \" : \\n\", ej[0].get(key), \"\\n\")"
   ],
   "metadata": {
    "collapsed": false,
    "pycharm": {
     "name": "#%%\n"
    }
   }
  },
  {
   "cell_type": "code",
   "execution_count": 47,
   "id": "a497fe4d-7e00-4168-9cae-5642aee4bf3b",
   "metadata": {},
   "outputs": [],
   "source": []
  }
 ],
 "metadata": {
  "kernelspec": {
   "display_name": "Python 3 (ipykernel)",
   "language": "python",
   "name": "python3"
  },
  "language_info": {
   "codemirror_mode": {
    "name": "ipython",
    "version": 3
   },
   "file_extension": ".py",
   "mimetype": "text/x-python",
   "name": "python",
   "nbconvert_exporter": "python",
   "pygments_lexer": "ipython3",
   "version": "3.9.9"
  }
 },
 "nbformat": 4,
 "nbformat_minor": 5
}