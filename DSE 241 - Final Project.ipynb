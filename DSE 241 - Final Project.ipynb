{
 "cells": [
  {
   "cell_type": "markdown",
   "id": "c24686ae-41b8-425f-9b4c-e89f2bb7d0fe",
   "metadata": {},
   "source": [
    "# DSE 241 - Final Project\n",
    "# Rock & Fucking Roll"
   ]
  },
  {
   "cell_type": "markdown",
   "id": "327b5618-f4aa-4529-aca3-7a2b127f8e82",
   "metadata": {},
   "source": [
    "## Requirements"
   ]
  },
  {
   "cell_type": "code",
   "execution_count": 16,
   "id": "884c0faa-1277-4c81-8a8c-e6bb3a174a06",
   "metadata": {},
   "outputs": [],
   "source": [
    "import requests\n",
    "import pandas as pd\n",
    "import numpy as np\n",
    "import datetime"
   ]
  },
  {
   "cell_type": "markdown",
   "id": "9c4d8ef3-b428-4371-9963-31ea48652a8e",
   "metadata": {},
   "source": [
    "## Functions"
   ]
  },
  {
   "cell_type": "code",
   "execution_count": 17,
   "id": "ee028625-22a0-4cca-8f3b-687cfbef1827",
   "metadata": {},
   "outputs": [],
   "source": [
    "def read_api_key(file_name):\n",
    "    f = open(file_name, 'r')\n",
    "    key = f.read()\n",
    "    f.close()\n",
    "    return key\n",
    "\n",
    "def getgenre_artist(string):\n",
    "    ## lower case\n",
    "    ## replace \" \" with \"_\"\n",
    "    artist = string.replace(' ','_').lower()\n",
    "    return artist\n",
    "\n",
    "def bands_artist(string):\n",
    "    ## url-ify artist names\n",
    "    ## replaces \" \" with \"%20\"\n",
    "    artist = string.replace(' ',r'%20')\n",
    "    return artist\n",
    "    \n",
    "    \n",
    "def parse_events(event_json):\n",
    "    ### defined to help parse the JSON of individual events returned by Bandintown API ###\n",
    "    ### this will pull out the keys and values for the event object ###\n",
    "    ### the end result is a list that can be entered as a row to a Pandas dataframe ###\n",
    "    \n",
    "    ### TODO: determine if the output is better in Pandas or Numpy ###\n",
    "    ### TODO: define event_json object ###\n",
    "    \n",
    "    events_data = []\n",
    "    num_of_events = len(event_json) # event json has an entry for each event ## each event has lots of other nested data\n",
    "\n",
    "    keys_of_interest = [\n",
    "            'datetime' # date-time of the event\n",
    "            , 'title'  # name of the event  ## may need to create a condition to check if exists and set to null if missing\n",
    "            , 'lineup' # list of strings containing names of artists  ## may leave as a nested list in data frame to avoid sparseness  ### list may be ordered in terms of headliners (??)\n",
    "            , 'festival_start_date' # date festival starts  ### may be a useful indicator that the artist is performing at a festival-event, need to test this for reliability\n",
    "            , 'festival_end_date'   # date festival ends, will differ from start date on multi-day events (may not exist on single day events)\n",
    "            , 'venue'  # this is a nested dictionary, will need to tease this one out to flatten the data\n",
    "    ]\n",
    "\n",
    "    venue_keys_of_interest = [\n",
    "             'city'        # city name, string\n",
    "            , 'region'     # state-level, string\n",
    "            , 'country'    # country name, string\n",
    "            , 'latitude'   # coordinate data, float\n",
    "            , 'longitude'  # coordinate data, float\n",
    "            , 'location'   # arbitrary string describing geolocation  ## consider not including\n",
    "            , 'name'       # arbitrary string describing venue name, could be misleading since some venues are at locations, but given festival name  ## consider not including\n",
    "    ]\n",
    "\n",
    "    for i in range(num_of_events):\n",
    "        event = event_json[i]\n",
    "        event_list = []\n",
    "\n",
    "        for key in keys_of_interest:\n",
    "            value = event.get(key)\n",
    "            if key == 'venue':\n",
    "                for venue_key in venue_keys_of_interest:\n",
    "                    venue_value = value.get(venue_key)\n",
    "                    event_list.append(venue_value)\n",
    "            else:\n",
    "                event_list.append(value)\n",
    "\n",
    "        events_data.append(event_list)\n",
    "\n",
    "\n",
    "    cols = keys_of_interest[:-1] + venue_keys_of_interest\n",
    "    events_df = pd.DataFrame(events_data, columns=cols)\n",
    "    events_df['artist'] = artist\n",
    "    return events_df\n",
    "\n",
    "def get_locations(df, latitude_column='latitude', longitude_column='longitude'):\n",
    "    new_df = df.copy()\n",
    "    geolocator = Nominatim(user_agent=\"rg_agent\")\n",
    "    reverse_geocode = RateLimiter(geolocator.reverse, min_delay_seconds=1)\n",
    "    for index, row in new_df.iterrows():\n",
    "        lookup = reverse_geocode((row[latitude_column],row[longitude_column]), language='en')\n",
    "        try:\n",
    "            new_df.loc[index,'city'] = lookup.raw['address']['city']\n",
    "        except:\n",
    "            continue\n",
    "        try:\n",
    "            new_df.loc[index,'region'] = lookup.raw['address']['state']\n",
    "        except:\n",
    "            continue\n",
    "        try:\n",
    "            new_df.loc[index,'country'] = lookup.raw['address']['country']\n",
    "        except:\n",
    "            continue\n",
    "\n",
    "    return new_df"
   ]
  },
  {
   "cell_type": "markdown",
   "id": "26325d4d-c8ee-4369-a568-d2e19ec91cf7",
   "metadata": {},
   "source": [
    "## Key Inputs"
   ]
  },
  {
   "cell_type": "code",
   "execution_count": 18,
   "id": "370a4474-931c-45d8-8c47-bef55969c386",
   "metadata": {},
   "outputs": [],
   "source": [
    "artist = 'Tame Impala'\n",
    "\n",
    "bands_key = read_api_key('bands_api_key.txt') ## shhhh... its a secret\n",
    "\n",
    "analysis_level = 1\n",
    "gg_artist = getgenre_artist(artist)\n",
    "bands_artist = bands_artist(artist)\n",
    "getgenre_api_url = r'https://api.getgenre.com/search?artist_name={}&analysis={}'.format(gg_artist, analysis_level)\n",
    "bands_api_url = r'https://rest.bandsintown.com/artists/{}/events/?app_id={}'.format(bands_artist, bands_key)\n",
    "bands_api_url_past = r'https://rest.bandsintown.com/artists/{}/events/?app_id={}&date=past'.format(bands_artist, bands_key)"
   ]
  },
  {
   "cell_type": "code",
   "execution_count": 19,
   "id": "00e0146d-d8b1-4b4c-affc-d7919dcfee18",
   "metadata": {},
   "outputs": [],
   "source": [
    "# gg_artist"
   ]
  },
  {
   "cell_type": "code",
   "execution_count": 20,
   "id": "6cfcea8e-b4d7-468e-bf0a-5f254e9e5109",
   "metadata": {},
   "outputs": [],
   "source": [
    "# bands_artist"
   ]
  },
  {
   "cell_type": "markdown",
   "id": "452b9e2b-cc0d-4645-b79d-87f97b2a4513",
   "metadata": {},
   "source": [
    "## Working Code\n",
    "### Let's Go"
   ]
  },
  {
   "cell_type": "code",
   "execution_count": 21,
   "id": "9bfa7535-fa5b-4583-87e3-b08e47370a8f",
   "metadata": {
    "tags": []
   },
   "outputs": [
    {
     "name": "stdout",
     "output_type": "stream",
     "text": [
      "(319, 13)\n"
     ]
    },
    {
     "data": {
      "text/plain": "              datetime title  \\\n0  2013-04-14T10:08:00         \n1  2013-04-19T19:00:00         \n2  2013-04-21T10:26:00         \n3  2013-04-26T20:00:00         \n4  2013-05-02T19:30:00         \n\n                                              lineup festival_start_date  \\\n0  [Tame Impala, The Airborne Toxic Event, Eric P...                       \n1  [Tame Impala, Mona, Alt-J, Social Distortion, ...                       \n2  [Tame Impala, Vampire Weekend, Ladies Night, M...                       \n3                [Tame Impala, Midnight Juggernauts]                       \n4                                      [Tame Impala]                       \n\n  festival_end_date            city region        country    latitude  \\\n0                             Indio     CA  United States  33.7205556   \n1                             Indio     CA  United States  33.6784492   \n2                             Indio     CA  United States  33.7205556   \n3                    West Melbourne             Australia   -37.81126   \n4                            Sydney             Australia  -33.889832   \n\n      longitude location                     name       artist  \n0  -116.2147222                 Empire Polo Field  Tame Impala  \n1   -116.237155                  Empire Polo Club  Tame Impala  \n2  -116.2147222                 Empire Polo Field  Tame Impala  \n3    144.946442           Festival Hall Melbourne  Tame Impala  \n4    151.223348                  Hordern Pavilion  Tame Impala  ",
      "text/html": "<div>\n<style scoped>\n    .dataframe tbody tr th:only-of-type {\n        vertical-align: middle;\n    }\n\n    .dataframe tbody tr th {\n        vertical-align: top;\n    }\n\n    .dataframe thead th {\n        text-align: right;\n    }\n</style>\n<table border=\"1\" class=\"dataframe\">\n  <thead>\n    <tr style=\"text-align: right;\">\n      <th></th>\n      <th>datetime</th>\n      <th>title</th>\n      <th>lineup</th>\n      <th>festival_start_date</th>\n      <th>festival_end_date</th>\n      <th>city</th>\n      <th>region</th>\n      <th>country</th>\n      <th>latitude</th>\n      <th>longitude</th>\n      <th>location</th>\n      <th>name</th>\n      <th>artist</th>\n    </tr>\n  </thead>\n  <tbody>\n    <tr>\n      <th>0</th>\n      <td>2013-04-14T10:08:00</td>\n      <td></td>\n      <td>[Tame Impala, The Airborne Toxic Event, Eric P...</td>\n      <td></td>\n      <td></td>\n      <td>Indio</td>\n      <td>CA</td>\n      <td>United States</td>\n      <td>33.7205556</td>\n      <td>-116.2147222</td>\n      <td></td>\n      <td>Empire Polo Field</td>\n      <td>Tame Impala</td>\n    </tr>\n    <tr>\n      <th>1</th>\n      <td>2013-04-19T19:00:00</td>\n      <td></td>\n      <td>[Tame Impala, Mona, Alt-J, Social Distortion, ...</td>\n      <td></td>\n      <td></td>\n      <td>Indio</td>\n      <td>CA</td>\n      <td>United States</td>\n      <td>33.6784492</td>\n      <td>-116.237155</td>\n      <td></td>\n      <td>Empire Polo Club</td>\n      <td>Tame Impala</td>\n    </tr>\n    <tr>\n      <th>2</th>\n      <td>2013-04-21T10:26:00</td>\n      <td></td>\n      <td>[Tame Impala, Vampire Weekend, Ladies Night, M...</td>\n      <td></td>\n      <td></td>\n      <td>Indio</td>\n      <td>CA</td>\n      <td>United States</td>\n      <td>33.7205556</td>\n      <td>-116.2147222</td>\n      <td></td>\n      <td>Empire Polo Field</td>\n      <td>Tame Impala</td>\n    </tr>\n    <tr>\n      <th>3</th>\n      <td>2013-04-26T20:00:00</td>\n      <td></td>\n      <td>[Tame Impala, Midnight Juggernauts]</td>\n      <td></td>\n      <td></td>\n      <td>West Melbourne</td>\n      <td></td>\n      <td>Australia</td>\n      <td>-37.81126</td>\n      <td>144.946442</td>\n      <td></td>\n      <td>Festival Hall Melbourne</td>\n      <td>Tame Impala</td>\n    </tr>\n    <tr>\n      <th>4</th>\n      <td>2013-05-02T19:30:00</td>\n      <td></td>\n      <td>[Tame Impala]</td>\n      <td></td>\n      <td></td>\n      <td>Sydney</td>\n      <td></td>\n      <td>Australia</td>\n      <td>-33.889832</td>\n      <td>151.223348</td>\n      <td></td>\n      <td>Hordern Pavilion</td>\n      <td>Tame Impala</td>\n    </tr>\n  </tbody>\n</table>\n</div>"
     },
     "execution_count": 21,
     "metadata": {},
     "output_type": "execute_result"
    }
   ],
   "source": [
    "# data extract\n",
    "r = requests.get(bands_api_url_past)\n",
    "event_json = r.json()\n",
    "\n",
    "test_df = parse_events(event_json)\n",
    "print(test_df.shape)\n",
    "test_df.head()"
   ]
  },
  {
   "cell_type": "code",
   "execution_count": 22,
   "id": "ca1c09ba-03ed-457d-8f95-b574d2756d55",
   "metadata": {},
   "outputs": [],
   "source": [
    "# data extract\n",
    "r_gg = requests.get(getgenre_api_url)\n",
    "\n",
    "genre_json = r_gg.json()\n",
    "top_gg = genre_json['analysis']['top_genres']"
   ]
  },
  {
   "cell_type": "code",
   "execution_count": 23,
   "outputs": [],
   "source": [
    "# feature extraction\n",
    "test_df['artist'] = artist\n",
    "test_df['artist_topgenres'] = [top_gg for _ in range(len(test_df))]\n",
    "\n",
    "test_df['lineup_size'] = test_df['lineup'].str.len()\n",
    "test_df['festival_flag'] = np.where(test_df['lineup'].str.len() > 5, 'Festival', 'Concert')\n",
    "test_df['festival_flag'] = test_df['festival_flag'].astype(str)\n",
    "\n",
    "test_df['show_date'] = True"
   ],
   "metadata": {
    "collapsed": false,
    "pycharm": {
     "name": "#%%\n"
    }
   }
  },
  {
   "cell_type": "code",
   "execution_count": 24,
   "outputs": [
    {
     "name": "stdout",
     "output_type": "stream",
     "text": [
      "(319, 17)\n",
      "(317, 17)\n"
     ]
    }
   ],
   "source": [
    "# data cleanup\n",
    "print(test_df.shape)\n",
    "test_df = test_df[(test_df['latitude'].notna()) & (test_df['longitude'].notna())]\n",
    "print(test_df.shape)\n",
    "test_df['latitude'] = pd.to_numeric(test_df['latitude'])\n",
    "test_df['longitude'] = pd.to_numeric((test_df['longitude']))\n",
    "\n",
    "test_df['datetime'] = test_df['datetime'].str[:10]"
   ],
   "metadata": {
    "collapsed": false,
    "pycharm": {
     "name": "#%%\n"
    }
   }
  },
  {
   "cell_type": "code",
   "execution_count": 25,
   "outputs": [],
   "source": [
    "# data cleanup\n",
    "#test_df = get_locations(test_df)  ## disabling for now due to run time"
   ],
   "metadata": {
    "collapsed": false,
    "pycharm": {
     "name": "#%%\n"
    }
   }
  },
  {
   "cell_type": "code",
   "execution_count": 26,
   "outputs": [
    {
     "data": {
      "text/plain": "     datetime title                                             lineup  \\\n0  2013-04-14        [Tame Impala, The Airborne Toxic Event, Eric P...   \n1  2013-04-19        [Tame Impala, Mona, Alt-J, Social Distortion, ...   \n2  2013-04-21        [Tame Impala, Vampire Weekend, Ladies Night, M...   \n3  2013-04-26                      [Tame Impala, Midnight Juggernauts]   \n4  2013-05-02                                            [Tame Impala]   \n\n  festival_start_date festival_end_date            city region        country  \\\n0                                                 Indio     CA  United States   \n1                                                 Indio     CA  United States   \n2                                                 Indio     CA  United States   \n3                                        West Melbourne             Australia   \n4                                                Sydney             Australia   \n\n    latitude   longitude location                     name       artist  \\\n0  33.720556 -116.214722                 Empire Polo Field  Tame Impala   \n1  33.678449 -116.237155                  Empire Polo Club  Tame Impala   \n2  33.720556 -116.214722                 Empire Polo Field  Tame Impala   \n3 -37.811260  144.946442           Festival Hall Melbourne  Tame Impala   \n4 -33.889832  151.223348                  Hordern Pavilion  Tame Impala   \n\n                                    artist_topgenres  lineup_size  \\\n0  [indie rock, psychedelic pop, psychedelic rock...           38   \n1  [indie rock, psychedelic pop, psychedelic rock...           95   \n2  [indie rock, psychedelic pop, psychedelic rock...           42   \n3  [indie rock, psychedelic pop, psychedelic rock...            2   \n4  [indie rock, psychedelic pop, psychedelic rock...            1   \n\n  festival_flag  show_date  \n0      Festival       True  \n1      Festival       True  \n2      Festival       True  \n3       Concert       True  \n4       Concert       True  ",
      "text/html": "<div>\n<style scoped>\n    .dataframe tbody tr th:only-of-type {\n        vertical-align: middle;\n    }\n\n    .dataframe tbody tr th {\n        vertical-align: top;\n    }\n\n    .dataframe thead th {\n        text-align: right;\n    }\n</style>\n<table border=\"1\" class=\"dataframe\">\n  <thead>\n    <tr style=\"text-align: right;\">\n      <th></th>\n      <th>datetime</th>\n      <th>title</th>\n      <th>lineup</th>\n      <th>festival_start_date</th>\n      <th>festival_end_date</th>\n      <th>city</th>\n      <th>region</th>\n      <th>country</th>\n      <th>latitude</th>\n      <th>longitude</th>\n      <th>location</th>\n      <th>name</th>\n      <th>artist</th>\n      <th>artist_topgenres</th>\n      <th>lineup_size</th>\n      <th>festival_flag</th>\n      <th>show_date</th>\n    </tr>\n  </thead>\n  <tbody>\n    <tr>\n      <th>0</th>\n      <td>2013-04-14</td>\n      <td></td>\n      <td>[Tame Impala, The Airborne Toxic Event, Eric P...</td>\n      <td></td>\n      <td></td>\n      <td>Indio</td>\n      <td>CA</td>\n      <td>United States</td>\n      <td>33.720556</td>\n      <td>-116.214722</td>\n      <td></td>\n      <td>Empire Polo Field</td>\n      <td>Tame Impala</td>\n      <td>[indie rock, psychedelic pop, psychedelic rock...</td>\n      <td>38</td>\n      <td>Festival</td>\n      <td>True</td>\n    </tr>\n    <tr>\n      <th>1</th>\n      <td>2013-04-19</td>\n      <td></td>\n      <td>[Tame Impala, Mona, Alt-J, Social Distortion, ...</td>\n      <td></td>\n      <td></td>\n      <td>Indio</td>\n      <td>CA</td>\n      <td>United States</td>\n      <td>33.678449</td>\n      <td>-116.237155</td>\n      <td></td>\n      <td>Empire Polo Club</td>\n      <td>Tame Impala</td>\n      <td>[indie rock, psychedelic pop, psychedelic rock...</td>\n      <td>95</td>\n      <td>Festival</td>\n      <td>True</td>\n    </tr>\n    <tr>\n      <th>2</th>\n      <td>2013-04-21</td>\n      <td></td>\n      <td>[Tame Impala, Vampire Weekend, Ladies Night, M...</td>\n      <td></td>\n      <td></td>\n      <td>Indio</td>\n      <td>CA</td>\n      <td>United States</td>\n      <td>33.720556</td>\n      <td>-116.214722</td>\n      <td></td>\n      <td>Empire Polo Field</td>\n      <td>Tame Impala</td>\n      <td>[indie rock, psychedelic pop, psychedelic rock...</td>\n      <td>42</td>\n      <td>Festival</td>\n      <td>True</td>\n    </tr>\n    <tr>\n      <th>3</th>\n      <td>2013-04-26</td>\n      <td></td>\n      <td>[Tame Impala, Midnight Juggernauts]</td>\n      <td></td>\n      <td></td>\n      <td>West Melbourne</td>\n      <td></td>\n      <td>Australia</td>\n      <td>-37.811260</td>\n      <td>144.946442</td>\n      <td></td>\n      <td>Festival Hall Melbourne</td>\n      <td>Tame Impala</td>\n      <td>[indie rock, psychedelic pop, psychedelic rock...</td>\n      <td>2</td>\n      <td>Concert</td>\n      <td>True</td>\n    </tr>\n    <tr>\n      <th>4</th>\n      <td>2013-05-02</td>\n      <td></td>\n      <td>[Tame Impala]</td>\n      <td></td>\n      <td></td>\n      <td>Sydney</td>\n      <td></td>\n      <td>Australia</td>\n      <td>-33.889832</td>\n      <td>151.223348</td>\n      <td></td>\n      <td>Hordern Pavilion</td>\n      <td>Tame Impala</td>\n      <td>[indie rock, psychedelic pop, psychedelic rock...</td>\n      <td>1</td>\n      <td>Concert</td>\n      <td>True</td>\n    </tr>\n  </tbody>\n</table>\n</div>"
     },
     "execution_count": 26,
     "metadata": {},
     "output_type": "execute_result"
    }
   ],
   "source": [
    "test_df.head()"
   ],
   "metadata": {
    "collapsed": false,
    "pycharm": {
     "name": "#%%\n"
    }
   }
  },
  {
   "cell_type": "code",
   "execution_count": 27,
   "outputs": [],
   "source": [
    "from bokeh.plotting import figure, output_file, show\n",
    "from bokeh.tile_providers import get_provider, OSM #CARTODBPOSITRON_RETINA, WIKIMEDIA, ESRI_IMAGERY, STAMEN_TONER,\n",
    "from bokeh.models import ColumnDataSource, CDSView, BooleanFilter, CustomJS\n",
    "from bokeh.layouts import layout\n",
    "from bokeh.models import DateRangeSlider\n",
    "from pyproj import Transformer\n",
    "#import xyzservices.providers as xyz\n",
    "\n",
    "# data transformation\n",
    "in_crs = 4326   # coordinates provided in EPSG:4326 format\n",
    "out_crs = 3857   # coordinates output in EPSG 3857 (Web Mercator) format\n",
    "\n",
    "transformer = Transformer.from_crs(in_crs, out_crs, always_xy=True)\n",
    "\n",
    "lons, lats = [], []\n",
    "for lon, lat in list(zip(test_df['longitude'], test_df['latitude'])):\n",
    "    x, y = transformer.transform(lon,lat)\n",
    "    lons.append(x)\n",
    "    lats.append(y)\n",
    "\n",
    "test_df['MercatorX'] = lons\n",
    "test_df['MercatorY'] = lats\n",
    "\n",
    "\n",
    "\n",
    "# visualization\n",
    "output_file(\"tile.html\")\n",
    "\n",
    "tile_provider = get_provider(OSM)\n",
    "tools = ['pan', 'zoom_in', 'zoom_out', 'wheel_zoom', 'box_zoom', 'lasso_select', 'tap', 'hover', 'reset', 'save']\n",
    "\n",
    "tooltips = [\n",
    "    (\"Date\", '@datetime'),\n",
    "    ('Location: ', '@city, @region'),\n",
    "    ('Country: ', '@country'),\n",
    "    ('Event Type: ', '@festival_flag'),\n",
    "    ('Lineup: ', '@lineup'),\n",
    "]\n",
    "\n",
    "source = ColumnDataSource(test_df)\n",
    "source2 = ColumnDataSource(test_df)\n",
    "\n",
    "show_dat = source.data['show_date']\n",
    "\n",
    "view = CDSView(source=source, filters=[BooleanFilter(show_dat)])\n",
    "\n",
    "date_start = test_df['datetime'].min()\n",
    "date_end = test_df['datetime'].max()\n",
    "\n",
    "# range bounds supplied in web mercator coordinates\n",
    "p = figure(x_range=(-18000000, 20000000), y_range=(-7500000, 11500000),\n",
    "           #x_axis_type='mercator', y_axis_type='mercator',\n",
    "           height=700, width=1500,\n",
    "           tools=tools, tooltips=tooltips, active_scroll='wheel_zoom')\n",
    "p.add_tile(tile_provider)\n",
    "p.circle(x='MercatorX', y='MercatorY', size=6, fill_color='dodgerblue', line_color='dodgerblue', fill_alpha=.3, source=source, view=view)\n",
    "\n",
    "# callback = CustomJS(args=dict(source=source, ref_source=source2), code=\"\"\"\n",
    "#     // print out array of date from, date to\n",
    "#     console.log(cb_obj.value);\n",
    "#\n",
    "#     // dates returned from slider are not at round intervals and include time;\n",
    "#     const date_from = Date.parse(new Date(cb_obj.value[0]).toDateString());\n",
    "#     const date_to = Date.parse(new Date(cb_obj.value[1]).toDateString());\n",
    "#     console.log(date_from, date_to)\n",
    "#\n",
    "#     // Creating the Data Sources\n",
    "#     const data = source.data;\n",
    "#     const ref = ref_source.data;\n",
    "#\n",
    "#     // Creating new Array and appending correctly parsed dates\n",
    "#     let new_ref = []\n",
    "#     ref[\"DateTime\"].forEach(elem => {\n",
    "#         elem = Date.parse(new Date(elem).toDateString());\n",
    "#         new_ref.push(elem);\n",
    "#         console.log(elem);\n",
    "#     })\n",
    "#\n",
    "#     // Creating Indices with new Array\n",
    "#     const from_pos = new_ref.indexOf(date_from);\n",
    "#     const to_pos = new_ref.indexOf(date_to);\n",
    "#\n",
    "#\n",
    "#     // re-create the source data from \"reference\"\n",
    "#     data[\"datetime\"] = ref[\"datetime\"].slice(from_pos, to_pos);\n",
    "#     source.change.emit();\n",
    "#     \"\"\")\n",
    "#\n",
    "# date_slider = DateRangeSlider(\n",
    "#     title=\" Adjust Date range\",\n",
    "#     start=min(test_df['datetime']),\n",
    "#     end=max(test_df['datetime']),\n",
    "#     step=100,\n",
    "#     value=(\n",
    "#         min(test_df['datetime']), max(test_df['datetime'])\n",
    "#     )\n",
    "# )\n",
    "\n",
    "#date_slider.js_link(\"value\", p.x_range, \"start\", attr_selector=0)\n",
    "#date_slider.js_link(\"value\", p.x_range, \"end\", attr_selector=1)\n",
    "\n",
    "#date_slider.js_on_change('value', callback)\n",
    "\n",
    "# def update_plot(attr, old, new):\n",
    "#      datesel = datetime.fromtimestamp(new / 1000).strftime('%Y-%m-%d')\n",
    "#      new_data = test_df[test_df['date'] == datesel]\n",
    "#      source.data.update(ColumnDataSource(new_data).data)\n",
    "# date_slider.js_on_change('value', update_plot)\n",
    "\n",
    "#https://data-dive.com/cologne-bike-rentals-interactive-map-bokeh-dynamic-choropleth\n",
    "#https://stackoverflow.com/questions/55742220/converting-python-callback-function-to-javascript\n",
    "\n",
    "# def update(source=source, slider=date_slider, window=None):\n",
    "#     data=source.data\n",
    "#     v_start = cb_obj.get('value')[0]\n",
    "#     v_end = cb_obj.get('value')[1]\n",
    "#     mask = np.logical_and(data['datetime'] > v_start, data['datetime'] < v_end)\n",
    "#     source.data['show_date'] = mask\n",
    "#     source.trigger('change')\n",
    "\n",
    "#date_slider.js_on_change('value', CustomJS.from_py_func(update))\n",
    "\n",
    "#layout = layout([date_slider], [p])\n",
    "#show(layout)\n",
    "show(p)"
   ],
   "metadata": {
    "collapsed": false,
    "pycharm": {
     "name": "#%%\n"
    }
   }
  },
  {
   "cell_type": "markdown",
   "source": [
    "## Messy Workspace -- May not Run"
   ],
   "metadata": {
    "collapsed": false,
    "pycharm": {
     "name": "#%% md\n"
    }
   }
  },
  {
   "cell_type": "code",
   "execution_count": 28,
   "outputs": [
    {
     "data": {
      "text/plain": "{'index': array([  0,   1,   2,   3,   4,   5,   6,   7,   8,   9,  10,  11,  12,\n         13,  14,  15,  16,  17,  18,  19,  20,  21,  22,  23,  24,  25,\n         26,  27,  28,  29,  30,  31,  32,  33,  34,  35,  36,  37,  38,\n         39,  40,  41,  42,  43,  44,  45,  46,  47,  48,  49,  50,  51,\n         52,  53,  54,  55,  56,  57,  58,  59,  60,  61,  62,  63,  64,\n         65,  66,  67,  68,  69,  70,  71,  72,  73,  74,  75,  76,  77,\n         78,  79,  80,  81,  82,  83,  84,  85,  86,  87,  88,  89,  90,\n         91,  92,  93,  94,  95,  96,  97,  98,  99, 100, 101, 102, 103,\n        104, 105, 106, 107, 108, 109, 110, 111, 112, 113, 114, 115, 116,\n        117, 118, 119, 120, 121, 122, 123, 124, 125, 126, 127, 128, 129,\n        130, 131, 132, 133, 134, 135, 136, 137, 138, 139, 140, 141, 142,\n        143, 144, 145, 146, 147, 148, 149, 150, 151, 152, 153, 154, 155,\n        156, 157, 158, 159, 160, 161, 162, 163, 164, 165, 166, 167, 168,\n        169, 170, 171, 172, 173, 174, 175, 176, 177, 178, 179, 180, 181,\n        182, 183, 184, 185, 186, 187, 188, 189, 190, 191, 192, 193, 194,\n        195, 196, 197, 198, 199, 200, 201, 202, 203, 204, 205, 206, 207,\n        208, 209, 210, 211, 212, 213, 214, 215, 216, 217, 218, 219, 220,\n        221, 222, 223, 224, 225, 226, 227, 228, 229, 230, 231, 232, 233,\n        234, 235, 236, 237, 238, 239, 240, 241, 242, 243, 244, 245, 246,\n        247, 248, 249, 250, 251, 252, 254, 255, 256, 257, 258, 259, 260,\n        261, 262, 263, 264, 265, 266, 267, 268, 269, 270, 271, 272, 273,\n        274, 275, 276, 277, 278, 279, 280, 281, 282, 283, 284, 285, 287,\n        288, 289, 290, 291, 292, 293, 294, 295, 296, 297, 298, 299, 300,\n        301, 302, 303, 304, 305, 306, 307, 308, 309, 310, 311, 312, 313,\n        314, 315, 316, 317, 318]),\n 'datetime': array(['2013-04-14', '2013-04-19', '2013-04-21', '2013-04-26',\n        '2013-05-02', '2013-05-08', '2013-05-18', '2013-05-22',\n        '2013-05-24', '2013-05-26', '2013-05-27', '2013-05-29',\n        '2013-05-30', '2013-05-31', '2013-06-13', '2013-06-17',\n        '2013-06-18', '2013-06-19', '2013-06-25', '2013-06-26',\n        '2013-07-03', '2013-07-04', '2013-07-11', '2013-08-05',\n        '2013-08-06', '2013-08-09', '2013-08-14', '2013-08-16',\n        '2013-08-20', '2013-08-21', '2013-08-23', '2013-10-01',\n        '2013-10-02', '2013-10-03', '2013-10-04', '2013-10-08',\n        '2013-10-09', '2013-10-10', '2013-10-11', '2013-10-12',\n        '2013-10-17', '2013-10-23', '2013-10-24', '2013-10-26',\n        '2013-10-27', '2013-10-29', '2013-10-30', '2013-10-31',\n        '2013-11-01', '2013-12-03', '2013-12-04', '2014-01-17',\n        '2014-01-19', '2014-01-24', '2014-01-26', '2014-01-31',\n        '2014-02-02', '2014-04-27', '2014-05-22', '2014-07-08',\n        '2014-07-09', '2014-07-11', '2014-07-12', '2014-07-14',\n        '2014-07-15', '2014-07-17', '2014-07-18', '2014-07-20',\n        '2014-11-09', '2014-11-10', '2014-11-12', '2014-11-13',\n        '2014-11-15', '2014-11-16', '2014-11-20', '2014-11-22',\n        '2015-02-11', '2015-02-12', '2015-03-12', '2015-03-18',\n        '2015-04-08', '2015-04-10', '2015-04-17', '2015-05-08',\n        '2015-05-09', '2015-05-10', '2015-05-11', '2015-05-13',\n        '2015-05-14', '2015-05-15', '2015-05-16', '2015-05-18',\n        '2015-05-19', '2015-05-20', '2015-05-21', '2015-05-22',\n        '2015-05-25', '2015-05-26', '2015-05-27', '2015-05-29',\n        '2015-05-30', '2015-05-31', '2015-06-01', '2015-06-03',\n        '2015-06-04', '2015-06-05', '2015-06-06', '2015-06-07',\n        '2015-07-24', '2015-07-26', '2015-08-01', '2015-08-04',\n        '2015-08-06', '2015-08-07', '2015-08-08', '2015-08-20',\n        '2015-08-22', '2015-08-23', '2015-08-25', '2015-08-26',\n        '2015-08-28', '2015-08-29', '2015-08-30', '2015-09-04',\n        '2015-09-06', '2015-09-08', '2015-09-09', '2015-09-11',\n        '2015-09-13', '2015-10-02', '2015-10-05', '2015-10-06',\n        '2015-10-07', '2015-10-09', '2015-11-07', '2015-11-10',\n        '2015-11-11', '2015-11-14', '2015-11-15', '2015-11-18',\n        '2015-11-19', '2015-11-21', '2015-11-24', '2015-11-25',\n        '2016-01-29', '2016-01-30', '2016-01-31', '2016-02-03',\n        '2016-02-04', '2016-02-05', '2016-02-07', '2016-02-08',\n        '2016-02-09', '2016-02-11', '2016-02-12', '2016-02-13',\n        '2016-03-10', '2016-03-12', '2016-03-15', '2016-03-17',\n        '2016-03-18', '2016-03-19', '2016-04-19', '2016-04-21',\n        '2016-04-23', '2016-04-25', '2016-04-26', '2016-04-29',\n        '2016-06-02', '2016-06-04', '2016-06-09', '2016-06-11',\n        '2016-06-12', '2016-06-14', '2016-06-15', '2016-06-16',\n        '2016-06-17', '2016-06-29', '2016-07-01', '2016-07-02',\n        '2016-07-03', '2016-07-04', '2016-07-05', '2016-07-08',\n        '2016-07-09', '2016-07-11', '2016-07-14', '2016-07-15',\n        '2016-08-27', '2016-08-28', '2016-08-31', '2016-09-02',\n        '2016-09-03', '2016-09-04', '2016-09-08', '2016-09-10',\n        '2017-07-29', '2018-07-12', '2018-07-15', '2018-07-20',\n        '2018-07-21', '2018-07-22', '2018-08-18', '2018-08-19',\n        '2018-09-18', '2018-09-24', '2018-09-25', '2018-10-12',\n        '2018-10-13', '2018-10-14', '2019-05-02', '2019-05-03',\n        '2019-05-05', '2019-05-06', '2019-05-07', '2019-05-11',\n        '2019-05-25', '2019-05-31', '2019-06-02', '2019-06-05',\n        '2019-06-08', '2019-06-24', '2019-06-26', '2019-07-26',\n        '2019-07-27', '2019-07-30', '2019-07-31', '2019-08-02',\n        '2019-08-07', '2019-08-08', '2019-08-09', '2019-08-10',\n        '2019-08-13', '2019-08-21', '2019-08-22', '2019-08-23',\n        '2019-08-24', '2019-08-25', '2019-10-04', '2019-10-07',\n        '2019-10-08', '2019-10-11', '2020-03-09', '2020-03-10',\n        '2020-03-11', '2020-03-13', '2020-03-19', '2020-03-20',\n        '2020-04-16', '2020-04-18', '2020-04-23', '2020-04-25',\n        '2020-04-28', '2020-06-02', '2020-06-03', '2020-06-06',\n        '2020-06-08', '2020-06-09', '2020-06-11', '2020-07-17',\n        '2020-07-19', '2020-07-20', '2020-07-21', '2020-07-23',\n        '2020-07-24', '2020-07-25', '2020-07-28', '2020-07-30',\n        '2020-08-01', '2020-08-03', '2020-08-05', '2020-09-10',\n        '2020-09-11', '2020-09-12', '2020-09-21', '2020-12-05',\n        '2020-12-08', '2020-12-10', '2020-12-13', '2020-12-14',\n        '2020-12-16', '2020-12-19', '2021-03-19', '2021-03-20',\n        '2021-03-21', '2021-07-22', '2021-09-04', '2021-09-07',\n        '2021-09-10', '2021-09-12', '2021-09-15', '2021-09-17',\n        '2021-09-18', '2021-09-20', '2021-09-23', '2021-09-25',\n        '2021-09-28', '2021-10-31', '2021-11-02', '2021-11-03',\n        '2021-11-05', '2021-11-07', '2021-11-08', '2021-11-09',\n        '2021-11-12', '2021-11-17', '2021-11-20', '2021-12-05',\n        '2021-12-07', '2021-12-09', '2021-12-12', '2021-12-13',\n        '2021-12-15', '2021-12-18', '2022-02-26', '2022-03-03',\n        '2022-03-07'], dtype=object),\n 'title': array(['', '', '', '', '', '', '', '', '', '', '', '', '', '', '', '', '',\n        '', '', '', '', '', '', '', '', '', '', '', '', '', '', '', '', '',\n        '', '', '', '', '', '', '', '', '', '', '', '', '', '', '', '', '',\n        '', '', '', '', '', '', '', '', '', '', '', '', '', '', '', '', '',\n        '', '', '', '', '', '', '', '', '', '', '', '', '', '', '', '', '',\n        '', '', '', '', '', '', '', '', '', '', '', '', '', '', '', '', '',\n        '', '', '', '', '', '', '', '', '', '', '', '', '', '', '', '', '',\n        '', '', '', '', '', '', '', '', '', '', '', '', '', '', '', '', '',\n        '', '', '', '', '', '', '', '', '', '', '', '', '', '', '', '', '',\n        '', '', '', '', '', '', '', '', '', '', '', '', '', '', '', '', '',\n        '', '', '', '', '', '', '', '', '', '', '', '', '', '', '', '', '',\n        '', '', '', '', '', '', '', '', '', '', '', '', '', '', '', '', '',\n        '', '', '', '', '', '', '', '', '', '', '', '', '', '', '', '', '',\n        '', '', '', '', '', '', '', '', '', '', '', '', '', '', '', '', '',\n        '', '', '', '', '', '', '', '', '', '', '', '', '', '', '', '', '',\n        '', '', '', '', '', '', '', '', '', '', '', '', '', '', '', '', '',\n        '', '', '', '', '', '', '', '', '', '', '', '', '', '', '', '', '',\n        '', '', '', '', '', '', '', '', '', '', '', '', '', '', '', '', '',\n        '', '', '', '', '', '', '', '', '', '', ''], dtype=object),\n 'lineup': array([list(['Tame Impala', 'The Airborne Toxic Event', 'Eric Prydz', 'Roni Size', 'Parov Stelar', 'Grimes', 'Dinosaur Jr.', 'MiMoSA', 'Unicorn Kid', 'The Faint', 'Dead Can Dance', 'White Arrows', 'Deep Vally', 'Jamie Jones', 'Father John Misty', \"The Three O'Clock\", 'Jessie Ware', 'Alex Clare', 'Ladies Night', 'JEFF the brotherhood', 'Maya Jane Coles', 'Tanlines', 'Robert DeLong', 'Raider Klan  ', 'Cloud Nothings', 'James McCartney', 'Rodriguez', 'Wild Belle', 'Paul Kalkbrenner', 'Pretty Lights', 'La Roux', 'James Blake', 'Thee Oh Sees', 'Excision', 'Paul Oakenfold', 'Orchestral Manoeuvres in the Dark', 'Hanni El Khatib', 'The Lumineers']),\n        list(['Tame Impala', 'Mona', 'Alt-J', 'Social Distortion', 'Paul Oakenfold', 'Hot Chip', 'Dynamite MC', 'Orchestral Manoeuvres in the Dark', 'Adrian Lux', 'Action Bronson', '3BallMTY', 'Kurt Vile', 'Selector', 'Metric', 'Julio Bashmore', 'Moby', 'Grizzly Bear', 'Richie Hawtin', 'The Evens', 'DIIV', 'Coachella Music Festival', 'Shovels and Rope', 'Tim Mason', 'Hanni El Khatib', 'Phoenix', 'The Selecter', 'VINTAGE TROUBLE', 'Allen Stone', 'Vampire Weekend', 'Alex Clare', 'JEFF the brotherhood', 'The xx', 'Tanlines', 'Fedde Le Grand', 'Stanton Warriors', 'Bat for Lashes', 'Ladies Night', 'Huoratron', 'The Make-Up', 'Spiritualized', 'Ben Howard', 'Raider Klan  ', 'Little Green Cars', 'Wild Nothing', 'The 2 Bears', 'Two Door Cinema Club', 'Kids These Days', 'You Me & Us', 'Nick Cave & The Bad Seeds', 'James Blake', 'La Roux', 'James McCartney', 'Zane Lowe', 'Thee Oh Sees', 'Simian Mobile Disco', 'Wu-Tang Clan', 'Violent Femmes', 'Café Tacuba', 'Paul Kalkbrenner', 'Wild Belle', 'Pretty Lights', 'Guards', 'Father John Misty', 'Savages', 'Neighbourhood', 'MTS on TOUR', 'McDevitt Taco Supply', 'Reignwolf', 'Jessie Ware', \"The Three O'Clock\", 'Franz Ferdinand', 'Puscifer', 'The Airborne Toxic Event', 'Eric Prydz', 'Trash Talk', 'Roni Size', 'Janelle Monae', 'Theophilus London', 'Yeasayer', 'Major Lazer', 'Danny Brown', 'Red Hot Chili Peppers', 'DESCENDENTS', 'Portugal. The Man', 'Birdy Nam Nam', 'MiMoSA', 'The Faint', 'New Order', 'El-P', 'Dead Can Dance', 'Grimes', 'Dub FX', 'Unicorn Kid', 'Smith Westerns', 'White Arrows']),\n        list(['Tame Impala', 'Vampire Weekend', 'Ladies Night', 'Maya Jane Coles', 'Alex Clare', 'JEFF the brotherhood', 'Tanlines', 'Cloud Nothings', 'Raider Klan  ', 'Robert DeLong', 'Grimes', 'The Faint', 'Dead Can Dance', 'Unicorn Kid', 'White Arrows', 'Deep Vally', 'Red Hot Chili Peppers', 'Dinosaur Jr.', 'MiMoSA', 'The Airborne Toxic Event', 'Eric Prydz', 'Roni Size', 'Parov Stelar', \"The Three O'Clock\", 'Jamie Jones', 'Jessie Ware', 'Father John Misty', 'Rodriguez', 'Wild Belle', 'James Blake', 'James McCartney', 'Thee Oh Sees', 'Excision', 'Nick Cave & The Bad Seeds', 'Pretty Lights', 'La Roux', 'Wu-Tang Clan', 'Paul Kalkbrenner', 'Hanni El Khatib', 'The Lumineers', 'Paul Oakenfold', 'Orchestral Manoeuvres in the Dark']),\n        list(['Tame Impala', 'Midnight Juggernauts']),\n        list(['Tame Impala']), list(['Tame Impala', 'Rebel FM Gig Pig']),\n        list(['Tame Impala', 'Midnight Juggernauts']),\n        list(['Tame Impala', 'Fred i Son', 'Extraperlo', 'Dead Skeletons', 'Matthew E. White', 'Wild Balbina', 'Liars', 'Simian Mobile Disco', 'Wu-Tang Clan', 'Phosphorescent', 'Mount Eerie', 'Adam Green and Binki Shapiro', 'James Blake', 'Las Tocayas', 'Solange', 'Meat Puppets', 'Nick Cave & The Bad Seeds', 'Ghostigital', 'Rodriguez', 'Dope Body', 'Jozef Van Wissem & Jim Jarmusch ', 'Disclosure', 'Dexys and Dexys Midnight Runners', 'Thee Oh Sees', 'Poolside', 'Coriolà', 'Hot Chip', 'Neko Case', 'The Breeders', 'La Brigada', 'Hal Flavin', 'Django Django', 'Orchestre Poly-Rythmo de Cotonou', 'Aliment', 'Roll The Dice', 'Blue Willa', 'Hidrogenesse', 'Metz', 'How To Dress Well', 'The Bots', 'Jupiter Lion', 'Gaurds', 'Local Natives', 'Christopher Owens', 'Degreaser', 'Fucked Up', 'honeybird & the birdies', 'Manel', 'Omar Souleyman', 'DIIV', 'Carles Viarnès', 'The Jesus and Mary Chain', 'Jackmaster', 'Goat', 'Bored Spies', 'Daphni', 'Grizzly Bear', 'Neurosis', 'Do Make Say Think', 'Fuck Buttons', 'sean nicholas savage', 'Kurt Vile', \"L'hereu escampa\", 'The Vaccines', 'Evans the Death', 'Glass Candy', 'The Babies', 'King Tuff', 'Ethan Johns', 'Toundra', 'DJ COCO', \"Melody's Echo Chamber\", 'The Suicide of Western Culture', 'Delorean', 'Killer Mike', 'Titus Andronicus', 'Los Planetas', 'The Ringo Jets', 'Betunizer', 'Antònia Font', 'Guardian Alien', 'Mac DeMarco', 'Wild Nothing', 'Phoenix', 'Om', 'Bob Mould', 'Apparat', 'Mulatu Astatqé', 'Wound', 'Shellac', 'El Inquilino Comunista', 'Daughn Gibson', 'Moonflower', 'Merchandise', 'John Talabot', 'Band of Horses', 'Dinosaur Jr.', 'Dan Deacon', 'Hot Snakes', 'Tinariwen', 'Guadalupe Plata', 'Paus', 'La Bien Querida', 'Tarantula', 'Pony Bravo', 'the magician', 'Four Tet', 'WHITE FENCE', 'The Knife', 'Crystal Castles', 'Dead Can Dance', 'Savages', 'She And Him', 'The Free Fall Band', 'Rodriquez', 'Jessie Ware', 'Nurse', 'Wilhelm', 'Nils Frahm', 'Adam Green', 'My Bloody Valentine', 'Daniel Johnston', 'The Sea and Cake']),\n        list(['Tame Impala', 'Bloc Party', 'Grimes', 'Shad', 'Danny Brown', 'Arctic Monkeys', 'El-P', 'Sigur Rós', 'Azealia Banks', 'Ab-Soul', 'The Tallest Man on Earth', 'Father John Misty', 'Jenny Slate', 'Brett Gelman', 'Macklemore', 'Imagine Dragons', 'Death Grips', 'Alt-J', 'Joe Mande', 'The Lumineers', 'Devendra Banhart', 'Ryan Lewis', 'Primus', 'Kyle Kinane', 'Nick Offerman', 'Black Rebel Motorcycle Club', 'Earl Sweatshirt', 'Vampire Weekend', 'James Adomian', 'Killer Mike', 'Brody Stevens', 'SchoolBoy Q']),\n        list(['Tame Impala', 'Jonathan Wilson']),\n        list(['Tame Impala', 'Jonathan Wilson']),\n        list(['Tame Impala', 'Jonathan Wilson']), list(['Tame Impala']),\n        list(['Tame Impala', 'Jonathan Wilson']),\n        list(['Tame Impala', 'Dirty Projectors', 'Four Tet', 'The Sheepdogs', \"Aoife O'Donovan\", 'Nas', 'Ariel Pink', 'The Tallest Man on Earth', 'Cat Power', 'Trombone Shorty & Orleans Avenue', 'ARAABMUZIK', 'Nicki Bluhm', 'Holy Ghost!', 'The Del McCoury Band', 'Mumford and Sons', 'Charli XCX', 'Big K.R.I.T.', 'MTS on TOUR', 'Father John Misty', 'Billy Idol', 'JEFF the brotherhood', 'Wilco', 'Killer Mike', 'Paper Diamond', 'Bonnaroo', 'The xx', 'The Vaccines', 'Beach House', 'ZZ Top', 'Daniel Tosh', 'Futurebirds', 'Wild Nothing', 'Amadou & Mariam', 'Clockwork', 'twenty one pilots', 'Earl Sweatshirt', 'Action Bronson', 'Macklemore', '\"Weird Al\" Yankovic', 'ASAP Rocky', 'Grizzly Bear', 'Conspirator', 'Sea Wolf', 'Jason Isbell', 'Mike Birbiglia', 'Local Natives', 'Death Grips', 'Ryan Lewis', 'Lee Fields & The Expressions', 'Zigaboo Modeliste', 'The Lumineers', 'John McLaughlin & the 4th Dimension', 'Cults', 'Purity Ring', 'Django Django', 'John Fullbright', \"Gov't Mule\", 'Sam Bush', 'Kendrick Lamar', 'Ed Helms', 'Pretty Lights', 'Björk', 'Wu-Tang Clan', 'Tom Petty and The Heartbreakers', 'Deap Vally']),\n        list(['Tame Impala']), list(['Tame Impala', 'Fascinator']),\n        list(['Tame Impala', 'Light Heat']), list(['Tame Impala']),\n        list(['Tame Impala', \"Melody's Echo Chamber\"]),\n        list(['Tame Impala', 'Vienio', 'Fismoll', 'Öszibarack', 'Palma Violets', 'Savages', 'domowe melodie', 'Mikromusic', 'Łąki Łan', 'Drekoty', 'Arctic Monkeys', 'Crystal Castles', 'Rykarda Parasol', 'Please the Trees', 'Nas', 'These New Puritans', 'The National', 'Matisyahu', 'Jonny Greenwood', 'Transmisja', 'Peter J. Birch', 'Ifi Ude', 'Crystal Fighters', 'Pianohooligan', 'Hey', 'Kaliber 44', 'Magnificent Muttley', 'Novika', 'Disclosure', 'REBEKA', 'Maria Peszek', 'Animal Collective', 'Nick Cave & The Bad Seeds', 'Skunk Anansie', 'Mount Kimbie', 'Junip', 'Kendrick Lamar', 'NON-HUMAN PERSONS', 'Hot Casandra', 'Kings of Leon', 'Vavamuffin', 'Ras Luta', 'Plum', 'Alt-J', 'semantik punk', 'Kixnare', 'Everything Everything', 'hipiersoniK']),\n        list(['Tame Impala', 'Rammstein', 'Band of Horses', 'Azealia Banks', 'Graveyard', 'The Gaslight Anthem', 'Passenger', 'Richard Hawley', 'Kings of Leon', 'The Script', 'Laura Mvula', 'Alt-J', 'Jake Bugg', 'The Bots', 'The Lumineers', 'Django Django', 'Editors', 'Rudimental', 'Disclosure', 'Tom Odell', 'Kendrick Lamar', 'Gogol Bordello', 'Depeche Mode', 'Biffy Clyro', 'Gary Clark Jr.', 'John Legend', 'A Day To Remember', 'Jonathan Jeremiah', 'Ben Howard', 'Two Door Cinema Club']),\n        list(['Tame Impala']),\n        list(['Tame Impala', 'MiXendorp', 'Čankišou', 'Warsaw Village Band', 'Alex Clare', 'Oscar Mulero', 'Blaudzun', 'Erol Alkan', 'Balthazar', 'Skip & Die', 'Microfeel', 'Triggerfinger', 'Peter Bjorn and John', 'Biffy Clyro', 'Mystery Jets', 'Deichkind', 'Katy B', 'Regina Spektor', 'Booka Shade', 'Timbuktu', '!!!', 'Donots', 'Die Ärzte', 'Ленинград', 'Linea 77', 'Afterhours', 'Michael Kiwanuka', 'jozif', 'ДахаБраха', 'Flogging Molly', 'Wax Tailor', 'Baltic Balkan', 'Shutka Roma Rap', 'Splendid', 'Söndörgő', 'Dry The River', 'Everything Everything', 'Left Boy', 'The Bots', 'Mika', 'Editors', 'Calexico', 'Nero', 'Nneka', 'Hoffmaestro', 'Woodkid', 'The Cribs', 'Seeed', 'Netsky', 'Nick Cave & The Bad Seeds', 'Skunk Anansie', 'Rachid Taha', 'Ruta', 'Little Boots', 'D.O.P.', 'ZAZ', 'Mokoomba', 'Tako Lako', \"Iori's Eyes\", 'Rangleklods', 'La Pegatina', 'Vojasa', 'Boys Noize', 'Rubik', 'Chuckie', 'Monophona', 'Besh o droM', 'Dub FX', 'Guy J', 'Enter Shikari', 'Franz Ferdinand', 'The Gaslight Anthem', 'Pannonia Allstars Ska Orchestra', 'Figli di Madre Ignota', 'Daily Bread', 'Parno Graszt', 'The Joy Formidable']),\n        list(['Tame Impala', 'Grimes', 'The Knife', 'Cat Power', 'Black Debbath', 'Skaters', 'Monica Heldal', 'Okkultokrati', 'Angel Haze', 'Azealia Banks', 'John Talabot', 'Danny Brown', 'Sandra Kolstad', 'Drape', 'Kvelertak', 'Pissed Jeans', 'Of Monsters and Men', 'Nils Bech', 'James Blake', 'Rodriguez', 'Solange', 'Kraftwerk', 'Kendrick Lamar', 'Uncle Acid & The Deadbeats', 'Disclosure', 'Alabama Shakes', 'RAZIKA', 'Mount Kimbie', 'krafwerk', 'Local Natives', 'Goat', 'Lemaitre', 'Rebekka Karijord', 'BLOOD COMMAND', 'Godspeed You! Black Emperor', 'Metz', 'Beach House', 'Electric Wizard', 'Carmen Villain', 'TRULS', 'TONES', 'John Olav Nilsen & Gjengen', 'Andre Bratten', 'Atlanter']),\n        list(['Tame Impala']), list(['Tame Impala', 'Tripwires']),\n        list(['Tame Impala', 'Baauer', 'Band of Horses', 'Moderat', 'De Jeugd van Tegenwoordig', 'Bullet for My Valentine', 'Ben Pearce', 'Nine Inch Nails', 'Bat for Lashes', 'Biffy Clyro', 'Seasick Steve', 'hurts', 'Crystal Water', 'Bombino']),\n        list(['Tame Impala']), list(['Tame Impala']),\n        list(['Tame Impala', 'Rob Delaney', 'Fuck Buttons', 'Imagine Dragons', 'EarlWolf', 'The Strypes', 'ASAP Rocky', 'Action Bronson', 'itch', 'Fall Out Boy', 'The Living End', 'Ms. Dynamite', 'Duologue', 'Villagers', 'Thumpers', 'Twin Atlantic', 'P-Money', 'The Computers', 'Hacktivist', 'Katherine Ryan', 'The Lumineers', 'Knife Party', 'Brand New', 'Editors', 'Arcane Roots', 'Johnny Marr', 'Skrillex', 'Paul Chowdhry', 'David Rodigan', 'Jacob Plant', 'Pure Love', 'Charlie Boyer & The Voyeurs', 'Seann Walsh', 'Azealia Banks', 'The Virginmarys', 'Temples', 'RedLight', 'Feed The Rhino', \"Andrew O'Neill\", 'Palma Violets', 'Mallory Knox', 'The Creepshow', 'Post War Years', 'Josh Widdicombe', 'Savages', 'Uncle Acid & The Deadbeats', 'Mount Kimbie', 'Findlay', 'Half Moon Run', 'Hawkeyes', 'Darwin Deez', 'SWIM DEEP', 'System of a Down', 'New Found Glory', 'Chase & Status', 'Kodaline', 'Drenge', 'Deap Vally', 'Fenech', 'Frankie & The Heartstrings', 'anti vigilante', 'White Lies', 'Wiley', 'Magnetic Man', 'Wavves', 'P Money', 'Mic Righteous', 'Alex Clare', 'The Family Rain', 'Modestep', 'The 1975', 'Biffy Clyro', 'Chapel Club', 'Nine Inch Nails', 'British Sea Power', 'Flux Pavilion', 'Giggs', 'Wretch 32', 'Jeffrey Lewis', 'Russell Kane', 'The Pretty Reckless', 'Parquet Courts', 'Twisted Wheel', 'China Rats', 'The Jim Jones Revue', 'Lucy Rose', 'Toddla T', 'Theme Park']),\n        list(['Tame Impala', 'The Ghost of a Saber Toothed Tiger', 'The Flaming Lips']),\n        list(['Tame Impala', 'The Ghost of a Saber Toothed Tiger', 'The Flaming Lips']),\n        list(['Tame Impala', 'The Ghost of a Saber Toothed Tiger', 'The Flaming Lips']),\n        list(['Tame Impala', 'The Flaming Lips', 'The Ghost of a Saber Toothed Tiger']),\n        list(['Tame Impala', 'White Denim']),\n        list(['Tame Impala', 'White Denim']),\n        list(['Tame Impala', 'White Denim']),\n        list(['Tame Impala', 'The National']), list(['Tame Impala']),\n        list(['Tame Impala', 'Rio Web Rock']), list(['Tame Impala']),\n        list(['Tame Impala']), list(['Tame Impala', 'White Denim']),\n        list(['Tame Impala', 'White Denim']),\n        list(['Tame Impala', 'The Flaming Lips', 'White Denim']),\n        list(['Tame Impala']),\n        list(['Tame Impala', 'White Denim', 'Matt Haze', 'Motion Potion', 'The Flaming Lips', 'Silent Disco']),\n        list(['Tame Impala', 'The Flaming Lips']),\n        list(['Tame Impala', 'Foals']),\n        list(['Tame Impala', 'Vampire Weekend', 'Lorde', 'December To Remember']),\n        list(['Tame Impala', 'The Lumineers', 'Steve Angello', 'Mudhoney', 'DIIV', 'Blur', 'SJD', 'The Naked and Famous', 'Clap Clap Riot', 'MAC MILLER', 'Pearl Jam', 'Snoop Lion', 'The Hives', 'Beady Eye', 'The 1975', 'P Money', 'Ladi 6']),\n        list(['Tame Impala', 'Grouplove', 'Pearl Jam', 'Beady Eye', 'The 1975', 'Bo Ningen', 'The Hives', 'Cosmic Psychos', 'MAC MILLER', 'The Naked and Famous', 'Mudhoney', 'The Lumineers', 'Steve Angello', 'DIIV', 'NORTHLANE', 'Pez', 'Toro', 'The Algorithm', 'Arcade Fire', 'Flosstradamus', 'Major Lazer', 'Dillon Francis', 'Blur']),\n        list(['Tame Impala', 'Beady Eye', 'The 1975', 'The Hives', 'Bo Ningen', 'Pearl Jam', 'Grouplove', 'Flosstradamus', 'Major Lazer', 'Toro', 'Pez', 'Arcade Fire', 'Blur', 'Cosmic Psychos', 'The Naked and Famous', 'MAC MILLER', 'DIIV', 'NORTHLANE', 'Steve Angello', 'Mudhoney', 'The Lumineers']),\n        list(['Tame Impala', 'MAC MILLER', 'Cosmic Psychos', 'The Naked and Famous', 'DIIV', 'Steve Angello', 'NORTHLANE', 'Mudhoney', 'The Lumineers', 'The 1975', 'Beady Eye', 'Bo Ningen', 'The Hives', 'Pearl Jam', 'Pez', 'Toro', 'Blur']),\n        list(['Tame Impala', 'MAC MILLER', 'Cosmic Psychos', 'The Naked and Famous', 'The Jungle Giants', 'Steve Angello', 'DIIV', 'NORTHLANE', 'The Lumineers', 'Mudhoney', 'Pearl Jam', 'Grouplove', 'Beady Eye', 'Bo Ningen', 'The Hives', 'The 1975', 'Vista Chino', 'Dillon Francis', 'Blur', 'Major Lazer', 'Toro', 'Pez', 'Flosstradamus', 'Arcade Fire', 'The Algorithm']),\n        list(['Tame Impala', 'Grouplove', 'Bo Ningen', 'Pearl Jam', 'Beady Eye', 'The 1975', 'The Hives', 'MAC MILLER', 'Cosmic Psychos', 'The Naked and Famous', 'Pez', 'Toro', 'Flosstradamus', 'Arcade Fire', 'Dillon Francis', 'The Lumineers', 'DIIV', 'Mudhoney', 'Steve Angello']),\n        list(['Tame Impala']), list(['Tame Impala']),\n        list(['Tame Impala']), list(['Tame Impala']),\n        list(['Tame Impala', 'Factory Floor', 'NEON JUNGLE', 'Duke Dumont', 'Soul II Soul', 'Robert Hood', 'Ed Sheeran', 'Wilkinson', 'Ben Howard', 'Dolomite Minor', 'Katy B', 'Earl Sweatshirt', 'Magda', 'Julio Bashmore', 'Alex Smoke', 'John Newman', 'Pharrell Williams', 'Manic Street Preachers', 'Sophie Ellis-Bextor', 'Reverend and The Makers', 'Skream', 'The Magic Numbers', 'Embrace', 'Guy Gerber', 'The Human League', 'Sven Väth', 'Royal Blood', 'Twin Atlantic', 'Jake Bugg', 'Nina Nesbitt', 'Ellie Goulding', 'George Ezra', 'Drenge', 'Tinie Tempah', 'Pixies', 'Kaiser Chiefs', 'The Rifles', 'DJ Fresh', 'Red Hot Chilli Pipers', 'Chance The Rapper', 'Paolo Nutini', 'The Twilight Sad', 'Franz Ferdinand', 'Elbow', 'Newton Faulkner', 'Passenger', 'Ella Eyre', 'Mark-Henning', 'Joris Voorn', 'Len Faki', 'George Fitzgerald']),\n        list(['Tame Impala']), list(['Tame Impala']),\n        list(['Tame Impala']),\n        list(['Tame Impala', 'Sohn', 'Courts', 'Tinariwen', 'Conor Oberst and the Mystic Valley Band', 'Latitude', 'Temples', 'James', 'Anna Calvi', 'Obél', 'Editors', 'Billy Bragg', 'Agnes', 'Mogwai', 'The War on Drugs', 'Goat', 'George Ezra', 'Kelis', 'Slowdrive']),\n        list(['Tame Impala', 'Spring King', 'Dan Shake', 'Rhodes', 'Ibibio sound machine', 'Kelis', 'Miles Hunt', 'Leon Vynehall', 'BADBADNOTGOOD', 'Parquet Courts', 'Eagulls', 'Two Door Cinema Club', 'Anna Calvi', 'James', 'Eaves', 'Childhood', 'Only Real', 'Circa Waves', 'Editors', 'Billy Bragg', 'Lykke Li', 'Mo Kolours', 'augustines', 'Mogwai', 'Paul Heaton', 'Cate Le Bon', 'Oliver Wilde', 'Teeth of the Sea', 'The War on Drugs', 'Daryl Hall', 'Womans Hour', 'Kevin Bridges', 'Alison Moyet', 'Willis Earl Beal', 'The Bohicas', 'Young Fathers', 'Koreless', 'Broken Twin', 'Nils Frahm', 'Future Islands', 'Josephine Foster', 'Fat White Family', 'Andrew Ashong', 'James Holden', 'MJ Cole', 'Chrissie Hynde', 'Wookie', 'VAULTS', 'Champion', 'Cass McCombs', 'Sohn', 'Damien Jurado', 'Archie Bronson Outfit']),\n        list(['Tame Impala']), list(['Tame Impala']),\n        list(['Tame Impala', 'DELICATE STEVE']),\n        list(['Tame Impala', 'IHC Presents:', 'DELICATE STEVE']),\n        list(['Tame Impala']), list(['Tame Impala', 'DELICATE STEVE']),\n        list(['Tame Impala', 'DELICATE STEVE']),\n        list(['Tame Impala', 'Esteman', 'L i a n n a']),\n        list(['Tame Impala', 'The Lumineers', 'Erlend Øye', 'Kakkmaddafakka', 'Beach Fossils', 'Real State']),\n        list(['Tame Impala']), list(['Tame Impala']),\n        list(['Tame Impala']), list(['Tame Impala']),\n        list(['Tame Impala']),\n        list(['Tame Impala', 'Cloud Nothings', 'Eagulls', 'HEARTS', 'Flying Lotus', 'AC/DC', 'Charles Bradley', 'Keys N Krates', 'Raekwon', 'Erol Alkan', 'Ryan Hemsworth', 'Action Bronson', 'Chris Malinchak', 'Alesso', 'Vic Mensa', 'Angus and Julia Stone', 'Indio', 'Interpol', 'Pete Tong', 'Caribou', 'Marques Wyatt', 'Jason Bentley', 'Sylvan Esso', 'HAERTS', 'GOASTT', 'Todd Terje', 'Los Rakas', 'Alabama Shakes', 'Brant Bjork & the Low Desert Punk Band', 'Gorgon City', 'Kele', 'MK', 'Ghostface Killah', 'Squarepusher', 'Steely Dan', 'Azealia Banks', 'Jon Hopkins', 'Ab-Soul', 'Alvin Risk']),\n        list(['Tame Impala', 'Vic Mensa', 'Alesso', 'Interpol', 'Pete Tong', 'Action Bronson', 'Chris Malinchak', 'Steely Dan', 'Azealia Banks', 'Jon Hopkins', 'Kele', 'Alvin Risk', 'Trippy Turtle', 'Ab-Soul', 'Ghostface Killah', 'Los Rakas', 'HAERTS', 'GOASTT', 'Eagulls', 'Ryan Hemsworth', 'AC/DC', 'Raekwon']),\n        list(['Tame Impala']), list(['Tame Impala']),\n        list(['Tame Impala']), list(['Tame Impala', 'Mini Mansions']),\n        list(['Tame Impala']), list(['Tame Impala']),\n        list(['Tame Impala']), list(['Tame Impala']),\n        list(['Tame Impala', 'Mini Mansions']),\n        list(['Tame Impala', 'Mini Mansions']), list(['Tame Impala']),\n        list(['Tame Impala', 'Mini Mansions']), list(['Tame Impala']),\n        list(['Tame Impala']), list(['Tame Impala', 'Kuroma']),\n        list(['Tame Impala', 'Kuroma']), list(['Tame Impala']),\n        list(['Tame Impala', 'Kuroma']), list(['Tame Impala']),\n        list(['Tame Impala']), list(['Tame Impala']),\n        list(['Tame Impala']),\n        list(['Tame Impala', 'Buggs Tha Rocka', 'machineheart', 'LONESOME AS GOLD', 'Secret Sisters ', 'Jamestown Revival', 'Go Analog', 'Multimagic', 'Kid Runner', 'Royal Blood', 'Old Hundred', 'Brand New', 'Markham', 'Wussy', 'Austin Plaine', 'Indigo Wild', 'Matt and Kim', 'Zach Longoria Project', 'Kacey Musgraves', '500 Miles to Memphis', 'Pluto Revolts', 'Temples', 'Bummers']),\n        list(['Tame Impala', 'Kuroma']), list(['Tame Impala']),\n        list(['Tame Impala']),\n        list(['Tame Impala', 'Megan Washington', 'Blur']),\n        list(['Tame Impala', 'GIVERS', 'The Deltas', 'The Tallest Man on Earth', 'Beat Connection', 'RL Grime', 'Sam Smith', 'COIN', 'Tyler, The Creator', 'Jessica Hernandez', 'G-Eazy', 'Brand New', 'Delta Spirit', 'Travis Scott', 'Mt. Eden', 'Hippo Campus', 'Metallica', 'Elle King', 'Pell', 'Django Django', 'Kid Cudi', 'SNBRN', 'Ryn Weaver', 'Hermitude', 'Zella Day', 'Danny Weinkauf - band']),\n        list(['Tame Impala']), list(['Tame Impala']),\n        list(['Tame Impala']),\n        list(['Tame Impala', 'Kendrick Lamar', 'The Law', 'Devon Baldwin', 'Giraffage', 'Tropics', 'Misterwives', 'Django Django', 'Mac DeMarco', 'G-Eazy', 'Outside Lands', 'Milky Chance']),\n        list(['Tame Impala']), list(['Tame Impala']),\n        list(['Tame Impala']), list(['Tame Impala']),\n        list(['Tame Impala']), list(['Tame Impala']),\n        list(['Tame Impala']), list(['Tame Impala']),\n        list(['Tame Impala']), list(['Tame Impala']),\n        list(['Tame Impala']), list(['Tame Impala', 'Nicholas Allbrook']),\n        list(['Tame Impala']), list(['Tame Impala']),\n        list(['Tame Impala']), list(['Tame Impala', 'LA Priest']),\n        list(['Tame Impala']), list(['Tame Impala']),\n        list(['Tame Impala']),\n        list(['Tame Impala', 'Koi Child', 'Mini Mansions']),\n        list(['Tame Impala']), list(['Tame Impala', 'Mini Mansions']),\n        list(['Tame Impala', 'Mini Mansions', 'Koi Child']),\n        list(['Tame Impala']), list(['Tame Impala', 'Mini Mansions']),\n        list(['Tame Impala']), list(['Tame Impala', 'Mini Mansions']),\n        list(['Tame Impala']), list(['Tame Impala']),\n        list(['Tame Impala']), list(['Tame Impala']),\n        list(['Tame Impala']), list(['Tame Impala']),\n        list(['Tame Impala']), list(['Tame Impala']),\n        list(['Tame Impala']), list(['Tame Impala', 'Jagwar Ma']),\n        list(['Tame Impala', 'Jagwar Ma']), list(['Tame Impala']),\n        list(['Tame Impala']), list(['Tame Impala']),\n        list(['Tame Impala', 'Albert Hammond, Jr.', 'A-Trak']),\n        list(['Tame Impala']), list(['Tame Impala']),\n        list(['Tame Impala']), list(['Tame Impala']),\n        list(['Tame Impala', 'Halsey', 'Albert Hammond, Jr.']),\n        list(['Tame Impala']), list(['Tame Impala']),\n        list(['Tame Impala']), list(['Tame Impala']),\n        list(['Tame Impala']), list(['Tame Impala']),\n        list(['Tame Impala']),\n        list(['Tame Impala', 'Kiasmos', 'Ólafur Arnalds']),\n        list(['Tame Impala']), list(['Tame Impala']),\n        list(['Tame Impala']), list(['Tame Impala']),\n        list(['Tame Impala']), list(['Tame Impala', 'M83', 'Okay Kaya']),\n        list(['Tame Impala', 'RÜFÜS DU SOL', 'Fitz & The Tantrums', 'Kings of Leon', 'Saint Motel']),\n        list(['Tame Impala', 'Kygo']),\n        list(['Tame Impala', 'Whitney', 'Calypso Rose', 'Foals', \"C'mon Tigre\", 'Young Thug', 'Damily', 'Hurray for the Riff Raff']),\n        list(['Tame Impala', 'Goose', 'Lost Frequencies', 'Red Hot Chili Peppers', 'Beirut', 'Paul Kalkbrenner']),\n        list(['Tame Impala']), list(['Tame Impala', 'Mac DeMarco']),\n        list(['Tame Impala']),\n        list(['Tame Impala', 'Radiohead', 'José González', 'Courtney Barnett', 'Hot Chip', 'Years & Years', 'Jagwar Ma']),\n        list(['Tame Impala']), list(['Tame Impala']),\n        list(['Tame Impala']), list(['Tame Impala']),\n        list(['Tame Impala', 'CLASSIXX']),\n        list(['Tame Impala', 'Drive Like Jehu']), list(['Tame Impala']),\n        list(['Tame Impala']), list(['Tame Impala']),\n        list(['Tame Impala']), list(['Tame Impala']),\n        list(['Tame Impala']), list(['Tame Impala']),\n        list(['Tame Impala', 'Mad Cool Festival 2018', 'Kasabian', 'Pearl Jam', 'Depeche Mode', 'Massive Attack', 'Justice']),\n        list(['Tame Impala']),\n        list(['Tame Impala', 'Julien Baker', '(Sandy) Alex G', 'Saba', 'Kaitlyn Aurelia Smith', 'And More', 'Kelela', 'Smino', 'Paul Cherry', 'Girlpool', 'Berhana', 'Moses Sumney', 'Irreversible Entanglements', 'Noname', 'Nnamdi Ogbonnaya', 'Open Mike Eagle', 'Earl Sweatshirt', 'Blood Orange', 'Chaka Khan', 'The Curls', 'Kweku Collins', 'Ravyn Lenae', 'This Is Not This Heat', 'Alex Cameron', 'Julie Byrne', 'Raphael Saadiq']),\n        list(['Tame Impala', 'Lil Wayne', 'Snoop Dogg', 'Modest Mouse', 'Toadies', 'Bun B', 'Bassnectar', 'Preservation Hall Jazz Band', 'White Denim', 'a Giant Dog', 'Joywave', 'Com Truise', 'The Suffers', 'Glass Animals', 'Cashmere Cat', 'Mainman', 'Grandson', 'Run The Jewels', 'Vodi', 'Float Fest', 'The Wild Now']),\n        list(['Tame Impala', 'Toadies', 'White Denim', 'The Wild Now']),\n        list(['Tame Impala']), list(['Tame Impala']),\n        list(['Tame Impala']), list(['Tame Impala']),\n        list(['Tame Impala']),\n        list(['Tame Impala', 'Jarvis Cocker', 'Earth', 'Mercury Rev', 'A Place to Bury Strangers', 'Chelsea Wolfe', 'Shannon', 'Catscan', 'Earthless', 'Pond', 'More Tba', 'The Shrines', 'King Khan', 'The Clams', 'True Widow', 'Connan Mockasin', 'Ty Segall', 'BEAK>', 'Damien Echols', 'The Holydrug Couple', 'Catscan!', 'Malcolm Mooney', 'Föllakzoid', 'King Khan And The Shrines', 'WHITE FENCE', 'Shannon and the Clams', '*Jarvis Cocker*', 'Mary Lattimore', 'Death Grips', 'Sons Of Kemet', 'Uncle Acid and the deadbeats', 'Shannon & The Clams', 'Mannequin Pussy', 'King Gizzard & The Lizard Wizard', 'Uncle Acid & The Deadbeats', 'Ty Segall & White Fence', 'All Them Witches', 'King Gizzard ', 'Imarhan', 'EX-CULT', 'Hand Habits', 'JJUUJJUU', 'Kikagaku Moyo / 幾何学模様', 'Boogarins', 'Cut Worms', 'Kevin Morby', 'Dakha Brakha', 'Kikagaku Moyo', 'Sextile', 'Ulrika Spacek', 'Bedouine', 'Preoccupations', 'Here Lies Man', 'Wand', 'Gladys Lazer', 'Tropa Magica', 'Catscan DJ', 'Cat Scan']),\n        list(['Tame Impala', 'Lord Huron', 'Sharon Van Etten', 'Moses Sumney']),\n        list(['Tame Impala', 'Pan', 'Pond', 'Sharon Van Etten', 'U.S. Girls', 'Shame', 'Jungle', 'Polo', 'Courtney Barnett', 'Silk City', 'Lord Huron', 'George Fitzgerald', 'Cigarettes After Sex', 'ASAP Rocky', 'Hiatus Kaiyote', 'A.$.A.P Rocky', 'AAP Rocky', 'Alex Cameron', 'Gilligan Moss', 'JPEGMAFIA', 'serpentwithfeet', 'Soccer Mommy']),\n        list(['Tame Impala']), list(['Tame Impala']),\n        list(['Tame Impala']), list(['Tame Impala']),\n        list(['Tame Impala']),\n        list(['Tame Impala', 'Goo Goo Dolls', 'Yeah Yeah Yeahs', 'Phoenix', 'of Montreal', 'Chromeo', 'The Chemical Brothers', 'Francis', 'White Lies', 'Holy Ghost!', 'CLASSIXX', 'The Joy Formidable', 'Dillon', 'Kimbra', 'Tops', 'Goldroom', 'Dillon Francis', 'Christine And The Queens', 'Rhye', 'GG Magree', 'Jax Jones', 'HONNE', 'boy pablo', 'OMD']),\n        list(['Tame Impala', 'Imogen Heap', 'Talib Kweli', 'Guster', 'Sasha', 'Chromeo', 'Brandi Carlile', 'Dessa', 'Marina', 'DJ Logic', 'Logic', 'Janelle Monae', 'Fred Armisen', 'Pile', 'Turnstile', 'Young Fathers', 'Shame', 'Black Star', 'Franklin', 'Snail Mail', 'Lord Huron', 'Jenny Slate', 'Michael Che', 'Christine And The Queens', 'Marina franklin', 'Kilo Kish', 'SNAKEHIPS', 'Mitski', 'Hozier', 'Denzel Curry', 'Skeggs', 'Gang of Youths', 'Odesza', 'Tank and the Bangas', 'Big Red Machine', 'Melissa Villasenor', 'Greta Van Fleet', 'White Reaper', 'twenty one pilots', 'Rainbow Kitten Surprise', 'Mura Masa', 'Anderson .Paak', 'The Free Nationals', 'Princess Nokia', 'Cautious Clay', 'Adia Victoria', 'PALE WAVES', 'Sam Jay', 'Ravyn Lenae', 'Rolling Blackouts Coastal Fever', 'Yaeji', 'Sidney Gish', 'Clairo', 'SOB X RBE', 'King Princess', 'Travis Scott', 'Superorganism', 'Sheck Wes']),\n        list(['Tame Impala']), list(['Tame Impala']),\n        list(['Tame Impala']), list(['Tame Impala']),\n        list(['Tame Impala']), list(['Tame Impala']), list([]),\n        list(['Tame Impala', 'The Story So Far', 'Vampire Weekend', 'Noname', 'Snail Mail', 'Alec Benjamin', 'Lizzo', 'Tiny Moving Parts', 'Wallows', 'Kali Uchis', 'Yellow Days', 'J.I.D', 'Ella Mai', 'Caamp', 'The Band Camino', 'CRAIG BROWN BAND', 'King Princess', 'Roy Blair']),\n        list([]), list(['Tame Impala']),\n        list(['Tame Impala', 'Death Cab for Cutie', 'Chevelle', 'Bring Me the Horizon', 'Janelle Monae', 'Idles', 'Dreamers', 'YULTRON', 'Snails', 'Picture This', 'Sigrid', 'Childish Gambino', 'Alec Benjamin', 'Against The Current', 'Alesso', 'SHAED', 'Maggie Rogers', 'Party Favor', 'rich the kid', 'Shlump', 'Tessa Violet', 'nothing,nowhere.', 'The Nude Party', 'Said The Sky', 'Japanese Breakfast', 'HONNE', 'CharlestheFirst', 'Matoma', 'Tierra Whack', '21 Savage', 'BAYNK', 'CalBoy', 'Tyla Yaweh', 'boy pablo', 'Bishop Briggs', 'The New Respects', 'Whethan', 'Omar Apollo', 'Yoshi Flower', 'Roy Blair', 'Conan Gray']),\n        list(['Tame Impala', 'The Cure', 'Robyn', 'Motorpsycho', 'Sigrid', 'KarPe', 'Mitski']),\n        list(['Tame Impala', 'The Cure', 'Robyn', 'Motorpsychos', 'Sigrid', 'KarPe', 'Mitski']),\n        list(['Tame Impala', 'The Cure', 'Robyn', 'Motorpsycho', 'Sigrid', 'KarPe', 'Mitski']),\n        list(['Tame Impala', 'The Cure', 'Robyn', 'Motorpsycho', 'Sigrid', 'KarPe', 'Mitski']),\n        list(['Tame Impala']), list(['Tame Impala']),\n        list(['Tame Impala']), list([]), list([]), list(['Tame Impala']),\n        list(['Tame Impala', 'The Cure', 'The Raconteurs', 'Asleep at the Wheel', 'Thom Yorke', 'Jenny Lewis', \"Guns N' Roses\", 'Mumford & Sons', 'k.flay', 'the Amazons', 'Childish Gambino', 'FIDLAR', 'Black Pistol Fire', 'RL Grime', 'Monsieur Periné', 'Weyes Blood', 'Tyler Childers', 'Madison Beer', 'Kaytranada', 'Cherry Glazerr', 'Houses', 'TroyBoi', 'The Comet Is Coming', 'Jai Wolf', 'Austin City Limits Festival']),\n        list(['Tame Impala']), list(['Tame Impala']),\n        list(['Tame Impala', 'Third Eye Blind', 'The Cure', 'The Raconteurs', 'The Kooks', 'Rebelution', 'Bruce Hornsby', 'Robyn', 'Asleep at the Wheel', 'Natalia Lafourcade', 'Banks', 'Thom Yorke', 'Kacey Musgraves', 'Jenny Lewis', 'Gary Clark Jr.', 'The Aces', 'The Score', \"Guns N' Roses\", 'James Blake', 'the Beaches', 'Mumford & Sons', 'k.flay', 'Shura', 'the Amazons', 'Griz', 'Childish Gambino', 'FIDLAR', 'Black Pistol Fire', 'Lizzo', 'RL Grime', 'Hippie Sabotage', 'Monsieur Periné', 'Weyes Blood', 'Tyler Childers', 'Taylor Bennett', 'Mahalia Music', 'Denzel Curry', 'Judah & The Lion', 'Madison Beer', 'Misterwives', 'Kaytranada', 'Cherry Glazerr', 'Houses', 'TroyBoi', 'Kali Uchis', 'The Comet Is Coming', 'Lil Uzi Vert', 'LANY', 'Jai Wolf', 'The Band Camino', 'King Princess', 'Austin City Limits Festival']),\n        list(['Tame Impala', 'Clairo']), list(['Tame Impala', 'Clairo']),\n        list(['Tame Impala', 'Clairo']), list(['Tame Impala', 'Clairo']),\n        list(['Tame Impala', 'MGMT', 'Clairo']),\n        list(['Tame Impala', 'Sum 41', 'Daddy Yankee', 'The Strokes', 'Juanes', 'División Minúscula', 'The Whitest Boy Alive', 'Kinky', 'Rodrigo y Gabriela', 'Ely Guerra', 'El Tri', 'Lucybell', 'Lila Downs', 'Hello Seahorse!', 'Enjambre', 'Los Cafres', 'Los Invasores De Nuevo Leon', 'Victimas del Dr. Cerebro', 'Los Cadetes de Linares', 'Todos Tus Muertos', 'Babasónicos', 'Andrés Calamaro', 'Alejandro Fernández', 'Los Auténticos Decadentes', 'Seth Troxler', 'Kongos', 'Mi Banda El Mexicano', 'Technicolor Fabrics', 'CID', 'Duki', 'LOUISAHHH!!!', 'Foster the People', 'Danny Ocean', 'Mon laferte', 'Caloncho', 'Iggy Azalea', 'Lauv', 'Galantis', 'Milky Chance', 'PAL NORTE', 'Klingande', 'Elderbrook', 'Thomas Jack', 'Elsa y Elmar', 'Elliot Moss', 'Sam Feldt', 'SHIBA SAN', 'Sasha Sloan', 'Morat', 'Sita Abellán', 'Girl Ultra', 'The Marías', 'Clairo', 'pluko', 'Paulo Londra', 'Ed Maverick']),\n        list(['Tame Impala', 'Khruangbin']),\n        list(['Tame Impala', 'Khruangbin']),\n        list(['Tame Impala', 'Khruangbin']),\n        list(['Tame Impala', 'Khruangbin']),\n        list(['Tame Impala', 'Khruangbin']),\n        list(['Tame Impala', 'Perfume Genius']),\n        list(['Tame Impala', 'Perfume Genius']),\n        list(['Tame Impala', 'Perfume Genius']),\n        list(['Tame Impala', 'Perfume Genius']),\n        list(['Tame Impala', 'Perfume Genius']),\n        list(['Tame Impala', 'Perfume Genius']),\n        list(['Tame Impala', 'Perfume Genius']),\n        list(['Tame Impala', 'Perfume Genius']),\n        list(['Tame Impala', 'Perfume Genius']),\n        list(['Tame Impala', 'Perfume Genius']),\n        list(['Tame Impala', 'Perfume Genius']),\n        list(['Tame Impala', 'Perfume Genius']),\n        list(['Tame Impala', 'Perfume Genius']),\n        list(['Tame Impala', 'Perfume Genius']),\n        list(['Tame Impala', 'Perfume Genius']),\n        list(['Tame Impala', 'Perfume Genius']),\n        list(['Tame Impala', 'Perfume Genius']),\n        list(['Tame Impala', 'Perfume Genius']),\n        list(['Tame Impala', 'MGMT', 'Clairo']),\n        list(['Tame Impala', 'Sum 41', 'Daddy Yankee', 'The Strokes', 'Juanes', 'División Minúscula', 'The Whitest Boy Alive', 'Kinky', 'Rodrigo y Gabriela', 'Ely Guerra', 'El Tri', 'Lucybell', 'Lila Downs', 'Hello Seahorse!', 'Enjambre', 'Los Cafres', 'Los Invasores De Nuevo Leon', 'Victimas del Dr. Cerebro', 'Los Cadetes de Linares', 'Todos Tus Muertos', 'Babasónicos', 'Andrés Calamaro', 'Alejandro Fernández', 'Los Auténticos Decadentes', 'Seth Troxler', 'Kongos', 'Mi Banda El Mexicano', 'Technicolor Fabrics', 'CID', 'Duki', 'LOUISAHHH!!!', 'Foster the People', 'Danny Ocean', 'Mon laferte', 'Caloncho', 'Iggy Azalea', 'Lauv', 'Galantis', 'Milky Chance', 'PAL NORTE', 'Klingande', 'Elderbrook', 'Thomas Jack', 'Elsa y Elmar', 'Elliot Moss', 'Sam Feldt', 'SHIBA SAN', 'Sasha Sloan', 'Morat', 'Sita Abellán', 'Girl Ultra', 'The Marías', 'Clairo', 'pluko', 'Paulo Londra', 'Ed Maverick']),\n        list(['Tame Impala', 'Daddy Yankee', 'Juanes', 'División Minúscula', 'Insite', 'Hello Seahorse!', 'Los Cafres', 'MGMT', 'Victimas del Dr. Cerebro', 'Babasónicos', 'Andrés Calamaro', 'Alejandro Fernández', 'Cray', 'Seth Troxler', 'Raul Hernandez', 'Los Romanticos de Zacatecas', 'La Leyenda', 'CID', 'Danny Ocean', 'Lauren Lane', 'Crooked Colours', 'Lauv', 'Galantis', 'Milky Chance', 'PAL NORTE', 'Klingande', 'Elderbrook', 'Thomas Jack', 'Elsa y Elmar', 'Elliot Moss', 'SHIBA SAN', 'Sasha Sloan', 'Medasin', 'Sita Abellán', 'Clairo', 'La Sonora Dinamita']),\n        list(['Tame Impala', 'Clairo']),\n        list(['Tame Impala', 'Khruangbin']),\n        list(['Tame Impala', 'Khruangbin']),\n        list(['Tame Impala', 'Khruangbin']),\n        list(['Tame Impala', 'Khruangbin']),\n        list(['Tame Impala', 'Khruangbin']),\n        list(['Tame Impala', 'Khruangbin']),\n        list(['Tame Impala', 'Khruangbin']),\n        list(['Tame Impala', 'MGMT', 'Clairo']),\n        list(['Tame Impala', 'Sum 41', 'Daddy Yankee', 'The Strokes', 'Juanes', 'División Minúscula', 'The Whitest Boy Alive', 'Kinky', 'Rodrigo y Gabriela', 'Ely Guerra', 'El Tri', 'Lucybell', 'Lila Downs', 'Hello Seahorse!', 'Enjambre', 'Los Cafres', 'Los Invasores De Nuevo Leon', 'Victimas del Dr. Cerebro', 'Los Cadetes de Linares', 'Todos Tus Muertos', 'Babasónicos', 'Andrés Calamaro', 'Alejandro Fernández', 'Los Auténticos Decadentes', 'Seth Troxler', 'Kongos', 'Mi Banda El Mexicano', 'Technicolor Fabrics', 'CID', 'Duki', 'LOUISAHHH!!!', 'Foster the People', 'Danny Ocean', 'Mon laferte', 'Caloncho', 'Iggy Azalea', 'Lauv', 'Galantis', 'Milky Chance', 'PAL NORTE', 'Klingande', 'Elderbrook', 'Thomas Jack', 'Elsa y Elmar', 'Elliot Moss', 'Sam Feldt', 'SHIBA SAN', 'Sasha Sloan', 'Morat', 'Sita Abellán', 'Girl Ultra', 'The Marías', 'Clairo', 'pluko', 'Paulo Londra', 'Ed Maverick']),\n        list(['Tame Impala', 'Daddy Yankee', 'Juanes', 'División Minúscula', 'Insite', 'Hello Seahorse!', 'Los Cafres', 'MGMT', 'Victimas del Dr. Cerebro', 'Babasónicos', 'Andrés Calamaro', 'Alejandro Fernández', 'Cray', 'Seth Troxler', 'Raul Hernandez', 'Los Romanticos de Zacatecas', 'La Leyenda', 'CID', 'Danny Ocean', 'Lauren Lane', 'Crooked Colours', 'Lauv', 'Galantis', 'Milky Chance', 'PAL NORTE', 'Klingande', 'Elderbrook', 'Thomas Jack', 'Elsa y Elmar', 'Elliot Moss', 'SHIBA SAN', 'Sasha Sloan', 'Medasin', 'Sita Abellán', 'Clairo', 'La Sonora Dinamita']),\n        list(['Tame Impala', 'MGMT', 'Clairo']),\n        list(['Tame Impala', 'Incubus', 'Nelly', 'Deftones', 'Foo Fighters', 'Flogging Molly', 'My Morning Jacket', 'Primus', 'Goose', 'The Disco Biscuits', 'LICK', 'Dashboard Confessional', 'Jason Isbell', 'Greensky Bluegrass', 'Janelle Monae', 'the 400 Unit', 'The Struts', 'with', 'Deadmau5', 'DJ Mel', 'G-Eazy', 'Surfaces', 'Lil Baby', 'Kevin Gates', 'Young the Giant', 'Lana Del Rey', 'Phoebe Bridgers', 'Jon Batiste', 'Young Thug', 'Lizzo', 'Flamingosis', 'Pinegrove', 'Glass Animals', 'Level-Up', 'Seven Lions', 'Uncle Acid ', 'King Gizzard & The Lizard Wizard', 'almost monday', 'Brittany Howard', 'Dr. Fresch', 'Boombox Cartel', 'Subtronics', 'Ashnikko', 'Run The Jewels', 'William Black', 'Hero the Band', 'Remi Wolf ', 'J.I.D', 'Ekali', 'Leon Bridges', 'JACK HARLOW', 'Tyler, The Creator', 'Grace Potter', 'Caamp', 'The Band Camino', 'Yaeji', 'Wooli', 'Oliver Tree', 'Megan Thee Stallion', 'Marc Rebillet', 'The Deadbeats', 'Tate McRae']),\n        list(['Tame Impala']), list(['Tame Impala', 'Perfume Genius']),\n        list(['Tame Impala']), list(['Tame Impala', 'Clairo']),\n        list(['Tame Impala']), list(['Tame Impala', 'Perfume Genius']),\n        list(['Tame Impala']), list(['Tame Impala']),\n        list(['Tame Impala', 'Taking Back Sunday', 'Nelly', 'Band of Horses', 'Diplo', 'Portugal. The Man', 'Wiz Khalifa', 'Chris Lake', 'Caribou', 'Cage the Elephant', 'Deep Sea Diver', 'Duke Dumont', 'María Isabel', 'Role Model', 'Aluna', 'Clever', 'Cassy', 'Cannons ', 'Turnstile', 'Claud', 'Blossoms', 'Rossy', 'Kim Petras', 'Peach Pit', 'Elohim', 'MISSIO', 'Rezz', 'Machine Gun Kelly', 'Madeon', 'Phoebe Bridgers', 'Lizzo', 'Mt. Joy', 'Blackbear', 'Atlas Genius', 'Lost Frequencies', 'Glass Animals', 'Khruangbin', 'Laundry Day', 'almost monday', 'Duckwrth', 'Denzel Curry', 'CloZee', 'Judah & The Lion', 'RedVeil', 'Sub Urban', 'Trevor Daniel', 'Madds', 'White Reaper', 'Grandson', 'Badflower', 'Sylvan Esso', 'Ritt Momney', 'GG Magree', 'Big Wild', 'Remi Wolf ', 'St. Panther', 'Noga Erez', 'Anna of the North', 'SLANDER', 'Sofi Tukker', 'Michigander', 'Billie Eilish', 'Middle Kids', 'Oliver Tree', 'ONR', 'Dominic Fike', 'Orion Sun', 'KennyHoopla', 'LP Giobbi', 'lovelytheband', 'Still Woozy', 'Royal & the Serpent', 'Megan Thee Stallion', 'Des Rocs', 'Marc Rebillet', 'Arlo Parks', 'Roddy Ricch', 'girl in red', 'Tate McRae', 'iann dior', '$NOT', 'JORDY', 'Gracie Abrams', 'Kenny Mason', 'jxdn', 'Carolesdaughter', 'Surf Mesa', 'Rozet']),\n        list(['Tame Impala']),\n        list(['Tame Impala', 'Nelly', 'The Strokes', 'Bonobo', 'Dr. Dog', 'Cam', 'Beach House', 'DRAMA', 'Q', 'Bakar', 'Vampire Weekend', 'The HU', 'Cannons ', 'The Soul Rebels', 'Claud', 'Sharon Van Etten', 'Angel Olsen', 'Outside Lands', 'Caroline Polachek', 'J Balvin', 'EOB', 'Odie', 'The Midnight', 'Lord Huron', 'Young Thug', 'Lizzo', 'ZHU', 'Burna Boy', 'Glass Animals', 'Khruangbin', 'Crooked Colours', 'Melanie Martinez', 'Mahalia Music', 'The 1975', 'Moses Sumney', 'Amy Allen', 'Rexx Life Raj', 'BADSHAH', 'Brittany Howard', 'Julia Jacklin', 'Nap Eyes', 'EarthGang', 'Trevor Daniel', 'Kaytranada', 'TroyBoi', 'SG Lewis', 'Buscabulla', 'Hinds', 'Yves Tumor', 'Kehlani', 'Polo & Pan', 'Remi Wolf ', 'A R I Z O N A', 'SHIBA SAN', 'RÜFÜS DU SOL', 'J.Phlip', 'YUNG BAE', 'Marc E. Bassy', 'Noga Erez', 'Post Animal', 'Sofi Tukker', 'Andrew McMahon in the Wilderness', 'Itsband', 'Shilan', 'The Beths', 'Tyler, The Creator', 'Big Thief', 'Parcels', 'Madeline Kenney', 'Rolling Blackouts Coastal Fever', 'Goth Babe', 'JPEGMAFIA', 'boy pablo', '070 SHAKE', 'Rico Nasty', 'Neil Frances', 'Resistance Revival Chorus', 'Scarypoolparty', 'mxmtoon', 'Bartees Strange', 'Marc Rebillet', 'Neal Francis', 'Dijon', 'Tones And I', 'Brijean', 'Evann McIntosh']),\n        list(['Tame Impala']), list(['Tame Impala']),\n        list(['Tame Impala', 'Master P', 'Lil Baby', 'Toro y Moi', 'BIA', 'Young Thug', 'ysl', 'Chief Keef', 'Maxo Kream', 'SZA', 'Chase B', 'Metro Boomin', 'Yves Tumor', '21 Savage', 'Bad Bunny', 'Earth, Wind & Fire', 'Travis Scott', 'Sheck Wes', 'Don Toliver', 'Roddy Ricch', 'Baby Keem', 'SoFaygo', 'Teezo Touchdown']),\n        list(['Tame Impala']), list(['Tame Impala']),\n        list(['Tame Impala']),\n        list(['Tame Impala', 'Foo Fighters', 'Juanes', 'División Minúscula', 'Insite', 'Kinky', 'The Kooks', 'Ely Guerra', 'El Tri', 'Lucybell', 'Lila Downs', 'Hello Seahorse!', 'Enjambre', 'Los Cafres', 'Victimas del Dr. Cerebro', 'Todos Tus Muertos', 'Babasónicos', 'Alejandro Fernández', 'Cray', 'Los Auténticos Decadentes', 'Seth Troxler', 'The Whites', 'Lua', 'Kongos', 'Los Romanticos de Zacatecas', 'Technicolor Fabrics', 'Nathan Barato', 'Sublime with Rome', 'Foster the People', 'Danny Ocean', 'Piso 21', 'Michael Brun', 'MCDAVO', 'Lauren Lane', 'Mon laferte', 'Caloncho', 'Claptone', 'Joss Favela', 'Galantis', 'Vicetone', 'PurpleDiscoMachine', 'Klingande', 'Thomas Jack', 'MAU Y RICKY', 'Elliot Moss', 'Sam Feldt', 'A R I Z O N A', 'SHIBA SAN', 'Leon Leiden', 'Sasha Alex Sloan', 'Sasha Sloan', 'UZIELITO MIX', 'Sita Abellán', 'Girl Ultra', 'boy pablo', 'Chet Faker', 'Gera mx', 'pluko', 'Ed Maverick']),\n        list(['Tame Impala']),\n        list(['Tame Impala', 'The Bravery', 'All Time Low', 'Cheap Trick', 'The Whitest Boy Alive', 'The Kooks', 'St. Vincent', 'AURORA', 'Gaia', 'Turnstile', 'Disclosure', 'LP', 'HANA', 'Shura', 'MISSIO', 'Flight Facilities', 'George FitzGerald', 'Royal Blood', 'Flamingosis', 'Electric Guest', 'Smith & Thell', 'Khruangbin', 'Faye Webster', 'Parquet Courts', 'Will Joseph Cook', 'Fakear', 'Adam Melchor', 'JP Saxe', 'Goss', 'Ashnikko', 'SG Lewis', 'twenty one pilots', 'Ritt Momney', 'Jehnny Beth', 'Elliot Moss', 'Glaive', 'RÜFÜS DU SOL', 'Dayglow', 'Bleachers', 'Cautious Clay', 'Pabllo Vittar', 'Ela Minus', 'boy pablo', '070 SHAKE', 'Slowthai', 'Alfie Templeman', 'Hamzaa', 'Alaina Castillo', 'Niko Rubio']),\n        list(['Tame Impala']), list(['Tame Impala']),\n        list(['Tame Impala']), list(['Tame Impala']),\n        list(['Tame Impala']), list(['Tame Impala']),\n        list(['Tame Impala']),\n        list(['Tame Impala', 'Foo Fighters', 'My Morning Jacket', 'St. Vincent', 'Dashboard Confessional', 'Sydney Sprague', 'the Tantrums', 'Nothing But Thieves', 'almost monday', 'Del Water Gap', 'Billy Strings', 'White Reaper', 'The DIP', 'Jade Bird', 'Matt and Kim', 'Caamp', 'Black Pumas']),\n        list(['Tame Impala', 'Pepper', 'Flying Lotus', 'Caribou', 'DRAMA', 'Gary Clark Jr.', 'DJ Harvey', 'The Glitch Mob', 'Ross', 'Jungle', 'Washed Out', 'BIA', 'Porter Robinson', 'The Backseat Lovers', 'Griz', 'Rezz', 'Twin Shadow', 'Amtrac', 'Mt. Joy', 'Duckwrth', 'Denzel Curry', 'CloZee', 'Elderbrook', 'TroyBoi', 'Ashnikko', 'STRFKR', 'Jai Wolf', 'Gus Dapperton', 'Tobi Lou', 'Two Feet', 'Megan Thee Stallion', 'Coi Leray', 'Tai Verdes']),\n        list(['Tame Impala'])], dtype=object),\n 'festival_start_date': array(['', '', '', '', '', '', '', '', '', '', '', '', '', '', '', '', '',\n        '', '', '', '', '', '', '', '', '', '', '', '', '', '', '', '', '',\n        '', '', '', '', '', '', '', '', '', '', '', '', '', '', '', '', '',\n        '', '', '', '', '', '', '', '', '', '', '', '', '', '', '', '', '',\n        '', '', '', '', '', '', '', '', '', '', '', '', '', '', '', '', '',\n        '', '', '', '', '', '', '', '', '', '', '', '', '', '', '', '', '',\n        '', '', '', '', '', '', '', '', '', '', '', '', '', '', '', '', '',\n        '', '', '', '', '', '', '', '', '', '', '', '', '', '', '', '', '',\n        '', '', '', '', '', '', '', '', '', '', '', '', '', '', '', '', '',\n        '', '', '', '', '', '', '', '', '', '', '', '', '', '', '', '', '',\n        '', '', '', '', '', '', '', '', '', '', '', '', '', '', '', '', '',\n        '', '', '', '', '', '', '', '', '', '', '', '', '', '', '', '', '',\n        '', '', '', '', '', '', '', '', '', '', '', '', '', '', '', '', '',\n        '', '', '', '', '', '', '', '', '', '', '', '', '', '', '', '', '',\n        '', '', '', '', '', '', '', '', '', '', '', '', '', '', '', '', '',\n        '', '', '', '', '', '', '', '', '', '', '', '', '', '', '', '', '',\n        '', '', '', '', '', '', '', '', '', '', '', '', '', '', '', '', '',\n        '', '', '', '', '', '', '', '', '', '', '', '', '', '', '', '', '',\n        '', '', '', '', '', '', '', '', '', '', ''], dtype=object),\n 'festival_end_date': array(['', '', '', '', '', '', '', '', '', '', '', '', '', '', '', '', '',\n        '', '', '', '', '', '', '', '', '', '', '', '', '', '', '', '', '',\n        '', '', '', '', '', '', '', '', '', '', '', '', '', '', '', '', '',\n        '', '', '', '', '', '', '', '', '', '', '', '', '', '', '', '', '',\n        '', '', '', '', '', '', '', '', '', '', '', '', '', '', '', '', '',\n        '', '', '', '', '', '', '', '', '', '', '', '', '', '', '', '', '',\n        '', '', '', '', '', '', '', '', '', '', '', '', '', '', '', '', '',\n        '', '', '', '', '', '', '', '', '', '', '', '', '', '', '', '', '',\n        '', '', '', '', '', '', '', '', '', '', '', '', '', '', '', '', '',\n        '', '', '', '', '', '', '', '', '', '', '', '', '', '', '', '', '',\n        '', '', '', '', '', '', '', '', '', '', '', '', '', '', '', '', '',\n        '', '', '', '', '', '', '', '', '', '', '', '', '', '', '', '', '',\n        '', '', '', '', '', '', '', '', '', '', '', '', '', '', '', '', '',\n        '', '', '', '', '', '', '', '', '', '', '', '', '', '', '', '', '',\n        '', '', '', '', '', '', '', '', '', '', '', '', '', '', '', '', '',\n        '', '', '', '', '', '', '', '', '', '', '', '', '', '', '', '', '',\n        '', '', '', '', '', '', '', '', '', '', '', '', '', '', '', '', '',\n        '', '', '', '', '', '', '', '', '', '', '', '', '', '', '', '', '',\n        '', '', '', '', '', '', '', '', '', '', ''], dtype=object),\n 'city': array(['Indio', 'Indio', 'Indio', 'West Melbourne', 'Sydney',\n        'South Bank Qld', 'Upper Swan', 'Barcelona', 'George', 'Portland',\n        'North Vancouver', 'Oakland', 'Pomona', 'San Diego', 'Manchester',\n        'Atlanta', 'Richmond', 'Philadelphia', 'London', 'Paris', 'Gdynia',\n        'Werchter', 'Ramonville-St-Agne', 'Budapest', 'Oslo', 'Copenhagen',\n        'Zurich', 'Biddinghuizen', 'Edinburgh', 'Dublin', 'Leeds',\n        'New York', 'New York', 'Philadelphia', 'Columbia', 'St Louis',\n        'Madison', 'Chicago', 'Kansas City', 'Dallas', 'Rio De Janeiro',\n        'Monterrey', 'Mexico City', 'Boulder', 'Denver', 'Los Angeles',\n        'Los Angeles', 'San Francisco', 'Santa Barbara', 'Seattle',\n        'Portland', 'Auckland', 'Carrara', 'Melbourne',\n        'Sydney Olympic Park', 'Adelaide', 'Joondalup Wa',\n        'Rottnest Island', 'Oxford', 'Frankfurt Am Main', 'Munich',\n        'Kinross', 'Manchester', 'Birmingham', 'Nottingham', 'Suffolk',\n        'Beccles', 'Beccles', 'New York', 'New York', 'Los Angeles',\n        'Las Vegas', 'Oakland', 'Oakland', 'Bogota', 'Santiago',\n        'Manchester', 'London', 'Sao Paulo', 'Ariel', 'Pomona', 'Indio',\n        'Indio', 'Austin', 'New Orleans', 'Atlanta', 'Nashville',\n        'Minneapolis', 'Milwaukee', 'Chicago', 'Columbus', 'Royal Oak',\n        'Toronto', 'Montreal', 'Montreal', 'Boston', 'George', 'Vancouver',\n        'Portland', 'Salt Lake City', 'Denver', 'Kansas City', 'St Louis',\n        'Pittsburgh', 'Cleveland', 'Cincinnati', 'Washington', 'New York',\n        'Byron Bay Nsw', 'Byron Bay', 'Chicago', 'San Diego',\n        'Los Angeles', 'Los Angeles', 'San Francisco', 'Viana Do Castelo',\n        'Hasselt', 'Biddinghuizen', 'Sestri Levante', 'Rome', 'Verona',\n        'Zurich', 'Boulogne-Billancourt', 'Gardenstown', 'Stradbally',\n        'Glasgow', 'Liverpool', 'Downend', 'Berlin', 'Austin',\n        'Upper Darby', 'New York', 'New York', 'Austin', 'Melbourne',\n        'Circular Quay', 'Sydney', 'Perth', 'Perth', 'Adelaide',\n        'Adelaide', 'Brisbane', 'Auckland', 'Wellington',\n        'Amsterdam-Zuidoost', 'Brussels', 'Paris', 'Frederiksberg', 'Oslo',\n        'Stockholm', 'Hamburg', 'Berlin', 'Köln', 'Manchester', 'London',\n        'London', 'Bogota', 'Sao Paulo', 'Lima', 'Buenos Aires',\n        'Buenos Aires', 'Santiago', 'Yau Tsim Mong', 'Singapore',\n        'Kuala Lumpur', 'Tokyo', 'Osaka', 'Jakarta', 'Barcelona', 'Dublin',\n        'Manchester', 'Toronto', 'Montréal', 'Brooklyn', 'Brooklyn',\n        'Columbia', 'Dover', 'Gdynia', 'Roskilde', 'Werchter', 'Belfort',\n        'Lyon', 'Milan', 'Lisbon', 'Bilbao', 'Rishon Le Ẕiyyon',\n        'Ostrava - Vítkovice', 'Gräfenhainichen', 'Los Angeles',\n        'Portland', 'Denver', 'Berkeley', 'Berkeley', 'Seattle', 'México',\n        'Monterrey', 'New York', 'Madrid', 'Camden, London', 'Chicago',\n        'Martindale', 'Martindale', 'Tokyo', 'Higashi-Osaka', 'London',\n        'London', 'London', 'Lake Perris', 'Oakland', 'Oakland',\n        'Nashville', 'Asheville', 'Atlanta', 'St. Augustine',\n        'Miami Beach', 'Zapopan', 'Boston', 'Barcelona', 'Paris',\n        'Lorensberg', 'London', 'Blackpool', 'Dublin', 'Toronto',\n        'Detroit', 'Minneapolis', 'Minneapolis', 'Chicago', 'Oslo', 'Oslo',\n        'Oslo', 'Oslo', 'Berlin', 'New York', 'New York', 'Philadelphia',\n        'Washington', 'Washington', 'Austin', 'Denver', 'Denver', 'Austin',\n        'San Diego', 'Los Angeles', 'Los Angeles', 'San Francisco',\n        'Mexico', 'Monterrey', 'Auckland', 'Brisbane', 'Melbourne',\n        'Hindmarsh', 'Perth', 'Toronto', 'Montreal', 'Washington',\n        'Charlotte', 'Atlanta', 'Miami', 'St Paul', 'St Louis',\n        'Kansas City', 'Tulsa', 'Austin', 'Dallas', 'Houston', 'Glendale',\n        'Denver', 'Salt Lake City', 'Portland', 'Vancouver', 'Mexico',\n        'Monterrey', 'Monterrey', 'San Francisco', 'Auckland', 'Brisbane',\n        'Sydney', 'Melbourne', 'Melbourne', 'Hindmarsh', 'Perth', 'Mexico',\n        'Monterrey', 'Monterrey', 'Mexico', 'Manchester', 'Chicago',\n        'Quincy', 'Portland', 'San Francisco', 'Las Vegas', 'Glendale',\n        'Denver', 'Washington', 'Dover', 'Atlanta', 'San Francisco',\n        'Los Angeles', 'Los Angeles', 'Houston', 'Austin', 'Houston',\n        'Dallas', 'Monterrey', 'Zapopan', 'Mexico', 'Auckland', 'Sydney',\n        'Brisbane', 'Melbourne', 'Melbourne', 'Hindmarsh', 'Perth',\n        'Tempe', 'Okeechobee', 'Pittsburgh'], dtype=object),\n 'region': array(['CA', 'CA', 'CA', '', '', '', '', '', 'WA', 'OR', 'BC', 'CA', 'CA',\n        'CA', 'TN', 'GA', 'VA', 'PA', '', '', '', '', '', '', '', '', '',\n        '', '', '', '', 'NY', 'NY', 'PA', 'MD', 'MO', 'WI', 'IL', 'MO',\n        'TX', '', '', '', 'CO', 'CO', 'CA', 'CA', 'CA', 'CA', 'WA', 'OR',\n        '', '', '', '', '', '', '', '', '', '', '', '', '', '', '', '', '',\n        'NY', 'NY', 'CA', 'NV', 'CA', 'CA', '', '', '', '', '', '', 'CA',\n        'CA', 'CA', 'TX', 'LA', 'GA', 'TN', 'MN', 'WI', 'IL', 'OH', 'MI',\n        'ON', 'QC', 'QC', 'MA', 'WA', 'BC', 'OR', 'UT', 'CO', 'MO', 'MO',\n        'PA', 'OH', 'OH', 'DC', 'NY', '', '', 'IL', 'CA', 'CA', 'CA', 'CA',\n        '', '', '', '', '', '', '', '', '', '', '', '', '', '', 'TX', 'PA',\n        'NY', 'NY', 'TX', '', '', '', '', '', '', '', '', '', '', '', '',\n        '', '', '', '', '', '', '', '', '', '', '', '', '', '', '', '', '',\n        '', '', '', '', '', '', '', 'TN', 'ON', 'QC', 'NY', 'NY', 'MD',\n        'DE', '', '', '', '', '', '', '', '', '', '', '', 'CA', 'OR', 'CO',\n        'CA', 'CA', 'WA', '', '', 'NY', '', '', 'IL', 'TX', 'TX', '', '',\n        '', '', '', 'CA', 'CA', 'CA', 'TN', 'NC', 'GA', 'FL', 'FL', '',\n        'MA', '', '', '', '', '', '', 'ON', 'MI', 'MN', 'MN', 'IL', '', '',\n        '', '', '', 'NY', 'NY', 'PA', 'DC', 'DC', 'TX', 'CO', 'CO', 'TX',\n        'CA', 'CA', 'CA', 'CA', '', '', '', '', '', '', '', 'ON', 'QC',\n        'DC', 'NC', 'GA', 'FL', 'MN', 'MO', 'MO', 'OK', 'TX', 'TX', 'TX',\n        'AZ', 'CO', 'UT', 'OR', 'BC', '', '', '', 'CA', '', '', '', '', '',\n        '', '', '', '', '', '', 'TN', 'IL', 'WA', 'OR', 'CA', 'NV', 'AZ',\n        'CO', 'DC', 'DE', 'GA', 'CA', 'CA', 'CA', 'TX', 'TX', 'TX', 'TX',\n        '', '', '', '', '', '', '', '', '', '', 'AZ', 'FL', 'PA'],\n       dtype=object),\n 'country': array(['United States', 'United States', 'United States', 'Australia',\n        'Australia', 'Australia', 'Australia', 'Spain', 'United States',\n        'United States', 'Canada', 'United States', 'United States',\n        'United States', 'United States', 'United States', 'United States',\n        'United States', 'United Kingdom', 'France', 'Poland', 'Belgium',\n        'France', 'Hungary', 'Norway', 'Denmark', 'Switzerland',\n        'Netherlands', 'United Kingdom', 'Ireland', 'United Kingdom',\n        'United States', 'United States', 'United States', 'United States',\n        'United States', 'United States', 'United States', 'United States',\n        'United States', 'Brazil', 'Mexico', 'Mexico', 'United States',\n        'United States', 'United States', 'United States', 'United States',\n        'United States', 'United States', 'United States', 'New Zealand',\n        'Australia', 'Australia', 'Australia', 'Australia', 'Australia',\n        'Australia', 'United Kingdom', 'Germany', 'Germany',\n        'United Kingdom', 'United Kingdom', 'United Kingdom',\n        'United Kingdom', 'United Kingdom', 'United Kingdom',\n        'United Kingdom', 'United States', 'United States',\n        'United States', 'United States', 'United States', 'United States',\n        'Colombia', 'Chile', 'United Kingdom', 'United Kingdom', 'Brazil',\n        'Argentina', 'United States', 'United States', 'United States',\n        'United States', 'United States', 'United States', 'United States',\n        'United States', 'United States', 'United States', 'United States',\n        'United States', 'Canada', 'Canada', 'Canada', 'United States',\n        'United States', 'Canada', 'United States', 'United States',\n        'United States', 'United States', 'United States', 'United States',\n        'United States', 'United States', 'United States', 'United States',\n        'Australia', 'Australia', 'United States', 'United States',\n        'United States', 'United States', 'United States', 'Portugal',\n        'Belgium', 'Netherlands', 'Italy', 'Italy', 'Italy', 'Switzerland',\n        'France', 'United Kingdom', 'Ireland', 'United Kingdom',\n        'United Kingdom', 'United Kingdom', 'Germany', 'United States',\n        'United States', 'United States', 'United States', 'United States',\n        'Australia', 'Australia', 'Australia', 'Australia', 'Australia',\n        'Australia', 'Australia', 'Australia', 'New Zealand',\n        'New Zealand', 'Netherlands', 'Belgium', 'France', 'Denmark',\n        'Norway', 'Sweden', 'Germany', 'Germany', 'Germany',\n        'United Kingdom', 'United Kingdom', 'United Kingdom', 'Colombia',\n        'Brazil', 'Peru', 'Argentina', 'Argentina', 'Chile',\n        'Hong Kong-China', 'Singapore', 'Malaysia', 'Japan', 'Japan',\n        'Indonesia', 'Spain', 'Ireland', 'United States', 'Canada',\n        'Canada', 'United States', 'United States', 'United States',\n        'United States', 'Poland', 'Denmark', 'Belgium', 'France',\n        'France', 'Italy', 'Portugal', 'Spain', 'Israel', 'Czechia',\n        'Germany', 'United States', 'United States', 'United States',\n        'United States', 'United States', 'United States', 'Mexico',\n        'Mexico', 'United States', 'Spain', ' UNITED KINGDOM',\n        'United States of America', 'United States', 'United States',\n        'Japan', 'Japan', 'United Kingdom', 'United Kingdom',\n        'United Kingdom', 'United States', 'United States',\n        'United States', 'United States', 'United States', 'United States',\n        'United States', 'United States', 'Mexico', 'United States',\n        'Spain', 'France', 'Sweden', 'United Kingdom', 'United Kingdom',\n        'Ireland', 'Canada', 'United States', 'United States',\n        'United States', 'United States', 'Norway', 'Norway', 'Norway',\n        'Norway', 'Germany', 'United States', 'United States',\n        'United States', 'United States', 'United States', 'United States',\n        'United States', 'United States', 'United States', 'United States',\n        'United States', 'United States', 'United States', 'Mexico',\n        'Mexico', 'New Zealand', 'Australia', 'Australia', 'Australia',\n        'Australia', 'Canada', 'Canada', 'United States', 'United States',\n        'United States', 'United States', 'United States', 'United States',\n        'United States', 'United States', 'United States', 'United States',\n        'United States', 'United States', 'United States', 'United States',\n        'United States', 'Canada', 'Mexico', 'Mexico', 'Mexico',\n        'United States', 'New Zealand', 'Australia', 'Australia',\n        'Australia', 'Australia', 'Australia', 'Australia', 'Mexico',\n        'Mexico', 'Mexico', 'Mexico', 'United States', 'United States',\n        'United States', 'United States', 'United States', 'United States',\n        'United States', 'United States', 'United States', 'United States',\n        'United States', 'United States', 'United States', 'United States',\n        'United States', 'United States', 'United States', 'United States',\n        'Mexico', 'Mexico', 'Mexico', 'New Zealand', 'Australia',\n        'Australia', 'Australia', 'Australia', 'Australia', 'Australia',\n        'United States', 'United States', 'United States'], dtype=object),\n 'latitude': array([ 33.7205556,  33.6784492,  33.7205556, -37.81126  , -33.889832 ,\n        -27.476351 , -31.7900054,  41.413836 ,  47.0791667,  45.522928 ,\n         49.3544406,  37.807772 ,  34.056791 ,  32.7163734,  35.512188 ,\n         33.758589 ,  37.541608 ,  39.964809 ,  51.489964 ,  48.870102 ,\n         54.517078 ,  50.9705   ,  43.548883 ,  47.5      ,  59.9167   ,\n         55.6666667,  47.387318 ,  52.4396038,  55.946727 ,  53.344265 ,\n         53.87016  ,  40.769704 ,  40.769704 ,  39.9602181,  39.211407 ,\n         38.62774  ,  43.074861 ,  41.85     ,  39.0997222,  32.769441 ,\n        -22.9130601,  25.6666667,  19.4319   ,  40.018845 ,  39.740009 ,\n         34.119523 ,  34.0402556,  37.778435 ,  34.432517 ,  47.6221261,\n         45.5228996, -36.8666496, -28.0059   , -37.785831 , -33.846409 ,\n        -34.9333333, -31.735929 , -31.99863  ,  51.746928 ,  50.135439 ,\n         48.12504  ,  56.2      ,  53.4784   ,  52.475473 ,  52.9666667,\n         52.348906 ,  52.383097 ,  52.4666667,  40.7803275,  40.7803275,\n         34.022726 ,  36.117661 ,  37.807772 ,  37.807772 ,   4.6      ,\n        -33.463039 ,  53.486934 ,  51.594192 , -23.56284  , -36.581824 ,\n         34.056584 ,  33.721702 ,  33.721702 ,  30.2669444,  29.950033 ,\n         33.7488889,  36.162219 ,  44.9782677,  43.0388889,  41.968926 ,\n         39.997584 ,  42.4872563,  43.653755 ,  45.5105348,  45.5107689,\n         42.3583333,  47.0791667,  49.2908103,  45.523452 ,  40.769588 ,\n         39.740299 ,  39.061149 ,  38.655624 ,  40.4453   ,  41.499691 ,\n         39.101688 ,  38.9198486,  40.7141667, -28.646891 , -28.65     ,\n         41.875778 ,  32.748008 ,  34.0905044,  34.0905044,  37.7660618,\n         41.7005249,  50.9333333,  52.45     ,  44.26804  ,  41.823944 ,\n         45.4463616,  47.3666667,  48.841304 ,  57.671853 ,  52.13     ,\n         55.855355 ,  53.41564  ,  50.6833333,  52.5166667,  30.266036 ,\n         39.9611479,  40.759529 ,  40.76986  ,  30.2660358, -37.822033 ,\n        -33.86186  , -33.865059 , -31.9333333, -31.9333333, -34.9236931,\n        -34.9236931, -27.477112 , -36.8927994, -40.87094  ,  52.3123512,\n         50.809646 ,  48.888877 ,  55.679681 ,  59.9166667,  59.294117 ,\n         53.55     ,  52.484701 ,  50.9333333,  53.486934 ,  51.594165 ,\n         51.5      ,   4.6      , -23.5333333, -12.05     , -34.6727066,\n        -34.5875   , -33.45     ,  22.3185806,   1.2930556,   3.1666667,\n         35.685    ,  34.6666667,  -6.1744444,  41.3833333,  53.3330556,\n         35.476247 ,  43.617321 ,  45.496112 ,  40.664607 ,  40.664607 ,\n         39.208917 ,  39.186967 ,  54.518951 ,  55.630278 ,  50.9701385,\n         47.6414528,  45.7590274,  45.4666667,  38.698791 ,  43.25     ,\n         31.9577751,  49.814788 ,  51.726719 ,  34.0151015,  45.5236111,\n         39.7391667,  37.8716667,  37.8716667,  47.610588 ,  19.4015408,\n         25.6666667,  40.8619003,  40.4165   ,  51.5323601,  41.8839452,\n         29.8452778,  29.8452778,  35.685    ,  34.6666667,  51.5397173,\n         51.5397173,  51.5397173,  35.6405556,  37.8044444,  37.8052576,\n         36.1724885,  35.5950581,  33.7717008,  29.9012437,  25.790654 ,\n         20.6719563,  42.3593008,  41.38879  ,  48.86405  ,  57.699369 ,\n         51.503038 ,  53.777679 ,  53.354771 ,  43.6293322,  42.3313889,\n         44.977753 ,  44.977753 ,  41.8843178,  59.9166667,  59.9166667,\n         59.9166667,  59.9166667,  52.4584333,  40.7507387,  40.7507387,\n         39.9522222,  38.8800664,  38.8800664,  30.265664 ,  39.776204 ,\n         39.776204 ,  30.265664 ,  32.755274 ,  33.9582095,  33.9582095,\n         37.77493  ,  19.4051591,  28.82944  , -36.847242 , -27.46794  ,\n        -37.8216202, -34.90516  , -31.948434 ,  43.643466 ,  45.496112 ,\n         38.901957 ,  35.2251426,  33.749    ,  25.7814014,  44.94715  ,\n         38.6268402,  39.0972997,  36.152766 ,  30.2768975,  32.7904365,\n         29.7507604,  33.531484 ,  39.7486389,  40.76772  ,  45.531982 ,\n         49.2778358,  19.4051591,  20.64866  ,  25.7735   ,  37.77493  ,\n        -36.847242 , -27.46794  , -33.8443038, -37.8216202, -37.8216202,\n        -34.90516  , -31.948434 ,  19.4051591,  20.64866  ,  20.64866  ,\n         19.4051591,  35.48174  ,  41.8806908,  47.0937583,  45.531982 ,\n         37.77493  ,  36.1686667,  33.531484 ,  39.7486565,  38.901957 ,\n         39.15817  ,  33.756027 ,  37.7694208,  34.112224 ,  34.112224 ,\n         29.6849044,  30.2769359,  29.7858124,  32.7904365,  22.31651  ,\n         20.73192  ,  19.4039371, -36.847242 , -33.8443038, -27.46794  ,\n        -37.8216202, -37.8216202, -34.90516  , -31.948434 ,  33.4307373,\n         27.35988  ,  40.4438281]),\n 'longitude': array([-1.16214722e+02, -1.16237155e+02, -1.16214722e+02,  1.44946442e+02,\n         1.51223348e+02,  1.53017471e+02,  1.16022548e+02,  2.21720500e+00,\n        -1.19854722e+02, -1.22684512e+02, -1.23057818e+02, -1.22270194e+02,\n        -1.17750225e+02, -1.17160086e+02, -8.60687180e+01, -8.43910840e+01,\n        -7.74350780e+01, -7.51696010e+01, -2.26173000e-01,  2.32831700e+00,\n         1.85353200e+01,  4.69408000e+00,  1.46617500e+00,  1.90833000e+01,\n         1.07500000e+01,  1.25833333e+01,  8.49986500e+00,  5.76821930e+00,\n        -3.18866100e+00, -6.26617700e+00, -1.38034500e+00, -7.39924140e+01,\n        -7.39924140e+01, -7.51372998e+01, -7.68629900e+01, -9.01995140e+01,\n        -8.93884930e+01, -8.76500000e+01, -9.45783333e+01, -9.67982130e+01,\n        -4.31804100e+01, -1.00316667e+02, -9.91328510e+01, -1.05277326e+02,\n        -1.04975258e+02, -1.18296310e+02, -1.18259252e+02, -1.22418125e+02,\n        -1.19693690e+02, -1.22354016e+02, -1.22684781e+02,  1.74728073e+02,\n         1.53363650e+02,  1.44919754e+02,  1.51067298e+02,  1.38600000e+02,\n         1.15759621e+02,  1.15541730e+02, -1.23470000e+00,  8.73914400e+00,\n         1.16041000e+01, -3.41666670e+00, -2.24880000e+00, -1.88731100e+00,\n        -1.16666670e+00,  1.59526700e+00,  1.58009300e+00,  1.56666670e+00,\n        -7.39816297e+01, -7.39816297e+01, -1.18281289e+02, -1.15172783e+02,\n        -1.22270194e+02, -1.22270194e+02, -7.40833333e+01, -7.06479420e+01,\n        -2.24248900e+00, -1.30773000e-01, -4.66546400e+01, -5.99652640e+01,\n        -1.17750505e+02, -1.16219425e+02, -1.16219425e+02, -9.77427778e+01,\n        -9.00740910e+01, -8.43880556e+01, -8.67793990e+01, -9.32760773e+01,\n        -8.79063889e+01, -8.76599090e+01, -8.30074240e+01, -8.31469338e+01,\n        -7.93787200e+01, -7.35633720e+01, -7.35636292e+01, -7.10602778e+01,\n        -1.19854722e+02, -1.23146209e+02, -1.22676207e+02, -1.11901140e+02,\n        -1.04975288e+02, -9.45906380e+01, -9.02979120e+01, -8.00135490e+01,\n        -8.16909410e+01, -8.44996490e+01, -7.69728179e+01, -7.40063889e+01,\n         1.53612823e+02,  1.53616667e+02, -8.76202390e+01, -1.17131278e+02,\n        -1.18319880e+02, -1.18319880e+02, -1.22464312e+02, -8.82421120e+00,\n         5.33333330e+00,  5.70000000e+00,  9.39185000e+00,  1.25685300e+01,\n         1.10030492e+01,  8.55000000e+00,  2.22441300e+00, -2.33833700e+00,\n        -7.46000000e+00, -4.23696100e+00, -2.95712400e+00, -1.23333330e+00,\n         1.34000000e+01, -9.77715290e+01, -7.52589485e+01, -7.39785840e+01,\n        -7.39926700e+01, -9.77676149e+01,  1.44974426e+02,  1.51210550e+02,\n         1.51192960e+02,  1.15833333e+02,  1.15833333e+02,  1.38568596e+02,\n         1.38568596e+02,  1.53030106e+02,  1.74782013e+02,  1.75017550e+02,\n         4.94415000e+00,  4.32609500e+00,  2.39248400e+00,  1.25334490e+01,\n         1.07500000e+01,  1.80795100e+01,  1.00000000e+01,  1.33925320e+01,\n         6.95000000e+00, -2.24248900e+00, -1.30752000e-01, -1.16666700e-01,\n        -7.40833333e+01, -4.66166667e+01, -7.70500000e+01, -5.84761429e+01,\n        -5.86725000e+01, -7.06666667e+01,  1.14171516e+02,  1.03855833e+02,\n         1.01700000e+02,  1.39751389e+02,  1.35500000e+02,  1.06829444e+02,\n         2.18333330e+00, -6.24888890e+00, -8.60810260e+01, -7.93717117e+01,\n        -7.35693150e+01, -7.39768460e+01, -7.39768460e+01, -7.68626080e+01,\n        -7.55372140e+01,  1.85235520e+01,  1.20836310e+01,  4.68312980e+00,\n         6.85886530e+00,  4.82109570e+00,  9.20000000e+00, -9.23032700e+00,\n        -2.96666670e+00,  3.48109741e+01,  1.82687570e+01,  1.24619200e+01,\n        -1.18285933e+02, -1.22675000e+02, -1.04984167e+02, -1.22271667e+02,\n        -1.22271667e+02, -1.22335847e+02, -9.90980606e+01, -1.00316667e+02,\n        -7.38268967e+01, -3.70256000e+00, -1.27960000e-01, -8.76655371e+01,\n        -9.78405556e+01, -9.78405556e+01,  1.39751389e+02,  1.35583333e+02,\n        -5.80711000e-02, -5.80711000e-02, -5.80711000e-02, -1.17763056e+02,\n        -1.22269722e+02, -1.22322979e+02, -8.67805961e+01, -8.25514869e+01,\n        -8.43726049e+01, -8.13124341e+01, -8.01300455e+01, -1.03416501e+02,\n        -7.11270268e+01,  2.15899000e+00,  2.33105000e+00,  1.19708071e+01,\n         3.15430000e-03, -3.04276700e+00, -6.23234000e+00, -7.94150723e+01,\n        -8.30458333e+01, -9.32650108e+01, -9.32650108e+01, -8.76195445e+01,\n         1.07500000e+01,  1.07500000e+01,  1.07500000e+01,  1.07500000e+01,\n         1.35539563e+01, -7.39937978e+01, -7.39937978e+01, -7.51641667e+01,\n        -7.70261129e+01, -7.70261129e+01, -9.77660760e+01, -1.04969168e+02,\n        -1.04969168e+02, -9.77660760e+01, -1.17212196e+02, -1.18341899e+02,\n        -1.18341899e+02, -1.22419420e+02, -9.90956283e+01, -1.11639440e+02,\n         1.74776129e+02,  1.53028090e+02,  1.44978536e+02,  1.38572250e+02,\n         1.15852110e+02, -7.93791420e+01, -7.35693150e+01, -7.70263330e+01,\n        -8.08392351e+01, -8.43879800e+01, -8.01869690e+01, -9.30869490e+01,\n        -9.02026783e+01, -9.45799392e+01, -9.59964160e+01, -9.77321857e+01,\n        -9.68103281e+01, -9.53621005e+01, -1.12261670e+02, -1.05007529e+02,\n        -1.11901127e+02, -1.22667838e+02, -1.23108823e+02, -9.90956283e+01,\n        -9.81561500e+01, -1.00168380e+02, -1.22419420e+02,  1.74776129e+02,\n         1.53028090e+02,  1.51062084e+02,  1.44978536e+02,  1.44978536e+02,\n         1.38572250e+02,  1.15852110e+02, -9.90956283e+01, -9.81561500e+01,\n        -9.81561500e+01, -9.90956283e+01, -8.60886000e+01, -8.76741759e+01,\n        -1.19982865e+02, -1.22667838e+02, -1.22419420e+02, -1.15144641e+02,\n        -1.12261670e+02, -1.05007603e+02, -7.70263330e+01, -7.55243700e+01,\n        -8.43972820e+01, -1.22486214e+02, -1.18339128e+02, -1.18339128e+02,\n        -9.54107358e+01, -9.77321850e+01, -9.53669739e+01, -9.68103281e+01,\n        -9.83096800e+01, -1.03379410e+02, -9.90895294e+01,  1.74776129e+02,\n         1.51062084e+02,  1.53028090e+02,  1.44978536e+02,  1.44978536e+02,\n         1.38572250e+02,  1.15852110e+02, -1.11941694e+02, -8.07335740e+01,\n        -7.99622834e+01]),\n 'location': array(['', '', '', '', '', '', '', '', '', '', '', '', '', '', '', '', '',\n        '', '', '', '', '', '', '', '', '', '', '', '', '', '', '', '', '',\n        '', '', '', '', '', '', '', '', '', '', '', '', '', '', '', '', '',\n        '', '', '', '', '', '', '', '', '', '', '', '', '', '', '', '', '',\n        '', '', '', '', '', '', '', '', '', '', '', '', '', '', '', '', '',\n        '', '', '', '', '', '', '', '', '', '', '', '', '', '', '', '', '',\n        '', '', '', '', '', '', '', '', '', '', '', '', '', '', '', '', '',\n        '', '', '', '', '', '', '', '', '', '', '', '', '', '', '', '', '',\n        '', '', '', '', '', '', '', '', '', '', '', '', '', '', '', '', '',\n        '', '', '', '', '', '', '', '', '', '', '', '', '', '', '', '', '',\n        '', '', '', '', '', '', '', '', '', '', '', '', '', '', '', '', '',\n        '', '', '', '', '', '', '', '', '', '', '', '', '', '', '', '', '',\n        '', '', '', '', '', '', '', '', '', '', '', '', '', '', '', '', '',\n        '', '', '', '', '', '', '', '', '', '', '', '', '', '', '', '', '',\n        '', '', '', '', '', '', '', '', '', '', '', '', '', '', '', '', '',\n        '', '', '', '', '', '', '', '', '', '', '', '', '', '', '', '', '',\n        '', '', '', '', '', '', '', '', '', '', '', '', '', '', '', '', '',\n        '', '', '', '', '', '', '', '', '', '', '', '', '', '', '', '', '',\n        '', '', '', '', '', '', '', '', '', '', ''], dtype=object),\n 'name': array(['Empire Polo Field', 'Empire Polo Club', 'Empire Polo Field',\n        'Festival Hall Melbourne', 'Hordern Pavilion',\n        'Brisbane Convention & Exhibition Centre', 'Belvoir Amphitheatre',\n        'Parc del Fòrum', 'Gorge Amphitheatre', 'Crystal Ballroom',\n        'Commodore Ballroom', 'Fox Theater', 'The Fox Theater',\n        'House of Blues San Diego', 'Great Stage Park', 'The Tabernacle',\n        'The National', 'Electric Factory', 'HAMMERSMITH APOLLO',\n        \"l'Olympia\", 'Gdynia-Kosakowo Airfield', 'Unknown venue',\n        'Le Bikini', 'Obudai-sziget', 'Unknown venue', 'Vega',\n        'KOMPLEX 457', 'Lowlands Festival Site', 'The Picture House',\n        'Olympia Theatre', 'Bramham Park', 'Terminal 5', 'Terminal 5',\n        'Festival Pier', 'Merriweather Post Pavilion', 'The Pageant',\n        'Orpheum Theater', 'Riviera Theater', 'Starlight Theater',\n        'South Side Ballroom', 'Circo Voodor', 'Auditorio Banamex',\n        'José Cuervo Salón', 'Boulder Theater', 'Ogden Theater',\n        'Greek Theatre', 'BELASCO', 'Bill Graham Civic Auditorium',\n        'Santa Barbara Bowl', 'KeyArena', 'Mcmenamins Crystal Ballroom',\n        'Western Springs Stadium', 'Metricon Stadium',\n        'Flemington Racecourse', 'Sydney Showground', 'Bonython Park',\n        'Arena Joondalup', 'Hotel Rottnest', 'O2 Academy Oxford',\n        'Batschkapp', 'Theaterfabrik im Optimolgelände', 'Balado',\n        'Albert Hall', 'The Institute', 'Rock City', 'Henham Park',\n        'Henham Park', 'Henham Park', 'Beacon Theatre', 'Beacon Theatre',\n        'Shrine Auditorium', 'Brooklyn Bowl Las Vegas', 'Fox Theater',\n        'Fox Theater', 'Esteman en el SOMA ', 'Primavera Fauna',\n        'Manchester Arena', 'Alexandra Palace', 'Lollapalooza Brazil',\n        'Lollapalooza Argentina', 'Fox Theater', 'Coachella', 'Coachella',\n        'Levitation (Austin Psych Fest)', 'Civic Theatre',\n        'Shaky Knees 2015', 'Ryman Auditorium', 'First Avenue ',\n        'Riverside Theater', 'Riviera Theatre', 'The LC Pavillion',\n        'Royal Oak Music Theatre', 'Massey Hall', 'Métropolis',\n        'Métropolis ', 'Boston Calling Festival',\n        'Sasquatch! Festival 2015', 'Malkin Bowl', 'Roseland Theater',\n        'The Depot', 'Ogden Theatre', 'Uptown Theater', 'The Pageant',\n        'Stage AE', 'House of Blues', 'Bunbury Music Festival 2015',\n        'Echostage', 'Gov Ball | Randalls Island',\n        'Splendour In The Grass ', 'North Byron Parklands', 'Lollapalooza',\n        'The North Park Theatre', 'Hollywood Forever Cemetery',\n        'Hollywood Forever Cemetery', 'Golden Gate Park Outside Lands',\n        'Paredes de Coura', 'Pukklelpop', 'Lowlands Festival 2015',\n        \"Ex Convento dell' Annunziata\", 'Ippodromo delle Capannelle',\n        'Teatro Romano', 'Zurich Openair Festival', 'Rock En Seine',\n        'End of the Road Festival', 'Electric Picnic', 'Barrowland',\n        'Liverpool Olympia', 'Bestival - Isle of Wight', 'Lollapalooza',\n        'Austin City Limits', 'Tower Theatre', 'Radio City Music Hall',\n        'TERMINAL 5 ', 'Austin City Limits ', 'Sidney Myer Music Bowl',\n        'Forecourt, Sydney Opera House', 'Sydney Opera House Forecourt',\n        'Belvoir Amphitheatre', 'Belvoir Amphitheatre',\n        'Thebarton Theatre', 'Thebarton Theatre', 'Riverstage',\n        'Logan Campbell Centre', 'Shed 6', 'afas live', 'Vorst Nationaal',\n        'ZENITH PARIS', 'Falconer Salen', 'Sentrum Space', 'Annexet',\n        'Mehr Theater', 'Columbiahalle', 'Palladium', 'Manchester Arena',\n        'Alexandra Palace', 'Alexandra Palace', 'Festival Estereo Picnic',\n        'Lollapalooza', 'Esplanade Park Exhibition', 'Teatro Vorterix',\n        'Lollapalooza Argentina', 'Lollapalooza Chile',\n        'MacPherson Stadium', 'The Star Theatre ', 'Urbanscapes',\n        'Zepp Tokyo', 'Namba Hatch', 'Parkir Selatan Senayan ',\n        'Primavera Sound ', 'Forbidden Fruit Festival', 'Bonnaroo',\n        'Bestival', 'Bell Centre',\n        'BRIC Celebrate Brooklyn! Festival at Prospect Park Bandshell',\n        'BRIC Celebrate Brooklyn! Festival at Prospect Park Bandshell',\n        'Merriweather Post Pavilion', 'Firefly Music Festival',\n        \"Open'er Festival\", 'Roskilde Festival', 'Rock Werchter',\n        'Les Eurockéennes de Belfort', 'Theatres Romains De Fourviere',\n        'Market Sound ', 'NOS Alive Festival', 'BBK Live',\n        'Live Park Amphitheatre', 'Colours of Ostrava', 'Melt! Festival',\n        'FYF', 'Project Pabst', 'Red Rocks', 'Greek Theater',\n        'Greek Theatre', 'Bumbershoot', 'Palacio de los Deportes',\n        'Auditorio Banamex', 'Panorama Festival', 'Espacio Mad Cool',\n        'Citadel Festival', 'Union Park', 'Cool River Ranch', 'FLOAT FEST',\n        'Summersonic Festival', 'Summersonic Festival',\n        'The Institute of Light', 'The Institute of Light',\n        'The Institute of Light', 'Desert Daze 2018 (Oct 12-14)',\n        'Treasure Island Music Festival', 'Middle Harbor Shoreline Park',\n        'Ascend Amphitheater', 'U.S. Cellular Center Asheville',\n        'Shaky Knees Music Festival', 'The St. Augustine Amphitheatre',\n        'The Fillmore Miami Beach', 'Corona Capital',\n        'Boston Calling Music Festival', 'Primavera Sound',\n        'We Love Green Festival', 'Gården', 'The O2',\n        'Empress Ballroom, Winter Gardens', '3Arena', 'Budweiser Stage',\n        'Mo Pop Festival', 'Surly Brewing Festival Field',\n        'Surly Brewing Festival Field', 'Lollapalooza', 'Toyenparken',\n        'Toyenparken', 'Toyenparken', 'Toyenparken', 'Parkbühne Wuhlheide',\n        'Madison Square Garden', 'Madison Square Garden',\n        'The Mann Center for the Performing Arts', 'The Anthem',\n        'The Anthem', 'Zilker Metropolitan Park', 'The Mission Ballroom',\n        'The Mission Ballroom', 'Zilker Metropolitan Park',\n        'Pechanga Arena San Diego', 'The Forum', 'The Forum',\n        'Chase Center', 'Foro Sol', 'Parque Fundidora', 'Spark Arena',\n        'Brisbane Entertainment Centre', 'Rod Laver Arena',\n        'Adelaide Entertainment Centre', 'RAC Arena', 'Scotiabank Arena',\n        'Bell Centre', 'Capital One Arena', 'Spectrum Center',\n        'State Farm Arena', 'American Airlines Arena',\n        'Xcel Energy Center', 'Enterprise Center', 'Sprint Center',\n        'BOK Center', 'Frank C. Erwin, Jr., Special Events Center',\n        'American Airlines Center', 'Toyota Center', 'Gila River Arena',\n        'Pepsi Center', 'Vivint Smart Home Arena', 'Moda Center',\n        'Rogers Arena', 'Foro Sol', 'Parque Fundidora', 'Parque Fundidora',\n        'Chase Center', 'Spark Arena', 'Brisbane Entertainment Centre',\n        'Qudos Bank Arena', 'Rod Laver Arena', 'Rod Laver Arena',\n        'Adelaide Entertainment Centre', 'RAC Arena', 'Foro Sol',\n        'Parque Fundidora', 'Parque Fundidora', 'Foro Sol',\n        'Great Stage Park', 'United Center', 'Gorge Amphitheatre',\n        'Moda Center', 'Chase Center', 'Life is Beautiful',\n        'Gila River Arena', 'Ball Arena', 'Capital One Arena',\n        'Firefly Music Festival 2021', 'State Farm Arena',\n        'Outside Lands Festival 2021', 'Hollywood Bowl', 'Hollywood Bowl',\n        'NRG Park', 'Frank Erwin Center', 'White Oak Music Hall',\n        'American Airlines Center', 'Parque Fundidora', 'Auditorio Telmex',\n        'Corona Capital 2021', 'Spark Arena', 'Qudos Bank Arena',\n        'Brisbane Entertainment Centre', 'Rod Laver Arena',\n        'Rod Laver Arena', 'Adelaide Entertainment Centre', 'RAC Arena',\n        'Innings Festival 2022', 'Sunshine Grove - FL',\n        'Petersen Events Center'], dtype=object),\n 'artist': array(['Tame Impala', 'Tame Impala', 'Tame Impala', 'Tame Impala',\n        'Tame Impala', 'Tame Impala', 'Tame Impala', 'Tame Impala',\n        'Tame Impala', 'Tame Impala', 'Tame Impala', 'Tame Impala',\n        'Tame Impala', 'Tame Impala', 'Tame Impala', 'Tame Impala',\n        'Tame Impala', 'Tame Impala', 'Tame Impala', 'Tame Impala',\n        'Tame Impala', 'Tame Impala', 'Tame Impala', 'Tame Impala',\n        'Tame Impala', 'Tame Impala', 'Tame Impala', 'Tame Impala',\n        'Tame Impala', 'Tame Impala', 'Tame Impala', 'Tame Impala',\n        'Tame Impala', 'Tame Impala', 'Tame Impala', 'Tame Impala',\n        'Tame Impala', 'Tame Impala', 'Tame Impala', 'Tame Impala',\n        'Tame Impala', 'Tame Impala', 'Tame Impala', 'Tame Impala',\n        'Tame Impala', 'Tame Impala', 'Tame Impala', 'Tame Impala',\n        'Tame Impala', 'Tame Impala', 'Tame Impala', 'Tame Impala',\n        'Tame Impala', 'Tame Impala', 'Tame Impala', 'Tame Impala',\n        'Tame Impala', 'Tame Impala', 'Tame Impala', 'Tame Impala',\n        'Tame Impala', 'Tame Impala', 'Tame Impala', 'Tame Impala',\n        'Tame Impala', 'Tame Impala', 'Tame Impala', 'Tame Impala',\n        'Tame Impala', 'Tame Impala', 'Tame Impala', 'Tame Impala',\n        'Tame Impala', 'Tame Impala', 'Tame Impala', 'Tame Impala',\n        'Tame Impala', 'Tame Impala', 'Tame Impala', 'Tame Impala',\n        'Tame Impala', 'Tame Impala', 'Tame Impala', 'Tame Impala',\n        'Tame Impala', 'Tame Impala', 'Tame Impala', 'Tame Impala',\n        'Tame Impala', 'Tame Impala', 'Tame Impala', 'Tame Impala',\n        'Tame Impala', 'Tame Impala', 'Tame Impala', 'Tame Impala',\n        'Tame Impala', 'Tame Impala', 'Tame Impala', 'Tame Impala',\n        'Tame Impala', 'Tame Impala', 'Tame Impala', 'Tame Impala',\n        'Tame Impala', 'Tame Impala', 'Tame Impala', 'Tame Impala',\n        'Tame Impala', 'Tame Impala', 'Tame Impala', 'Tame Impala',\n        'Tame Impala', 'Tame Impala', 'Tame Impala', 'Tame Impala',\n        'Tame Impala', 'Tame Impala', 'Tame Impala', 'Tame Impala',\n        'Tame Impala', 'Tame Impala', 'Tame Impala', 'Tame Impala',\n        'Tame Impala', 'Tame Impala', 'Tame Impala', 'Tame Impala',\n        'Tame Impala', 'Tame Impala', 'Tame Impala', 'Tame Impala',\n        'Tame Impala', 'Tame Impala', 'Tame Impala', 'Tame Impala',\n        'Tame Impala', 'Tame Impala', 'Tame Impala', 'Tame Impala',\n        'Tame Impala', 'Tame Impala', 'Tame Impala', 'Tame Impala',\n        'Tame Impala', 'Tame Impala', 'Tame Impala', 'Tame Impala',\n        'Tame Impala', 'Tame Impala', 'Tame Impala', 'Tame Impala',\n        'Tame Impala', 'Tame Impala', 'Tame Impala', 'Tame Impala',\n        'Tame Impala', 'Tame Impala', 'Tame Impala', 'Tame Impala',\n        'Tame Impala', 'Tame Impala', 'Tame Impala', 'Tame Impala',\n        'Tame Impala', 'Tame Impala', 'Tame Impala', 'Tame Impala',\n        'Tame Impala', 'Tame Impala', 'Tame Impala', 'Tame Impala',\n        'Tame Impala', 'Tame Impala', 'Tame Impala', 'Tame Impala',\n        'Tame Impala', 'Tame Impala', 'Tame Impala', 'Tame Impala',\n        'Tame Impala', 'Tame Impala', 'Tame Impala', 'Tame Impala',\n        'Tame Impala', 'Tame Impala', 'Tame Impala', 'Tame Impala',\n        'Tame Impala', 'Tame Impala', 'Tame Impala', 'Tame Impala',\n        'Tame Impala', 'Tame Impala', 'Tame Impala', 'Tame Impala',\n        'Tame Impala', 'Tame Impala', 'Tame Impala', 'Tame Impala',\n        'Tame Impala', 'Tame Impala', 'Tame Impala', 'Tame Impala',\n        'Tame Impala', 'Tame Impala', 'Tame Impala', 'Tame Impala',\n        'Tame Impala', 'Tame Impala', 'Tame Impala', 'Tame Impala',\n        'Tame Impala', 'Tame Impala', 'Tame Impala', 'Tame Impala',\n        'Tame Impala', 'Tame Impala', 'Tame Impala', 'Tame Impala',\n        'Tame Impala', 'Tame Impala', 'Tame Impala', 'Tame Impala',\n        'Tame Impala', 'Tame Impala', 'Tame Impala', 'Tame Impala',\n        'Tame Impala', 'Tame Impala', 'Tame Impala', 'Tame Impala',\n        'Tame Impala', 'Tame Impala', 'Tame Impala', 'Tame Impala',\n        'Tame Impala', 'Tame Impala', 'Tame Impala', 'Tame Impala',\n        'Tame Impala', 'Tame Impala', 'Tame Impala', 'Tame Impala',\n        'Tame Impala', 'Tame Impala', 'Tame Impala', 'Tame Impala',\n        'Tame Impala', 'Tame Impala', 'Tame Impala', 'Tame Impala',\n        'Tame Impala', 'Tame Impala', 'Tame Impala', 'Tame Impala',\n        'Tame Impala', 'Tame Impala', 'Tame Impala', 'Tame Impala',\n        'Tame Impala', 'Tame Impala', 'Tame Impala', 'Tame Impala',\n        'Tame Impala', 'Tame Impala', 'Tame Impala', 'Tame Impala',\n        'Tame Impala', 'Tame Impala', 'Tame Impala', 'Tame Impala',\n        'Tame Impala', 'Tame Impala', 'Tame Impala', 'Tame Impala',\n        'Tame Impala', 'Tame Impala', 'Tame Impala', 'Tame Impala',\n        'Tame Impala', 'Tame Impala', 'Tame Impala', 'Tame Impala',\n        'Tame Impala', 'Tame Impala', 'Tame Impala', 'Tame Impala',\n        'Tame Impala', 'Tame Impala', 'Tame Impala', 'Tame Impala',\n        'Tame Impala', 'Tame Impala', 'Tame Impala', 'Tame Impala',\n        'Tame Impala', 'Tame Impala', 'Tame Impala', 'Tame Impala',\n        'Tame Impala', 'Tame Impala', 'Tame Impala', 'Tame Impala',\n        'Tame Impala', 'Tame Impala', 'Tame Impala', 'Tame Impala',\n        'Tame Impala', 'Tame Impala', 'Tame Impala', 'Tame Impala',\n        'Tame Impala', 'Tame Impala', 'Tame Impala', 'Tame Impala',\n        'Tame Impala'], dtype=object),\n 'artist_topgenres': array([list(['indie rock', 'psychedelic pop', 'psychedelic rock', 'synthpop', 'neo-psychedelia']),\n        list(['indie rock', 'psychedelic pop', 'psychedelic rock', 'synthpop', 'neo-psychedelia']),\n        list(['indie rock', 'psychedelic pop', 'psychedelic rock', 'synthpop', 'neo-psychedelia']),\n        list(['indie rock', 'psychedelic pop', 'psychedelic rock', 'synthpop', 'neo-psychedelia']),\n        list(['indie rock', 'psychedelic pop', 'psychedelic rock', 'synthpop', 'neo-psychedelia']),\n        list(['indie rock', 'psychedelic pop', 'psychedelic rock', 'synthpop', 'neo-psychedelia']),\n        list(['indie rock', 'psychedelic pop', 'psychedelic rock', 'synthpop', 'neo-psychedelia']),\n        list(['indie rock', 'psychedelic pop', 'psychedelic rock', 'synthpop', 'neo-psychedelia']),\n        list(['indie rock', 'psychedelic pop', 'psychedelic rock', 'synthpop', 'neo-psychedelia']),\n        list(['indie rock', 'psychedelic pop', 'psychedelic rock', 'synthpop', 'neo-psychedelia']),\n        list(['indie rock', 'psychedelic pop', 'psychedelic rock', 'synthpop', 'neo-psychedelia']),\n        list(['indie rock', 'psychedelic pop', 'psychedelic rock', 'synthpop', 'neo-psychedelia']),\n        list(['indie rock', 'psychedelic pop', 'psychedelic rock', 'synthpop', 'neo-psychedelia']),\n        list(['indie rock', 'psychedelic pop', 'psychedelic rock', 'synthpop', 'neo-psychedelia']),\n        list(['indie rock', 'psychedelic pop', 'psychedelic rock', 'synthpop', 'neo-psychedelia']),\n        list(['indie rock', 'psychedelic pop', 'psychedelic rock', 'synthpop', 'neo-psychedelia']),\n        list(['indie rock', 'psychedelic pop', 'psychedelic rock', 'synthpop', 'neo-psychedelia']),\n        list(['indie rock', 'psychedelic pop', 'psychedelic rock', 'synthpop', 'neo-psychedelia']),\n        list(['indie rock', 'psychedelic pop', 'psychedelic rock', 'synthpop', 'neo-psychedelia']),\n        list(['indie rock', 'psychedelic pop', 'psychedelic rock', 'synthpop', 'neo-psychedelia']),\n        list(['indie rock', 'psychedelic pop', 'psychedelic rock', 'synthpop', 'neo-psychedelia']),\n        list(['indie rock', 'psychedelic pop', 'psychedelic rock', 'synthpop', 'neo-psychedelia']),\n        list(['indie rock', 'psychedelic pop', 'psychedelic rock', 'synthpop', 'neo-psychedelia']),\n        list(['indie rock', 'psychedelic pop', 'psychedelic rock', 'synthpop', 'neo-psychedelia']),\n        list(['indie rock', 'psychedelic pop', 'psychedelic rock', 'synthpop', 'neo-psychedelia']),\n        list(['indie rock', 'psychedelic pop', 'psychedelic rock', 'synthpop', 'neo-psychedelia']),\n        list(['indie rock', 'psychedelic pop', 'psychedelic rock', 'synthpop', 'neo-psychedelia']),\n        list(['indie rock', 'psychedelic pop', 'psychedelic rock', 'synthpop', 'neo-psychedelia']),\n        list(['indie rock', 'psychedelic pop', 'psychedelic rock', 'synthpop', 'neo-psychedelia']),\n        list(['indie rock', 'psychedelic pop', 'psychedelic rock', 'synthpop', 'neo-psychedelia']),\n        list(['indie rock', 'psychedelic pop', 'psychedelic rock', 'synthpop', 'neo-psychedelia']),\n        list(['indie rock', 'psychedelic pop', 'psychedelic rock', 'synthpop', 'neo-psychedelia']),\n        list(['indie rock', 'psychedelic pop', 'psychedelic rock', 'synthpop', 'neo-psychedelia']),\n        list(['indie rock', 'psychedelic pop', 'psychedelic rock', 'synthpop', 'neo-psychedelia']),\n        list(['indie rock', 'psychedelic pop', 'psychedelic rock', 'synthpop', 'neo-psychedelia']),\n        list(['indie rock', 'psychedelic pop', 'psychedelic rock', 'synthpop', 'neo-psychedelia']),\n        list(['indie rock', 'psychedelic pop', 'psychedelic rock', 'synthpop', 'neo-psychedelia']),\n        list(['indie rock', 'psychedelic pop', 'psychedelic rock', 'synthpop', 'neo-psychedelia']),\n        list(['indie rock', 'psychedelic pop', 'psychedelic rock', 'synthpop', 'neo-psychedelia']),\n        list(['indie rock', 'psychedelic pop', 'psychedelic rock', 'synthpop', 'neo-psychedelia']),\n        list(['indie rock', 'psychedelic pop', 'psychedelic rock', 'synthpop', 'neo-psychedelia']),\n        list(['indie rock', 'psychedelic pop', 'psychedelic rock', 'synthpop', 'neo-psychedelia']),\n        list(['indie rock', 'psychedelic pop', 'psychedelic rock', 'synthpop', 'neo-psychedelia']),\n        list(['indie rock', 'psychedelic pop', 'psychedelic rock', 'synthpop', 'neo-psychedelia']),\n        list(['indie rock', 'psychedelic pop', 'psychedelic rock', 'synthpop', 'neo-psychedelia']),\n        list(['indie rock', 'psychedelic pop', 'psychedelic rock', 'synthpop', 'neo-psychedelia']),\n        list(['indie rock', 'psychedelic pop', 'psychedelic rock', 'synthpop', 'neo-psychedelia']),\n        list(['indie rock', 'psychedelic pop', 'psychedelic rock', 'synthpop', 'neo-psychedelia']),\n        list(['indie rock', 'psychedelic pop', 'psychedelic rock', 'synthpop', 'neo-psychedelia']),\n        list(['indie rock', 'psychedelic pop', 'psychedelic rock', 'synthpop', 'neo-psychedelia']),\n        list(['indie rock', 'psychedelic pop', 'psychedelic rock', 'synthpop', 'neo-psychedelia']),\n        list(['indie rock', 'psychedelic pop', 'psychedelic rock', 'synthpop', 'neo-psychedelia']),\n        list(['indie rock', 'psychedelic pop', 'psychedelic rock', 'synthpop', 'neo-psychedelia']),\n        list(['indie rock', 'psychedelic pop', 'psychedelic rock', 'synthpop', 'neo-psychedelia']),\n        list(['indie rock', 'psychedelic pop', 'psychedelic rock', 'synthpop', 'neo-psychedelia']),\n        list(['indie rock', 'psychedelic pop', 'psychedelic rock', 'synthpop', 'neo-psychedelia']),\n        list(['indie rock', 'psychedelic pop', 'psychedelic rock', 'synthpop', 'neo-psychedelia']),\n        list(['indie rock', 'psychedelic pop', 'psychedelic rock', 'synthpop', 'neo-psychedelia']),\n        list(['indie rock', 'psychedelic pop', 'psychedelic rock', 'synthpop', 'neo-psychedelia']),\n        list(['indie rock', 'psychedelic pop', 'psychedelic rock', 'synthpop', 'neo-psychedelia']),\n        list(['indie rock', 'psychedelic pop', 'psychedelic rock', 'synthpop', 'neo-psychedelia']),\n        list(['indie rock', 'psychedelic pop', 'psychedelic rock', 'synthpop', 'neo-psychedelia']),\n        list(['indie rock', 'psychedelic pop', 'psychedelic rock', 'synthpop', 'neo-psychedelia']),\n        list(['indie rock', 'psychedelic pop', 'psychedelic rock', 'synthpop', 'neo-psychedelia']),\n        list(['indie rock', 'psychedelic pop', 'psychedelic rock', 'synthpop', 'neo-psychedelia']),\n        list(['indie rock', 'psychedelic pop', 'psychedelic rock', 'synthpop', 'neo-psychedelia']),\n        list(['indie rock', 'psychedelic pop', 'psychedelic rock', 'synthpop', 'neo-psychedelia']),\n        list(['indie rock', 'psychedelic pop', 'psychedelic rock', 'synthpop', 'neo-psychedelia']),\n        list(['indie rock', 'psychedelic pop', 'psychedelic rock', 'synthpop', 'neo-psychedelia']),\n        list(['indie rock', 'psychedelic pop', 'psychedelic rock', 'synthpop', 'neo-psychedelia']),\n        list(['indie rock', 'psychedelic pop', 'psychedelic rock', 'synthpop', 'neo-psychedelia']),\n        list(['indie rock', 'psychedelic pop', 'psychedelic rock', 'synthpop', 'neo-psychedelia']),\n        list(['indie rock', 'psychedelic pop', 'psychedelic rock', 'synthpop', 'neo-psychedelia']),\n        list(['indie rock', 'psychedelic pop', 'psychedelic rock', 'synthpop', 'neo-psychedelia']),\n        list(['indie rock', 'psychedelic pop', 'psychedelic rock', 'synthpop', 'neo-psychedelia']),\n        list(['indie rock', 'psychedelic pop', 'psychedelic rock', 'synthpop', 'neo-psychedelia']),\n        list(['indie rock', 'psychedelic pop', 'psychedelic rock', 'synthpop', 'neo-psychedelia']),\n        list(['indie rock', 'psychedelic pop', 'psychedelic rock', 'synthpop', 'neo-psychedelia']),\n        list(['indie rock', 'psychedelic pop', 'psychedelic rock', 'synthpop', 'neo-psychedelia']),\n        list(['indie rock', 'psychedelic pop', 'psychedelic rock', 'synthpop', 'neo-psychedelia']),\n        list(['indie rock', 'psychedelic pop', 'psychedelic rock', 'synthpop', 'neo-psychedelia']),\n        list(['indie rock', 'psychedelic pop', 'psychedelic rock', 'synthpop', 'neo-psychedelia']),\n        list(['indie rock', 'psychedelic pop', 'psychedelic rock', 'synthpop', 'neo-psychedelia']),\n        list(['indie rock', 'psychedelic pop', 'psychedelic rock', 'synthpop', 'neo-psychedelia']),\n        list(['indie rock', 'psychedelic pop', 'psychedelic rock', 'synthpop', 'neo-psychedelia']),\n        list(['indie rock', 'psychedelic pop', 'psychedelic rock', 'synthpop', 'neo-psychedelia']),\n        list(['indie rock', 'psychedelic pop', 'psychedelic rock', 'synthpop', 'neo-psychedelia']),\n        list(['indie rock', 'psychedelic pop', 'psychedelic rock', 'synthpop', 'neo-psychedelia']),\n        list(['indie rock', 'psychedelic pop', 'psychedelic rock', 'synthpop', 'neo-psychedelia']),\n        list(['indie rock', 'psychedelic pop', 'psychedelic rock', 'synthpop', 'neo-psychedelia']),\n        list(['indie rock', 'psychedelic pop', 'psychedelic rock', 'synthpop', 'neo-psychedelia']),\n        list(['indie rock', 'psychedelic pop', 'psychedelic rock', 'synthpop', 'neo-psychedelia']),\n        list(['indie rock', 'psychedelic pop', 'psychedelic rock', 'synthpop', 'neo-psychedelia']),\n        list(['indie rock', 'psychedelic pop', 'psychedelic rock', 'synthpop', 'neo-psychedelia']),\n        list(['indie rock', 'psychedelic pop', 'psychedelic rock', 'synthpop', 'neo-psychedelia']),\n        list(['indie rock', 'psychedelic pop', 'psychedelic rock', 'synthpop', 'neo-psychedelia']),\n        list(['indie rock', 'psychedelic pop', 'psychedelic rock', 'synthpop', 'neo-psychedelia']),\n        list(['indie rock', 'psychedelic pop', 'psychedelic rock', 'synthpop', 'neo-psychedelia']),\n        list(['indie rock', 'psychedelic pop', 'psychedelic rock', 'synthpop', 'neo-psychedelia']),\n        list(['indie rock', 'psychedelic pop', 'psychedelic rock', 'synthpop', 'neo-psychedelia']),\n        list(['indie rock', 'psychedelic pop', 'psychedelic rock', 'synthpop', 'neo-psychedelia']),\n        list(['indie rock', 'psychedelic pop', 'psychedelic rock', 'synthpop', 'neo-psychedelia']),\n        list(['indie rock', 'psychedelic pop', 'psychedelic rock', 'synthpop', 'neo-psychedelia']),\n        list(['indie rock', 'psychedelic pop', 'psychedelic rock', 'synthpop', 'neo-psychedelia']),\n        list(['indie rock', 'psychedelic pop', 'psychedelic rock', 'synthpop', 'neo-psychedelia']),\n        list(['indie rock', 'psychedelic pop', 'psychedelic rock', 'synthpop', 'neo-psychedelia']),\n        list(['indie rock', 'psychedelic pop', 'psychedelic rock', 'synthpop', 'neo-psychedelia']),\n        list(['indie rock', 'psychedelic pop', 'psychedelic rock', 'synthpop', 'neo-psychedelia']),\n        list(['indie rock', 'psychedelic pop', 'psychedelic rock', 'synthpop', 'neo-psychedelia']),\n        list(['indie rock', 'psychedelic pop', 'psychedelic rock', 'synthpop', 'neo-psychedelia']),\n        list(['indie rock', 'psychedelic pop', 'psychedelic rock', 'synthpop', 'neo-psychedelia']),\n        list(['indie rock', 'psychedelic pop', 'psychedelic rock', 'synthpop', 'neo-psychedelia']),\n        list(['indie rock', 'psychedelic pop', 'psychedelic rock', 'synthpop', 'neo-psychedelia']),\n        list(['indie rock', 'psychedelic pop', 'psychedelic rock', 'synthpop', 'neo-psychedelia']),\n        list(['indie rock', 'psychedelic pop', 'psychedelic rock', 'synthpop', 'neo-psychedelia']),\n        list(['indie rock', 'psychedelic pop', 'psychedelic rock', 'synthpop', 'neo-psychedelia']),\n        list(['indie rock', 'psychedelic pop', 'psychedelic rock', 'synthpop', 'neo-psychedelia']),\n        list(['indie rock', 'psychedelic pop', 'psychedelic rock', 'synthpop', 'neo-psychedelia']),\n        list(['indie rock', 'psychedelic pop', 'psychedelic rock', 'synthpop', 'neo-psychedelia']),\n        list(['indie rock', 'psychedelic pop', 'psychedelic rock', 'synthpop', 'neo-psychedelia']),\n        list(['indie rock', 'psychedelic pop', 'psychedelic rock', 'synthpop', 'neo-psychedelia']),\n        list(['indie rock', 'psychedelic pop', 'psychedelic rock', 'synthpop', 'neo-psychedelia']),\n        list(['indie rock', 'psychedelic pop', 'psychedelic rock', 'synthpop', 'neo-psychedelia']),\n        list(['indie rock', 'psychedelic pop', 'psychedelic rock', 'synthpop', 'neo-psychedelia']),\n        list(['indie rock', 'psychedelic pop', 'psychedelic rock', 'synthpop', 'neo-psychedelia']),\n        list(['indie rock', 'psychedelic pop', 'psychedelic rock', 'synthpop', 'neo-psychedelia']),\n        list(['indie rock', 'psychedelic pop', 'psychedelic rock', 'synthpop', 'neo-psychedelia']),\n        list(['indie rock', 'psychedelic pop', 'psychedelic rock', 'synthpop', 'neo-psychedelia']),\n        list(['indie rock', 'psychedelic pop', 'psychedelic rock', 'synthpop', 'neo-psychedelia']),\n        list(['indie rock', 'psychedelic pop', 'psychedelic rock', 'synthpop', 'neo-psychedelia']),\n        list(['indie rock', 'psychedelic pop', 'psychedelic rock', 'synthpop', 'neo-psychedelia']),\n        list(['indie rock', 'psychedelic pop', 'psychedelic rock', 'synthpop', 'neo-psychedelia']),\n        list(['indie rock', 'psychedelic pop', 'psychedelic rock', 'synthpop', 'neo-psychedelia']),\n        list(['indie rock', 'psychedelic pop', 'psychedelic rock', 'synthpop', 'neo-psychedelia']),\n        list(['indie rock', 'psychedelic pop', 'psychedelic rock', 'synthpop', 'neo-psychedelia']),\n        list(['indie rock', 'psychedelic pop', 'psychedelic rock', 'synthpop', 'neo-psychedelia']),\n        list(['indie rock', 'psychedelic pop', 'psychedelic rock', 'synthpop', 'neo-psychedelia']),\n        list(['indie rock', 'psychedelic pop', 'psychedelic rock', 'synthpop', 'neo-psychedelia']),\n        list(['indie rock', 'psychedelic pop', 'psychedelic rock', 'synthpop', 'neo-psychedelia']),\n        list(['indie rock', 'psychedelic pop', 'psychedelic rock', 'synthpop', 'neo-psychedelia']),\n        list(['indie rock', 'psychedelic pop', 'psychedelic rock', 'synthpop', 'neo-psychedelia']),\n        list(['indie rock', 'psychedelic pop', 'psychedelic rock', 'synthpop', 'neo-psychedelia']),\n        list(['indie rock', 'psychedelic pop', 'psychedelic rock', 'synthpop', 'neo-psychedelia']),\n        list(['indie rock', 'psychedelic pop', 'psychedelic rock', 'synthpop', 'neo-psychedelia']),\n        list(['indie rock', 'psychedelic pop', 'psychedelic rock', 'synthpop', 'neo-psychedelia']),\n        list(['indie rock', 'psychedelic pop', 'psychedelic rock', 'synthpop', 'neo-psychedelia']),\n        list(['indie rock', 'psychedelic pop', 'psychedelic rock', 'synthpop', 'neo-psychedelia']),\n        list(['indie rock', 'psychedelic pop', 'psychedelic rock', 'synthpop', 'neo-psychedelia']),\n        list(['indie rock', 'psychedelic pop', 'psychedelic rock', 'synthpop', 'neo-psychedelia']),\n        list(['indie rock', 'psychedelic pop', 'psychedelic rock', 'synthpop', 'neo-psychedelia']),\n        list(['indie rock', 'psychedelic pop', 'psychedelic rock', 'synthpop', 'neo-psychedelia']),\n        list(['indie rock', 'psychedelic pop', 'psychedelic rock', 'synthpop', 'neo-psychedelia']),\n        list(['indie rock', 'psychedelic pop', 'psychedelic rock', 'synthpop', 'neo-psychedelia']),\n        list(['indie rock', 'psychedelic pop', 'psychedelic rock', 'synthpop', 'neo-psychedelia']),\n        list(['indie rock', 'psychedelic pop', 'psychedelic rock', 'synthpop', 'neo-psychedelia']),\n        list(['indie rock', 'psychedelic pop', 'psychedelic rock', 'synthpop', 'neo-psychedelia']),\n        list(['indie rock', 'psychedelic pop', 'psychedelic rock', 'synthpop', 'neo-psychedelia']),\n        list(['indie rock', 'psychedelic pop', 'psychedelic rock', 'synthpop', 'neo-psychedelia']),\n        list(['indie rock', 'psychedelic pop', 'psychedelic rock', 'synthpop', 'neo-psychedelia']),\n        list(['indie rock', 'psychedelic pop', 'psychedelic rock', 'synthpop', 'neo-psychedelia']),\n        list(['indie rock', 'psychedelic pop', 'psychedelic rock', 'synthpop', 'neo-psychedelia']),\n        list(['indie rock', 'psychedelic pop', 'psychedelic rock', 'synthpop', 'neo-psychedelia']),\n        list(['indie rock', 'psychedelic pop', 'psychedelic rock', 'synthpop', 'neo-psychedelia']),\n        list(['indie rock', 'psychedelic pop', 'psychedelic rock', 'synthpop', 'neo-psychedelia']),\n        list(['indie rock', 'psychedelic pop', 'psychedelic rock', 'synthpop', 'neo-psychedelia']),\n        list(['indie rock', 'psychedelic pop', 'psychedelic rock', 'synthpop', 'neo-psychedelia']),\n        list(['indie rock', 'psychedelic pop', 'psychedelic rock', 'synthpop', 'neo-psychedelia']),\n        list(['indie rock', 'psychedelic pop', 'psychedelic rock', 'synthpop', 'neo-psychedelia']),\n        list(['indie rock', 'psychedelic pop', 'psychedelic rock', 'synthpop', 'neo-psychedelia']),\n        list(['indie rock', 'psychedelic pop', 'psychedelic rock', 'synthpop', 'neo-psychedelia']),\n        list(['indie rock', 'psychedelic pop', 'psychedelic rock', 'synthpop', 'neo-psychedelia']),\n        list(['indie rock', 'psychedelic pop', 'psychedelic rock', 'synthpop', 'neo-psychedelia']),\n        list(['indie rock', 'psychedelic pop', 'psychedelic rock', 'synthpop', 'neo-psychedelia']),\n        list(['indie rock', 'psychedelic pop', 'psychedelic rock', 'synthpop', 'neo-psychedelia']),\n        list(['indie rock', 'psychedelic pop', 'psychedelic rock', 'synthpop', 'neo-psychedelia']),\n        list(['indie rock', 'psychedelic pop', 'psychedelic rock', 'synthpop', 'neo-psychedelia']),\n        list(['indie rock', 'psychedelic pop', 'psychedelic rock', 'synthpop', 'neo-psychedelia']),\n        list(['indie rock', 'psychedelic pop', 'psychedelic rock', 'synthpop', 'neo-psychedelia']),\n        list(['indie rock', 'psychedelic pop', 'psychedelic rock', 'synthpop', 'neo-psychedelia']),\n        list(['indie rock', 'psychedelic pop', 'psychedelic rock', 'synthpop', 'neo-psychedelia']),\n        list(['indie rock', 'psychedelic pop', 'psychedelic rock', 'synthpop', 'neo-psychedelia']),\n        list(['indie rock', 'psychedelic pop', 'psychedelic rock', 'synthpop', 'neo-psychedelia']),\n        list(['indie rock', 'psychedelic pop', 'psychedelic rock', 'synthpop', 'neo-psychedelia']),\n        list(['indie rock', 'psychedelic pop', 'psychedelic rock', 'synthpop', 'neo-psychedelia']),\n        list(['indie rock', 'psychedelic pop', 'psychedelic rock', 'synthpop', 'neo-psychedelia']),\n        list(['indie rock', 'psychedelic pop', 'psychedelic rock', 'synthpop', 'neo-psychedelia']),\n        list(['indie rock', 'psychedelic pop', 'psychedelic rock', 'synthpop', 'neo-psychedelia']),\n        list(['indie rock', 'psychedelic pop', 'psychedelic rock', 'synthpop', 'neo-psychedelia']),\n        list(['indie rock', 'psychedelic pop', 'psychedelic rock', 'synthpop', 'neo-psychedelia']),\n        list(['indie rock', 'psychedelic pop', 'psychedelic rock', 'synthpop', 'neo-psychedelia']),\n        list(['indie rock', 'psychedelic pop', 'psychedelic rock', 'synthpop', 'neo-psychedelia']),\n        list(['indie rock', 'psychedelic pop', 'psychedelic rock', 'synthpop', 'neo-psychedelia']),\n        list(['indie rock', 'psychedelic pop', 'psychedelic rock', 'synthpop', 'neo-psychedelia']),\n        list(['indie rock', 'psychedelic pop', 'psychedelic rock', 'synthpop', 'neo-psychedelia']),\n        list(['indie rock', 'psychedelic pop', 'psychedelic rock', 'synthpop', 'neo-psychedelia']),\n        list(['indie rock', 'psychedelic pop', 'psychedelic rock', 'synthpop', 'neo-psychedelia']),\n        list(['indie rock', 'psychedelic pop', 'psychedelic rock', 'synthpop', 'neo-psychedelia']),\n        list(['indie rock', 'psychedelic pop', 'psychedelic rock', 'synthpop', 'neo-psychedelia']),\n        list(['indie rock', 'psychedelic pop', 'psychedelic rock', 'synthpop', 'neo-psychedelia']),\n        list(['indie rock', 'psychedelic pop', 'psychedelic rock', 'synthpop', 'neo-psychedelia']),\n        list(['indie rock', 'psychedelic pop', 'psychedelic rock', 'synthpop', 'neo-psychedelia']),\n        list(['indie rock', 'psychedelic pop', 'psychedelic rock', 'synthpop', 'neo-psychedelia']),\n        list(['indie rock', 'psychedelic pop', 'psychedelic rock', 'synthpop', 'neo-psychedelia']),\n        list(['indie rock', 'psychedelic pop', 'psychedelic rock', 'synthpop', 'neo-psychedelia']),\n        list(['indie rock', 'psychedelic pop', 'psychedelic rock', 'synthpop', 'neo-psychedelia']),\n        list(['indie rock', 'psychedelic pop', 'psychedelic rock', 'synthpop', 'neo-psychedelia']),\n        list(['indie rock', 'psychedelic pop', 'psychedelic rock', 'synthpop', 'neo-psychedelia']),\n        list(['indie rock', 'psychedelic pop', 'psychedelic rock', 'synthpop', 'neo-psychedelia']),\n        list(['indie rock', 'psychedelic pop', 'psychedelic rock', 'synthpop', 'neo-psychedelia']),\n        list(['indie rock', 'psychedelic pop', 'psychedelic rock', 'synthpop', 'neo-psychedelia']),\n        list(['indie rock', 'psychedelic pop', 'psychedelic rock', 'synthpop', 'neo-psychedelia']),\n        list(['indie rock', 'psychedelic pop', 'psychedelic rock', 'synthpop', 'neo-psychedelia']),\n        list(['indie rock', 'psychedelic pop', 'psychedelic rock', 'synthpop', 'neo-psychedelia']),\n        list(['indie rock', 'psychedelic pop', 'psychedelic rock', 'synthpop', 'neo-psychedelia']),\n        list(['indie rock', 'psychedelic pop', 'psychedelic rock', 'synthpop', 'neo-psychedelia']),\n        list(['indie rock', 'psychedelic pop', 'psychedelic rock', 'synthpop', 'neo-psychedelia']),\n        list(['indie rock', 'psychedelic pop', 'psychedelic rock', 'synthpop', 'neo-psychedelia']),\n        list(['indie rock', 'psychedelic pop', 'psychedelic rock', 'synthpop', 'neo-psychedelia']),\n        list(['indie rock', 'psychedelic pop', 'psychedelic rock', 'synthpop', 'neo-psychedelia']),\n        list(['indie rock', 'psychedelic pop', 'psychedelic rock', 'synthpop', 'neo-psychedelia']),\n        list(['indie rock', 'psychedelic pop', 'psychedelic rock', 'synthpop', 'neo-psychedelia']),\n        list(['indie rock', 'psychedelic pop', 'psychedelic rock', 'synthpop', 'neo-psychedelia']),\n        list(['indie rock', 'psychedelic pop', 'psychedelic rock', 'synthpop', 'neo-psychedelia']),\n        list(['indie rock', 'psychedelic pop', 'psychedelic rock', 'synthpop', 'neo-psychedelia']),\n        list(['indie rock', 'psychedelic pop', 'psychedelic rock', 'synthpop', 'neo-psychedelia']),\n        list(['indie rock', 'psychedelic pop', 'psychedelic rock', 'synthpop', 'neo-psychedelia']),\n        list(['indie rock', 'psychedelic pop', 'psychedelic rock', 'synthpop', 'neo-psychedelia']),\n        list(['indie rock', 'psychedelic pop', 'psychedelic rock', 'synthpop', 'neo-psychedelia']),\n        list(['indie rock', 'psychedelic pop', 'psychedelic rock', 'synthpop', 'neo-psychedelia']),\n        list(['indie rock', 'psychedelic pop', 'psychedelic rock', 'synthpop', 'neo-psychedelia']),\n        list(['indie rock', 'psychedelic pop', 'psychedelic rock', 'synthpop', 'neo-psychedelia']),\n        list(['indie rock', 'psychedelic pop', 'psychedelic rock', 'synthpop', 'neo-psychedelia']),\n        list(['indie rock', 'psychedelic pop', 'psychedelic rock', 'synthpop', 'neo-psychedelia']),\n        list(['indie rock', 'psychedelic pop', 'psychedelic rock', 'synthpop', 'neo-psychedelia']),\n        list(['indie rock', 'psychedelic pop', 'psychedelic rock', 'synthpop', 'neo-psychedelia']),\n        list(['indie rock', 'psychedelic pop', 'psychedelic rock', 'synthpop', 'neo-psychedelia']),\n        list(['indie rock', 'psychedelic pop', 'psychedelic rock', 'synthpop', 'neo-psychedelia']),\n        list(['indie rock', 'psychedelic pop', 'psychedelic rock', 'synthpop', 'neo-psychedelia']),\n        list(['indie rock', 'psychedelic pop', 'psychedelic rock', 'synthpop', 'neo-psychedelia']),\n        list(['indie rock', 'psychedelic pop', 'psychedelic rock', 'synthpop', 'neo-psychedelia']),\n        list(['indie rock', 'psychedelic pop', 'psychedelic rock', 'synthpop', 'neo-psychedelia']),\n        list(['indie rock', 'psychedelic pop', 'psychedelic rock', 'synthpop', 'neo-psychedelia']),\n        list(['indie rock', 'psychedelic pop', 'psychedelic rock', 'synthpop', 'neo-psychedelia']),\n        list(['indie rock', 'psychedelic pop', 'psychedelic rock', 'synthpop', 'neo-psychedelia']),\n        list(['indie rock', 'psychedelic pop', 'psychedelic rock', 'synthpop', 'neo-psychedelia']),\n        list(['indie rock', 'psychedelic pop', 'psychedelic rock', 'synthpop', 'neo-psychedelia']),\n        list(['indie rock', 'psychedelic pop', 'psychedelic rock', 'synthpop', 'neo-psychedelia']),\n        list(['indie rock', 'psychedelic pop', 'psychedelic rock', 'synthpop', 'neo-psychedelia']),\n        list(['indie rock', 'psychedelic pop', 'psychedelic rock', 'synthpop', 'neo-psychedelia']),\n        list(['indie rock', 'psychedelic pop', 'psychedelic rock', 'synthpop', 'neo-psychedelia']),\n        list(['indie rock', 'psychedelic pop', 'psychedelic rock', 'synthpop', 'neo-psychedelia']),\n        list(['indie rock', 'psychedelic pop', 'psychedelic rock', 'synthpop', 'neo-psychedelia']),\n        list(['indie rock', 'psychedelic pop', 'psychedelic rock', 'synthpop', 'neo-psychedelia']),\n        list(['indie rock', 'psychedelic pop', 'psychedelic rock', 'synthpop', 'neo-psychedelia']),\n        list(['indie rock', 'psychedelic pop', 'psychedelic rock', 'synthpop', 'neo-psychedelia']),\n        list(['indie rock', 'psychedelic pop', 'psychedelic rock', 'synthpop', 'neo-psychedelia']),\n        list(['indie rock', 'psychedelic pop', 'psychedelic rock', 'synthpop', 'neo-psychedelia']),\n        list(['indie rock', 'psychedelic pop', 'psychedelic rock', 'synthpop', 'neo-psychedelia']),\n        list(['indie rock', 'psychedelic pop', 'psychedelic rock', 'synthpop', 'neo-psychedelia']),\n        list(['indie rock', 'psychedelic pop', 'psychedelic rock', 'synthpop', 'neo-psychedelia']),\n        list(['indie rock', 'psychedelic pop', 'psychedelic rock', 'synthpop', 'neo-psychedelia']),\n        list(['indie rock', 'psychedelic pop', 'psychedelic rock', 'synthpop', 'neo-psychedelia']),\n        list(['indie rock', 'psychedelic pop', 'psychedelic rock', 'synthpop', 'neo-psychedelia']),\n        list(['indie rock', 'psychedelic pop', 'psychedelic rock', 'synthpop', 'neo-psychedelia']),\n        list(['indie rock', 'psychedelic pop', 'psychedelic rock', 'synthpop', 'neo-psychedelia']),\n        list(['indie rock', 'psychedelic pop', 'psychedelic rock', 'synthpop', 'neo-psychedelia']),\n        list(['indie rock', 'psychedelic pop', 'psychedelic rock', 'synthpop', 'neo-psychedelia']),\n        list(['indie rock', 'psychedelic pop', 'psychedelic rock', 'synthpop', 'neo-psychedelia']),\n        list(['indie rock', 'psychedelic pop', 'psychedelic rock', 'synthpop', 'neo-psychedelia']),\n        list(['indie rock', 'psychedelic pop', 'psychedelic rock', 'synthpop', 'neo-psychedelia']),\n        list(['indie rock', 'psychedelic pop', 'psychedelic rock', 'synthpop', 'neo-psychedelia']),\n        list(['indie rock', 'psychedelic pop', 'psychedelic rock', 'synthpop', 'neo-psychedelia']),\n        list(['indie rock', 'psychedelic pop', 'psychedelic rock', 'synthpop', 'neo-psychedelia']),\n        list(['indie rock', 'psychedelic pop', 'psychedelic rock', 'synthpop', 'neo-psychedelia']),\n        list(['indie rock', 'psychedelic pop', 'psychedelic rock', 'synthpop', 'neo-psychedelia']),\n        list(['indie rock', 'psychedelic pop', 'psychedelic rock', 'synthpop', 'neo-psychedelia']),\n        list(['indie rock', 'psychedelic pop', 'psychedelic rock', 'synthpop', 'neo-psychedelia']),\n        list(['indie rock', 'psychedelic pop', 'psychedelic rock', 'synthpop', 'neo-psychedelia']),\n        list(['indie rock', 'psychedelic pop', 'psychedelic rock', 'synthpop', 'neo-psychedelia']),\n        list(['indie rock', 'psychedelic pop', 'psychedelic rock', 'synthpop', 'neo-psychedelia']),\n        list(['indie rock', 'psychedelic pop', 'psychedelic rock', 'synthpop', 'neo-psychedelia']),\n        list(['indie rock', 'psychedelic pop', 'psychedelic rock', 'synthpop', 'neo-psychedelia']),\n        list(['indie rock', 'psychedelic pop', 'psychedelic rock', 'synthpop', 'neo-psychedelia']),\n        list(['indie rock', 'psychedelic pop', 'psychedelic rock', 'synthpop', 'neo-psychedelia']),\n        list(['indie rock', 'psychedelic pop', 'psychedelic rock', 'synthpop', 'neo-psychedelia']),\n        list(['indie rock', 'psychedelic pop', 'psychedelic rock', 'synthpop', 'neo-psychedelia']),\n        list(['indie rock', 'psychedelic pop', 'psychedelic rock', 'synthpop', 'neo-psychedelia']),\n        list(['indie rock', 'psychedelic pop', 'psychedelic rock', 'synthpop', 'neo-psychedelia']),\n        list(['indie rock', 'psychedelic pop', 'psychedelic rock', 'synthpop', 'neo-psychedelia']),\n        list(['indie rock', 'psychedelic pop', 'psychedelic rock', 'synthpop', 'neo-psychedelia']),\n        list(['indie rock', 'psychedelic pop', 'psychedelic rock', 'synthpop', 'neo-psychedelia']),\n        list(['indie rock', 'psychedelic pop', 'psychedelic rock', 'synthpop', 'neo-psychedelia']),\n        list(['indie rock', 'psychedelic pop', 'psychedelic rock', 'synthpop', 'neo-psychedelia']),\n        list(['indie rock', 'psychedelic pop', 'psychedelic rock', 'synthpop', 'neo-psychedelia']),\n        list(['indie rock', 'psychedelic pop', 'psychedelic rock', 'synthpop', 'neo-psychedelia']),\n        list(['indie rock', 'psychedelic pop', 'psychedelic rock', 'synthpop', 'neo-psychedelia']),\n        list(['indie rock', 'psychedelic pop', 'psychedelic rock', 'synthpop', 'neo-psychedelia']),\n        list(['indie rock', 'psychedelic pop', 'psychedelic rock', 'synthpop', 'neo-psychedelia']),\n        list(['indie rock', 'psychedelic pop', 'psychedelic rock', 'synthpop', 'neo-psychedelia']),\n        list(['indie rock', 'psychedelic pop', 'psychedelic rock', 'synthpop', 'neo-psychedelia']),\n        list(['indie rock', 'psychedelic pop', 'psychedelic rock', 'synthpop', 'neo-psychedelia']),\n        list(['indie rock', 'psychedelic pop', 'psychedelic rock', 'synthpop', 'neo-psychedelia']),\n        list(['indie rock', 'psychedelic pop', 'psychedelic rock', 'synthpop', 'neo-psychedelia']),\n        list(['indie rock', 'psychedelic pop', 'psychedelic rock', 'synthpop', 'neo-psychedelia']),\n        list(['indie rock', 'psychedelic pop', 'psychedelic rock', 'synthpop', 'neo-psychedelia']),\n        list(['indie rock', 'psychedelic pop', 'psychedelic rock', 'synthpop', 'neo-psychedelia']),\n        list(['indie rock', 'psychedelic pop', 'psychedelic rock', 'synthpop', 'neo-psychedelia']),\n        list(['indie rock', 'psychedelic pop', 'psychedelic rock', 'synthpop', 'neo-psychedelia']),\n        list(['indie rock', 'psychedelic pop', 'psychedelic rock', 'synthpop', 'neo-psychedelia']),\n        list(['indie rock', 'psychedelic pop', 'psychedelic rock', 'synthpop', 'neo-psychedelia']),\n        list(['indie rock', 'psychedelic pop', 'psychedelic rock', 'synthpop', 'neo-psychedelia']),\n        list(['indie rock', 'psychedelic pop', 'psychedelic rock', 'synthpop', 'neo-psychedelia']),\n        list(['indie rock', 'psychedelic pop', 'psychedelic rock', 'synthpop', 'neo-psychedelia']),\n        list(['indie rock', 'psychedelic pop', 'psychedelic rock', 'synthpop', 'neo-psychedelia']),\n        list(['indie rock', 'psychedelic pop', 'psychedelic rock', 'synthpop', 'neo-psychedelia']),\n        list(['indie rock', 'psychedelic pop', 'psychedelic rock', 'synthpop', 'neo-psychedelia']),\n        list(['indie rock', 'psychedelic pop', 'psychedelic rock', 'synthpop', 'neo-psychedelia'])],\n       dtype=object),\n 'lineup_size': array([ 38,  95,  42,   2,   1,   2,   2, 123,  32,   2,   2,   2,   1,\n          2,  65,   1,   2,   2,   1,   2,  48,  30,   1,  77,  44,   1,\n          2,  14,   1,   1,  88,   3,   3,   3,   3,   2,   2,   2,   2,\n          1,   2,   1,   1,   2,   2,   3,   1,   6,   2,   2,   4,  17,\n         23,  21,  17,  25,  19,   1,   1,   1,   1,  51,   1,   1,   1,\n         19,  53,   1,   1,   2,   3,   1,   2,   2,   3,   6,   1,   1,\n          1,   1,   1,  39,  22,   1,   1,   1,   2,   1,   1,   1,   1,\n          2,   2,   1,   2,   1,   1,   2,   2,   1,   2,   1,   1,   1,\n          1,  23,   2,   1,   1,   3,  26,   1,   1,   1,  12,   1,   1,\n          1,   1,   1,   1,   1,   1,   1,   1,   1,   2,   1,   1,   1,\n          2,   1,   1,   1,   3,   1,   2,   3,   1,   2,   1,   2,   1,\n          1,   1,   1,   1,   1,   1,   1,   1,   2,   2,   1,   1,   1,\n          3,   1,   1,   1,   1,   3,   1,   1,   1,   1,   1,   1,   1,\n          3,   1,   1,   1,   1,   1,   3,   5,   2,   8,   6,   1,   2,\n          1,   7,   1,   1,   1,   1,   2,   2,   1,   1,   1,   1,   1,\n          1,   1,   7,   1,  26,  21,   4,   1,   1,   1,   1,   1,  58,\n          4,  22,   1,   1,   1,   1,   1,  24,  58,   1,   1,   1,   1,\n          1,   1,   0,  18,   0,   1,  41,   7,   7,   7,   7,   1,   1,\n          1,   0,   0,   1,  25,   1,   1,  52,   2,   2,   2,   2,   3,\n         56,   2,   2,   2,   2,   2,   2,   2,   2,   2,   2,   2,   2,\n          2,   2,   2,   2,   2,   2,   2,   2,   2,   2,   2,   3,  56,\n         36,   2,   2,   2,   2,   2,   2,   2,   2,   3,  56,  36,   3,\n         62,   1,   2,   1,   2,   1,   2,   1,   1,  88,   1,  86,   1,\n          1,  23,   1,   1,   1,  59,   1,  49,   1,   1,   1,   1,   1,\n          1,   1,  17,  33,   1]),\n 'festival_flag': array(['Festival', 'Festival', 'Festival', 'Concert', 'Concert',\n        'Concert', 'Concert', 'Festival', 'Festival', 'Concert', 'Concert',\n        'Concert', 'Concert', 'Concert', 'Festival', 'Concert', 'Concert',\n        'Concert', 'Concert', 'Concert', 'Festival', 'Festival', 'Concert',\n        'Festival', 'Festival', 'Concert', 'Concert', 'Festival',\n        'Concert', 'Concert', 'Festival', 'Concert', 'Concert', 'Concert',\n        'Concert', 'Concert', 'Concert', 'Concert', 'Concert', 'Concert',\n        'Concert', 'Concert', 'Concert', 'Concert', 'Concert', 'Concert',\n        'Concert', 'Festival', 'Concert', 'Concert', 'Concert', 'Festival',\n        'Festival', 'Festival', 'Festival', 'Festival', 'Festival',\n        'Concert', 'Concert', 'Concert', 'Concert', 'Festival', 'Concert',\n        'Concert', 'Concert', 'Festival', 'Festival', 'Concert', 'Concert',\n        'Concert', 'Concert', 'Concert', 'Concert', 'Concert', 'Concert',\n        'Festival', 'Concert', 'Concert', 'Concert', 'Concert', 'Concert',\n        'Festival', 'Festival', 'Concert', 'Concert', 'Concert', 'Concert',\n        'Concert', 'Concert', 'Concert', 'Concert', 'Concert', 'Concert',\n        'Concert', 'Concert', 'Concert', 'Concert', 'Concert', 'Concert',\n        'Concert', 'Concert', 'Concert', 'Concert', 'Concert', 'Concert',\n        'Festival', 'Concert', 'Concert', 'Concert', 'Concert', 'Festival',\n        'Concert', 'Concert', 'Concert', 'Festival', 'Concert', 'Concert',\n        'Concert', 'Concert', 'Concert', 'Concert', 'Concert', 'Concert',\n        'Concert', 'Concert', 'Concert', 'Concert', 'Concert', 'Concert',\n        'Concert', 'Concert', 'Concert', 'Concert', 'Concert', 'Concert',\n        'Concert', 'Concert', 'Concert', 'Concert', 'Concert', 'Concert',\n        'Concert', 'Concert', 'Concert', 'Concert', 'Concert', 'Concert',\n        'Concert', 'Concert', 'Concert', 'Concert', 'Concert', 'Concert',\n        'Concert', 'Concert', 'Concert', 'Concert', 'Concert', 'Concert',\n        'Concert', 'Concert', 'Concert', 'Concert', 'Concert', 'Concert',\n        'Concert', 'Concert', 'Concert', 'Concert', 'Concert', 'Concert',\n        'Concert', 'Concert', 'Concert', 'Concert', 'Concert', 'Concert',\n        'Concert', 'Festival', 'Festival', 'Concert', 'Concert', 'Concert',\n        'Festival', 'Concert', 'Concert', 'Concert', 'Concert', 'Concert',\n        'Concert', 'Concert', 'Concert', 'Concert', 'Concert', 'Concert',\n        'Concert', 'Concert', 'Festival', 'Concert', 'Festival',\n        'Festival', 'Concert', 'Concert', 'Concert', 'Concert', 'Concert',\n        'Concert', 'Festival', 'Concert', 'Festival', 'Concert', 'Concert',\n        'Concert', 'Concert', 'Concert', 'Festival', 'Festival', 'Concert',\n        'Concert', 'Concert', 'Concert', 'Concert', 'Concert', 'Concert',\n        'Festival', 'Concert', 'Concert', 'Festival', 'Festival',\n        'Festival', 'Festival', 'Festival', 'Concert', 'Concert',\n        'Concert', 'Concert', 'Concert', 'Concert', 'Festival', 'Concert',\n        'Concert', 'Festival', 'Concert', 'Concert', 'Concert', 'Concert',\n        'Concert', 'Festival', 'Concert', 'Concert', 'Concert', 'Concert',\n        'Concert', 'Concert', 'Concert', 'Concert', 'Concert', 'Concert',\n        'Concert', 'Concert', 'Concert', 'Concert', 'Concert', 'Concert',\n        'Concert', 'Concert', 'Concert', 'Concert', 'Concert', 'Concert',\n        'Concert', 'Concert', 'Festival', 'Festival', 'Concert', 'Concert',\n        'Concert', 'Concert', 'Concert', 'Concert', 'Concert', 'Concert',\n        'Concert', 'Festival', 'Festival', 'Concert', 'Festival',\n        'Concert', 'Concert', 'Concert', 'Concert', 'Concert', 'Concert',\n        'Concert', 'Concert', 'Festival', 'Concert', 'Festival', 'Concert',\n        'Concert', 'Festival', 'Concert', 'Concert', 'Concert', 'Festival',\n        'Concert', 'Festival', 'Concert', 'Concert', 'Concert', 'Concert',\n        'Concert', 'Concert', 'Concert', 'Festival', 'Festival', 'Concert'],\n       dtype=object),\n 'show_date': array([ True,  True,  True,  True,  True,  True,  True,  True,  True,\n         True,  True,  True,  True,  True,  True,  True,  True,  True,\n         True,  True,  True,  True,  True,  True,  True,  True,  True,\n         True,  True,  True,  True,  True,  True,  True,  True,  True,\n         True,  True,  True,  True,  True,  True,  True,  True,  True,\n         True,  True,  True,  True,  True,  True,  True,  True,  True,\n         True,  True,  True,  True,  True,  True,  True,  True,  True,\n         True,  True,  True,  True,  True,  True,  True,  True,  True,\n         True,  True,  True,  True,  True,  True,  True,  True,  True,\n         True,  True,  True,  True,  True,  True,  True,  True,  True,\n         True,  True,  True,  True,  True,  True,  True,  True,  True,\n         True,  True,  True,  True,  True,  True,  True,  True,  True,\n         True,  True,  True,  True,  True,  True,  True,  True,  True,\n         True,  True,  True,  True,  True,  True,  True,  True,  True,\n         True,  True,  True,  True,  True,  True,  True,  True,  True,\n         True,  True,  True,  True,  True,  True,  True,  True,  True,\n         True,  True,  True,  True,  True,  True,  True,  True,  True,\n         True,  True,  True,  True,  True,  True,  True,  True,  True,\n         True,  True,  True,  True,  True,  True,  True,  True,  True,\n         True,  True,  True,  True,  True,  True,  True,  True,  True,\n         True,  True,  True,  True,  True,  True,  True,  True,  True,\n         True,  True,  True,  True,  True,  True,  True,  True,  True,\n         True,  True,  True,  True,  True,  True,  True,  True,  True,\n         True,  True,  True,  True,  True,  True,  True,  True,  True,\n         True,  True,  True,  True,  True,  True,  True,  True,  True,\n         True,  True,  True,  True,  True,  True,  True,  True,  True,\n         True,  True,  True,  True,  True,  True,  True,  True,  True,\n         True,  True,  True,  True,  True,  True,  True,  True,  True,\n         True,  True,  True,  True,  True,  True,  True,  True,  True,\n         True,  True,  True,  True,  True,  True,  True,  True,  True,\n         True,  True,  True,  True,  True,  True,  True,  True,  True,\n         True,  True,  True,  True,  True,  True,  True,  True,  True,\n         True,  True,  True,  True,  True,  True,  True,  True,  True,\n         True,  True,  True,  True,  True,  True,  True,  True,  True,\n         True,  True,  True,  True,  True,  True,  True,  True,  True,\n         True,  True]),\n 'MercatorX': array([-1.29369637e+07, -1.29394609e+07, -1.29369637e+07,  1.61353641e+07,\n         1.68341061e+07,  1.70338270e+07,  1.29155709e+07,  2.46818132e+05,\n        -1.33421666e+07, -1.36571774e+07, -1.36987337e+07, -1.36110557e+07,\n        -1.31078951e+07, -1.30422011e+07, -9.58112586e+06, -9.39437250e+06,\n        -8.62003345e+06, -8.36784171e+06, -2.51774632e+04,  2.59187063e+05,\n         2.06334238e+06,  5.22542595e+05,  1.63213854e+05,  2.12434324e+06,\n         1.19668453e+06,  1.40077026e+06,  9.46200644e+05,  6.42115235e+05,\n        -3.54960119e+05, -6.97547633e+05, -1.53659303e+05, -8.23679785e+06,\n        -8.23679785e+06, -8.36424595e+06, -8.55634891e+06, -1.00409640e+07,\n        -9.95068152e+06, -9.75715337e+06, -1.05284119e+07, -1.07755278e+07,\n        -4.80682125e+06, -1.11672003e+07, -1.10354185e+07, -1.17194183e+07,\n        -1.16857923e+07, -1.31686850e+07, -1.31645597e+07, -1.36275233e+07,\n        -1.33242406e+07, -1.36203868e+07, -1.36572073e+07,  1.94506401e+07,\n         1.70723634e+07,  1.61323932e+07,  1.68167347e+07,  1.54288814e+07,\n         1.28863021e+07,  1.28620465e+07, -1.37446175e+05,  9.72837060e+05,\n         1.29176250e+06, -3.80341597e+05, -2.50335271e+05, -2.10094499e+05,\n        -1.29872743e+05,  1.77584310e+05,  1.75895148e+05,  1.74400539e+05,\n        -8.23559735e+06, -8.23559735e+06, -1.31670129e+07, -1.28209756e+07,\n        -1.36110557e+07, -1.36110557e+07, -8.24691894e+06, -7.86449293e+06,\n        -2.49632734e+05, -1.45575838e+04, -5.19357077e+06, -6.67530265e+06,\n        -1.31079263e+07, -1.29374872e+07, -1.29374872e+07, -1.08806763e+07,\n        -1.00270019e+07, -9.39403538e+06, -9.66023851e+06, -1.03834454e+07,\n        -9.78569445e+06, -9.75825643e+06, -9.24034417e+06, -9.25587433e+06,\n        -8.83639869e+06, -8.18903711e+06, -8.18906574e+06, -7.91039394e+06,\n        -1.33421666e+07, -1.37085733e+07, -1.36562529e+07, -1.24567779e+07,\n        -1.16857956e+07, -1.05297817e+07, -1.00519176e+07, -8.90706753e+06,\n        -9.09379395e+06, -9.40645790e+06, -8.56857489e+06, -8.23835353e+06,\n         1.71001012e+07,  1.71005291e+07, -9.75384039e+06, -1.30389942e+07,\n        -1.31713088e+07, -1.31713088e+07, -1.36326649e+07, -9.82306697e+05,\n         5.93703947e+05,  6.34521098e+05,  1.04549596e+06,  1.39912236e+06,\n         1.22485383e+06,  9.51781646e+05,  2.47620522e+05, -2.60302484e+05,\n        -8.30443401e+05, -4.71656341e+05, -3.29185538e+05, -1.37294035e+05,\n         1.49168118e+06, -1.08838768e+07, -8.37778782e+06, -8.23525830e+06,\n        -8.23682635e+06, -1.08834411e+07,  1.61384793e+07,  1.68326814e+07,\n         1.68307233e+07,  1.28945077e+07,  1.28945077e+07,  1.54253855e+07,\n         1.54253855e+07,  1.70352335e+07,  1.94566447e+07,  1.94828645e+07,\n         5.50380260e+05,  4.81578693e+05,  2.66330101e+05,  1.39521716e+06,\n         1.19668453e+06,  2.01260185e+06,  1.11319491e+06,  1.49084984e+06,\n         7.73670461e+05, -2.49632734e+05, -1.45552461e+04, -1.29872776e+04,\n        -8.24691894e+06, -5.18934360e+06, -8.57716677e+06, -6.50953445e+06,\n        -6.53139282e+06, -7.86657735e+06,  1.27095151e+07,  1.15611785e+07,\n         1.13211922e+07,  1.55570535e+07,  1.50837910e+07,  1.18921994e+07,\n         2.43047551e+05, -6.95623130e+05, -9.58249598e+06, -8.83561853e+06,\n        -8.18969868e+06, -8.23506483e+06, -8.23506483e+06, -8.55630638e+06,\n        -8.40876420e+06,  2.06203238e+06,  1.34514365e+06,  5.21323625e+05,\n         7.63525393e+05,  5.36681918e+05,  1.02413932e+06, -1.02751530e+06,\n        -3.30247826e+05,  3.87513991e+06,  2.03366873e+06,  1.38725459e+06,\n        -1.31675298e+07, -1.36561185e+07, -1.16867840e+07, -1.36112197e+07,\n        -1.36112197e+07, -1.36183642e+07, -1.10315456e+07, -1.11672003e+07,\n        -8.21837255e+06, -4.12167094e+05, -1.42444420e+04, -9.75888295e+06,\n        -1.08915608e+07, -1.08915608e+07,  1.55570535e+07,  1.50930676e+07,\n        -6.46444528e+03, -6.46444528e+03, -6.46444528e+03, -1.31093234e+07,\n        -1.36110032e+07, -1.36169317e+07, -9.66037177e+06, -9.18958949e+06,\n        -9.39231541e+06, -9.05165876e+06, -8.92003586e+06, -1.15122722e+07,\n        -7.91782441e+06,  2.40337667e+05,  2.59491299e+05,  1.33258415e+06,\n         3.51135070e+02, -3.38719273e+05, -6.93780915e+05, -8.84044541e+06,\n        -9.24461988e+06, -1.03822135e+07, -1.03822135e+07, -9.75376308e+06,\n         1.19668453e+06,  1.19668453e+06,  1.19668453e+06,  1.19668453e+06,\n         1.50881951e+06, -8.23695189e+06, -8.23695189e+06, -8.36723676e+06,\n        -8.57450767e+06, -8.57450767e+06, -1.08832698e+07, -1.16851143e+07,\n        -1.16851143e+07, -1.08832698e+07, -1.30480020e+07, -1.31737599e+07,\n        -1.31737599e+07, -1.36276675e+07, -1.10312749e+07, -1.24276456e+07,\n         1.94559897e+07,  1.70350091e+07,  1.61389368e+07,  1.54257923e+07,\n         1.28965979e+07, -8.83644567e+06, -8.18969868e+06, -8.57453217e+06,\n        -8.99898249e+06, -9.39402696e+06, -8.92637256e+06, -1.03623918e+07,\n        -1.00413162e+07, -1.05285907e+07, -1.06862721e+07, -1.08794971e+07,\n        -1.07768764e+07, -1.06156605e+07, -1.24969119e+07, -1.16893846e+07,\n        -1.24567765e+07, -1.36553213e+07, -1.37044115e+07, -1.10312749e+07,\n        -1.09266926e+07, -1.11506931e+07, -1.36276675e+07,  1.94559897e+07,\n         1.70350091e+07,  1.68161542e+07,  1.61389368e+07,  1.61389368e+07,\n         1.54257923e+07,  1.28965979e+07, -1.10312749e+07, -1.09266926e+07,\n        -1.09266926e+07, -1.10312749e+07, -9.58333912e+06, -9.75984462e+06,\n        -1.33564315e+07, -1.36553213e+07, -1.36276675e+07, -1.28178428e+07,\n        -1.24969119e+07, -1.16893929e+07, -8.57453217e+06, -8.40733441e+06,\n        -9.39506246e+06, -1.36351029e+07, -1.31734515e+07, -1.31734515e+07,\n        -1.06210745e+07, -1.08794971e+07, -1.06162030e+07, -1.07768764e+07,\n        -1.09437835e+07, -1.15081433e+07, -1.10305960e+07,  1.94559897e+07,\n         1.68161542e+07,  1.70350091e+07,  1.61389368e+07,  1.61389368e+07,\n         1.54257923e+07,  1.28965979e+07, -1.24612923e+07, -8.98722035e+06,\n        -8.90136067e+06]),\n 'MercatorY': array([ 3991340.907006  ,  3985706.8991522 ,  3991340.907006  ,\n        -4552797.38437644, -4014018.73073443, -3183112.61242108,\n        -3735777.02789203,  5073575.34793324,  5955005.67979443,\n         5704224.93446713,  6335217.94872412,  4552305.92078787,\n         4036430.2214158 ,  3857717.50507663,  4233705.13607858,\n         3996432.30670544,  4514871.25346288,  4860829.73628967,\n         6708424.62031297,  6252849.0945439 ,  7268699.31817983,\n         6616077.17226854,  5395894.13594004,  6024072.11937378,\n         8381215.36767535,  7492342.59065347,  6005524.97484812,\n         6880005.11522787,  7547817.80976173,  7046933.25142127,\n         7145604.40086939,  4978432.17117457,  4978432.17117457,\n         4860162.96512133,  4751999.21080922,  4668487.93315838,\n         5323373.40495084,  5138536.58724747,  4735966.0050491 ,\n         3864740.94655662, -2621508.10783633,  2957854.41748937,\n         2205851.73030613,  4868681.16155871,  4828232.71229523,\n         4044862.35815109,  4034208.65134097,  4548173.21888967,\n         4087027.40657464,  6044218.74356058,  5704220.42209859,\n        -4420535.72487079, -3249717.66503283, -4549214.93840147,\n        -4008197.10535034, -4154825.09239777, -3728696.9017082 ,\n        -3763130.79469909,  6754495.50446658,  6469764.61291496,\n         6127682.30262732,  7598333.45933738,  7071983.92335436,\n         6886557.91170011,  6976834.5406181 ,  6863459.67040919,\n         6869692.93322253,  6884948.6305264 ,  4979993.81647245,\n         4979993.81647245,  4031853.98104591,  4316823.44539793,\n         4552305.92078787,  4552305.92078787,   512620.6540626 ,\n        -3956927.16578277,  7073580.38598756,  6727080.14938479,\n        -2700228.02124894, -4380977.63502538,  4036402.4077983 ,\n         3991494.33862311,  3991494.33862311,  3537909.41431344,\n         3497128.66713285,  3995133.57339423,  4322965.4752499 ,\n         5618100.82894318,  5317893.0085713 ,  5156325.84547235,\n         4865591.19917834,  5234249.84351117,  5412015.38944955,\n         5702256.04215042,  5702293.22930944,  5214808.08890425,\n         5955005.67979443,  6324350.6503347 ,  5704308.19125327,\n         4978415.12065315,  4828274.69497387,  4730434.43097983,\n         4672462.02902078,  4930864.64113246,  5086327.72181843,\n         4736247.99081905,  4710197.06651631,  4970272.29707157,\n        -3330779.47977963, -3331173.85194005,  5142389.71541541,\n         3861903.80776592,  4040961.03947423,  4040961.03947423,\n         4546430.69852997,  5116224.55447027,  6609509.61681215,\n         6881903.80492107,  5507016.12191511,  5134643.48303614,\n         5692067.85292056,  6002130.129914  ,  6247976.77667501,\n         7898697.71196456,  6823665.33950552,  7529674.64926726,\n         7060253.20878969,  6565469.05538289,  6894090.0121955 ,\n         3537792.33229403,  4860298.0034002 ,  4976936.68905112,\n         4978455.10123306,  3537792.30651652, -4554315.46024308,\n        -4010268.24733977, -4010697.10674742, -3754562.76459853,\n        -3754562.76459853, -4153516.17022267, -4153516.17022267,\n        -3183208.09742623, -4424174.92113842, -4993323.94034815,\n         6856800.8003985 ,  6587691.12605338,  6256027.13679645,\n         7494911.68527596,  8381207.97241559,  8244230.24160663,\n         7085388.16549508,  6888244.60079006,  6609509.61681215,\n         7073580.38598756,  6727075.31117863,  6710219.08322074,\n          512620.6540626 , -2696644.97231361, -1351399.25866924,\n        -4119491.75309397, -4107964.38308604, -3955187.39935462,\n         2549817.86493239,   143954.51125179,   352691.32755407,\n         4257363.97588296,  4118674.24128425,  -688670.23948863,\n         5069048.72337655,  7044843.3868769 ,  4228791.03496886,\n         5406411.45405202,  5699965.25556396,  4962996.43319616,\n         4962996.43319616,  4751641.47468534,  4748488.48590168,\n         7269058.52655029,  7485163.79174156,  6616013.26797568,\n         6047411.29760448,  5741816.92582258,  5695290.25244031,\n         4678617.34803058,  5350102.14346067,  3757769.22819341,\n         6414261.95542383,  6750862.77695734,  4030829.96891522,\n         5704333.47032787,  4828110.77533068,  4561312.45070087,\n         4561312.45070087,  6042313.34148557,  2202268.35770827,\n         2957854.41748937,  4991993.2798389 ,  4926652.80564373,\n         6716007.84597271,  5143610.81963891,  3483677.21071304,\n         3483677.21071304,  4257363.97588296,  4118674.24128425,\n         6717324.51872815,  6717324.51872815,  6717324.51872815,\n         4251274.42896291,  4551837.07939788,  4551951.65306294,\n         4324381.55376863,  4245044.09877316,  3998188.06154317,\n         3490861.94769866,  2973175.5631483 ,  2352805.5898663 ,\n         5214953.84043084,  5069858.34592258,  6251824.92731495,\n         7904427.73456794,  6710762.36343533,  7128163.28874264,\n         7048892.47391599,  5408258.52854519,  5210749.88153727,\n         5618019.83104258,  5618019.83104258,  5143666.53198066,\n         8381207.97241559,  8381207.97241559,  8381207.97241559,\n         8381207.97241559,  6883444.3334596 ,  4975644.90907016,\n         4975644.90907016,  4859001.76689473,  4704506.64468707,\n         4704506.64468707,  3537744.38620506,  4833473.95071624,\n         4833473.95071624,  3537744.38620506,  3862865.54950459,\n         4023191.96241067,  4023191.96241067,  4547679.57939923,\n         2202695.39962076,  3353955.4274619 , -4417835.62736003,\n        -3182057.30236442, -4554257.28650364, -4151000.2242759 ,\n        -3756543.69004318,  5410432.48786718,  5699965.25556396,\n         4707637.46837661,  4194519.37214577,  3995148.44759168,\n         2972031.6645915 ,  5613205.1690835 ,  4668359.71720915,\n         4735618.51839283,  4321662.14924116,  3539192.32219185,\n         3867520.83486338,  3471552.47994275,  3966063.93507862,\n         4829482.12003396,  4978140.55256231,  5705663.60640762,\n         6322136.48221058,  2202695.39962076,  2350034.01387173,\n         2971054.88546641,  4547679.57939923, -4417835.62736003,\n        -3182057.30236442, -4007914.9410838 , -4554257.28650364,\n        -4554257.28650364, -4151000.2242759 , -3756543.69004318,\n         2202695.39962076,  2350034.01387173,  2350034.01387173,\n         2202695.39962076,  4229541.93348503,  5143124.22517009,\n         5957391.26354401,  5705663.60640762,  4547679.57939923,\n         4323854.53770241,  3966063.93507862,  4829484.66826234,\n         4707637.46837661,  4744353.45865331,  3996089.26969972,\n         4546903.71837259,  4043880.94001339,  4043880.94001339,\n         3463111.20310561,  3539197.27202356,  3476047.62889787,\n         3867520.83486338,  2549568.70293584,  2359941.46764139,\n         2202551.17469171, -4417835.62736003, -4007914.9410838 ,\n        -3182057.30236442, -4554257.28650364, -4554257.28650364,\n        -4151000.2242759 , -3756543.69004318,  3952617.69622642,\n         3168506.39814519,  4930649.34041846])}"
     },
     "execution_count": 28,
     "metadata": {},
     "output_type": "execute_result"
    }
   ],
   "source": [
    "source.data"
   ],
   "metadata": {
    "collapsed": false,
    "pycharm": {
     "name": "#%%\n"
    }
   }
  },
  {
   "cell_type": "code",
   "execution_count": 29,
   "outputs": [
    {
     "ename": "NameError",
     "evalue": "name 'date_slider' is not defined",
     "output_type": "error",
     "traceback": [
      "\u001B[0;31m---------------------------------------------------------------------------\u001B[0m",
      "\u001B[0;31mNameError\u001B[0m                                 Traceback (most recent call last)",
      "\u001B[0;32m/var/folders/lx/s64h867n6nxf10yyw1qf04qh0000gp/T/ipykernel_5687/2012471644.py\u001B[0m in \u001B[0;36m<module>\u001B[0;34m\u001B[0m\n\u001B[1;32m    277\u001B[0m          True,  True]}}\n\u001B[1;32m    278\u001B[0m \u001B[0;34m\u001B[0m\u001B[0m\n\u001B[0;32m--> 279\u001B[0;31m \u001B[0;32mdef\u001B[0m \u001B[0mupdate\u001B[0m\u001B[0;34m(\u001B[0m\u001B[0msource\u001B[0m\u001B[0;34m=\u001B[0m\u001B[0msource\u001B[0m\u001B[0;34m,\u001B[0m \u001B[0mslider\u001B[0m\u001B[0;34m=\u001B[0m\u001B[0mdate_slider\u001B[0m\u001B[0;34m,\u001B[0m \u001B[0mwindow\u001B[0m\u001B[0;34m=\u001B[0m\u001B[0;32mNone\u001B[0m\u001B[0;34m)\u001B[0m\u001B[0;34m:\u001B[0m\u001B[0;34m\u001B[0m\u001B[0;34m\u001B[0m\u001B[0m\n\u001B[0m\u001B[1;32m    280\u001B[0m     \u001B[0mdata\u001B[0m\u001B[0;34m=\u001B[0m\u001B[0msource\u001B[0m\u001B[0;34m.\u001B[0m\u001B[0mdata\u001B[0m\u001B[0;34m\u001B[0m\u001B[0;34m\u001B[0m\u001B[0m\n\u001B[1;32m    281\u001B[0m     \u001B[0mv_start\u001B[0m \u001B[0;34m=\u001B[0m \u001B[0mcb_obj\u001B[0m\u001B[0;34m.\u001B[0m\u001B[0mget\u001B[0m\u001B[0;34m(\u001B[0m\u001B[0;34m'value'\u001B[0m\u001B[0;34m)\u001B[0m\u001B[0;34m[\u001B[0m\u001B[0;36m0\u001B[0m\u001B[0;34m]\u001B[0m\u001B[0;34m\u001B[0m\u001B[0;34m\u001B[0m\u001B[0m\n",
      "\u001B[0;31mNameError\u001B[0m: name 'date_slider' is not defined"
     ]
    }
   ],
   "source": [
    "source = {'data': {'index': [ 0,  1,  2,  3,  4,  5,  6,  7,  8,  9, 10, 11, 12, 13, 14, 15, 18,\n",
    "        20, 21, 22, 23, 24, 25, 26, 27, 28, 29, 30, 31, 32, 33, 34, 35, 36,\n",
    "        37, 38, 39, 40, 41, 42, 44, 45, 46, 47, 48, 49, 50, 51, 52, 53, 54,\n",
    "        55, 56, 57, 58, 59, 60, 61, 62, 63, 64, 65, 66, 67, 68],\n",
    " 'datetime': ['2016-12-03', '2017-01-20', '2017-04-22', '2017-04-23',\n",
    "        '2017-07-22', '2017-08-20', '2017-09-15', '2017-12-29',\n",
    "        '2018-03-16', '2018-04-22', '2018-06-01', '2018-06-02',\n",
    "        '2018-06-03', '2018-06-10', '2018-06-29', '2018-07-21',\n",
    "        '2018-09-09', '2018-09-29', '2018-10-05', '2018-10-26',\n",
    "        '2018-10-27', '2018-11-02', '2018-11-10', '2018-11-17',\n",
    "        '2018-12-29', '2018-12-31', '2019-03-01', '2019-05-04',\n",
    "        '2019-05-10', '2019-05-11', '2019-05-18', '2019-05-19',\n",
    "        '2019-06-07', '2019-06-08', '2019-06-23', '2019-07-18',\n",
    "        '2019-07-19', '2019-07-20', '2019-07-21', '2019-08-01',\n",
    "        '2019-09-20', '2019-09-23', '2019-10-11', '2020-03-06',\n",
    "        '2020-07-17', '2020-10-08', '2021-05-19', '2021-06-18',\n",
    "        '2021-07-10', '2021-07-16', '2021-07-22', '2021-07-29',\n",
    "        '2021-07-30', '2021-08-06', '2021-08-12', '2021-08-13',\n",
    "        '2021-08-14', '2021-08-27', '2021-09-10', '2021-10-02',\n",
    "        '2021-10-07', '2021-10-08', '2021-10-15', '2021-10-16',\n",
    "        '2021-11-27'],\n",
    " 'title': ['', '', '', '', '', '', '', '', '', '', '', '', '', '', '', '', '',\n",
    "        '', '', '', '', '', '', '', '', '', '', '', '', '', '', '', '', '',\n",
    "        '', '', '', '', '', '', '', '', '', '', '', '', '', '', '', '', '',\n",
    "        '', '', '', '', '', '', '', '', '', '', '', '', '', ''],\n",
    "\n",
    " 'lineup': [list(['Kerala Dust', 'Sentiment', 'Dwig', 'Kleintierschaukel', 'SNUR', 'Luke Redford']),\n",
    "        list(['Kerala Dust', 'Harri', 'Kiosk', 'Constantijn Lange', 'Hobta', 'Jascha Hagen', 'Jonathan Lükermann', 'Chris Schwarzwälder']),\n",
    "        list(['Kerala Dust', 'Monolink', 'Jacob Groening', 'Just Emma']),\n",
    "        list(['Kerala Dust', 'Florian Rietze', 'Kiosk', 'Luca Musto', 'Viken Arman', 'YokoO', 'Stavroz', 'Coss', 'Genji Yoshida', 'Jacob Groening']),\n",
    "        list(['Kerala Dust', 'Polo', 'Sainte Vie', 'Hyenah', 'Pan', 'Juan', 'Remcord', 'David Mears', 'Manumat', 'Raz Ohara', 'Sweet Melodic', 'Mark Höffen', 'Tomanka']),\n",
    "        list(['Kerala Dust', 'Crussen', 'Armen Miran', 'Rampue', 'WooMoon', 'SPANIOL', 'Rico loop', 'Luca Musto']),\n",
    "        list(['Kerala Dust']),\n",
    "        list(['Kerala Dust', 'Marana', 'Javid', 'Elliver', 'Zigan Aldi', 'Karotte', 'Just Emma', 'The Sorry Entertainers', 'Moji ', 'Pauli Pocket', 'Oberst & Buchner', 'Britta Arnold', 'oberst']),\n",
    "        list(['Kerala Dust', 'Betelgeize', 'Geju']),\n",
    "        list(['Kerala Dust', 'More', 'Satori', 'Mira', 'Marty', 'Tickets', 'Francisco', 'Rega', 'Atish', 'Nico Stojan', 'Be Svendsen', 'Stavroz', 'Anthony Cardinale', 'Goga', 'Crussen', 'Ninze', 'Feathered Sun', 'Viken Arman', 'Oceanvs Orientalis', 'Sainte Vie', 'SPANIOL', 'David Paglia']),\n",
    "        list(['Kerala Dust', 'wAFF']),\n",
    "        list(['Kerala Dust', 'Stavroz', 'Goldcap', 'Viken Arman', 'Oceanvs Orientalis', 'Saand']),\n",
    "        list(['Kerala Dust', 'Mira', 'Ramona Wouters']),\n",
    "        list(['Kerala Dust', 'Crussen']),\n",
    "        list(['Kerala Dust', 'Davi', 'Hraach', 'Sainte Vie', 'Timujin']),\n",
    "        list(['Kerala Dust', 'Mutlu', 'Satori', 'Mira', 'Fame', 'Bernstein', 'Unders', 'Lovecraft', 'Bo', 'Peter Schumann', 'Sven Dohse', 'Britta Arnold', 'Be Svendsen', 'Jonathan Kaspar', 'Pauli Pocket', 'Daniel Cowel', 'mimi love', 'Caleesi', 'Timujin', 'Billy Caso', 'Sarah Kreis', 'Geju', 'borzu']),\n",
    "        list(['Kerala Dust', 'Niko Schwind', 'Martha van Straaten', 'Sam Shure', 'Xique-Xique']),\n",
    "        list(['Kerala Dust', 'Tristen', 'More Tba', 'Rampue', 'Ninze', 'Dwig', 'Die Wilde Jagd', 'Bad Stream']),\n",
    "        list(['Kerala Dust']),\n",
    "        list(['Kerala Dust', 'LCD Soundsystem', 'Yelle', 'Loco Dice', 'Apollonia', 'Shonky', 'Paco Osuna', 'Dan Ghenacia', 'Dyed Soundorom', 'Bakke', 'Ish', 'BLOND:ISH', 'Fat Nick', 'Peggy Gou']),\n",
    "        list(['Kerala Dust', 'TrueVine']), list(['Kerala Dust']),\n",
    "        list(['Kerala Dust', 'Roderic']),\n",
    "        list(['Kerala Dust', 'Matanza', 'Isaac Soto']),\n",
    "        list(['Kerala Dust', 'Pachanga Boys', 'Rodriguez Jr.', 'Axel Boman', 'Sandrino', 'Frankey', 'Concret']),\n",
    "        list(['Kerala Dust', 'Robosonic']),\n",
    "        list(['Kerala Dust', 'Zigan Aldi']),\n",
    "        list(['Kerala Dust', 'Serge Devant', 'HUG', 'O', 'David Delgado', 'Shaun Reeves', 'DoubtingThomas', 'Peter Schumann', 'El Mundo', 'Detmolt', 'Just Emma', 'jPattersson', 'Love Over Entropy', 'UNDERHER', 'Niki Sadeki']),\n",
    "        list(['Kerala Dust', 'Nico Stojan']),\n",
    "        list(['Kerala Dust', 'Carlita', 'Red Axes', 'KMLN', 'Armen Miran', 'Gabriel Belmudes']),\n",
    "        list(['Kerala Dust', 'Ramona Wouters']),\n",
    "        list(['Kerala Dust', 'Lemurian', 'Lola Villa']),\n",
    "        list(['Kerala Dust', 'Gorje Hewek', 'Izhevski', 'Secret Guest', 'Meandisco', 'KMLN', 'Veronika Fleyta', 'Geju', 'Sam Shure', 'Amonita']),\n",
    "        list(['Kerala Dust', 'Stavroz', 'Crussen', 'PERSIAN EMPIRE']),\n",
    "        list(['Kerala Dust', 'Serge Devant', 'Behrouz', 'Squire', 'Uone', 'Baiuca']),\n",
    "        list(['Kerala Dust', 'Luciano', 'Very', 'Damian Lazarus', 'Rampue', 'Valentin Huedo', 'LUM', 'Black Motion', 'Jan Blomqvist', 'Huaira', 'Monolink', 'Sainte Vie']),\n",
    "        list(['Kerala Dust', 'Robag Wruhme', 'MR', 'Kermesse', 'Ish', 'Lazare Hoche', 'Fatoumata', 'ALBA MUSIC', 'Hraach', 'Martha van Straaten', 'cantanca']),\n",
    "        list(['Kerala Dust', 'Shimon', 'Kerri Chandler', 'Prins Thomas', 'Muallem', 'Recondite', 'Rampue', 'Stimming', 'Kiasmos', 'Christian Löffler', 'Seth Schwarz', 'Jan Blomqvist', 'Be Svendsen', 'Red Axes', 'Ben Rau', 'Konstantin Sibold', 'Parra for Cuva', 'Oceanvs Orientalis', 'Nicola Noir', 'Hraach', 'Emmanuel Russ', 'Fléoz', 'Paul Cut', 'Yarosslav', 'Tomanka']),\n",
    "        list(['Kerala Dust', 'Shimon', 'Kerri Chandler', 'Rampue', 'Stimming', 'Christian Löffler', 'Seth Schwarz', 'Red Axes', 'Ben Rau', 'Nicola Noir', 'Paul Cut', 'Tomanka']),\n",
    "        list(['Kerala Dust']), list(['Kerala Dust']),\n",
    "        list(['Kerala Dust']),\n",
    "        list(['Kerala Dust', 'Behrouz', 'Chaim', 'Oxia', 'Sabo', 'Raresh', 'Alex Niggemann', 'maher daniel', 'Nicolas Masseyeff', 'Bradley Zero', 'Praslea', 'Amine K', 'Zakaria', 'Konstantin Sibold', 'Two Faced', 'Marwan Sabb', 'Noritsu']),\n",
    "        list(['Kerala Dust', 'Matija']),\n",
    "        list(['Kerala Dust', 'Ruthless', 'Angerfist', 'Neophyte', 'DJ Coone', 'Jennifer Cardini', 'Mira', 'TNT', 'Âme', 'Poogie Bear', 'Shimon', 'Darren Styles', 'DJ Mad Dog', 'Tha Playah', 'Art of Fighters', 'The Viper', 'Dominik Eulberg', 'Evil Activities', 'Noize Suppressor', 'Endymion', 'The Prophet', 'Prins Thomas', 'Todd Terje', 'Headhunterz', 'Zatox', 'D-Block & S-Te-Fan', 'Korsakoff', 'Solstice', 'Partyraiser', 'N-Vitral', 'Very', 'Damian Lazarus', 'Batiste', 'Mystery', 'Resident DJ', 'Bass Modulators', 'AniMe', 'Noisecontrollers', 'Wildstylez', 'Da Tweekaz', 'Crypsis', 'Malaika', 'Dr. Evil', 'Dr. Rude', 'Dirty Bastards', 'Loc', 'BASSDRUM PROJECT', 'Broken Minds', 'Javi Boss', 'Frequencerz', 'Mano Le Tough', 'Act of rage', 'Demoniak', 'Javi Aznar', 'DJ Thomas', 'Warface', 'Vicente One More Time', 'Atmozfears', 'Dj Juanma', '&Me', 'Stavros', 'Dr. Phunk', 'Rico loop', 'Wakan', 'Wasted Penguinz', 'Dj DaY-mar', 'Jimi Jules', 'Chris Schwarzwälder', 'Radical Redemption', 'Stavroz', 'Destructive Tendencies', 'Abel K Kaña', 'Pastis & Buenri', 'Powel ', 'Javi Molina', 'Arzadous', 'Konstantin Sibold', 'Weval', 'Sub Zero Project', 'Quatri', 'Mira & Chris Schwarzwälder', 'M.RUX', 'Emmanuel Russ', 'Monolink', 'DIMA', 'HollSön', 'Lady Dammage', 'Tryangle Man', 'Billy Caso', 'Yarosslav', 'Deadly Guns', 'Greazy Puzzy Fuckerz', 'MC Tha Watcher', 'An Eagle In Your Mind']),\n",
    "        list(['Kerala Dust']), list(['Kerala Dust']),\n",
    "        list(['Kerala Dust']), list(['Kerala Dust']),\n",
    "        list(['Kerala Dust', 'Jennifer Cardini', 'Jimi Jules', 'Konstantin Sibold', 'Christopher Schwarzwälder', 'Viken Arman', 'Satori Musica']),\n",
    "        list(['Kerala Dust']), list(['Kerala Dust']),\n",
    "        list(['Kerala Dust']), list(['Kerala Dust']),\n",
    "        list(['Kerala Dust']), list(['Kerala Dust']),\n",
    "        list(['Kerala Dust']), list(['Kerala Dust']),\n",
    "        list(['Kerala Dust']), list(['Kerala Dust']),\n",
    "        list(['Kerala Dust']), list(['Kerala Dust']),\n",
    "        list(['Kerala Dust']), list(['Kerala Dust']),\n",
    "        list(['Kerala Dust', 'Stavroz', 'Eagles & Butterflies', 'Perel'])],\n",
    "\n",
    " 'festival_start_date': ['', '', '', '', '', '', '', '', '', '', '', '', '', '', '', '', '',\n",
    "        '', '', '', '', '', '', '', '', '', '', '', '', '', '', '', '', '',\n",
    "        '', '', '', '', '', '', '', '', '', '', '', '', '', '', '', '', '',\n",
    "        '', '', '', '', '', '', '', '', '', '', '', '', '', ''],\n",
    "\n",
    " 'festival_end_date': ['', '', '', '', '', '', '', '', '', '', '', '', '', '', '', '', '',\n",
    "        '', '', '', '', '', '', '', '', '', '', '', '', '', '', '', '', '',\n",
    "        '', '', '', '', '', '', '', '', '', '', '', '', '', '', '', '', '',\n",
    "        '', '', '', '', '', '', '', '', '', '', '', '', '', ''],\n",
    "\n",
    " 'city': ['Zurich', 'Berlin', 'Hamburg', 'Berlin', 'Paris', 'Ibiza', 'Miami',\n",
    "        'Berlin', 'Moscow', 'Paris', 'Miami', 'Los Angeles', 'Denver',\n",
    "        'San Francisco', 'Ibiza', 'Berlin', 'Berlin-Altglienicke',\n",
    "        'Berlin', 'Munich', 'Miami', 'Miami', 'Montreal', 'Center',\n",
    "        'Center', 'Quintana Roo', 'Quintana Roo', 'Berlin', 'Berlin',\n",
    "        'San Francisco', 'Queens Village', 'Denver', 'Washington',\n",
    "        'Moscow', 'London', 'Ibiza', 'Barcelona', 'Mugla',\n",
    "        'VITRY SUR SEINE', 'VITRY SUR SEINE', 'Diepholz', 'Miami',\n",
    "        'Los Angeles', 'Essaouira', 'Baden', 'Paris', 'Cologne', 'Hamburg',\n",
    "        'Kyiv', 'Haale', 'Vitry-sur-Seine', 'Çeşme', 'Berlin', 'Berlin',\n",
    "        'Mykonos', 'Chorzów', 'Kolkwitz', 'Zürich', 'Lärz',\n",
    "        'Offenbach am Main', 'İstanbul', 'Basel', 'Zurich', 'Prague',\n",
    "        'Amsterdam', 'London'],\n",
    " 'region': ['', '', '', '', '', '', 'FL', '', '', '', 'FL', 'California', '',\n",
    "        'CA', '', '', '', '', '', 'FL', 'FL', 'QC', '', '', '', '', '', '',\n",
    "        'CA', 'New York', 'CO', 'DC', '', '', '', '', '', '', '', '', 'FL',\n",
    "        'CA', '', '', '', '', '', '', '', '', '', '', '', '', '', '', '',\n",
    "        '', '', '', '', '', '', '', ''],\n",
    " 'country': ['Switzerland', 'Germany', 'Germany', 'Germany', 'France', 'Spain',\n",
    "        'United States', 'Germany', 'Russia', 'France', 'United States',\n",
    "        'United States', 'United States', 'United States', 'Spain',\n",
    "        'Germany', 'Germany', 'Germany', 'Germany', 'United States',\n",
    "        'United States', 'Canada', 'Mexico', 'Mexico', 'Mexico', 'Mexico',\n",
    "        'Germany', 'Germany', 'United States', 'United States',\n",
    "        'United States', 'United States', 'Russian Federation',\n",
    "        'United Kingdom', 'Spain', 'Spain', 'Turkey', 'France', 'France',\n",
    "        'Germany', 'United States', 'United States', 'Morocco',\n",
    "        'Switzerland', 'France', 'Germany', 'Germany', 'Ukraine',\n",
    "        'Germany', 'France', 'Turkey', 'Germany', 'Germany', 'Greece',\n",
    "        'Poland', 'Germany', 'Switzerland', 'Germany', 'Germany', 'Turkey',\n",
    "        'Switzerland', 'Switzerland', 'Czech Republic', 'Netherlands',\n",
    "        'United Kingdom'],\n",
    " 'latitude': [47.38151  , 52.511612 , 53.551802 , 52.511612 , 48.8741   ,\n",
    "        38.894431 , 25.784476 , 52.511612 , 55.75533  , 48.86405  ,\n",
    "        25.7844757, 34.0522222, 40.8661111, 37.749454 , 38.8841997,\n",
    "        52.511612 , 52.4166667, 52.502522 , 48.15     , 25.7844757,\n",
    "        25.7844757, 45.532771 , 23.9090939, 23.9090939, 20.8666667,\n",
    "        20.8666667, 52.51744  , 52.511612 , 37.7688759, 40.7266667,\n",
    "        39.7646511, 38.916281 , 55.7522222, 51.52374  , 38.90625  ,\n",
    "        41.3688085, 37.2163889, 48.7890892, 48.7890892, 52.6      ,\n",
    "        25.784673 , 34.0905773, 31.4696583, 47.4781575, 48.85341  ,\n",
    "        50.951817 , 53.5564221, 50.4590832, 54.18333  , 48.78716  ,\n",
    "        38.2329489, 52.52437  , 52.52437  , 37.44529  , 49.90304  ,\n",
    "        51.75     , 47.343558 , 53.3051075, 50.1055151, 41.0660865,\n",
    "        47.577376 , 47.3882217, 50.108181 , 52.3867989, 51.51962  ],\n",
    " 'longitude': [ 8.53688000e+00,  1.34268700e+01,  9.95820900e+00,  1.34268700e+01,\n",
    "         2.26298000e+00,  1.33146700e+00, -8.01931360e+01,  1.34268700e+01,\n",
    "         3.76098100e+01,  2.33105000e+00, -8.01931356e+01, -1.18242778e+02,\n",
    "        -8.60775000e+01, -1.22386009e+02,  1.40489600e+00,  1.34268700e+01,\n",
    "         1.35500000e+01,  1.34659300e+01,  1.15833333e+01, -8.01931356e+01,\n",
    "        -8.01931356e+01, -7.36202940e+01, -1.02633400e+02, -1.02633400e+02,\n",
    "        -8.86333333e+01, -8.86333333e+01,  1.34189900e+01,  1.34268700e+01,\n",
    "        -1.22419427e+02, -7.37419444e+01, -1.04979783e+02, -7.70213690e+01,\n",
    "         3.76155556e+01, -7.88390000e-02,  1.41953000e+00,  2.14827320e+00,\n",
    "         2.83638889e+01,  2.38828990e+00,  2.38828990e+00,  8.36666670e+00,\n",
    "        -8.01932020e+01, -1.18312565e+02, -9.76738950e+00,  8.30865560e+00,\n",
    "         2.34880000e+00,  6.91709700e+00,  9.96997760e+00,  3.06378697e+01,\n",
    "         9.55000000e+00,  2.40332000e+00,  2.63675087e+01,  1.34105300e+01,\n",
    "         1.34105300e+01,  2.53287200e+01,  2.25633400e+01,  1.42500000e+01,\n",
    "         8.53582910e+00,  1.27514235e+01,  8.73469550e+00,  2.90174246e+01,\n",
    "         7.58632300e+00,  8.51947020e+00,  1.44431801e+01,  4.86998990e+00,\n",
    "        -1.02412000e-01],\n",
    " 'location': ['', '', '', '', '', '', '', '', '', '', '', '', '', '', '', '', '',\n",
    "        '', '', '', '', '', '', '', '', '', '', '', '', '', '', '', '', '',\n",
    "        '', '', '', '', '', '', '', '', '', '', '', '', '', '', '', '', '',\n",
    "        '', '', '', '', '', '', '', '', '', '', '', '', '', ''],\n",
    " 'name': ['Kauz', 'Kater Blau', 'Gruenspan', 'Kater Blau',\n",
    "        'Les Pavillons des Etangs', 'Cova Santa', 'FLOYD', 'Kater Blau',\n",
    "        'Leveldva', 'TBA', 'Club Space', 'TBA', 'TBA', 'The Midway',\n",
    "        'Ushuaïa Ibiza Beach Hotel', 'Kater Blau', 'Sage Beach Berlin',\n",
    "        '://about blank', 'The Drunken Monkey', 'Club Space',\n",
    "        'Floyd Miami', 'Bar Le Ritz PDB', 'Proyecto Pblico Prim',\n",
    "        'Sirilo Instabar', 'AAK AL Sacbe Lagoon', 'Gitano Tulum',\n",
    "        'Beate Uwe', 'Kater Blau', 'Public Works', 'Knockdown Center',\n",
    "        'Walnut Room', 'Flash', 'Community Moscow', 'Village Underground',\n",
    "        'Cova Santa', 'Poble Espanyol', 'Xuma Yalikavak', 'Le Kilowatt',\n",
    "        'Le Kilowatt', 'Bürgerpark (appletree garden)', 'The Ground - FL',\n",
    "        'Gold Diggers', 'Hotel Sofitel Essaouira Mogador Golf & Spa',\n",
    "        'Royal', 'Le Kilowatt', 'Club Bahnhof Ehrenfeld',\n",
    "        'Uebel & Gefährlich', 'Kerala Dust @ White Night Festival',\n",
    "        'Utopia Festival 2021', 'RITUEL',\n",
    "        'Kerala Dust live at Sommer Klein',\n",
    "        'Kerala Dust - live in concert', 'Kerala Dust Live in Concert',\n",
    "        'Kerala Dust live @ Scorpios Mykonos', 'Fest Festival 2021',\n",
    "        'Akasha Festival 2021', 'Lethargy Zurich 2021',\n",
    "        'Kerala Dust live at Plan:et C', 'Kerala Dust Live at Sommerbnau',\n",
    "        'Kerala Dust at Sonar Istanbul', 'Kerala Dust at Gannet',\n",
    "        'Kerala Dust at Exil', 'Kerala Dust live in Prague',\n",
    "        'The Gardens of Babylon @ ADE 2021', 'Fabric'],\n",
    " 'artist': ['Kerala Dust', 'Kerala Dust', 'Kerala Dust', 'Kerala Dust',\n",
    "        'Kerala Dust', 'Kerala Dust', 'Kerala Dust', 'Kerala Dust',\n",
    "        'Kerala Dust', 'Kerala Dust', 'Kerala Dust', 'Kerala Dust',\n",
    "        'Kerala Dust', 'Kerala Dust', 'Kerala Dust', 'Kerala Dust',\n",
    "        'Kerala Dust', 'Kerala Dust', 'Kerala Dust', 'Kerala Dust',\n",
    "        'Kerala Dust', 'Kerala Dust', 'Kerala Dust', 'Kerala Dust',\n",
    "        'Kerala Dust', 'Kerala Dust', 'Kerala Dust', 'Kerala Dust',\n",
    "        'Kerala Dust', 'Kerala Dust', 'Kerala Dust', 'Kerala Dust',\n",
    "        'Kerala Dust', 'Kerala Dust', 'Kerala Dust', 'Kerala Dust',\n",
    "        'Kerala Dust', 'Kerala Dust', 'Kerala Dust', 'Kerala Dust',\n",
    "        'Kerala Dust', 'Kerala Dust', 'Kerala Dust', 'Kerala Dust',\n",
    "        'Kerala Dust', 'Kerala Dust', 'Kerala Dust', 'Kerala Dust',\n",
    "        'Kerala Dust', 'Kerala Dust', 'Kerala Dust', 'Kerala Dust',\n",
    "        'Kerala Dust', 'Kerala Dust', 'Kerala Dust', 'Kerala Dust',\n",
    "        'Kerala Dust', 'Kerala Dust', 'Kerala Dust', 'Kerala Dust',\n",
    "        'Kerala Dust', 'Kerala Dust', 'Kerala Dust', 'Kerala Dust',\n",
    "        'Kerala Dust'],\n",
    " 'artist_topgenres': [list(['house']), list(['house']), list(['house']), list(['house']),\n",
    "        list(['house']), list(['house']), list(['house']), list(['house']),\n",
    "        list(['house']), list(['house']), list(['house']), list(['house']),\n",
    "        list(['house']), list(['house']), list(['house']), list(['house']),\n",
    "        list(['house']), list(['house']), list(['house']), list(['house']),\n",
    "        list(['house']), list(['house']), list(['house']), list(['house']),\n",
    "        list(['house']), list(['house']), list(['house']), list(['house']),\n",
    "        list(['house']), list(['house']), list(['house']), list(['house']),\n",
    "        list(['house']), list(['house']), list(['house']), list(['house']),\n",
    "        list(['house']), list(['house']), list(['house']), list(['house']),\n",
    "        list(['house']), list(['house']), list(['house']), list(['house']),\n",
    "        list(['house']), list(['house']), list(['house']), list(['house']),\n",
    "        list(['house']), list(['house']), list(['house']), list(['house']),\n",
    "        list(['house']), list(['house']), list(['house']), list(['house']),\n",
    "        list(['house']), list(['house']), list(['house']), list(['house']),\n",
    "        list(['house']), list(['house']), list(['house']), list(['house']),\n",
    "        list(['house'])],\n",
    " 'lineup_size': [ 6,  8,  4, 10, 13,  8,  1, 13,  3, 22,  2,  6,  3,  2,  5, 23,  5,\n",
    "         8,  1, 14,  2,  1,  2,  3,  7,  2,  2, 15,  2,  6,  2,  3, 10,  4,\n",
    "         6, 12, 11, 25, 12,  1,  1,  1, 17,  2, 94,  1,  1,  1,  1,  7,  1,\n",
    "         1,  1,  1,  1,  1,  1,  1,  1,  1,  1,  1,  1,  1,  4],\n",
    " 'festival_flag':['Festival', 'Festival', 'Concert', 'Festival', 'Festival',\n",
    "        'Festival', 'Concert', 'Festival', 'Concert', 'Festival',\n",
    "        'Concert', 'Festival', 'Concert', 'Concert', 'Concert', 'Festival',\n",
    "        'Concert', 'Festival', 'Concert', 'Festival', 'Concert', 'Concert',\n",
    "        'Concert', 'Concert', 'Festival', 'Concert', 'Concert', 'Festival',\n",
    "        'Concert', 'Festival', 'Concert', 'Concert', 'Festival', 'Concert',\n",
    "        'Festival', 'Festival', 'Festival', 'Festival', 'Festival',\n",
    "        'Concert', 'Concert', 'Concert', 'Festival', 'Concert', 'Festival',\n",
    "        'Concert', 'Concert', 'Concert', 'Concert', 'Festival', 'Concert',\n",
    "        'Concert', 'Concert', 'Concert', 'Concert', 'Concert', 'Concert',\n",
    "        'Concert', 'Concert', 'Concert', 'Concert', 'Concert', 'Concert',\n",
    "        'Concert', 'Concert'],\n",
    " 'MercatorX': [ 9.50321135e+05,  1.49467233e+06,  1.10854276e+06,  1.49467233e+06,\n",
    "         2.51913781e+05,  1.48218228e+05, -8.92705906e+06,  1.49467233e+06,\n",
    "         4.18670490e+06,  2.59491299e+05, -8.92705902e+06, -1.31627258e+07,\n",
    "        -9.58210347e+06, -1.36239482e+07,  1.56392307e+05,  1.49467233e+06,\n",
    "         1.50837910e+06,  1.49902047e+06,  1.28945076e+06, -8.92705902e+06,\n",
    "        -8.92705902e+06, -8.19537364e+06, -1.14250978e+07, -1.14250978e+07,\n",
    "        -9.86661753e+06, -9.86661753e+06,  1.49379513e+06,  1.49467233e+06,\n",
    "        -1.36276683e+07, -8.20891570e+06, -1.16862960e+07, -8.57397958e+06,\n",
    "         4.18734450e+06, -8.77631733e+03,  1.58021357e+05,  2.39144679e+05,\n",
    "         3.15745367e+06,  2.65863216e+05,  2.65863216e+05,  9.31373077e+05,\n",
    "        -8.92706641e+06, -1.31704945e+07, -1.08730083e+06,  9.24915311e+05,\n",
    "         2.61467220e+05,  7.70007716e+05,  1.10985283e+06,  3.41059205e+06,\n",
    "         1.06310114e+06,  2.67536359e+05,  2.93521764e+06,  1.49285337e+06,\n",
    "         1.49285337e+06,  2.81958021e+06,  2.51173952e+06,  1.58630274e+06,\n",
    "         9.50204149e+05,  1.41948197e+06,  9.72341855e+05,  3.23020493e+06,\n",
    "         8.44505613e+05,  9.48383084e+05,  1.60780745e+06,  5.42124796e+05,\n",
    "        -1.14004517e+04],\n",
    " 'MercatorY': [6004570.06959557, 6893165.40093768, 7085725.81047338,\n",
    "        6893165.40093768, 6253525.73562329, 4706560.98067053,\n",
    "        2972411.76736251, 6893165.40093768, 7509862.16585027,\n",
    "        6251824.92731495, 2972411.73027401, 4035816.34901808,\n",
    "        4992613.09476467, 4544092.276759  , 4705097.72104785,\n",
    "        6893165.40093768, 6875817.62675196, 6891502.91573991,\n",
    "        6131845.86803904, 2972411.73027401, 2972411.73027401,\n",
    "        5705788.98872309, 2742334.71139851, 2742334.71139851,\n",
    "        2375987.0990246 , 2375987.0990246 , 6894231.47445908,\n",
    "        6893165.40093768, 4546826.98320842, 4972108.27822514,\n",
    "        4831800.72686635, 4709686.62900351, 7509247.401857  ,\n",
    "        6714465.43048063, 4708251.57233031, 5066893.97798572,\n",
    "        4469311.68236285, 6239149.72266987, 6239149.72266987,\n",
    "        6909348.78733988, 2972436.12216593, 4040970.83862009,\n",
    "        3693894.60345145, 6020473.79844093, 6250024.6427334 ,\n",
    "        6612775.12937624, 7086591.55517114, 6526163.85395143,\n",
    "        7204953.54127515, 6238823.7621892 , 4612386.14745461,\n",
    "        6895499.31286198, 6895499.31286198, 4501357.56115723,\n",
    "        6429500.97888261, 6755047.86303445, 5998332.8910321 ,\n",
    "        7039635.1735204 , 6464569.28977139, 5022094.29977453,\n",
    "        6036831.05642938, 6005673.56348724, 6465032.00585329,\n",
    "        6870368.1055111 , 6713728.33196985],\n",
    " 'show_date': [ True,  True,  True,  True,  True,  True,  True,  True,  True,\n",
    "         True,  True,  True,  True,  True,  True,  True,  True,  True,\n",
    "         True,  True,  True,  True,  True,  True,  True,  True,  True,\n",
    "         True,  True,  True,  True,  True,  True,  True,  True,  True,\n",
    "         True,  True,  True,  True,  True,  True,  True,  True,  True,\n",
    "         True,  True,  True,  True,  True,  True,  True,  True,  True,\n",
    "         True,  True,  True,  True,  True,  True,  True,  True,  True,\n",
    "         True,  True]}}\n",
    "\n",
    "def update(source=source, slider=date_slider, window=None):\n",
    "    data=source.data\n",
    "    v_start = cb_obj.get('value')[0]\n",
    "    v_end = cb_obj.get('value')[1]\n",
    "    mask = np.logical_and(data['datetime'] > v_start, data['datetime'] < v_end)\n",
    "    source.data['show_date'] = mask\n",
    "    source.trigger('change')"
   ],
   "metadata": {
    "collapsed": false,
    "pycharm": {
     "name": "#%%\n"
    }
   }
  },
  {
   "cell_type": "code",
   "execution_count": null,
   "outputs": [],
   "source": [
    "ColumnDataSource(test_df[(test_df['datetime'] > \"2017-01-01\") & (test_df['datetime'] < \"2018-01-01\")]).data"
   ],
   "metadata": {
    "collapsed": false,
    "pycharm": {
     "name": "#%%\n"
    }
   }
  },
  {
   "cell_type": "code",
   "execution_count": null,
   "outputs": [],
   "source": [
    "mask = np.logical_and(source.data['datetime'] > '2017-07-22', source.data['datetime'] < '2018-01-01')\n",
    "col = source.data['datetime']\n",
    "col[mask] = 'replacement'\n",
    "col"
   ],
   "metadata": {
    "collapsed": false,
    "pycharm": {
     "name": "#%%\n"
    }
   }
  },
  {
   "cell_type": "code",
   "execution_count": null,
   "outputs": [],
   "source": [
    "''' A crossfilter plot map that uses the `Auto MPG dataset`_. This example\n",
    "demonstrates the relationship of datasets together. A hover tooltip displays\n",
    "information on each dot.\n",
    ".. note::\n",
    "    This example needs the Pandas package to run.\n",
    ".. _Auto MPG dataset: https://archive.ics.uci.edu/ml/datasets/auto+mpg\n",
    "'''\n",
    "import pandas as pd\n",
    "\n",
    "from bokeh.layouts import column, row\n",
    "from bokeh.models import Select\n",
    "from bokeh.palettes import Spectral5\n",
    "from bokeh.plotting import curdoc, figure\n",
    "from bokeh.sampledata.autompg import autompg_clean as df\n",
    "\n",
    "url = 'http://archive.ics.uci.edu/ml/machine-learning-databases/auto-mpg/auto-mpg.data'\n",
    "\n",
    "widths = [7, 4, 10, 10, 11, 7, 4, 4, 30]\n",
    "\n",
    "df = pd.read_fwf(url, widths=widths, header=None, na_values=['?'])\n",
    "df.columns = ['mpg','cylinders','displacement','horsepower','weight','acceleration','model year','origin','car name']\n",
    "\n",
    "SIZES = list(range(6, 22, 3))\n",
    "COLORS = Spectral5\n",
    "N_SIZES = len(SIZES)\n",
    "N_COLORS = len(COLORS)\n",
    "\n",
    "# data cleanup\n",
    "df['cylinders'] = df['cylinders'].astype(str)\n",
    "df['model year'] = df['model year'].astype(str)\n",
    "del df['car name']\n",
    "\n",
    "columns = sorted(df.columns)\n",
    "discrete = [x for x in columns if df[x].dtype == object]\n",
    "continuous = [x for x in columns if x not in discrete]\n",
    "\n",
    "def create_figure():\n",
    "    xs = df[x.value].values\n",
    "    ys = df[y.value].values\n",
    "    x_title = x.value.title()\n",
    "    y_title = y.value.title()\n",
    "\n",
    "    kw = dict()\n",
    "    if x.value in discrete:\n",
    "        kw['x_range'] = sorted(set(xs))\n",
    "    if y.value in discrete:\n",
    "        kw['y_range'] = sorted(set(ys))\n",
    "    kw['title'] = \"%s vs %s\" % (x_title, y_title)\n",
    "\n",
    "    p = figure(height=600, width=800, tools='pan,box_zoom,hover,reset', **kw)\n",
    "    p.xaxis.axis_label = x_title\n",
    "    p.yaxis.axis_label = y_title\n",
    "\n",
    "    if x.value in discrete:\n",
    "        p.xaxis.major_label_orientation = pd.np.pi / 4\n",
    "\n",
    "    sz = 9\n",
    "    if size.value != 'None':\n",
    "        if len(set(df[size.value])) > N_SIZES:\n",
    "            groups = pd.qcut(df[size.value].values, N_SIZES, duplicates='drop')\n",
    "        else:\n",
    "            groups = pd.Categorical(df[size.value])\n",
    "        sz = [SIZES[xx] for xx in groups.codes]\n",
    "\n",
    "    c = \"#31AADE\"\n",
    "    if color.value != 'None':\n",
    "        if len(set(df[color.value])) > N_COLORS:\n",
    "            groups = pd.qcut(df[color.value].values, N_COLORS, duplicates='drop')\n",
    "        else:\n",
    "            groups = pd.Categorical(df[color.value])\n",
    "        c = [COLORS[xx] for xx in groups.codes]\n",
    "\n",
    "    p.circle(x=xs, y=ys, color=c, size=sz, line_color=\"white\", alpha=0.6, hover_color='white', hover_alpha=0.5)\n",
    "\n",
    "    return p\n",
    "\n",
    "\n",
    "def update(attr, old, new):\n",
    "    layout.children[1] = create_figure()\n",
    "\n",
    "\n",
    "x = Select(title='X-Axis', value='mpg', options=columns)\n",
    "x.on_change('value', update)\n",
    "\n",
    "y = Select(title='Y-Axis', value='horsepower', options=columns)\n",
    "y.on_change('value', update)\n",
    "\n",
    "size = Select(title='Size', value='None', options=['None'] + continuous)\n",
    "size.on_change('value', update)\n",
    "\n",
    "color = Select(title='Color', value='None', options=['None'] + continuous)\n",
    "color.on_change('value', update)\n",
    "\n",
    "controls = column(x, y, color, size, width=200)\n",
    "layout = row(controls, create_figure())\n",
    "\n",
    "show(layout)\n",
    "\n",
    "# curdoc().add_root(layout)\n",
    "# curdoc().title = \"Crossfilter\"\n",
    "# curdoc()"
   ],
   "metadata": {
    "collapsed": false,
    "pycharm": {
     "name": "#%%\n"
    }
   }
  },
  {
   "cell_type": "code",
   "execution_count": null,
   "outputs": [],
   "source": [
    "bokeh serve --show crossfilter"
   ],
   "metadata": {
    "collapsed": false,
    "pycharm": {
     "name": "#%%\n"
    }
   }
  },
  {
   "cell_type": "code",
   "execution_count": null,
   "outputs": [],
   "source": [
    "\n",
    "df.head()"
   ],
   "metadata": {
    "collapsed": false,
    "pycharm": {
     "name": "#%%\n"
    }
   }
  },
  {
   "cell_type": "markdown",
   "source": [
    "## Also Messy Workspace -- May not Run"
   ],
   "metadata": {
    "collapsed": false,
    "pycharm": {
     "name": "#%% md\n"
    }
   }
  },
  {
   "cell_type": "code",
   "execution_count": null,
   "outputs": [],
   "source": [
    "from pyproj import Transformer\n",
    "\n",
    "in_crs = 4326   # coordinates provided in EPSG:4326 format\n",
    "out_crs = 3857   # coordinates output in EPSG 3857 (Web Mercator) format\n",
    "\n",
    "transformer = Transformer.from_crs(in_crs, out_crs, always_xy=True)\n",
    "\n",
    "world_lon1, world_lat1 = transformer.transform(-180,-85)\n",
    "world_lon2, world_lat2 = transformer.transform(180,85)\n",
    "\n",
    "starbucks = pd.read_csv(\"directory.csv\")\n",
    "starbucks.head()\n",
    "starbucks_us = starbucks[starbucks.Country == \"US\"].copy()\n",
    "\n",
    "lons, lats = [], []\n",
    "for lon, lat in list(zip(starbucks_us[\"Longitude\"], starbucks_us[\"Latitude\"])):\n",
    "    x, y = transformer.transform(lon,lat)\n",
    "    lons.append(x)\n",
    "    lats.append(y)\n",
    "\n",
    "starbucks_us[\"MercatorX\"] = lons\n",
    "starbucks_us[\"MercatorY\"] = lats\n",
    "\n",
    "starbucks_us = starbucks_us.rename(columns={\"Store Name\":\"Name\", \"State/Province\":\"State\"})\n",
    "starbucks_us.head()"
   ],
   "metadata": {
    "collapsed": false,
    "pycharm": {
     "name": "#%%\n"
    }
   }
  },
  {
   "cell_type": "code",
   "execution_count": null,
   "outputs": [],
   "source": [
    "## TODO add interactive buttons to switch between artists / other slices\n",
    "## https://towardsdatascience.com/visualization-with-plotly-express-comprehensive-guide-eb5ee4b50b57#f38e\n",
    "## https://plotly.com/python/dropdowns/"
   ],
   "metadata": {
    "collapsed": false,
    "pycharm": {
     "name": "#%%\n"
    }
   }
  },
  {
   "cell_type": "code",
   "execution_count": null,
   "outputs": [],
   "source": [
    "# visualize data\n",
    "import plotly.express as px\n",
    "px.set_mapbox_access_token(open(\"mapbox_token.txt\").read())\n",
    "fig = px.scatter_mapbox(test_df,\n",
    "                     lat='latitude',\n",
    "                     lon='longitude',\n",
    "                     color=\"festival_flag\", # which column to use to set the color of markers\n",
    "                     color_discrete_sequence=px.colors.qualitative.Vivid,\n",
    "\n",
    "                     hover_name=\"city\", # column added to hover information\n",
    "                     hover_data={'datetime': True,\n",
    "                                 'festival_flag': True,\n",
    "                                 'latitude': False,\n",
    "                                 'longitude': False},\n",
    "                     labels={'festival_flag': 'Event Type',\n",
    "                             'datetime': 'Date'},\n",
    "\n",
    "\n",
    "                     #size=\"lineup_size\", # size of markers\n",
    "                     #projection=\"natural earth\"\n",
    "                     mapbox_style=\"streets\",\n",
    "                     zoom=1\n",
    "                    )\n",
    "\n",
    "# fig.update_layout(\n",
    "#     mapbox_style=\"streets\",\n",
    "#     # mapbox_layers=[\n",
    "#     #     {\n",
    "#     #         \"below\": 'traces',\n",
    "#     #         \"sourcetype\": \"raster\",\n",
    "#     #         \"sourceattribution\": \"United States Geological Survey\",\n",
    "#     #         \"source\": [\n",
    "#     #             \"https://basemap.nationalmap.gov/arcgis/rest/services/USGSImageryOnly/MapServer/tile/{z}/{y}/{x}\"\n",
    "#     #         ]\n",
    "#     #     }\n",
    "#     #   ]\n",
    "# )\n",
    "#fig.update_traces(hovertemplate= \"%{label}: <br>Popularity: %{value} </br> %{text}\")\n",
    "\n",
    "# fig.update_layout(\n",
    "#     margin={\"r\":0,\"t\":0,\"l\":0,\"b\":0},\n",
    "#     updatemenus=[\n",
    "#         dict(\n",
    "#             buttons=list([\n",
    "#                 dict(\n",
    "#                     args=[\"marker.color\",[\"red\"]],\n",
    "#                     label='Red',\n",
    "#                     method='restyle',\n",
    "#                     visible=True\n",
    "#                 )\n",
    "#             ]),\n",
    "#             direction=\"down\",\n",
    "#             pad={'r': 10, 't': 10},\n",
    "#             #showactive=True\n",
    "#         )\n",
    "#     ]\n",
    "# )\n",
    "\n",
    "fig.update_layout(\n",
    "    margin={\"r\":0,\"t\":0,\"l\":0,\"b\":0},\n",
    "    updatemenus=[\n",
    "        dict(\n",
    "            buttons=list([\n",
    "                dict(\n",
    "                    args=[{'customdata':[['2024-04-19', 'Festival', 33.6784492, -116.237155]]}],\n",
    "                    label='Custom',\n",
    "                    method='restyle',\n",
    "                    visible=True\n",
    "                )\n",
    "            ]),\n",
    "            direction=\"down\",\n",
    "            pad={'r': 10, 't': 10},\n",
    "            #showactive=True\n",
    "        )\n",
    "    ]\n",
    ")\n",
    "\n",
    "fig.show()"
   ],
   "metadata": {
    "collapsed": false,
    "pycharm": {
     "name": "#%%\n"
    }
   }
  },
  {
   "cell_type": "code",
   "execution_count": null,
   "outputs": [],
   "source": [
    "fig.to_dict()"
   ],
   "metadata": {
    "collapsed": false,
    "pycharm": {
     "name": "#%%\n"
    }
   }
  },
  {
   "cell_type": "code",
   "execution_count": null,
   "outputs": [],
   "source": [
    "fig.data"
   ],
   "metadata": {
    "collapsed": false,
    "pycharm": {
     "name": "#%%\n"
    }
   }
  },
  {
   "cell_type": "code",
   "execution_count": null,
   "outputs": [],
   "source": [
    "import reverse_geocode as rg\n",
    "coordinates = (-37.81, 144.96), (31.76, 35.21)\n",
    "loc = rg.search(coordinates)"
   ],
   "metadata": {
    "collapsed": false,
    "pycharm": {
     "name": "#%%\n"
    }
   }
  },
  {
   "cell_type": "code",
   "execution_count": null,
   "outputs": [],
   "source": [
    "from functools import partial\n",
    "from geopy.geocoders import Nominatim\n",
    "\n",
    "geolocator = Nominatim(user_agent=\"rg_agent\")\n",
    "\n",
    "geocode = partial(geolocator.geocode, language=\"es\")\n",
    "print(geocode(\"london\"))\n",
    "\n",
    "print(geocode(\"paris\"))\n",
    "\n",
    "print(geocode(\"paris\", language=\"en\"))\n",
    "\n",
    "\n",
    "reverse = partial(geolocator.reverse, language=\"es\")\n",
    "print(reverse(\"52.509669, 13.376294\"))\n"
   ],
   "metadata": {
    "collapsed": false,
    "pycharm": {
     "name": "#%%\n"
    }
   }
  },
  {
   "cell_type": "code",
   "execution_count": null,
   "outputs": [],
   "source": [
    "from geopy.extra.rate_limiter import RateLimiter\n",
    "gr = RateLimiter(geolocator.reverse, min_delay_seconds=1)\n",
    "\n",
    "x = gr((-37.81, 144.96),)\n",
    "dir(x)"
   ],
   "metadata": {
    "collapsed": false,
    "pycharm": {
     "name": "#%%\n"
    }
   }
  },
  {
   "cell_type": "code",
   "execution_count": null,
   "outputs": [],
   "source": [
    "x"
   ],
   "metadata": {
    "collapsed": false,
    "pycharm": {
     "name": "#%%\n"
    }
   }
  },
  {
   "cell_type": "code",
   "execution_count": null,
   "outputs": [],
   "source": [
    "x.raw['address']['city']"
   ],
   "metadata": {
    "collapsed": false,
    "pycharm": {
     "name": "#%%\n"
    }
   }
  },
  {
   "cell_type": "code",
   "execution_count": null,
   "outputs": [],
   "source": [
    "import plotly.express as px\n",
    "#df = px.data.gapminder().query(\"year == 2007\")\n",
    "fig = px.scatter_geo(test_df,\n",
    "                     lat='latitude',\n",
    "                     lon='longitude',\n",
    "                     color=\"festival_flag\", # which column to use to set the color of markers\n",
    "                     hover_name=\"city\", # column added to hover information\n",
    "                     #size=\"lineup_size\", # size of markers\n",
    "                     projection=\"natural earth\")\n",
    "fig.update_geos(\n",
    "    visible=False,\n",
    "    resolution=50,\n",
    "    #scope=\"north america\",\n",
    "    showcountries=True, countrycolor=\"Black\"\n",
    "    #,showsubunits=True, subunitcolor=\"Blue\"\n",
    ")\n",
    "fig.show()"
   ],
   "metadata": {
    "collapsed": false,
    "pycharm": {
     "name": "#%%\n"
    }
   }
  },
  {
   "cell_type": "code",
   "execution_count": null,
   "outputs": [],
   "source": [
    "x_df = test_df[:10].copy()\n",
    "tt = get_location(x_df, 'latitude', 'longitude')\n",
    "tt.head(10)"
   ],
   "metadata": {
    "collapsed": false,
    "pycharm": {
     "name": "#%%\n"
    }
   }
  },
  {
   "cell_type": "code",
   "execution_count": null,
   "outputs": [],
   "source": [
    "test_df.head(10)"
   ],
   "metadata": {
    "collapsed": false,
    "pycharm": {
     "name": "#%%\n"
    }
   }
  },
  {
   "cell_type": "code",
   "execution_count": null,
   "outputs": [],
   "source": [
    "test_df['city'] = test_df[['latitude', 'longitude']]"
   ],
   "metadata": {
    "collapsed": false,
    "pycharm": {
     "name": "#%%\n"
    }
   }
  },
  {
   "cell_type": "code",
   "execution_count": null,
   "outputs": [],
   "source": [
    "from geopy.extra.rate_limiter import RateLimiter\n",
    "geocode = RateLimiter(geolocator.reverse, min_delay_seconds=1)\n",
    "df['location'] = df['name'].apply(geocode)\n",
    "\n",
    "df['point'] = df['location'].apply(lambda loc: tuple(loc.point) if loc else None)"
   ],
   "metadata": {
    "collapsed": false,
    "pycharm": {
     "name": "#%%\n"
    }
   }
  },
  {
   "cell_type": "code",
   "execution_count": null,
   "outputs": [],
   "source": [
    "geolocator.reverse(-37.81, 144.96)"
   ],
   "metadata": {
    "collapsed": false,
    "pycharm": {
     "name": "#%%\n"
    }
   }
  },
  {
   "cell_type": "code",
   "execution_count": null,
   "outputs": [],
   "source": [],
   "metadata": {
    "collapsed": false,
    "pycharm": {
     "name": "#%%\n"
    }
   }
  },
  {
   "cell_type": "code",
   "execution_count": null,
   "outputs": [],
   "source": [
    "import plotly.graph_objects as go\n",
    "\n",
    "fig = go.Figure(go.Scattergeo(\n",
    "    test_df,\n",
    "    lat='latitude',\n",
    "    lon='longitude',\n",
    "    color=\"festival_flag\", # which column to use to set the color of markers\n",
    "    hover_name=\"city\", # column added to hover information\n",
    "    #size=\"lineup_size\", # size of markers\n",
    "    projection=\"natural earth\")\n",
    ")\n",
    "fig.update_geos(\n",
    "    visible=False, resolution=110, scope=\"usa\",\n",
    "    showcountries=True, countrycolor=\"Black\",\n",
    "    showsubunits=True, subunitcolor=\"lightGrey\"\n",
    ")\n",
    "fig.update_layout(height=300, margin={\"r\":0,\"t\":0,\"l\":0,\"b\":0})\n",
    "fig.show()"
   ],
   "metadata": {
    "collapsed": false,
    "pycharm": {
     "name": "#%%\n"
    }
   }
  },
  {
   "cell_type": "code",
   "execution_count": null,
   "outputs": [],
   "source": [
    "import pandas as pd\n",
    "us_cities = pd.read_csv(\"https://raw.githubusercontent.com/plotly/datasets/master/us-cities-top-1k.csv\")\n",
    "us_cities.head()\n",
    "\n",
    "import plotly.express as px\n",
    "\n",
    "fig = px.scatter_mapbox(us_cities, lat=\"lat\", lon=\"lon\", hover_name=\"City\", hover_data=[\"State\", \"Population\"],\n",
    "                        color_discrete_sequence=[\"fuchsia\"], zoom=3, height=300)\n",
    "fig.update_layout(mapbox_style=\"open-street-map\")\n",
    "fig.update_layout(margin={\"r\":0,\"t\":0,\"l\":0,\"b\":0})\n",
    "fig.show()"
   ],
   "metadata": {
    "collapsed": false,
    "pycharm": {
     "name": "#%%\n"
    }
   }
  },
  {
   "cell_type": "code",
   "execution_count": null,
   "outputs": [],
   "source": [
    "import plotly.express as px\n",
    "\n",
    "fig = px.scatter_mapbox(test_df, lat=\"latitude\", lon=\"longitude\", hover_name=\"location\",\n",
    "                        color_discrete_sequence=[\"fuchsia\"], zoom=3, height=300)\n",
    "fig.update_layout(mapbox_style=\"open-street-map\")\n",
    "fig.update_layout(margin={\"r\":0,\"t\":0,\"l\":0,\"b\":0})\n",
    "fig.show()"
   ],
   "metadata": {
    "collapsed": false,
    "pycharm": {
     "name": "#%%\n"
    }
   }
  },
  {
   "cell_type": "code",
   "execution_count": null,
   "id": "c5bb464d-c881-49d5-83d2-21d24e17e04f",
   "metadata": {
    "tags": []
   },
   "outputs": [],
   "source": [
    "ej = r.json()\n",
    "ej[2]"
   ]
  },
  {
   "cell_type": "code",
   "execution_count": null,
   "id": "8b835acd-ccac-4c96-a281-0d6510451e8e",
   "metadata": {},
   "outputs": [],
   "source": [
    "len(event_json)"
   ]
  },
  {
   "cell_type": "code",
   "execution_count": null,
   "id": "02de8e44-617c-4215-ae76-710ac67407c9",
   "metadata": {
    "tags": []
   },
   "outputs": [],
   "source": [
    "#r.text"
   ]
  },
  {
   "cell_type": "code",
   "execution_count": null,
   "id": "4f8c83e9-a728-4ba5-b8c9-abbbe011cb72",
   "metadata": {},
   "outputs": [],
   "source": [
    "len(ej[0])"
   ]
  },
  {
   "cell_type": "code",
   "execution_count": null,
   "id": "09c3a67a-32ce-4b70-9e83-9753dab2c73f",
   "metadata": {},
   "outputs": [],
   "source": [
    "ej[0].keys()"
   ]
  },
  {
   "cell_type": "code",
   "execution_count": null,
   "id": "07ac0ee8-80be-49a2-a3ab-ce20398c4728",
   "metadata": {},
   "outputs": [],
   "source": [
    "list(ej[0].keys())"
   ]
  },
  {
   "cell_type": "code",
   "execution_count": null,
   "id": "53146583-e11c-400f-ac54-49c1c11aab0e",
   "metadata": {},
   "outputs": [],
   "source": [
    "type(ej[0])"
   ]
  },
  {
   "cell_type": "code",
   "execution_count": null,
   "id": "077c0f79-81dd-47c4-97be-6c1b5502ee5b",
   "metadata": {},
   "outputs": [],
   "source": [
    "ej[0].values()"
   ]
  },
  {
   "cell_type": "code",
   "execution_count": null,
   "id": "1f65589a-7863-47f3-ba0e-d552395102d5",
   "metadata": {},
   "outputs": [],
   "source": [
    "v = ej[0].get('venue')\n",
    "print(v)\n",
    "type(v)"
   ]
  },
  {
   "cell_type": "code",
   "execution_count": null,
   "id": "528d7460-796b-43e0-bdeb-f50ea5c5f80a",
   "metadata": {},
   "outputs": [],
   "source": [
    "v.get('country')"
   ]
  },
  {
   "cell_type": "code",
   "execution_count": null,
   "outputs": [],
   "source": [
    "for key in list(ej[0].keys()):\n",
    "    print(key, \" : \\n\", ej[0].get(key), \"\\n\")"
   ],
   "metadata": {
    "collapsed": false,
    "pycharm": {
     "name": "#%%\n"
    }
   }
  },
  {
   "cell_type": "code",
   "execution_count": null,
   "id": "a497fe4d-7e00-4168-9cae-5642aee4bf3b",
   "metadata": {},
   "outputs": [],
   "source": []
  }
 ],
 "metadata": {
  "kernelspec": {
   "display_name": "Python 3 (ipykernel)",
   "language": "python",
   "name": "python3"
  },
  "language_info": {
   "codemirror_mode": {
    "name": "ipython",
    "version": 3
   },
   "file_extension": ".py",
   "mimetype": "text/x-python",
   "name": "python",
   "nbconvert_exporter": "python",
   "pygments_lexer": "ipython3",
   "version": "3.9.9"
  }
 },
 "nbformat": 4,
 "nbformat_minor": 5
}