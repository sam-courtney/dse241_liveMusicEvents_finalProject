{
 "cells": [
  {
   "cell_type": "markdown",
   "id": "c24686ae-41b8-425f-9b4c-e89f2bb7d0fe",
   "metadata": {},
   "source": [
    "# DSE 241 - Final Project\n",
    "# Rock & Fucking Roll"
   ]
  },
  {
   "cell_type": "markdown",
   "id": "327b5618-f4aa-4529-aca3-7a2b127f8e82",
   "metadata": {},
   "source": [
    "## Requirements"
   ]
  },
  {
   "cell_type": "code",
   "execution_count": 97,
   "id": "884c0faa-1277-4c81-8a8c-e6bb3a174a06",
   "metadata": {},
   "outputs": [],
   "source": [
    "import requests\n",
    "import pandas as pd\n",
    "import numpy as np\n",
    "import datetime\n",
    "\n",
    "from geopy.geocoders import Nominatim\n",
    "from geopy.extra.rate_limiter import RateLimiter"
   ]
  },
  {
   "cell_type": "markdown",
   "id": "9c4d8ef3-b428-4371-9963-31ea48652a8e",
   "metadata": {},
   "source": [
    "## Functions"
   ]
  },
  {
   "cell_type": "code",
   "execution_count": 109,
   "id": "ee028625-22a0-4cca-8f3b-687cfbef1827",
   "metadata": {},
   "outputs": [],
   "source": [
    "def read_artist_list(file_name='artist_list.txt'):\n",
    "    f = open(file_name, 'r')\n",
    "    string = f.read()\n",
    "    f.close()\n",
    "    l = list(string.split('\\n'))\n",
    "    return l\n",
    "\n",
    "def read_api_key(file_name='bands_api_key.txt'):\n",
    "    f = open(file_name, 'r')\n",
    "    key = f.read()\n",
    "    f.close()\n",
    "    return key\n",
    "\n",
    "def getgenre_artist(string):\n",
    "    ## lower case\n",
    "    ## replace \" \" with \"_\"\n",
    "    artist = string.replace(' ','_').lower()\n",
    "    return artist\n",
    "\n",
    "def bands_artist(string):\n",
    "    ## url-ify artist names\n",
    "    ## replaces \" \" with \"%20\"\n",
    "    artist = string.replace(' ',r'%20')\n",
    "    return artist\n",
    "\n",
    "def bands_api_past_pull(artist, api_key=read_api_key()):\n",
    "    b_artist = bands_artist(artist)\n",
    "    url = r'https://rest.bandsintown.com/artists/{}/events/?app_id={}&date=past'.format(b_artist, api_key)\n",
    "    r = requests.get(url)\n",
    "    event_json = r.json()\n",
    "    event_df = parse_events(event_json)\n",
    "    return event_df\n",
    "\n",
    "def get_genre_api_pull(artist, analysis_level=1):\n",
    "    gg_artist = getgenre_artist(artist)\n",
    "    getgenre_api_url = r'https://api.getgenre.com/search?artist_name={}&analysis={}'.format(gg_artist, analysis_level)\n",
    "    r = requests.get(getgenre_api_url)\n",
    "    genre_json = r.json()\n",
    "    top_genres = genre_json['analysis']['top_genres']\n",
    "    return top_genres\n",
    "    \n",
    "def parse_events(event_json):\n",
    "    ### defined to help parse the JSON of individual events returned by Bandintown API ###\n",
    "    ### this will pull out the keys and values for the event object ###\n",
    "    ### the end result is a list that can be entered as a row to a Pandas dataframe ###\n",
    "    \n",
    "    ### TODO: determine if the output is better in Pandas or Numpy ###\n",
    "    ### TODO: define event_json object ###\n",
    "    \n",
    "    events_data = []\n",
    "    num_of_events = len(event_json) # event json has an entry for each event ## each event has lots of other nested data\n",
    "\n",
    "    keys_of_interest = [\n",
    "            'datetime' # date-time of the event\n",
    "            , 'title'  # name of the event  ## may need to create a condition to check if exists and set to null if missing\n",
    "            , 'lineup' # list of strings containing names of artists  ## may leave as a nested list in data frame to avoid sparseness  ### list may be ordered in terms of headliners (??)\n",
    "            , 'festival_start_date' # date festival starts  ### may be a useful indicator that the artist is performing at a festival-event, need to test this for reliability\n",
    "            , 'festival_end_date'   # date festival ends, will differ from start date on multi-day events (may not exist on single day events)\n",
    "            , 'venue'  # this is a nested dictionary, will need to tease this one out to flatten the data\n",
    "    ]\n",
    "\n",
    "    venue_keys_of_interest = [\n",
    "             'city'        # city name, string\n",
    "            , 'region'     # state-level, string\n",
    "            , 'country'    # country name, string\n",
    "            , 'latitude'   # coordinate data, float\n",
    "            , 'longitude'  # coordinate data, float\n",
    "            , 'location'   # arbitrary string describing geolocation  ## consider not including\n",
    "            , 'name'       # arbitrary string describing venue name, could be misleading since some venues are at locations, but given festival name  ## consider not including\n",
    "    ]\n",
    "\n",
    "    for i in range(num_of_events):\n",
    "        event = event_json[i]\n",
    "        event_list = []\n",
    "\n",
    "        for key in keys_of_interest:\n",
    "            value = event.get(key)\n",
    "            if key == 'venue':\n",
    "                for venue_key in venue_keys_of_interest:\n",
    "                    venue_value = value.get(venue_key)\n",
    "                    event_list.append(venue_value)\n",
    "            else:\n",
    "                event_list.append(value)\n",
    "\n",
    "        events_data.append(event_list)\n",
    "\n",
    "\n",
    "    cols = keys_of_interest[:-1] + venue_keys_of_interest\n",
    "    events_df = pd.DataFrame(events_data, columns=cols)\n",
    "    events_df['artist'] = artist\n",
    "    return events_df\n",
    "\n",
    "def locations_data_prep(df):\n",
    "    clean_df = df.copy()\n",
    "    clean_df[(clean_df['latitude'].notna()) & (clean_df['longitude'].notna())] # remove missing data\n",
    "    clean_df['latitude'] = pd.to_numeric(clean_df['latitude'])\n",
    "    clean_df['longitude'] = pd.to_numeric(clean_df['longitude'])\n",
    "    return clean_df\n",
    "\n",
    "def get_locations(df, latitude_column='latitude', longitude_column='longitude'):\n",
    "    new_df = df.copy()\n",
    "    geolocator = Nominatim(timeout=None, user_agent=\"rg_agent\")\n",
    "    reverse_geocode = RateLimiter(geolocator.reverse, min_delay_seconds=2)\n",
    "    for index, row in new_df.iterrows():\n",
    "        lookup = reverse_geocode((row[latitude_column],row[longitude_column]), language='en')\n",
    "        try:\n",
    "            new_df.loc[index,'city'] = lookup.raw['address']['city']\n",
    "        except:\n",
    "            continue\n",
    "        try:\n",
    "            new_df.loc[index,'region'] = lookup.raw['address']['state']\n",
    "        except:\n",
    "            continue\n",
    "        try:\n",
    "            new_df.loc[index,'country'] = lookup.raw['address']['country']\n",
    "        except:\n",
    "            continue\n",
    "        if index % 100 == 0: print(\"Rows Completed: \", index)\n",
    "    return new_df\n",
    "\n",
    "def is_festival_column(df, input_col='lineup', output_col='festival_flag', festival_size_cutoff=5):\n",
    "    new_df = df.copy()\n",
    "    df['lineup_size'] = df[input_col].str.len()\n",
    "    df[output_col] = np.where(df['lineup_size'] > festival_size_cutoff, 'Festival', 'Concert')\n",
    "    df[output_col] = df[output_col].astype(str)\n",
    "    return new_df\n",
    "\n",
    "def data_prep_complete():\n",
    "    df = pd.DataFrame()\n",
    "    artist_list = read_artist_list()\n",
    "    bands_api_key = read_api_key()\n",
    "    print(\"Reading in Artists\")\n",
    "    for artist in artist_list:\n",
    "        print(artist)\n",
    "        artist_df = bands_api_past_pull(artist, api_key=bands_api_key)\n",
    "        artist_df['artist'] = artist\n",
    "        top_genres = get_genre_api_pull(artist)\n",
    "        artist_df['artist_top_genres'] = [top_genres for _ in range(len(artist_df))] # create nested list of genres in column 'artist_top_genres'\n",
    "\n",
    "        df = pd.concat([df,artist_df], ignore_index=True).copy()\n",
    "    print(\"Reading in Artists Complete\")\n",
    "    df = is_festival_column(df).copy()\n",
    "    print(\"Festival Events Identified\")\n",
    "    df['show_date'] = True # prepare for filtering in visualization\n",
    "    df['datetime'] = df['datetime'].str[:10] # trim off hours:minutes\n",
    "    print(\"Date Cleaned Up\")\n",
    "    df = locations_data_prep(df).copy()\n",
    "    print(\"Coordinates Cleaned Up\")\n",
    "    df = get_locations(df).copy()\n",
    "    print(\"Locations Cleaned Up\")\n",
    "    return df"
   ]
  },
  {
   "cell_type": "code",
   "execution_count": 108,
   "outputs": [
    {
     "name": "stdout",
     "output_type": "stream",
     "text": [
      "Reading in Artists\n",
      "Eminem\n",
      "Eagles\n",
      "Coldplay\n",
      "Metallica\n",
      "Pink\n",
      "Elton John\n",
      "Aerosmith\n",
      "Justin Bieber\n",
      "Bruno Mars\n",
      "Maroon 5\n",
      "Journey\n",
      "Katy Perry\n",
      "Guns N Roses\n",
      "Foo Fighters\n",
      "Red Hot Chili Peppers\n",
      "Volbeat\n",
      "Adele\n",
      "Rammstein\n",
      "Def Leppard\n",
      "Iron Maiden\n",
      "Eric Clapton\n",
      "Paul McCartney\n",
      "Pearl Jam\n",
      "Sting\n",
      "Bon Jovi\n",
      "Slipknot\n",
      "Snoop Dogg\n",
      "Imagine Dragons\n",
      "Pitbull\n",
      "Ed Sheeran\n",
      "The Weeknd\n",
      "Tool\n",
      "The Killers\n",
      "Wiz Khalifa\n",
      "Green Day\n",
      "Kings of Leon\n",
      "Disturbed\n",
      "John Legend\n",
      "Willie Nelson\n",
      "Taylor Swift\n",
      "Judas Priest\n",
      "Marc Anthony\n",
      "Usher\n",
      "Tim McGraw\n",
      "Muse\n",
      "Tame Impala\n",
      "A$AP Rocky\n",
      "Prince\n",
      "Dua Lipa\n",
      "Flight Facilities\n",
      "Big Wild\n",
      "BlackPink\n",
      "Ariana Grande\n",
      "No Doubt\n",
      "Andrea Bocelli\n",
      "Hippo Campus\n",
      "Yo-Yo Ma\n",
      "Garth Brooks\n",
      "The Rolling Stones\n",
      "Bob Dylan\n",
      "The Grateful Dead\n",
      "Reading in Artists Complete\n",
      "Festival Events Identified\n",
      "Date Cleaned Up\n",
      "Coordinates Cleaned Up\n",
      "Locations Cleaned Up\n",
      "CPU times: user 2.62 s, sys: 618 ms, total: 3.23 s\n",
      "Wall time: 6min 49s\n"
     ]
    }
   ],
   "source": [
    "%%time\n",
    "durty_location_df = data_prep_complete()"
   ],
   "metadata": {
    "collapsed": false,
    "pycharm": {
     "name": "#%%\n"
    }
   }
  },
  {
   "cell_type": "markdown",
   "id": "26325d4d-c8ee-4369-a568-d2e19ec91cf7",
   "metadata": {},
   "source": [
    "## Key Inputs"
   ]
  },
  {
   "cell_type": "code",
   "execution_count": 59,
   "id": "370a4474-931c-45d8-8c47-bef55969c386",
   "metadata": {},
   "outputs": [],
   "source": [
    "artist = 'Rufus du Sol'\n",
    "artist_list = read_artist_list()\n",
    "\n",
    "bands_key = read_api_key() ## shhhh... its a secret\n",
    "\n",
    "analysis_level = 1\n",
    "gg_artist = getgenre_artist(artist)\n",
    "bands_artist = bands_artist(artist)\n",
    "getgenre_api_url = r'https://api.getgenre.com/search?artist_name={}&analysis={}'.format(gg_artist, analysis_level)\n",
    "bands_api_url = r'https://rest.bandsintown.com/artists/{}/events/?app_id={}'.format(bands_artist, bands_key)\n",
    "bands_api_url_past = r'https://rest.bandsintown.com/artists/{}/events/?app_id={}&date=past'.format(bands_artist, bands_key)"
   ]
  },
  {
   "cell_type": "code",
   "execution_count": 60,
   "id": "00e0146d-d8b1-4b4c-affc-d7919dcfee18",
   "metadata": {},
   "outputs": [],
   "source": [
    "# gg_artist"
   ]
  },
  {
   "cell_type": "code",
   "execution_count": 61,
   "id": "6cfcea8e-b4d7-468e-bf0a-5f254e9e5109",
   "metadata": {},
   "outputs": [],
   "source": [
    "# bands_artist"
   ]
  },
  {
   "cell_type": "code",
   "execution_count": 110,
   "outputs": [
    {
     "name": "stdout",
     "output_type": "stream",
     "text": [
      "Reading in Artists\n",
      "Eminem\n",
      "Eagles\n",
      "Coldplay\n",
      "Metallica\n",
      "Pink\n",
      "Elton John\n",
      "Aerosmith\n",
      "Justin Bieber\n",
      "Bruno Mars\n",
      "Maroon 5\n",
      "Journey\n",
      "Katy Perry\n",
      "Guns N Roses\n",
      "Foo Fighters\n",
      "Red Hot Chili Peppers\n",
      "Volbeat\n",
      "Adele\n",
      "Rammstein\n",
      "Def Leppard\n",
      "Iron Maiden\n",
      "Eric Clapton\n",
      "Paul McCartney\n",
      "Pearl Jam\n",
      "Sting\n",
      "Bon Jovi\n",
      "Slipknot\n",
      "Snoop Dogg\n",
      "Imagine Dragons\n",
      "Pitbull\n",
      "Ed Sheeran\n",
      "The Weeknd\n",
      "Tool\n",
      "The Killers\n",
      "Wiz Khalifa\n",
      "Green Day\n",
      "Kings of Leon\n",
      "Disturbed\n",
      "John Legend\n",
      "Willie Nelson\n",
      "Taylor Swift\n",
      "Judas Priest\n",
      "Marc Anthony\n",
      "Usher\n",
      "Tim McGraw\n",
      "Muse\n",
      "Tame Impala\n",
      "A$AP Rocky\n",
      "Prince\n",
      "Dua Lipa\n",
      "Flight Facilities\n",
      "Big Wild\n",
      "BlackPink\n",
      "Ariana Grande\n",
      "No Doubt\n",
      "Andrea Bocelli\n",
      "Hippo Campus\n",
      "Yo-Yo Ma\n",
      "Garth Brooks\n",
      "The Rolling Stones\n",
      "Bob Dylan\n",
      "The Grateful Dead\n",
      "Reading in Artists Complete\n",
      "Festival Events Identified\n",
      "Date Cleaned Up\n",
      "Coordinates Cleaned Up\n"
     ]
    },
    {
     "ename": "KeyboardInterrupt",
     "evalue": "",
     "output_type": "error",
     "traceback": [
      "\u001B[0;31m---------------------------------------------------------------------------\u001B[0m",
      "\u001B[0;31mKeyboardInterrupt\u001B[0m                         Traceback (most recent call last)",
      "\u001B[0;32m<timed exec>\u001B[0m in \u001B[0;36m<module>\u001B[0;34m\u001B[0m\n",
      "\u001B[0;32m/var/folders/lx/s64h867n6nxf10yyw1qf04qh0000gp/T/ipykernel_36907/1240374554.py\u001B[0m in \u001B[0;36mdata_prep_complete\u001B[0;34m()\u001B[0m\n\u001B[1;32m    147\u001B[0m     \u001B[0mdf\u001B[0m \u001B[0;34m=\u001B[0m \u001B[0mlocations_data_prep\u001B[0m\u001B[0;34m(\u001B[0m\u001B[0mdf\u001B[0m\u001B[0;34m)\u001B[0m\u001B[0;34m.\u001B[0m\u001B[0mcopy\u001B[0m\u001B[0;34m(\u001B[0m\u001B[0;34m)\u001B[0m\u001B[0;34m\u001B[0m\u001B[0;34m\u001B[0m\u001B[0m\n\u001B[1;32m    148\u001B[0m     \u001B[0mprint\u001B[0m\u001B[0;34m(\u001B[0m\u001B[0;34m\"Coordinates Cleaned Up\"\u001B[0m\u001B[0;34m)\u001B[0m\u001B[0;34m\u001B[0m\u001B[0;34m\u001B[0m\u001B[0m\n\u001B[0;32m--> 149\u001B[0;31m     \u001B[0mdf\u001B[0m \u001B[0;34m=\u001B[0m \u001B[0mget_locations\u001B[0m\u001B[0;34m(\u001B[0m\u001B[0mdf\u001B[0m\u001B[0;34m)\u001B[0m\u001B[0;34m.\u001B[0m\u001B[0mcopy\u001B[0m\u001B[0;34m(\u001B[0m\u001B[0;34m)\u001B[0m\u001B[0;34m\u001B[0m\u001B[0;34m\u001B[0m\u001B[0m\n\u001B[0m\u001B[1;32m    150\u001B[0m     \u001B[0mprint\u001B[0m\u001B[0;34m(\u001B[0m\u001B[0;34m\"Locations Cleaned Up\"\u001B[0m\u001B[0;34m)\u001B[0m\u001B[0;34m\u001B[0m\u001B[0;34m\u001B[0m\u001B[0m\n\u001B[1;32m    151\u001B[0m     \u001B[0;32mreturn\u001B[0m \u001B[0mdf\u001B[0m\u001B[0;34m\u001B[0m\u001B[0;34m\u001B[0m\u001B[0m\n",
      "\u001B[0;32m/var/folders/lx/s64h867n6nxf10yyw1qf04qh0000gp/T/ipykernel_36907/1240374554.py\u001B[0m in \u001B[0;36mget_locations\u001B[0;34m(df, latitude_column, longitude_column)\u001B[0m\n\u001B[1;32m    103\u001B[0m     \u001B[0mreverse_geocode\u001B[0m \u001B[0;34m=\u001B[0m \u001B[0mRateLimiter\u001B[0m\u001B[0;34m(\u001B[0m\u001B[0mgeolocator\u001B[0m\u001B[0;34m.\u001B[0m\u001B[0mreverse\u001B[0m\u001B[0;34m,\u001B[0m \u001B[0mmin_delay_seconds\u001B[0m\u001B[0;34m=\u001B[0m\u001B[0;36m2\u001B[0m\u001B[0;34m)\u001B[0m\u001B[0;34m\u001B[0m\u001B[0;34m\u001B[0m\u001B[0m\n\u001B[1;32m    104\u001B[0m     \u001B[0;32mfor\u001B[0m \u001B[0mindex\u001B[0m\u001B[0;34m,\u001B[0m \u001B[0mrow\u001B[0m \u001B[0;32min\u001B[0m \u001B[0mnew_df\u001B[0m\u001B[0;34m.\u001B[0m\u001B[0miterrows\u001B[0m\u001B[0;34m(\u001B[0m\u001B[0;34m)\u001B[0m\u001B[0;34m:\u001B[0m\u001B[0;34m\u001B[0m\u001B[0;34m\u001B[0m\u001B[0m\n\u001B[0;32m--> 105\u001B[0;31m         \u001B[0mlookup\u001B[0m \u001B[0;34m=\u001B[0m \u001B[0mreverse_geocode\u001B[0m\u001B[0;34m(\u001B[0m\u001B[0;34m(\u001B[0m\u001B[0mrow\u001B[0m\u001B[0;34m[\u001B[0m\u001B[0mlatitude_column\u001B[0m\u001B[0;34m]\u001B[0m\u001B[0;34m,\u001B[0m\u001B[0mrow\u001B[0m\u001B[0;34m[\u001B[0m\u001B[0mlongitude_column\u001B[0m\u001B[0;34m]\u001B[0m\u001B[0;34m)\u001B[0m\u001B[0;34m,\u001B[0m \u001B[0mlanguage\u001B[0m\u001B[0;34m=\u001B[0m\u001B[0;34m'en'\u001B[0m\u001B[0;34m)\u001B[0m\u001B[0;34m\u001B[0m\u001B[0;34m\u001B[0m\u001B[0m\n\u001B[0m\u001B[1;32m    106\u001B[0m         \u001B[0;32mtry\u001B[0m\u001B[0;34m:\u001B[0m\u001B[0;34m\u001B[0m\u001B[0;34m\u001B[0m\u001B[0m\n\u001B[1;32m    107\u001B[0m             \u001B[0mnew_df\u001B[0m\u001B[0;34m.\u001B[0m\u001B[0mloc\u001B[0m\u001B[0;34m[\u001B[0m\u001B[0mindex\u001B[0m\u001B[0;34m,\u001B[0m\u001B[0;34m'city'\u001B[0m\u001B[0;34m]\u001B[0m \u001B[0;34m=\u001B[0m \u001B[0mlookup\u001B[0m\u001B[0;34m.\u001B[0m\u001B[0mraw\u001B[0m\u001B[0;34m[\u001B[0m\u001B[0;34m'address'\u001B[0m\u001B[0;34m]\u001B[0m\u001B[0;34m[\u001B[0m\u001B[0;34m'city'\u001B[0m\u001B[0;34m]\u001B[0m\u001B[0;34m\u001B[0m\u001B[0;34m\u001B[0m\u001B[0m\n",
      "\u001B[0;32m/opt/homebrew/lib/python3.9/site-packages/geopy/extra/rate_limiter.py\u001B[0m in \u001B[0;36m__call__\u001B[0;34m(self, *args, **kwargs)\u001B[0m\n\u001B[1;32m    270\u001B[0m         \u001B[0mgen\u001B[0m \u001B[0;34m=\u001B[0m \u001B[0mself\u001B[0m\u001B[0;34m.\u001B[0m\u001B[0m_retries_gen\u001B[0m\u001B[0;34m(\u001B[0m\u001B[0margs\u001B[0m\u001B[0;34m,\u001B[0m \u001B[0mkwargs\u001B[0m\u001B[0;34m)\u001B[0m\u001B[0;34m\u001B[0m\u001B[0;34m\u001B[0m\u001B[0m\n\u001B[1;32m    271\u001B[0m         \u001B[0;32mfor\u001B[0m \u001B[0m_\u001B[0m \u001B[0;32min\u001B[0m \u001B[0mgen\u001B[0m\u001B[0;34m:\u001B[0m\u001B[0;34m\u001B[0m\u001B[0;34m\u001B[0m\u001B[0m\n\u001B[0;32m--> 272\u001B[0;31m             \u001B[0mself\u001B[0m\u001B[0;34m.\u001B[0m\u001B[0m_acquire_request_slot\u001B[0m\u001B[0;34m(\u001B[0m\u001B[0;34m)\u001B[0m\u001B[0;34m\u001B[0m\u001B[0;34m\u001B[0m\u001B[0m\n\u001B[0m\u001B[1;32m    273\u001B[0m             \u001B[0;32mtry\u001B[0m\u001B[0;34m:\u001B[0m\u001B[0;34m\u001B[0m\u001B[0;34m\u001B[0m\u001B[0m\n\u001B[1;32m    274\u001B[0m                 \u001B[0mres\u001B[0m \u001B[0;34m=\u001B[0m \u001B[0mself\u001B[0m\u001B[0;34m.\u001B[0m\u001B[0mfunc\u001B[0m\u001B[0;34m(\u001B[0m\u001B[0;34m*\u001B[0m\u001B[0margs\u001B[0m\u001B[0;34m,\u001B[0m \u001B[0;34m**\u001B[0m\u001B[0mkwargs\u001B[0m\u001B[0;34m)\u001B[0m\u001B[0;34m\u001B[0m\u001B[0;34m\u001B[0m\u001B[0m\n",
      "\u001B[0;32m/opt/homebrew/lib/python3.9/site-packages/geopy/extra/rate_limiter.py\u001B[0m in \u001B[0;36m_acquire_request_slot\u001B[0;34m(self)\u001B[0m\n\u001B[1;32m    265\u001B[0m     \u001B[0;32mdef\u001B[0m \u001B[0m_acquire_request_slot\u001B[0m\u001B[0;34m(\u001B[0m\u001B[0mself\u001B[0m\u001B[0;34m)\u001B[0m\u001B[0;34m:\u001B[0m\u001B[0;34m\u001B[0m\u001B[0;34m\u001B[0m\u001B[0m\n\u001B[1;32m    266\u001B[0m         \u001B[0;32mfor\u001B[0m \u001B[0mwait\u001B[0m \u001B[0;32min\u001B[0m \u001B[0mself\u001B[0m\u001B[0;34m.\u001B[0m\u001B[0m_acquire_request_slot_gen\u001B[0m\u001B[0;34m(\u001B[0m\u001B[0;34m)\u001B[0m\u001B[0;34m:\u001B[0m\u001B[0;34m\u001B[0m\u001B[0;34m\u001B[0m\u001B[0m\n\u001B[0;32m--> 267\u001B[0;31m             \u001B[0mself\u001B[0m\u001B[0;34m.\u001B[0m\u001B[0m_sleep\u001B[0m\u001B[0;34m(\u001B[0m\u001B[0mwait\u001B[0m\u001B[0;34m)\u001B[0m\u001B[0;34m\u001B[0m\u001B[0;34m\u001B[0m\u001B[0m\n\u001B[0m\u001B[1;32m    268\u001B[0m \u001B[0;34m\u001B[0m\u001B[0m\n\u001B[1;32m    269\u001B[0m     \u001B[0;32mdef\u001B[0m \u001B[0m__call__\u001B[0m\u001B[0;34m(\u001B[0m\u001B[0mself\u001B[0m\u001B[0;34m,\u001B[0m \u001B[0;34m*\u001B[0m\u001B[0margs\u001B[0m\u001B[0;34m,\u001B[0m \u001B[0;34m**\u001B[0m\u001B[0mkwargs\u001B[0m\u001B[0;34m)\u001B[0m\u001B[0;34m:\u001B[0m\u001B[0;34m\u001B[0m\u001B[0;34m\u001B[0m\u001B[0m\n",
      "\u001B[0;32m/opt/homebrew/lib/python3.9/site-packages/geopy/extra/rate_limiter.py\u001B[0m in \u001B[0;36m_sleep\u001B[0;34m(self, seconds)\u001B[0m\n\u001B[1;32m    261\u001B[0m     \u001B[0;32mdef\u001B[0m \u001B[0m_sleep\u001B[0m\u001B[0;34m(\u001B[0m\u001B[0mself\u001B[0m\u001B[0;34m,\u001B[0m \u001B[0mseconds\u001B[0m\u001B[0;34m)\u001B[0m\u001B[0;34m:\u001B[0m  \u001B[0;31m# pragma: no cover\u001B[0m\u001B[0;34m\u001B[0m\u001B[0;34m\u001B[0m\u001B[0m\n\u001B[1;32m    262\u001B[0m         \u001B[0mlogger\u001B[0m\u001B[0;34m.\u001B[0m\u001B[0mdebug\u001B[0m\u001B[0;34m(\u001B[0m\u001B[0mtype\u001B[0m\u001B[0;34m(\u001B[0m\u001B[0mself\u001B[0m\u001B[0;34m)\u001B[0m\u001B[0;34m.\u001B[0m\u001B[0m__name__\u001B[0m \u001B[0;34m+\u001B[0m \u001B[0;34m\" sleep(%r)\"\u001B[0m\u001B[0;34m,\u001B[0m \u001B[0mseconds\u001B[0m\u001B[0;34m)\u001B[0m\u001B[0;34m\u001B[0m\u001B[0;34m\u001B[0m\u001B[0m\n\u001B[0;32m--> 263\u001B[0;31m         \u001B[0msleep\u001B[0m\u001B[0;34m(\u001B[0m\u001B[0mseconds\u001B[0m\u001B[0;34m)\u001B[0m\u001B[0;34m\u001B[0m\u001B[0;34m\u001B[0m\u001B[0m\n\u001B[0m\u001B[1;32m    264\u001B[0m \u001B[0;34m\u001B[0m\u001B[0m\n\u001B[1;32m    265\u001B[0m     \u001B[0;32mdef\u001B[0m \u001B[0m_acquire_request_slot\u001B[0m\u001B[0;34m(\u001B[0m\u001B[0mself\u001B[0m\u001B[0;34m)\u001B[0m\u001B[0;34m:\u001B[0m\u001B[0;34m\u001B[0m\u001B[0;34m\u001B[0m\u001B[0m\n",
      "\u001B[0;31mKeyboardInterrupt\u001B[0m: "
     ]
    }
   ],
   "source": [
    "%%time\n",
    "dat = data_prep_complete()"
   ],
   "metadata": {
    "collapsed": false,
    "pycharm": {
     "name": "#%%\n"
    }
   }
  },
  {
   "cell_type": "code",
   "execution_count": 89,
   "outputs": [
    {
     "data": {
      "text/plain": "Metallica    306\nPink         299\nEagles       266\nColdplay     167\nEminem        54\nName: artist, dtype: int64"
     },
     "execution_count": 89,
     "metadata": {},
     "output_type": "execute_result"
    }
   ],
   "source": [
    "dat['artist'].value_counts()"
   ],
   "metadata": {
    "collapsed": false,
    "pycharm": {
     "name": "#%%\n"
    }
   }
  },
  {
   "cell_type": "code",
   "execution_count": 101,
   "outputs": [
    {
     "name": "stdout",
     "output_type": "stream",
     "text": [
      "Reading in Artists\n",
      "Eminem\n",
      "Eagles\n",
      "Coldplay\n",
      "Metallica\n",
      "Pink\n",
      "Reading in Artists Complete\n",
      "Festival Events Identified\n",
      "Date Cleaned Up\n",
      "Coordinates Cleaned Up\n",
      "Rows Completed:  100\n",
      "Rows Completed:  0\n",
      "Rows Completed:  100\n"
     ]
    },
    {
     "ename": "ValueError",
     "evalue": "Must be a coordinate pair or Point",
     "output_type": "error",
     "traceback": [
      "\u001B[0;31m---------------------------------------------------------------------------\u001B[0m",
      "\u001B[0;31mValueError\u001B[0m                                Traceback (most recent call last)",
      "\u001B[0;32m/opt/homebrew/lib/python3.9/site-packages/geopy/geocoders/nominatim.py\u001B[0m in \u001B[0;36mreverse\u001B[0;34m(self, query, exactly_one, timeout, language, addressdetails, zoom)\u001B[0m\n\u001B[1;32m    342\u001B[0m         \u001B[0;32mtry\u001B[0m\u001B[0;34m:\u001B[0m\u001B[0;34m\u001B[0m\u001B[0;34m\u001B[0m\u001B[0m\n\u001B[0;32m--> 343\u001B[0;31m             \u001B[0mlat\u001B[0m\u001B[0;34m,\u001B[0m \u001B[0mlon\u001B[0m \u001B[0;34m=\u001B[0m \u001B[0mself\u001B[0m\u001B[0;34m.\u001B[0m\u001B[0m_coerce_point_to_string\u001B[0m\u001B[0;34m(\u001B[0m\u001B[0mquery\u001B[0m\u001B[0;34m)\u001B[0m\u001B[0;34m.\u001B[0m\u001B[0msplit\u001B[0m\u001B[0;34m(\u001B[0m\u001B[0;34m','\u001B[0m\u001B[0;34m)\u001B[0m\u001B[0;34m\u001B[0m\u001B[0;34m\u001B[0m\u001B[0m\n\u001B[0m\u001B[1;32m    344\u001B[0m         \u001B[0;32mexcept\u001B[0m \u001B[0mValueError\u001B[0m\u001B[0;34m:\u001B[0m\u001B[0;34m\u001B[0m\u001B[0;34m\u001B[0m\u001B[0m\n",
      "\u001B[0;32m/opt/homebrew/lib/python3.9/site-packages/geopy/geocoders/base.py\u001B[0m in \u001B[0;36m_coerce_point_to_string\u001B[0;34m(self, point, output_format)\u001B[0m\n\u001B[1;32m    299\u001B[0m         \u001B[0;32mif\u001B[0m \u001B[0;32mnot\u001B[0m \u001B[0misinstance\u001B[0m\u001B[0;34m(\u001B[0m\u001B[0mpoint\u001B[0m\u001B[0;34m,\u001B[0m \u001B[0mPoint\u001B[0m\u001B[0;34m)\u001B[0m\u001B[0;34m:\u001B[0m\u001B[0;34m\u001B[0m\u001B[0;34m\u001B[0m\u001B[0m\n\u001B[0;32m--> 300\u001B[0;31m             \u001B[0mpoint\u001B[0m \u001B[0;34m=\u001B[0m \u001B[0mPoint\u001B[0m\u001B[0;34m(\u001B[0m\u001B[0mpoint\u001B[0m\u001B[0;34m)\u001B[0m\u001B[0;34m\u001B[0m\u001B[0;34m\u001B[0m\u001B[0m\n\u001B[0m\u001B[1;32m    301\u001B[0m \u001B[0;34m\u001B[0m\u001B[0m\n",
      "\u001B[0;32m/opt/homebrew/lib/python3.9/site-packages/geopy/point.py\u001B[0m in \u001B[0;36m__new__\u001B[0;34m(cls, latitude, longitude, altitude)\u001B[0m\n\u001B[1;32m    174\u001B[0m                 \u001B[0;32melse\u001B[0m\u001B[0;34m:\u001B[0m\u001B[0;34m\u001B[0m\u001B[0;34m\u001B[0m\u001B[0m\n\u001B[0;32m--> 175\u001B[0;31m                     \u001B[0;32mreturn\u001B[0m \u001B[0mcls\u001B[0m\u001B[0;34m.\u001B[0m\u001B[0mfrom_sequence\u001B[0m\u001B[0;34m(\u001B[0m\u001B[0mseq\u001B[0m\u001B[0;34m)\u001B[0m\u001B[0;34m\u001B[0m\u001B[0;34m\u001B[0m\u001B[0m\n\u001B[0m\u001B[1;32m    176\u001B[0m \u001B[0;34m\u001B[0m\u001B[0m\n",
      "\u001B[0;32m/opt/homebrew/lib/python3.9/site-packages/geopy/point.py\u001B[0m in \u001B[0;36mfrom_sequence\u001B[0;34m(cls, seq)\u001B[0m\n\u001B[1;32m    471\u001B[0m                              'must not have more than 3 items.')\n\u001B[0;32m--> 472\u001B[0;31m         \u001B[0;32mreturn\u001B[0m \u001B[0mcls\u001B[0m\u001B[0;34m(\u001B[0m\u001B[0;34m*\u001B[0m\u001B[0margs\u001B[0m\u001B[0;34m)\u001B[0m\u001B[0;34m\u001B[0m\u001B[0;34m\u001B[0m\u001B[0m\n\u001B[0m\u001B[1;32m    473\u001B[0m \u001B[0;34m\u001B[0m\u001B[0m\n",
      "\u001B[0;32m/opt/homebrew/lib/python3.9/site-packages/geopy/point.py\u001B[0m in \u001B[0;36m__new__\u001B[0;34m(cls, latitude, longitude, altitude)\u001B[0m\n\u001B[1;32m    187\u001B[0m         \u001B[0mlatitude\u001B[0m\u001B[0;34m,\u001B[0m \u001B[0mlongitude\u001B[0m\u001B[0;34m,\u001B[0m \u001B[0maltitude\u001B[0m \u001B[0;34m=\u001B[0m\u001B[0;31m \u001B[0m\u001B[0;31m\\\u001B[0m\u001B[0;34m\u001B[0m\u001B[0;34m\u001B[0m\u001B[0m\n\u001B[0;32m--> 188\u001B[0;31m             \u001B[0m_normalize_coordinates\u001B[0m\u001B[0;34m(\u001B[0m\u001B[0mlatitude\u001B[0m\u001B[0;34m,\u001B[0m \u001B[0mlongitude\u001B[0m\u001B[0;34m,\u001B[0m \u001B[0maltitude\u001B[0m\u001B[0;34m)\u001B[0m\u001B[0;34m\u001B[0m\u001B[0;34m\u001B[0m\u001B[0m\n\u001B[0m\u001B[1;32m    189\u001B[0m \u001B[0;34m\u001B[0m\u001B[0m\n",
      "\u001B[0;32m/opt/homebrew/lib/python3.9/site-packages/geopy/point.py\u001B[0m in \u001B[0;36m_normalize_coordinates\u001B[0;34m(latitude, longitude, altitude)\u001B[0m\n\u001B[1;32m     62\u001B[0m     \u001B[0;32mif\u001B[0m \u001B[0;32mnot\u001B[0m \u001B[0mis_all_finite\u001B[0m\u001B[0;34m:\u001B[0m\u001B[0;34m\u001B[0m\u001B[0;34m\u001B[0m\u001B[0m\n\u001B[0;32m---> 63\u001B[0;31m         raise ValueError('Point coordinates must be finite. %r has been passed '\n\u001B[0m\u001B[1;32m     64\u001B[0m                          'as coordinates.' % ((latitude, longitude, altitude),))\n",
      "\u001B[0;31mValueError\u001B[0m: Point coordinates must be finite. (nan, nan, 0.0) has been passed as coordinates.",
      "\nDuring handling of the above exception, another exception occurred:\n",
      "\u001B[0;31mValueError\u001B[0m                                Traceback (most recent call last)",
      "\u001B[0;32m<timed exec>\u001B[0m in \u001B[0;36m<module>\u001B[0;34m\u001B[0m\n",
      "\u001B[0;32m/var/folders/lx/s64h867n6nxf10yyw1qf04qh0000gp/T/ipykernel_36907/829226612.py\u001B[0m in \u001B[0;36mdata_prep_complete\u001B[0;34m()\u001B[0m\n\u001B[1;32m    147\u001B[0m     \u001B[0mdf\u001B[0m \u001B[0;34m=\u001B[0m \u001B[0mlocations_data_prep\u001B[0m\u001B[0;34m(\u001B[0m\u001B[0mdf\u001B[0m\u001B[0;34m)\u001B[0m\u001B[0;34m.\u001B[0m\u001B[0mcopy\u001B[0m\u001B[0;34m(\u001B[0m\u001B[0;34m)\u001B[0m\u001B[0;34m\u001B[0m\u001B[0;34m\u001B[0m\u001B[0m\n\u001B[1;32m    148\u001B[0m     \u001B[0mprint\u001B[0m\u001B[0;34m(\u001B[0m\u001B[0;34m\"Coordinates Cleaned Up\"\u001B[0m\u001B[0;34m)\u001B[0m\u001B[0;34m\u001B[0m\u001B[0;34m\u001B[0m\u001B[0m\n\u001B[0;32m--> 149\u001B[0;31m     \u001B[0mdf\u001B[0m \u001B[0;34m=\u001B[0m \u001B[0mget_locations\u001B[0m\u001B[0;34m(\u001B[0m\u001B[0mdf\u001B[0m\u001B[0;34m)\u001B[0m\u001B[0;34m.\u001B[0m\u001B[0mcopy\u001B[0m\u001B[0;34m(\u001B[0m\u001B[0;34m)\u001B[0m\u001B[0;34m\u001B[0m\u001B[0;34m\u001B[0m\u001B[0m\n\u001B[0m\u001B[1;32m    150\u001B[0m     \u001B[0mprint\u001B[0m\u001B[0;34m(\u001B[0m\u001B[0;34m\"Locations Cleaned Up\"\u001B[0m\u001B[0;34m)\u001B[0m\u001B[0;34m\u001B[0m\u001B[0;34m\u001B[0m\u001B[0m\n\u001B[1;32m    151\u001B[0m     \u001B[0;32mreturn\u001B[0m \u001B[0mdf\u001B[0m\u001B[0;34m\u001B[0m\u001B[0;34m\u001B[0m\u001B[0m\n",
      "\u001B[0;32m/var/folders/lx/s64h867n6nxf10yyw1qf04qh0000gp/T/ipykernel_36907/829226612.py\u001B[0m in \u001B[0;36mget_locations\u001B[0;34m(df, latitude_column, longitude_column)\u001B[0m\n\u001B[1;32m    104\u001B[0m     \u001B[0mreverse_geocode\u001B[0m \u001B[0;34m=\u001B[0m \u001B[0mRateLimiter\u001B[0m\u001B[0;34m(\u001B[0m\u001B[0mgeolocator\u001B[0m\u001B[0;34m.\u001B[0m\u001B[0mreverse\u001B[0m\u001B[0;34m,\u001B[0m \u001B[0mmin_delay_seconds\u001B[0m\u001B[0;34m=\u001B[0m\u001B[0;36m2\u001B[0m\u001B[0;34m)\u001B[0m\u001B[0;34m\u001B[0m\u001B[0;34m\u001B[0m\u001B[0m\n\u001B[1;32m    105\u001B[0m     \u001B[0;32mfor\u001B[0m \u001B[0mindex\u001B[0m\u001B[0;34m,\u001B[0m \u001B[0mrow\u001B[0m \u001B[0;32min\u001B[0m \u001B[0mnew_df\u001B[0m\u001B[0;34m.\u001B[0m\u001B[0miterrows\u001B[0m\u001B[0;34m(\u001B[0m\u001B[0;34m)\u001B[0m\u001B[0;34m:\u001B[0m\u001B[0;34m\u001B[0m\u001B[0;34m\u001B[0m\u001B[0m\n\u001B[0;32m--> 106\u001B[0;31m         \u001B[0mlookup\u001B[0m \u001B[0;34m=\u001B[0m \u001B[0mreverse_geocode\u001B[0m\u001B[0;34m(\u001B[0m\u001B[0;34m(\u001B[0m\u001B[0mrow\u001B[0m\u001B[0;34m[\u001B[0m\u001B[0mlatitude_column\u001B[0m\u001B[0;34m]\u001B[0m\u001B[0;34m,\u001B[0m\u001B[0mrow\u001B[0m\u001B[0;34m[\u001B[0m\u001B[0mlongitude_column\u001B[0m\u001B[0;34m]\u001B[0m\u001B[0;34m)\u001B[0m\u001B[0;34m,\u001B[0m \u001B[0mlanguage\u001B[0m\u001B[0;34m=\u001B[0m\u001B[0;34m'en'\u001B[0m\u001B[0;34m)\u001B[0m\u001B[0;34m\u001B[0m\u001B[0;34m\u001B[0m\u001B[0m\n\u001B[0m\u001B[1;32m    107\u001B[0m         \u001B[0;32mtry\u001B[0m\u001B[0;34m:\u001B[0m\u001B[0;34m\u001B[0m\u001B[0;34m\u001B[0m\u001B[0m\n\u001B[1;32m    108\u001B[0m             \u001B[0mnew_df\u001B[0m\u001B[0;34m.\u001B[0m\u001B[0mloc\u001B[0m\u001B[0;34m[\u001B[0m\u001B[0mindex\u001B[0m\u001B[0;34m,\u001B[0m\u001B[0;34m'city'\u001B[0m\u001B[0;34m]\u001B[0m \u001B[0;34m=\u001B[0m \u001B[0mlookup\u001B[0m\u001B[0;34m.\u001B[0m\u001B[0mraw\u001B[0m\u001B[0;34m[\u001B[0m\u001B[0;34m'address'\u001B[0m\u001B[0;34m]\u001B[0m\u001B[0;34m[\u001B[0m\u001B[0;34m'city'\u001B[0m\u001B[0;34m]\u001B[0m\u001B[0;34m\u001B[0m\u001B[0;34m\u001B[0m\u001B[0m\n",
      "\u001B[0;32m/opt/homebrew/lib/python3.9/site-packages/geopy/extra/rate_limiter.py\u001B[0m in \u001B[0;36m__call__\u001B[0;34m(self, *args, **kwargs)\u001B[0m\n\u001B[1;32m    272\u001B[0m             \u001B[0mself\u001B[0m\u001B[0;34m.\u001B[0m\u001B[0m_acquire_request_slot\u001B[0m\u001B[0;34m(\u001B[0m\u001B[0;34m)\u001B[0m\u001B[0;34m\u001B[0m\u001B[0;34m\u001B[0m\u001B[0m\n\u001B[1;32m    273\u001B[0m             \u001B[0;32mtry\u001B[0m\u001B[0;34m:\u001B[0m\u001B[0;34m\u001B[0m\u001B[0;34m\u001B[0m\u001B[0m\n\u001B[0;32m--> 274\u001B[0;31m                 \u001B[0mres\u001B[0m \u001B[0;34m=\u001B[0m \u001B[0mself\u001B[0m\u001B[0;34m.\u001B[0m\u001B[0mfunc\u001B[0m\u001B[0;34m(\u001B[0m\u001B[0;34m*\u001B[0m\u001B[0margs\u001B[0m\u001B[0;34m,\u001B[0m \u001B[0;34m**\u001B[0m\u001B[0mkwargs\u001B[0m\u001B[0;34m)\u001B[0m\u001B[0;34m\u001B[0m\u001B[0;34m\u001B[0m\u001B[0m\n\u001B[0m\u001B[1;32m    275\u001B[0m                 \u001B[0;32mif\u001B[0m \u001B[0minspect\u001B[0m\u001B[0;34m.\u001B[0m\u001B[0misawaitable\u001B[0m\u001B[0;34m(\u001B[0m\u001B[0mres\u001B[0m\u001B[0;34m)\u001B[0m\u001B[0;34m:\u001B[0m\u001B[0;34m\u001B[0m\u001B[0;34m\u001B[0m\u001B[0m\n\u001B[1;32m    276\u001B[0m                     raise ValueError(\n",
      "\u001B[0;32m/opt/homebrew/lib/python3.9/site-packages/geopy/geocoders/nominatim.py\u001B[0m in \u001B[0;36mreverse\u001B[0;34m(self, query, exactly_one, timeout, language, addressdetails, zoom)\u001B[0m\n\u001B[1;32m    343\u001B[0m             \u001B[0mlat\u001B[0m\u001B[0;34m,\u001B[0m \u001B[0mlon\u001B[0m \u001B[0;34m=\u001B[0m \u001B[0mself\u001B[0m\u001B[0;34m.\u001B[0m\u001B[0m_coerce_point_to_string\u001B[0m\u001B[0;34m(\u001B[0m\u001B[0mquery\u001B[0m\u001B[0;34m)\u001B[0m\u001B[0;34m.\u001B[0m\u001B[0msplit\u001B[0m\u001B[0;34m(\u001B[0m\u001B[0;34m','\u001B[0m\u001B[0;34m)\u001B[0m\u001B[0;34m\u001B[0m\u001B[0;34m\u001B[0m\u001B[0m\n\u001B[1;32m    344\u001B[0m         \u001B[0;32mexcept\u001B[0m \u001B[0mValueError\u001B[0m\u001B[0;34m:\u001B[0m\u001B[0;34m\u001B[0m\u001B[0;34m\u001B[0m\u001B[0m\n\u001B[0;32m--> 345\u001B[0;31m             \u001B[0;32mraise\u001B[0m \u001B[0mValueError\u001B[0m\u001B[0;34m(\u001B[0m\u001B[0;34m\"Must be a coordinate pair or Point\"\u001B[0m\u001B[0;34m)\u001B[0m\u001B[0;34m\u001B[0m\u001B[0;34m\u001B[0m\u001B[0m\n\u001B[0m\u001B[1;32m    346\u001B[0m         params = {\n\u001B[1;32m    347\u001B[0m             \u001B[0;34m'lat'\u001B[0m\u001B[0;34m:\u001B[0m \u001B[0mlat\u001B[0m\u001B[0;34m,\u001B[0m\u001B[0;34m\u001B[0m\u001B[0;34m\u001B[0m\u001B[0m\n",
      "\u001B[0;31mValueError\u001B[0m: Must be a coordinate pair or Point"
     ]
    }
   ],
   "source": [
    "%%time\n",
    "dat2 = data_prep_complete()"
   ],
   "metadata": {
    "collapsed": false,
    "pycharm": {
     "name": "#%%\n"
    }
   }
  },
  {
   "cell_type": "markdown",
   "id": "452b9e2b-cc0d-4645-b79d-87f97b2a4513",
   "metadata": {},
   "source": [
    "## Working Code\n",
    "### Let's Go"
   ]
  },
  {
   "cell_type": "code",
   "execution_count": 62,
   "id": "9bfa7535-fa5b-4583-87e3-b08e47370a8f",
   "metadata": {
    "tags": []
   },
   "outputs": [
    {
     "name": "stdout",
     "output_type": "stream",
     "text": [
      "(386, 13)\n"
     ]
    },
    {
     "data": {
      "text/plain": "              datetime title          lineup festival_start_date  \\\n0  2013-04-05T20:00:00        [RÜFÜS DU SOL]                       \n1  2013-04-06T21:00:00        [RÜFÜS DU SOL]                       \n2  2013-04-07T21:00:00        [RÜFÜS DU SOL]                       \n3  2013-04-11T21:00:00        [RÜFÜS DU SOL]                       \n4  2013-04-12T21:00:00        [RÜFÜS DU SOL]                       \n\n  festival_end_date              city region    country     latitude  \\\n0                    Fortitude Valley         Australia    -27.45926   \n1                          Gold Coast         Australia        -28.0   \n2                           Byron Bay         Australia   -28.643169   \n3                           Newcastle         Australia  -32.9166667   \n4                              Sydney         Australia   -33.882275   \n\n     longitude location                name        artist  \n0   153.035202                     Alhambra  Rufus du Sol  \n1  153.4333333            Coolangatta Hotel  Rufus du Sol  \n2   153.612564               Great Northern  Rufus du Sol  \n3       151.75              Cambridge Hotel  Rufus du Sol  \n4   151.220001           Oxford Art Factory  Rufus du Sol  ",
      "text/html": "<div>\n<style scoped>\n    .dataframe tbody tr th:only-of-type {\n        vertical-align: middle;\n    }\n\n    .dataframe tbody tr th {\n        vertical-align: top;\n    }\n\n    .dataframe thead th {\n        text-align: right;\n    }\n</style>\n<table border=\"1\" class=\"dataframe\">\n  <thead>\n    <tr style=\"text-align: right;\">\n      <th></th>\n      <th>datetime</th>\n      <th>title</th>\n      <th>lineup</th>\n      <th>festival_start_date</th>\n      <th>festival_end_date</th>\n      <th>city</th>\n      <th>region</th>\n      <th>country</th>\n      <th>latitude</th>\n      <th>longitude</th>\n      <th>location</th>\n      <th>name</th>\n      <th>artist</th>\n    </tr>\n  </thead>\n  <tbody>\n    <tr>\n      <th>0</th>\n      <td>2013-04-05T20:00:00</td>\n      <td></td>\n      <td>[RÜFÜS DU SOL]</td>\n      <td></td>\n      <td></td>\n      <td>Fortitude Valley</td>\n      <td></td>\n      <td>Australia</td>\n      <td>-27.45926</td>\n      <td>153.035202</td>\n      <td></td>\n      <td>Alhambra</td>\n      <td>Rufus du Sol</td>\n    </tr>\n    <tr>\n      <th>1</th>\n      <td>2013-04-06T21:00:00</td>\n      <td></td>\n      <td>[RÜFÜS DU SOL]</td>\n      <td></td>\n      <td></td>\n      <td>Gold Coast</td>\n      <td></td>\n      <td>Australia</td>\n      <td>-28.0</td>\n      <td>153.4333333</td>\n      <td></td>\n      <td>Coolangatta Hotel</td>\n      <td>Rufus du Sol</td>\n    </tr>\n    <tr>\n      <th>2</th>\n      <td>2013-04-07T21:00:00</td>\n      <td></td>\n      <td>[RÜFÜS DU SOL]</td>\n      <td></td>\n      <td></td>\n      <td>Byron Bay</td>\n      <td></td>\n      <td>Australia</td>\n      <td>-28.643169</td>\n      <td>153.612564</td>\n      <td></td>\n      <td>Great Northern</td>\n      <td>Rufus du Sol</td>\n    </tr>\n    <tr>\n      <th>3</th>\n      <td>2013-04-11T21:00:00</td>\n      <td></td>\n      <td>[RÜFÜS DU SOL]</td>\n      <td></td>\n      <td></td>\n      <td>Newcastle</td>\n      <td></td>\n      <td>Australia</td>\n      <td>-32.9166667</td>\n      <td>151.75</td>\n      <td></td>\n      <td>Cambridge Hotel</td>\n      <td>Rufus du Sol</td>\n    </tr>\n    <tr>\n      <th>4</th>\n      <td>2013-04-12T21:00:00</td>\n      <td></td>\n      <td>[RÜFÜS DU SOL]</td>\n      <td></td>\n      <td></td>\n      <td>Sydney</td>\n      <td></td>\n      <td>Australia</td>\n      <td>-33.882275</td>\n      <td>151.220001</td>\n      <td></td>\n      <td>Oxford Art Factory</td>\n      <td>Rufus du Sol</td>\n    </tr>\n  </tbody>\n</table>\n</div>"
     },
     "execution_count": 62,
     "metadata": {},
     "output_type": "execute_result"
    }
   ],
   "source": [
    "# data extract\n",
    "r = requests.get(bands_api_url_past)\n",
    "event_json = r.json()\n",
    "\n",
    "test_df = parse_events(event_json)\n",
    "print(test_df.shape)\n",
    "test_df.head()"
   ]
  },
  {
   "cell_type": "code",
   "execution_count": 63,
   "id": "ca1c09ba-03ed-457d-8f95-b574d2756d55",
   "metadata": {},
   "outputs": [],
   "source": [
    "# data extract\n",
    "r_gg = requests.get(getgenre_api_url)\n",
    "\n",
    "genre_json = r_gg.json()\n",
    "top_gg = genre_json['analysis']['top_genres']"
   ]
  },
  {
   "cell_type": "code",
   "execution_count": 64,
   "outputs": [],
   "source": [
    "# feature extraction\n",
    "test_df['artist'] = artist\n",
    "test_df['artist_topgenres'] = [top_gg for _ in range(len(test_df))]\n",
    "\n",
    "test_df['lineup_size'] = test_df['lineup'].str.len()\n",
    "test_df['festival_flag'] = np.where(test_df['lineup'].str.len() > 5, 'Festival', 'Concert')\n",
    "test_df['festival_flag'] = test_df['festival_flag'].astype(str)\n",
    "\n",
    "test_df['show_date'] = True"
   ],
   "metadata": {
    "collapsed": false,
    "pycharm": {
     "name": "#%%\n"
    }
   }
  },
  {
   "cell_type": "code",
   "execution_count": 65,
   "outputs": [
    {
     "name": "stdout",
     "output_type": "stream",
     "text": [
      "(386, 17)\n",
      "(384, 17)\n"
     ]
    }
   ],
   "source": [
    "# data cleanup\n",
    "print(test_df.shape)\n",
    "test_df = test_df[(test_df['latitude'].notna()) & (test_df['longitude'].notna())]\n",
    "print(test_df.shape)\n",
    "test_df['latitude'] = pd.to_numeric(test_df['latitude'])\n",
    "test_df['longitude'] = pd.to_numeric(test_df['longitude'])\n",
    "\n",
    "test_df['datetime'] = test_df['datetime'].str[:10]"
   ],
   "metadata": {
    "collapsed": false,
    "pycharm": {
     "name": "#%%\n"
    }
   }
  },
  {
   "cell_type": "code",
   "execution_count": 66,
   "outputs": [],
   "source": [
    "# data cleanup\n",
    "#test_df = get_locations(test_df)  ## disabling for now due to run time"
   ],
   "metadata": {
    "collapsed": false,
    "pycharm": {
     "name": "#%%\n"
    }
   }
  },
  {
   "cell_type": "code",
   "execution_count": 67,
   "outputs": [
    {
     "data": {
      "text/plain": "     datetime title          lineup festival_start_date festival_end_date  \\\n0  2013-04-05        [RÜFÜS DU SOL]                                         \n1  2013-04-06        [RÜFÜS DU SOL]                                         \n2  2013-04-07        [RÜFÜS DU SOL]                                         \n3  2013-04-11        [RÜFÜS DU SOL]                                         \n4  2013-04-12        [RÜFÜS DU SOL]                                         \n\n               city region    country   latitude   longitude location  \\\n0  Fortitude Valley         Australia -27.459260  153.035202            \n1        Gold Coast         Australia -28.000000  153.433333            \n2         Byron Bay         Australia -28.643169  153.612564            \n3         Newcastle         Australia -32.916667  151.750000            \n4            Sydney         Australia -33.882275  151.220001            \n\n                 name        artist  \\\n0            Alhambra  Rufus du Sol   \n1   Coolangatta Hotel  Rufus du Sol   \n2      Great Northern  Rufus du Sol   \n3     Cambridge Hotel  Rufus du Sol   \n4  Oxford Art Factory  Rufus du Sol   \n\n                                    artist_topgenres  lineup_size  \\\n0  [house, alternative dance, electronica, indiet...            1   \n1  [house, alternative dance, electronica, indiet...            1   \n2  [house, alternative dance, electronica, indiet...            1   \n3  [house, alternative dance, electronica, indiet...            1   \n4  [house, alternative dance, electronica, indiet...            1   \n\n  festival_flag  show_date  \n0       Concert       True  \n1       Concert       True  \n2       Concert       True  \n3       Concert       True  \n4       Concert       True  ",
      "text/html": "<div>\n<style scoped>\n    .dataframe tbody tr th:only-of-type {\n        vertical-align: middle;\n    }\n\n    .dataframe tbody tr th {\n        vertical-align: top;\n    }\n\n    .dataframe thead th {\n        text-align: right;\n    }\n</style>\n<table border=\"1\" class=\"dataframe\">\n  <thead>\n    <tr style=\"text-align: right;\">\n      <th></th>\n      <th>datetime</th>\n      <th>title</th>\n      <th>lineup</th>\n      <th>festival_start_date</th>\n      <th>festival_end_date</th>\n      <th>city</th>\n      <th>region</th>\n      <th>country</th>\n      <th>latitude</th>\n      <th>longitude</th>\n      <th>location</th>\n      <th>name</th>\n      <th>artist</th>\n      <th>artist_topgenres</th>\n      <th>lineup_size</th>\n      <th>festival_flag</th>\n      <th>show_date</th>\n    </tr>\n  </thead>\n  <tbody>\n    <tr>\n      <th>0</th>\n      <td>2013-04-05</td>\n      <td></td>\n      <td>[RÜFÜS DU SOL]</td>\n      <td></td>\n      <td></td>\n      <td>Fortitude Valley</td>\n      <td></td>\n      <td>Australia</td>\n      <td>-27.459260</td>\n      <td>153.035202</td>\n      <td></td>\n      <td>Alhambra</td>\n      <td>Rufus du Sol</td>\n      <td>[house, alternative dance, electronica, indiet...</td>\n      <td>1</td>\n      <td>Concert</td>\n      <td>True</td>\n    </tr>\n    <tr>\n      <th>1</th>\n      <td>2013-04-06</td>\n      <td></td>\n      <td>[RÜFÜS DU SOL]</td>\n      <td></td>\n      <td></td>\n      <td>Gold Coast</td>\n      <td></td>\n      <td>Australia</td>\n      <td>-28.000000</td>\n      <td>153.433333</td>\n      <td></td>\n      <td>Coolangatta Hotel</td>\n      <td>Rufus du Sol</td>\n      <td>[house, alternative dance, electronica, indiet...</td>\n      <td>1</td>\n      <td>Concert</td>\n      <td>True</td>\n    </tr>\n    <tr>\n      <th>2</th>\n      <td>2013-04-07</td>\n      <td></td>\n      <td>[RÜFÜS DU SOL]</td>\n      <td></td>\n      <td></td>\n      <td>Byron Bay</td>\n      <td></td>\n      <td>Australia</td>\n      <td>-28.643169</td>\n      <td>153.612564</td>\n      <td></td>\n      <td>Great Northern</td>\n      <td>Rufus du Sol</td>\n      <td>[house, alternative dance, electronica, indiet...</td>\n      <td>1</td>\n      <td>Concert</td>\n      <td>True</td>\n    </tr>\n    <tr>\n      <th>3</th>\n      <td>2013-04-11</td>\n      <td></td>\n      <td>[RÜFÜS DU SOL]</td>\n      <td></td>\n      <td></td>\n      <td>Newcastle</td>\n      <td></td>\n      <td>Australia</td>\n      <td>-32.916667</td>\n      <td>151.750000</td>\n      <td></td>\n      <td>Cambridge Hotel</td>\n      <td>Rufus du Sol</td>\n      <td>[house, alternative dance, electronica, indiet...</td>\n      <td>1</td>\n      <td>Concert</td>\n      <td>True</td>\n    </tr>\n    <tr>\n      <th>4</th>\n      <td>2013-04-12</td>\n      <td></td>\n      <td>[RÜFÜS DU SOL]</td>\n      <td></td>\n      <td></td>\n      <td>Sydney</td>\n      <td></td>\n      <td>Australia</td>\n      <td>-33.882275</td>\n      <td>151.220001</td>\n      <td></td>\n      <td>Oxford Art Factory</td>\n      <td>Rufus du Sol</td>\n      <td>[house, alternative dance, electronica, indiet...</td>\n      <td>1</td>\n      <td>Concert</td>\n      <td>True</td>\n    </tr>\n  </tbody>\n</table>\n</div>"
     },
     "execution_count": 67,
     "metadata": {},
     "output_type": "execute_result"
    }
   ],
   "source": [
    "test_df.head()"
   ],
   "metadata": {
    "collapsed": false,
    "pycharm": {
     "name": "#%%\n"
    }
   }
  },
  {
   "cell_type": "code",
   "execution_count": 12,
   "outputs": [],
   "source": [
    "from bokeh.plotting import figure, output_file, show\n",
    "from bokeh.tile_providers import get_provider, OSM #CARTODBPOSITRON_RETINA, WIKIMEDIA, ESRI_IMAGERY, STAMEN_TONER,\n",
    "from bokeh.models import ColumnDataSource, CDSView, BooleanFilter, CustomJS\n",
    "from bokeh.layouts import layout\n",
    "from bokeh.models import DateRangeSlider\n",
    "from pyproj import Transformer\n",
    "#import xyzservices.providers as xyz\n",
    "\n",
    "# data transformation\n",
    "in_crs = 4326   # coordinates provided in EPSG:4326 format\n",
    "out_crs = 3857   # coordinates output in EPSG 3857 (Web Mercator) format\n",
    "\n",
    "transformer = Transformer.from_crs(in_crs, out_crs, always_xy=True)\n",
    "\n",
    "lons, lats = [], []\n",
    "for lon, lat in list(zip(test_df['longitude'], test_df['latitude'])):\n",
    "    x, y = transformer.transform(lon,lat)\n",
    "    lons.append(x)\n",
    "    lats.append(y)\n",
    "\n",
    "test_df['MercatorX'] = lons\n",
    "test_df['MercatorY'] = lats\n",
    "\n",
    "\n",
    "\n",
    "# visualization\n",
    "output_file(\"tile.html\")\n",
    "\n",
    "tile_provider = get_provider(OSM)\n",
    "tools = ['pan', 'zoom_in', 'zoom_out', 'wheel_zoom', 'box_zoom', 'lasso_select', 'tap', 'hover', 'reset', 'save']\n",
    "\n",
    "tooltips = [\n",
    "    (\"Date\", '@datetime'),\n",
    "    ('Location: ', '@city, @region'),\n",
    "    ('Country: ', '@country'),\n",
    "    ('Event Type: ', '@festival_flag'),\n",
    "    ('Lineup: ', '@lineup'),\n",
    "]\n",
    "\n",
    "source = ColumnDataSource(test_df)\n",
    "source2 = ColumnDataSource(test_df)\n",
    "\n",
    "show_dat = source.data['show_date']\n",
    "\n",
    "view = CDSView(source=source, filters=[BooleanFilter(show_dat)])\n",
    "\n",
    "date_start = test_df['datetime'].min()\n",
    "date_end = test_df['datetime'].max()\n",
    "\n",
    "# range bounds supplied in web mercator coordinates\n",
    "p = figure(x_range=(-18000000, 20000000), y_range=(-7500000, 11500000),\n",
    "           #x_axis_type='mercator', y_axis_type='mercator',\n",
    "           height=700, width=1500,\n",
    "           tools=tools, tooltips=tooltips, active_scroll='wheel_zoom')\n",
    "p.add_tile(tile_provider)\n",
    "p.circle(x='MercatorX', y='MercatorY', size=6, fill_color='dodgerblue', line_color='dodgerblue', fill_alpha=.3, source=source, view=view)\n",
    "\n",
    "# callback = CustomJS(args=dict(source=source, ref_source=source2), code=\"\"\"\n",
    "#     // print out array of date from, date to\n",
    "#     console.log(cb_obj.value);\n",
    "#\n",
    "#     // dates returned from slider are not at round intervals and include time;\n",
    "#     const date_from = Date.parse(new Date(cb_obj.value[0]).toDateString());\n",
    "#     const date_to = Date.parse(new Date(cb_obj.value[1]).toDateString());\n",
    "#     console.log(date_from, date_to)\n",
    "#\n",
    "#     // Creating the Data Sources\n",
    "#     const data = source.data;\n",
    "#     const ref = ref_source.data;\n",
    "#\n",
    "#     // Creating new Array and appending correctly parsed dates\n",
    "#     let new_ref = []\n",
    "#     ref[\"DateTime\"].forEach(elem => {\n",
    "#         elem = Date.parse(new Date(elem).toDateString());\n",
    "#         new_ref.push(elem);\n",
    "#         console.log(elem);\n",
    "#     })\n",
    "#\n",
    "#     // Creating Indices with new Array\n",
    "#     const from_pos = new_ref.indexOf(date_from);\n",
    "#     const to_pos = new_ref.indexOf(date_to);\n",
    "#\n",
    "#\n",
    "#     // re-create the source data from \"reference\"\n",
    "#     data[\"datetime\"] = ref[\"datetime\"].slice(from_pos, to_pos);\n",
    "#     source.change.emit();\n",
    "#     \"\"\")\n",
    "#\n",
    "date_slider = DateRangeSlider(\n",
    "    title=\" Adjust Date range\",\n",
    "    start=min(test_df['datetime']),\n",
    "    end=max(test_df['datetime']),\n",
    "    step=100,\n",
    "    value=(\n",
    "        min(test_df['datetime']), max(test_df['datetime'])\n",
    "    )\n",
    ")\n",
    "\n",
    "#date_slider.js_link(\"value\", p.x_range, \"start\", attr_selector=0)\n",
    "#date_slider.js_link(\"value\", p.x_range, \"end\", attr_selector=1)\n",
    "\n",
    "#date_slider.js_on_change('value', callback)\n",
    "\n",
    "# def update_plot(attr, old, new):\n",
    "#      datesel = datetime.fromtimestamp(new / 1000).strftime('%Y-%m-%d')\n",
    "#      new_data = test_df[test_df['date'] == datesel]\n",
    "#      source.data.update(ColumnDataSource(new_data).data)\n",
    "# date_slider.js_on_change('value', update_plot)\n",
    "\n",
    "#https://data-dive.com/cologne-bike-rentals-interactive-map-bokeh-dynamic-choropleth\n",
    "#https://stackoverflow.com/questions/55742220/converting-python-callback-function-to-javascript\n",
    "\n",
    "def update(source=source, slider=date_slider, window=None):\n",
    "    data=source.data\n",
    "    v_start = cb_obj.get('value')[0]\n",
    "    v_end = cb_obj.get('value')[1]\n",
    "    mask = np.logical_and(data['datetime'] > v_start, data['datetime'] < v_end)\n",
    "    source.data['show_date'] = mask\n",
    "    source.trigger('change')\n",
    "\n",
    "#date_slider.js_on_change('value', update)\n",
    "\n",
    "layout = layout([date_slider], [p])\n",
    "show(layout)\n",
    "# show(p)"
   ],
   "metadata": {
    "collapsed": false,
    "pycharm": {
     "name": "#%%\n"
    }
   }
  },
  {
   "cell_type": "code",
   "execution_count": 12,
   "outputs": [],
   "source": [],
   "metadata": {
    "collapsed": false,
    "pycharm": {
     "name": "#%%\n"
    }
   }
  },
  {
   "cell_type": "code",
   "execution_count": 12,
   "outputs": [],
   "source": [],
   "metadata": {
    "collapsed": false,
    "pycharm": {
     "name": "#%%\n"
    }
   }
  },
  {
   "cell_type": "code",
   "execution_count": 12,
   "outputs": [],
   "source": [],
   "metadata": {
    "collapsed": false,
    "pycharm": {
     "name": "#%%\n"
    }
   }
  },
  {
   "cell_type": "code",
   "execution_count": 12,
   "outputs": [],
   "source": [],
   "metadata": {
    "collapsed": false,
    "pycharm": {
     "name": "#%%\n"
    }
   }
  },
  {
   "cell_type": "code",
   "execution_count": 12,
   "outputs": [],
   "source": [],
   "metadata": {
    "collapsed": false,
    "pycharm": {
     "name": "#%%\n"
    }
   }
  },
  {
   "cell_type": "code",
   "execution_count": 12,
   "outputs": [],
   "source": [],
   "metadata": {
    "collapsed": false,
    "pycharm": {
     "name": "#%%\n"
    }
   }
  },
  {
   "cell_type": "code",
   "execution_count": 12,
   "outputs": [],
   "source": [],
   "metadata": {
    "collapsed": false,
    "pycharm": {
     "name": "#%%\n"
    }
   }
  },
  {
   "cell_type": "code",
   "execution_count": 33,
   "outputs": [
    {
     "data": {
      "text/html": "\n    <div class=\"bk-root\">\n        <a href=\"https://bokeh.org\" target=\"_blank\" class=\"bk-logo bk-logo-small bk-logo-notebook\"></a>\n        <span id=\"3298\">Loading BokehJS ...</span>\n    </div>"
     },
     "metadata": {},
     "output_type": "display_data"
    },
    {
     "data": {
      "application/javascript": "\n(function(root) {\n  function now() {\n    return new Date();\n  }\n\n  const force = true;\n\n  if (typeof root._bokeh_onload_callbacks === \"undefined\" || force === true) {\n    root._bokeh_onload_callbacks = [];\n    root._bokeh_is_loading = undefined;\n  }\n\n  const JS_MIME_TYPE = 'application/javascript';\n  const HTML_MIME_TYPE = 'text/html';\n  const EXEC_MIME_TYPE = 'application/vnd.bokehjs_exec.v0+json';\n  const CLASS_NAME = 'output_bokeh rendered_html';\n\n  /**\n   * Render data to the DOM node\n   */\n  function render(props, node) {\n    const script = document.createElement(\"script\");\n    node.appendChild(script);\n  }\n\n  /**\n   * Handle when an output is cleared or removed\n   */\n  function handleClearOutput(event, handle) {\n    const cell = handle.cell;\n\n    const id = cell.output_area._bokeh_element_id;\n    const server_id = cell.output_area._bokeh_server_id;\n    // Clean up Bokeh references\n    if (id != null && id in Bokeh.index) {\n      Bokeh.index[id].model.document.clear();\n      delete Bokeh.index[id];\n    }\n\n    if (server_id !== undefined) {\n      // Clean up Bokeh references\n      const cmd_clean = \"from bokeh.io.state import curstate; print(curstate().uuid_to_server['\" + server_id + \"'].get_sessions()[0].document.roots[0]._id)\";\n      cell.notebook.kernel.execute(cmd_clean, {\n        iopub: {\n          output: function(msg) {\n            const id = msg.content.text.trim();\n            if (id in Bokeh.index) {\n              Bokeh.index[id].model.document.clear();\n              delete Bokeh.index[id];\n            }\n          }\n        }\n      });\n      // Destroy server and session\n      const cmd_destroy = \"import bokeh.io.notebook as ion; ion.destroy_server('\" + server_id + \"')\";\n      cell.notebook.kernel.execute(cmd_destroy);\n    }\n  }\n\n  /**\n   * Handle when a new output is added\n   */\n  function handleAddOutput(event, handle) {\n    const output_area = handle.output_area;\n    const output = handle.output;\n\n    // limit handleAddOutput to display_data with EXEC_MIME_TYPE content only\n    if ((output.output_type != \"display_data\") || (!Object.prototype.hasOwnProperty.call(output.data, EXEC_MIME_TYPE))) {\n      return\n    }\n\n    const toinsert = output_area.element.find(\".\" + CLASS_NAME.split(' ')[0]);\n\n    if (output.metadata[EXEC_MIME_TYPE][\"id\"] !== undefined) {\n      toinsert[toinsert.length - 1].firstChild.textContent = output.data[JS_MIME_TYPE];\n      // store reference to embed id on output_area\n      output_area._bokeh_element_id = output.metadata[EXEC_MIME_TYPE][\"id\"];\n    }\n    if (output.metadata[EXEC_MIME_TYPE][\"server_id\"] !== undefined) {\n      const bk_div = document.createElement(\"div\");\n      bk_div.innerHTML = output.data[HTML_MIME_TYPE];\n      const script_attrs = bk_div.children[0].attributes;\n      for (let i = 0; i < script_attrs.length; i++) {\n        toinsert[toinsert.length - 1].firstChild.setAttribute(script_attrs[i].name, script_attrs[i].value);\n        toinsert[toinsert.length - 1].firstChild.textContent = bk_div.children[0].textContent\n      }\n      // store reference to server id on output_area\n      output_area._bokeh_server_id = output.metadata[EXEC_MIME_TYPE][\"server_id\"];\n    }\n  }\n\n  function register_renderer(events, OutputArea) {\n\n    function append_mime(data, metadata, element) {\n      // create a DOM node to render to\n      const toinsert = this.create_output_subarea(\n        metadata,\n        CLASS_NAME,\n        EXEC_MIME_TYPE\n      );\n      this.keyboard_manager.register_events(toinsert);\n      // Render to node\n      const props = {data: data, metadata: metadata[EXEC_MIME_TYPE]};\n      render(props, toinsert[toinsert.length - 1]);\n      element.append(toinsert);\n      return toinsert\n    }\n\n    /* Handle when an output is cleared or removed */\n    events.on('clear_output.CodeCell', handleClearOutput);\n    events.on('delete.Cell', handleClearOutput);\n\n    /* Handle when a new output is added */\n    events.on('output_added.OutputArea', handleAddOutput);\n\n    /**\n     * Register the mime type and append_mime function with output_area\n     */\n    OutputArea.prototype.register_mime_type(EXEC_MIME_TYPE, append_mime, {\n      /* Is output safe? */\n      safe: true,\n      /* Index of renderer in `output_area.display_order` */\n      index: 0\n    });\n  }\n\n  // register the mime type if in Jupyter Notebook environment and previously unregistered\n  if (root.Jupyter !== undefined) {\n    const events = require('base/js/events');\n    const OutputArea = require('notebook/js/outputarea').OutputArea;\n\n    if (OutputArea.prototype.mime_types().indexOf(EXEC_MIME_TYPE) == -1) {\n      register_renderer(events, OutputArea);\n    }\n  }\n\n  \n  if (typeof (root._bokeh_timeout) === \"undefined\" || force === true) {\n    root._bokeh_timeout = Date.now() + 5000;\n    root._bokeh_failed_load = false;\n  }\n\n  const NB_LOAD_WARNING = {'data': {'text/html':\n     \"<div style='background-color: #fdd'>\\n\"+\n     \"<p>\\n\"+\n     \"BokehJS does not appear to have successfully loaded. If loading BokehJS from CDN, this \\n\"+\n     \"may be due to a slow or bad network connection. Possible fixes:\\n\"+\n     \"</p>\\n\"+\n     \"<ul>\\n\"+\n     \"<li>re-rerun `output_notebook()` to attempt to load from CDN again, or</li>\\n\"+\n     \"<li>use INLINE resources instead, as so:</li>\\n\"+\n     \"</ul>\\n\"+\n     \"<code>\\n\"+\n     \"from bokeh.resources import INLINE\\n\"+\n     \"output_notebook(resources=INLINE)\\n\"+\n     \"</code>\\n\"+\n     \"</div>\"}};\n\n  function display_loaded() {\n    const el = document.getElementById(\"3298\");\n    if (el != null) {\n      el.textContent = \"BokehJS is loading...\";\n    }\n    if (root.Bokeh !== undefined) {\n      if (el != null) {\n        el.textContent = \"BokehJS \" + root.Bokeh.version + \" successfully loaded.\";\n      }\n    } else if (Date.now() < root._bokeh_timeout) {\n      setTimeout(display_loaded, 100)\n    }\n  }\n\n\n  function run_callbacks() {\n    try {\n      root._bokeh_onload_callbacks.forEach(function(callback) {\n        if (callback != null)\n          callback();\n      });\n    } finally {\n      delete root._bokeh_onload_callbacks\n    }\n    console.debug(\"Bokeh: all callbacks have finished\");\n  }\n\n  function load_libs(css_urls, js_urls, callback) {\n    if (css_urls == null) css_urls = [];\n    if (js_urls == null) js_urls = [];\n\n    root._bokeh_onload_callbacks.push(callback);\n    if (root._bokeh_is_loading > 0) {\n      console.debug(\"Bokeh: BokehJS is being loaded, scheduling callback at\", now());\n      return null;\n    }\n    if (js_urls == null || js_urls.length === 0) {\n      run_callbacks();\n      return null;\n    }\n    console.debug(\"Bokeh: BokehJS not loaded, scheduling load and callback at\", now());\n    root._bokeh_is_loading = css_urls.length + js_urls.length;\n\n    function on_load() {\n      root._bokeh_is_loading--;\n      if (root._bokeh_is_loading === 0) {\n        console.debug(\"Bokeh: all BokehJS libraries/stylesheets loaded\");\n        run_callbacks()\n      }\n    }\n\n    function on_error(url) {\n      console.error(\"failed to load \" + url);\n    }\n\n    for (let i = 0; i < css_urls.length; i++) {\n      const url = css_urls[i];\n      const element = document.createElement(\"link\");\n      element.onload = on_load;\n      element.onerror = on_error.bind(null, url);\n      element.rel = \"stylesheet\";\n      element.type = \"text/css\";\n      element.href = url;\n      console.debug(\"Bokeh: injecting link tag for BokehJS stylesheet: \", url);\n      document.body.appendChild(element);\n    }\n\n    for (let i = 0; i < js_urls.length; i++) {\n      const url = js_urls[i];\n      const element = document.createElement('script');\n      element.onload = on_load;\n      element.onerror = on_error.bind(null, url);\n      element.async = false;\n      element.src = url;\n      console.debug(\"Bokeh: injecting script tag for BokehJS library: \", url);\n      document.head.appendChild(element);\n    }\n  };\n\n  function inject_raw_css(css) {\n    const element = document.createElement(\"style\");\n    element.appendChild(document.createTextNode(css));\n    document.body.appendChild(element);\n  }\n\n  \n  const js_urls = [\"https://cdn.bokeh.org/bokeh/release/bokeh-2.4.2.min.js\", \"https://cdn.bokeh.org/bokeh/release/bokeh-gl-2.4.2.min.js\", \"https://cdn.bokeh.org/bokeh/release/bokeh-widgets-2.4.2.min.js\", \"https://cdn.bokeh.org/bokeh/release/bokeh-tables-2.4.2.min.js\", \"https://cdn.bokeh.org/bokeh/release/bokeh-mathjax-2.4.2.min.js\"];\n  const css_urls = [];\n  \n\n  const inline_js = [\n    function(Bokeh) {\n      Bokeh.set_log_level(\"info\");\n    },\n    function(Bokeh) {\n    \n    \n    }\n  ];\n\n  function run_inline_js() {\n    \n    if (root.Bokeh !== undefined || force === true) {\n      \n    for (let i = 0; i < inline_js.length; i++) {\n      inline_js[i].call(root, root.Bokeh);\n    }\n    if (force === true) {\n        display_loaded();\n      }} else if (Date.now() < root._bokeh_timeout) {\n      setTimeout(run_inline_js, 100);\n    } else if (!root._bokeh_failed_load) {\n      console.log(\"Bokeh: BokehJS failed to load within specified timeout.\");\n      root._bokeh_failed_load = true;\n    } else if (force !== true) {\n      const cell = $(document.getElementById(\"3298\")).parents('.cell').data().cell;\n      cell.output_area.append_execute_result(NB_LOAD_WARNING)\n    }\n\n  }\n\n  if (root._bokeh_is_loading === 0) {\n    console.debug(\"Bokeh: BokehJS loaded, going straight to plotting\");\n    run_inline_js();\n  } else {\n    load_libs(css_urls, js_urls, function() {\n      console.debug(\"Bokeh: BokehJS plotting callback run at\", now());\n      run_inline_js();\n    });\n  }\n}(window));",
      "application/vnd.bokehjs_load.v0+json": "\n(function(root) {\n  function now() {\n    return new Date();\n  }\n\n  const force = true;\n\n  if (typeof root._bokeh_onload_callbacks === \"undefined\" || force === true) {\n    root._bokeh_onload_callbacks = [];\n    root._bokeh_is_loading = undefined;\n  }\n\n  \n\n  \n  if (typeof (root._bokeh_timeout) === \"undefined\" || force === true) {\n    root._bokeh_timeout = Date.now() + 5000;\n    root._bokeh_failed_load = false;\n  }\n\n  const NB_LOAD_WARNING = {'data': {'text/html':\n     \"<div style='background-color: #fdd'>\\n\"+\n     \"<p>\\n\"+\n     \"BokehJS does not appear to have successfully loaded. If loading BokehJS from CDN, this \\n\"+\n     \"may be due to a slow or bad network connection. Possible fixes:\\n\"+\n     \"</p>\\n\"+\n     \"<ul>\\n\"+\n     \"<li>re-rerun `output_notebook()` to attempt to load from CDN again, or</li>\\n\"+\n     \"<li>use INLINE resources instead, as so:</li>\\n\"+\n     \"</ul>\\n\"+\n     \"<code>\\n\"+\n     \"from bokeh.resources import INLINE\\n\"+\n     \"output_notebook(resources=INLINE)\\n\"+\n     \"</code>\\n\"+\n     \"</div>\"}};\n\n  function display_loaded() {\n    const el = document.getElementById(\"3298\");\n    if (el != null) {\n      el.textContent = \"BokehJS is loading...\";\n    }\n    if (root.Bokeh !== undefined) {\n      if (el != null) {\n        el.textContent = \"BokehJS \" + root.Bokeh.version + \" successfully loaded.\";\n      }\n    } else if (Date.now() < root._bokeh_timeout) {\n      setTimeout(display_loaded, 100)\n    }\n  }\n\n\n  function run_callbacks() {\n    try {\n      root._bokeh_onload_callbacks.forEach(function(callback) {\n        if (callback != null)\n          callback();\n      });\n    } finally {\n      delete root._bokeh_onload_callbacks\n    }\n    console.debug(\"Bokeh: all callbacks have finished\");\n  }\n\n  function load_libs(css_urls, js_urls, callback) {\n    if (css_urls == null) css_urls = [];\n    if (js_urls == null) js_urls = [];\n\n    root._bokeh_onload_callbacks.push(callback);\n    if (root._bokeh_is_loading > 0) {\n      console.debug(\"Bokeh: BokehJS is being loaded, scheduling callback at\", now());\n      return null;\n    }\n    if (js_urls == null || js_urls.length === 0) {\n      run_callbacks();\n      return null;\n    }\n    console.debug(\"Bokeh: BokehJS not loaded, scheduling load and callback at\", now());\n    root._bokeh_is_loading = css_urls.length + js_urls.length;\n\n    function on_load() {\n      root._bokeh_is_loading--;\n      if (root._bokeh_is_loading === 0) {\n        console.debug(\"Bokeh: all BokehJS libraries/stylesheets loaded\");\n        run_callbacks()\n      }\n    }\n\n    function on_error(url) {\n      console.error(\"failed to load \" + url);\n    }\n\n    for (let i = 0; i < css_urls.length; i++) {\n      const url = css_urls[i];\n      const element = document.createElement(\"link\");\n      element.onload = on_load;\n      element.onerror = on_error.bind(null, url);\n      element.rel = \"stylesheet\";\n      element.type = \"text/css\";\n      element.href = url;\n      console.debug(\"Bokeh: injecting link tag for BokehJS stylesheet: \", url);\n      document.body.appendChild(element);\n    }\n\n    for (let i = 0; i < js_urls.length; i++) {\n      const url = js_urls[i];\n      const element = document.createElement('script');\n      element.onload = on_load;\n      element.onerror = on_error.bind(null, url);\n      element.async = false;\n      element.src = url;\n      console.debug(\"Bokeh: injecting script tag for BokehJS library: \", url);\n      document.head.appendChild(element);\n    }\n  };\n\n  function inject_raw_css(css) {\n    const element = document.createElement(\"style\");\n    element.appendChild(document.createTextNode(css));\n    document.body.appendChild(element);\n  }\n\n  \n  const js_urls = [\"https://cdn.bokeh.org/bokeh/release/bokeh-2.4.2.min.js\", \"https://cdn.bokeh.org/bokeh/release/bokeh-gl-2.4.2.min.js\", \"https://cdn.bokeh.org/bokeh/release/bokeh-widgets-2.4.2.min.js\", \"https://cdn.bokeh.org/bokeh/release/bokeh-tables-2.4.2.min.js\", \"https://cdn.bokeh.org/bokeh/release/bokeh-mathjax-2.4.2.min.js\"];\n  const css_urls = [];\n  \n\n  const inline_js = [\n    function(Bokeh) {\n      Bokeh.set_log_level(\"info\");\n    },\n    function(Bokeh) {\n    \n    \n    }\n  ];\n\n  function run_inline_js() {\n    \n    if (root.Bokeh !== undefined || force === true) {\n      \n    for (let i = 0; i < inline_js.length; i++) {\n      inline_js[i].call(root, root.Bokeh);\n    }\n    if (force === true) {\n        display_loaded();\n      }} else if (Date.now() < root._bokeh_timeout) {\n      setTimeout(run_inline_js, 100);\n    } else if (!root._bokeh_failed_load) {\n      console.log(\"Bokeh: BokehJS failed to load within specified timeout.\");\n      root._bokeh_failed_load = true;\n    } else if (force !== true) {\n      const cell = $(document.getElementById(\"3298\")).parents('.cell').data().cell;\n      cell.output_area.append_execute_result(NB_LOAD_WARNING)\n    }\n\n  }\n\n  if (root._bokeh_is_loading === 0) {\n    console.debug(\"Bokeh: BokehJS loaded, going straight to plotting\");\n    run_inline_js();\n  } else {\n    load_libs(css_urls, js_urls, function() {\n      console.debug(\"Bokeh: BokehJS plotting callback run at\", now());\n      run_inline_js();\n    });\n  }\n}(window));"
     },
     "metadata": {},
     "output_type": "display_data"
    },
    {
     "name": "stderr",
     "output_type": "stream",
     "text": [
      "WARNING:bokeh.embed.util:\n",
      "You are generating standalone HTML/JS output, but trying to use real Python\n",
      "callbacks (i.e. with on_change or on_event). This combination cannot work.\n",
      "\n",
      "Only JavaScript callbacks may be used with standalone output. For more\n",
      "information on JavaScript callbacks with Bokeh, see:\n",
      "\n",
      "    https://docs.bokeh.org/en/latest/docs/user_guide/interaction/callbacks.html\n",
      "\n",
      "Alternatively, to use real Python callbacks, a Bokeh server application may\n",
      "be used. For more information on building and running Bokeh applications, see:\n",
      "\n",
      "    https://docs.bokeh.org/en/latest/docs/user_guide/server.html\n",
      "\n"
     ]
    },
    {
     "data": {
      "text/html": "\n\n\n\n\n\n  <div class=\"bk-root\" id=\"98b6a455-66c6-442c-ace5-d77b003ed513\" data-root-id=\"3362\"></div>\n"
     },
     "metadata": {},
     "output_type": "display_data"
    },
    {
     "data": {
      "application/javascript": "(function(root) {\n  function embed_document(root) {\n    \n  const docs_json = {\"d19f5f11-9883-43a9-ad65-f36029a203c4\":{\"defs\":[],\"roots\":{\"references\":[{\"attributes\":{\"children\":[{\"id\":\"3360\"},{\"id\":\"3361\"}]},\"id\":\"3362\",\"type\":\"Column\"},{\"attributes\":{\"below\":[{\"id\":\"3313\"}],\"center\":[{\"id\":\"3320\"},{\"id\":\"3328\"}],\"height\":700,\"left\":[{\"id\":\"3321\"}],\"renderers\":[{\"id\":\"3352\"},{\"id\":\"3358\"}],\"title\":{\"id\":\"3424\"},\"toolbar\":{\"id\":\"3341\"},\"width\":1500,\"x_range\":{\"id\":\"3305\"},\"x_scale\":{\"id\":\"3309\"},\"y_range\":{\"id\":\"3307\"},\"y_scale\":{\"id\":\"3311\"}},\"id\":\"3304\",\"subtype\":\"Figure\",\"type\":\"Plot\"},{\"attributes\":{},\"id\":\"3338\",\"type\":\"SaveTool\"},{\"attributes\":{\"axis\":{\"id\":\"3321\"},\"coordinates\":null,\"dimension\":1,\"group\":null,\"ticker\":null},\"id\":\"3328\",\"type\":\"Grid\"},{\"attributes\":{\"end\":1646784000000.0,\"start\":1365897600000.0,\"title\":\" Adjust Date range\",\"value\":[1365897600000.0,1646784000000.0]},\"id\":\"3359\",\"type\":\"DateRangeSlider\"},{\"attributes\":{\"overlay\":{\"id\":\"3340\"}},\"id\":\"3334\",\"type\":\"LassoSelectTool\"},{\"attributes\":{\"coordinates\":null,\"fill_alpha\":0.5,\"fill_color\":\"lightgrey\",\"group\":null,\"level\":\"overlay\",\"line_alpha\":1.0,\"line_color\":\"black\",\"line_dash\":[4,4],\"line_width\":2,\"syncable\":false,\"xs_units\":\"screen\",\"ys_units\":\"screen\"},\"id\":\"3340\",\"type\":\"PolyAnnotation\"},{\"attributes\":{\"active_scroll\":{\"id\":\"3332\"},\"tools\":[{\"id\":\"3329\"},{\"id\":\"3330\"},{\"id\":\"3331\"},{\"id\":\"3332\"},{\"id\":\"3333\"},{\"id\":\"3334\"},{\"id\":\"3335\"},{\"id\":\"3336\"},{\"id\":\"3337\"},{\"id\":\"3338\"}]},\"id\":\"3341\",\"type\":\"Toolbar\"},{\"attributes\":{\"attribution\":\"&copy; <a href=\\\"https://www.openstreetmap.org/copyright\\\">OpenStreetMap</a> contributors\",\"url\":\"https://c.tile.openstreetmap.org/{Z}/{X}/{Y}.png\"},\"id\":\"3299\",\"type\":\"WMTSTileSource\"},{\"attributes\":{},\"id\":\"3331\",\"type\":\"ZoomOutTool\"},{\"attributes\":{\"coordinates\":null,\"group\":null},\"id\":\"3424\",\"type\":\"Title\"},{\"attributes\":{\"booleans\":[true,true,true,true,true,true,true,true,true,true,true,true,true,true,true,true,true,true,true,true,true,true,true,true,true,true,true,true,true,true,true,true,true,true,true,true,true,true,true,true,true,true,true,true,true,true,true,true,true,true,true,true,true,true,true,true,true,true,true,true,true,true,true,true,true,true,true,true,true,true,true,true,true,true,true,true,true,true,true,true,true,true,true,true,true,true,true,true,true,true,true,true,true,true,true,true,true,true,true,true,true,true,true,true,true,true,true,true,true,true,true,true,true,true,true,true,true,true,true,true,true,true,true,true,true,true,true,true,true,true,true,true,true,true,true,true,true,true,true,true,true,true,true,true,true,true,true,true,true,true,true,true,true,true,true,true,true,true,true,true,true,true,true,true,true,true,true,true,true,true,true,true,true,true,true,true,true,true,true,true,true,true,true,true,true,true,true,true,true,true,true,true,true,true,true,true,true,true,true,true,true,true,true,true,true,true,true,true,true,true,true,true,true,true,true,true,true,true,true,true,true,true,true,true,true,true,true,true,true,true,true,true,true,true,true,true,true,true,true,true,true,true,true,true,true,true,true,true,true,true,true,true,true,true,true,true,true,true,true,true,true,true,true,true,true,true,true,true,true,true,true,true,true,true,true,true,true,true,true,true,true,true,true,true,true,true,true,true,true,true,true,true,true,true,true,true,true,true,true,true,true,true,true,true,true,true,true,true,true,true,true,true,true,true,true,true,true,true]},\"id\":\"3302\",\"type\":\"BooleanFilter\"},{\"attributes\":{\"fill_alpha\":{\"value\":0.1},\"fill_color\":{\"value\":\"dodgerblue\"},\"hatch_alpha\":{\"value\":0.1},\"line_alpha\":{\"value\":0.1},\"line_color\":{\"value\":\"dodgerblue\"},\"size\":{\"value\":6},\"x\":{\"field\":\"MercatorX\"},\"y\":{\"field\":\"MercatorY\"}},\"id\":\"3356\",\"type\":\"Circle\"},{\"attributes\":{\"dimension\":\"lon\"},\"id\":\"3316\",\"type\":\"MercatorTickFormatter\"},{\"attributes\":{\"coordinates\":null,\"formatter\":{\"id\":\"3316\"},\"group\":null,\"major_label_policy\":{\"id\":\"3431\"},\"ticker\":{\"id\":\"3314\"}},\"id\":\"3313\",\"type\":\"MercatorAxis\"},{\"attributes\":{},\"id\":\"3432\",\"type\":\"UnionRenderers\"},{\"attributes\":{},\"id\":\"3311\",\"type\":\"LinearScale\"},{\"attributes\":{\"fill_alpha\":{\"value\":0.2},\"fill_color\":{\"value\":\"dodgerblue\"},\"hatch_alpha\":{\"value\":0.2},\"line_alpha\":{\"value\":0.2},\"line_color\":{\"value\":\"dodgerblue\"},\"size\":{\"value\":6},\"x\":{\"field\":\"MercatorX\"},\"y\":{\"field\":\"MercatorY\"}},\"id\":\"3357\",\"type\":\"Circle\"},{\"attributes\":{\"dimension\":\"lat\"},\"id\":\"3322\",\"type\":\"MercatorTicker\"},{\"attributes\":{},\"id\":\"3431\",\"type\":\"AllLabels\"},{\"attributes\":{\"filters\":[{\"id\":\"3302\"}],\"source\":{\"id\":\"3300\"}},\"id\":\"3303\",\"type\":\"CDSView\"},{\"attributes\":{\"overlay\":{\"id\":\"3339\"}},\"id\":\"3333\",\"type\":\"BoxZoomTool\"},{\"attributes\":{\"end\":20000000,\"start\":-18000000},\"id\":\"3305\",\"type\":\"Range1d\"},{\"attributes\":{},\"id\":\"3330\",\"type\":\"ZoomInTool\"},{\"attributes\":{\"coordinates\":null,\"group\":null,\"tile_source\":{\"id\":\"3299\"}},\"id\":\"3352\",\"type\":\"TileRenderer\"},{\"attributes\":{\"coordinates\":null,\"formatter\":{\"id\":\"3324\"},\"group\":null,\"major_label_policy\":{\"id\":\"3428\"},\"ticker\":{\"id\":\"3322\"}},\"id\":\"3321\",\"type\":\"MercatorAxis\"},{\"attributes\":{},\"id\":\"3332\",\"type\":\"WheelZoomTool\"},{\"attributes\":{\"axis\":{\"id\":\"3313\"},\"coordinates\":null,\"group\":null,\"ticker\":null},\"id\":\"3320\",\"type\":\"Grid\"},{\"attributes\":{\"data\":{\"MercatorX\":{\"__ndarray__\":\"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\",\"dtype\":\"float64\",\"order\":\"little\",\"shape\":[318]},\"MercatorY\":{\"__ndarray__\":\"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\",\"dtype\":\"float64\",\"order\":\"little\",\"shape\":[318]},\"artist\":[\"Tame Impala\",\"Tame Impala\",\"Tame Impala\",\"Tame Impala\",\"Tame Impala\",\"Tame Impala\",\"Tame Impala\",\"Tame Impala\",\"Tame Impala\",\"Tame Impala\",\"Tame Impala\",\"Tame Impala\",\"Tame Impala\",\"Tame Impala\",\"Tame Impala\",\"Tame Impala\",\"Tame Impala\",\"Tame Impala\",\"Tame Impala\",\"Tame Impala\",\"Tame Impala\",\"Tame Impala\",\"Tame Impala\",\"Tame Impala\",\"Tame Impala\",\"Tame Impala\",\"Tame Impala\",\"Tame Impala\",\"Tame Impala\",\"Tame Impala\",\"Tame Impala\",\"Tame Impala\",\"Tame Impala\",\"Tame Impala\",\"Tame Impala\",\"Tame Impala\",\"Tame Impala\",\"Tame Impala\",\"Tame Impala\",\"Tame Impala\",\"Tame Impala\",\"Tame Impala\",\"Tame Impala\",\"Tame Impala\",\"Tame Impala\",\"Tame Impala\",\"Tame Impala\",\"Tame Impala\",\"Tame Impala\",\"Tame Impala\",\"Tame Impala\",\"Tame Impala\",\"Tame Impala\",\"Tame Impala\",\"Tame Impala\",\"Tame Impala\",\"Tame Impala\",\"Tame Impala\",\"Tame Impala\",\"Tame Impala\",\"Tame Impala\",\"Tame Impala\",\"Tame Impala\",\"Tame Impala\",\"Tame Impala\",\"Tame Impala\",\"Tame Impala\",\"Tame Impala\",\"Tame Impala\",\"Tame Impala\",\"Tame Impala\",\"Tame Impala\",\"Tame Impala\",\"Tame Impala\",\"Tame Impala\",\"Tame Impala\",\"Tame Impala\",\"Tame Impala\",\"Tame Impala\",\"Tame Impala\",\"Tame Impala\",\"Tame Impala\",\"Tame Impala\",\"Tame Impala\",\"Tame Impala\",\"Tame Impala\",\"Tame Impala\",\"Tame Impala\",\"Tame Impala\",\"Tame Impala\",\"Tame Impala\",\"Tame Impala\",\"Tame Impala\",\"Tame Impala\",\"Tame Impala\",\"Tame Impala\",\"Tame Impala\",\"Tame Impala\",\"Tame Impala\",\"Tame Impala\",\"Tame Impala\",\"Tame Impala\",\"Tame Impala\",\"Tame Impala\",\"Tame Impala\",\"Tame Impala\",\"Tame Impala\",\"Tame Impala\",\"Tame Impala\",\"Tame Impala\",\"Tame Impala\",\"Tame Impala\",\"Tame Impala\",\"Tame Impala\",\"Tame Impala\",\"Tame Impala\",\"Tame Impala\",\"Tame Impala\",\"Tame Impala\",\"Tame Impala\",\"Tame Impala\",\"Tame Impala\",\"Tame Impala\",\"Tame Impala\",\"Tame Impala\",\"Tame Impala\",\"Tame Impala\",\"Tame Impala\",\"Tame Impala\",\"Tame Impala\",\"Tame Impala\",\"Tame Impala\",\"Tame Impala\",\"Tame Impala\",\"Tame Impala\",\"Tame Impala\",\"Tame Impala\",\"Tame Impala\",\"Tame Impala\",\"Tame Impala\",\"Tame Impala\",\"Tame Impala\",\"Tame Impala\",\"Tame Impala\",\"Tame Impala\",\"Tame Impala\",\"Tame Impala\",\"Tame Impala\",\"Tame Impala\",\"Tame Impala\",\"Tame Impala\",\"Tame Impala\",\"Tame Impala\",\"Tame Impala\",\"Tame Impala\",\"Tame Impala\",\"Tame Impala\",\"Tame Impala\",\"Tame Impala\",\"Tame Impala\",\"Tame Impala\",\"Tame Impala\",\"Tame Impala\",\"Tame Impala\",\"Tame Impala\",\"Tame Impala\",\"Tame Impala\",\"Tame Impala\",\"Tame Impala\",\"Tame Impala\",\"Tame Impala\",\"Tame Impala\",\"Tame Impala\",\"Tame Impala\",\"Tame Impala\",\"Tame Impala\",\"Tame Impala\",\"Tame Impala\",\"Tame Impala\",\"Tame Impala\",\"Tame Impala\",\"Tame Impala\",\"Tame Impala\",\"Tame Impala\",\"Tame Impala\",\"Tame Impala\",\"Tame Impala\",\"Tame Impala\",\"Tame Impala\",\"Tame Impala\",\"Tame Impala\",\"Tame Impala\",\"Tame Impala\",\"Tame Impala\",\"Tame Impala\",\"Tame Impala\",\"Tame Impala\",\"Tame Impala\",\"Tame Impala\",\"Tame Impala\",\"Tame Impala\",\"Tame Impala\",\"Tame Impala\",\"Tame Impala\",\"Tame Impala\",\"Tame Impala\",\"Tame Impala\",\"Tame Impala\",\"Tame Impala\",\"Tame Impala\",\"Tame Impala\",\"Tame Impala\",\"Tame Impala\",\"Tame Impala\",\"Tame Impala\",\"Tame Impala\",\"Tame Impala\",\"Tame Impala\",\"Tame Impala\",\"Tame Impala\",\"Tame Impala\",\"Tame Impala\",\"Tame Impala\",\"Tame Impala\",\"Tame Impala\",\"Tame Impala\",\"Tame Impala\",\"Tame Impala\",\"Tame Impala\",\"Tame Impala\",\"Tame Impala\",\"Tame Impala\",\"Tame Impala\",\"Tame Impala\",\"Tame Impala\",\"Tame Impala\",\"Tame Impala\",\"Tame Impala\",\"Tame Impala\",\"Tame Impala\",\"Tame Impala\",\"Tame Impala\",\"Tame Impala\",\"Tame Impala\",\"Tame Impala\",\"Tame Impala\",\"Tame Impala\",\"Tame Impala\",\"Tame Impala\",\"Tame Impala\",\"Tame Impala\",\"Tame Impala\",\"Tame Impala\",\"Tame Impala\",\"Tame Impala\",\"Tame Impala\",\"Tame Impala\",\"Tame Impala\",\"Tame Impala\",\"Tame Impala\",\"Tame Impala\",\"Tame Impala\",\"Tame Impala\",\"Tame Impala\",\"Tame Impala\",\"Tame Impala\",\"Tame Impala\",\"Tame Impala\",\"Tame Impala\",\"Tame Impala\",\"Tame Impala\",\"Tame Impala\",\"Tame Impala\",\"Tame Impala\",\"Tame Impala\",\"Tame Impala\",\"Tame Impala\",\"Tame Impala\",\"Tame Impala\",\"Tame Impala\",\"Tame Impala\",\"Tame Impala\",\"Tame Impala\",\"Tame Impala\",\"Tame Impala\",\"Tame Impala\",\"Tame Impala\",\"Tame Impala\",\"Tame Impala\",\"Tame Impala\",\"Tame Impala\",\"Tame Impala\",\"Tame Impala\",\"Tame Impala\",\"Tame Impala\",\"Tame Impala\",\"Tame Impala\",\"Tame Impala\",\"Tame Impala\",\"Tame Impala\",\"Tame Impala\",\"Tame Impala\",\"Tame Impala\",\"Tame Impala\",\"Tame Impala\",\"Tame Impala\",\"Tame Impala\",\"Tame Impala\",\"Tame Impala\",\"Tame Impala\",\"Tame Impala\",\"Tame Impala\",\"Tame Impala\",\"Tame Impala\",\"Tame Impala\",\"Tame Impala\",\"Tame Impala\",\"Tame Impala\"],\"artist_topgenres\":[[\"indie rock\",\"psychedelic pop\",\"psychedelic rock\",\"synthpop\",\"neo-psychedelia\"],[\"indie rock\",\"psychedelic pop\",\"psychedelic rock\",\"synthpop\",\"neo-psychedelia\"],[\"indie rock\",\"psychedelic pop\",\"psychedelic rock\",\"synthpop\",\"neo-psychedelia\"],[\"indie rock\",\"psychedelic pop\",\"psychedelic rock\",\"synthpop\",\"neo-psychedelia\"],[\"indie rock\",\"psychedelic pop\",\"psychedelic rock\",\"synthpop\",\"neo-psychedelia\"],[\"indie rock\",\"psychedelic pop\",\"psychedelic rock\",\"synthpop\",\"neo-psychedelia\"],[\"indie rock\",\"psychedelic pop\",\"psychedelic rock\",\"synthpop\",\"neo-psychedelia\"],[\"indie rock\",\"psychedelic pop\",\"psychedelic rock\",\"synthpop\",\"neo-psychedelia\"],[\"indie rock\",\"psychedelic pop\",\"psychedelic rock\",\"synthpop\",\"neo-psychedelia\"],[\"indie rock\",\"psychedelic pop\",\"psychedelic rock\",\"synthpop\",\"neo-psychedelia\"],[\"indie rock\",\"psychedelic pop\",\"psychedelic rock\",\"synthpop\",\"neo-psychedelia\"],[\"indie rock\",\"psychedelic pop\",\"psychedelic rock\",\"synthpop\",\"neo-psychedelia\"],[\"indie rock\",\"psychedelic pop\",\"psychedelic rock\",\"synthpop\",\"neo-psychedelia\"],[\"indie rock\",\"psychedelic pop\",\"psychedelic rock\",\"synthpop\",\"neo-psychedelia\"],[\"indie rock\",\"psychedelic pop\",\"psychedelic rock\",\"synthpop\",\"neo-psychedelia\"],[\"indie rock\",\"psychedelic pop\",\"psychedelic rock\",\"synthpop\",\"neo-psychedelia\"],[\"indie rock\",\"psychedelic pop\",\"psychedelic rock\",\"synthpop\",\"neo-psychedelia\"],[\"indie rock\",\"psychedelic pop\",\"psychedelic rock\",\"synthpop\",\"neo-psychedelia\"],[\"indie rock\",\"psychedelic pop\",\"psychedelic rock\",\"synthpop\",\"neo-psychedelia\"],[\"indie rock\",\"psychedelic pop\",\"psychedelic rock\",\"synthpop\",\"neo-psychedelia\"],[\"indie rock\",\"psychedelic pop\",\"psychedelic rock\",\"synthpop\",\"neo-psychedelia\"],[\"indie rock\",\"psychedelic pop\",\"psychedelic rock\",\"synthpop\",\"neo-psychedelia\"],[\"indie rock\",\"psychedelic pop\",\"psychedelic rock\",\"synthpop\",\"neo-psychedelia\"],[\"indie rock\",\"psychedelic pop\",\"psychedelic rock\",\"synthpop\",\"neo-psychedelia\"],[\"indie rock\",\"psychedelic pop\",\"psychedelic rock\",\"synthpop\",\"neo-psychedelia\"],[\"indie rock\",\"psychedelic pop\",\"psychedelic rock\",\"synthpop\",\"neo-psychedelia\"],[\"indie rock\",\"psychedelic pop\",\"psychedelic rock\",\"synthpop\",\"neo-psychedelia\"],[\"indie rock\",\"psychedelic pop\",\"psychedelic rock\",\"synthpop\",\"neo-psychedelia\"],[\"indie rock\",\"psychedelic pop\",\"psychedelic rock\",\"synthpop\",\"neo-psychedelia\"],[\"indie rock\",\"psychedelic pop\",\"psychedelic rock\",\"synthpop\",\"neo-psychedelia\"],[\"indie rock\",\"psychedelic pop\",\"psychedelic rock\",\"synthpop\",\"neo-psychedelia\"],[\"indie rock\",\"psychedelic pop\",\"psychedelic rock\",\"synthpop\",\"neo-psychedelia\"],[\"indie rock\",\"psychedelic pop\",\"psychedelic rock\",\"synthpop\",\"neo-psychedelia\"],[\"indie rock\",\"psychedelic pop\",\"psychedelic rock\",\"synthpop\",\"neo-psychedelia\"],[\"indie rock\",\"psychedelic pop\",\"psychedelic rock\",\"synthpop\",\"neo-psychedelia\"],[\"indie rock\",\"psychedelic pop\",\"psychedelic rock\",\"synthpop\",\"neo-psychedelia\"],[\"indie rock\",\"psychedelic pop\",\"psychedelic rock\",\"synthpop\",\"neo-psychedelia\"],[\"indie rock\",\"psychedelic pop\",\"psychedelic rock\",\"synthpop\",\"neo-psychedelia\"],[\"indie rock\",\"psychedelic pop\",\"psychedelic rock\",\"synthpop\",\"neo-psychedelia\"],[\"indie rock\",\"psychedelic pop\",\"psychedelic rock\",\"synthpop\",\"neo-psychedelia\"],[\"indie rock\",\"psychedelic pop\",\"psychedelic rock\",\"synthpop\",\"neo-psychedelia\"],[\"indie rock\",\"psychedelic pop\",\"psychedelic rock\",\"synthpop\",\"neo-psychedelia\"],[\"indie rock\",\"psychedelic pop\",\"psychedelic rock\",\"synthpop\",\"neo-psychedelia\"],[\"indie rock\",\"psychedelic pop\",\"psychedelic rock\",\"synthpop\",\"neo-psychedelia\"],[\"indie rock\",\"psychedelic pop\",\"psychedelic rock\",\"synthpop\",\"neo-psychedelia\"],[\"indie rock\",\"psychedelic pop\",\"psychedelic rock\",\"synthpop\",\"neo-psychedelia\"],[\"indie rock\",\"psychedelic pop\",\"psychedelic rock\",\"synthpop\",\"neo-psychedelia\"],[\"indie rock\",\"psychedelic pop\",\"psychedelic rock\",\"synthpop\",\"neo-psychedelia\"],[\"indie rock\",\"psychedelic pop\",\"psychedelic rock\",\"synthpop\",\"neo-psychedelia\"],[\"indie rock\",\"psychedelic pop\",\"psychedelic rock\",\"synthpop\",\"neo-psychedelia\"],[\"indie rock\",\"psychedelic pop\",\"psychedelic rock\",\"synthpop\",\"neo-psychedelia\"],[\"indie rock\",\"psychedelic pop\",\"psychedelic rock\",\"synthpop\",\"neo-psychedelia\"],[\"indie rock\",\"psychedelic pop\",\"psychedelic rock\",\"synthpop\",\"neo-psychedelia\"],[\"indie rock\",\"psychedelic pop\",\"psychedelic rock\",\"synthpop\",\"neo-psychedelia\"],[\"indie rock\",\"psychedelic pop\",\"psychedelic rock\",\"synthpop\",\"neo-psychedelia\"],[\"indie rock\",\"psychedelic pop\",\"psychedelic rock\",\"synthpop\",\"neo-psychedelia\"],[\"indie rock\",\"psychedelic pop\",\"psychedelic rock\",\"synthpop\",\"neo-psychedelia\"],[\"indie rock\",\"psychedelic pop\",\"psychedelic rock\",\"synthpop\",\"neo-psychedelia\"],[\"indie rock\",\"psychedelic pop\",\"psychedelic rock\",\"synthpop\",\"neo-psychedelia\"],[\"indie rock\",\"psychedelic pop\",\"psychedelic rock\",\"synthpop\",\"neo-psychedelia\"],[\"indie rock\",\"psychedelic pop\",\"psychedelic rock\",\"synthpop\",\"neo-psychedelia\"],[\"indie rock\",\"psychedelic pop\",\"psychedelic rock\",\"synthpop\",\"neo-psychedelia\"],[\"indie rock\",\"psychedelic pop\",\"psychedelic rock\",\"synthpop\",\"neo-psychedelia\"],[\"indie rock\",\"psychedelic pop\",\"psychedelic rock\",\"synthpop\",\"neo-psychedelia\"],[\"indie rock\",\"psychedelic pop\",\"psychedelic rock\",\"synthpop\",\"neo-psychedelia\"],[\"indie rock\",\"psychedelic pop\",\"psychedelic rock\",\"synthpop\",\"neo-psychedelia\"],[\"indie rock\",\"psychedelic pop\",\"psychedelic rock\",\"synthpop\",\"neo-psychedelia\"],[\"indie rock\",\"psychedelic pop\",\"psychedelic rock\",\"synthpop\",\"neo-psychedelia\"],[\"indie rock\",\"psychedelic pop\",\"psychedelic rock\",\"synthpop\",\"neo-psychedelia\"],[\"indie rock\",\"psychedelic pop\",\"psychedelic rock\",\"synthpop\",\"neo-psychedelia\"],[\"indie rock\",\"psychedelic pop\",\"psychedelic rock\",\"synthpop\",\"neo-psychedelia\"],[\"indie rock\",\"psychedelic pop\",\"psychedelic rock\",\"synthpop\",\"neo-psychedelia\"],[\"indie rock\",\"psychedelic pop\",\"psychedelic rock\",\"synthpop\",\"neo-psychedelia\"],[\"indie rock\",\"psychedelic pop\",\"psychedelic rock\",\"synthpop\",\"neo-psychedelia\"],[\"indie rock\",\"psychedelic pop\",\"psychedelic rock\",\"synthpop\",\"neo-psychedelia\"],[\"indie rock\",\"psychedelic pop\",\"psychedelic rock\",\"synthpop\",\"neo-psychedelia\"],[\"indie rock\",\"psychedelic pop\",\"psychedelic rock\",\"synthpop\",\"neo-psychedelia\"],[\"indie rock\",\"psychedelic pop\",\"psychedelic rock\",\"synthpop\",\"neo-psychedelia\"],[\"indie rock\",\"psychedelic pop\",\"psychedelic rock\",\"synthpop\",\"neo-psychedelia\"],[\"indie rock\",\"psychedelic pop\",\"psychedelic rock\",\"synthpop\",\"neo-psychedelia\"],[\"indie rock\",\"psychedelic pop\",\"psychedelic rock\",\"synthpop\",\"neo-psychedelia\"],[\"indie rock\",\"psychedelic pop\",\"psychedelic rock\",\"synthpop\",\"neo-psychedelia\"],[\"indie rock\",\"psychedelic pop\",\"psychedelic rock\",\"synthpop\",\"neo-psychedelia\"],[\"indie rock\",\"psychedelic pop\",\"psychedelic rock\",\"synthpop\",\"neo-psychedelia\"],[\"indie rock\",\"psychedelic pop\",\"psychedelic rock\",\"synthpop\",\"neo-psychedelia\"],[\"indie rock\",\"psychedelic pop\",\"psychedelic rock\",\"synthpop\",\"neo-psychedelia\"],[\"indie rock\",\"psychedelic pop\",\"psychedelic rock\",\"synthpop\",\"neo-psychedelia\"],[\"indie rock\",\"psychedelic pop\",\"psychedelic rock\",\"synthpop\",\"neo-psychedelia\"],[\"indie rock\",\"psychedelic pop\",\"psychedelic rock\",\"synthpop\",\"neo-psychedelia\"],[\"indie rock\",\"psychedelic pop\",\"psychedelic rock\",\"synthpop\",\"neo-psychedelia\"],[\"indie rock\",\"psychedelic pop\",\"psychedelic rock\",\"synthpop\",\"neo-psychedelia\"],[\"indie rock\",\"psychedelic pop\",\"psychedelic rock\",\"synthpop\",\"neo-psychedelia\"],[\"indie rock\",\"psychedelic pop\",\"psychedelic rock\",\"synthpop\",\"neo-psychedelia\"],[\"indie rock\",\"psychedelic pop\",\"psychedelic rock\",\"synthpop\",\"neo-psychedelia\"],[\"indie rock\",\"psychedelic pop\",\"psychedelic rock\",\"synthpop\",\"neo-psychedelia\"],[\"indie rock\",\"psychedelic pop\",\"psychedelic rock\",\"synthpop\",\"neo-psychedelia\"],[\"indie rock\",\"psychedelic pop\",\"psychedelic rock\",\"synthpop\",\"neo-psychedelia\"],[\"indie rock\",\"psychedelic pop\",\"psychedelic rock\",\"synthpop\",\"neo-psychedelia\"],[\"indie rock\",\"psychedelic pop\",\"psychedelic rock\",\"synthpop\",\"neo-psychedelia\"],[\"indie rock\",\"psychedelic pop\",\"psychedelic rock\",\"synthpop\",\"neo-psychedelia\"],[\"indie rock\",\"psychedelic pop\",\"psychedelic rock\",\"synthpop\",\"neo-psychedelia\"],[\"indie rock\",\"psychedelic pop\",\"psychedelic rock\",\"synthpop\",\"neo-psychedelia\"],[\"indie rock\",\"psychedelic pop\",\"psychedelic rock\",\"synthpop\",\"neo-psychedelia\"],[\"indie rock\",\"psychedelic pop\",\"psychedelic rock\",\"synthpop\",\"neo-psychedelia\"],[\"indie rock\",\"psychedelic pop\",\"psychedelic rock\",\"synthpop\",\"neo-psychedelia\"],[\"indie rock\",\"psychedelic pop\",\"psychedelic rock\",\"synthpop\",\"neo-psychedelia\"],[\"indie rock\",\"psychedelic pop\",\"psychedelic rock\",\"synthpop\",\"neo-psychedelia\"],[\"indie rock\",\"psychedelic pop\",\"psychedelic rock\",\"synthpop\",\"neo-psychedelia\"],[\"indie rock\",\"psychedelic pop\",\"psychedelic rock\",\"synthpop\",\"neo-psychedelia\"],[\"indie rock\",\"psychedelic pop\",\"psychedelic rock\",\"synthpop\",\"neo-psychedelia\"],[\"indie rock\",\"psychedelic pop\",\"psychedelic rock\",\"synthpop\",\"neo-psychedelia\"],[\"indie rock\",\"psychedelic pop\",\"psychedelic rock\",\"synthpop\",\"neo-psychedelia\"],[\"indie rock\",\"psychedelic pop\",\"psychedelic rock\",\"synthpop\",\"neo-psychedelia\"],[\"indie rock\",\"psychedelic pop\",\"psychedelic rock\",\"synthpop\",\"neo-psychedelia\"],[\"indie rock\",\"psychedelic pop\",\"psychedelic rock\",\"synthpop\",\"neo-psychedelia\"],[\"indie rock\",\"psychedelic pop\",\"psychedelic rock\",\"synthpop\",\"neo-psychedelia\"],[\"indie rock\",\"psychedelic pop\",\"psychedelic rock\",\"synthpop\",\"neo-psychedelia\"],[\"indie rock\",\"psychedelic pop\",\"psychedelic rock\",\"synthpop\",\"neo-psychedelia\"],[\"indie rock\",\"psychedelic pop\",\"psychedelic rock\",\"synthpop\",\"neo-psychedelia\"],[\"indie rock\",\"psychedelic pop\",\"psychedelic rock\",\"synthpop\",\"neo-psychedelia\"],[\"indie rock\",\"psychedelic pop\",\"psychedelic rock\",\"synthpop\",\"neo-psychedelia\"],[\"indie rock\",\"psychedelic pop\",\"psychedelic rock\",\"synthpop\",\"neo-psychedelia\"],[\"indie rock\",\"psychedelic pop\",\"psychedelic rock\",\"synthpop\",\"neo-psychedelia\"],[\"indie rock\",\"psychedelic pop\",\"psychedelic rock\",\"synthpop\",\"neo-psychedelia\"],[\"indie rock\",\"psychedelic pop\",\"psychedelic rock\",\"synthpop\",\"neo-psychedelia\"],[\"indie rock\",\"psychedelic pop\",\"psychedelic rock\",\"synthpop\",\"neo-psychedelia\"],[\"indie rock\",\"psychedelic pop\",\"psychedelic rock\",\"synthpop\",\"neo-psychedelia\"],[\"indie rock\",\"psychedelic pop\",\"psychedelic rock\",\"synthpop\",\"neo-psychedelia\"],[\"indie rock\",\"psychedelic pop\",\"psychedelic rock\",\"synthpop\",\"neo-psychedelia\"],[\"indie rock\",\"psychedelic pop\",\"psychedelic rock\",\"synthpop\",\"neo-psychedelia\"],[\"indie rock\",\"psychedelic pop\",\"psychedelic rock\",\"synthpop\",\"neo-psychedelia\"],[\"indie rock\",\"psychedelic pop\",\"psychedelic rock\",\"synthpop\",\"neo-psychedelia\"],[\"indie rock\",\"psychedelic pop\",\"psychedelic rock\",\"synthpop\",\"neo-psychedelia\"],[\"indie rock\",\"psychedelic pop\",\"psychedelic rock\",\"synthpop\",\"neo-psychedelia\"],[\"indie rock\",\"psychedelic pop\",\"psychedelic rock\",\"synthpop\",\"neo-psychedelia\"],[\"indie rock\",\"psychedelic pop\",\"psychedelic rock\",\"synthpop\",\"neo-psychedelia\"],[\"indie rock\",\"psychedelic pop\",\"psychedelic rock\",\"synthpop\",\"neo-psychedelia\"],[\"indie rock\",\"psychedelic pop\",\"psychedelic rock\",\"synthpop\",\"neo-psychedelia\"],[\"indie rock\",\"psychedelic pop\",\"psychedelic rock\",\"synthpop\",\"neo-psychedelia\"],[\"indie rock\",\"psychedelic pop\",\"psychedelic rock\",\"synthpop\",\"neo-psychedelia\"],[\"indie rock\",\"psychedelic pop\",\"psychedelic rock\",\"synthpop\",\"neo-psychedelia\"],[\"indie rock\",\"psychedelic pop\",\"psychedelic rock\",\"synthpop\",\"neo-psychedelia\"],[\"indie rock\",\"psychedelic pop\",\"psychedelic rock\",\"synthpop\",\"neo-psychedelia\"],[\"indie rock\",\"psychedelic pop\",\"psychedelic rock\",\"synthpop\",\"neo-psychedelia\"],[\"indie rock\",\"psychedelic pop\",\"psychedelic rock\",\"synthpop\",\"neo-psychedelia\"],[\"indie rock\",\"psychedelic pop\",\"psychedelic rock\",\"synthpop\",\"neo-psychedelia\"],[\"indie rock\",\"psychedelic pop\",\"psychedelic rock\",\"synthpop\",\"neo-psychedelia\"],[\"indie rock\",\"psychedelic pop\",\"psychedelic rock\",\"synthpop\",\"neo-psychedelia\"],[\"indie rock\",\"psychedelic pop\",\"psychedelic rock\",\"synthpop\",\"neo-psychedelia\"],[\"indie rock\",\"psychedelic pop\",\"psychedelic rock\",\"synthpop\",\"neo-psychedelia\"],[\"indie rock\",\"psychedelic pop\",\"psychedelic rock\",\"synthpop\",\"neo-psychedelia\"],[\"indie rock\",\"psychedelic pop\",\"psychedelic rock\",\"synthpop\",\"neo-psychedelia\"],[\"indie rock\",\"psychedelic pop\",\"psychedelic rock\",\"synthpop\",\"neo-psychedelia\"],[\"indie rock\",\"psychedelic pop\",\"psychedelic rock\",\"synthpop\",\"neo-psychedelia\"],[\"indie rock\",\"psychedelic pop\",\"psychedelic rock\",\"synthpop\",\"neo-psychedelia\"],[\"indie rock\",\"psychedelic pop\",\"psychedelic rock\",\"synthpop\",\"neo-psychedelia\"],[\"indie rock\",\"psychedelic pop\",\"psychedelic rock\",\"synthpop\",\"neo-psychedelia\"],[\"indie rock\",\"psychedelic pop\",\"psychedelic rock\",\"synthpop\",\"neo-psychedelia\"],[\"indie rock\",\"psychedelic pop\",\"psychedelic rock\",\"synthpop\",\"neo-psychedelia\"],[\"indie rock\",\"psychedelic pop\",\"psychedelic rock\",\"synthpop\",\"neo-psychedelia\"],[\"indie rock\",\"psychedelic pop\",\"psychedelic rock\",\"synthpop\",\"neo-psychedelia\"],[\"indie rock\",\"psychedelic pop\",\"psychedelic rock\",\"synthpop\",\"neo-psychedelia\"],[\"indie rock\",\"psychedelic pop\",\"psychedelic rock\",\"synthpop\",\"neo-psychedelia\"],[\"indie rock\",\"psychedelic pop\",\"psychedelic rock\",\"synthpop\",\"neo-psychedelia\"],[\"indie rock\",\"psychedelic pop\",\"psychedelic rock\",\"synthpop\",\"neo-psychedelia\"],[\"indie rock\",\"psychedelic pop\",\"psychedelic rock\",\"synthpop\",\"neo-psychedelia\"],[\"indie rock\",\"psychedelic pop\",\"psychedelic rock\",\"synthpop\",\"neo-psychedelia\"],[\"indie rock\",\"psychedelic pop\",\"psychedelic rock\",\"synthpop\",\"neo-psychedelia\"],[\"indie rock\",\"psychedelic pop\",\"psychedelic rock\",\"synthpop\",\"neo-psychedelia\"],[\"indie rock\",\"psychedelic pop\",\"psychedelic rock\",\"synthpop\",\"neo-psychedelia\"],[\"indie rock\",\"psychedelic pop\",\"psychedelic rock\",\"synthpop\",\"neo-psychedelia\"],[\"indie rock\",\"psychedelic pop\",\"psychedelic rock\",\"synthpop\",\"neo-psychedelia\"],[\"indie rock\",\"psychedelic pop\",\"psychedelic rock\",\"synthpop\",\"neo-psychedelia\"],[\"indie rock\",\"psychedelic pop\",\"psychedelic rock\",\"synthpop\",\"neo-psychedelia\"],[\"indie rock\",\"psychedelic pop\",\"psychedelic rock\",\"synthpop\",\"neo-psychedelia\"],[\"indie rock\",\"psychedelic pop\",\"psychedelic rock\",\"synthpop\",\"neo-psychedelia\"],[\"indie rock\",\"psychedelic pop\",\"psychedelic rock\",\"synthpop\",\"neo-psychedelia\"],[\"indie rock\",\"psychedelic pop\",\"psychedelic rock\",\"synthpop\",\"neo-psychedelia\"],[\"indie rock\",\"psychedelic pop\",\"psychedelic rock\",\"synthpop\",\"neo-psychedelia\"],[\"indie rock\",\"psychedelic pop\",\"psychedelic rock\",\"synthpop\",\"neo-psychedelia\"],[\"indie rock\",\"psychedelic pop\",\"psychedelic rock\",\"synthpop\",\"neo-psychedelia\"],[\"indie rock\",\"psychedelic pop\",\"psychedelic rock\",\"synthpop\",\"neo-psychedelia\"],[\"indie rock\",\"psychedelic pop\",\"psychedelic rock\",\"synthpop\",\"neo-psychedelia\"],[\"indie rock\",\"psychedelic pop\",\"psychedelic rock\",\"synthpop\",\"neo-psychedelia\"],[\"indie rock\",\"psychedelic pop\",\"psychedelic rock\",\"synthpop\",\"neo-psychedelia\"],[\"indie rock\",\"psychedelic pop\",\"psychedelic rock\",\"synthpop\",\"neo-psychedelia\"],[\"indie rock\",\"psychedelic pop\",\"psychedelic rock\",\"synthpop\",\"neo-psychedelia\"],[\"indie rock\",\"psychedelic pop\",\"psychedelic rock\",\"synthpop\",\"neo-psychedelia\"],[\"indie rock\",\"psychedelic pop\",\"psychedelic rock\",\"synthpop\",\"neo-psychedelia\"],[\"indie rock\",\"psychedelic pop\",\"psychedelic rock\",\"synthpop\",\"neo-psychedelia\"],[\"indie rock\",\"psychedelic pop\",\"psychedelic rock\",\"synthpop\",\"neo-psychedelia\"],[\"indie rock\",\"psychedelic pop\",\"psychedelic rock\",\"synthpop\",\"neo-psychedelia\"],[\"indie rock\",\"psychedelic pop\",\"psychedelic rock\",\"synthpop\",\"neo-psychedelia\"],[\"indie rock\",\"psychedelic pop\",\"psychedelic rock\",\"synthpop\",\"neo-psychedelia\"],[\"indie rock\",\"psychedelic pop\",\"psychedelic rock\",\"synthpop\",\"neo-psychedelia\"],[\"indie rock\",\"psychedelic pop\",\"psychedelic rock\",\"synthpop\",\"neo-psychedelia\"],[\"indie rock\",\"psychedelic pop\",\"psychedelic rock\",\"synthpop\",\"neo-psychedelia\"],[\"indie rock\",\"psychedelic pop\",\"psychedelic rock\",\"synthpop\",\"neo-psychedelia\"],[\"indie rock\",\"psychedelic pop\",\"psychedelic rock\",\"synthpop\",\"neo-psychedelia\"],[\"indie rock\",\"psychedelic pop\",\"psychedelic rock\",\"synthpop\",\"neo-psychedelia\"],[\"indie rock\",\"psychedelic pop\",\"psychedelic rock\",\"synthpop\",\"neo-psychedelia\"],[\"indie rock\",\"psychedelic pop\",\"psychedelic rock\",\"synthpop\",\"neo-psychedelia\"],[\"indie rock\",\"psychedelic pop\",\"psychedelic rock\",\"synthpop\",\"neo-psychedelia\"],[\"indie rock\",\"psychedelic pop\",\"psychedelic rock\",\"synthpop\",\"neo-psychedelia\"],[\"indie rock\",\"psychedelic pop\",\"psychedelic rock\",\"synthpop\",\"neo-psychedelia\"],[\"indie rock\",\"psychedelic pop\",\"psychedelic rock\",\"synthpop\",\"neo-psychedelia\"],[\"indie rock\",\"psychedelic pop\",\"psychedelic rock\",\"synthpop\",\"neo-psychedelia\"],[\"indie rock\",\"psychedelic pop\",\"psychedelic rock\",\"synthpop\",\"neo-psychedelia\"],[\"indie rock\",\"psychedelic pop\",\"psychedelic rock\",\"synthpop\",\"neo-psychedelia\"],[\"indie rock\",\"psychedelic pop\",\"psychedelic rock\",\"synthpop\",\"neo-psychedelia\"],[\"indie rock\",\"psychedelic pop\",\"psychedelic rock\",\"synthpop\",\"neo-psychedelia\"],[\"indie rock\",\"psychedelic pop\",\"psychedelic rock\",\"synthpop\",\"neo-psychedelia\"],[\"indie rock\",\"psychedelic pop\",\"psychedelic rock\",\"synthpop\",\"neo-psychedelia\"],[\"indie rock\",\"psychedelic pop\",\"psychedelic rock\",\"synthpop\",\"neo-psychedelia\"],[\"indie rock\",\"psychedelic pop\",\"psychedelic rock\",\"synthpop\",\"neo-psychedelia\"],[\"indie rock\",\"psychedelic pop\",\"psychedelic rock\",\"synthpop\",\"neo-psychedelia\"],[\"indie rock\",\"psychedelic pop\",\"psychedelic rock\",\"synthpop\",\"neo-psychedelia\"],[\"indie rock\",\"psychedelic pop\",\"psychedelic rock\",\"synthpop\",\"neo-psychedelia\"],[\"indie rock\",\"psychedelic pop\",\"psychedelic rock\",\"synthpop\",\"neo-psychedelia\"],[\"indie rock\",\"psychedelic pop\",\"psychedelic rock\",\"synthpop\",\"neo-psychedelia\"],[\"indie rock\",\"psychedelic pop\",\"psychedelic rock\",\"synthpop\",\"neo-psychedelia\"],[\"indie rock\",\"psychedelic pop\",\"psychedelic rock\",\"synthpop\",\"neo-psychedelia\"],[\"indie rock\",\"psychedelic pop\",\"psychedelic rock\",\"synthpop\",\"neo-psychedelia\"],[\"indie rock\",\"psychedelic pop\",\"psychedelic rock\",\"synthpop\",\"neo-psychedelia\"],[\"indie rock\",\"psychedelic pop\",\"psychedelic rock\",\"synthpop\",\"neo-psychedelia\"],[\"indie rock\",\"psychedelic pop\",\"psychedelic rock\",\"synthpop\",\"neo-psychedelia\"],[\"indie rock\",\"psychedelic pop\",\"psychedelic rock\",\"synthpop\",\"neo-psychedelia\"],[\"indie rock\",\"psychedelic pop\",\"psychedelic rock\",\"synthpop\",\"neo-psychedelia\"],[\"indie rock\",\"psychedelic pop\",\"psychedelic rock\",\"synthpop\",\"neo-psychedelia\"],[\"indie rock\",\"psychedelic pop\",\"psychedelic rock\",\"synthpop\",\"neo-psychedelia\"],[\"indie rock\",\"psychedelic pop\",\"psychedelic rock\",\"synthpop\",\"neo-psychedelia\"],[\"indie rock\",\"psychedelic pop\",\"psychedelic rock\",\"synthpop\",\"neo-psychedelia\"],[\"indie rock\",\"psychedelic pop\",\"psychedelic rock\",\"synthpop\",\"neo-psychedelia\"],[\"indie rock\",\"psychedelic pop\",\"psychedelic rock\",\"synthpop\",\"neo-psychedelia\"],[\"indie rock\",\"psychedelic pop\",\"psychedelic rock\",\"synthpop\",\"neo-psychedelia\"],[\"indie rock\",\"psychedelic pop\",\"psychedelic rock\",\"synthpop\",\"neo-psychedelia\"],[\"indie rock\",\"psychedelic pop\",\"psychedelic rock\",\"synthpop\",\"neo-psychedelia\"],[\"indie rock\",\"psychedelic pop\",\"psychedelic rock\",\"synthpop\",\"neo-psychedelia\"],[\"indie rock\",\"psychedelic pop\",\"psychedelic rock\",\"synthpop\",\"neo-psychedelia\"],[\"indie rock\",\"psychedelic pop\",\"psychedelic rock\",\"synthpop\",\"neo-psychedelia\"],[\"indie rock\",\"psychedelic pop\",\"psychedelic rock\",\"synthpop\",\"neo-psychedelia\"],[\"indie rock\",\"psychedelic pop\",\"psychedelic rock\",\"synthpop\",\"neo-psychedelia\"],[\"indie rock\",\"psychedelic pop\",\"psychedelic rock\",\"synthpop\",\"neo-psychedelia\"],[\"indie rock\",\"psychedelic pop\",\"psychedelic rock\",\"synthpop\",\"neo-psychedelia\"],[\"indie rock\",\"psychedelic pop\",\"psychedelic rock\",\"synthpop\",\"neo-psychedelia\"],[\"indie rock\",\"psychedelic pop\",\"psychedelic rock\",\"synthpop\",\"neo-psychedelia\"],[\"indie rock\",\"psychedelic pop\",\"psychedelic rock\",\"synthpop\",\"neo-psychedelia\"],[\"indie rock\",\"psychedelic pop\",\"psychedelic rock\",\"synthpop\",\"neo-psychedelia\"],[\"indie rock\",\"psychedelic pop\",\"psychedelic rock\",\"synthpop\",\"neo-psychedelia\"],[\"indie rock\",\"psychedelic pop\",\"psychedelic rock\",\"synthpop\",\"neo-psychedelia\"],[\"indie rock\",\"psychedelic pop\",\"psychedelic rock\",\"synthpop\",\"neo-psychedelia\"],[\"indie rock\",\"psychedelic pop\",\"psychedelic rock\",\"synthpop\",\"neo-psychedelia\"],[\"indie rock\",\"psychedelic pop\",\"psychedelic rock\",\"synthpop\",\"neo-psychedelia\"],[\"indie rock\",\"psychedelic pop\",\"psychedelic rock\",\"synthpop\",\"neo-psychedelia\"],[\"indie rock\",\"psychedelic pop\",\"psychedelic rock\",\"synthpop\",\"neo-psychedelia\"],[\"indie rock\",\"psychedelic pop\",\"psychedelic rock\",\"synthpop\",\"neo-psychedelia\"],[\"indie rock\",\"psychedelic pop\",\"psychedelic rock\",\"synthpop\",\"neo-psychedelia\"],[\"indie rock\",\"psychedelic pop\",\"psychedelic rock\",\"synthpop\",\"neo-psychedelia\"],[\"indie rock\",\"psychedelic pop\",\"psychedelic rock\",\"synthpop\",\"neo-psychedelia\"],[\"indie rock\",\"psychedelic pop\",\"psychedelic rock\",\"synthpop\",\"neo-psychedelia\"],[\"indie rock\",\"psychedelic pop\",\"psychedelic rock\",\"synthpop\",\"neo-psychedelia\"],[\"indie rock\",\"psychedelic pop\",\"psychedelic rock\",\"synthpop\",\"neo-psychedelia\"],[\"indie rock\",\"psychedelic pop\",\"psychedelic rock\",\"synthpop\",\"neo-psychedelia\"],[\"indie rock\",\"psychedelic pop\",\"psychedelic rock\",\"synthpop\",\"neo-psychedelia\"],[\"indie rock\",\"psychedelic pop\",\"psychedelic rock\",\"synthpop\",\"neo-psychedelia\"],[\"indie rock\",\"psychedelic pop\",\"psychedelic rock\",\"synthpop\",\"neo-psychedelia\"],[\"indie rock\",\"psychedelic pop\",\"psychedelic rock\",\"synthpop\",\"neo-psychedelia\"],[\"indie rock\",\"psychedelic pop\",\"psychedelic rock\",\"synthpop\",\"neo-psychedelia\"],[\"indie rock\",\"psychedelic pop\",\"psychedelic rock\",\"synthpop\",\"neo-psychedelia\"],[\"indie rock\",\"psychedelic pop\",\"psychedelic rock\",\"synthpop\",\"neo-psychedelia\"],[\"indie rock\",\"psychedelic pop\",\"psychedelic rock\",\"synthpop\",\"neo-psychedelia\"],[\"indie rock\",\"psychedelic pop\",\"psychedelic rock\",\"synthpop\",\"neo-psychedelia\"],[\"indie rock\",\"psychedelic pop\",\"psychedelic rock\",\"synthpop\",\"neo-psychedelia\"],[\"indie rock\",\"psychedelic pop\",\"psychedelic rock\",\"synthpop\",\"neo-psychedelia\"],[\"indie rock\",\"psychedelic pop\",\"psychedelic rock\",\"synthpop\",\"neo-psychedelia\"],[\"indie rock\",\"psychedelic pop\",\"psychedelic rock\",\"synthpop\",\"neo-psychedelia\"],[\"indie rock\",\"psychedelic pop\",\"psychedelic rock\",\"synthpop\",\"neo-psychedelia\"],[\"indie rock\",\"psychedelic pop\",\"psychedelic rock\",\"synthpop\",\"neo-psychedelia\"],[\"indie rock\",\"psychedelic pop\",\"psychedelic rock\",\"synthpop\",\"neo-psychedelia\"],[\"indie rock\",\"psychedelic pop\",\"psychedelic rock\",\"synthpop\",\"neo-psychedelia\"],[\"indie rock\",\"psychedelic pop\",\"psychedelic rock\",\"synthpop\",\"neo-psychedelia\"],[\"indie rock\",\"psychedelic pop\",\"psychedelic rock\",\"synthpop\",\"neo-psychedelia\"],[\"indie rock\",\"psychedelic pop\",\"psychedelic rock\",\"synthpop\",\"neo-psychedelia\"],[\"indie rock\",\"psychedelic pop\",\"psychedelic rock\",\"synthpop\",\"neo-psychedelia\"],[\"indie rock\",\"psychedelic pop\",\"psychedelic rock\",\"synthpop\",\"neo-psychedelia\"],[\"indie rock\",\"psychedelic pop\",\"psychedelic rock\",\"synthpop\",\"neo-psychedelia\"],[\"indie rock\",\"psychedelic pop\",\"psychedelic rock\",\"synthpop\",\"neo-psychedelia\"],[\"indie rock\",\"psychedelic pop\",\"psychedelic rock\",\"synthpop\",\"neo-psychedelia\"],[\"indie rock\",\"psychedelic pop\",\"psychedelic rock\",\"synthpop\",\"neo-psychedelia\"],[\"indie rock\",\"psychedelic pop\",\"psychedelic rock\",\"synthpop\",\"neo-psychedelia\"],[\"indie rock\",\"psychedelic pop\",\"psychedelic rock\",\"synthpop\",\"neo-psychedelia\"],[\"indie rock\",\"psychedelic pop\",\"psychedelic rock\",\"synthpop\",\"neo-psychedelia\"],[\"indie rock\",\"psychedelic pop\",\"psychedelic rock\",\"synthpop\",\"neo-psychedelia\"],[\"indie rock\",\"psychedelic pop\",\"psychedelic rock\",\"synthpop\",\"neo-psychedelia\"],[\"indie rock\",\"psychedelic pop\",\"psychedelic rock\",\"synthpop\",\"neo-psychedelia\"],[\"indie rock\",\"psychedelic pop\",\"psychedelic rock\",\"synthpop\",\"neo-psychedelia\"],[\"indie rock\",\"psychedelic pop\",\"psychedelic rock\",\"synthpop\",\"neo-psychedelia\"],[\"indie rock\",\"psychedelic pop\",\"psychedelic rock\",\"synthpop\",\"neo-psychedelia\"],[\"indie rock\",\"psychedelic pop\",\"psychedelic rock\",\"synthpop\",\"neo-psychedelia\"],[\"indie rock\",\"psychedelic pop\",\"psychedelic rock\",\"synthpop\",\"neo-psychedelia\"],[\"indie rock\",\"psychedelic pop\",\"psychedelic rock\",\"synthpop\",\"neo-psychedelia\"],[\"indie rock\",\"psychedelic pop\",\"psychedelic rock\",\"synthpop\",\"neo-psychedelia\"],[\"indie rock\",\"psychedelic pop\",\"psychedelic rock\",\"synthpop\",\"neo-psychedelia\"],[\"indie rock\",\"psychedelic pop\",\"psychedelic rock\",\"synthpop\",\"neo-psychedelia\"],[\"indie rock\",\"psychedelic pop\",\"psychedelic rock\",\"synthpop\",\"neo-psychedelia\"],[\"indie rock\",\"psychedelic pop\",\"psychedelic rock\",\"synthpop\",\"neo-psychedelia\"],[\"indie rock\",\"psychedelic pop\",\"psychedelic rock\",\"synthpop\",\"neo-psychedelia\"],[\"indie rock\",\"psychedelic pop\",\"psychedelic rock\",\"synthpop\",\"neo-psychedelia\"],[\"indie rock\",\"psychedelic pop\",\"psychedelic rock\",\"synthpop\",\"neo-psychedelia\"],[\"indie rock\",\"psychedelic pop\",\"psychedelic rock\",\"synthpop\",\"neo-psychedelia\"],[\"indie rock\",\"psychedelic pop\",\"psychedelic rock\",\"synthpop\",\"neo-psychedelia\"],[\"indie rock\",\"psychedelic pop\",\"psychedelic rock\",\"synthpop\",\"neo-psychedelia\"],[\"indie rock\",\"psychedelic pop\",\"psychedelic rock\",\"synthpop\",\"neo-psychedelia\"],[\"indie rock\",\"psychedelic pop\",\"psychedelic rock\",\"synthpop\",\"neo-psychedelia\"],[\"indie rock\",\"psychedelic pop\",\"psychedelic rock\",\"synthpop\",\"neo-psychedelia\"],[\"indie rock\",\"psychedelic pop\",\"psychedelic rock\",\"synthpop\",\"neo-psychedelia\"],[\"indie rock\",\"psychedelic pop\",\"psychedelic rock\",\"synthpop\",\"neo-psychedelia\"],[\"indie rock\",\"psychedelic pop\",\"psychedelic rock\",\"synthpop\",\"neo-psychedelia\"]],\"city\":[\"Indio\",\"Indio\",\"Indio\",\"West Melbourne\",\"Sydney\",\"South Bank Qld\",\"Upper Swan\",\"Barcelona\",\"George\",\"Portland\",\"North Vancouver\",\"Oakland\",\"Pomona\",\"San Diego\",\"Manchester\",\"Atlanta\",\"Richmond\",\"Philadelphia\",\"London\",\"Paris\",\"Gdynia\",\"Werchter\",\"Ramonville-St-Agne\",\"Budapest\",\"Oslo\",\"Copenhagen\",\"Zurich\",\"Biddinghuizen\",\"Edinburgh\",\"Dublin\",\"Leeds\",\"New York\",\"New York\",\"Philadelphia\",\"Columbia\",\"St Louis\",\"Madison\",\"Chicago\",\"Kansas City\",\"Dallas\",\"Rio De Janeiro\",\"Monterrey\",\"Mexico City\",\"Boulder\",\"Denver\",\"Los Angeles\",\"Los Angeles\",\"San Francisco\",\"Santa Barbara\",\"Seattle\",\"Portland\",\"Auckland\",\"Carrara\",\"Melbourne\",\"Sydney Olympic Park\",\"Adelaide\",\"Joondalup Wa\",\"Rottnest Island\",\"Oxford\",\"Frankfurt Am Main\",\"Munich\",\"Kinross\",\"Manchester\",\"Birmingham\",\"Nottingham\",\"Suffolk\",\"Beccles\",\"Beccles\",\"New York\",\"New York\",\"Los Angeles\",\"Las Vegas\",\"Oakland\",\"Oakland\",\"Bogota\",\"Santiago\",\"Manchester\",\"London\",\"Sao Paulo\",\"Ariel\",\"Pomona\",\"Indio\",\"Indio\",\"Austin\",\"New Orleans\",\"Atlanta\",\"Nashville\",\"Minneapolis\",\"Milwaukee\",\"Chicago\",\"Columbus\",\"Royal Oak\",\"Toronto\",\"Montreal\",\"Montreal\",\"Boston\",\"George\",\"Vancouver\",\"Portland\",\"Salt Lake City\",\"Denver\",\"Kansas City\",\"St Louis\",\"Pittsburgh\",\"Cleveland\",\"Cincinnati\",\"Washington\",\"New York\",\"Byron Bay Nsw\",\"Byron Bay\",\"Chicago\",\"San Diego\",\"Los Angeles\",\"Los Angeles\",\"San Francisco\",\"Viana Do Castelo\",\"Hasselt\",\"Biddinghuizen\",\"Sestri Levante\",\"Rome\",\"Verona\",\"Zurich\",\"Boulogne-Billancourt\",\"Gardenstown\",\"Stradbally\",\"Glasgow\",\"Liverpool\",\"Downend\",\"Berlin\",\"Austin\",\"Upper Darby\",\"New York\",\"New York\",\"Austin\",\"Melbourne\",\"Circular Quay\",\"Sydney\",\"Perth\",\"Perth\",\"Adelaide\",\"Adelaide\",\"Brisbane\",\"Auckland\",\"Wellington\",\"Amsterdam-Zuidoost\",\"Brussels\",\"Paris\",\"Frederiksberg\",\"Oslo\",\"Stockholm\",\"Hamburg\",\"Berlin\",\"K\\u00f6ln\",\"Manchester\",\"London\",\"London\",\"Bogota\",\"Sao Paulo\",\"Lima\",\"Buenos Aires\",\"Buenos Aires\",\"Santiago\",\"Yau Tsim Mong\",\"Singapore\",\"Kuala Lumpur\",\"Tokyo\",\"Osaka\",\"Jakarta\",\"Barcelona\",\"Dublin\",\"Manchester\",\"Toronto\",\"Montr\\u00e9al\",\"Brooklyn\",\"Brooklyn\",\"Columbia\",\"Dover\",\"Gdynia\",\"Roskilde\",\"Werchter\",\"Belfort\",\"Lyon\",\"Milan\",\"Lisbon\",\"Bilbao\",\"Rishon Le \\u1e94iyyon\",\"Ostrava - V\\u00edtkovice\",\"Gr\\u00e4fenhainichen\",\"Los Angeles\",\"Portland\",\"Denver\",\"Berkeley\",\"Berkeley\",\"Seattle\",\"M\\u00e9xico\",\"Monterrey\",\"New York\",\"Madrid\",\"Camden, London\",\"Chicago\",\"Martindale\",\"Martindale\",\"Tokyo\",\"Higashi-Osaka\",\"London\",\"London\",\"London\",\"Lake Perris\",\"Oakland\",\"Oakland\",\"Nashville\",\"Asheville\",\"Atlanta\",\"St. Augustine\",\"Miami Beach\",\"Zapopan\",\"Boston\",\"Barcelona\",\"Paris\",\"Lorensberg\",\"London\",\"Blackpool\",\"Dublin\",\"Toronto\",\"Detroit\",\"Minneapolis\",\"Minneapolis\",\"Chicago\",\"Oslo\",\"Oslo\",\"Oslo\",\"Oslo\",\"Berlin\",\"New York\",\"New York\",\"Philadelphia\",\"Washington\",\"Washington\",\"Austin\",\"Denver\",\"Denver\",\"Austin\",\"San Diego\",\"Los Angeles\",\"Los Angeles\",\"San Francisco\",\"Mexico\",\"Monterrey\",\"Auckland\",\"Brisbane\",\"Melbourne\",\"Hindmarsh\",\"Perth\",\"Toronto\",\"Montreal\",\"Washington\",\"Charlotte\",\"Atlanta\",\"Miami\",\"St Paul\",\"St Louis\",\"Kansas City\",\"Tulsa\",\"Austin\",\"Dallas\",\"Houston\",\"Glendale\",\"Denver\",\"Salt Lake City\",\"Portland\",\"Vancouver\",\"Mexico\",\"Monterrey\",\"Monterrey\",\"San Francisco\",\"Auckland\",\"Brisbane\",\"Sydney\",\"Melbourne\",\"Melbourne\",\"Hindmarsh\",\"Perth\",\"Mexico\",\"Monterrey\",\"Monterrey\",\"Mexico\",\"Manchester\",\"Chicago\",\"Quincy\",\"Portland\",\"San Francisco\",\"Las Vegas\",\"Glendale\",\"Denver\",\"Washington\",\"Dover\",\"Atlanta\",\"San Francisco\",\"Los Angeles\",\"Los Angeles\",\"Houston\",\"Austin\",\"Houston\",\"Dallas\",\"Monterrey\",\"Zapopan\",\"Mexico\",\"Auckland\",\"Sydney\",\"Brisbane\",\"Melbourne\",\"Melbourne\",\"Hindmarsh\",\"Perth\",\"Tempe\",\"Okeechobee\",\"Pittsburgh\",\"Toronto\"],\"country\":[\"United States\",\"United States\",\"United States\",\"Australia\",\"Australia\",\"Australia\",\"Australia\",\"Spain\",\"United States\",\"United States\",\"Canada\",\"United States\",\"United States\",\"United States\",\"United States\",\"United States\",\"United States\",\"United States\",\"United Kingdom\",\"France\",\"Poland\",\"Belgium\",\"France\",\"Hungary\",\"Norway\",\"Denmark\",\"Switzerland\",\"Netherlands\",\"United Kingdom\",\"Ireland\",\"United Kingdom\",\"United States\",\"United States\",\"United States\",\"United States\",\"United States\",\"United States\",\"United States\",\"United States\",\"United States\",\"Brazil\",\"Mexico\",\"Mexico\",\"United States\",\"United States\",\"United States\",\"United States\",\"United States\",\"United States\",\"United States\",\"United States\",\"New Zealand\",\"Australia\",\"Australia\",\"Australia\",\"Australia\",\"Australia\",\"Australia\",\"United Kingdom\",\"Germany\",\"Germany\",\"United Kingdom\",\"United Kingdom\",\"United Kingdom\",\"United Kingdom\",\"United Kingdom\",\"United Kingdom\",\"United Kingdom\",\"United States\",\"United States\",\"United States\",\"United States\",\"United States\",\"United States\",\"Colombia\",\"Chile\",\"United Kingdom\",\"United Kingdom\",\"Brazil\",\"Argentina\",\"United States\",\"United States\",\"United States\",\"United States\",\"United States\",\"United States\",\"United States\",\"United States\",\"United States\",\"United States\",\"United States\",\"United States\",\"Canada\",\"Canada\",\"Canada\",\"United States\",\"United States\",\"Canada\",\"United States\",\"United States\",\"United States\",\"United States\",\"United States\",\"United States\",\"United States\",\"United States\",\"United States\",\"United States\",\"Australia\",\"Australia\",\"United States\",\"United States\",\"United States\",\"United States\",\"United States\",\"Portugal\",\"Belgium\",\"Netherlands\",\"Italy\",\"Italy\",\"Italy\",\"Switzerland\",\"France\",\"United Kingdom\",\"Ireland\",\"United Kingdom\",\"United Kingdom\",\"United Kingdom\",\"Germany\",\"United States\",\"United States\",\"United States\",\"United States\",\"United States\",\"Australia\",\"Australia\",\"Australia\",\"Australia\",\"Australia\",\"Australia\",\"Australia\",\"Australia\",\"New Zealand\",\"New Zealand\",\"Netherlands\",\"Belgium\",\"France\",\"Denmark\",\"Norway\",\"Sweden\",\"Germany\",\"Germany\",\"Germany\",\"United Kingdom\",\"United Kingdom\",\"United Kingdom\",\"Colombia\",\"Brazil\",\"Peru\",\"Argentina\",\"Argentina\",\"Chile\",\"Hong Kong-China\",\"Singapore\",\"Malaysia\",\"Japan\",\"Japan\",\"Indonesia\",\"Spain\",\"Ireland\",\"United States\",\"Canada\",\"Canada\",\"United States\",\"United States\",\"United States\",\"United States\",\"Poland\",\"Denmark\",\"Belgium\",\"France\",\"France\",\"Italy\",\"Portugal\",\"Spain\",\"Israel\",\"Czechia\",\"Germany\",\"United States\",\"United States\",\"United States\",\"United States\",\"United States\",\"United States\",\"Mexico\",\"Mexico\",\"United States\",\"Spain\",\" UNITED KINGDOM\",\"United States of America\",\"United States\",\"United States\",\"Japan\",\"Japan\",\"United Kingdom\",\"United Kingdom\",\"United Kingdom\",\"United States\",\"United States\",\"United States\",\"United States\",\"United States\",\"United States\",\"United States\",\"United States\",\"Mexico\",\"United States\",\"Spain\",\"France\",\"Sweden\",\"United Kingdom\",\"United Kingdom\",\"Ireland\",\"Canada\",\"United States\",\"United States\",\"United States\",\"United States\",\"Norway\",\"Norway\",\"Norway\",\"Norway\",\"Germany\",\"United States\",\"United States\",\"United States\",\"United States\",\"United States\",\"United States\",\"United States\",\"United States\",\"United States\",\"United States\",\"United States\",\"United States\",\"United States\",\"Mexico\",\"Mexico\",\"New Zealand\",\"Australia\",\"Australia\",\"Australia\",\"Australia\",\"Canada\",\"Canada\",\"United States\",\"United States\",\"United States\",\"United States\",\"United States\",\"United States\",\"United States\",\"United States\",\"United States\",\"United States\",\"United States\",\"United States\",\"United States\",\"United States\",\"United States\",\"Canada\",\"Mexico\",\"Mexico\",\"Mexico\",\"United States\",\"New Zealand\",\"Australia\",\"Australia\",\"Australia\",\"Australia\",\"Australia\",\"Australia\",\"Mexico\",\"Mexico\",\"Mexico\",\"Mexico\",\"United States\",\"United States\",\"United States\",\"United States\",\"United States\",\"United States\",\"United States\",\"United States\",\"United States\",\"United States\",\"United States\",\"United States\",\"United States\",\"United States\",\"United States\",\"United States\",\"United States\",\"United States\",\"Mexico\",\"Mexico\",\"Mexico\",\"New Zealand\",\"Australia\",\"Australia\",\"Australia\",\"Australia\",\"Australia\",\"Australia\",\"United States\",\"United States\",\"United States\",\"Canada\"],\"datetime\":[\"2013-04-14\",\"2013-04-19\",\"2013-04-21\",\"2013-04-26\",\"2013-05-02\",\"2013-05-08\",\"2013-05-18\",\"2013-05-22\",\"2013-05-24\",\"2013-05-26\",\"2013-05-27\",\"2013-05-29\",\"2013-05-30\",\"2013-05-31\",\"2013-06-13\",\"2013-06-17\",\"2013-06-18\",\"2013-06-19\",\"2013-06-25\",\"2013-06-26\",\"2013-07-03\",\"2013-07-04\",\"2013-07-11\",\"2013-08-05\",\"2013-08-06\",\"2013-08-09\",\"2013-08-14\",\"2013-08-16\",\"2013-08-20\",\"2013-08-21\",\"2013-08-23\",\"2013-10-01\",\"2013-10-02\",\"2013-10-03\",\"2013-10-04\",\"2013-10-08\",\"2013-10-09\",\"2013-10-10\",\"2013-10-11\",\"2013-10-12\",\"2013-10-17\",\"2013-10-23\",\"2013-10-24\",\"2013-10-26\",\"2013-10-27\",\"2013-10-29\",\"2013-10-30\",\"2013-10-31\",\"2013-11-01\",\"2013-12-03\",\"2013-12-04\",\"2014-01-17\",\"2014-01-19\",\"2014-01-24\",\"2014-01-26\",\"2014-01-31\",\"2014-02-02\",\"2014-04-27\",\"2014-05-22\",\"2014-07-08\",\"2014-07-09\",\"2014-07-11\",\"2014-07-12\",\"2014-07-14\",\"2014-07-15\",\"2014-07-17\",\"2014-07-18\",\"2014-07-20\",\"2014-11-09\",\"2014-11-10\",\"2014-11-12\",\"2014-11-13\",\"2014-11-15\",\"2014-11-16\",\"2014-11-20\",\"2014-11-22\",\"2015-02-11\",\"2015-02-12\",\"2015-03-12\",\"2015-03-18\",\"2015-04-08\",\"2015-04-10\",\"2015-04-17\",\"2015-05-08\",\"2015-05-09\",\"2015-05-10\",\"2015-05-11\",\"2015-05-13\",\"2015-05-14\",\"2015-05-15\",\"2015-05-16\",\"2015-05-18\",\"2015-05-19\",\"2015-05-20\",\"2015-05-21\",\"2015-05-22\",\"2015-05-25\",\"2015-05-26\",\"2015-05-27\",\"2015-05-29\",\"2015-05-30\",\"2015-05-31\",\"2015-06-01\",\"2015-06-03\",\"2015-06-04\",\"2015-06-05\",\"2015-06-06\",\"2015-06-07\",\"2015-07-24\",\"2015-07-26\",\"2015-08-01\",\"2015-08-04\",\"2015-08-06\",\"2015-08-07\",\"2015-08-08\",\"2015-08-20\",\"2015-08-22\",\"2015-08-23\",\"2015-08-25\",\"2015-08-26\",\"2015-08-28\",\"2015-08-29\",\"2015-08-30\",\"2015-09-04\",\"2015-09-06\",\"2015-09-08\",\"2015-09-09\",\"2015-09-11\",\"2015-09-13\",\"2015-10-02\",\"2015-10-05\",\"2015-10-06\",\"2015-10-07\",\"2015-10-09\",\"2015-11-07\",\"2015-11-10\",\"2015-11-11\",\"2015-11-14\",\"2015-11-15\",\"2015-11-18\",\"2015-11-19\",\"2015-11-21\",\"2015-11-24\",\"2015-11-25\",\"2016-01-29\",\"2016-01-30\",\"2016-01-31\",\"2016-02-03\",\"2016-02-04\",\"2016-02-05\",\"2016-02-07\",\"2016-02-08\",\"2016-02-09\",\"2016-02-11\",\"2016-02-12\",\"2016-02-13\",\"2016-03-10\",\"2016-03-12\",\"2016-03-15\",\"2016-03-17\",\"2016-03-18\",\"2016-03-19\",\"2016-04-19\",\"2016-04-21\",\"2016-04-23\",\"2016-04-25\",\"2016-04-26\",\"2016-04-29\",\"2016-06-02\",\"2016-06-04\",\"2016-06-09\",\"2016-06-11\",\"2016-06-12\",\"2016-06-14\",\"2016-06-15\",\"2016-06-16\",\"2016-06-17\",\"2016-06-29\",\"2016-07-01\",\"2016-07-02\",\"2016-07-03\",\"2016-07-04\",\"2016-07-05\",\"2016-07-08\",\"2016-07-09\",\"2016-07-11\",\"2016-07-14\",\"2016-07-15\",\"2016-08-27\",\"2016-08-28\",\"2016-08-31\",\"2016-09-02\",\"2016-09-03\",\"2016-09-04\",\"2016-09-08\",\"2016-09-10\",\"2017-07-29\",\"2018-07-12\",\"2018-07-15\",\"2018-07-20\",\"2018-07-21\",\"2018-07-22\",\"2018-08-18\",\"2018-08-19\",\"2018-09-18\",\"2018-09-24\",\"2018-09-25\",\"2018-10-12\",\"2018-10-13\",\"2018-10-14\",\"2019-05-02\",\"2019-05-03\",\"2019-05-05\",\"2019-05-06\",\"2019-05-07\",\"2019-05-11\",\"2019-05-25\",\"2019-05-31\",\"2019-06-02\",\"2019-06-05\",\"2019-06-08\",\"2019-06-24\",\"2019-06-26\",\"2019-07-26\",\"2019-07-27\",\"2019-07-30\",\"2019-07-31\",\"2019-08-02\",\"2019-08-07\",\"2019-08-08\",\"2019-08-09\",\"2019-08-10\",\"2019-08-13\",\"2019-08-21\",\"2019-08-22\",\"2019-08-23\",\"2019-08-24\",\"2019-08-25\",\"2019-10-04\",\"2019-10-07\",\"2019-10-08\",\"2019-10-11\",\"2020-03-09\",\"2020-03-10\",\"2020-03-11\",\"2020-03-13\",\"2020-03-19\",\"2020-03-20\",\"2020-04-16\",\"2020-04-18\",\"2020-04-23\",\"2020-04-25\",\"2020-04-28\",\"2020-06-02\",\"2020-06-03\",\"2020-06-06\",\"2020-06-08\",\"2020-06-09\",\"2020-06-11\",\"2020-07-17\",\"2020-07-19\",\"2020-07-20\",\"2020-07-21\",\"2020-07-23\",\"2020-07-24\",\"2020-07-25\",\"2020-07-28\",\"2020-07-30\",\"2020-08-01\",\"2020-08-03\",\"2020-08-05\",\"2020-09-10\",\"2020-09-11\",\"2020-09-12\",\"2020-09-21\",\"2020-12-05\",\"2020-12-08\",\"2020-12-10\",\"2020-12-13\",\"2020-12-14\",\"2020-12-16\",\"2020-12-19\",\"2021-03-19\",\"2021-03-20\",\"2021-03-21\",\"2021-07-22\",\"2021-09-04\",\"2021-09-07\",\"2021-09-10\",\"2021-09-12\",\"2021-09-15\",\"2021-09-17\",\"2021-09-18\",\"2021-09-20\",\"2021-09-23\",\"2021-09-25\",\"2021-09-28\",\"2021-10-31\",\"2021-11-02\",\"2021-11-03\",\"2021-11-05\",\"2021-11-07\",\"2021-11-08\",\"2021-11-09\",\"2021-11-12\",\"2021-11-17\",\"2021-11-20\",\"2021-12-05\",\"2021-12-07\",\"2021-12-09\",\"2021-12-12\",\"2021-12-13\",\"2021-12-15\",\"2021-12-18\",\"2022-02-26\",\"2022-03-03\",\"2022-03-07\",\"2022-03-09\"],\"festival_end_date\":[\"\",\"\",\"\",\"\",\"\",\"\",\"\",\"\",\"\",\"\",\"\",\"\",\"\",\"\",\"\",\"\",\"\",\"\",\"\",\"\",\"\",\"\",\"\",\"\",\"\",\"\",\"\",\"\",\"\",\"\",\"\",\"\",\"\",\"\",\"\",\"\",\"\",\"\",\"\",\"\",\"\",\"\",\"\",\"\",\"\",\"\",\"\",\"\",\"\",\"\",\"\",\"\",\"\",\"\",\"\",\"\",\"\",\"\",\"\",\"\",\"\",\"\",\"\",\"\",\"\",\"\",\"\",\"\",\"\",\"\",\"\",\"\",\"\",\"\",\"\",\"\",\"\",\"\",\"\",\"\",\"\",\"\",\"\",\"\",\"\",\"\",\"\",\"\",\"\",\"\",\"\",\"\",\"\",\"\",\"\",\"\",\"\",\"\",\"\",\"\",\"\",\"\",\"\",\"\",\"\",\"\",\"\",\"\",\"\",\"\",\"\",\"\",\"\",\"\",\"\",\"\",\"\",\"\",\"\",\"\",\"\",\"\",\"\",\"\",\"\",\"\",\"\",\"\",\"\",\"\",\"\",\"\",\"\",\"\",\"\",\"\",\"\",\"\",\"\",\"\",\"\",\"\",\"\",\"\",\"\",\"\",\"\",\"\",\"\",\"\",\"\",\"\",\"\",\"\",\"\",\"\",\"\",\"\",\"\",\"\",\"\",\"\",\"\",\"\",\"\",\"\",\"\",\"\",\"\",\"\",\"\",\"\",\"\",\"\",\"\",\"\",\"\",\"\",\"\",\"\",\"\",\"\",\"\",\"\",\"\",\"\",\"\",\"\",\"\",\"\",\"\",\"\",\"\",\"\",\"\",\"\",\"\",\"\",\"\",\"\",\"\",\"\",\"\",\"\",\"\",\"\",\"\",\"\",\"\",\"\",\"\",\"\",\"\",\"\",\"\",\"\",\"\",\"\",\"\",\"\",\"\",\"\",\"\",\"\",\"\",\"\",\"\",\"\",\"\",\"\",\"\",\"\",\"\",\"\",\"\",\"\",\"\",\"\",\"\",\"\",\"\",\"\",\"\",\"\",\"\",\"\",\"\",\"\",\"\",\"\",\"\",\"\",\"\",\"\",\"\",\"\",\"\",\"\",\"\",\"\",\"\",\"\",\"\",\"\",\"\",\"\",\"\",\"\",\"\",\"\",\"\",\"\",\"\",\"\",\"\",\"\",\"\",\"\",\"\",\"\",\"\",\"\",\"\",\"\",\"\",\"\",\"\",\"\",\"\",\"\",\"\",\"\",\"\",\"\",\"\",\"\",\"\",\"\",\"\",\"\",\"\",\"\",\"\",\"\",\"\",\"\",\"\",\"\",\"\",\"\",\"\",\"\",\"\",\"\",\"\",\"\",\"\",\"\"],\"festival_flag\":[\"Festival\",\"Festival\",\"Festival\",\"Concert\",\"Concert\",\"Concert\",\"Concert\",\"Festival\",\"Festival\",\"Concert\",\"Concert\",\"Concert\",\"Concert\",\"Concert\",\"Festival\",\"Concert\",\"Concert\",\"Concert\",\"Concert\",\"Concert\",\"Festival\",\"Festival\",\"Concert\",\"Festival\",\"Festival\",\"Concert\",\"Concert\",\"Festival\",\"Concert\",\"Concert\",\"Festival\",\"Concert\",\"Concert\",\"Concert\",\"Concert\",\"Concert\",\"Concert\",\"Concert\",\"Concert\",\"Concert\",\"Concert\",\"Concert\",\"Concert\",\"Concert\",\"Concert\",\"Concert\",\"Concert\",\"Festival\",\"Concert\",\"Concert\",\"Concert\",\"Festival\",\"Festival\",\"Festival\",\"Festival\",\"Festival\",\"Festival\",\"Concert\",\"Concert\",\"Concert\",\"Concert\",\"Festival\",\"Concert\",\"Concert\",\"Concert\",\"Festival\",\"Festival\",\"Concert\",\"Concert\",\"Concert\",\"Concert\",\"Concert\",\"Concert\",\"Concert\",\"Concert\",\"Festival\",\"Concert\",\"Concert\",\"Concert\",\"Concert\",\"Concert\",\"Festival\",\"Festival\",\"Concert\",\"Concert\",\"Concert\",\"Concert\",\"Concert\",\"Concert\",\"Concert\",\"Concert\",\"Concert\",\"Concert\",\"Concert\",\"Concert\",\"Concert\",\"Concert\",\"Concert\",\"Concert\",\"Concert\",\"Concert\",\"Concert\",\"Concert\",\"Concert\",\"Concert\",\"Festival\",\"Concert\",\"Concert\",\"Concert\",\"Concert\",\"Festival\",\"Concert\",\"Concert\",\"Concert\",\"Festival\",\"Concert\",\"Concert\",\"Concert\",\"Concert\",\"Concert\",\"Concert\",\"Concert\",\"Concert\",\"Concert\",\"Concert\",\"Concert\",\"Concert\",\"Concert\",\"Concert\",\"Concert\",\"Concert\",\"Concert\",\"Concert\",\"Concert\",\"Concert\",\"Concert\",\"Concert\",\"Concert\",\"Concert\",\"Concert\",\"Concert\",\"Concert\",\"Concert\",\"Concert\",\"Concert\",\"Concert\",\"Concert\",\"Concert\",\"Concert\",\"Concert\",\"Concert\",\"Concert\",\"Concert\",\"Concert\",\"Concert\",\"Concert\",\"Concert\",\"Concert\",\"Concert\",\"Concert\",\"Concert\",\"Concert\",\"Concert\",\"Concert\",\"Concert\",\"Concert\",\"Concert\",\"Concert\",\"Concert\",\"Concert\",\"Concert\",\"Concert\",\"Concert\",\"Concert\",\"Concert\",\"Concert\",\"Concert\",\"Concert\",\"Festival\",\"Festival\",\"Concert\",\"Concert\",\"Concert\",\"Festival\",\"Concert\",\"Concert\",\"Concert\",\"Concert\",\"Concert\",\"Concert\",\"Concert\",\"Concert\",\"Concert\",\"Concert\",\"Concert\",\"Concert\",\"Concert\",\"Festival\",\"Concert\",\"Festival\",\"Festival\",\"Concert\",\"Concert\",\"Concert\",\"Concert\",\"Concert\",\"Concert\",\"Festival\",\"Concert\",\"Festival\",\"Concert\",\"Concert\",\"Concert\",\"Concert\",\"Concert\",\"Festival\",\"Festival\",\"Concert\",\"Concert\",\"Concert\",\"Concert\",\"Concert\",\"Concert\",\"Concert\",\"Festival\",\"Concert\",\"Concert\",\"Festival\",\"Festival\",\"Festival\",\"Festival\",\"Festival\",\"Concert\",\"Concert\",\"Concert\",\"Concert\",\"Concert\",\"Concert\",\"Festival\",\"Concert\",\"Concert\",\"Festival\",\"Concert\",\"Concert\",\"Concert\",\"Concert\",\"Concert\",\"Festival\",\"Concert\",\"Concert\",\"Concert\",\"Concert\",\"Concert\",\"Concert\",\"Concert\",\"Concert\",\"Concert\",\"Concert\",\"Concert\",\"Concert\",\"Concert\",\"Concert\",\"Concert\",\"Concert\",\"Concert\",\"Concert\",\"Concert\",\"Concert\",\"Concert\",\"Concert\",\"Concert\",\"Concert\",\"Festival\",\"Festival\",\"Concert\",\"Concert\",\"Concert\",\"Concert\",\"Concert\",\"Concert\",\"Concert\",\"Concert\",\"Concert\",\"Festival\",\"Festival\",\"Concert\",\"Festival\",\"Concert\",\"Concert\",\"Concert\",\"Concert\",\"Concert\",\"Concert\",\"Concert\",\"Concert\",\"Festival\",\"Concert\",\"Festival\",\"Concert\",\"Concert\",\"Festival\",\"Concert\",\"Concert\",\"Concert\",\"Festival\",\"Concert\",\"Festival\",\"Concert\",\"Concert\",\"Concert\",\"Concert\",\"Concert\",\"Concert\",\"Concert\",\"Festival\",\"Festival\",\"Concert\",\"Concert\"],\"festival_start_date\":[\"\",\"\",\"\",\"\",\"\",\"\",\"\",\"\",\"\",\"\",\"\",\"\",\"\",\"\",\"\",\"\",\"\",\"\",\"\",\"\",\"\",\"\",\"\",\"\",\"\",\"\",\"\",\"\",\"\",\"\",\"\",\"\",\"\",\"\",\"\",\"\",\"\",\"\",\"\",\"\",\"\",\"\",\"\",\"\",\"\",\"\",\"\",\"\",\"\",\"\",\"\",\"\",\"\",\"\",\"\",\"\",\"\",\"\",\"\",\"\",\"\",\"\",\"\",\"\",\"\",\"\",\"\",\"\",\"\",\"\",\"\",\"\",\"\",\"\",\"\",\"\",\"\",\"\",\"\",\"\",\"\",\"\",\"\",\"\",\"\",\"\",\"\",\"\",\"\",\"\",\"\",\"\",\"\",\"\",\"\",\"\",\"\",\"\",\"\",\"\",\"\",\"\",\"\",\"\",\"\",\"\",\"\",\"\",\"\",\"\",\"\",\"\",\"\",\"\",\"\",\"\",\"\",\"\",\"\",\"\",\"\",\"\",\"\",\"\",\"\",\"\",\"\",\"\",\"\",\"\",\"\",\"\",\"\",\"\",\"\",\"\",\"\",\"\",\"\",\"\",\"\",\"\",\"\",\"\",\"\",\"\",\"\",\"\",\"\",\"\",\"\",\"\",\"\",\"\",\"\",\"\",\"\",\"\",\"\",\"\",\"\",\"\",\"\",\"\",\"\",\"\",\"\",\"\",\"\",\"\",\"\",\"\",\"\",\"\",\"\",\"\",\"\",\"\",\"\",\"\",\"\",\"\",\"\",\"\",\"\",\"\",\"\",\"\",\"\",\"\",\"\",\"\",\"\",\"\",\"\",\"\",\"\",\"\",\"\",\"\",\"\",\"\",\"\",\"\",\"\",\"\",\"\",\"\",\"\",\"\",\"\",\"\",\"\",\"\",\"\",\"\",\"\",\"\",\"\",\"\",\"\",\"\",\"\",\"\",\"\",\"\",\"\",\"\",\"\",\"\",\"\",\"\",\"\",\"\",\"\",\"\",\"\",\"\",\"\",\"\",\"\",\"\",\"\",\"\",\"\",\"\",\"\",\"\",\"\",\"\",\"\",\"\",\"\",\"\",\"\",\"\",\"\",\"\",\"\",\"\",\"\",\"\",\"\",\"\",\"\",\"\",\"\",\"\",\"\",\"\",\"\",\"\",\"\",\"\",\"\",\"\",\"\",\"\",\"\",\"\",\"\",\"\",\"\",\"\",\"\",\"\",\"\",\"\",\"\",\"\",\"\",\"\",\"\",\"\",\"\",\"\",\"\",\"\",\"\",\"\",\"\",\"\",\"\",\"\",\"\",\"\",\"\",\"\",\"\",\"\",\"\",\"\",\"\",\"\",\"\",\"\",\"\",\"\"],\"index\":[0,1,2,3,4,5,6,7,8,9,10,11,12,13,14,15,16,17,18,19,20,21,22,23,24,25,26,27,28,29,30,31,32,33,34,35,36,37,38,39,40,41,42,43,44,45,46,47,48,49,50,51,52,53,54,55,56,57,58,59,60,61,62,63,64,65,66,67,68,69,70,71,72,73,74,75,76,77,78,79,80,81,82,83,84,85,86,87,88,89,90,91,92,93,94,95,96,97,98,99,100,101,102,103,104,105,106,107,108,109,110,111,112,113,114,115,116,117,118,119,120,121,122,123,124,125,126,127,128,129,130,131,132,133,134,135,136,137,138,139,140,141,142,143,144,145,146,147,148,149,150,151,152,153,154,155,156,157,158,159,160,161,162,163,164,165,166,167,168,169,170,171,172,173,174,175,176,177,178,179,180,181,182,183,184,185,186,187,188,189,190,191,192,193,194,195,196,197,198,199,200,201,202,203,204,205,206,207,208,209,210,211,212,213,214,215,216,217,218,219,220,221,222,223,224,225,226,227,228,229,230,231,232,233,234,235,236,237,238,239,240,241,242,243,244,245,246,247,248,249,250,251,252,254,255,256,257,258,259,260,261,262,263,264,265,266,267,268,269,270,271,272,273,274,275,276,277,278,279,280,281,282,283,284,285,287,288,289,290,291,292,293,294,295,296,297,298,299,300,301,302,303,304,305,306,307,308,309,310,311,312,313,314,315,316,317,318,319],\"latitude\":{\"__ndarray__\":\"jnl4KjvcQECq/2Js19ZAQI55eCo73EBAx0YgXtfnQsCWd9UD5vFAwLpqniPyeTvA1Kk8yz3KP8Ao9PqT+LREQFS3aSIiikdA0xQBTu/CRkDzr0BPXq1IQPBPqRJl50JAg9pv7UQHQUC3XKIfsltAQKuzWmCPwUFAfA3BcRnhQEBAoDNpU8VCQHjxftx++0NA0hvuI7e+SUCUF5mAX29IQJS9pZwvQktATmIQWDl8SUBJKlPMQcZFQAAAAAAAwEdAIR/0bFb1TUCH6pxVVdVLQHmT36KTsUdAQhn070Q4SkC/nq9ZLvlLQCcUIuAQrEpAyCQjZ2HvSkDZzCGphWJEQNnMIamFYkRAfUM8bej6Q0CfknNiD5tDQA4yychZUENAeF+VC5WJRUDNzMzMzOxEQLTXcbLDjENAzJntCn1iQEBRyIROvuk2wA7VOauqqjlAdCSX/5BuM0C4WFGDaQJEQHLfap243kNAVg+Yh0wPQUCNvXIYJwVBQOiHEcKj40JAZfuQt1w3QUB4vvrToc9HQLaLxF/uwkZAtovEX+5uQsDhC5OpggE8wGyXNhyW5ELAIQVPIVfsQMBG4i93d3dBwJAty9dlvD/A8s02N6b/P8C8OzJWm99JQC3NrRBWEUlAjliLTwEQSECamZmZmRlMQAU0ETY8vUpAxZCcTNw8SkDtUAO8u3tKQGiwqfOoLEpADRmPUgkxSkDtUAO8uztKQLBVgsXhY0RAsFWCxeFjREBrYoGv6AJBQOCBAYQPD0JA8E+pEmXnQkDwT6kSZedCQGZmZmZmZhJA4+Ko3ES7QMC9p3LaU75KQL3Fw3sOzElAcuFASBaQN8CSA3Y1eUpCwAq9/iQ+B0FAmboru2DcQECZuiu7YNxAQLDZ23dWRD5A6x7ZXDXzPUAw62qX299AQBnlmZfDFEJA2B1B4Dd9RkC21rxP+oRFQD8fZcQF/ERApoEf1bD/Q0COohhqXj5FQFlMbD6u00VAJrxONFnBRkAuqBTgYMFGQKxIlt3dLUVAVLdpIiKKR0CD65tFOaVIQE2DonkAw0ZAcLIN3IFiREB5IR0ewt5DQHCX/brTh0NAgjy7fOtTQ0BUdCSX/zhEQIKN69/1v0RApTLFHASNQ0C9IlOZvXVDQDUyftBpW0RApRMJppqlPMBmZmZmZqY8wDRHVn4Z8ERAvJLkub5fQEByEu+llQtBQHIS76WVC0FAgtskUA7iQkBPxMfMqtlEQEbiL3d3d0lAmpmZmZk5SkCKAn0iTyJGQCLeOv926URAWhh9YCK5RkAhhDbv7q5HQDv/dtmva0hAGFxzR//VTEBxPQrXoxBKQCy8y0V87UtAaXQHsTO1SkBG4i93d1dJQFS3aSIiQkpABI9v7xpEPkA+j/bkBvtDQIquCz84YURA0T/BxYpiRECxkBTsGkQ+QMudmWA46ULAg92wbVHuQMAkDtlAuu5AwIzEX+7u7j/AjMRf7u7uP8A7BVSTO3ZBwDsFVJM7dkHAd4cUAyR6O8C4cTBAR3JCwJ1jQPZ6b0TA5W7GH/snSkAqq+l6omdJQFOVtrjGcUhANlt5yf/WS0CH6pxVVfVNQEwZOKClpU1AZmZmZmbGSkBUq6+uCj5KQEbiL3d3d0lAvady2lO+SkDDtkWZDcxJQAAAAAAAwElAZmZmZmZmEkAlXvmHiIg3wJqZmZmZGSjA1Gb3PxtWQcAzMzMzM0tBwJqZmZmZuUDA2yOKf45RNkD1jZ4RW7D0P2+ozllVVQlASOF6FK7XQUCH6pxVVVVBQKHhg42hshjA33vJEBGxRED1396QoapKQLjoZKn1vEFAJxHhXwTPRUCakxeZgL9GQKnYmNcRVURAqdiY1xFVREAKStHKvZpDQDM334jul0NA/pyC/GxCS0CzsRLzrNBLQJULlX8tfElAvfYWIBvSR0BL4lHPJ+FGQO1QA7y7u0ZAnN7F+3FZQ0AAAAAAAKBFQFJsu78w9T9ALZYi+UroSEDgMNEgBd1JQG5PkNjuAUFASilDsAXDRkBoZbEDnd5DQJHBQMaS70JAkcFAxpLvQkA/qmG/J85HQHoCvGDLZjNADtU5q6qqOUDQdMC/Um5EQFpkO99PNURA/5gxYCTESUBkusYdJfFEQOsIOyBk2D1A6wg7IGTYPUBI4XoUrtdBQIfqnFVVVUFA70rcdBXFSUDvStx0FcVJQO9K3HQVxUlAhKLUuf3RQUCluboI+OZCQH9tWK4S50JA0jdpGhQWQkAkXCPdKsxBQAUmgRfH4kBA4Dk56LfmPUCbc/BMaMo5QFfX/FMFrDRAnLaQkf0tRUCEgefew7FEQO0NvjCZbkhACWtj7ITZTECXUpeMY8BJQJvkR/yK40pA3EjZImmtSkDtqCD1jdBFQPPgk/NqKkVAb0ijAid9RkBvSKMCJ31GQKUiX1Mx8URAh+qcVVX1TUCH6pxVVfVNQIfqnFVV9U1Ah+qcVVX1TUDdcj/xrTpKQLgrqjQYYERAuCuqNBhgREA5w8Nq4vlDQHsnCwSmcENAeycLBKZwQ0B8uU+OAkQ+QB+DFada40NAH4MVp1rjQ0B8uU+OAkQ+QHLChNGsYEBAt5vgm6b6QEC3m+CbpvpAQDpY/+cw40JAQi28gbhnM0CH/gkuVtQ8QBrmBG1ybELAgH106sp3O8DSXcjZKulCwN3Sakjcc0HAGmoUkszyP8BBCwkYXdJFQJqTF5mAv0ZA+7K0U3NzQ0Dc9wN50ZxBQB1aZDvf30BAcgwS7AnIOUAFNBE2PHlGQLdot0w8UENAj7QKUXSMQ0Bq+BbWjRNCQBvYKsHiRj5ASIjyBS1lQEDDIWXVMcA9QHMs76oHxEBAuAFEZtPfQ0AYPiKmRGJEQMQHdvwXxEZAOFSdH5CjSEBCLbyBuGczQC457pQOpjRAvHSTGATGOUA6WP/nMONCQBrmBG1ybELAgH106sp3O8C7cZwlEuxAwNJdyNkq6ULA0l3I2SrpQsDd0mpI3HNBwBpqFJLM8j/AQi28gbhnM0AuOe6UDqY0QC457pQOpjRAQi28gbhnM0BolgSoqb1BQK3x43m68ERAQR2gRQCMR0DEB3b8F8RGQDpY/+cw40JATjbU3pYVQkBzLO+qB8RAQAu45/nT30NA+7K0U3NzQ0CqmiDqPpRDQE7yI37F4EBAW256YXziQkDE6SRbXQ5BQMTpJFtdDkFA8uIO5VWvPUCdlmlF5UY+QJHKXgAryT1ASIjyBS1lQEBi26LMBlE2QM9J7xtfuzRAHiT6a2hnM0Aa5gRtcmxCwLtxnCUS7EDAgH106sp3O8DSXcjZKulCwNJdyNkq6ULA3dJqSNxzQcAaahSSzPI/wGtVXGYit0BAB3x+GCFcO0DdRfNbzzhEQEELCRhd0kVA\",\"dtype\":\"float64\",\"order\":\"little\",\"shape\":[318]},\"lineup\":[[\"Tame Impala\",\"The Airborne Toxic Event\",\"Eric Prydz\",\"Roni Size\",\"Parov Stelar\",\"Grimes\",\"Dinosaur Jr.\",\"MiMoSA\",\"Unicorn Kid\",\"The Faint\",\"Dead Can Dance\",\"White Arrows\",\"Deep Vally\",\"Jamie Jones\",\"Father John Misty\",\"The Three O'Clock\",\"Jessie Ware\",\"Alex Clare\",\"Ladies Night\",\"JEFF the brotherhood\",\"Maya Jane Coles\",\"Tanlines\",\"Robert DeLong\",\"Raider Klan  \",\"Cloud Nothings\",\"James McCartney\",\"Rodriguez\",\"Wild Belle\",\"Paul Kalkbrenner\",\"Pretty Lights\",\"La Roux\",\"James Blake\",\"Thee Oh Sees\",\"Excision\",\"Paul Oakenfold\",\"Orchestral Manoeuvres in the Dark\",\"Hanni El Khatib\",\"The Lumineers\"],[\"Tame Impala\",\"Mona\",\"Alt-J\",\"Social Distortion\",\"Paul Oakenfold\",\"Hot Chip\",\"Dynamite MC\",\"Orchestral Manoeuvres in the Dark\",\"Adrian Lux\",\"Action Bronson\",\"3BallMTY\",\"Kurt Vile\",\"Selector\",\"Metric\",\"Julio Bashmore\",\"Moby\",\"Grizzly Bear\",\"Richie Hawtin\",\"The Evens\",\"DIIV\",\"Coachella Music Festival\",\"Shovels and Rope\",\"Tim Mason\",\"Hanni El Khatib\",\"Phoenix\",\"The Selecter\",\"VINTAGE TROUBLE\",\"Allen Stone\",\"Vampire Weekend\",\"Alex Clare\",\"JEFF the brotherhood\",\"The xx\",\"Tanlines\",\"Fedde Le Grand\",\"Stanton Warriors\",\"Bat for Lashes\",\"Ladies Night\",\"Huoratron\",\"The Make-Up\",\"Spiritualized\",\"Ben Howard\",\"Raider Klan  \",\"Little Green Cars\",\"Wild Nothing\",\"The 2 Bears\",\"Two Door Cinema Club\",\"Kids These Days\",\"You Me & Us\",\"Nick Cave & The Bad Seeds\",\"James Blake\",\"La Roux\",\"James McCartney\",\"Zane Lowe\",\"Thee Oh Sees\",\"Simian Mobile Disco\",\"Wu-Tang Clan\",\"Violent Femmes\",\"Caf\\u00e9 Tacuba\",\"Paul Kalkbrenner\",\"Wild Belle\",\"Pretty Lights\",\"Guards\",\"Father John Misty\",\"Savages\",\"Neighbourhood\",\"MTS on TOUR\",\"McDevitt Taco Supply\",\"Reignwolf\",\"Jessie Ware\",\"The Three O'Clock\",\"Franz Ferdinand\",\"Puscifer\",\"The Airborne Toxic Event\",\"Eric Prydz\",\"Trash Talk\",\"Roni Size\",\"Janelle Monae\",\"Theophilus London\",\"Yeasayer\",\"Major Lazer\",\"Danny Brown\",\"Red Hot Chili Peppers\",\"DESCENDENTS\",\"Portugal. The Man\",\"Birdy Nam Nam\",\"MiMoSA\",\"The Faint\",\"New Order\",\"El-P\",\"Dead Can Dance\",\"Grimes\",\"Dub FX\",\"Unicorn Kid\",\"Smith Westerns\",\"White Arrows\"],[\"Tame Impala\",\"Vampire Weekend\",\"Ladies Night\",\"Maya Jane Coles\",\"Alex Clare\",\"JEFF the brotherhood\",\"Tanlines\",\"Cloud Nothings\",\"Raider Klan  \",\"Robert DeLong\",\"Grimes\",\"The Faint\",\"Dead Can Dance\",\"Unicorn Kid\",\"White Arrows\",\"Deep Vally\",\"Red Hot Chili Peppers\",\"Dinosaur Jr.\",\"MiMoSA\",\"The Airborne Toxic Event\",\"Eric Prydz\",\"Roni Size\",\"Parov Stelar\",\"The Three O'Clock\",\"Jamie Jones\",\"Jessie Ware\",\"Father John Misty\",\"Rodriguez\",\"Wild Belle\",\"James Blake\",\"James McCartney\",\"Thee Oh Sees\",\"Excision\",\"Nick Cave & The Bad Seeds\",\"Pretty Lights\",\"La Roux\",\"Wu-Tang Clan\",\"Paul Kalkbrenner\",\"Hanni El Khatib\",\"The Lumineers\",\"Paul Oakenfold\",\"Orchestral Manoeuvres in the Dark\"],[\"Tame Impala\",\"Midnight Juggernauts\"],[\"Tame Impala\"],[\"Tame Impala\",\"Rebel FM Gig Pig\"],[\"Tame Impala\",\"Midnight Juggernauts\"],[\"Tame Impala\",\"Fred i Son\",\"Extraperlo\",\"Dead Skeletons\",\"Matthew E. White\",\"Wild Balbina\",\"Liars\",\"Simian Mobile Disco\",\"Wu-Tang Clan\",\"Phosphorescent\",\"Mount Eerie\",\"Adam Green and Binki Shapiro\",\"James Blake\",\"Las Tocayas\",\"Solange\",\"Meat Puppets\",\"Nick Cave & The Bad Seeds\",\"Ghostigital\",\"Rodriguez\",\"Dope Body\",\"Jozef Van Wissem & Jim Jarmusch \",\"Disclosure\",\"Dexys and Dexys Midnight Runners\",\"Thee Oh Sees\",\"Poolside\",\"Coriol\\u00e0\",\"Hot Chip\",\"Neko Case\",\"The Breeders\",\"La Brigada\",\"Hal Flavin\",\"Django Django\",\"Orchestre Poly-Rythmo de Cotonou\",\"Aliment\",\"Roll The Dice\",\"Blue Willa\",\"Hidrogenesse\",\"Metz\",\"How To Dress Well\",\"The Bots\",\"Jupiter Lion\",\"Gaurds\",\"Local Natives\",\"Christopher Owens\",\"Degreaser\",\"Fucked Up\",\"honeybird & the birdies\",\"Manel\",\"Omar Souleyman\",\"DIIV\",\"Carles Viarn\\u00e8s\",\"The Jesus and Mary Chain\",\"Jackmaster\",\"Goat\",\"Bored Spies\",\"Daphni\",\"Grizzly Bear\",\"Neurosis\",\"Do Make Say Think\",\"Fuck Buttons\",\"sean nicholas savage\",\"Kurt Vile\",\"L'hereu escampa\",\"The Vaccines\",\"Evans the Death\",\"Glass Candy\",\"The Babies\",\"King Tuff\",\"Ethan Johns\",\"Toundra\",\"DJ COCO\",\"Melody's Echo Chamber\",\"The Suicide of Western Culture\",\"Delorean\",\"Killer Mike\",\"Titus Andronicus\",\"Los Planetas\",\"The Ringo Jets\",\"Betunizer\",\"Ant\\u00f2nia Font\",\"Guardian Alien\",\"Mac DeMarco\",\"Wild Nothing\",\"Phoenix\",\"Om\",\"Bob Mould\",\"Apparat\",\"Mulatu Astatq\\u00e9\",\"Wound\",\"Shellac\",\"El Inquilino Comunista\",\"Daughn Gibson\",\"Moonflower\",\"Merchandise\",\"John Talabot\",\"Band of Horses\",\"Dinosaur Jr.\",\"Dan Deacon\",\"Hot Snakes\",\"Tinariwen\",\"Guadalupe Plata\",\"Paus\",\"La Bien Querida\",\"Tarantula\",\"Pony Bravo\",\"the magician\",\"Four Tet\",\"WHITE FENCE\",\"The Knife\",\"Crystal Castles\",\"Dead Can Dance\",\"Savages\",\"She And Him\",\"The Free Fall Band\",\"Rodriquez\",\"Jessie Ware\",\"Nurse\",\"Wilhelm\",\"Nils Frahm\",\"Adam Green\",\"My Bloody Valentine\",\"Daniel Johnston\",\"The Sea and Cake\"],[\"Tame Impala\",\"Bloc Party\",\"Grimes\",\"Shad\",\"Danny Brown\",\"Arctic Monkeys\",\"El-P\",\"Sigur R\\u00f3s\",\"Azealia Banks\",\"Ab-Soul\",\"The Tallest Man on Earth\",\"Father John Misty\",\"Jenny Slate\",\"Brett Gelman\",\"Macklemore\",\"Imagine Dragons\",\"Death Grips\",\"Alt-J\",\"Joe Mande\",\"The Lumineers\",\"Devendra Banhart\",\"Ryan Lewis\",\"Primus\",\"Kyle Kinane\",\"Nick Offerman\",\"Black Rebel Motorcycle Club\",\"Earl Sweatshirt\",\"Vampire Weekend\",\"James Adomian\",\"Killer Mike\",\"Brody Stevens\",\"SchoolBoy Q\"],[\"Tame Impala\",\"Jonathan Wilson\"],[\"Tame Impala\",\"Jonathan Wilson\"],[\"Tame Impala\",\"Jonathan Wilson\"],[\"Tame Impala\"],[\"Tame Impala\",\"Jonathan Wilson\"],[\"Tame Impala\",\"Dirty Projectors\",\"Four Tet\",\"The Sheepdogs\",\"Aoife O'Donovan\",\"Nas\",\"Ariel Pink\",\"The Tallest Man on Earth\",\"Cat Power\",\"Trombone Shorty & Orleans Avenue\",\"ARAABMUZIK\",\"Nicki Bluhm\",\"Holy Ghost!\",\"The Del McCoury Band\",\"Mumford and Sons\",\"Charli XCX\",\"Big K.R.I.T.\",\"MTS on TOUR\",\"Father John Misty\",\"Billy Idol\",\"JEFF the brotherhood\",\"Wilco\",\"Killer Mike\",\"Paper Diamond\",\"Bonnaroo\",\"The xx\",\"The Vaccines\",\"Beach House\",\"ZZ Top\",\"Daniel Tosh\",\"Futurebirds\",\"Wild Nothing\",\"Amadou & Mariam\",\"Clockwork\",\"twenty one pilots\",\"Earl Sweatshirt\",\"Action Bronson\",\"Macklemore\",\"\\\"Weird Al\\\" Yankovic\",\"ASAP Rocky\",\"Grizzly Bear\",\"Conspirator\",\"Sea Wolf\",\"Jason Isbell\",\"Mike Birbiglia\",\"Local Natives\",\"Death Grips\",\"Ryan Lewis\",\"Lee Fields & The Expressions\",\"Zigaboo Modeliste\",\"The Lumineers\",\"John McLaughlin & the 4th Dimension\",\"Cults\",\"Purity Ring\",\"Django Django\",\"John Fullbright\",\"Gov't Mule\",\"Sam Bush\",\"Kendrick Lamar\",\"Ed Helms\",\"Pretty Lights\",\"Bj\\u00f6rk\",\"Wu-Tang Clan\",\"Tom Petty and The Heartbreakers\",\"Deap Vally\"],[\"Tame Impala\"],[\"Tame Impala\",\"Fascinator\"],[\"Tame Impala\",\"Light Heat\"],[\"Tame Impala\"],[\"Tame Impala\",\"Melody's Echo Chamber\"],[\"Tame Impala\",\"Vienio\",\"Fismoll\",\"\\u00d6szibarack\",\"Palma Violets\",\"Savages\",\"domowe melodie\",\"Mikromusic\",\"\\u0141\\u0105ki \\u0141an\",\"Drekoty\",\"Arctic Monkeys\",\"Crystal Castles\",\"Rykarda Parasol\",\"Please the Trees\",\"Nas\",\"These New Puritans\",\"The National\",\"Matisyahu\",\"Jonny Greenwood\",\"Transmisja\",\"Peter J. Birch\",\"Ifi Ude\",\"Crystal Fighters\",\"Pianohooligan\",\"Hey\",\"Kaliber 44\",\"Magnificent Muttley\",\"Novika\",\"Disclosure\",\"REBEKA\",\"Maria Peszek\",\"Animal Collective\",\"Nick Cave & The Bad Seeds\",\"Skunk Anansie\",\"Mount Kimbie\",\"Junip\",\"Kendrick Lamar\",\"NON-HUMAN PERSONS\",\"Hot Casandra\",\"Kings of Leon\",\"Vavamuffin\",\"Ras Luta\",\"Plum\",\"Alt-J\",\"semantik punk\",\"Kixnare\",\"Everything Everything\",\"hipiersoniK\"],[\"Tame Impala\",\"Rammstein\",\"Band of Horses\",\"Azealia Banks\",\"Graveyard\",\"The Gaslight Anthem\",\"Passenger\",\"Richard Hawley\",\"Kings of Leon\",\"The Script\",\"Laura Mvula\",\"Alt-J\",\"Jake Bugg\",\"The Bots\",\"The Lumineers\",\"Django Django\",\"Editors\",\"Rudimental\",\"Disclosure\",\"Tom Odell\",\"Kendrick Lamar\",\"Gogol Bordello\",\"Depeche Mode\",\"Biffy Clyro\",\"Gary Clark Jr.\",\"John Legend\",\"A Day To Remember\",\"Jonathan Jeremiah\",\"Ben Howard\",\"Two Door Cinema Club\"],[\"Tame Impala\"],[\"Tame Impala\",\"MiXendorp\",\"\\u010canki\\u0161ou\",\"Warsaw Village Band\",\"Alex Clare\",\"Oscar Mulero\",\"Blaudzun\",\"Erol Alkan\",\"Balthazar\",\"Skip & Die\",\"Microfeel\",\"Triggerfinger\",\"Peter Bjorn and John\",\"Biffy Clyro\",\"Mystery Jets\",\"Deichkind\",\"Katy B\",\"Regina Spektor\",\"Booka Shade\",\"Timbuktu\",\"!!!\",\"Donots\",\"Die \\u00c4rzte\",\"\\u041b\\u0435\\u043d\\u0438\\u043d\\u0433\\u0440\\u0430\\u0434\",\"Linea 77\",\"Afterhours\",\"Michael Kiwanuka\",\"jozif\",\"\\u0414\\u0430\\u0445\\u0430\\u0411\\u0440\\u0430\\u0445\\u0430\",\"Flogging Molly\",\"Wax Tailor\",\"Baltic Balkan\",\"Shutka Roma Rap\",\"Splendid\",\"S\\u00f6nd\\u00f6rg\\u0151\",\"Dry The River\",\"Everything Everything\",\"Left Boy\",\"The Bots\",\"Mika\",\"Editors\",\"Calexico\",\"Nero\",\"Nneka\",\"Hoffmaestro\",\"Woodkid\",\"The Cribs\",\"Seeed\",\"Netsky\",\"Nick Cave & The Bad Seeds\",\"Skunk Anansie\",\"Rachid Taha\",\"Ruta\",\"Little Boots\",\"D.O.P.\",\"ZAZ\",\"Mokoomba\",\"Tako Lako\",\"Iori's Eyes\",\"Rangleklods\",\"La Pegatina\",\"Vojasa\",\"Boys Noize\",\"Rubik\",\"Chuckie\",\"Monophona\",\"Besh o droM\",\"Dub FX\",\"Guy J\",\"Enter Shikari\",\"Franz Ferdinand\",\"The Gaslight Anthem\",\"Pannonia Allstars Ska Orchestra\",\"Figli di Madre Ignota\",\"Daily Bread\",\"Parno Graszt\",\"The Joy Formidable\"],[\"Tame Impala\",\"Grimes\",\"The Knife\",\"Cat Power\",\"Black Debbath\",\"Skaters\",\"Monica Heldal\",\"Okkultokrati\",\"Angel Haze\",\"Azealia Banks\",\"John Talabot\",\"Danny Brown\",\"Sandra Kolstad\",\"Drape\",\"Kvelertak\",\"Pissed Jeans\",\"Of Monsters and Men\",\"Nils Bech\",\"James Blake\",\"Rodriguez\",\"Solange\",\"Kraftwerk\",\"Kendrick Lamar\",\"Uncle Acid & The Deadbeats\",\"Disclosure\",\"Alabama Shakes\",\"RAZIKA\",\"Mount Kimbie\",\"krafwerk\",\"Local Natives\",\"Goat\",\"Lemaitre\",\"Rebekka Karijord\",\"BLOOD COMMAND\",\"Godspeed You! Black Emperor\",\"Metz\",\"Beach House\",\"Electric Wizard\",\"Carmen Villain\",\"TRULS\",\"TONES\",\"John Olav Nilsen & Gjengen\",\"Andre Bratten\",\"Atlanter\"],[\"Tame Impala\"],[\"Tame Impala\",\"Tripwires\"],[\"Tame Impala\",\"Baauer\",\"Band of Horses\",\"Moderat\",\"De Jeugd van Tegenwoordig\",\"Bullet for My Valentine\",\"Ben Pearce\",\"Nine Inch Nails\",\"Bat for Lashes\",\"Biffy Clyro\",\"Seasick Steve\",\"hurts\",\"Crystal Water\",\"Bombino\"],[\"Tame Impala\"],[\"Tame Impala\"],[\"Tame Impala\",\"Rob Delaney\",\"Fuck Buttons\",\"Imagine Dragons\",\"EarlWolf\",\"The Strypes\",\"ASAP Rocky\",\"Action Bronson\",\"itch\",\"Fall Out Boy\",\"The Living End\",\"Ms. Dynamite\",\"Duologue\",\"Villagers\",\"Thumpers\",\"Twin Atlantic\",\"P-Money\",\"The Computers\",\"Hacktivist\",\"Katherine Ryan\",\"The Lumineers\",\"Knife Party\",\"Brand New\",\"Editors\",\"Arcane Roots\",\"Johnny Marr\",\"Skrillex\",\"Paul Chowdhry\",\"David Rodigan\",\"Jacob Plant\",\"Pure Love\",\"Charlie Boyer & The Voyeurs\",\"Seann Walsh\",\"Azealia Banks\",\"The Virginmarys\",\"Temples\",\"RedLight\",\"Feed The Rhino\",\"Andrew O'Neill\",\"Palma Violets\",\"Mallory Knox\",\"The Creepshow\",\"Post War Years\",\"Josh Widdicombe\",\"Savages\",\"Uncle Acid & The Deadbeats\",\"Mount Kimbie\",\"Findlay\",\"Half Moon Run\",\"Hawkeyes\",\"Darwin Deez\",\"SWIM DEEP\",\"System of a Down\",\"New Found Glory\",\"Chase & Status\",\"Kodaline\",\"Drenge\",\"Deap Vally\",\"Fenech\",\"Frankie & The Heartstrings\",\"anti vigilante\",\"White Lies\",\"Wiley\",\"Magnetic Man\",\"Wavves\",\"P Money\",\"Mic Righteous\",\"Alex Clare\",\"The Family Rain\",\"Modestep\",\"The 1975\",\"Biffy Clyro\",\"Chapel Club\",\"Nine Inch Nails\",\"British Sea Power\",\"Flux Pavilion\",\"Giggs\",\"Wretch 32\",\"Jeffrey Lewis\",\"Russell Kane\",\"The Pretty Reckless\",\"Parquet Courts\",\"Twisted Wheel\",\"China Rats\",\"The Jim Jones Revue\",\"Lucy Rose\",\"Toddla T\",\"Theme Park\"],[\"Tame Impala\",\"The Ghost of a Saber Toothed Tiger\",\"The Flaming Lips\"],[\"Tame Impala\",\"The Ghost of a Saber Toothed Tiger\",\"The Flaming Lips\"],[\"Tame Impala\",\"The Ghost of a Saber Toothed Tiger\",\"The Flaming Lips\"],[\"Tame Impala\",\"The Flaming Lips\",\"The Ghost of a Saber Toothed Tiger\"],[\"Tame Impala\",\"White Denim\"],[\"Tame Impala\",\"White Denim\"],[\"Tame Impala\",\"White Denim\"],[\"Tame Impala\",\"The National\"],[\"Tame Impala\"],[\"Tame Impala\",\"Rio Web Rock\"],[\"Tame Impala\"],[\"Tame Impala\"],[\"Tame Impala\",\"White Denim\"],[\"Tame Impala\",\"White Denim\"],[\"Tame Impala\",\"The Flaming Lips\",\"White Denim\"],[\"Tame Impala\"],[\"Tame Impala\",\"White Denim\",\"Matt Haze\",\"Motion Potion\",\"The Flaming Lips\",\"Silent Disco\"],[\"Tame Impala\",\"The Flaming Lips\"],[\"Tame Impala\",\"Foals\"],[\"Tame Impala\",\"Vampire Weekend\",\"Lorde\",\"December To Remember\"],[\"Tame Impala\",\"The Lumineers\",\"Steve Angello\",\"Mudhoney\",\"DIIV\",\"Blur\",\"SJD\",\"The Naked and Famous\",\"Clap Clap Riot\",\"MAC MILLER\",\"Pearl Jam\",\"Snoop Lion\",\"The Hives\",\"Beady Eye\",\"The 1975\",\"P Money\",\"Ladi 6\"],[\"Tame Impala\",\"Grouplove\",\"Pearl Jam\",\"Beady Eye\",\"The 1975\",\"Bo Ningen\",\"The Hives\",\"Cosmic Psychos\",\"MAC MILLER\",\"The Naked and Famous\",\"Mudhoney\",\"The Lumineers\",\"Steve Angello\",\"DIIV\",\"NORTHLANE\",\"Pez\",\"Toro\",\"The Algorithm\",\"Arcade Fire\",\"Flosstradamus\",\"Major Lazer\",\"Dillon Francis\",\"Blur\"],[\"Tame Impala\",\"Beady Eye\",\"The 1975\",\"The Hives\",\"Bo Ningen\",\"Pearl Jam\",\"Grouplove\",\"Flosstradamus\",\"Major Lazer\",\"Toro\",\"Pez\",\"Arcade Fire\",\"Blur\",\"Cosmic Psychos\",\"The Naked and Famous\",\"MAC MILLER\",\"DIIV\",\"NORTHLANE\",\"Steve Angello\",\"Mudhoney\",\"The Lumineers\"],[\"Tame Impala\",\"MAC MILLER\",\"Cosmic Psychos\",\"The Naked and Famous\",\"DIIV\",\"Steve Angello\",\"NORTHLANE\",\"Mudhoney\",\"The Lumineers\",\"The 1975\",\"Beady Eye\",\"Bo Ningen\",\"The Hives\",\"Pearl Jam\",\"Pez\",\"Toro\",\"Blur\"],[\"Tame Impala\",\"MAC MILLER\",\"Cosmic Psychos\",\"The Naked and Famous\",\"The Jungle Giants\",\"Steve Angello\",\"DIIV\",\"NORTHLANE\",\"The Lumineers\",\"Mudhoney\",\"Pearl Jam\",\"Grouplove\",\"Beady Eye\",\"Bo Ningen\",\"The Hives\",\"The 1975\",\"Vista Chino\",\"Dillon Francis\",\"Blur\",\"Major Lazer\",\"Toro\",\"Pez\",\"Flosstradamus\",\"Arcade Fire\",\"The Algorithm\"],[\"Tame Impala\",\"Grouplove\",\"Bo Ningen\",\"Pearl Jam\",\"Beady Eye\",\"The 1975\",\"The Hives\",\"MAC MILLER\",\"Cosmic Psychos\",\"The Naked and Famous\",\"Pez\",\"Toro\",\"Flosstradamus\",\"Arcade Fire\",\"Dillon Francis\",\"The Lumineers\",\"DIIV\",\"Mudhoney\",\"Steve Angello\"],[\"Tame Impala\"],[\"Tame Impala\"],[\"Tame Impala\"],[\"Tame Impala\"],[\"Tame Impala\",\"Factory Floor\",\"NEON JUNGLE\",\"Duke Dumont\",\"Soul II Soul\",\"Robert Hood\",\"Ed Sheeran\",\"Wilkinson\",\"Ben Howard\",\"Dolomite Minor\",\"Katy B\",\"Earl Sweatshirt\",\"Magda\",\"Julio Bashmore\",\"Alex Smoke\",\"John Newman\",\"Pharrell Williams\",\"Manic Street Preachers\",\"Sophie Ellis-Bextor\",\"Reverend and The Makers\",\"Skream\",\"The Magic Numbers\",\"Embrace\",\"Guy Gerber\",\"The Human League\",\"Sven V\\u00e4th\",\"Royal Blood\",\"Twin Atlantic\",\"Jake Bugg\",\"Nina Nesbitt\",\"Ellie Goulding\",\"George Ezra\",\"Drenge\",\"Tinie Tempah\",\"Pixies\",\"Kaiser Chiefs\",\"The Rifles\",\"DJ Fresh\",\"Red Hot Chilli Pipers\",\"Chance The Rapper\",\"Paolo Nutini\",\"The Twilight Sad\",\"Franz Ferdinand\",\"Elbow\",\"Newton Faulkner\",\"Passenger\",\"Ella Eyre\",\"Mark-Henning\",\"Joris Voorn\",\"Len Faki\",\"George Fitzgerald\"],[\"Tame Impala\"],[\"Tame Impala\"],[\"Tame Impala\"],[\"Tame Impala\",\"Sohn\",\"Courts\",\"Tinariwen\",\"Conor Oberst and the Mystic Valley Band\",\"Latitude\",\"Temples\",\"James\",\"Anna Calvi\",\"Ob\\u00e9l\",\"Editors\",\"Billy Bragg\",\"Agnes\",\"Mogwai\",\"The War on Drugs\",\"Goat\",\"George Ezra\",\"Kelis\",\"Slowdrive\"],[\"Tame Impala\",\"Spring King\",\"Dan Shake\",\"Rhodes\",\"Ibibio sound machine\",\"Kelis\",\"Miles Hunt\",\"Leon Vynehall\",\"BADBADNOTGOOD\",\"Parquet Courts\",\"Eagulls\",\"Two Door Cinema Club\",\"Anna Calvi\",\"James\",\"Eaves\",\"Childhood\",\"Only Real\",\"Circa Waves\",\"Editors\",\"Billy Bragg\",\"Lykke Li\",\"Mo Kolours\",\"augustines\",\"Mogwai\",\"Paul Heaton\",\"Cate Le Bon\",\"Oliver Wilde\",\"Teeth of the Sea\",\"The War on Drugs\",\"Daryl Hall\",\"Womans Hour\",\"Kevin Bridges\",\"Alison Moyet\",\"Willis Earl Beal\",\"The Bohicas\",\"Young Fathers\",\"Koreless\",\"Broken Twin\",\"Nils Frahm\",\"Future Islands\",\"Josephine Foster\",\"Fat White Family\",\"Andrew Ashong\",\"James Holden\",\"MJ Cole\",\"Chrissie Hynde\",\"Wookie\",\"VAULTS\",\"Champion\",\"Cass McCombs\",\"Sohn\",\"Damien Jurado\",\"Archie Bronson Outfit\"],[\"Tame Impala\"],[\"Tame Impala\"],[\"Tame Impala\",\"DELICATE STEVE\"],[\"Tame Impala\",\"IHC Presents:\",\"DELICATE STEVE\"],[\"Tame Impala\"],[\"Tame Impala\",\"DELICATE STEVE\"],[\"Tame Impala\",\"DELICATE STEVE\"],[\"Tame Impala\",\"Esteman\",\"L i a n n a\"],[\"Tame Impala\",\"The Lumineers\",\"Erlend \\u00d8ye\",\"Kakkmaddafakka\",\"Beach Fossils\",\"Real State\"],[\"Tame Impala\"],[\"Tame Impala\"],[\"Tame Impala\"],[\"Tame Impala\"],[\"Tame Impala\"],[\"Tame Impala\",\"Cloud Nothings\",\"Eagulls\",\"HEARTS\",\"Flying Lotus\",\"AC/DC\",\"Charles Bradley\",\"Keys N Krates\",\"Raekwon\",\"Erol Alkan\",\"Ryan Hemsworth\",\"Action Bronson\",\"Chris Malinchak\",\"Alesso\",\"Vic Mensa\",\"Angus and Julia Stone\",\"Indio\",\"Interpol\",\"Pete Tong\",\"Caribou\",\"Marques Wyatt\",\"Jason Bentley\",\"Sylvan Esso\",\"HAERTS\",\"GOASTT\",\"Todd Terje\",\"Los Rakas\",\"Alabama Shakes\",\"Brant Bjork & the Low Desert Punk Band\",\"Gorgon City\",\"Kele\",\"MK\",\"Ghostface Killah\",\"Squarepusher\",\"Steely Dan\",\"Azealia Banks\",\"Jon Hopkins\",\"Ab-Soul\",\"Alvin Risk\"],[\"Tame Impala\",\"Vic Mensa\",\"Alesso\",\"Interpol\",\"Pete Tong\",\"Action Bronson\",\"Chris Malinchak\",\"Steely Dan\",\"Azealia Banks\",\"Jon Hopkins\",\"Kele\",\"Alvin Risk\",\"Trippy Turtle\",\"Ab-Soul\",\"Ghostface Killah\",\"Los Rakas\",\"HAERTS\",\"GOASTT\",\"Eagulls\",\"Ryan Hemsworth\",\"AC/DC\",\"Raekwon\"],[\"Tame Impala\"],[\"Tame Impala\"],[\"Tame Impala\"],[\"Tame Impala\",\"Mini Mansions\"],[\"Tame Impala\"],[\"Tame Impala\"],[\"Tame Impala\"],[\"Tame Impala\"],[\"Tame Impala\",\"Mini Mansions\"],[\"Tame Impala\",\"Mini Mansions\"],[\"Tame Impala\"],[\"Tame Impala\",\"Mini Mansions\"],[\"Tame Impala\"],[\"Tame Impala\"],[\"Tame Impala\",\"Kuroma\"],[\"Tame Impala\",\"Kuroma\"],[\"Tame Impala\"],[\"Tame Impala\",\"Kuroma\"],[\"Tame Impala\"],[\"Tame Impala\"],[\"Tame Impala\"],[\"Tame Impala\"],[\"Tame Impala\",\"Buggs Tha Rocka\",\"machineheart\",\"LONESOME AS GOLD\",\"Secret Sisters \",\"Jamestown Revival\",\"Go Analog\",\"Multimagic\",\"Kid Runner\",\"Royal Blood\",\"Old Hundred\",\"Brand New\",\"Markham\",\"Wussy\",\"Austin Plaine\",\"Indigo Wild\",\"Matt and Kim\",\"Zach Longoria Project\",\"Kacey Musgraves\",\"500 Miles to Memphis\",\"Pluto Revolts\",\"Temples\",\"Bummers\"],[\"Tame Impala\",\"Kuroma\"],[\"Tame Impala\"],[\"Tame Impala\"],[\"Tame Impala\",\"Megan Washington\",\"Blur\"],[\"Tame Impala\",\"GIVERS\",\"The Deltas\",\"The Tallest Man on Earth\",\"Beat Connection\",\"RL Grime\",\"Sam Smith\",\"COIN\",\"Tyler, The Creator\",\"Jessica Hernandez\",\"G-Eazy\",\"Brand New\",\"Delta Spirit\",\"Travis Scott\",\"Mt. Eden\",\"Hippo Campus\",\"Metallica\",\"Elle King\",\"Pell\",\"Django Django\",\"Kid Cudi\",\"SNBRN\",\"Ryn Weaver\",\"Hermitude\",\"Zella Day\",\"Danny Weinkauf - band\"],[\"Tame Impala\"],[\"Tame Impala\"],[\"Tame Impala\"],[\"Tame Impala\",\"Kendrick Lamar\",\"The Law\",\"Devon Baldwin\",\"Giraffage\",\"Tropics\",\"Misterwives\",\"Django Django\",\"Mac DeMarco\",\"G-Eazy\",\"Outside Lands\",\"Milky Chance\"],[\"Tame Impala\"],[\"Tame Impala\"],[\"Tame Impala\"],[\"Tame Impala\"],[\"Tame Impala\"],[\"Tame Impala\"],[\"Tame Impala\"],[\"Tame Impala\"],[\"Tame Impala\"],[\"Tame Impala\"],[\"Tame Impala\"],[\"Tame Impala\",\"Nicholas Allbrook\"],[\"Tame Impala\"],[\"Tame Impala\"],[\"Tame Impala\"],[\"Tame Impala\",\"LA Priest\"],[\"Tame Impala\"],[\"Tame Impala\"],[\"Tame Impala\"],[\"Tame Impala\",\"Koi Child\",\"Mini Mansions\"],[\"Tame Impala\"],[\"Tame Impala\",\"Mini Mansions\"],[\"Tame Impala\",\"Mini Mansions\",\"Koi Child\"],[\"Tame Impala\"],[\"Tame Impala\",\"Mini Mansions\"],[\"Tame Impala\"],[\"Tame Impala\",\"Mini Mansions\"],[\"Tame Impala\"],[\"Tame Impala\"],[\"Tame Impala\"],[\"Tame Impala\"],[\"Tame Impala\"],[\"Tame Impala\"],[\"Tame Impala\"],[\"Tame Impala\"],[\"Tame Impala\"],[\"Tame Impala\",\"Jagwar Ma\"],[\"Tame Impala\",\"Jagwar Ma\"],[\"Tame Impala\"],[\"Tame Impala\"],[\"Tame Impala\"],[\"Tame Impala\",\"Albert Hammond, Jr.\",\"A-Trak\"],[\"Tame Impala\"],[\"Tame Impala\"],[\"Tame Impala\"],[\"Tame Impala\"],[\"Tame Impala\",\"Halsey\",\"Albert Hammond, Jr.\"],[\"Tame Impala\"],[\"Tame Impala\"],[\"Tame Impala\"],[\"Tame Impala\"],[\"Tame Impala\"],[\"Tame Impala\"],[\"Tame Impala\"],[\"Tame Impala\",\"Kiasmos\",\"\\u00d3lafur Arnalds\"],[\"Tame Impala\"],[\"Tame Impala\"],[\"Tame Impala\"],[\"Tame Impala\"],[\"Tame Impala\"],[\"Tame Impala\",\"M83\",\"Okay Kaya\"],[\"Tame Impala\",\"R\\u00dcF\\u00dcS DU SOL\",\"Fitz & The Tantrums\",\"Kings of Leon\",\"Saint Motel\"],[\"Tame Impala\",\"Kygo\"],[\"Tame Impala\",\"Whitney\",\"Calypso Rose\",\"Foals\",\"C'mon Tigre\",\"Young Thug\",\"Damily\",\"Hurray for the Riff Raff\"],[\"Tame Impala\",\"Goose\",\"Lost Frequencies\",\"Red Hot Chili Peppers\",\"Beirut\",\"Paul Kalkbrenner\"],[\"Tame Impala\"],[\"Tame Impala\",\"Mac DeMarco\"],[\"Tame Impala\"],[\"Tame Impala\",\"Radiohead\",\"Jos\\u00e9 Gonz\\u00e1lez\",\"Courtney Barnett\",\"Hot Chip\",\"Years & Years\",\"Jagwar Ma\"],[\"Tame Impala\"],[\"Tame Impala\"],[\"Tame Impala\"],[\"Tame Impala\"],[\"Tame Impala\",\"CLASSIXX\"],[\"Tame Impala\",\"Drive Like Jehu\"],[\"Tame Impala\"],[\"Tame Impala\"],[\"Tame Impala\"],[\"Tame Impala\"],[\"Tame Impala\"],[\"Tame Impala\"],[\"Tame Impala\"],[\"Tame Impala\",\"Mad Cool Festival 2018\",\"Kasabian\",\"Pearl Jam\",\"Depeche Mode\",\"Massive Attack\",\"Justice\"],[\"Tame Impala\"],[\"Tame Impala\",\"Julien Baker\",\"(Sandy) Alex G\",\"Saba\",\"Kaitlyn Aurelia Smith\",\"And More\",\"Kelela\",\"Smino\",\"Paul Cherry\",\"Girlpool\",\"Berhana\",\"Moses Sumney\",\"Irreversible Entanglements\",\"Noname\",\"Nnamdi Ogbonnaya\",\"Open Mike Eagle\",\"Earl Sweatshirt\",\"Blood Orange\",\"Chaka Khan\",\"The Curls\",\"Kweku Collins\",\"Ravyn Lenae\",\"This Is Not This Heat\",\"Alex Cameron\",\"Julie Byrne\",\"Raphael Saadiq\"],[\"Tame Impala\",\"Lil Wayne\",\"Snoop Dogg\",\"Modest Mouse\",\"Toadies\",\"Bun B\",\"Bassnectar\",\"Preservation Hall Jazz Band\",\"White Denim\",\"a Giant Dog\",\"Joywave\",\"Com Truise\",\"The Suffers\",\"Glass Animals\",\"Cashmere Cat\",\"Mainman\",\"Grandson\",\"Run The Jewels\",\"Vodi\",\"Float Fest\",\"The Wild Now\"],[\"Tame Impala\",\"Toadies\",\"White Denim\",\"The Wild Now\"],[\"Tame Impala\"],[\"Tame Impala\"],[\"Tame Impala\"],[\"Tame Impala\"],[\"Tame Impala\"],[\"Tame Impala\",\"Jarvis Cocker\",\"Earth\",\"Mercury Rev\",\"A Place to Bury Strangers\",\"Chelsea Wolfe\",\"Shannon\",\"Catscan\",\"Earthless\",\"Pond\",\"More Tba\",\"The Shrines\",\"King Khan\",\"The Clams\",\"True Widow\",\"Connan Mockasin\",\"Ty Segall\",\"BEAK>\",\"Damien Echols\",\"The Holydrug Couple\",\"Catscan!\",\"Malcolm Mooney\",\"F\\u00f6llakzoid\",\"King Khan And The Shrines\",\"WHITE FENCE\",\"Shannon and the Clams\",\"*Jarvis Cocker*\",\"Mary Lattimore\",\"Death Grips\",\"Sons Of Kemet\",\"Uncle Acid and the deadbeats\",\"Shannon & The Clams\",\"Mannequin Pussy\",\"King Gizzard & The Lizard Wizard\",\"Uncle Acid & The Deadbeats\",\"Ty Segall & White Fence\",\"All Them Witches\",\"King Gizzard \",\"Imarhan\",\"EX-CULT\",\"Hand Habits\",\"JJUUJJUU\",\"Kikagaku Moyo / \\u5e7e\\u4f55\\u5b66\\u6a21\\u69d8\",\"Boogarins\",\"Cut Worms\",\"Kevin Morby\",\"Dakha Brakha\",\"Kikagaku Moyo\",\"Sextile\",\"Ulrika Spacek\",\"Bedouine\",\"Preoccupations\",\"Here Lies Man\",\"Wand\",\"Gladys Lazer\",\"Tropa Magica\",\"Catscan DJ\",\"Cat Scan\"],[\"Tame Impala\",\"Lord Huron\",\"Sharon Van Etten\",\"Moses Sumney\"],[\"Tame Impala\",\"Pan\",\"Pond\",\"Sharon Van Etten\",\"U.S. Girls\",\"Shame\",\"Jungle\",\"Polo\",\"Courtney Barnett\",\"Silk City\",\"Lord Huron\",\"George Fitzgerald\",\"Cigarettes After Sex\",\"ASAP Rocky\",\"Hiatus Kaiyote\",\"A.$.A.P Rocky\",\"AAP Rocky\",\"Alex Cameron\",\"Gilligan Moss\",\"JPEGMAFIA\",\"serpentwithfeet\",\"Soccer Mommy\"],[\"Tame Impala\"],[\"Tame Impala\"],[\"Tame Impala\"],[\"Tame Impala\"],[\"Tame Impala\"],[\"Tame Impala\",\"Goo Goo Dolls\",\"Yeah Yeah Yeahs\",\"Phoenix\",\"of Montreal\",\"Chromeo\",\"The Chemical Brothers\",\"Francis\",\"White Lies\",\"Holy Ghost!\",\"CLASSIXX\",\"The Joy Formidable\",\"Dillon\",\"Kimbra\",\"Tops\",\"Goldroom\",\"Dillon Francis\",\"Christine And The Queens\",\"Rhye\",\"GG Magree\",\"Jax Jones\",\"HONNE\",\"boy pablo\",\"OMD\"],[\"Tame Impala\",\"Imogen Heap\",\"Talib Kweli\",\"Guster\",\"Sasha\",\"Chromeo\",\"Brandi Carlile\",\"Dessa\",\"Marina\",\"DJ Logic\",\"Logic\",\"Janelle Monae\",\"Fred Armisen\",\"Pile\",\"Turnstile\",\"Young Fathers\",\"Shame\",\"Black Star\",\"Franklin\",\"Snail Mail\",\"Lord Huron\",\"Jenny Slate\",\"Michael Che\",\"Christine And The Queens\",\"Marina franklin\",\"Kilo Kish\",\"SNAKEHIPS\",\"Mitski\",\"Hozier\",\"Denzel Curry\",\"Skeggs\",\"Gang of Youths\",\"Odesza\",\"Tank and the Bangas\",\"Big Red Machine\",\"Melissa Villasenor\",\"Greta Van Fleet\",\"White Reaper\",\"twenty one pilots\",\"Rainbow Kitten Surprise\",\"Mura Masa\",\"Anderson .Paak\",\"The Free Nationals\",\"Princess Nokia\",\"Cautious Clay\",\"Adia Victoria\",\"PALE WAVES\",\"Sam Jay\",\"Ravyn Lenae\",\"Rolling Blackouts Coastal Fever\",\"Yaeji\",\"Sidney Gish\",\"Clairo\",\"SOB X RBE\",\"King Princess\",\"Travis Scott\",\"Superorganism\",\"Sheck Wes\"],[\"Tame Impala\"],[\"Tame Impala\"],[\"Tame Impala\"],[\"Tame Impala\"],[\"Tame Impala\"],[\"Tame Impala\"],[],[\"Tame Impala\",\"The Story So Far\",\"Vampire Weekend\",\"Noname\",\"Snail Mail\",\"Alec Benjamin\",\"Lizzo\",\"Tiny Moving Parts\",\"Wallows\",\"Kali Uchis\",\"Yellow Days\",\"J.I.D\",\"Ella Mai\",\"Caamp\",\"The Band Camino\",\"CRAIG BROWN BAND\",\"King Princess\",\"Roy Blair\"],[],[\"Tame Impala\"],[\"Tame Impala\",\"Death Cab for Cutie\",\"Chevelle\",\"Bring Me the Horizon\",\"Janelle Monae\",\"Idles\",\"Dreamers\",\"YULTRON\",\"Snails\",\"Picture This\",\"Sigrid\",\"Childish Gambino\",\"Alec Benjamin\",\"Against The Current\",\"Alesso\",\"SHAED\",\"Maggie Rogers\",\"Party Favor\",\"rich the kid\",\"Shlump\",\"Tessa Violet\",\"nothing,nowhere.\",\"The Nude Party\",\"Said The Sky\",\"Japanese Breakfast\",\"HONNE\",\"CharlestheFirst\",\"Matoma\",\"Tierra Whack\",\"21 Savage\",\"BAYNK\",\"CalBoy\",\"Tyla Yaweh\",\"boy pablo\",\"Bishop Briggs\",\"The New Respects\",\"Whethan\",\"Omar Apollo\",\"Yoshi Flower\",\"Roy Blair\",\"Conan Gray\"],[\"Tame Impala\",\"The Cure\",\"Robyn\",\"Motorpsycho\",\"Sigrid\",\"KarPe\",\"Mitski\"],[\"Tame Impala\",\"The Cure\",\"Robyn\",\"Motorpsychos\",\"Sigrid\",\"KarPe\",\"Mitski\"],[\"Tame Impala\",\"The Cure\",\"Robyn\",\"Motorpsycho\",\"Sigrid\",\"KarPe\",\"Mitski\"],[\"Tame Impala\",\"The Cure\",\"Robyn\",\"Motorpsycho\",\"Sigrid\",\"KarPe\",\"Mitski\"],[\"Tame Impala\"],[\"Tame Impala\"],[\"Tame Impala\"],[],[],[\"Tame Impala\"],[\"Tame Impala\",\"The Cure\",\"The Raconteurs\",\"Asleep at the Wheel\",\"Thom Yorke\",\"Jenny Lewis\",\"Guns N' Roses\",\"Mumford & Sons\",\"k.flay\",\"the Amazons\",\"Childish Gambino\",\"FIDLAR\",\"Black Pistol Fire\",\"RL Grime\",\"Monsieur Perin\\u00e9\",\"Weyes Blood\",\"Tyler Childers\",\"Madison Beer\",\"Kaytranada\",\"Cherry Glazerr\",\"Houses\",\"TroyBoi\",\"The Comet Is Coming\",\"Jai Wolf\",\"Austin City Limits Festival\"],[\"Tame Impala\"],[\"Tame Impala\"],[\"Tame Impala\",\"Third Eye Blind\",\"The Cure\",\"The Raconteurs\",\"The Kooks\",\"Rebelution\",\"Bruce Hornsby\",\"Robyn\",\"Asleep at the Wheel\",\"Natalia Lafourcade\",\"Banks\",\"Thom Yorke\",\"Kacey Musgraves\",\"Jenny Lewis\",\"Gary Clark Jr.\",\"The Aces\",\"The Score\",\"Guns N' Roses\",\"James Blake\",\"the Beaches\",\"Mumford & Sons\",\"k.flay\",\"Shura\",\"the Amazons\",\"Griz\",\"Childish Gambino\",\"FIDLAR\",\"Black Pistol Fire\",\"Lizzo\",\"RL Grime\",\"Hippie Sabotage\",\"Monsieur Perin\\u00e9\",\"Weyes Blood\",\"Tyler Childers\",\"Taylor Bennett\",\"Mahalia Music\",\"Denzel Curry\",\"Judah & The Lion\",\"Madison Beer\",\"Misterwives\",\"Kaytranada\",\"Cherry Glazerr\",\"Houses\",\"TroyBoi\",\"Kali Uchis\",\"The Comet Is Coming\",\"Lil Uzi Vert\",\"LANY\",\"Jai Wolf\",\"The Band Camino\",\"King Princess\",\"Austin City Limits Festival\"],[\"Tame Impala\",\"Clairo\"],[\"Tame Impala\",\"Clairo\"],[\"Tame Impala\",\"Clairo\"],[\"Tame Impala\",\"Clairo\"],[\"Tame Impala\",\"MGMT\",\"Clairo\"],[\"Tame Impala\",\"Sum 41\",\"Daddy Yankee\",\"The Strokes\",\"Juanes\",\"Divisi\\u00f3n Min\\u00fascula\",\"The Whitest Boy Alive\",\"Kinky\",\"Rodrigo y Gabriela\",\"Ely Guerra\",\"El Tri\",\"Lucybell\",\"Lila Downs\",\"Hello Seahorse!\",\"Enjambre\",\"Los Cafres\",\"Los Invasores De Nuevo Leon\",\"Victimas del Dr. Cerebro\",\"Los Cadetes de Linares\",\"Todos Tus Muertos\",\"Babas\\u00f3nicos\",\"Andr\\u00e9s Calamaro\",\"Alejandro Fern\\u00e1ndez\",\"Los Aut\\u00e9nticos Decadentes\",\"Seth Troxler\",\"Kongos\",\"Mi Banda El Mexicano\",\"Technicolor Fabrics\",\"CID\",\"Duki\",\"LOUISAHHH!!!\",\"Foster the People\",\"Danny Ocean\",\"Mon laferte\",\"Caloncho\",\"Iggy Azalea\",\"Lauv\",\"Galantis\",\"Milky Chance\",\"PAL NORTE\",\"Klingande\",\"Elderbrook\",\"Thomas Jack\",\"Elsa y Elmar\",\"Elliot Moss\",\"Sam Feldt\",\"SHIBA SAN\",\"Sasha Sloan\",\"Morat\",\"Sita Abell\\u00e1n\",\"Girl Ultra\",\"The Mar\\u00edas\",\"Clairo\",\"pluko\",\"Paulo Londra\",\"Ed Maverick\"],[\"Tame Impala\",\"Khruangbin\"],[\"Tame Impala\",\"Khruangbin\"],[\"Tame Impala\",\"Khruangbin\"],[\"Tame Impala\",\"Khruangbin\"],[\"Tame Impala\",\"Khruangbin\"],[\"Tame Impala\",\"Perfume Genius\"],[\"Tame Impala\",\"Perfume Genius\"],[\"Tame Impala\",\"Perfume Genius\"],[\"Tame Impala\",\"Perfume Genius\"],[\"Tame Impala\",\"Perfume Genius\"],[\"Tame Impala\",\"Perfume Genius\"],[\"Tame Impala\",\"Perfume Genius\"],[\"Tame Impala\",\"Perfume Genius\"],[\"Tame Impala\",\"Perfume Genius\"],[\"Tame Impala\",\"Perfume Genius\"],[\"Tame Impala\",\"Perfume Genius\"],[\"Tame Impala\",\"Perfume Genius\"],[\"Tame Impala\",\"Perfume Genius\"],[\"Tame Impala\",\"Perfume Genius\"],[\"Tame Impala\",\"Perfume Genius\"],[\"Tame Impala\",\"Perfume Genius\"],[\"Tame Impala\",\"Perfume Genius\"],[\"Tame Impala\",\"Perfume Genius\"],[\"Tame Impala\",\"MGMT\",\"Clairo\"],[\"Tame Impala\",\"Sum 41\",\"Daddy Yankee\",\"The Strokes\",\"Juanes\",\"Divisi\\u00f3n Min\\u00fascula\",\"The Whitest Boy Alive\",\"Kinky\",\"Rodrigo y Gabriela\",\"Ely Guerra\",\"El Tri\",\"Lucybell\",\"Lila Downs\",\"Hello Seahorse!\",\"Enjambre\",\"Los Cafres\",\"Los Invasores De Nuevo Leon\",\"Victimas del Dr. Cerebro\",\"Los Cadetes de Linares\",\"Todos Tus Muertos\",\"Babas\\u00f3nicos\",\"Andr\\u00e9s Calamaro\",\"Alejandro Fern\\u00e1ndez\",\"Los Aut\\u00e9nticos Decadentes\",\"Seth Troxler\",\"Kongos\",\"Mi Banda El Mexicano\",\"Technicolor Fabrics\",\"CID\",\"Duki\",\"LOUISAHHH!!!\",\"Foster the People\",\"Danny Ocean\",\"Mon laferte\",\"Caloncho\",\"Iggy Azalea\",\"Lauv\",\"Galantis\",\"Milky Chance\",\"PAL NORTE\",\"Klingande\",\"Elderbrook\",\"Thomas Jack\",\"Elsa y Elmar\",\"Elliot Moss\",\"Sam Feldt\",\"SHIBA SAN\",\"Sasha Sloan\",\"Morat\",\"Sita Abell\\u00e1n\",\"Girl Ultra\",\"The Mar\\u00edas\",\"Clairo\",\"pluko\",\"Paulo Londra\",\"Ed Maverick\"],[\"Tame Impala\",\"Daddy Yankee\",\"Juanes\",\"Divisi\\u00f3n Min\\u00fascula\",\"Insite\",\"Hello Seahorse!\",\"Los Cafres\",\"MGMT\",\"Victimas del Dr. Cerebro\",\"Babas\\u00f3nicos\",\"Andr\\u00e9s Calamaro\",\"Alejandro Fern\\u00e1ndez\",\"Cray\",\"Seth Troxler\",\"Raul Hernandez\",\"Los Romanticos de Zacatecas\",\"La Leyenda\",\"CID\",\"Danny Ocean\",\"Lauren Lane\",\"Crooked Colours\",\"Lauv\",\"Galantis\",\"Milky Chance\",\"PAL NORTE\",\"Klingande\",\"Elderbrook\",\"Thomas Jack\",\"Elsa y Elmar\",\"Elliot Moss\",\"SHIBA SAN\",\"Sasha Sloan\",\"Medasin\",\"Sita Abell\\u00e1n\",\"Clairo\",\"La Sonora Dinamita\"],[\"Tame Impala\",\"Clairo\"],[\"Tame Impala\",\"Khruangbin\"],[\"Tame Impala\",\"Khruangbin\"],[\"Tame Impala\",\"Khruangbin\"],[\"Tame Impala\",\"Khruangbin\"],[\"Tame Impala\",\"Khruangbin\"],[\"Tame Impala\",\"Khruangbin\"],[\"Tame Impala\",\"Khruangbin\"],[\"Tame Impala\",\"MGMT\",\"Clairo\"],[\"Tame Impala\",\"Sum 41\",\"Daddy Yankee\",\"The Strokes\",\"Juanes\",\"Divisi\\u00f3n Min\\u00fascula\",\"The Whitest Boy Alive\",\"Kinky\",\"Rodrigo y Gabriela\",\"Ely Guerra\",\"El Tri\",\"Lucybell\",\"Lila Downs\",\"Hello Seahorse!\",\"Enjambre\",\"Los Cafres\",\"Los Invasores De Nuevo Leon\",\"Victimas del Dr. Cerebro\",\"Los Cadetes de Linares\",\"Todos Tus Muertos\",\"Babas\\u00f3nicos\",\"Andr\\u00e9s Calamaro\",\"Alejandro Fern\\u00e1ndez\",\"Los Aut\\u00e9nticos Decadentes\",\"Seth Troxler\",\"Kongos\",\"Mi Banda El Mexicano\",\"Technicolor Fabrics\",\"CID\",\"Duki\",\"LOUISAHHH!!!\",\"Foster the People\",\"Danny Ocean\",\"Mon laferte\",\"Caloncho\",\"Iggy Azalea\",\"Lauv\",\"Galantis\",\"Milky Chance\",\"PAL NORTE\",\"Klingande\",\"Elderbrook\",\"Thomas Jack\",\"Elsa y Elmar\",\"Elliot Moss\",\"Sam Feldt\",\"SHIBA SAN\",\"Sasha Sloan\",\"Morat\",\"Sita Abell\\u00e1n\",\"Girl Ultra\",\"The Mar\\u00edas\",\"Clairo\",\"pluko\",\"Paulo Londra\",\"Ed Maverick\"],[\"Tame Impala\",\"Daddy Yankee\",\"Juanes\",\"Divisi\\u00f3n Min\\u00fascula\",\"Insite\",\"Hello Seahorse!\",\"Los Cafres\",\"MGMT\",\"Victimas del Dr. Cerebro\",\"Babas\\u00f3nicos\",\"Andr\\u00e9s Calamaro\",\"Alejandro Fern\\u00e1ndez\",\"Cray\",\"Seth Troxler\",\"Raul Hernandez\",\"Los Romanticos de Zacatecas\",\"La Leyenda\",\"CID\",\"Danny Ocean\",\"Lauren Lane\",\"Crooked Colours\",\"Lauv\",\"Galantis\",\"Milky Chance\",\"PAL NORTE\",\"Klingande\",\"Elderbrook\",\"Thomas Jack\",\"Elsa y Elmar\",\"Elliot Moss\",\"SHIBA SAN\",\"Sasha Sloan\",\"Medasin\",\"Sita Abell\\u00e1n\",\"Clairo\",\"La Sonora Dinamita\"],[\"Tame Impala\",\"MGMT\",\"Clairo\"],[\"Tame Impala\",\"Incubus\",\"Nelly\",\"Deftones\",\"Foo Fighters\",\"Flogging Molly\",\"My Morning Jacket\",\"Primus\",\"Goose\",\"The Disco Biscuits\",\"LICK\",\"Dashboard Confessional\",\"Jason Isbell\",\"Greensky Bluegrass\",\"Janelle Monae\",\"the 400 Unit\",\"The Struts\",\"with\",\"Deadmau5\",\"DJ Mel\",\"G-Eazy\",\"Surfaces\",\"Lil Baby\",\"Kevin Gates\",\"Young the Giant\",\"Lana Del Rey\",\"Phoebe Bridgers\",\"Jon Batiste\",\"Young Thug\",\"Lizzo\",\"Flamingosis\",\"Pinegrove\",\"Glass Animals\",\"Level-Up\",\"Seven Lions\",\"Uncle Acid \",\"King Gizzard & The Lizard Wizard\",\"almost monday\",\"Brittany Howard\",\"Dr. Fresch\",\"Boombox Cartel\",\"Subtronics\",\"Ashnikko\",\"Run The Jewels\",\"William Black\",\"Hero the Band\",\"Remi Wolf \",\"J.I.D\",\"Ekali\",\"Leon Bridges\",\"JACK HARLOW\",\"Tyler, The Creator\",\"Grace Potter\",\"Caamp\",\"The Band Camino\",\"Yaeji\",\"Wooli\",\"Oliver Tree\",\"Megan Thee Stallion\",\"Marc Rebillet\",\"The Deadbeats\",\"Tate McRae\"],[\"Tame Impala\"],[\"Tame Impala\",\"Perfume Genius\"],[\"Tame Impala\"],[\"Tame Impala\",\"Clairo\"],[\"Tame Impala\"],[\"Tame Impala\",\"Perfume Genius\"],[\"Tame Impala\"],[\"Tame Impala\"],[\"Tame Impala\",\"Taking Back Sunday\",\"Nelly\",\"Band of Horses\",\"Diplo\",\"Portugal. The Man\",\"Wiz Khalifa\",\"Chris Lake\",\"Caribou\",\"Cage the Elephant\",\"Deep Sea Diver\",\"Duke Dumont\",\"Mar\\u00eda Isabel\",\"Role Model\",\"Aluna\",\"Clever\",\"Cassy\",\"Cannons \",\"Turnstile\",\"Claud\",\"Blossoms\",\"Rossy\",\"Kim Petras\",\"Peach Pit\",\"Elohim\",\"MISSIO\",\"Rezz\",\"Machine Gun Kelly\",\"Madeon\",\"Phoebe Bridgers\",\"Lizzo\",\"Mt. Joy\",\"Blackbear\",\"Atlas Genius\",\"Lost Frequencies\",\"Glass Animals\",\"Khruangbin\",\"Laundry Day\",\"almost monday\",\"Duckwrth\",\"Denzel Curry\",\"CloZee\",\"Judah & The Lion\",\"RedVeil\",\"Sub Urban\",\"Trevor Daniel\",\"Madds\",\"White Reaper\",\"Grandson\",\"Badflower\",\"Sylvan Esso\",\"Ritt Momney\",\"GG Magree\",\"Big Wild\",\"Remi Wolf \",\"St. Panther\",\"Noga Erez\",\"Anna of the North\",\"SLANDER\",\"Sofi Tukker\",\"Michigander\",\"Billie Eilish\",\"Middle Kids\",\"Oliver Tree\",\"ONR\",\"Dominic Fike\",\"Orion Sun\",\"KennyHoopla\",\"LP Giobbi\",\"lovelytheband\",\"Still Woozy\",\"Royal & the Serpent\",\"Megan Thee Stallion\",\"Des Rocs\",\"Marc Rebillet\",\"Arlo Parks\",\"Roddy Ricch\",\"girl in red\",\"Tate McRae\",\"iann dior\",\"$NOT\",\"JORDY\",\"Gracie Abrams\",\"Kenny Mason\",\"jxdn\",\"Carolesdaughter\",\"Surf Mesa\",\"Rozet\"],[\"Tame Impala\"],[\"Tame Impala\",\"Nelly\",\"The Strokes\",\"Bonobo\",\"Dr. Dog\",\"Cam\",\"Beach House\",\"DRAMA\",\"Q\",\"Bakar\",\"Vampire Weekend\",\"The HU\",\"Cannons \",\"The Soul Rebels\",\"Claud\",\"Sharon Van Etten\",\"Angel Olsen\",\"Outside Lands\",\"Caroline Polachek\",\"J Balvin\",\"EOB\",\"Odie\",\"The Midnight\",\"Lord Huron\",\"Young Thug\",\"Lizzo\",\"ZHU\",\"Burna Boy\",\"Glass Animals\",\"Khruangbin\",\"Crooked Colours\",\"Melanie Martinez\",\"Mahalia Music\",\"The 1975\",\"Moses Sumney\",\"Amy Allen\",\"Rexx Life Raj\",\"BADSHAH\",\"Brittany Howard\",\"Julia Jacklin\",\"Nap Eyes\",\"EarthGang\",\"Trevor Daniel\",\"Kaytranada\",\"TroyBoi\",\"SG Lewis\",\"Buscabulla\",\"Hinds\",\"Yves Tumor\",\"Kehlani\",\"Polo & Pan\",\"Remi Wolf \",\"A R I Z O N A\",\"SHIBA SAN\",\"R\\u00dcF\\u00dcS DU SOL\",\"J.Phlip\",\"YUNG BAE\",\"Marc E. Bassy\",\"Noga Erez\",\"Post Animal\",\"Sofi Tukker\",\"Andrew McMahon in the Wilderness\",\"Itsband\",\"Shilan\",\"The Beths\",\"Tyler, The Creator\",\"Big Thief\",\"Parcels\",\"Madeline Kenney\",\"Rolling Blackouts Coastal Fever\",\"Goth Babe\",\"JPEGMAFIA\",\"boy pablo\",\"070 SHAKE\",\"Rico Nasty\",\"Neil Frances\",\"Resistance Revival Chorus\",\"Scarypoolparty\",\"mxmtoon\",\"Bartees Strange\",\"Marc Rebillet\",\"Neal Francis\",\"Dijon\",\"Tones And I\",\"Brijean\",\"Evann McIntosh\"],[\"Tame Impala\"],[\"Tame Impala\"],[\"Tame Impala\",\"Master P\",\"Lil Baby\",\"Toro y Moi\",\"BIA\",\"Young Thug\",\"ysl\",\"Chief Keef\",\"Maxo Kream\",\"SZA\",\"Chase B\",\"Metro Boomin\",\"Yves Tumor\",\"21 Savage\",\"Bad Bunny\",\"Earth, Wind & Fire\",\"Travis Scott\",\"Sheck Wes\",\"Don Toliver\",\"Roddy Ricch\",\"Baby Keem\",\"SoFaygo\",\"Teezo Touchdown\"],[\"Tame Impala\"],[\"Tame Impala\"],[\"Tame Impala\"],[\"Tame Impala\",\"Foo Fighters\",\"Juanes\",\"Divisi\\u00f3n Min\\u00fascula\",\"Insite\",\"Kinky\",\"The Kooks\",\"Ely Guerra\",\"El Tri\",\"Lucybell\",\"Lila Downs\",\"Hello Seahorse!\",\"Enjambre\",\"Los Cafres\",\"Victimas del Dr. Cerebro\",\"Todos Tus Muertos\",\"Babas\\u00f3nicos\",\"Alejandro Fern\\u00e1ndez\",\"Cray\",\"Los Aut\\u00e9nticos Decadentes\",\"Seth Troxler\",\"The Whites\",\"Lua\",\"Kongos\",\"Los Romanticos de Zacatecas\",\"Technicolor Fabrics\",\"Nathan Barato\",\"Sublime with Rome\",\"Foster the People\",\"Danny Ocean\",\"Piso 21\",\"Michael Brun\",\"MCDAVO\",\"Lauren Lane\",\"Mon laferte\",\"Caloncho\",\"Claptone\",\"Joss Favela\",\"Galantis\",\"Vicetone\",\"PurpleDiscoMachine\",\"Klingande\",\"Thomas Jack\",\"MAU Y RICKY\",\"Elliot Moss\",\"Sam Feldt\",\"A R I Z O N A\",\"SHIBA SAN\",\"Leon Leiden\",\"Sasha Alex Sloan\",\"Sasha Sloan\",\"UZIELITO MIX\",\"Sita Abell\\u00e1n\",\"Girl Ultra\",\"boy pablo\",\"Chet Faker\",\"Gera mx\",\"pluko\",\"Ed Maverick\"],[\"Tame Impala\"],[\"Tame Impala\",\"The Bravery\",\"All Time Low\",\"Cheap Trick\",\"The Whitest Boy Alive\",\"The Kooks\",\"St. Vincent\",\"AURORA\",\"Gaia\",\"Turnstile\",\"Disclosure\",\"LP\",\"HANA\",\"Shura\",\"MISSIO\",\"Flight Facilities\",\"George FitzGerald\",\"Royal Blood\",\"Flamingosis\",\"Electric Guest\",\"Smith & Thell\",\"Khruangbin\",\"Faye Webster\",\"Parquet Courts\",\"Will Joseph Cook\",\"Fakear\",\"Adam Melchor\",\"JP Saxe\",\"Goss\",\"Ashnikko\",\"SG Lewis\",\"twenty one pilots\",\"Ritt Momney\",\"Jehnny Beth\",\"Elliot Moss\",\"Glaive\",\"R\\u00dcF\\u00dcS DU SOL\",\"Dayglow\",\"Bleachers\",\"Cautious Clay\",\"Pabllo Vittar\",\"Ela Minus\",\"boy pablo\",\"070 SHAKE\",\"Slowthai\",\"Alfie Templeman\",\"Hamzaa\",\"Alaina Castillo\",\"Niko Rubio\"],[\"Tame Impala\"],[\"Tame Impala\"],[\"Tame Impala\"],[\"Tame Impala\"],[\"Tame Impala\"],[\"Tame Impala\"],[\"Tame Impala\"],[\"Tame Impala\",\"Foo Fighters\",\"My Morning Jacket\",\"St. Vincent\",\"Dashboard Confessional\",\"Sydney Sprague\",\"the Tantrums\",\"Nothing But Thieves\",\"almost monday\",\"Del Water Gap\",\"Billy Strings\",\"White Reaper\",\"The DIP\",\"Jade Bird\",\"Matt and Kim\",\"Caamp\",\"Black Pumas\"],[\"Tame Impala\",\"Pepper\",\"Flying Lotus\",\"Caribou\",\"DRAMA\",\"Gary Clark Jr.\",\"DJ Harvey\",\"The Glitch Mob\",\"Ross\",\"Jungle\",\"Washed Out\",\"BIA\",\"Porter Robinson\",\"The Backseat Lovers\",\"Griz\",\"Rezz\",\"Twin Shadow\",\"Amtrac\",\"Mt. Joy\",\"Duckwrth\",\"Denzel Curry\",\"CloZee\",\"Elderbrook\",\"TroyBoi\",\"Ashnikko\",\"STRFKR\",\"Jai Wolf\",\"Gus Dapperton\",\"Tobi Lou\",\"Two Feet\",\"Megan Thee Stallion\",\"Coi Leray\",\"Tai Verdes\"],[\"Tame Impala\"],[\"Tame Impala\",\"Sudan Archives\"]],\"lineup_size\":[38,95,42,2,1,2,2,123,32,2,2,2,1,2,65,1,2,2,1,2,48,30,1,77,44,1,2,14,1,1,88,3,3,3,3,2,2,2,2,1,2,1,1,2,2,3,1,6,2,2,4,17,23,21,17,25,19,1,1,1,1,51,1,1,1,19,53,1,1,2,3,1,2,2,3,6,1,1,1,1,1,39,22,1,1,1,2,1,1,1,1,2,2,1,2,1,1,2,2,1,2,1,1,1,1,23,2,1,1,3,26,1,1,1,12,1,1,1,1,1,1,1,1,1,1,1,2,1,1,1,2,1,1,1,3,1,2,3,1,2,1,2,1,1,1,1,1,1,1,1,1,2,2,1,1,1,3,1,1,1,1,3,1,1,1,1,1,1,1,3,1,1,1,1,1,3,5,2,8,6,1,2,1,7,1,1,1,1,2,2,1,1,1,1,1,1,1,7,1,26,21,4,1,1,1,1,1,58,4,22,1,1,1,1,1,24,58,1,1,1,1,1,1,0,18,0,1,41,7,7,7,7,1,1,1,0,0,1,25,1,1,52,2,2,2,2,3,56,2,2,2,2,2,2,2,2,2,2,2,2,2,2,2,2,2,2,2,2,2,2,2,3,56,36,2,2,2,2,2,2,2,2,3,56,36,3,62,1,2,1,2,1,2,1,1,88,1,86,1,1,23,1,1,1,59,1,49,1,1,1,1,1,1,1,17,33,1,2],\"location\":[\"\",\"\",\"\",\"\",\"\",\"\",\"\",\"\",\"\",\"\",\"\",\"\",\"\",\"\",\"\",\"\",\"\",\"\",\"\",\"\",\"\",\"\",\"\",\"\",\"\",\"\",\"\",\"\",\"\",\"\",\"\",\"\",\"\",\"\",\"\",\"\",\"\",\"\",\"\",\"\",\"\",\"\",\"\",\"\",\"\",\"\",\"\",\"\",\"\",\"\",\"\",\"\",\"\",\"\",\"\",\"\",\"\",\"\",\"\",\"\",\"\",\"\",\"\",\"\",\"\",\"\",\"\",\"\",\"\",\"\",\"\",\"\",\"\",\"\",\"\",\"\",\"\",\"\",\"\",\"\",\"\",\"\",\"\",\"\",\"\",\"\",\"\",\"\",\"\",\"\",\"\",\"\",\"\",\"\",\"\",\"\",\"\",\"\",\"\",\"\",\"\",\"\",\"\",\"\",\"\",\"\",\"\",\"\",\"\",\"\",\"\",\"\",\"\",\"\",\"\",\"\",\"\",\"\",\"\",\"\",\"\",\"\",\"\",\"\",\"\",\"\",\"\",\"\",\"\",\"\",\"\",\"\",\"\",\"\",\"\",\"\",\"\",\"\",\"\",\"\",\"\",\"\",\"\",\"\",\"\",\"\",\"\",\"\",\"\",\"\",\"\",\"\",\"\",\"\",\"\",\"\",\"\",\"\",\"\",\"\",\"\",\"\",\"\",\"\",\"\",\"\",\"\",\"\",\"\",\"\",\"\",\"\",\"\",\"\",\"\",\"\",\"\",\"\",\"\",\"\",\"\",\"\",\"\",\"\",\"\",\"\",\"\",\"\",\"\",\"\",\"\",\"\",\"\",\"\",\"\",\"\",\"\",\"\",\"\",\"\",\"\",\"\",\"\",\"\",\"\",\"\",\"\",\"\",\"\",\"\",\"\",\"\",\"\",\"\",\"\",\"\",\"\",\"\",\"\",\"\",\"\",\"\",\"\",\"\",\"\",\"\",\"\",\"\",\"\",\"\",\"\",\"\",\"\",\"\",\"\",\"\",\"\",\"\",\"\",\"\",\"\",\"\",\"\",\"\",\"\",\"\",\"\",\"\",\"\",\"\",\"\",\"\",\"\",\"\",\"\",\"\",\"\",\"\",\"\",\"\",\"\",\"\",\"\",\"\",\"\",\"\",\"\",\"\",\"\",\"\",\"\",\"\",\"\",\"\",\"\",\"\",\"\",\"\",\"\",\"\",\"\",\"\",\"\",\"\",\"\",\"\",\"\",\"\",\"\",\"\",\"\",\"\",\"\",\"\",\"\",\"\",\"\",\"\",\"\",\"\",\"\",\"\",\"\",\"\",\"\",\"\",\"\",\"\",\"\",\"\",\"\",\"\",\"\",\"\",\"\",\"\",\"\",\"\"],\"longitude\":{\"__ndarray__\":\"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\",\"dtype\":\"float64\",\"order\":\"little\",\"shape\":[318]},\"name\":[\"Empire Polo Field\",\"Empire Polo Club\",\"Empire Polo Field\",\"Festival Hall Melbourne\",\"Hordern Pavilion\",\"Brisbane Convention & Exhibition Centre\",\"Belvoir Amphitheatre\",\"Parc del F\\u00f2rum\",\"Gorge Amphitheatre\",\"Crystal Ballroom\",\"Commodore Ballroom\",\"Fox Theater\",\"The Fox Theater\",\"House of Blues San Diego\",\"Great Stage Park\",\"The Tabernacle\",\"The National\",\"Electric Factory\",\"HAMMERSMITH APOLLO\",\"l'Olympia\",\"Gdynia-Kosakowo Airfield\",\"Unknown venue\",\"Le Bikini\",\"Obudai-sziget\",\"Unknown venue\",\"Vega\",\"KOMPLEX 457\",\"Lowlands Festival Site\",\"The Picture House\",\"Olympia Theatre\",\"Bramham Park\",\"Terminal 5\",\"Terminal 5\",\"Festival Pier\",\"Merriweather Post Pavilion\",\"The Pageant\",\"Orpheum Theater\",\"Riviera Theater\",\"Starlight Theater\",\"South Side Ballroom\",\"Circo Voodor\",\"Auditorio Banamex\",\"Jos\\u00e9 Cuervo Sal\\u00f3n\",\"Boulder Theater\",\"Ogden Theater\",\"Greek Theatre\",\"BELASCO\",\"Bill Graham Civic Auditorium\",\"Santa Barbara Bowl\",\"KeyArena\",\"Mcmenamins Crystal Ballroom\",\"Western Springs Stadium\",\"Metricon Stadium\",\"Flemington Racecourse\",\"Sydney Showground\",\"Bonython Park\",\"Arena Joondalup\",\"Hotel Rottnest\",\"O2 Academy Oxford\",\"Batschkapp\",\"Theaterfabrik im Optimolgel\\u00e4nde\",\"Balado\",\"Albert Hall\",\"The Institute\",\"Rock City\",\"Henham Park\",\"Henham Park\",\"Henham Park\",\"Beacon Theatre\",\"Beacon Theatre\",\"Shrine Auditorium\",\"Brooklyn Bowl Las Vegas\",\"Fox Theater\",\"Fox Theater\",\"Esteman en el SOMA \",\"Primavera Fauna\",\"Manchester Arena\",\"Alexandra Palace\",\"Lollapalooza Brazil\",\"Lollapalooza Argentina\",\"Fox Theater\",\"Coachella\",\"Coachella\",\"Levitation (Austin Psych Fest)\",\"Civic Theatre\",\"Shaky Knees 2015\",\"Ryman Auditorium\",\"First Avenue \",\"Riverside Theater\",\"Riviera Theatre\",\"The LC Pavillion\",\"Royal Oak Music Theatre\",\"Massey Hall\",\"M\\u00e9tropolis\",\"M\\u00e9tropolis \",\"Boston Calling Festival\",\"Sasquatch! Festival 2015\",\"Malkin Bowl\",\"Roseland Theater\",\"The Depot\",\"Ogden Theatre\",\"Uptown Theater\",\"The Pageant\",\"Stage AE\",\"House of Blues\",\"Bunbury Music Festival 2015\",\"Echostage\",\"Gov Ball | Randalls Island\",\"Splendour In The Grass \",\"North Byron Parklands\",\"Lollapalooza\",\"The North Park Theatre\",\"Hollywood Forever Cemetery\",\"Hollywood Forever Cemetery\",\"Golden Gate Park Outside Lands\",\"Paredes de Coura\",\"Pukklelpop\",\"Lowlands Festival 2015\",\"Ex Convento dell' Annunziata\",\"Ippodromo delle Capannelle\",\"Teatro Romano\",\"Zurich Openair Festival\",\"Rock En Seine\",\"End of the Road Festival\",\"Electric Picnic\",\"Barrowland\",\"Liverpool Olympia\",\"Bestival - Isle of Wight\",\"Lollapalooza\",\"Austin City Limits\",\"Tower Theatre\",\"Radio City Music Hall\",\"TERMINAL 5 \",\"Austin City Limits \",\"Sidney Myer Music Bowl\",\"Forecourt, Sydney Opera House\",\"Sydney Opera House Forecourt\",\"Belvoir Amphitheatre\",\"Belvoir Amphitheatre\",\"Thebarton Theatre\",\"Thebarton Theatre\",\"Riverstage\",\"Logan Campbell Centre\",\"Shed 6\",\"afas live\",\"Vorst Nationaal\",\"ZENITH PARIS\",\"Falconer Salen\",\"Sentrum Space\",\"Annexet\",\"Mehr Theater\",\"Columbiahalle\",\"Palladium\",\"Manchester Arena\",\"Alexandra Palace\",\"Alexandra Palace\",\"Festival Estereo Picnic\",\"Lollapalooza\",\"Esplanade Park Exhibition\",\"Teatro Vorterix\",\"Lollapalooza Argentina\",\"Lollapalooza Chile\",\"MacPherson Stadium\",\"The Star Theatre \",\"Urbanscapes\",\"Zepp Tokyo\",\"Namba Hatch\",\"Parkir Selatan Senayan \",\"Primavera Sound \",\"Forbidden Fruit Festival\",\"Bonnaroo\",\"Bestival\",\"Bell Centre\",\"BRIC Celebrate Brooklyn! Festival at Prospect Park Bandshell\",\"BRIC Celebrate Brooklyn! Festival at Prospect Park Bandshell\",\"Merriweather Post Pavilion\",\"Firefly Music Festival\",\"Open'er Festival\",\"Roskilde Festival\",\"Rock Werchter\",\"Les Eurock\\u00e9ennes de Belfort\",\"Theatres Romains De Fourviere\",\"Market Sound \",\"NOS Alive Festival\",\"BBK Live\",\"Live Park Amphitheatre\",\"Colours of Ostrava\",\"Melt! Festival\",\"FYF\",\"Project Pabst\",\"Red Rocks\",\"Greek Theater\",\"Greek Theatre\",\"Bumbershoot\",\"Palacio de los Deportes\",\"Auditorio Banamex\",\"Panorama Festival\",\"Espacio Mad Cool\",\"Citadel Festival\",\"Union Park\",\"Cool River Ranch\",\"FLOAT FEST\",\"Summersonic Festival\",\"Summersonic Festival\",\"The Institute of Light\",\"The Institute of Light\",\"The Institute of Light\",\"Desert Daze 2018 (Oct 12-14)\",\"Treasure Island Music Festival\",\"Middle Harbor Shoreline Park\",\"Ascend Amphitheater\",\"U.S. Cellular Center Asheville\",\"Shaky Knees Music Festival\",\"The St. Augustine Amphitheatre\",\"The Fillmore Miami Beach\",\"Corona Capital\",\"Boston Calling Music Festival\",\"Primavera Sound\",\"We Love Green Festival\",\"G\\u00e5rden\",\"The O2\",\"Empress Ballroom, Winter Gardens\",\"3Arena\",\"Budweiser Stage\",\"Mo Pop Festival\",\"Surly Brewing Festival Field\",\"Surly Brewing Festival Field\",\"Lollapalooza\",\"Toyenparken\",\"Toyenparken\",\"Toyenparken\",\"Toyenparken\",\"Parkb\\u00fchne Wuhlheide\",\"Madison Square Garden\",\"Madison Square Garden\",\"The Mann Center for the Performing Arts\",\"The Anthem\",\"The Anthem\",\"Zilker Metropolitan Park\",\"The Mission Ballroom\",\"The Mission Ballroom\",\"Zilker Metropolitan Park\",\"Pechanga Arena San Diego\",\"The Forum\",\"The Forum\",\"Chase Center\",\"Foro Sol\",\"Parque Fundidora\",\"Spark Arena\",\"Brisbane Entertainment Centre\",\"Rod Laver Arena\",\"Adelaide Entertainment Centre\",\"RAC Arena\",\"Scotiabank Arena\",\"Bell Centre\",\"Capital One Arena\",\"Spectrum Center\",\"State Farm Arena\",\"American Airlines Arena\",\"Xcel Energy Center\",\"Enterprise Center\",\"Sprint Center\",\"BOK Center\",\"Frank C. Erwin, Jr., Special Events Center\",\"American Airlines Center\",\"Toyota Center\",\"Gila River Arena\",\"Pepsi Center\",\"Vivint Smart Home Arena\",\"Moda Center\",\"Rogers Arena\",\"Foro Sol\",\"Parque Fundidora\",\"Parque Fundidora\",\"Chase Center\",\"Spark Arena\",\"Brisbane Entertainment Centre\",\"Qudos Bank Arena\",\"Rod Laver Arena\",\"Rod Laver Arena\",\"Adelaide Entertainment Centre\",\"RAC Arena\",\"Foro Sol\",\"Parque Fundidora\",\"Parque Fundidora\",\"Foro Sol\",\"Great Stage Park\",\"United Center\",\"Gorge Amphitheatre\",\"Moda Center\",\"Chase Center\",\"Life is Beautiful\",\"Gila River Arena\",\"Ball Arena\",\"Capital One Arena\",\"Firefly Music Festival 2021\",\"State Farm Arena\",\"Outside Lands Festival 2021\",\"Hollywood Bowl\",\"Hollywood Bowl\",\"NRG Park\",\"Frank Erwin Center\",\"White Oak Music Hall\",\"American Airlines Center\",\"Parque Fundidora\",\"Auditorio Telmex\",\"Corona Capital 2021\",\"Spark Arena\",\"Qudos Bank Arena\",\"Brisbane Entertainment Centre\",\"Rod Laver Arena\",\"Rod Laver Arena\",\"Adelaide Entertainment Centre\",\"RAC Arena\",\"Innings Festival 2022\",\"Sunshine Grove - FL\",\"Petersen Events Center\",\"Scotiabank Arena\"],\"region\":[\"CA\",\"CA\",\"CA\",\"\",\"\",\"\",\"\",\"\",\"WA\",\"OR\",\"BC\",\"CA\",\"CA\",\"CA\",\"TN\",\"GA\",\"VA\",\"PA\",\"\",\"\",\"\",\"\",\"\",\"\",\"\",\"\",\"\",\"\",\"\",\"\",\"\",\"NY\",\"NY\",\"PA\",\"MD\",\"MO\",\"WI\",\"IL\",\"MO\",\"TX\",\"\",\"\",\"\",\"CO\",\"CO\",\"CA\",\"CA\",\"CA\",\"CA\",\"WA\",\"OR\",\"\",\"\",\"\",\"\",\"\",\"\",\"\",\"\",\"\",\"\",\"\",\"\",\"\",\"\",\"\",\"\",\"\",\"NY\",\"NY\",\"CA\",\"NV\",\"CA\",\"CA\",\"\",\"\",\"\",\"\",\"\",\"\",\"CA\",\"CA\",\"CA\",\"TX\",\"LA\",\"GA\",\"TN\",\"MN\",\"WI\",\"IL\",\"OH\",\"MI\",\"ON\",\"QC\",\"QC\",\"MA\",\"WA\",\"BC\",\"OR\",\"UT\",\"CO\",\"MO\",\"MO\",\"PA\",\"OH\",\"OH\",\"DC\",\"NY\",\"\",\"\",\"IL\",\"CA\",\"CA\",\"CA\",\"CA\",\"\",\"\",\"\",\"\",\"\",\"\",\"\",\"\",\"\",\"\",\"\",\"\",\"\",\"\",\"TX\",\"PA\",\"NY\",\"NY\",\"TX\",\"\",\"\",\"\",\"\",\"\",\"\",\"\",\"\",\"\",\"\",\"\",\"\",\"\",\"\",\"\",\"\",\"\",\"\",\"\",\"\",\"\",\"\",\"\",\"\",\"\",\"\",\"\",\"\",\"\",\"\",\"\",\"\",\"\",\"\",\"\",\"\",\"TN\",\"ON\",\"QC\",\"NY\",\"NY\",\"MD\",\"DE\",\"\",\"\",\"\",\"\",\"\",\"\",\"\",\"\",\"\",\"\",\"\",\"CA\",\"OR\",\"CO\",\"CA\",\"CA\",\"WA\",\"\",\"\",\"NY\",\"\",\"\",\"IL\",\"TX\",\"TX\",\"\",\"\",\"\",\"\",\"\",\"CA\",\"CA\",\"CA\",\"TN\",\"NC\",\"GA\",\"FL\",\"FL\",\"\",\"MA\",\"\",\"\",\"\",\"\",\"\",\"\",\"ON\",\"MI\",\"MN\",\"MN\",\"IL\",\"\",\"\",\"\",\"\",\"\",\"NY\",\"NY\",\"PA\",\"DC\",\"DC\",\"TX\",\"CO\",\"CO\",\"TX\",\"CA\",\"CA\",\"CA\",\"CA\",\"\",\"\",\"\",\"\",\"\",\"\",\"\",\"ON\",\"QC\",\"DC\",\"NC\",\"GA\",\"FL\",\"MN\",\"MO\",\"MO\",\"OK\",\"TX\",\"TX\",\"TX\",\"AZ\",\"CO\",\"UT\",\"OR\",\"BC\",\"\",\"\",\"\",\"CA\",\"\",\"\",\"\",\"\",\"\",\"\",\"\",\"\",\"\",\"\",\"\",\"TN\",\"IL\",\"WA\",\"OR\",\"CA\",\"NV\",\"AZ\",\"CO\",\"DC\",\"DE\",\"GA\",\"CA\",\"CA\",\"CA\",\"TX\",\"TX\",\"TX\",\"TX\",\"\",\"\",\"\",\"\",\"\",\"\",\"\",\"\",\"\",\"\",\"AZ\",\"FL\",\"PA\",\"ON\"],\"show_date\":[true,true,true,true,true,true,true,true,true,true,true,true,true,true,true,true,true,true,true,true,true,true,true,true,true,true,true,true,true,true,true,true,true,true,true,true,true,true,true,true,true,true,true,true,true,true,true,true,true,true,true,true,true,true,true,true,true,true,true,true,true,true,true,true,true,true,true,true,true,true,true,true,true,true,true,true,true,true,true,true,true,true,true,true,true,true,true,true,true,true,true,true,true,true,true,true,true,true,true,true,true,true,true,true,true,true,true,true,true,true,true,true,true,true,true,true,true,true,true,true,true,true,true,true,true,true,true,true,true,true,true,true,true,true,true,true,true,true,true,true,true,true,true,true,true,true,true,true,true,true,true,true,true,true,true,true,true,true,true,true,true,true,true,true,true,true,true,true,true,true,true,true,true,true,true,true,true,true,true,true,true,true,true,true,true,true,true,true,true,true,true,true,true,true,true,true,true,true,true,true,true,true,true,true,true,true,true,true,true,true,true,true,true,true,true,true,true,true,true,true,true,true,true,true,true,true,true,true,true,true,true,true,true,true,true,true,true,true,true,true,true,true,true,true,true,true,true,true,true,true,true,true,true,true,true,true,true,true,true,true,true,true,true,true,true,true,true,true,true,true,true,true,true,true,true,true,true,true,true,true,true,true,true,true,true,true,true,true,true,true,true,true,true,true,true,true,true,true,true,true,true,true,true,true,true,true,true,true,true,true,true,true,true,true,true,true,true,true],\"title\":[\"\",\"\",\"\",\"\",\"\",\"\",\"\",\"\",\"\",\"\",\"\",\"\",\"\",\"\",\"\",\"\",\"\",\"\",\"\",\"\",\"\",\"\",\"\",\"\",\"\",\"\",\"\",\"\",\"\",\"\",\"\",\"\",\"\",\"\",\"\",\"\",\"\",\"\",\"\",\"\",\"\",\"\",\"\",\"\",\"\",\"\",\"\",\"\",\"\",\"\",\"\",\"\",\"\",\"\",\"\",\"\",\"\",\"\",\"\",\"\",\"\",\"\",\"\",\"\",\"\",\"\",\"\",\"\",\"\",\"\",\"\",\"\",\"\",\"\",\"\",\"\",\"\",\"\",\"\",\"\",\"\",\"\",\"\",\"\",\"\",\"\",\"\",\"\",\"\",\"\",\"\",\"\",\"\",\"\",\"\",\"\",\"\",\"\",\"\",\"\",\"\",\"\",\"\",\"\",\"\",\"\",\"\",\"\",\"\",\"\",\"\",\"\",\"\",\"\",\"\",\"\",\"\",\"\",\"\",\"\",\"\",\"\",\"\",\"\",\"\",\"\",\"\",\"\",\"\",\"\",\"\",\"\",\"\",\"\",\"\",\"\",\"\",\"\",\"\",\"\",\"\",\"\",\"\",\"\",\"\",\"\",\"\",\"\",\"\",\"\",\"\",\"\",\"\",\"\",\"\",\"\",\"\",\"\",\"\",\"\",\"\",\"\",\"\",\"\",\"\",\"\",\"\",\"\",\"\",\"\",\"\",\"\",\"\",\"\",\"\",\"\",\"\",\"\",\"\",\"\",\"\",\"\",\"\",\"\",\"\",\"\",\"\",\"\",\"\",\"\",\"\",\"\",\"\",\"\",\"\",\"\",\"\",\"\",\"\",\"\",\"\",\"\",\"\",\"\",\"\",\"\",\"\",\"\",\"\",\"\",\"\",\"\",\"\",\"\",\"\",\"\",\"\",\"\",\"\",\"\",\"\",\"\",\"\",\"\",\"\",\"\",\"\",\"\",\"\",\"\",\"\",\"\",\"\",\"\",\"\",\"\",\"\",\"\",\"\",\"\",\"\",\"\",\"\",\"\",\"\",\"\",\"\",\"\",\"\",\"\",\"\",\"\",\"\",\"\",\"\",\"\",\"\",\"\",\"\",\"\",\"\",\"\",\"\",\"\",\"\",\"\",\"\",\"\",\"\",\"\",\"\",\"\",\"\",\"\",\"\",\"\",\"\",\"\",\"\",\"\",\"\",\"\",\"\",\"\",\"\",\"\",\"\",\"\",\"\",\"\",\"\",\"\",\"\",\"\",\"\",\"\",\"\",\"\",\"\",\"\",\"\",\"\",\"\",\"\",\"\",\"\",\"\",\"\",\"\",\"\",\"\",\"\",\"\",\"\",\"\",\"\",\"\",\"\"]},\"selected\":{\"id\":\"3433\"},\"selection_policy\":{\"id\":\"3432\"}},\"id\":\"3300\",\"type\":\"ColumnDataSource\"},{\"attributes\":{},\"id\":\"3337\",\"type\":\"ResetTool\"},{\"attributes\":{},\"id\":\"3433\",\"type\":\"Selection\"},{\"attributes\":{\"dimension\":\"lon\"},\"id\":\"3314\",\"type\":\"MercatorTicker\"},{\"attributes\":{},\"id\":\"3309\",\"type\":\"LinearScale\"},{\"attributes\":{\"end\":11500000,\"start\":-7500000},\"id\":\"3307\",\"type\":\"Range1d\"},{\"attributes\":{\"children\":[{\"id\":\"3359\"}]},\"id\":\"3360\",\"type\":\"Row\"},{\"attributes\":{\"bottom_units\":\"screen\",\"coordinates\":null,\"fill_alpha\":0.5,\"fill_color\":\"lightgrey\",\"group\":null,\"left_units\":\"screen\",\"level\":\"overlay\",\"line_alpha\":1.0,\"line_color\":\"black\",\"line_dash\":[4,4],\"line_width\":2,\"right_units\":\"screen\",\"syncable\":false,\"top_units\":\"screen\"},\"id\":\"3339\",\"type\":\"BoxAnnotation\"},{\"attributes\":{\"coordinates\":null,\"data_source\":{\"id\":\"3300\"},\"glyph\":{\"id\":\"3355\"},\"group\":null,\"hover_glyph\":null,\"muted_glyph\":{\"id\":\"3357\"},\"nonselection_glyph\":{\"id\":\"3356\"},\"view\":{\"id\":\"3303\"}},\"id\":\"3358\",\"type\":\"GlyphRenderer\"},{\"attributes\":{},\"id\":\"3329\",\"type\":\"PanTool\"},{\"attributes\":{\"callback\":null},\"id\":\"3335\",\"type\":\"TapTool\"},{\"attributes\":{},\"id\":\"3428\",\"type\":\"AllLabels\"},{\"attributes\":{\"fill_alpha\":{\"value\":0.3},\"fill_color\":{\"value\":\"dodgerblue\"},\"line_color\":{\"value\":\"dodgerblue\"},\"size\":{\"value\":6},\"x\":{\"field\":\"MercatorX\"},\"y\":{\"field\":\"MercatorY\"}},\"id\":\"3355\",\"type\":\"Circle\"},{\"attributes\":{\"dimension\":\"lat\"},\"id\":\"3324\",\"type\":\"MercatorTickFormatter\"},{\"attributes\":{\"children\":[{\"id\":\"3304\"}]},\"id\":\"3361\",\"type\":\"Row\"},{\"attributes\":{\"callback\":null,\"tooltips\":[[\"Date\",\"@datetime\"],[\"Location: \",\"@city, @region\"],[\"Country: \",\"@country\"],[\"Event Type: \",\"@festival_flag\"],[\"Lineup: \",\"@lineup\"]]},\"id\":\"3336\",\"type\":\"HoverTool\"}],\"root_ids\":[\"3362\"]},\"title\":\"Bokeh Application\",\"version\":\"2.4.2\"}};\n  const render_items = [{\"docid\":\"d19f5f11-9883-43a9-ad65-f36029a203c4\",\"root_ids\":[\"3362\"],\"roots\":{\"3362\":\"98b6a455-66c6-442c-ace5-d77b003ed513\"}}];\n  root.Bokeh.embed.embed_items_notebook(docs_json, render_items);\n\n  }\n  if (root.Bokeh !== undefined) {\n    embed_document(root);\n  } else {\n    let attempts = 0;\n    const timer = setInterval(function(root) {\n      if (root.Bokeh !== undefined) {\n        clearInterval(timer);\n        embed_document(root);\n      } else {\n        attempts++;\n        if (attempts > 100) {\n          clearInterval(timer);\n          console.log(\"Bokeh: ERROR: Unable to run BokehJS code because BokehJS library is missing\");\n        }\n      }\n    }, 10, root)\n  }\n})(window);",
      "application/vnd.bokehjs_exec.v0+json": ""
     },
     "metadata": {
      "application/vnd.bokehjs_exec.v0+json": {
       "id": "3362"
      }
     },
     "output_type": "display_data"
    },
    {
     "name": "stderr",
     "output_type": "stream",
     "text": [
      "WARNING:bokeh.embed.util:\n",
      "You are generating standalone HTML/JS output, but trying to use real Python\n",
      "callbacks (i.e. with on_change or on_event). This combination cannot work.\n",
      "\n",
      "Only JavaScript callbacks may be used with standalone output. For more\n",
      "information on JavaScript callbacks with Bokeh, see:\n",
      "\n",
      "    https://docs.bokeh.org/en/latest/docs/user_guide/interaction/callbacks.html\n",
      "\n",
      "Alternatively, to use real Python callbacks, a Bokeh server application may\n",
      "be used. For more information on building and running Bokeh applications, see:\n",
      "\n",
      "    https://docs.bokeh.org/en/latest/docs/user_guide/server.html\n",
      "\n"
     ]
    }
   ],
   "source": [
    "from bokeh.plotting import figure, output_file#, show\n",
    "from bokeh.tile_providers import get_provider, OSM #CARTODBPOSITRON_RETINA, WIKIMEDIA, ESRI_IMAGERY, STAMEN_TONER,\n",
    "from bokeh.models import ColumnDataSource, CDSView, BooleanFilter, CustomJS\n",
    "from bokeh.layouts import layout\n",
    "from bokeh.models import DateRangeSlider\n",
    "from bokeh.io import show, output_notebook\n",
    "from pyproj import Transformer\n",
    "#import xyzservices.providers as xyz\n",
    "\n",
    "# data transformation\n",
    "in_crs = 4326   # coordinates provided in EPSG:4326 format\n",
    "out_crs = 3857   # coordinates output in EPSG 3857 (Web Mercator) format\n",
    "\n",
    "transformer = Transformer.from_crs(in_crs, out_crs, always_xy=True)\n",
    "\n",
    "lons, lats = [], []\n",
    "for lon, lat in list(zip(test_df['longitude'], test_df['latitude'])):\n",
    "    x, y = transformer.transform(lon,lat)\n",
    "    lons.append(x)\n",
    "    lats.append(y)\n",
    "\n",
    "test_df['MercatorX'] = lons\n",
    "test_df['MercatorY'] = lats\n",
    "\n",
    "\n",
    "\n",
    "# visualization\n",
    "#output_file(\"tile.html\")\n",
    "output_notebook()\n",
    "\n",
    "tile_provider = get_provider(OSM)\n",
    "tools = ['pan', 'zoom_in', 'zoom_out', 'wheel_zoom', 'box_zoom', 'lasso_select', 'tap', 'hover', 'reset', 'save']\n",
    "\n",
    "tooltips = [\n",
    "    (\"Date\", '@datetime'),\n",
    "    ('Location: ', '@city, @region'),\n",
    "    ('Country: ', '@country'),\n",
    "    ('Event Type: ', '@festival_flag'),\n",
    "    ('Lineup: ', '@lineup'),\n",
    "]\n",
    "\n",
    "source = ColumnDataSource(test_df)\n",
    "source2 = ColumnDataSource(test_df)\n",
    "\n",
    "show_dat = source.data['show_date']\n",
    "\n",
    "view = CDSView(source=source, filters=[BooleanFilter(show_dat)])\n",
    "\n",
    "date_start = test_df['datetime'].min()\n",
    "date_end = test_df['datetime'].max()\n",
    "\n",
    "# range bounds supplied in web mercator coordinates\n",
    "p = figure(x_range=(-18000000, 20000000), y_range=(-7500000, 11500000),\n",
    "           x_axis_type='mercator', y_axis_type='mercator',\n",
    "           height=700, width=1500,\n",
    "           tools=tools, tooltips=tooltips, active_scroll='wheel_zoom')\n",
    "p.add_tile(tile_provider)\n",
    "p.circle(x='MercatorX', y='MercatorY', size=6, fill_color='dodgerblue', line_color='dodgerblue', fill_alpha=.3, source=source, view=view)\n",
    "\n",
    "# callback = CustomJS(args=dict(source=source, ref_source=source2), code=\"\"\"\n",
    "#     // print out array of date from, date to\n",
    "#     console.log(cb_obj.value);\n",
    "#\n",
    "#     // dates returned from slider are not at round intervals and include time;\n",
    "#     const date_from = Date.parse(new Date(cb_obj.value[0]).toDateString());\n",
    "#     const date_to = Date.parse(new Date(cb_obj.value[1]).toDateString());\n",
    "#     console.log(date_from, date_to)\n",
    "#\n",
    "#     // Creating the Data Sources\n",
    "#     const data = source.data;\n",
    "#     const ref = ref_source.data;\n",
    "#\n",
    "#     // Creating new Array and appending correctly parsed dates\n",
    "#     let new_ref = []\n",
    "#     ref[\"DateTime\"].forEach(elem => {\n",
    "#         elem = Date.parse(new Date(elem).toDateString());\n",
    "#         new_ref.push(elem);\n",
    "#         console.log(elem);\n",
    "#     })\n",
    "#\n",
    "#     // Creating Indices with new Array\n",
    "#     const from_pos = new_ref.indexOf(date_from);\n",
    "#     const to_pos = new_ref.indexOf(date_to);\n",
    "#\n",
    "#\n",
    "#     // re-create the source data from \"reference\"\n",
    "#     data[\"datetime\"] = ref[\"datetime\"].slice(from_pos, to_pos);\n",
    "#     source.change.emit();\n",
    "#     \"\"\")\n",
    "#\n",
    "\n",
    "date_slider = DateRangeSlider(\n",
    "    title=\" Adjust Date range\",\n",
    "    start=min(test_df['datetime']),\n",
    "    end=max(test_df['datetime']),\n",
    "    step=1,\n",
    "    value=(\n",
    "        min(test_df['datetime']), max(test_df['datetime'])\n",
    "    )\n",
    ")\n",
    "\n",
    "#date_slider.js_link(\"value\", p.x_range, \"start\", attr_selector=0)\n",
    "#date_slider.js_link(\"value\", p.x_range, \"end\", attr_selector=1)\n",
    "\n",
    "#date_slider.js_on_change('value', callback)\n",
    "\n",
    "# def update_plot(attr, old, new):\n",
    "#      datesel = datetime.fromtimestamp(new / 1000).strftime('%Y-%m-%d')\n",
    "#      new_data = test_df[test_df['date'] == datesel]\n",
    "#      source.data.update(ColumnDataSource(new_data).data)\n",
    "# date_slider.js_on_change('value', update_plot)\n",
    "\n",
    "#https://data-dive.com/cologne-bike-rentals-interactive-map-bokeh-dynamic-choropleth\n",
    "#https://stackoverflow.com/questions/55742220/converting-python-callback-function-to-javascript\n",
    "\n",
    "# def update(source=source, slider=date_slider, window=None):\n",
    "#     data=source.data\n",
    "#     v_start = cb_obj.get('value')[0]\n",
    "#     v_end = cb_obj.get('value')[1]\n",
    "#     mask = np.logical_and(data['datetime'] > v_start, data['datetime'] < v_end)\n",
    "#     source.data['show_date'] = mask\n",
    "#     source.trigger('change')\n",
    "\n",
    "#date_slider.js_on_change('value', update)\n",
    "\n",
    "\n",
    "# slider_callback = CustomJS(\n",
    "#     args=dict(source=source, slider=date_slider),\n",
    "#     code=\"\"\"\n",
    "#     //var data = source.data\n",
    "#     //var v_start = slider.value[0]\n",
    "#     //var v_end = slider.value[1]\n",
    "#     //var mask = data.datetime > v_start && data.datetime < v_end\n",
    "#     //data.show_date = mask\n",
    "#     //console.log(v_start)\n",
    "#     //console.log(v_end)\n",
    "#     //source.trigger('change')\n",
    "#\n",
    "#     var date1 = new Date(this.value[0])\n",
    "#     var date2 = new Date(this.value[1])\n",
    "#     var d1 = date1.getFullYear()+\"-\"+(date1.getMonth()+1)+\"-\"+date1.getDate()\n",
    "#     var dd1 = date1.toISOString().split('T')[0]\n",
    "#     var d2 = date2.getFullYear()+\"-\"+(date2.getMonth()+1)+\"-\"+date2.getDate()\n",
    "#     var dd2 = date2.toISOString().split('T')[0]\n",
    "#     console.log('date_range_slider: value=' + dd1 + ' ------- fuck you javascript ------- ' + dd2)\n",
    "#     \"\"\"\n",
    "# )\n",
    "#\n",
    "# date_slider.js_on_change('value', slider_callback)\n",
    "\n",
    "def my_text_input_handler(attr, old, new):\n",
    "    print(\"Previous label: \" + old)\n",
    "    print(\"Updated label: \" + new)\n",
    "\n",
    "date_slider.on_change('value', my_text_input_handler)\n",
    "\n",
    "layout = layout([date_slider], [p])\n",
    "show(layout)\n",
    "# show(p)"
   ],
   "metadata": {
    "collapsed": false,
    "pycharm": {
     "name": "#%%\n"
    }
   }
  },
  {
   "cell_type": "code",
   "execution_count": 14,
   "outputs": [
    {
     "data": {
      "text/html": "\n    <div class=\"bk-root\">\n        <a href=\"https://bokeh.org\" target=\"_blank\" class=\"bk-logo bk-logo-small bk-logo-notebook\"></a>\n        <span id=\"1522\">Loading BokehJS ...</span>\n    </div>"
     },
     "metadata": {},
     "output_type": "display_data"
    },
    {
     "data": {
      "application/javascript": "\n(function(root) {\n  function now() {\n    return new Date();\n  }\n\n  const force = true;\n\n  if (typeof root._bokeh_onload_callbacks === \"undefined\" || force === true) {\n    root._bokeh_onload_callbacks = [];\n    root._bokeh_is_loading = undefined;\n  }\n\n  const JS_MIME_TYPE = 'application/javascript';\n  const HTML_MIME_TYPE = 'text/html';\n  const EXEC_MIME_TYPE = 'application/vnd.bokehjs_exec.v0+json';\n  const CLASS_NAME = 'output_bokeh rendered_html';\n\n  /**\n   * Render data to the DOM node\n   */\n  function render(props, node) {\n    const script = document.createElement(\"script\");\n    node.appendChild(script);\n  }\n\n  /**\n   * Handle when an output is cleared or removed\n   */\n  function handleClearOutput(event, handle) {\n    const cell = handle.cell;\n\n    const id = cell.output_area._bokeh_element_id;\n    const server_id = cell.output_area._bokeh_server_id;\n    // Clean up Bokeh references\n    if (id != null && id in Bokeh.index) {\n      Bokeh.index[id].model.document.clear();\n      delete Bokeh.index[id];\n    }\n\n    if (server_id !== undefined) {\n      // Clean up Bokeh references\n      const cmd_clean = \"from bokeh.io.state import curstate; print(curstate().uuid_to_server['\" + server_id + \"'].get_sessions()[0].document.roots[0]._id)\";\n      cell.notebook.kernel.execute(cmd_clean, {\n        iopub: {\n          output: function(msg) {\n            const id = msg.content.text.trim();\n            if (id in Bokeh.index) {\n              Bokeh.index[id].model.document.clear();\n              delete Bokeh.index[id];\n            }\n          }\n        }\n      });\n      // Destroy server and session\n      const cmd_destroy = \"import bokeh.io.notebook as ion; ion.destroy_server('\" + server_id + \"')\";\n      cell.notebook.kernel.execute(cmd_destroy);\n    }\n  }\n\n  /**\n   * Handle when a new output is added\n   */\n  function handleAddOutput(event, handle) {\n    const output_area = handle.output_area;\n    const output = handle.output;\n\n    // limit handleAddOutput to display_data with EXEC_MIME_TYPE content only\n    if ((output.output_type != \"display_data\") || (!Object.prototype.hasOwnProperty.call(output.data, EXEC_MIME_TYPE))) {\n      return\n    }\n\n    const toinsert = output_area.element.find(\".\" + CLASS_NAME.split(' ')[0]);\n\n    if (output.metadata[EXEC_MIME_TYPE][\"id\"] !== undefined) {\n      toinsert[toinsert.length - 1].firstChild.textContent = output.data[JS_MIME_TYPE];\n      // store reference to embed id on output_area\n      output_area._bokeh_element_id = output.metadata[EXEC_MIME_TYPE][\"id\"];\n    }\n    if (output.metadata[EXEC_MIME_TYPE][\"server_id\"] !== undefined) {\n      const bk_div = document.createElement(\"div\");\n      bk_div.innerHTML = output.data[HTML_MIME_TYPE];\n      const script_attrs = bk_div.children[0].attributes;\n      for (let i = 0; i < script_attrs.length; i++) {\n        toinsert[toinsert.length - 1].firstChild.setAttribute(script_attrs[i].name, script_attrs[i].value);\n        toinsert[toinsert.length - 1].firstChild.textContent = bk_div.children[0].textContent\n      }\n      // store reference to server id on output_area\n      output_area._bokeh_server_id = output.metadata[EXEC_MIME_TYPE][\"server_id\"];\n    }\n  }\n\n  function register_renderer(events, OutputArea) {\n\n    function append_mime(data, metadata, element) {\n      // create a DOM node to render to\n      const toinsert = this.create_output_subarea(\n        metadata,\n        CLASS_NAME,\n        EXEC_MIME_TYPE\n      );\n      this.keyboard_manager.register_events(toinsert);\n      // Render to node\n      const props = {data: data, metadata: metadata[EXEC_MIME_TYPE]};\n      render(props, toinsert[toinsert.length - 1]);\n      element.append(toinsert);\n      return toinsert\n    }\n\n    /* Handle when an output is cleared or removed */\n    events.on('clear_output.CodeCell', handleClearOutput);\n    events.on('delete.Cell', handleClearOutput);\n\n    /* Handle when a new output is added */\n    events.on('output_added.OutputArea', handleAddOutput);\n\n    /**\n     * Register the mime type and append_mime function with output_area\n     */\n    OutputArea.prototype.register_mime_type(EXEC_MIME_TYPE, append_mime, {\n      /* Is output safe? */\n      safe: true,\n      /* Index of renderer in `output_area.display_order` */\n      index: 0\n    });\n  }\n\n  // register the mime type if in Jupyter Notebook environment and previously unregistered\n  if (root.Jupyter !== undefined) {\n    const events = require('base/js/events');\n    const OutputArea = require('notebook/js/outputarea').OutputArea;\n\n    if (OutputArea.prototype.mime_types().indexOf(EXEC_MIME_TYPE) == -1) {\n      register_renderer(events, OutputArea);\n    }\n  }\n\n  \n  if (typeof (root._bokeh_timeout) === \"undefined\" || force === true) {\n    root._bokeh_timeout = Date.now() + 5000;\n    root._bokeh_failed_load = false;\n  }\n\n  const NB_LOAD_WARNING = {'data': {'text/html':\n     \"<div style='background-color: #fdd'>\\n\"+\n     \"<p>\\n\"+\n     \"BokehJS does not appear to have successfully loaded. If loading BokehJS from CDN, this \\n\"+\n     \"may be due to a slow or bad network connection. Possible fixes:\\n\"+\n     \"</p>\\n\"+\n     \"<ul>\\n\"+\n     \"<li>re-rerun `output_notebook()` to attempt to load from CDN again, or</li>\\n\"+\n     \"<li>use INLINE resources instead, as so:</li>\\n\"+\n     \"</ul>\\n\"+\n     \"<code>\\n\"+\n     \"from bokeh.resources import INLINE\\n\"+\n     \"output_notebook(resources=INLINE)\\n\"+\n     \"</code>\\n\"+\n     \"</div>\"}};\n\n  function display_loaded() {\n    const el = document.getElementById(\"1522\");\n    if (el != null) {\n      el.textContent = \"BokehJS is loading...\";\n    }\n    if (root.Bokeh !== undefined) {\n      if (el != null) {\n        el.textContent = \"BokehJS \" + root.Bokeh.version + \" successfully loaded.\";\n      }\n    } else if (Date.now() < root._bokeh_timeout) {\n      setTimeout(display_loaded, 100)\n    }\n  }\n\n\n  function run_callbacks() {\n    try {\n      root._bokeh_onload_callbacks.forEach(function(callback) {\n        if (callback != null)\n          callback();\n      });\n    } finally {\n      delete root._bokeh_onload_callbacks\n    }\n    console.debug(\"Bokeh: all callbacks have finished\");\n  }\n\n  function load_libs(css_urls, js_urls, callback) {\n    if (css_urls == null) css_urls = [];\n    if (js_urls == null) js_urls = [];\n\n    root._bokeh_onload_callbacks.push(callback);\n    if (root._bokeh_is_loading > 0) {\n      console.debug(\"Bokeh: BokehJS is being loaded, scheduling callback at\", now());\n      return null;\n    }\n    if (js_urls == null || js_urls.length === 0) {\n      run_callbacks();\n      return null;\n    }\n    console.debug(\"Bokeh: BokehJS not loaded, scheduling load and callback at\", now());\n    root._bokeh_is_loading = css_urls.length + js_urls.length;\n\n    function on_load() {\n      root._bokeh_is_loading--;\n      if (root._bokeh_is_loading === 0) {\n        console.debug(\"Bokeh: all BokehJS libraries/stylesheets loaded\");\n        run_callbacks()\n      }\n    }\n\n    function on_error(url) {\n      console.error(\"failed to load \" + url);\n    }\n\n    for (let i = 0; i < css_urls.length; i++) {\n      const url = css_urls[i];\n      const element = document.createElement(\"link\");\n      element.onload = on_load;\n      element.onerror = on_error.bind(null, url);\n      element.rel = \"stylesheet\";\n      element.type = \"text/css\";\n      element.href = url;\n      console.debug(\"Bokeh: injecting link tag for BokehJS stylesheet: \", url);\n      document.body.appendChild(element);\n    }\n\n    for (let i = 0; i < js_urls.length; i++) {\n      const url = js_urls[i];\n      const element = document.createElement('script');\n      element.onload = on_load;\n      element.onerror = on_error.bind(null, url);\n      element.async = false;\n      element.src = url;\n      console.debug(\"Bokeh: injecting script tag for BokehJS library: \", url);\n      document.head.appendChild(element);\n    }\n  };\n\n  function inject_raw_css(css) {\n    const element = document.createElement(\"style\");\n    element.appendChild(document.createTextNode(css));\n    document.body.appendChild(element);\n  }\n\n  \n  const js_urls = [\"https://cdn.bokeh.org/bokeh/release/bokeh-2.4.2.min.js\", \"https://cdn.bokeh.org/bokeh/release/bokeh-gl-2.4.2.min.js\", \"https://cdn.bokeh.org/bokeh/release/bokeh-widgets-2.4.2.min.js\", \"https://cdn.bokeh.org/bokeh/release/bokeh-tables-2.4.2.min.js\", \"https://cdn.bokeh.org/bokeh/release/bokeh-mathjax-2.4.2.min.js\"];\n  const css_urls = [];\n  \n\n  const inline_js = [\n    function(Bokeh) {\n      Bokeh.set_log_level(\"info\");\n    },\n    function(Bokeh) {\n    \n    \n    }\n  ];\n\n  function run_inline_js() {\n    \n    if (root.Bokeh !== undefined || force === true) {\n      \n    for (let i = 0; i < inline_js.length; i++) {\n      inline_js[i].call(root, root.Bokeh);\n    }\n    if (force === true) {\n        display_loaded();\n      }} else if (Date.now() < root._bokeh_timeout) {\n      setTimeout(run_inline_js, 100);\n    } else if (!root._bokeh_failed_load) {\n      console.log(\"Bokeh: BokehJS failed to load within specified timeout.\");\n      root._bokeh_failed_load = true;\n    } else if (force !== true) {\n      const cell = $(document.getElementById(\"1522\")).parents('.cell').data().cell;\n      cell.output_area.append_execute_result(NB_LOAD_WARNING)\n    }\n\n  }\n\n  if (root._bokeh_is_loading === 0) {\n    console.debug(\"Bokeh: BokehJS loaded, going straight to plotting\");\n    run_inline_js();\n  } else {\n    load_libs(css_urls, js_urls, function() {\n      console.debug(\"Bokeh: BokehJS plotting callback run at\", now());\n      run_inline_js();\n    });\n  }\n}(window));",
      "application/vnd.bokehjs_load.v0+json": "\n(function(root) {\n  function now() {\n    return new Date();\n  }\n\n  const force = true;\n\n  if (typeof root._bokeh_onload_callbacks === \"undefined\" || force === true) {\n    root._bokeh_onload_callbacks = [];\n    root._bokeh_is_loading = undefined;\n  }\n\n  \n\n  \n  if (typeof (root._bokeh_timeout) === \"undefined\" || force === true) {\n    root._bokeh_timeout = Date.now() + 5000;\n    root._bokeh_failed_load = false;\n  }\n\n  const NB_LOAD_WARNING = {'data': {'text/html':\n     \"<div style='background-color: #fdd'>\\n\"+\n     \"<p>\\n\"+\n     \"BokehJS does not appear to have successfully loaded. If loading BokehJS from CDN, this \\n\"+\n     \"may be due to a slow or bad network connection. Possible fixes:\\n\"+\n     \"</p>\\n\"+\n     \"<ul>\\n\"+\n     \"<li>re-rerun `output_notebook()` to attempt to load from CDN again, or</li>\\n\"+\n     \"<li>use INLINE resources instead, as so:</li>\\n\"+\n     \"</ul>\\n\"+\n     \"<code>\\n\"+\n     \"from bokeh.resources import INLINE\\n\"+\n     \"output_notebook(resources=INLINE)\\n\"+\n     \"</code>\\n\"+\n     \"</div>\"}};\n\n  function display_loaded() {\n    const el = document.getElementById(\"1522\");\n    if (el != null) {\n      el.textContent = \"BokehJS is loading...\";\n    }\n    if (root.Bokeh !== undefined) {\n      if (el != null) {\n        el.textContent = \"BokehJS \" + root.Bokeh.version + \" successfully loaded.\";\n      }\n    } else if (Date.now() < root._bokeh_timeout) {\n      setTimeout(display_loaded, 100)\n    }\n  }\n\n\n  function run_callbacks() {\n    try {\n      root._bokeh_onload_callbacks.forEach(function(callback) {\n        if (callback != null)\n          callback();\n      });\n    } finally {\n      delete root._bokeh_onload_callbacks\n    }\n    console.debug(\"Bokeh: all callbacks have finished\");\n  }\n\n  function load_libs(css_urls, js_urls, callback) {\n    if (css_urls == null) css_urls = [];\n    if (js_urls == null) js_urls = [];\n\n    root._bokeh_onload_callbacks.push(callback);\n    if (root._bokeh_is_loading > 0) {\n      console.debug(\"Bokeh: BokehJS is being loaded, scheduling callback at\", now());\n      return null;\n    }\n    if (js_urls == null || js_urls.length === 0) {\n      run_callbacks();\n      return null;\n    }\n    console.debug(\"Bokeh: BokehJS not loaded, scheduling load and callback at\", now());\n    root._bokeh_is_loading = css_urls.length + js_urls.length;\n\n    function on_load() {\n      root._bokeh_is_loading--;\n      if (root._bokeh_is_loading === 0) {\n        console.debug(\"Bokeh: all BokehJS libraries/stylesheets loaded\");\n        run_callbacks()\n      }\n    }\n\n    function on_error(url) {\n      console.error(\"failed to load \" + url);\n    }\n\n    for (let i = 0; i < css_urls.length; i++) {\n      const url = css_urls[i];\n      const element = document.createElement(\"link\");\n      element.onload = on_load;\n      element.onerror = on_error.bind(null, url);\n      element.rel = \"stylesheet\";\n      element.type = \"text/css\";\n      element.href = url;\n      console.debug(\"Bokeh: injecting link tag for BokehJS stylesheet: \", url);\n      document.body.appendChild(element);\n    }\n\n    for (let i = 0; i < js_urls.length; i++) {\n      const url = js_urls[i];\n      const element = document.createElement('script');\n      element.onload = on_load;\n      element.onerror = on_error.bind(null, url);\n      element.async = false;\n      element.src = url;\n      console.debug(\"Bokeh: injecting script tag for BokehJS library: \", url);\n      document.head.appendChild(element);\n    }\n  };\n\n  function inject_raw_css(css) {\n    const element = document.createElement(\"style\");\n    element.appendChild(document.createTextNode(css));\n    document.body.appendChild(element);\n  }\n\n  \n  const js_urls = [\"https://cdn.bokeh.org/bokeh/release/bokeh-2.4.2.min.js\", \"https://cdn.bokeh.org/bokeh/release/bokeh-gl-2.4.2.min.js\", \"https://cdn.bokeh.org/bokeh/release/bokeh-widgets-2.4.2.min.js\", \"https://cdn.bokeh.org/bokeh/release/bokeh-tables-2.4.2.min.js\", \"https://cdn.bokeh.org/bokeh/release/bokeh-mathjax-2.4.2.min.js\"];\n  const css_urls = [];\n  \n\n  const inline_js = [\n    function(Bokeh) {\n      Bokeh.set_log_level(\"info\");\n    },\n    function(Bokeh) {\n    \n    \n    }\n  ];\n\n  function run_inline_js() {\n    \n    if (root.Bokeh !== undefined || force === true) {\n      \n    for (let i = 0; i < inline_js.length; i++) {\n      inline_js[i].call(root, root.Bokeh);\n    }\n    if (force === true) {\n        display_loaded();\n      }} else if (Date.now() < root._bokeh_timeout) {\n      setTimeout(run_inline_js, 100);\n    } else if (!root._bokeh_failed_load) {\n      console.log(\"Bokeh: BokehJS failed to load within specified timeout.\");\n      root._bokeh_failed_load = true;\n    } else if (force !== true) {\n      const cell = $(document.getElementById(\"1522\")).parents('.cell').data().cell;\n      cell.output_area.append_execute_result(NB_LOAD_WARNING)\n    }\n\n  }\n\n  if (root._bokeh_is_loading === 0) {\n    console.debug(\"Bokeh: BokehJS loaded, going straight to plotting\");\n    run_inline_js();\n  } else {\n    load_libs(css_urls, js_urls, function() {\n      console.debug(\"Bokeh: BokehJS plotting callback run at\", now());\n      run_inline_js();\n    });\n  }\n}(window));"
     },
     "metadata": {},
     "output_type": "display_data"
    },
    {
     "data": {
      "text/html": "\n\n\n\n\n\n  <div class=\"bk-root\" id=\"890d7048-ec85-4985-9bd9-d46af07da0d6\" data-root-id=\"1521\"></div>\n"
     },
     "metadata": {},
     "output_type": "display_data"
    },
    {
     "data": {
      "application/javascript": "(function(root) {\n  function embed_document(root) {\n    \n  const docs_json = {\"3f8a126f-b7cb-4b95-a2fd-bcfcf992a24e\":{\"defs\":[],\"roots\":{\"references\":[{\"attributes\":{\"children\":[{\"id\":\"1476\"},{\"id\":\"1520\"}]},\"id\":\"1521\",\"type\":\"Row\"},{\"attributes\":{},\"id\":\"1498\",\"type\":\"HelpTool\"},{\"attributes\":{},\"id\":\"1486\",\"type\":\"BasicTicker\"},{\"attributes\":{},\"id\":\"1546\",\"type\":\"UnionRenderers\"},{\"attributes\":{},\"id\":\"1494\",\"type\":\"WheelZoomTool\"},{\"attributes\":{},\"id\":\"1493\",\"type\":\"PanTool\"},{\"attributes\":{},\"id\":\"1541\",\"type\":\"BasicTickFormatter\"},{\"attributes\":{\"axis\":{\"id\":\"1485\"},\"coordinates\":null,\"group\":null,\"ticker\":null},\"id\":\"1488\",\"type\":\"Grid\"},{\"attributes\":{\"overlay\":{\"id\":\"1499\"}},\"id\":\"1495\",\"type\":\"BoxZoomTool\"},{\"attributes\":{},\"id\":\"1496\",\"type\":\"SaveTool\"},{\"attributes\":{},\"id\":\"1497\",\"type\":\"ResetTool\"},{\"attributes\":{},\"id\":\"1538\",\"type\":\"BasicTickFormatter\"},{\"attributes\":{},\"id\":\"1547\",\"type\":\"Selection\"},{\"attributes\":{\"bottom_units\":\"screen\",\"coordinates\":null,\"fill_alpha\":0.5,\"fill_color\":\"lightgrey\",\"group\":null,\"left_units\":\"screen\",\"level\":\"overlay\",\"line_alpha\":1.0,\"line_color\":\"black\",\"line_dash\":[4,4],\"line_width\":2,\"right_units\":\"screen\",\"syncable\":false,\"top_units\":\"screen\"},\"id\":\"1499\",\"type\":\"BoxAnnotation\"},{\"attributes\":{\"coordinates\":null,\"data_source\":{\"id\":\"1475\"},\"glyph\":{\"id\":\"1508\"},\"group\":null,\"hover_glyph\":null,\"muted_glyph\":{\"id\":\"1514\"},\"nonselection_glyph\":{\"id\":\"1511\"},\"view\":{\"id\":\"1518\"}},\"id\":\"1517\",\"type\":\"GlyphRenderer\"},{\"attributes\":{\"coordinates\":null,\"group\":null},\"id\":\"1535\",\"type\":\"Title\"},{\"attributes\":{\"data\":{\"x_values\":{\"__ndarray__\":\"AAAAAAAAAAAxb2dIzNu5PzFvZ0jM28k/ZZNNNtlk0z8xb2dIzNvZP3+lQK1fKeA/ZZNNNtlk4z9LgVq/UqDmPzFvZ0jM2+k/F1100UUX7T9/pUCtXynwP3Icx3Ecx/E/ZZNNNtlk8z9YCtT6lQL1P0uBWr9SoPY/Pvjggw8++D8xb2dIzNv5PyTm7QyJefs/F1100UUX/T8K1PqVArX+P3+lQK1fKQBA+OCDDz74AEByHMdxHMcBQOtXCtT6lQJAZZNNNtlkA0DezpCYtzMEQFgK1PqVAgVA0UUXXXTRBUBLgVq/UqAGQMS8nSExbwdAPvjggw8+CEC3MyTm7QwJQDFvZ0jM2wlAq6qqqqqqCkAk5u0MiXkLQJ4hMW9nSAxAF1100UUXDUCRmLczJOYNQArU+pUCtQ5AhA8++OCDD0B/pUCtXykQQDtDYt7OkBBA+OCDDz74EEC1fqVArV8RQHIcx3EcxxFALrrooosuEkDrVwrU+pUSQKj1KwVq/RJAZZNNNtlkE0AiMW9nSMwTQN7OkJi3MxRAm2yyySabFEBYCtT6lQIVQBWo9SsFahVA0UUXXXTRFUCO4ziO4zgWQEuBWr9SoBZACB988MEHF0DEvJ0hMW8XQIFav1Kg1hdAPvjggw8+GED7lQK1fqUYQLczJObtDBlAdNFFF110GUAxb2dIzNsZQO4MiXk7QxpAq6qqqqqqGkBnSMzbGRIbQCTm7QyJeRtA4YMPPvjgG0CeITFvZ0gcQFq/UqDWrxxAF1100UUXHUDU+pUCtX4dQJGYtzMk5h1ATTbZZJNNHkAK1PqVArUeQMdxHMdxHB9AhA8++OCDH0BArV8pUOsfQH+lQK1fKSBAXXTRRRddIEA7Q2LezpAgQBoS83aGxCBA+OCDDz74IEDXrxSo9SshQLV+pUCtXyFAk0022WSTIUByHMdxHMchQFDrVwrU+iFALrrooosuIkANiXk7Q2IiQOtXCtT6lSJAyiabbLLJIkCo9SsFav0iQIbEvJ0hMSNAZZNNNtlkI0BDYt7OkJgjQCIxb2dIzCNAAAAAAAAAJEA=\",\"dtype\":\"float64\",\"order\":\"little\",\"shape\":[100]},\"y_values\":{\"__ndarray__\":\"AAAAAAAAAAAxb2dIzNu5PzFvZ0jM28k/ZZNNNtlk0z8xb2dIzNvZP3+lQK1fKeA/ZZNNNtlk4z9LgVq/UqDmPzFvZ0jM2+k/F1100UUX7T9/pUCtXynwP3Icx3Ecx/E/ZZNNNtlk8z9YCtT6lQL1P0uBWr9SoPY/Pvjggw8++D8xb2dIzNv5PyTm7QyJefs/F1100UUX/T8K1PqVArX+P3+lQK1fKQBA+OCDDz74AEByHMdxHMcBQOtXCtT6lQJAZZNNNtlkA0DezpCYtzMEQFgK1PqVAgVA0UUXXXTRBUBLgVq/UqAGQMS8nSExbwdAPvjggw8+CEC3MyTm7QwJQDFvZ0jM2wlAq6qqqqqqCkAk5u0MiXkLQJ4hMW9nSAxAF1100UUXDUCRmLczJOYNQArU+pUCtQ5AhA8++OCDD0B/pUCtXykQQDtDYt7OkBBA+OCDDz74EEC1fqVArV8RQHIcx3EcxxFALrrooosuEkDrVwrU+pUSQKj1KwVq/RJAZZNNNtlkE0AiMW9nSMwTQN7OkJi3MxRAm2yyySabFEBYCtT6lQIVQBWo9SsFahVA0UUXXXTRFUCO4ziO4zgWQEuBWr9SoBZACB988MEHF0DEvJ0hMW8XQIFav1Kg1hdAPvjggw8+GED7lQK1fqUYQLczJObtDBlAdNFFF110GUAxb2dIzNsZQO4MiXk7QxpAq6qqqqqqGkBnSMzbGRIbQCTm7QyJeRtA4YMPPvjgG0CeITFvZ0gcQFq/UqDWrxxAF1100UUXHUDU+pUCtX4dQJGYtzMk5h1ATTbZZJNNHkAK1PqVArUeQMdxHMdxHB9AhA8++OCDH0BArV8pUOsfQH+lQK1fKSBAXXTRRRddIEA7Q2LezpAgQBoS83aGxCBA+OCDDz74IEDXrxSo9SshQLV+pUCtXyFAk0022WSTIUByHMdxHMchQFDrVwrU+iFALrrooosuIkANiXk7Q2IiQOtXCtT6lSJAyiabbLLJIkCo9SsFav0iQIbEvJ0hMSNAZZNNNtlkI0BDYt7OkJgjQCIxb2dIzCNAAAAAAAAAJEA=\",\"dtype\":\"float64\",\"order\":\"little\",\"shape\":[100]}},\"selected\":{\"id\":\"1547\"},\"selection_policy\":{\"id\":\"1546\"}},\"id\":\"1474\",\"type\":\"ColumnDataSource\"},{\"attributes\":{},\"id\":\"1483\",\"type\":\"LinearScale\"},{\"attributes\":{\"coordinates\":null,\"formatter\":{\"id\":\"1538\"},\"group\":null,\"major_label_policy\":{\"id\":\"1539\"},\"ticker\":{\"id\":\"1490\"}},\"id\":\"1489\",\"type\":\"LinearAxis\"},{\"attributes\":{\"axis\":{\"id\":\"1489\"},\"coordinates\":null,\"dimension\":1,\"group\":null,\"ticker\":null},\"id\":\"1492\",\"type\":\"Grid\"},{\"attributes\":{\"coordinates\":null,\"formatter\":{\"id\":\"1541\"},\"group\":null,\"major_label_policy\":{\"id\":\"1542\"},\"ticker\":{\"id\":\"1486\"}},\"id\":\"1485\",\"type\":\"LinearAxis\"},{\"attributes\":{\"source\":{\"id\":\"1475\"}},\"id\":\"1518\",\"type\":\"CDSView\"},{\"attributes\":{\"below\":[{\"id\":\"1485\"}],\"center\":[{\"id\":\"1488\"},{\"id\":\"1492\"}],\"height\":300,\"left\":[{\"id\":\"1489\"}],\"renderers\":[{\"id\":\"1517\"}],\"title\":{\"id\":\"1535\"},\"toolbar\":{\"id\":\"1500\"},\"width\":300,\"x_range\":{\"id\":\"1477\"},\"x_scale\":{\"id\":\"1481\"},\"y_range\":{\"id\":\"1479\"},\"y_scale\":{\"id\":\"1483\"}},\"id\":\"1476\",\"subtype\":\"Figure\",\"type\":\"Plot\"},{\"attributes\":{},\"id\":\"1481\",\"type\":\"LinearScale\"},{\"attributes\":{\"end\":10},\"id\":\"1479\",\"type\":\"Range1d\"},{\"attributes\":{\"args\":{\"slider\":{\"id\":\"1520\"},\"source\":{\"id\":\"1474\"},\"source_im\":{\"id\":\"1475\"}},\"code\":\"\\n        var x = source.data['x_values'];\\n        var y = source.data['y_values'];\\n        var d = source_im.data['image'][0];\\n        var f = slider.value;\\n        for (var j = 0; j < y.length; j++){\\n            for (var i = 0; i < x.length; i++) {\\n                d[j*y.length + i] = Math.sin(f * x[i]) * Math.cos(f * y[j]);\\n            }\\n        }\\n        source_im.change.emit();\\n    \"},\"id\":\"1519\",\"type\":\"CustomJS\"},{\"attributes\":{\"palette\":[\"#5e4fa2\",\"#3288bd\",\"#66c2a5\",\"#abdda4\",\"#e6f598\",\"#ffffbf\",\"#fee08b\",\"#fdae61\",\"#f46d43\",\"#d53e4f\",\"#9e0142\"]},\"id\":\"1512\",\"type\":\"LinearColorMapper\"},{\"attributes\":{\"palette\":[\"#5e4fa2\",\"#3288bd\",\"#66c2a5\",\"#abdda4\",\"#e6f598\",\"#ffffbf\",\"#fee08b\",\"#fdae61\",\"#f46d43\",\"#d53e4f\",\"#9e0142\"]},\"id\":\"1515\",\"type\":\"LinearColorMapper\"},{\"attributes\":{},\"id\":\"1544\",\"type\":\"Selection\"},{\"attributes\":{},\"id\":\"1490\",\"type\":\"BasicTicker\"},{\"attributes\":{\"color_mapper\":{\"id\":\"1512\"},\"global_alpha\":{\"value\":0.1}},\"id\":\"1511\",\"type\":\"Image\"},{\"attributes\":{\"palette\":[\"#5e4fa2\",\"#3288bd\",\"#66c2a5\",\"#abdda4\",\"#e6f598\",\"#ffffbf\",\"#fee08b\",\"#fdae61\",\"#f46d43\",\"#d53e4f\",\"#9e0142\"]},\"id\":\"1509\",\"type\":\"LinearColorMapper\"},{\"attributes\":{\"end\":10},\"id\":\"1477\",\"type\":\"Range1d\"},{\"attributes\":{\"color_mapper\":{\"id\":\"1515\"},\"global_alpha\":{\"value\":0.2}},\"id\":\"1514\",\"type\":\"Image\"},{\"attributes\":{\"color_mapper\":{\"id\":\"1509\"}},\"id\":\"1508\",\"type\":\"Image\"},{\"attributes\":{\"end\":4,\"js_property_callbacks\":{\"change:value\":[{\"id\":\"1519\"}]},\"start\":0.1,\"step\":0.1,\"title\":\"angular frequency\",\"value\":1},\"id\":\"1520\",\"type\":\"Slider\"},{\"attributes\":{\"tools\":[{\"id\":\"1493\"},{\"id\":\"1494\"},{\"id\":\"1495\"},{\"id\":\"1496\"},{\"id\":\"1497\"},{\"id\":\"1498\"}]},\"id\":\"1500\",\"type\":\"Toolbar\"},{\"attributes\":{},\"id\":\"1542\",\"type\":\"AllLabels\"},{\"attributes\":{},\"id\":\"1539\",\"type\":\"AllLabels\"},{\"attributes\":{},\"id\":\"1543\",\"type\":\"UnionRenderers\"},{\"attributes\":{\"data\":{\"dh\":[10],\"dw\":[10],\"image\":[{\"__ndarray__\":\"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\",\"dtype\":\"float64\",\"order\":\"little\",\"shape\":[100,100]}],\"x\":[0],\"y\":[0]},\"selected\":{\"id\":\"1544\"},\"selection_policy\":{\"id\":\"1543\"}},\"id\":\"1475\",\"type\":\"ColumnDataSource\"}],\"root_ids\":[\"1521\"]},\"title\":\"Bokeh Application\",\"version\":\"2.4.2\"}};\n  const render_items = [{\"docid\":\"3f8a126f-b7cb-4b95-a2fd-bcfcf992a24e\",\"root_ids\":[\"1521\"],\"roots\":{\"1521\":\"890d7048-ec85-4985-9bd9-d46af07da0d6\"}}];\n  root.Bokeh.embed.embed_items_notebook(docs_json, render_items);\n\n  }\n  if (root.Bokeh !== undefined) {\n    embed_document(root);\n  } else {\n    let attempts = 0;\n    const timer = setInterval(function(root) {\n      if (root.Bokeh !== undefined) {\n        clearInterval(timer);\n        embed_document(root);\n      } else {\n        attempts++;\n        if (attempts > 100) {\n          clearInterval(timer);\n          console.log(\"Bokeh: ERROR: Unable to run BokehJS code because BokehJS library is missing\");\n        }\n      }\n    }, 10, root)\n  }\n})(window);",
      "application/vnd.bokehjs_exec.v0+json": ""
     },
     "metadata": {
      "application/vnd.bokehjs_exec.v0+json": {
       "id": "1521"
      }
     },
     "output_type": "display_data"
    }
   ],
   "source": [
    "import numpy as np\n",
    "import bokeh\n",
    "import bokeh.plotting\n",
    "\n",
    "N = 100\n",
    "\n",
    "x = np.linspace(0, 10, N)\n",
    "y = np.linspace(0, 10, N)\n",
    "xx, yy = np.meshgrid(x, y)\n",
    "d = np.sin(xx)*np.cos(yy)\n",
    "\n",
    "source = bokeh.models.ColumnDataSource(data=dict(\n",
    "             x_values=x,  # needed in CustomJS for calculating d\n",
    "             y_values=y,  # needed in CustomJS for calculating d\n",
    "            ))\n",
    "source_im = bokeh.models.ColumnDataSource(data=dict(\n",
    "             image=[d],  # needed for p.image\n",
    "             x=[0],  # needed for p.image\n",
    "             y=[0],  # needed for p.image\n",
    "             dw = [10],  # needed for p.image\n",
    "             dh=[10]  # needed for p.image\n",
    "            ))\n",
    "\n",
    "p = bokeh.plotting.figure(plot_width=300, plot_height=300,\n",
    "                          x_range=[0, 10], y_range=[0, 10])\n",
    "im = p.image(source=source_im, palette=\"Spectral11\")\n",
    "\n",
    "slider_callback = bokeh.models.CustomJS(args=dict(\n",
    "                source=source,source_im=source_im), code=\"\"\"\n",
    "        var x = source.data['x_values'];\n",
    "        var y = source.data['y_values'];\n",
    "        var d = source_im.data['image'][0];\n",
    "        var f = slider.value;\n",
    "        for (var j = 0; j < y.length; j++){\n",
    "            for (var i = 0; i < x.length; i++) {\n",
    "                d[j*y.length + i] = Math.sin(f * x[i]) * Math.cos(f * y[j]);\n",
    "            }\n",
    "        }\n",
    "        source_im.change.emit();\n",
    "    \"\"\")\n",
    "\n",
    "slider = bokeh.models.Slider(start=0.1, end=4, value=1, step=.1,\n",
    "                             title=\"angular frequency\")\n",
    "slider.js_on_change('value', slider_callback)\n",
    "slider_callback.args['slider'] = slider\n",
    "layout = bokeh.models.layouts.Row(p,slider)\n",
    "\n",
    "bokeh.io.output_notebook()\n",
    "bokeh.io.show(layout)"
   ],
   "metadata": {
    "collapsed": false,
    "pycharm": {
     "name": "#%%\n"
    }
   }
  },
  {
   "cell_type": "code",
   "execution_count": 30,
   "outputs": [
    {
     "data": {
      "text/html": "\n\n\n\n\n\n  <div class=\"bk-root\" id=\"b22ac8d7-e036-4876-8022-e77ba16efb03\" data-root-id=\"2583\"></div>\n"
     },
     "metadata": {},
     "output_type": "display_data"
    },
    {
     "data": {
      "application/javascript": "(function(root) {\n  function embed_document(root) {\n    \n  const docs_json = {\"0ed27253-4263-4a95-a0e0-81ad61086ad8\":{\"defs\":[],\"roots\":{\"references\":[{\"attributes\":{\"end\":1514678400000.0,\"js_property_callbacks\":{\"change:value\":[{\"id\":\"2584\"}]},\"start\":1420070400000.0,\"value\":[1451606400000.0,1483142400000.0]},\"id\":\"2583\",\"type\":\"DateRangeSlider\"},{\"attributes\":{\"code\":\"\\n    var date1 = new Date(this.value[0])\\n    var date2 = new Date(this.value[1])\\n    var d1 = date1.getFullYear()+\\\"-\\\"+(date1.getMonth()+1)+\\\"-\\\"+date1.getDate()\\n    var dd1 = date1.toISOString().split('T')[0]\\n    var d2 = date2.getFullYear()+\\\"-\\\"+(date2.getMonth()+1)+\\\"-\\\"+date2.getDate()\\n    var dd2 = date2.toISOString().split('T')[0]\\n    console.log('date_range_slider: value=' + dd1 + ' ------- fuck you javascript ------- ' + dd2)\\n\"},\"id\":\"2584\",\"type\":\"CustomJS\"}],\"root_ids\":[\"2583\"]},\"title\":\"Bokeh Application\",\"version\":\"2.4.2\"}};\n  const render_items = [{\"docid\":\"0ed27253-4263-4a95-a0e0-81ad61086ad8\",\"root_ids\":[\"2583\"],\"roots\":{\"2583\":\"b22ac8d7-e036-4876-8022-e77ba16efb03\"}}];\n  root.Bokeh.embed.embed_items_notebook(docs_json, render_items);\n\n  }\n  if (root.Bokeh !== undefined) {\n    embed_document(root);\n  } else {\n    let attempts = 0;\n    const timer = setInterval(function(root) {\n      if (root.Bokeh !== undefined) {\n        clearInterval(timer);\n        embed_document(root);\n      } else {\n        attempts++;\n        if (attempts > 100) {\n          clearInterval(timer);\n          console.log(\"Bokeh: ERROR: Unable to run BokehJS code because BokehJS library is missing\");\n        }\n      }\n    }, 10, root)\n  }\n})(window);",
      "application/vnd.bokehjs_exec.v0+json": ""
     },
     "metadata": {
      "application/vnd.bokehjs_exec.v0+json": {
       "id": "2583"
      }
     },
     "output_type": "display_data"
    }
   ],
   "source": [
    "from datetime import date\n",
    "\n",
    "from bokeh.io import show\n",
    "from bokeh.models import CustomJS, DateRangeSlider\n",
    "\n",
    "date_range_slider = DateRangeSlider(value=(date(2016, 1, 1), date(2016, 12, 31)),\n",
    "                                    start=date(2015, 1, 1), end=date(2017, 12, 31))\n",
    "date_range_slider.js_on_change(\"value\", CustomJS(code=\"\"\"\n",
    "    var date1 = new Date(this.value[0])\n",
    "    var date2 = new Date(this.value[1])\n",
    "    var d1 = date1.getFullYear()+\"-\"+(date1.getMonth()+1)+\"-\"+date1.getDate()\n",
    "    var dd1 = date1.toISOString().split('T')[0]\n",
    "    var d2 = date2.getFullYear()+\"-\"+(date2.getMonth()+1)+\"-\"+date2.getDate()\n",
    "    var dd2 = date2.toISOString().split('T')[0]\n",
    "    console.log('date_range_slider: value=' + dd1 + ' ------- fuck you javascript ------- ' + dd2)\n",
    "\"\"\"))\n",
    "\n",
    "show(date_range_slider)"
   ],
   "metadata": {
    "collapsed": false,
    "pycharm": {
     "name": "#%%\n"
    }
   }
  },
  {
   "cell_type": "markdown",
   "source": [
    "## Messy Workspace -- May not Run"
   ],
   "metadata": {
    "collapsed": false,
    "pycharm": {
     "name": "#%% md\n"
    }
   }
  },
  {
   "cell_type": "code",
   "execution_count": 15,
   "outputs": [],
   "source": [
    "# source = {'data': {'index': [ 0,  1,  2,  3,  4,  5,  6,  7,  8,  9, 10, 11, 12, 13, 14, 15, 18,\n",
    "#         20, 21, 22, 23, 24, 25, 26, 27, 28, 29, 30, 31, 32, 33, 34, 35, 36,\n",
    "#         37, 38, 39, 40, 41, 42, 44, 45, 46, 47, 48, 49, 50, 51, 52, 53, 54,\n",
    "#         55, 56, 57, 58, 59, 60, 61, 62, 63, 64, 65, 66, 67, 68],\n",
    "#  'datetime': ['2016-12-03', '2017-01-20', '2017-04-22', '2017-04-23',\n",
    "#         '2017-07-22', '2017-08-20', '2017-09-15', '2017-12-29',\n",
    "#         '2018-03-16', '2018-04-22', '2018-06-01', '2018-06-02',\n",
    "#         '2018-06-03', '2018-06-10', '2018-06-29', '2018-07-21',\n",
    "#         '2018-09-09', '2018-09-29', '2018-10-05', '2018-10-26',\n",
    "#         '2018-10-27', '2018-11-02', '2018-11-10', '2018-11-17',\n",
    "#         '2018-12-29', '2018-12-31', '2019-03-01', '2019-05-04',\n",
    "#         '2019-05-10', '2019-05-11', '2019-05-18', '2019-05-19',\n",
    "#         '2019-06-07', '2019-06-08', '2019-06-23', '2019-07-18',\n",
    "#         '2019-07-19', '2019-07-20', '2019-07-21', '2019-08-01',\n",
    "#         '2019-09-20', '2019-09-23', '2019-10-11', '2020-03-06',\n",
    "#         '2020-07-17', '2020-10-08', '2021-05-19', '2021-06-18',\n",
    "#         '2021-07-10', '2021-07-16', '2021-07-22', '2021-07-29',\n",
    "#         '2021-07-30', '2021-08-06', '2021-08-12', '2021-08-13',\n",
    "#         '2021-08-14', '2021-08-27', '2021-09-10', '2021-10-02',\n",
    "#         '2021-10-07', '2021-10-08', '2021-10-15', '2021-10-16',\n",
    "#         '2021-11-27'],\n",
    "#  'title': ['', '', '', '', '', '', '', '', '', '', '', '', '', '', '', '', '',\n",
    "#         '', '', '', '', '', '', '', '', '', '', '', '', '', '', '', '', '',\n",
    "#         '', '', '', '', '', '', '', '', '', '', '', '', '', '', '', '', '',\n",
    "#         '', '', '', '', '', '', '', '', '', '', '', '', '', ''],\n",
    "#\n",
    "#  'lineup': [list(['Kerala Dust', 'Sentiment', 'Dwig', 'Kleintierschaukel', 'SNUR', 'Luke Redford']),\n",
    "#         list(['Kerala Dust', 'Harri', 'Kiosk', 'Constantijn Lange', 'Hobta', 'Jascha Hagen', 'Jonathan Lükermann', 'Chris Schwarzwälder']),\n",
    "#         list(['Kerala Dust', 'Monolink', 'Jacob Groening', 'Just Emma']),\n",
    "#         list(['Kerala Dust', 'Florian Rietze', 'Kiosk', 'Luca Musto', 'Viken Arman', 'YokoO', 'Stavroz', 'Coss', 'Genji Yoshida', 'Jacob Groening']),\n",
    "#         list(['Kerala Dust', 'Polo', 'Sainte Vie', 'Hyenah', 'Pan', 'Juan', 'Remcord', 'David Mears', 'Manumat', 'Raz Ohara', 'Sweet Melodic', 'Mark Höffen', 'Tomanka']),\n",
    "#         list(['Kerala Dust', 'Crussen', 'Armen Miran', 'Rampue', 'WooMoon', 'SPANIOL', 'Rico loop', 'Luca Musto']),\n",
    "#         list(['Kerala Dust']),\n",
    "#         list(['Kerala Dust', 'Marana', 'Javid', 'Elliver', 'Zigan Aldi', 'Karotte', 'Just Emma', 'The Sorry Entertainers', 'Moji ', 'Pauli Pocket', 'Oberst & Buchner', 'Britta Arnold', 'oberst']),\n",
    "#         list(['Kerala Dust', 'Betelgeize', 'Geju']),\n",
    "#         list(['Kerala Dust', 'More', 'Satori', 'Mira', 'Marty', 'Tickets', 'Francisco', 'Rega', 'Atish', 'Nico Stojan', 'Be Svendsen', 'Stavroz', 'Anthony Cardinale', 'Goga', 'Crussen', 'Ninze', 'Feathered Sun', 'Viken Arman', 'Oceanvs Orientalis', 'Sainte Vie', 'SPANIOL', 'David Paglia']),\n",
    "#         list(['Kerala Dust', 'wAFF']),\n",
    "#         list(['Kerala Dust', 'Stavroz', 'Goldcap', 'Viken Arman', 'Oceanvs Orientalis', 'Saand']),\n",
    "#         list(['Kerala Dust', 'Mira', 'Ramona Wouters']),\n",
    "#         list(['Kerala Dust', 'Crussen']),\n",
    "#         list(['Kerala Dust', 'Davi', 'Hraach', 'Sainte Vie', 'Timujin']),\n",
    "#         list(['Kerala Dust', 'Mutlu', 'Satori', 'Mira', 'Fame', 'Bernstein', 'Unders', 'Lovecraft', 'Bo', 'Peter Schumann', 'Sven Dohse', 'Britta Arnold', 'Be Svendsen', 'Jonathan Kaspar', 'Pauli Pocket', 'Daniel Cowel', 'mimi love', 'Caleesi', 'Timujin', 'Billy Caso', 'Sarah Kreis', 'Geju', 'borzu']),\n",
    "#         list(['Kerala Dust', 'Niko Schwind', 'Martha van Straaten', 'Sam Shure', 'Xique-Xique']),\n",
    "#         list(['Kerala Dust', 'Tristen', 'More Tba', 'Rampue', 'Ninze', 'Dwig', 'Die Wilde Jagd', 'Bad Stream']),\n",
    "#         list(['Kerala Dust']),\n",
    "#         list(['Kerala Dust', 'LCD Soundsystem', 'Yelle', 'Loco Dice', 'Apollonia', 'Shonky', 'Paco Osuna', 'Dan Ghenacia', 'Dyed Soundorom', 'Bakke', 'Ish', 'BLOND:ISH', 'Fat Nick', 'Peggy Gou']),\n",
    "#         list(['Kerala Dust', 'TrueVine']), list(['Kerala Dust']),\n",
    "#         list(['Kerala Dust', 'Roderic']),\n",
    "#         list(['Kerala Dust', 'Matanza', 'Isaac Soto']),\n",
    "#         list(['Kerala Dust', 'Pachanga Boys', 'Rodriguez Jr.', 'Axel Boman', 'Sandrino', 'Frankey', 'Concret']),\n",
    "#         list(['Kerala Dust', 'Robosonic']),\n",
    "#         list(['Kerala Dust', 'Zigan Aldi']),\n",
    "#         list(['Kerala Dust', 'Serge Devant', 'HUG', 'O', 'David Delgado', 'Shaun Reeves', 'DoubtingThomas', 'Peter Schumann', 'El Mundo', 'Detmolt', 'Just Emma', 'jPattersson', 'Love Over Entropy', 'UNDERHER', 'Niki Sadeki']),\n",
    "#         list(['Kerala Dust', 'Nico Stojan']),\n",
    "#         list(['Kerala Dust', 'Carlita', 'Red Axes', 'KMLN', 'Armen Miran', 'Gabriel Belmudes']),\n",
    "#         list(['Kerala Dust', 'Ramona Wouters']),\n",
    "#         list(['Kerala Dust', 'Lemurian', 'Lola Villa']),\n",
    "#         list(['Kerala Dust', 'Gorje Hewek', 'Izhevski', 'Secret Guest', 'Meandisco', 'KMLN', 'Veronika Fleyta', 'Geju', 'Sam Shure', 'Amonita']),\n",
    "#         list(['Kerala Dust', 'Stavroz', 'Crussen', 'PERSIAN EMPIRE']),\n",
    "#         list(['Kerala Dust', 'Serge Devant', 'Behrouz', 'Squire', 'Uone', 'Baiuca']),\n",
    "#         list(['Kerala Dust', 'Luciano', 'Very', 'Damian Lazarus', 'Rampue', 'Valentin Huedo', 'LUM', 'Black Motion', 'Jan Blomqvist', 'Huaira', 'Monolink', 'Sainte Vie']),\n",
    "#         list(['Kerala Dust', 'Robag Wruhme', 'MR', 'Kermesse', 'Ish', 'Lazare Hoche', 'Fatoumata', 'ALBA MUSIC', 'Hraach', 'Martha van Straaten', 'cantanca']),\n",
    "#         list(['Kerala Dust', 'Shimon', 'Kerri Chandler', 'Prins Thomas', 'Muallem', 'Recondite', 'Rampue', 'Stimming', 'Kiasmos', 'Christian Löffler', 'Seth Schwarz', 'Jan Blomqvist', 'Be Svendsen', 'Red Axes', 'Ben Rau', 'Konstantin Sibold', 'Parra for Cuva', 'Oceanvs Orientalis', 'Nicola Noir', 'Hraach', 'Emmanuel Russ', 'Fléoz', 'Paul Cut', 'Yarosslav', 'Tomanka']),\n",
    "#         list(['Kerala Dust', 'Shimon', 'Kerri Chandler', 'Rampue', 'Stimming', 'Christian Löffler', 'Seth Schwarz', 'Red Axes', 'Ben Rau', 'Nicola Noir', 'Paul Cut', 'Tomanka']),\n",
    "#         list(['Kerala Dust']), list(['Kerala Dust']),\n",
    "#         list(['Kerala Dust']),\n",
    "#         list(['Kerala Dust', 'Behrouz', 'Chaim', 'Oxia', 'Sabo', 'Raresh', 'Alex Niggemann', 'maher daniel', 'Nicolas Masseyeff', 'Bradley Zero', 'Praslea', 'Amine K', 'Zakaria', 'Konstantin Sibold', 'Two Faced', 'Marwan Sabb', 'Noritsu']),\n",
    "#         list(['Kerala Dust', 'Matija']),\n",
    "#         list(['Kerala Dust', 'Ruthless', 'Angerfist', 'Neophyte', 'DJ Coone', 'Jennifer Cardini', 'Mira', 'TNT', 'Âme', 'Poogie Bear', 'Shimon', 'Darren Styles', 'DJ Mad Dog', 'Tha Playah', 'Art of Fighters', 'The Viper', 'Dominik Eulberg', 'Evil Activities', 'Noize Suppressor', 'Endymion', 'The Prophet', 'Prins Thomas', 'Todd Terje', 'Headhunterz', 'Zatox', 'D-Block & S-Te-Fan', 'Korsakoff', 'Solstice', 'Partyraiser', 'N-Vitral', 'Very', 'Damian Lazarus', 'Batiste', 'Mystery', 'Resident DJ', 'Bass Modulators', 'AniMe', 'Noisecontrollers', 'Wildstylez', 'Da Tweekaz', 'Crypsis', 'Malaika', 'Dr. Evil', 'Dr. Rude', 'Dirty Bastards', 'Loc', 'BASSDRUM PROJECT', 'Broken Minds', 'Javi Boss', 'Frequencerz', 'Mano Le Tough', 'Act of rage', 'Demoniak', 'Javi Aznar', 'DJ Thomas', 'Warface', 'Vicente One More Time', 'Atmozfears', 'Dj Juanma', '&Me', 'Stavros', 'Dr. Phunk', 'Rico loop', 'Wakan', 'Wasted Penguinz', 'Dj DaY-mar', 'Jimi Jules', 'Chris Schwarzwälder', 'Radical Redemption', 'Stavroz', 'Destructive Tendencies', 'Abel K Kaña', 'Pastis & Buenri', 'Powel ', 'Javi Molina', 'Arzadous', 'Konstantin Sibold', 'Weval', 'Sub Zero Project', 'Quatri', 'Mira & Chris Schwarzwälder', 'M.RUX', 'Emmanuel Russ', 'Monolink', 'DIMA', 'HollSön', 'Lady Dammage', 'Tryangle Man', 'Billy Caso', 'Yarosslav', 'Deadly Guns', 'Greazy Puzzy Fuckerz', 'MC Tha Watcher', 'An Eagle In Your Mind']),\n",
    "#         list(['Kerala Dust']), list(['Kerala Dust']),\n",
    "#         list(['Kerala Dust']), list(['Kerala Dust']),\n",
    "#         list(['Kerala Dust', 'Jennifer Cardini', 'Jimi Jules', 'Konstantin Sibold', 'Christopher Schwarzwälder', 'Viken Arman', 'Satori Musica']),\n",
    "#         list(['Kerala Dust']), list(['Kerala Dust']),\n",
    "#         list(['Kerala Dust']), list(['Kerala Dust']),\n",
    "#         list(['Kerala Dust']), list(['Kerala Dust']),\n",
    "#         list(['Kerala Dust']), list(['Kerala Dust']),\n",
    "#         list(['Kerala Dust']), list(['Kerala Dust']),\n",
    "#         list(['Kerala Dust']), list(['Kerala Dust']),\n",
    "#         list(['Kerala Dust']), list(['Kerala Dust']),\n",
    "#         list(['Kerala Dust', 'Stavroz', 'Eagles & Butterflies', 'Perel'])],\n",
    "#\n",
    "#  'festival_start_date': ['', '', '', '', '', '', '', '', '', '', '', '', '', '', '', '', '',\n",
    "#         '', '', '', '', '', '', '', '', '', '', '', '', '', '', '', '', '',\n",
    "#         '', '', '', '', '', '', '', '', '', '', '', '', '', '', '', '', '',\n",
    "#         '', '', '', '', '', '', '', '', '', '', '', '', '', ''],\n",
    "#\n",
    "#  'festival_end_date': ['', '', '', '', '', '', '', '', '', '', '', '', '', '', '', '', '',\n",
    "#         '', '', '', '', '', '', '', '', '', '', '', '', '', '', '', '', '',\n",
    "#         '', '', '', '', '', '', '', '', '', '', '', '', '', '', '', '', '',\n",
    "#         '', '', '', '', '', '', '', '', '', '', '', '', '', ''],\n",
    "#\n",
    "#  'city': ['Zurich', 'Berlin', 'Hamburg', 'Berlin', 'Paris', 'Ibiza', 'Miami',\n",
    "#         'Berlin', 'Moscow', 'Paris', 'Miami', 'Los Angeles', 'Denver',\n",
    "#         'San Francisco', 'Ibiza', 'Berlin', 'Berlin-Altglienicke',\n",
    "#         'Berlin', 'Munich', 'Miami', 'Miami', 'Montreal', 'Center',\n",
    "#         'Center', 'Quintana Roo', 'Quintana Roo', 'Berlin', 'Berlin',\n",
    "#         'San Francisco', 'Queens Village', 'Denver', 'Washington',\n",
    "#         'Moscow', 'London', 'Ibiza', 'Barcelona', 'Mugla',\n",
    "#         'VITRY SUR SEINE', 'VITRY SUR SEINE', 'Diepholz', 'Miami',\n",
    "#         'Los Angeles', 'Essaouira', 'Baden', 'Paris', 'Cologne', 'Hamburg',\n",
    "#         'Kyiv', 'Haale', 'Vitry-sur-Seine', 'Çeşme', 'Berlin', 'Berlin',\n",
    "#         'Mykonos', 'Chorzów', 'Kolkwitz', 'Zürich', 'Lärz',\n",
    "#         'Offenbach am Main', 'İstanbul', 'Basel', 'Zurich', 'Prague',\n",
    "#         'Amsterdam', 'London'],\n",
    "#  'region': ['', '', '', '', '', '', 'FL', '', '', '', 'FL', 'California', '',\n",
    "#         'CA', '', '', '', '', '', 'FL', 'FL', 'QC', '', '', '', '', '', '',\n",
    "#         'CA', 'New York', 'CO', 'DC', '', '', '', '', '', '', '', '', 'FL',\n",
    "#         'CA', '', '', '', '', '', '', '', '', '', '', '', '', '', '', '',\n",
    "#         '', '', '', '', '', '', '', ''],\n",
    "#  'country': ['Switzerland', 'Germany', 'Germany', 'Germany', 'France', 'Spain',\n",
    "#         'United States', 'Germany', 'Russia', 'France', 'United States',\n",
    "#         'United States', 'United States', 'United States', 'Spain',\n",
    "#         'Germany', 'Germany', 'Germany', 'Germany', 'United States',\n",
    "#         'United States', 'Canada', 'Mexico', 'Mexico', 'Mexico', 'Mexico',\n",
    "#         'Germany', 'Germany', 'United States', 'United States',\n",
    "#         'United States', 'United States', 'Russian Federation',\n",
    "#         'United Kingdom', 'Spain', 'Spain', 'Turkey', 'France', 'France',\n",
    "#         'Germany', 'United States', 'United States', 'Morocco',\n",
    "#         'Switzerland', 'France', 'Germany', 'Germany', 'Ukraine',\n",
    "#         'Germany', 'France', 'Turkey', 'Germany', 'Germany', 'Greece',\n",
    "#         'Poland', 'Germany', 'Switzerland', 'Germany', 'Germany', 'Turkey',\n",
    "#         'Switzerland', 'Switzerland', 'Czech Republic', 'Netherlands',\n",
    "#         'United Kingdom'],\n",
    "#  'latitude': [47.38151  , 52.511612 , 53.551802 , 52.511612 , 48.8741   ,\n",
    "#         38.894431 , 25.784476 , 52.511612 , 55.75533  , 48.86405  ,\n",
    "#         25.7844757, 34.0522222, 40.8661111, 37.749454 , 38.8841997,\n",
    "#         52.511612 , 52.4166667, 52.502522 , 48.15     , 25.7844757,\n",
    "#         25.7844757, 45.532771 , 23.9090939, 23.9090939, 20.8666667,\n",
    "#         20.8666667, 52.51744  , 52.511612 , 37.7688759, 40.7266667,\n",
    "#         39.7646511, 38.916281 , 55.7522222, 51.52374  , 38.90625  ,\n",
    "#         41.3688085, 37.2163889, 48.7890892, 48.7890892, 52.6      ,\n",
    "#         25.784673 , 34.0905773, 31.4696583, 47.4781575, 48.85341  ,\n",
    "#         50.951817 , 53.5564221, 50.4590832, 54.18333  , 48.78716  ,\n",
    "#         38.2329489, 52.52437  , 52.52437  , 37.44529  , 49.90304  ,\n",
    "#         51.75     , 47.343558 , 53.3051075, 50.1055151, 41.0660865,\n",
    "#         47.577376 , 47.3882217, 50.108181 , 52.3867989, 51.51962  ],\n",
    "#  'longitude': [ 8.53688000e+00,  1.34268700e+01,  9.95820900e+00,  1.34268700e+01,\n",
    "#          2.26298000e+00,  1.33146700e+00, -8.01931360e+01,  1.34268700e+01,\n",
    "#          3.76098100e+01,  2.33105000e+00, -8.01931356e+01, -1.18242778e+02,\n",
    "#         -8.60775000e+01, -1.22386009e+02,  1.40489600e+00,  1.34268700e+01,\n",
    "#          1.35500000e+01,  1.34659300e+01,  1.15833333e+01, -8.01931356e+01,\n",
    "#         -8.01931356e+01, -7.36202940e+01, -1.02633400e+02, -1.02633400e+02,\n",
    "#         -8.86333333e+01, -8.86333333e+01,  1.34189900e+01,  1.34268700e+01,\n",
    "#         -1.22419427e+02, -7.37419444e+01, -1.04979783e+02, -7.70213690e+01,\n",
    "#          3.76155556e+01, -7.88390000e-02,  1.41953000e+00,  2.14827320e+00,\n",
    "#          2.83638889e+01,  2.38828990e+00,  2.38828990e+00,  8.36666670e+00,\n",
    "#         -8.01932020e+01, -1.18312565e+02, -9.76738950e+00,  8.30865560e+00,\n",
    "#          2.34880000e+00,  6.91709700e+00,  9.96997760e+00,  3.06378697e+01,\n",
    "#          9.55000000e+00,  2.40332000e+00,  2.63675087e+01,  1.34105300e+01,\n",
    "#          1.34105300e+01,  2.53287200e+01,  2.25633400e+01,  1.42500000e+01,\n",
    "#          8.53582910e+00,  1.27514235e+01,  8.73469550e+00,  2.90174246e+01,\n",
    "#          7.58632300e+00,  8.51947020e+00,  1.44431801e+01,  4.86998990e+00,\n",
    "#         -1.02412000e-01],\n",
    "#  'location': ['', '', '', '', '', '', '', '', '', '', '', '', '', '', '', '', '',\n",
    "#         '', '', '', '', '', '', '', '', '', '', '', '', '', '', '', '', '',\n",
    "#         '', '', '', '', '', '', '', '', '', '', '', '', '', '', '', '', '',\n",
    "#         '', '', '', '', '', '', '', '', '', '', '', '', '', ''],\n",
    "#  'name': ['Kauz', 'Kater Blau', 'Gruenspan', 'Kater Blau',\n",
    "#         'Les Pavillons des Etangs', 'Cova Santa', 'FLOYD', 'Kater Blau',\n",
    "#         'Leveldva', 'TBA', 'Club Space', 'TBA', 'TBA', 'The Midway',\n",
    "#         'Ushuaïa Ibiza Beach Hotel', 'Kater Blau', 'Sage Beach Berlin',\n",
    "#         '://about blank', 'The Drunken Monkey', 'Club Space',\n",
    "#         'Floyd Miami', 'Bar Le Ritz PDB', 'Proyecto Pblico Prim',\n",
    "#         'Sirilo Instabar', 'AAK AL Sacbe Lagoon', 'Gitano Tulum',\n",
    "#         'Beate Uwe', 'Kater Blau', 'Public Works', 'Knockdown Center',\n",
    "#         'Walnut Room', 'Flash', 'Community Moscow', 'Village Underground',\n",
    "#         'Cova Santa', 'Poble Espanyol', 'Xuma Yalikavak', 'Le Kilowatt',\n",
    "#         'Le Kilowatt', 'Bürgerpark (appletree garden)', 'The Ground - FL',\n",
    "#         'Gold Diggers', 'Hotel Sofitel Essaouira Mogador Golf & Spa',\n",
    "#         'Royal', 'Le Kilowatt', 'Club Bahnhof Ehrenfeld',\n",
    "#         'Uebel & Gefährlich', 'Kerala Dust @ White Night Festival',\n",
    "#         'Utopia Festival 2021', 'RITUEL',\n",
    "#         'Kerala Dust live at Sommer Klein',\n",
    "#         'Kerala Dust - live in concert', 'Kerala Dust Live in Concert',\n",
    "#         'Kerala Dust live @ Scorpios Mykonos', 'Fest Festival 2021',\n",
    "#         'Akasha Festival 2021', 'Lethargy Zurich 2021',\n",
    "#         'Kerala Dust live at Plan:et C', 'Kerala Dust Live at Sommerbnau',\n",
    "#         'Kerala Dust at Sonar Istanbul', 'Kerala Dust at Gannet',\n",
    "#         'Kerala Dust at Exil', 'Kerala Dust live in Prague',\n",
    "#         'The Gardens of Babylon @ ADE 2021', 'Fabric'],\n",
    "#  'artist': ['Kerala Dust', 'Kerala Dust', 'Kerala Dust', 'Kerala Dust',\n",
    "#         'Kerala Dust', 'Kerala Dust', 'Kerala Dust', 'Kerala Dust',\n",
    "#         'Kerala Dust', 'Kerala Dust', 'Kerala Dust', 'Kerala Dust',\n",
    "#         'Kerala Dust', 'Kerala Dust', 'Kerala Dust', 'Kerala Dust',\n",
    "#         'Kerala Dust', 'Kerala Dust', 'Kerala Dust', 'Kerala Dust',\n",
    "#         'Kerala Dust', 'Kerala Dust', 'Kerala Dust', 'Kerala Dust',\n",
    "#         'Kerala Dust', 'Kerala Dust', 'Kerala Dust', 'Kerala Dust',\n",
    "#         'Kerala Dust', 'Kerala Dust', 'Kerala Dust', 'Kerala Dust',\n",
    "#         'Kerala Dust', 'Kerala Dust', 'Kerala Dust', 'Kerala Dust',\n",
    "#         'Kerala Dust', 'Kerala Dust', 'Kerala Dust', 'Kerala Dust',\n",
    "#         'Kerala Dust', 'Kerala Dust', 'Kerala Dust', 'Kerala Dust',\n",
    "#         'Kerala Dust', 'Kerala Dust', 'Kerala Dust', 'Kerala Dust',\n",
    "#         'Kerala Dust', 'Kerala Dust', 'Kerala Dust', 'Kerala Dust',\n",
    "#         'Kerala Dust', 'Kerala Dust', 'Kerala Dust', 'Kerala Dust',\n",
    "#         'Kerala Dust', 'Kerala Dust', 'Kerala Dust', 'Kerala Dust',\n",
    "#         'Kerala Dust', 'Kerala Dust', 'Kerala Dust', 'Kerala Dust',\n",
    "#         'Kerala Dust'],\n",
    "#  'artist_topgenres': [list(['house']), list(['house']), list(['house']), list(['house']),\n",
    "#         list(['house']), list(['house']), list(['house']), list(['house']),\n",
    "#         list(['house']), list(['house']), list(['house']), list(['house']),\n",
    "#         list(['house']), list(['house']), list(['house']), list(['house']),\n",
    "#         list(['house']), list(['house']), list(['house']), list(['house']),\n",
    "#         list(['house']), list(['house']), list(['house']), list(['house']),\n",
    "#         list(['house']), list(['house']), list(['house']), list(['house']),\n",
    "#         list(['house']), list(['house']), list(['house']), list(['house']),\n",
    "#         list(['house']), list(['house']), list(['house']), list(['house']),\n",
    "#         list(['house']), list(['house']), list(['house']), list(['house']),\n",
    "#         list(['house']), list(['house']), list(['house']), list(['house']),\n",
    "#         list(['house']), list(['house']), list(['house']), list(['house']),\n",
    "#         list(['house']), list(['house']), list(['house']), list(['house']),\n",
    "#         list(['house']), list(['house']), list(['house']), list(['house']),\n",
    "#         list(['house']), list(['house']), list(['house']), list(['house']),\n",
    "#         list(['house']), list(['house']), list(['house']), list(['house']),\n",
    "#         list(['house'])],\n",
    "#  'lineup_size': [ 6,  8,  4, 10, 13,  8,  1, 13,  3, 22,  2,  6,  3,  2,  5, 23,  5,\n",
    "#          8,  1, 14,  2,  1,  2,  3,  7,  2,  2, 15,  2,  6,  2,  3, 10,  4,\n",
    "#          6, 12, 11, 25, 12,  1,  1,  1, 17,  2, 94,  1,  1,  1,  1,  7,  1,\n",
    "#          1,  1,  1,  1,  1,  1,  1,  1,  1,  1,  1,  1,  1,  4],\n",
    "#  'festival_flag':['Festival', 'Festival', 'Concert', 'Festival', 'Festival',\n",
    "#         'Festival', 'Concert', 'Festival', 'Concert', 'Festival',\n",
    "#         'Concert', 'Festival', 'Concert', 'Concert', 'Concert', 'Festival',\n",
    "#         'Concert', 'Festival', 'Concert', 'Festival', 'Concert', 'Concert',\n",
    "#         'Concert', 'Concert', 'Festival', 'Concert', 'Concert', 'Festival',\n",
    "#         'Concert', 'Festival', 'Concert', 'Concert', 'Festival', 'Concert',\n",
    "#         'Festival', 'Festival', 'Festival', 'Festival', 'Festival',\n",
    "#         'Concert', 'Concert', 'Concert', 'Festival', 'Concert', 'Festival',\n",
    "#         'Concert', 'Concert', 'Concert', 'Concert', 'Festival', 'Concert',\n",
    "#         'Concert', 'Concert', 'Concert', 'Concert', 'Concert', 'Concert',\n",
    "#         'Concert', 'Concert', 'Concert', 'Concert', 'Concert', 'Concert',\n",
    "#         'Concert', 'Concert'],\n",
    "#  'MercatorX': [ 9.50321135e+05,  1.49467233e+06,  1.10854276e+06,  1.49467233e+06,\n",
    "#          2.51913781e+05,  1.48218228e+05, -8.92705906e+06,  1.49467233e+06,\n",
    "#          4.18670490e+06,  2.59491299e+05, -8.92705902e+06, -1.31627258e+07,\n",
    "#         -9.58210347e+06, -1.36239482e+07,  1.56392307e+05,  1.49467233e+06,\n",
    "#          1.50837910e+06,  1.49902047e+06,  1.28945076e+06, -8.92705902e+06,\n",
    "#         -8.92705902e+06, -8.19537364e+06, -1.14250978e+07, -1.14250978e+07,\n",
    "#         -9.86661753e+06, -9.86661753e+06,  1.49379513e+06,  1.49467233e+06,\n",
    "#         -1.36276683e+07, -8.20891570e+06, -1.16862960e+07, -8.57397958e+06,\n",
    "#          4.18734450e+06, -8.77631733e+03,  1.58021357e+05,  2.39144679e+05,\n",
    "#          3.15745367e+06,  2.65863216e+05,  2.65863216e+05,  9.31373077e+05,\n",
    "#         -8.92706641e+06, -1.31704945e+07, -1.08730083e+06,  9.24915311e+05,\n",
    "#          2.61467220e+05,  7.70007716e+05,  1.10985283e+06,  3.41059205e+06,\n",
    "#          1.06310114e+06,  2.67536359e+05,  2.93521764e+06,  1.49285337e+06,\n",
    "#          1.49285337e+06,  2.81958021e+06,  2.51173952e+06,  1.58630274e+06,\n",
    "#          9.50204149e+05,  1.41948197e+06,  9.72341855e+05,  3.23020493e+06,\n",
    "#          8.44505613e+05,  9.48383084e+05,  1.60780745e+06,  5.42124796e+05,\n",
    "#         -1.14004517e+04],\n",
    "#  'MercatorY': [6004570.06959557, 6893165.40093768, 7085725.81047338,\n",
    "#         6893165.40093768, 6253525.73562329, 4706560.98067053,\n",
    "#         2972411.76736251, 6893165.40093768, 7509862.16585027,\n",
    "#         6251824.92731495, 2972411.73027401, 4035816.34901808,\n",
    "#         4992613.09476467, 4544092.276759  , 4705097.72104785,\n",
    "#         6893165.40093768, 6875817.62675196, 6891502.91573991,\n",
    "#         6131845.86803904, 2972411.73027401, 2972411.73027401,\n",
    "#         5705788.98872309, 2742334.71139851, 2742334.71139851,\n",
    "#         2375987.0990246 , 2375987.0990246 , 6894231.47445908,\n",
    "#         6893165.40093768, 4546826.98320842, 4972108.27822514,\n",
    "#         4831800.72686635, 4709686.62900351, 7509247.401857  ,\n",
    "#         6714465.43048063, 4708251.57233031, 5066893.97798572,\n",
    "#         4469311.68236285, 6239149.72266987, 6239149.72266987,\n",
    "#         6909348.78733988, 2972436.12216593, 4040970.83862009,\n",
    "#         3693894.60345145, 6020473.79844093, 6250024.6427334 ,\n",
    "#         6612775.12937624, 7086591.55517114, 6526163.85395143,\n",
    "#         7204953.54127515, 6238823.7621892 , 4612386.14745461,\n",
    "#         6895499.31286198, 6895499.31286198, 4501357.56115723,\n",
    "#         6429500.97888261, 6755047.86303445, 5998332.8910321 ,\n",
    "#         7039635.1735204 , 6464569.28977139, 5022094.29977453,\n",
    "#         6036831.05642938, 6005673.56348724, 6465032.00585329,\n",
    "#         6870368.1055111 , 6713728.33196985],\n",
    "#  'show_date': [ True,  True,  True,  True,  True,  True,  True,  True,  True,\n",
    "#          True,  True,  True,  True,  True,  True,  True,  True,  True,\n",
    "#          True,  True,  True,  True,  True,  True,  True,  True,  True,\n",
    "#          True,  True,  True,  True,  True,  True,  True,  True,  True,\n",
    "#          True,  True,  True,  True,  True,  True,  True,  True,  True,\n",
    "#          True,  True,  True,  True,  True,  True,  True,  True,  True,\n",
    "#          True,  True,  True,  True,  True,  True,  True,  True,  True,\n",
    "#          True,  True]}}\n",
    "#\n",
    "# def update(source=source, slider=date_slider, window=None):\n",
    "#     data=source.data\n",
    "#     v_start = cb_obj.get('value')[0]\n",
    "#     v_end = cb_obj.get('value')[1]\n",
    "#     mask = np.logical_and(data['datetime'] > v_start, data['datetime'] < v_end)\n",
    "#     source.data['show_date'] = mask\n",
    "#     source.trigger('change')"
   ],
   "metadata": {
    "collapsed": false,
    "pycharm": {
     "name": "#%%\n"
    }
   }
  },
  {
   "cell_type": "code",
   "execution_count": 16,
   "outputs": [
    {
     "ename": "NameError",
     "evalue": "name 'ColumnData' is not defined",
     "output_type": "error",
     "traceback": [
      "\u001B[0;31m---------------------------------------------------------------------------\u001B[0m",
      "\u001B[0;31mNameError\u001B[0m                                 Traceback (most recent call last)",
      "\u001B[0;32m/var/folders/lx/s64h867n6nxf10yyw1qf04qh0000gp/T/ipykernel_36907/830089414.py\u001B[0m in \u001B[0;36m<module>\u001B[0;34m\u001B[0m\n\u001B[0;32m----> 1\u001B[0;31m \u001B[0mColumnData\u001B[0m\u001B[0;34m\u001B[0m\u001B[0;34m\u001B[0m\u001B[0m\n\u001B[0m\u001B[1;32m      2\u001B[0m \u001B[0mSource\u001B[0m\u001B[0;34m(\u001B[0m\u001B[0mtest_df\u001B[0m\u001B[0;34m[\u001B[0m\u001B[0;34m(\u001B[0m\u001B[0mtest_df\u001B[0m\u001B[0;34m[\u001B[0m\u001B[0;34m'datetime'\u001B[0m\u001B[0;34m]\u001B[0m \u001B[0;34m>\u001B[0m \u001B[0;34m\"2017-01-01\"\u001B[0m\u001B[0;34m)\u001B[0m \u001B[0;34m&\u001B[0m \u001B[0;34m(\u001B[0m\u001B[0mtest_df\u001B[0m\u001B[0;34m[\u001B[0m\u001B[0;34m'datetime'\u001B[0m\u001B[0;34m]\u001B[0m \u001B[0;34m<\u001B[0m \u001B[0;34m\"2018-01-01\"\u001B[0m\u001B[0;34m)\u001B[0m\u001B[0;34m]\u001B[0m\u001B[0;34m)\u001B[0m\u001B[0;34m.\u001B[0m\u001B[0mdata\u001B[0m\u001B[0;34m\u001B[0m\u001B[0;34m\u001B[0m\u001B[0m\n",
      "\u001B[0;31mNameError\u001B[0m: name 'ColumnData' is not defined"
     ]
    }
   ],
   "source": [
    "ColumnData\n",
    "Source(test_df[(test_df['datetime'] > \"2017-01-01\") & (test_df['datetime'] < \"2018-01-01\")]).data"
   ],
   "metadata": {
    "collapsed": false,
    "pycharm": {
     "name": "#%%\n"
    }
   }
  },
  {
   "cell_type": "code",
   "execution_count": null,
   "outputs": [],
   "source": [
    "mask = np.logical_and(source.data['datetime'] > '2017-07-22', source.data['datetime'] < '2018-01-01')\n",
    "col = source.data['datetime']\n",
    "col[mask] = 'replacement'\n",
    "col"
   ],
   "metadata": {
    "collapsed": false,
    "pycharm": {
     "name": "#%%\n"
    }
   }
  },
  {
   "cell_type": "code",
   "execution_count": null,
   "outputs": [],
   "source": [
    "''' A crossfilter plot map that uses the `Auto MPG dataset`_. This example\n",
    "demonstrates the relationship of datasets together. A hover tooltip displays\n",
    "information on each dot.\n",
    ".. note::\n",
    "    This example needs the Pandas package to run.\n",
    ".. _Auto MPG dataset: https://archive.ics.uci.edu/ml/datasets/auto+mpg\n",
    "'''\n",
    "import pandas as pd\n",
    "\n",
    "from bokeh.layouts import column, row\n",
    "from bokeh.models import Select\n",
    "from bokeh.palettes import Spectral5\n",
    "from bokeh.plotting import curdoc, figure\n",
    "from bokeh.sampledata.autompg import autompg_clean as df\n",
    "\n",
    "url = 'http://archive.ics.uci.edu/ml/machine-learning-databases/auto-mpg/auto-mpg.data'\n",
    "\n",
    "widths = [7, 4, 10, 10, 11, 7, 4, 4, 30]\n",
    "\n",
    "df = pd.read_fwf(url, widths=widths, header=None, na_values=['?'])\n",
    "df.columns = ['mpg','cylinders','displacement','horsepower','weight','acceleration','model year','origin','car name']\n",
    "\n",
    "SIZES = list(range(6, 22, 3))\n",
    "COLORS = Spectral5\n",
    "N_SIZES = len(SIZES)\n",
    "N_COLORS = len(COLORS)\n",
    "\n",
    "# data cleanup\n",
    "df['cylinders'] = df['cylinders'].astype(str)\n",
    "df['model year'] = df['model year'].astype(str)\n",
    "del df['car name']\n",
    "\n",
    "columns = sorted(df.columns)\n",
    "discrete = [x for x in columns if df[x].dtype == object]\n",
    "continuous = [x for x in columns if x not in discrete]\n",
    "\n",
    "def create_figure():\n",
    "    xs = df[x.value].values\n",
    "    ys = df[y.value].values\n",
    "    x_title = x.value.title()\n",
    "    y_title = y.value.title()\n",
    "\n",
    "    kw = dict()\n",
    "    if x.value in discrete:\n",
    "        kw['x_range'] = sorted(set(xs))\n",
    "    if y.value in discrete:\n",
    "        kw['y_range'] = sorted(set(ys))\n",
    "    kw['title'] = \"%s vs %s\" % (x_title, y_title)\n",
    "\n",
    "    p = figure(height=600, width=800, tools='pan,box_zoom,hover,reset', **kw)\n",
    "    p.xaxis.axis_label = x_title\n",
    "    p.yaxis.axis_label = y_title\n",
    "\n",
    "    if x.value in discrete:\n",
    "        p.xaxis.major_label_orientation = pd.np.pi / 4\n",
    "\n",
    "    sz = 9\n",
    "    if size.value != 'None':\n",
    "        if len(set(df[size.value])) > N_SIZES:\n",
    "            groups = pd.qcut(df[size.value].values, N_SIZES, duplicates='drop')\n",
    "        else:\n",
    "            groups = pd.Categorical(df[size.value])\n",
    "        sz = [SIZES[xx] for xx in groups.codes]\n",
    "\n",
    "    c = \"#31AADE\"\n",
    "    if color.value != 'None':\n",
    "        if len(set(df[color.value])) > N_COLORS:\n",
    "            groups = pd.qcut(df[color.value].values, N_COLORS, duplicates='drop')\n",
    "        else:\n",
    "            groups = pd.Categorical(df[color.value])\n",
    "        c = [COLORS[xx] for xx in groups.codes]\n",
    "\n",
    "    p.circle(x=xs, y=ys, color=c, size=sz, line_color=\"white\", alpha=0.6, hover_color='white', hover_alpha=0.5)\n",
    "\n",
    "    return p\n",
    "\n",
    "\n",
    "def update(attr, old, new):\n",
    "    layout.children[1] = create_figure()\n",
    "\n",
    "\n",
    "x = Select(title='X-Axis', value='mpg', options=columns)\n",
    "x.on_change('value', update)\n",
    "\n",
    "y = Select(title='Y-Axis', value='horsepower', options=columns)\n",
    "y.on_change('value', update)\n",
    "\n",
    "size = Select(title='Size', value='None', options=['None'] + continuous)\n",
    "size.on_change('value', update)\n",
    "\n",
    "color = Select(title='Color', value='None', options=['None'] + continuous)\n",
    "color.on_change('value', update)\n",
    "\n",
    "controls = column(x, y, color, size, width=200)\n",
    "layout = row(controls, create_figure())\n",
    "\n",
    "show(layout)\n",
    "\n",
    "# curdoc().add_root(layout)\n",
    "# curdoc().title = \"Crossfilter\"\n",
    "# curdoc()"
   ],
   "metadata": {
    "collapsed": false,
    "pycharm": {
     "name": "#%%\n"
    }
   }
  },
  {
   "cell_type": "code",
   "execution_count": null,
   "outputs": [],
   "source": [
    "bokeh serve --show crossfilter"
   ],
   "metadata": {
    "collapsed": false,
    "pycharm": {
     "name": "#%%\n"
    }
   }
  },
  {
   "cell_type": "code",
   "execution_count": null,
   "outputs": [],
   "source": [
    "\n",
    "df.head()"
   ],
   "metadata": {
    "collapsed": false,
    "pycharm": {
     "name": "#%%\n"
    }
   }
  },
  {
   "cell_type": "markdown",
   "source": [
    "## Also Messy Workspace -- May not Run"
   ],
   "metadata": {
    "collapsed": false,
    "pycharm": {
     "name": "#%% md\n"
    }
   }
  },
  {
   "cell_type": "code",
   "execution_count": null,
   "outputs": [],
   "source": [
    "from pyproj import Transformer\n",
    "\n",
    "in_crs = 4326   # coordinates provided in EPSG:4326 format\n",
    "out_crs = 3857   # coordinates output in EPSG 3857 (Web Mercator) format\n",
    "\n",
    "transformer = Transformer.from_crs(in_crs, out_crs, always_xy=True)\n",
    "\n",
    "world_lon1, world_lat1 = transformer.transform(-180,-85)\n",
    "world_lon2, world_lat2 = transformer.transform(180,85)\n",
    "\n",
    "starbucks = pd.read_csv(\"directory.csv\")\n",
    "starbucks.head()\n",
    "starbucks_us = starbucks[starbucks.Country == \"US\"].copy()\n",
    "\n",
    "lons, lats = [], []\n",
    "for lon, lat in list(zip(starbucks_us[\"Longitude\"], starbucks_us[\"Latitude\"])):\n",
    "    x, y = transformer.transform(lon,lat)\n",
    "    lons.append(x)\n",
    "    lats.append(y)\n",
    "\n",
    "starbucks_us[\"MercatorX\"] = lons\n",
    "starbucks_us[\"MercatorY\"] = lats\n",
    "\n",
    "starbucks_us = starbucks_us.rename(columns={\"Store Name\":\"Name\", \"State/Province\":\"State\"})\n",
    "starbucks_us.head()"
   ],
   "metadata": {
    "collapsed": false,
    "pycharm": {
     "name": "#%%\n"
    }
   }
  },
  {
   "cell_type": "code",
   "execution_count": null,
   "outputs": [],
   "source": [
    "## TODO add interactive buttons to switch between artists / other slices\n",
    "## https://towardsdatascience.com/visualization-with-plotly-express-comprehensive-guide-eb5ee4b50b57#f38e\n",
    "## https://plotly.com/python/dropdowns/"
   ],
   "metadata": {
    "collapsed": false,
    "pycharm": {
     "name": "#%%\n"
    }
   }
  },
  {
   "cell_type": "code",
   "execution_count": null,
   "outputs": [],
   "source": [
    "# visualize data\n",
    "import plotly.express as px\n",
    "px.set_mapbox_access_token(open(\"mapbox_token.txt\").read())\n",
    "fig = px.scatter_mapbox(test_df,\n",
    "                     lat='latitude',\n",
    "                     lon='longitude',\n",
    "                     color=\"festival_flag\", # which column to use to set the color of markers\n",
    "                     color_discrete_sequence=px.colors.qualitative.Vivid,\n",
    "\n",
    "                     hover_name=\"city\", # column added to hover information\n",
    "                     hover_data={'datetime': True,\n",
    "                                 'festival_flag': True,\n",
    "                                 'latitude': False,\n",
    "                                 'longitude': False},\n",
    "                     labels={'festival_flag': 'Event Type',\n",
    "                             'datetime': 'Date'},\n",
    "\n",
    "\n",
    "                     #size=\"lineup_size\", # size of markers\n",
    "                     #projection=\"natural earth\"\n",
    "                     mapbox_style=\"streets\",\n",
    "                     zoom=1\n",
    "                    )\n",
    "\n",
    "# fig.update_layout(\n",
    "#     mapbox_style=\"streets\",\n",
    "#     # mapbox_layers=[\n",
    "#     #     {\n",
    "#     #         \"below\": 'traces',\n",
    "#     #         \"sourcetype\": \"raster\",\n",
    "#     #         \"sourceattribution\": \"United States Geological Survey\",\n",
    "#     #         \"source\": [\n",
    "#     #             \"https://basemap.nationalmap.gov/arcgis/rest/services/USGSImageryOnly/MapServer/tile/{z}/{y}/{x}\"\n",
    "#     #         ]\n",
    "#     #     }\n",
    "#     #   ]\n",
    "# )\n",
    "#fig.update_traces(hovertemplate= \"%{label}: <br>Popularity: %{value} </br> %{text}\")\n",
    "\n",
    "# fig.update_layout(\n",
    "#     margin={\"r\":0,\"t\":0,\"l\":0,\"b\":0},\n",
    "#     updatemenus=[\n",
    "#         dict(\n",
    "#             buttons=list([\n",
    "#                 dict(\n",
    "#                     args=[\"marker.color\",[\"red\"]],\n",
    "#                     label='Red',\n",
    "#                     method='restyle',\n",
    "#                     visible=True\n",
    "#                 )\n",
    "#             ]),\n",
    "#             direction=\"down\",\n",
    "#             pad={'r': 10, 't': 10},\n",
    "#             #showactive=True\n",
    "#         )\n",
    "#     ]\n",
    "# )\n",
    "\n",
    "fig.update_layout(\n",
    "    margin={\"r\":0,\"t\":0,\"l\":0,\"b\":0},\n",
    "    updatemenus=[\n",
    "        dict(\n",
    "            buttons=list([\n",
    "                dict(\n",
    "                    args=[{'customdata':[['2024-04-19', 'Festival', 33.6784492, -116.237155]]}],\n",
    "                    label='Custom',\n",
    "                    method='restyle',\n",
    "                    visible=True\n",
    "                )\n",
    "            ]),\n",
    "            direction=\"down\",\n",
    "            pad={'r': 10, 't': 10},\n",
    "            #showactive=True\n",
    "        )\n",
    "    ]\n",
    ")\n",
    "\n",
    "fig.show()"
   ],
   "metadata": {
    "collapsed": false,
    "pycharm": {
     "name": "#%%\n"
    }
   }
  },
  {
   "cell_type": "code",
   "execution_count": null,
   "outputs": [],
   "source": [
    "fig.to_dict()"
   ],
   "metadata": {
    "collapsed": false,
    "pycharm": {
     "name": "#%%\n"
    }
   }
  },
  {
   "cell_type": "code",
   "execution_count": null,
   "outputs": [],
   "source": [
    "fig.data"
   ],
   "metadata": {
    "collapsed": false,
    "pycharm": {
     "name": "#%%\n"
    }
   }
  },
  {
   "cell_type": "code",
   "execution_count": null,
   "outputs": [],
   "source": [
    "import reverse_geocode as rg\n",
    "coordinates = (-37.81, 144.96), (31.76, 35.21)\n",
    "loc = rg.search(coordinates)"
   ],
   "metadata": {
    "collapsed": false,
    "pycharm": {
     "name": "#%%\n"
    }
   }
  },
  {
   "cell_type": "code",
   "execution_count": null,
   "outputs": [],
   "source": [
    "from functools import partial\n",
    "from geopy.geocoders import Nominatim\n",
    "\n",
    "geolocator = Nominatim(user_agent=\"rg_agent\")\n",
    "\n",
    "geocode = partial(geolocator.geocode, language=\"es\")\n",
    "print(geocode(\"london\"))\n",
    "\n",
    "print(geocode(\"paris\"))\n",
    "\n",
    "print(geocode(\"paris\", language=\"en\"))\n",
    "\n",
    "\n",
    "reverse = partial(geolocator.reverse, language=\"es\")\n",
    "print(reverse(\"52.509669, 13.376294\"))\n"
   ],
   "metadata": {
    "collapsed": false,
    "pycharm": {
     "name": "#%%\n"
    }
   }
  },
  {
   "cell_type": "code",
   "execution_count": null,
   "outputs": [],
   "source": [
    "from geopy.extra.rate_limiter import RateLimiter\n",
    "gr = RateLimiter(geolocator.reverse, min_delay_seconds=1)\n",
    "\n",
    "x = gr((-37.81, 144.96),)\n",
    "dir(x)"
   ],
   "metadata": {
    "collapsed": false,
    "pycharm": {
     "name": "#%%\n"
    }
   }
  },
  {
   "cell_type": "code",
   "execution_count": null,
   "outputs": [],
   "source": [
    "from geopy.geocoders import Nominatim\n",
    "from geopy.extra.rate_limiter import RateLimiter"
   ],
   "metadata": {
    "collapsed": false,
    "pycharm": {
     "name": "#%%\n"
    }
   }
  },
  {
   "cell_type": "code",
   "execution_count": null,
   "outputs": [],
   "source": [
    "x.raw['address']['city']"
   ],
   "metadata": {
    "collapsed": false,
    "pycharm": {
     "name": "#%%\n"
    }
   }
  },
  {
   "cell_type": "code",
   "execution_count": null,
   "outputs": [],
   "source": [
    "import plotly.express as px\n",
    "#df = px.data.gapminder().query(\"year == 2007\")\n",
    "fig = px.scatter_geo(test_df,\n",
    "                     lat='latitude',\n",
    "                     lon='longitude',\n",
    "                     color=\"festival_flag\", # which column to use to set the color of markers\n",
    "                     hover_name=\"city\", # column added to hover information\n",
    "                     #size=\"lineup_size\", # size of markers\n",
    "                     projection=\"natural earth\")\n",
    "fig.update_geos(\n",
    "    visible=False,\n",
    "    resolution=50,\n",
    "    #scope=\"north america\",\n",
    "    showcountries=True, countrycolor=\"Black\"\n",
    "    #,showsubunits=True, subunitcolor=\"Blue\"\n",
    ")\n",
    "fig.show()"
   ],
   "metadata": {
    "collapsed": false,
    "pycharm": {
     "name": "#%%\n"
    }
   }
  },
  {
   "cell_type": "code",
   "execution_count": null,
   "outputs": [],
   "source": [
    "x_df = test_df[:10].copy()\n",
    "tt = get_location(x_df, 'latitude', 'longitude')\n",
    "tt.head(10)"
   ],
   "metadata": {
    "collapsed": false,
    "pycharm": {
     "name": "#%%\n"
    }
   }
  },
  {
   "cell_type": "code",
   "execution_count": null,
   "outputs": [],
   "source": [
    "test_df.head(10)"
   ],
   "metadata": {
    "collapsed": false,
    "pycharm": {
     "name": "#%%\n"
    }
   }
  },
  {
   "cell_type": "code",
   "execution_count": null,
   "outputs": [],
   "source": [
    "test_df['city'] = test_df[['latitude', 'longitude']]"
   ],
   "metadata": {
    "collapsed": false,
    "pycharm": {
     "name": "#%%\n"
    }
   }
  },
  {
   "cell_type": "code",
   "execution_count": null,
   "outputs": [],
   "source": [
    "from geopy.extra.rate_limiter import RateLimiter\n",
    "geocode = RateLimiter(geolocator.reverse, min_delay_seconds=1)\n",
    "df['location'] = df['name'].apply(geocode)\n",
    "\n",
    "df['point'] = df['location'].apply(lambda loc: tuple(loc.point) if loc else None)"
   ],
   "metadata": {
    "collapsed": false,
    "pycharm": {
     "name": "#%%\n"
    }
   }
  },
  {
   "cell_type": "code",
   "execution_count": null,
   "outputs": [],
   "source": [
    "geolocator.reverse(-37.81, 144.96)"
   ],
   "metadata": {
    "collapsed": false,
    "pycharm": {
     "name": "#%%\n"
    }
   }
  },
  {
   "cell_type": "code",
   "execution_count": null,
   "outputs": [],
   "source": [],
   "metadata": {
    "collapsed": false,
    "pycharm": {
     "name": "#%%\n"
    }
   }
  },
  {
   "cell_type": "code",
   "execution_count": null,
   "outputs": [],
   "source": [
    "import plotly.graph_objects as go\n",
    "\n",
    "fig = go.Figure(go.Scattergeo(\n",
    "    test_df,\n",
    "    lat='latitude',\n",
    "    lon='longitude',\n",
    "    color=\"festival_flag\", # which column to use to set the color of markers\n",
    "    hover_name=\"city\", # column added to hover information\n",
    "    #size=\"lineup_size\", # size of markers\n",
    "    projection=\"natural earth\")\n",
    ")\n",
    "fig.update_geos(\n",
    "    visible=False, resolution=110, scope=\"usa\",\n",
    "    showcountries=True, countrycolor=\"Black\",\n",
    "    showsubunits=True, subunitcolor=\"lightGrey\"\n",
    ")\n",
    "fig.update_layout(height=300, margin={\"r\":0,\"t\":0,\"l\":0,\"b\":0})\n",
    "fig.show()"
   ],
   "metadata": {
    "collapsed": false,
    "pycharm": {
     "name": "#%%\n"
    }
   }
  },
  {
   "cell_type": "code",
   "execution_count": null,
   "outputs": [],
   "source": [
    "import pandas as pd\n",
    "us_cities = pd.read_csv(\"https://raw.githubusercontent.com/plotly/datasets/master/us-cities-top-1k.csv\")\n",
    "us_cities.head()\n",
    "\n",
    "import plotly.express as px\n",
    "\n",
    "fig = px.scatter_mapbox(us_cities, lat=\"lat\", lon=\"lon\", hover_name=\"City\", hover_data=[\"State\", \"Population\"],\n",
    "                        color_discrete_sequence=[\"fuchsia\"], zoom=3, height=300)\n",
    "fig.update_layout(mapbox_style=\"open-street-map\")\n",
    "fig.update_layout(margin={\"r\":0,\"t\":0,\"l\":0,\"b\":0})\n",
    "fig.show()"
   ],
   "metadata": {
    "collapsed": false,
    "pycharm": {
     "name": "#%%\n"
    }
   }
  },
  {
   "cell_type": "code",
   "execution_count": null,
   "outputs": [],
   "source": [
    "import plotly.express as px\n",
    "\n",
    "fig = px.scatter_mapbox(test_df, lat=\"latitude\", lon=\"longitude\", hover_name=\"location\",\n",
    "                        color_discrete_sequence=[\"fuchsia\"], zoom=3, height=300)\n",
    "fig.update_layout(mapbox_style=\"open-street-map\")\n",
    "fig.update_layout(margin={\"r\":0,\"t\":0,\"l\":0,\"b\":0})\n",
    "fig.show()"
   ],
   "metadata": {
    "collapsed": false,
    "pycharm": {
     "name": "#%%\n"
    }
   }
  },
  {
   "cell_type": "code",
   "execution_count": null,
   "id": "c5bb464d-c881-49d5-83d2-21d24e17e04f",
   "metadata": {
    "tags": []
   },
   "outputs": [],
   "source": [
    "ej = r.json()\n",
    "ej[2]"
   ]
  },
  {
   "cell_type": "code",
   "execution_count": null,
   "id": "8b835acd-ccac-4c96-a281-0d6510451e8e",
   "metadata": {},
   "outputs": [],
   "source": [
    "len(event_json)"
   ]
  },
  {
   "cell_type": "code",
   "execution_count": null,
   "id": "02de8e44-617c-4215-ae76-710ac67407c9",
   "metadata": {
    "tags": []
   },
   "outputs": [],
   "source": [
    "#r.text"
   ]
  },
  {
   "cell_type": "code",
   "execution_count": null,
   "id": "4f8c83e9-a728-4ba5-b8c9-abbbe011cb72",
   "metadata": {},
   "outputs": [],
   "source": [
    "len(ej[0])"
   ]
  },
  {
   "cell_type": "code",
   "execution_count": null,
   "id": "09c3a67a-32ce-4b70-9e83-9753dab2c73f",
   "metadata": {},
   "outputs": [],
   "source": [
    "ej[0].keys()"
   ]
  },
  {
   "cell_type": "code",
   "execution_count": null,
   "id": "07ac0ee8-80be-49a2-a3ab-ce20398c4728",
   "metadata": {},
   "outputs": [],
   "source": [
    "list(ej[0].keys())"
   ]
  },
  {
   "cell_type": "code",
   "execution_count": null,
   "id": "53146583-e11c-400f-ac54-49c1c11aab0e",
   "metadata": {},
   "outputs": [],
   "source": [
    "type(ej[0])"
   ]
  },
  {
   "cell_type": "code",
   "execution_count": null,
   "id": "077c0f79-81dd-47c4-97be-6c1b5502ee5b",
   "metadata": {},
   "outputs": [],
   "source": [
    "ej[0].values()"
   ]
  },
  {
   "cell_type": "code",
   "execution_count": null,
   "id": "1f65589a-7863-47f3-ba0e-d552395102d5",
   "metadata": {},
   "outputs": [],
   "source": [
    "v = ej[0].get('venue')\n",
    "print(v)\n",
    "type(v)"
   ]
  },
  {
   "cell_type": "code",
   "execution_count": null,
   "id": "528d7460-796b-43e0-bdeb-f50ea5c5f80a",
   "metadata": {},
   "outputs": [],
   "source": [
    "v.get('country')"
   ]
  },
  {
   "cell_type": "code",
   "execution_count": null,
   "outputs": [],
   "source": [
    "for key in list(ej[0].keys()):\n",
    "    print(key, \" : \\n\", ej[0].get(key), \"\\n\")"
   ],
   "metadata": {
    "collapsed": false,
    "pycharm": {
     "name": "#%%\n"
    }
   }
  },
  {
   "cell_type": "code",
   "execution_count": null,
   "id": "a497fe4d-7e00-4168-9cae-5642aee4bf3b",
   "metadata": {},
   "outputs": [],
   "source": []
  }
 ],
 "metadata": {
  "kernelspec": {
   "display_name": "Python 3 (ipykernel)",
   "language": "python",
   "name": "python3"
  },
  "language_info": {
   "codemirror_mode": {
    "name": "ipython",
    "version": 3
   },
   "file_extension": ".py",
   "mimetype": "text/x-python",
   "name": "python",
   "nbconvert_exporter": "python",
   "pygments_lexer": "ipython3",
   "version": "3.9.9"
  }
 },
 "nbformat": 4,
 "nbformat_minor": 5
}