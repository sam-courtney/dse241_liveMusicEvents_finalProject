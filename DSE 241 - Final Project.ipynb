{
 "cells": [
  {
   "cell_type": "markdown",
   "id": "c24686ae-41b8-425f-9b4c-e89f2bb7d0fe",
   "metadata": {},
   "source": [
    "# DSE 241 - Final Project\n",
    "# Rock & Fucking Roll"
   ]
  },
  {
   "cell_type": "markdown",
   "id": "327b5618-f4aa-4529-aca3-7a2b127f8e82",
   "metadata": {},
   "source": [
    "## Requirements"
   ]
  },
  {
   "cell_type": "code",
   "execution_count": 278,
   "id": "884c0faa-1277-4c81-8a8c-e6bb3a174a06",
   "metadata": {},
   "outputs": [],
   "source": [
    "import requests\n",
    "import pandas as pd\n",
    "import numpy as np"
   ]
  },
  {
   "cell_type": "markdown",
   "id": "9c4d8ef3-b428-4371-9963-31ea48652a8e",
   "metadata": {},
   "source": [
    "## Functions"
   ]
  },
  {
   "cell_type": "code",
   "execution_count": 279,
   "id": "ee028625-22a0-4cca-8f3b-687cfbef1827",
   "metadata": {},
   "outputs": [],
   "source": [
    "def read_api_key(file_name):\n",
    "    f = open(file_name, 'r')\n",
    "    key = f.read()\n",
    "    f.close()\n",
    "    return key\n",
    "\n",
    "def getgenre_artist(string):\n",
    "    ## lower case\n",
    "    ## replace \" \" with \"_\"\n",
    "    artist = string.replace(' ','_').lower()\n",
    "    return artist\n",
    "\n",
    "def bands_artist(string):\n",
    "    ## url-ify artist names\n",
    "    ## replaces \" \" with \"%20\"\n",
    "    artist = string.replace(' ',r'%20')\n",
    "    return artist\n",
    "    \n",
    "    \n",
    "def parse_events(event_json):\n",
    "    ### defined to help parse the JSON of individual events returned by Bandintown API ###\n",
    "    ### this will pull out the keys and values for the event object ###\n",
    "    ### the end result is a list that can be entered as a row to a Pandas dataframe ###\n",
    "    \n",
    "    ### TODO: determine if the output is better in Pandas or Numpy ###\n",
    "    ### TODO: define event_json object ###\n",
    "    \n",
    "    events_data = []\n",
    "    num_of_events = len(event_json) # event json has an entry for each event ## each event has lots of other nested data\n",
    "\n",
    "    keys_of_interest = [\n",
    "            'datetime' # date-time of the event\n",
    "            , 'title'  # name of the event  ## may need to create a condition to check if exists and set to null if missing\n",
    "            , 'lineup' # list of strings containing names of artists  ## may leave as a nested list in data frame to avoid sparseness  ### list may be ordered in terms of headliners (??)\n",
    "            , 'festival_start_date' # date festival starts  ### may be a useful indicator that the artist is performing at a festival-event, need to test this for reliability\n",
    "            , 'festival_end_date'   # date festival ends, will differ from start date on multi-day events (may not exist on single day events)\n",
    "            , 'venue'  # this is a nested dictionary, will need to tease this one out to flatten the data\n",
    "    ]\n",
    "\n",
    "    venue_keys_of_interest = [\n",
    "             'city'        # city name, string\n",
    "            , 'region'     # state-level, string\n",
    "            , 'country'    # country name, string\n",
    "            , 'latitude'   # coordinate data, float\n",
    "            , 'longitude'  # coordinate data, float\n",
    "            , 'location'   # arbitrary string describing geolocation  ## consider not including\n",
    "            , 'name'       # arbitrary string describing venue name, could be misleading since some venues are at locations, but given festival name  ## consider not including\n",
    "    ]\n",
    "\n",
    "    for i in range(num_of_events):\n",
    "        event = event_json[i]\n",
    "        event_list = []\n",
    "\n",
    "        for key in keys_of_interest:\n",
    "            value = event.get(key)\n",
    "            if key == 'venue':\n",
    "                for venue_key in venue_keys_of_interest:\n",
    "                    venue_value = value.get(venue_key)\n",
    "                    event_list.append(venue_value)\n",
    "            else:\n",
    "                event_list.append(value)\n",
    "\n",
    "        events_data.append(event_list)\n",
    "\n",
    "\n",
    "    cols = keys_of_interest[:-1] + venue_keys_of_interest\n",
    "    events_df = pd.DataFrame(events_data, columns=cols)\n",
    "    events_df['artist'] = artist\n",
    "    return events_df\n",
    "\n",
    "def get_locations(df, latitude_column='latitude', longitude_column='longitude'):\n",
    "    new_df = df.copy()\n",
    "    geolocator = Nominatim(user_agent=\"rg_agent\")\n",
    "    reverse_geocode = RateLimiter(geolocator.reverse, min_delay_seconds=1)\n",
    "    for index, row in new_df.iterrows():\n",
    "        lookup = reverse_geocode((row[latitude_column],row[longitude_column]), language='en')\n",
    "        try:\n",
    "            new_df.loc[index,'city'] = lookup.raw['address']['city']\n",
    "        except:\n",
    "            continue\n",
    "        try:\n",
    "            new_df.loc[index,'region'] = lookup.raw['address']['state']\n",
    "        except:\n",
    "            continue\n",
    "        try:\n",
    "            new_df.loc[index,'country'] = lookup.raw['address']['country']\n",
    "        except:\n",
    "            continue\n",
    "\n",
    "    return new_df"
   ]
  },
  {
   "cell_type": "markdown",
   "id": "26325d4d-c8ee-4369-a568-d2e19ec91cf7",
   "metadata": {},
   "source": [
    "## Key Inputs"
   ]
  },
  {
   "cell_type": "code",
   "execution_count": 280,
   "id": "370a4474-931c-45d8-8c47-bef55969c386",
   "metadata": {},
   "outputs": [],
   "source": [
    "artist = 'Tame Impala'\n",
    "\n",
    "bands_key = read_api_key('bands_api_key.txt') ## shhhh... its a secret\n",
    "\n",
    "analysis_level = 1\n",
    "gg_artist = getgenre_artist(artist)\n",
    "bands_artist = bands_artist(artist)\n",
    "getgenre_api_url = r'https://api.getgenre.com/search?artist_name={}&analysis={}'.format(gg_artist, analysis_level)\n",
    "bands_api_url = r'https://rest.bandsintown.com/artists/{}/events/?app_id={}'.format(bands_artist, bands_key)\n",
    "bands_api_url_past = r'https://rest.bandsintown.com/artists/{}/events/?app_id={}&date=past'.format(bands_artist, bands_key)"
   ]
  },
  {
   "cell_type": "code",
   "execution_count": 281,
   "id": "00e0146d-d8b1-4b4c-affc-d7919dcfee18",
   "metadata": {},
   "outputs": [
    {
     "data": {
      "text/plain": "'tame_impala'"
     },
     "execution_count": 281,
     "metadata": {},
     "output_type": "execute_result"
    }
   ],
   "source": [
    "gg_artist"
   ]
  },
  {
   "cell_type": "code",
   "execution_count": 282,
   "id": "6cfcea8e-b4d7-468e-bf0a-5f254e9e5109",
   "metadata": {},
   "outputs": [
    {
     "data": {
      "text/plain": "'Tame%20Impala'"
     },
     "execution_count": 282,
     "metadata": {},
     "output_type": "execute_result"
    }
   ],
   "source": [
    "bands_artist"
   ]
  },
  {
   "cell_type": "markdown",
   "id": "452b9e2b-cc0d-4645-b79d-87f97b2a4513",
   "metadata": {},
   "source": [
    "## Working Code\n",
    "### Let's Go"
   ]
  },
  {
   "cell_type": "code",
   "execution_count": 283,
   "id": "9bfa7535-fa5b-4583-87e3-b08e47370a8f",
   "metadata": {
    "tags": []
   },
   "outputs": [
    {
     "name": "stdout",
     "output_type": "stream",
     "text": [
      "(318, 13)\n"
     ]
    },
    {
     "data": {
      "text/plain": "              datetime title  \\\n0  2013-04-14T10:08:00         \n1  2013-04-19T19:00:00         \n2  2013-04-21T10:26:00         \n3  2013-04-26T20:00:00         \n4  2013-05-02T19:30:00         \n\n                                              lineup festival_start_date  \\\n0  [Tame Impala, The Airborne Toxic Event, Eric P...                       \n1  [Tame Impala, Mona, Alt-J, Social Distortion, ...                       \n2  [Tame Impala, Vampire Weekend, Ladies Night, M...                       \n3                [Tame Impala, Midnight Juggernauts]                       \n4                                      [Tame Impala]                       \n\n  festival_end_date            city region        country    latitude  \\\n0                             Indio     CA  United States  33.7205556   \n1                             Indio     CA  United States  33.6784492   \n2                             Indio     CA  United States  33.7205556   \n3                    West Melbourne             Australia   -37.81126   \n4                            Sydney             Australia  -33.889832   \n\n      longitude location                     name       artist  \n0  -116.2147222                 Empire Polo Field  Tame Impala  \n1   -116.237155                  Empire Polo Club  Tame Impala  \n2  -116.2147222                 Empire Polo Field  Tame Impala  \n3    144.946442           Festival Hall Melbourne  Tame Impala  \n4    151.223348                  Hordern Pavilion  Tame Impala  ",
      "text/html": "<div>\n<style scoped>\n    .dataframe tbody tr th:only-of-type {\n        vertical-align: middle;\n    }\n\n    .dataframe tbody tr th {\n        vertical-align: top;\n    }\n\n    .dataframe thead th {\n        text-align: right;\n    }\n</style>\n<table border=\"1\" class=\"dataframe\">\n  <thead>\n    <tr style=\"text-align: right;\">\n      <th></th>\n      <th>datetime</th>\n      <th>title</th>\n      <th>lineup</th>\n      <th>festival_start_date</th>\n      <th>festival_end_date</th>\n      <th>city</th>\n      <th>region</th>\n      <th>country</th>\n      <th>latitude</th>\n      <th>longitude</th>\n      <th>location</th>\n      <th>name</th>\n      <th>artist</th>\n    </tr>\n  </thead>\n  <tbody>\n    <tr>\n      <th>0</th>\n      <td>2013-04-14T10:08:00</td>\n      <td></td>\n      <td>[Tame Impala, The Airborne Toxic Event, Eric P...</td>\n      <td></td>\n      <td></td>\n      <td>Indio</td>\n      <td>CA</td>\n      <td>United States</td>\n      <td>33.7205556</td>\n      <td>-116.2147222</td>\n      <td></td>\n      <td>Empire Polo Field</td>\n      <td>Tame Impala</td>\n    </tr>\n    <tr>\n      <th>1</th>\n      <td>2013-04-19T19:00:00</td>\n      <td></td>\n      <td>[Tame Impala, Mona, Alt-J, Social Distortion, ...</td>\n      <td></td>\n      <td></td>\n      <td>Indio</td>\n      <td>CA</td>\n      <td>United States</td>\n      <td>33.6784492</td>\n      <td>-116.237155</td>\n      <td></td>\n      <td>Empire Polo Club</td>\n      <td>Tame Impala</td>\n    </tr>\n    <tr>\n      <th>2</th>\n      <td>2013-04-21T10:26:00</td>\n      <td></td>\n      <td>[Tame Impala, Vampire Weekend, Ladies Night, M...</td>\n      <td></td>\n      <td></td>\n      <td>Indio</td>\n      <td>CA</td>\n      <td>United States</td>\n      <td>33.7205556</td>\n      <td>-116.2147222</td>\n      <td></td>\n      <td>Empire Polo Field</td>\n      <td>Tame Impala</td>\n    </tr>\n    <tr>\n      <th>3</th>\n      <td>2013-04-26T20:00:00</td>\n      <td></td>\n      <td>[Tame Impala, Midnight Juggernauts]</td>\n      <td></td>\n      <td></td>\n      <td>West Melbourne</td>\n      <td></td>\n      <td>Australia</td>\n      <td>-37.81126</td>\n      <td>144.946442</td>\n      <td></td>\n      <td>Festival Hall Melbourne</td>\n      <td>Tame Impala</td>\n    </tr>\n    <tr>\n      <th>4</th>\n      <td>2013-05-02T19:30:00</td>\n      <td></td>\n      <td>[Tame Impala]</td>\n      <td></td>\n      <td></td>\n      <td>Sydney</td>\n      <td></td>\n      <td>Australia</td>\n      <td>-33.889832</td>\n      <td>151.223348</td>\n      <td></td>\n      <td>Hordern Pavilion</td>\n      <td>Tame Impala</td>\n    </tr>\n  </tbody>\n</table>\n</div>"
     },
     "execution_count": 283,
     "metadata": {},
     "output_type": "execute_result"
    }
   ],
   "source": [
    "# data extract\n",
    "r = requests.get(bands_api_url_past)\n",
    "event_json = r.json()\n",
    "\n",
    "test_df = parse_events(event_json)\n",
    "print(test_df.shape)\n",
    "test_df.head()"
   ]
  },
  {
   "cell_type": "code",
   "execution_count": 284,
   "id": "ca1c09ba-03ed-457d-8f95-b574d2756d55",
   "metadata": {},
   "outputs": [],
   "source": [
    "# data extract\n",
    "r_gg = requests.get(getgenre_api_url)\n",
    "\n",
    "genre_json = r_gg.json()\n",
    "top_gg = genre_json['analysis']['top_genres']"
   ]
  },
  {
   "cell_type": "code",
   "execution_count": 285,
   "id": "85fbbbda-9cd1-406f-ae5b-ebfc00c8bd16",
   "metadata": {},
   "outputs": [
    {
     "data": {
      "text/plain": "              datetime title  \\\n0  2013-04-14T10:08:00         \n1  2013-04-19T19:00:00         \n2  2013-04-21T10:26:00         \n3  2013-04-26T20:00:00         \n4  2013-05-02T19:30:00         \n\n                                              lineup festival_start_date  \\\n0  [Tame Impala, The Airborne Toxic Event, Eric P...                       \n1  [Tame Impala, Mona, Alt-J, Social Distortion, ...                       \n2  [Tame Impala, Vampire Weekend, Ladies Night, M...                       \n3                [Tame Impala, Midnight Juggernauts]                       \n4                                      [Tame Impala]                       \n\n  festival_end_date            city region        country    latitude  \\\n0                             Indio     CA  United States  33.7205556   \n1                             Indio     CA  United States  33.6784492   \n2                             Indio     CA  United States  33.7205556   \n3                    West Melbourne             Australia   -37.81126   \n4                            Sydney             Australia  -33.889832   \n\n      longitude location                     name       artist  \\\n0  -116.2147222                 Empire Polo Field  Tame Impala   \n1   -116.237155                  Empire Polo Club  Tame Impala   \n2  -116.2147222                 Empire Polo Field  Tame Impala   \n3    144.946442           Festival Hall Melbourne  Tame Impala   \n4    151.223348                  Hordern Pavilion  Tame Impala   \n\n                                    artist_topgenres  \n0  [indie rock, psychedelic pop, psychedelic rock...  \n1  [indie rock, psychedelic pop, psychedelic rock...  \n2  [indie rock, psychedelic pop, psychedelic rock...  \n3  [indie rock, psychedelic pop, psychedelic rock...  \n4  [indie rock, psychedelic pop, psychedelic rock...  ",
      "text/html": "<div>\n<style scoped>\n    .dataframe tbody tr th:only-of-type {\n        vertical-align: middle;\n    }\n\n    .dataframe tbody tr th {\n        vertical-align: top;\n    }\n\n    .dataframe thead th {\n        text-align: right;\n    }\n</style>\n<table border=\"1\" class=\"dataframe\">\n  <thead>\n    <tr style=\"text-align: right;\">\n      <th></th>\n      <th>datetime</th>\n      <th>title</th>\n      <th>lineup</th>\n      <th>festival_start_date</th>\n      <th>festival_end_date</th>\n      <th>city</th>\n      <th>region</th>\n      <th>country</th>\n      <th>latitude</th>\n      <th>longitude</th>\n      <th>location</th>\n      <th>name</th>\n      <th>artist</th>\n      <th>artist_topgenres</th>\n    </tr>\n  </thead>\n  <tbody>\n    <tr>\n      <th>0</th>\n      <td>2013-04-14T10:08:00</td>\n      <td></td>\n      <td>[Tame Impala, The Airborne Toxic Event, Eric P...</td>\n      <td></td>\n      <td></td>\n      <td>Indio</td>\n      <td>CA</td>\n      <td>United States</td>\n      <td>33.7205556</td>\n      <td>-116.2147222</td>\n      <td></td>\n      <td>Empire Polo Field</td>\n      <td>Tame Impala</td>\n      <td>[indie rock, psychedelic pop, psychedelic rock...</td>\n    </tr>\n    <tr>\n      <th>1</th>\n      <td>2013-04-19T19:00:00</td>\n      <td></td>\n      <td>[Tame Impala, Mona, Alt-J, Social Distortion, ...</td>\n      <td></td>\n      <td></td>\n      <td>Indio</td>\n      <td>CA</td>\n      <td>United States</td>\n      <td>33.6784492</td>\n      <td>-116.237155</td>\n      <td></td>\n      <td>Empire Polo Club</td>\n      <td>Tame Impala</td>\n      <td>[indie rock, psychedelic pop, psychedelic rock...</td>\n    </tr>\n    <tr>\n      <th>2</th>\n      <td>2013-04-21T10:26:00</td>\n      <td></td>\n      <td>[Tame Impala, Vampire Weekend, Ladies Night, M...</td>\n      <td></td>\n      <td></td>\n      <td>Indio</td>\n      <td>CA</td>\n      <td>United States</td>\n      <td>33.7205556</td>\n      <td>-116.2147222</td>\n      <td></td>\n      <td>Empire Polo Field</td>\n      <td>Tame Impala</td>\n      <td>[indie rock, psychedelic pop, psychedelic rock...</td>\n    </tr>\n    <tr>\n      <th>3</th>\n      <td>2013-04-26T20:00:00</td>\n      <td></td>\n      <td>[Tame Impala, Midnight Juggernauts]</td>\n      <td></td>\n      <td></td>\n      <td>West Melbourne</td>\n      <td></td>\n      <td>Australia</td>\n      <td>-37.81126</td>\n      <td>144.946442</td>\n      <td></td>\n      <td>Festival Hall Melbourne</td>\n      <td>Tame Impala</td>\n      <td>[indie rock, psychedelic pop, psychedelic rock...</td>\n    </tr>\n    <tr>\n      <th>4</th>\n      <td>2013-05-02T19:30:00</td>\n      <td></td>\n      <td>[Tame Impala]</td>\n      <td></td>\n      <td></td>\n      <td>Sydney</td>\n      <td></td>\n      <td>Australia</td>\n      <td>-33.889832</td>\n      <td>151.223348</td>\n      <td></td>\n      <td>Hordern Pavilion</td>\n      <td>Tame Impala</td>\n      <td>[indie rock, psychedelic pop, psychedelic rock...</td>\n    </tr>\n  </tbody>\n</table>\n</div>"
     },
     "execution_count": 285,
     "metadata": {},
     "output_type": "execute_result"
    }
   ],
   "source": [
    "# feature extraction\n",
    "test_df['artist'] = artist\n",
    "test_df['artist_topgenres'] = [top_gg for _ in range(len(test_df))]\n",
    "test_df.head()"
   ]
  },
  {
   "cell_type": "code",
   "execution_count": 286,
   "outputs": [
    {
     "data": {
      "text/plain": "country                   region  city              location\nUnited States             NY      New York                      10\n                          CA      Los Angeles                   10\nMexico                            Monterrey                      8\nUnited Kingdom                    London                         8\nUnited States             CO      Denver                         7\n                                                                ..\nItaly                             Rome                           1\n                                  Milan                          1\nIsrael                            Rishon Le Ẕiyyon               1\nIreland                           Stradbally                     1\nUnited States of America  IL      Chicago                        1\nLength: 154, dtype: int64"
     },
     "execution_count": 286,
     "metadata": {},
     "output_type": "execute_result"
    }
   ],
   "source": [
    "test_df[['country','region','city','location']].value_counts()"
   ],
   "metadata": {
    "collapsed": false,
    "pycharm": {
     "name": "#%%\n"
    }
   }
  },
  {
   "cell_type": "code",
   "execution_count": 287,
   "outputs": [
    {
     "data": {
      "text/plain": "1      153\n2       80\n3       18\n7        6\n0        4\n4        3\n56       3\n6        3\n17       3\n23       3\n21       2\n26       2\n22       2\n36       2\n58       2\n88       2\n19       2\n25       2\n24       1\n49       1\n59       1\n8        1\n18       1\n41       1\n52       1\n62       1\n86       1\n38       1\n51       1\n5        1\n12       1\n39       1\n53       1\n95       1\n14       1\n44       1\n77       1\n30       1\n48       1\n65       1\n32       1\n123      1\n42       1\n33       1\nName: lineup, dtype: int64"
     },
     "execution_count": 287,
     "metadata": {},
     "output_type": "execute_result"
    }
   ],
   "source": [
    "test_df['lineup'].str.len().value_counts()"
   ],
   "metadata": {
    "collapsed": false,
    "pycharm": {
     "name": "#%%\n"
    }
   }
  },
  {
   "cell_type": "code",
   "execution_count": 288,
   "outputs": [
    {
     "data": {
      "text/plain": "              datetime title  \\\n0  2013-04-14T10:08:00         \n1  2013-04-19T19:00:00         \n2  2013-04-21T10:26:00         \n3  2013-04-26T20:00:00         \n4  2013-05-02T19:30:00         \n\n                                              lineup festival_start_date  \\\n0  [Tame Impala, The Airborne Toxic Event, Eric P...                       \n1  [Tame Impala, Mona, Alt-J, Social Distortion, ...                       \n2  [Tame Impala, Vampire Weekend, Ladies Night, M...                       \n3                [Tame Impala, Midnight Juggernauts]                       \n4                                      [Tame Impala]                       \n\n  festival_end_date            city region        country    latitude  \\\n0                             Indio     CA  United States  33.7205556   \n1                             Indio     CA  United States  33.6784492   \n2                             Indio     CA  United States  33.7205556   \n3                    West Melbourne             Australia   -37.81126   \n4                            Sydney             Australia  -33.889832   \n\n      longitude location                     name       artist  \\\n0  -116.2147222                 Empire Polo Field  Tame Impala   \n1   -116.237155                  Empire Polo Club  Tame Impala   \n2  -116.2147222                 Empire Polo Field  Tame Impala   \n3    144.946442           Festival Hall Melbourne  Tame Impala   \n4    151.223348                  Hordern Pavilion  Tame Impala   \n\n                                    artist_topgenres  lineup_size  \\\n0  [indie rock, psychedelic pop, psychedelic rock...           38   \n1  [indie rock, psychedelic pop, psychedelic rock...           95   \n2  [indie rock, psychedelic pop, psychedelic rock...           42   \n3  [indie rock, psychedelic pop, psychedelic rock...            2   \n4  [indie rock, psychedelic pop, psychedelic rock...            1   \n\n  festival_flag  \n0      Festival  \n1      Festival  \n2      Festival  \n3       Concert  \n4       Concert  ",
      "text/html": "<div>\n<style scoped>\n    .dataframe tbody tr th:only-of-type {\n        vertical-align: middle;\n    }\n\n    .dataframe tbody tr th {\n        vertical-align: top;\n    }\n\n    .dataframe thead th {\n        text-align: right;\n    }\n</style>\n<table border=\"1\" class=\"dataframe\">\n  <thead>\n    <tr style=\"text-align: right;\">\n      <th></th>\n      <th>datetime</th>\n      <th>title</th>\n      <th>lineup</th>\n      <th>festival_start_date</th>\n      <th>festival_end_date</th>\n      <th>city</th>\n      <th>region</th>\n      <th>country</th>\n      <th>latitude</th>\n      <th>longitude</th>\n      <th>location</th>\n      <th>name</th>\n      <th>artist</th>\n      <th>artist_topgenres</th>\n      <th>lineup_size</th>\n      <th>festival_flag</th>\n    </tr>\n  </thead>\n  <tbody>\n    <tr>\n      <th>0</th>\n      <td>2013-04-14T10:08:00</td>\n      <td></td>\n      <td>[Tame Impala, The Airborne Toxic Event, Eric P...</td>\n      <td></td>\n      <td></td>\n      <td>Indio</td>\n      <td>CA</td>\n      <td>United States</td>\n      <td>33.7205556</td>\n      <td>-116.2147222</td>\n      <td></td>\n      <td>Empire Polo Field</td>\n      <td>Tame Impala</td>\n      <td>[indie rock, psychedelic pop, psychedelic rock...</td>\n      <td>38</td>\n      <td>Festival</td>\n    </tr>\n    <tr>\n      <th>1</th>\n      <td>2013-04-19T19:00:00</td>\n      <td></td>\n      <td>[Tame Impala, Mona, Alt-J, Social Distortion, ...</td>\n      <td></td>\n      <td></td>\n      <td>Indio</td>\n      <td>CA</td>\n      <td>United States</td>\n      <td>33.6784492</td>\n      <td>-116.237155</td>\n      <td></td>\n      <td>Empire Polo Club</td>\n      <td>Tame Impala</td>\n      <td>[indie rock, psychedelic pop, psychedelic rock...</td>\n      <td>95</td>\n      <td>Festival</td>\n    </tr>\n    <tr>\n      <th>2</th>\n      <td>2013-04-21T10:26:00</td>\n      <td></td>\n      <td>[Tame Impala, Vampire Weekend, Ladies Night, M...</td>\n      <td></td>\n      <td></td>\n      <td>Indio</td>\n      <td>CA</td>\n      <td>United States</td>\n      <td>33.7205556</td>\n      <td>-116.2147222</td>\n      <td></td>\n      <td>Empire Polo Field</td>\n      <td>Tame Impala</td>\n      <td>[indie rock, psychedelic pop, psychedelic rock...</td>\n      <td>42</td>\n      <td>Festival</td>\n    </tr>\n    <tr>\n      <th>3</th>\n      <td>2013-04-26T20:00:00</td>\n      <td></td>\n      <td>[Tame Impala, Midnight Juggernauts]</td>\n      <td></td>\n      <td></td>\n      <td>West Melbourne</td>\n      <td></td>\n      <td>Australia</td>\n      <td>-37.81126</td>\n      <td>144.946442</td>\n      <td></td>\n      <td>Festival Hall Melbourne</td>\n      <td>Tame Impala</td>\n      <td>[indie rock, psychedelic pop, psychedelic rock...</td>\n      <td>2</td>\n      <td>Concert</td>\n    </tr>\n    <tr>\n      <th>4</th>\n      <td>2013-05-02T19:30:00</td>\n      <td></td>\n      <td>[Tame Impala]</td>\n      <td></td>\n      <td></td>\n      <td>Sydney</td>\n      <td></td>\n      <td>Australia</td>\n      <td>-33.889832</td>\n      <td>151.223348</td>\n      <td></td>\n      <td>Hordern Pavilion</td>\n      <td>Tame Impala</td>\n      <td>[indie rock, psychedelic pop, psychedelic rock...</td>\n      <td>1</td>\n      <td>Concert</td>\n    </tr>\n  </tbody>\n</table>\n</div>"
     },
     "execution_count": 288,
     "metadata": {},
     "output_type": "execute_result"
    }
   ],
   "source": [
    "# feature extraction\n",
    "test_df['lineup_size'] = test_df['lineup'].str.len()\n",
    "test_df['festival_flag'] = np.where(test_df['lineup'].str.len() > 5, 'Festival', 'Concert')\n",
    "test_df['festival_flag'] = test_df['festival_flag'].astype(str)\n",
    "test_df.head()"
   ],
   "metadata": {
    "collapsed": false,
    "pycharm": {
     "name": "#%%\n"
    }
   }
  },
  {
   "cell_type": "code",
   "execution_count": 289,
   "outputs": [
    {
     "name": "stdout",
     "output_type": "stream",
     "text": [
      "(318, 16)\n",
      "(316, 16)\n"
     ]
    }
   ],
   "source": [
    "# data cleanup\n",
    "print(test_df.shape)\n",
    "test_df = test_df[(test_df['latitude'].notna()) & (test_df['longitude'].notna())]\n",
    "print(test_df.shape)\n",
    "test_df['latitude'] = pd.to_numeric(test_df['latitude'])\n",
    "test_df['longitude'] = pd.to_numeric((test_df['longitude']))"
   ],
   "metadata": {
    "collapsed": false,
    "pycharm": {
     "name": "#%%\n"
    }
   }
  },
  {
   "cell_type": "code",
   "execution_count": 290,
   "outputs": [],
   "source": [
    "# data cleanup\n",
    "#test_df = get_locations(test_df)  ## disabling for now due to run time"
   ],
   "metadata": {
    "collapsed": false,
    "pycharm": {
     "name": "#%%\n"
    }
   }
  },
  {
   "cell_type": "code",
   "execution_count": 291,
   "outputs": [
    {
     "data": {
      "text/plain": "country                   region  city              location\nUnited States             CA      Los Angeles                   10\n                          NY      New York                      10\nMexico                            Monterrey                      8\nUnited Kingdom                    London                         8\nUnited States             TX      Austin                         7\n                                                                ..\nItaly                             Sestri Levante                 1\n                                  Rome                           1\n                                  Milan                          1\nIsrael                            Rishon Le Ẕiyyon               1\nUnited States of America  IL      Chicago                        1\nLength: 153, dtype: int64"
     },
     "execution_count": 291,
     "metadata": {},
     "output_type": "execute_result"
    }
   ],
   "source": [
    "# test_df[['country','region','city','location']].value_counts()"
   ],
   "metadata": {
    "collapsed": false,
    "pycharm": {
     "name": "#%%\n"
    }
   }
  },
  {
   "cell_type": "code",
   "execution_count": 292,
   "outputs": [
    {
     "data": {
      "application/vnd.plotly.v1+json": {
       "data": [
        {
         "hovertemplate": "<b>%{hovertext}</b><br><br>festival_flag=Festival<br>latitude=%{lat}<br>longitude=%{lon}<extra></extra>",
         "hovertext": [
          "Indio",
          "Indio",
          "Indio",
          "Barcelona",
          "George",
          "Manchester",
          "Gdynia",
          "Werchter",
          "Budapest",
          "Oslo",
          "Biddinghuizen",
          "Leeds",
          "San Francisco",
          "Auckland",
          "Carrara",
          "Melbourne",
          "Sydney Olympic Park",
          "Adelaide",
          "Joondalup Wa",
          "Kinross",
          "Suffolk",
          "Beccles",
          "Santiago",
          "Indio",
          "Indio",
          "Cincinnati",
          "Chicago",
          "San Francisco",
          "Roskilde",
          "Werchter",
          "Lisbon",
          "Madrid",
          "Chicago",
          "Martindale",
          "Lake Perris",
          "Oakland",
          "Zapopan",
          "Boston",
          "Detroit",
          "Chicago",
          "Oslo",
          "Oslo",
          "Oslo",
          "Oslo",
          "Austin",
          "Austin",
          "Monterrey",
          "Monterrey",
          "Monterrey",
          "Monterrey",
          "Monterrey",
          "Manchester",
          "Dover",
          "San Francisco",
          "Houston",
          "Monterrey",
          "Mexico",
          "Tempe",
          "Okeechobee"
         ],
         "lat": [
          33.7205556,
          33.6784492,
          33.7205556,
          41.413836,
          47.0791667,
          35.512188,
          54.517078,
          50.9705,
          47.5,
          59.9167,
          52.4396038,
          53.87016,
          37.778435,
          -36.8666496,
          -28.0059,
          -37.785831,
          -33.846409,
          -34.9333333,
          -31.735929,
          56.2,
          52.348906,
          52.383097,
          -33.463039,
          33.721702,
          33.721702,
          39.101688,
          41.875778,
          37.7660618,
          55.630278,
          50.9701385,
          38.698791,
          40.4165,
          41.8839452,
          29.8452778,
          35.6405556,
          37.8052576,
          20.6719563,
          42.3593008,
          42.3313889,
          41.8843178,
          59.9166667,
          59.9166667,
          59.9166667,
          59.9166667,
          30.265664,
          30.265664,
          28.82944,
          20.64866,
          25.7735,
          20.64866,
          20.64866,
          35.48174,
          39.15817,
          37.7694208,
          29.6849044,
          22.31651,
          19.4039371,
          33.4307373,
          27.35988
         ],
         "legendgroup": "Festival",
         "lon": [
          -116.2147222,
          -116.237155,
          -116.2147222,
          2.217205,
          -119.8547222,
          -86.068718,
          18.53532,
          4.69408,
          19.0833,
          10.75,
          5.7682193,
          -1.380345,
          -122.418125,
          174.7280731,
          153.36365,
          144.919754,
          151.067298,
          138.6,
          115.759621,
          -3.4166667,
          1.595267,
          1.580093,
          -70.647942,
          -116.219425,
          -116.219425,
          -84.499649,
          -87.620239,
          -122.4643124,
          12.083631,
          4.6831298,
          -9.230327,
          -3.70256,
          -87.6655371,
          -97.8405556,
          -117.7630556,
          -122.3229787,
          -103.416501,
          -71.1270268,
          -83.0458333,
          -87.6195445,
          10.75,
          10.75,
          10.75,
          10.75,
          -97.766076,
          -97.766076,
          -111.63944,
          -98.15615,
          -100.16838,
          -98.15615,
          -98.15615,
          -86.0886,
          -75.52437,
          -122.48621379999996,
          -95.4107358,
          -98.30968,
          -99.0895294,
          -111.9416936,
          -80.73357399999998
         ],
         "marker": {
          "color": "rgb(229, 134, 6)"
         },
         "mode": "markers",
         "name": "Festival",
         "showlegend": true,
         "subplot": "mapbox",
         "type": "scattermapbox"
        },
        {
         "hovertemplate": "<b>%{hovertext}</b><br><br>festival_flag=Concert<br>latitude=%{lat}<br>longitude=%{lon}<extra></extra>",
         "hovertext": [
          "West Melbourne",
          "Sydney",
          "South Bank Qld",
          "Upper Swan",
          "Portland",
          "North Vancouver",
          "Oakland",
          "Pomona",
          "San Diego",
          "Atlanta",
          "Richmond",
          "Philadelphia",
          "London",
          "Paris",
          "Ramonville-St-Agne",
          "Copenhagen",
          "Zurich",
          "Edinburgh",
          "Dublin",
          "New York",
          "New York",
          "Philadelphia",
          "Columbia",
          "St Louis",
          "Madison",
          "Chicago",
          "Kansas City",
          "Dallas",
          "Rio De Janeiro",
          "Monterrey",
          "Mexico City",
          "Boulder",
          "Denver",
          "Los Angeles",
          "Los Angeles",
          "Santa Barbara",
          "Seattle",
          "Portland",
          "Rottnest Island",
          "Oxford",
          "Frankfurt Am Main",
          "Munich",
          "Manchester",
          "Birmingham",
          "Nottingham",
          "Beccles",
          "New York",
          "New York",
          "Los Angeles",
          "Las Vegas",
          "Oakland",
          "Oakland",
          "Bogota",
          "Manchester",
          "London",
          "Sao Paulo",
          "Ariel",
          "Pomona",
          "Austin",
          "New Orleans",
          "Atlanta",
          "Nashville",
          "Minneapolis",
          "Milwaukee",
          "Chicago",
          "Columbus",
          "Royal Oak",
          "Toronto",
          "Montreal",
          "Montreal",
          "Boston",
          "George",
          "Vancouver",
          "Portland",
          "Salt Lake City",
          "Denver",
          "Kansas City",
          "St Louis",
          "Pittsburgh",
          "Cleveland",
          "Washington",
          "New York",
          "Byron Bay Nsw",
          "Byron Bay",
          "San Diego",
          "Los Angeles",
          "Los Angeles",
          "Viana Do Castelo",
          "Hasselt",
          "Biddinghuizen",
          "Sestri Levante",
          "Rome",
          "Verona",
          "Zurich",
          "Boulogne-Billancourt",
          "Gardenstown",
          "Stradbally",
          "Glasgow",
          "Liverpool",
          "Downend",
          "Berlin",
          "Austin",
          "Upper Darby",
          "New York",
          "New York",
          "Austin",
          "Melbourne",
          "Circular Quay",
          "Sydney",
          "Perth",
          "Perth",
          "Adelaide",
          "Adelaide",
          "Brisbane",
          "Auckland",
          "Wellington",
          "Amsterdam-Zuidoost",
          "Brussels",
          "Paris",
          "Frederiksberg",
          "Oslo",
          "Stockholm",
          "Hamburg",
          "Berlin",
          "Köln",
          "Manchester",
          "London",
          "London",
          "Bogota",
          "Sao Paulo",
          "Lima",
          "Buenos Aires",
          "Buenos Aires",
          "Santiago",
          "Yau Tsim Mong",
          "Singapore",
          "Kuala Lumpur",
          "Tokyo",
          "Osaka",
          "Jakarta",
          "Barcelona",
          "Dublin",
          "Manchester",
          "Toronto",
          "Montréal",
          "Brooklyn",
          "Brooklyn",
          "Columbia",
          "Dover",
          "Gdynia",
          "Belfort",
          "Lyon",
          "Milan",
          "Bilbao",
          "Rishon Le Ẕiyyon",
          "Ostrava - Vítkovice",
          "Gräfenhainichen",
          "Los Angeles",
          "Portland",
          "Denver",
          "Berkeley",
          "Berkeley",
          "Seattle",
          "México",
          "Monterrey",
          "New York",
          "Camden, London",
          "Martindale",
          "Tokyo",
          "Higashi-Osaka",
          "London",
          "London",
          "London",
          "Oakland",
          "Nashville",
          "Asheville",
          "Atlanta",
          "St. Augustine",
          "Miami Beach",
          "Barcelona",
          "Paris",
          "Lorensberg",
          "London",
          "Blackpool",
          "Dublin",
          "Toronto",
          "Minneapolis",
          "Minneapolis",
          "Berlin",
          "New York",
          "New York",
          "Philadelphia",
          "Washington",
          "Washington",
          "Denver",
          "Denver",
          "San Diego",
          "Los Angeles",
          "Los Angeles",
          "San Francisco",
          "Mexico",
          "Auckland",
          "Brisbane",
          "Melbourne",
          "Hindmarsh",
          "Perth",
          "Toronto",
          "Montreal",
          "Washington",
          "Charlotte",
          "Atlanta",
          "Miami",
          "St Paul",
          "St Louis",
          "Kansas City",
          "Tulsa",
          "Austin",
          "Dallas",
          "Houston",
          "Glendale",
          "Denver",
          "Salt Lake City",
          "Portland",
          "Vancouver",
          "Mexico",
          "San Francisco",
          "Auckland",
          "Brisbane",
          "Sydney",
          "Melbourne",
          "Melbourne",
          "Hindmarsh",
          "Perth",
          "Mexico",
          "Mexico",
          "Chicago",
          "Quincy",
          "Portland",
          "San Francisco",
          "Las Vegas",
          "Glendale",
          "Denver",
          "Washington",
          "Atlanta",
          "Los Angeles",
          "Los Angeles",
          "Austin",
          "Houston",
          "Dallas",
          "Zapopan",
          "Auckland",
          "Sydney",
          "Brisbane",
          "Melbourne",
          "Melbourne",
          "Hindmarsh",
          "Perth"
         ],
         "lat": [
          -37.81126,
          -33.889832,
          -27.476351,
          -31.7900054,
          45.522928,
          49.3544406,
          37.807772,
          34.056791,
          32.7163734,
          33.758589,
          37.541608,
          39.964809,
          51.489964,
          48.870102,
          43.548883,
          55.6666667,
          47.387318,
          55.946727,
          53.344265,
          40.769704,
          40.769704,
          39.9602181,
          39.211407,
          38.62774,
          43.074861,
          41.85,
          39.0997222,
          32.769441,
          -22.9130601,
          25.6666667,
          19.4319,
          40.018845,
          39.740009,
          34.119523,
          34.0402556,
          34.432517,
          47.6221261,
          45.5228996,
          -31.99863,
          51.746928,
          50.135439,
          48.12504,
          53.4784,
          52.475473,
          52.9666667,
          52.4666667,
          40.7803275,
          40.7803275,
          34.022726,
          36.117661,
          37.807772,
          37.807772,
          4.6,
          53.486934,
          51.594192,
          -23.56284,
          -36.581824,
          34.056584,
          30.2669444,
          29.950033,
          33.7488889,
          36.162219,
          44.9782677,
          43.0388889,
          41.968926,
          39.997584,
          42.4872563,
          43.653755,
          45.5105348,
          45.5107689,
          42.3583333,
          47.0791667,
          49.2908103,
          45.523452,
          40.769588,
          39.740299,
          39.061149,
          38.655624,
          40.4453,
          41.499691,
          38.9198486,
          40.7141667,
          -28.646891,
          -28.65,
          32.748008,
          34.0905044,
          34.0905044,
          41.7005249,
          50.9333333,
          52.45,
          44.26804,
          41.823944,
          45.4463616,
          47.3666667,
          48.841304,
          57.671853,
          52.13,
          55.855355,
          53.41564,
          50.6833333,
          52.5166667,
          30.266036,
          39.9611479,
          40.759529,
          40.76986,
          30.2660358,
          -37.822033,
          -33.86186,
          -33.865059,
          -31.9333333,
          -31.9333333,
          -34.9236931,
          -34.9236931,
          -27.477112,
          -36.8927994,
          -40.87094,
          52.3123512,
          50.809646,
          48.888877,
          55.679681,
          59.9166667,
          59.294117,
          53.55,
          52.484701,
          50.9333333,
          53.486934,
          51.594165,
          51.5,
          4.6,
          -23.5333333,
          -12.05,
          -34.6727066,
          -34.5875,
          -33.45,
          22.3185806,
          1.2930556,
          3.1666667,
          35.685,
          34.6666667,
          -6.1744444,
          41.3833333,
          53.3330556,
          35.476247,
          43.617321,
          45.496112,
          40.664607,
          40.664607,
          39.208917,
          39.186967,
          54.518951,
          47.6414528,
          45.7590274,
          45.4666667,
          43.25,
          31.9577751,
          49.814788,
          51.726719,
          34.0151015,
          45.5236111,
          39.7391667,
          37.8716667,
          37.8716667,
          47.610588,
          19.4015408,
          25.6666667,
          40.8619003,
          51.5323601,
          29.8452778,
          35.685,
          34.6666667,
          51.5397173,
          51.5397173,
          51.5397173,
          37.8044444,
          36.1724885,
          35.59505809999999,
          33.7717008,
          29.90124370000001,
          25.790654,
          41.38879,
          48.86405,
          57.699369,
          51.503038,
          53.777679,
          53.354771,
          43.6293322,
          44.977753,
          44.977753,
          52.4584333,
          40.7507387,
          40.7507387,
          39.9522222,
          38.8800664,
          38.8800664,
          39.776204,
          39.776204,
          32.755274,
          33.9582095,
          33.9582095,
          37.77493,
          19.4051591,
          -36.84724200000001,
          -27.46794,
          -37.8216202,
          -34.90516,
          -31.948434,
          43.643466,
          45.496112,
          38.901957,
          35.2251426,
          33.749,
          25.7814014,
          44.94715,
          38.6268402,
          39.0972997,
          36.152766,
          30.2768975,
          32.7904365,
          29.7507604,
          33.531484,
          39.7486389,
          40.76772,
          45.531982,
          49.27783579999999,
          19.4051591,
          37.77493,
          -36.84724200000001,
          -27.46794,
          -33.8443038,
          -37.8216202,
          -37.8216202,
          -34.90516,
          -31.948434,
          19.4051591,
          19.4051591,
          41.8806908,
          47.0937583,
          45.531982,
          37.77493,
          36.1686667,
          33.531484,
          39.7486565,
          38.901957,
          33.756027,
          34.112224,
          34.112224,
          30.2769359,
          29.7858124,
          32.7904365,
          20.73192,
          -36.84724200000001,
          -33.8443038,
          -27.46794,
          -37.8216202,
          -37.8216202,
          -34.90516,
          -31.948434
         ],
         "legendgroup": "Concert",
         "lon": [
          144.946442,
          151.223348,
          153.017471,
          116.0225478,
          -122.684512,
          -123.0578184,
          -122.270194,
          -117.750225,
          -117.1600856,
          -84.391084,
          -77.435078,
          -75.169601,
          -0.226173,
          2.328317,
          1.466175,
          12.5833333,
          8.499865,
          -3.188661,
          -6.266177,
          -73.992414,
          -73.992414,
          -75.1372998,
          -76.86299,
          -90.199514,
          -89.388493,
          -87.65,
          -94.5783333,
          -96.798213,
          -43.18041,
          -100.3166667,
          -99.132851,
          -105.277326,
          -104.975258,
          -118.29631,
          -118.2592519,
          -119.69369,
          -122.354016,
          -122.6847805,
          115.54173,
          -1.2347,
          8.739144,
          11.6041,
          -2.2488,
          -1.887311,
          -1.1666667,
          1.5666667,
          -73.9816297,
          -73.9816297,
          -118.281289,
          -115.172783,
          -122.270194,
          -122.270194,
          -74.0833333,
          -2.242489,
          -0.130773,
          -46.65464,
          -59.965264,
          -117.750505,
          -97.7427778,
          -90.074091,
          -84.3880556,
          -86.779399,
          -93.2760773,
          -87.9063889,
          -87.659909,
          -83.007424,
          -83.1469338,
          -79.37872,
          -73.563372,
          -73.5636292,
          -71.0602778,
          -119.8547222,
          -123.1462095,
          -122.676207,
          -111.90114,
          -104.975288,
          -94.590638,
          -90.297912,
          -80.013549,
          -81.690941,
          -76.9728179,
          -74.0063889,
          153.612823,
          153.6166667,
          -117.131278,
          -118.3198798,
          -118.3198798,
          -8.8242112,
          5.3333333,
          5.7,
          9.39185,
          12.56853,
          11.0030492,
          8.55,
          2.224413,
          -2.338337,
          -7.46,
          -4.236961,
          -2.957124,
          -1.2333333,
          13.4,
          -97.771529,
          -75.2589485,
          -73.978584,
          -73.99267,
          -97.7676149,
          144.974426,
          151.21055,
          151.19296,
          115.8333333,
          115.8333333,
          138.568596,
          138.568596,
          153.030106,
          174.7820129,
          175.01755,
          4.94415,
          4.326095,
          2.392484,
          12.533449,
          10.75,
          18.07951,
          10.0,
          13.392532,
          6.95,
          -2.242489,
          -0.130752,
          -0.1166667,
          -74.0833333,
          -46.6166667,
          -77.05,
          -58.4761429,
          -58.6725,
          -70.6666667,
          114.1715164,
          103.8558333,
          101.7,
          139.7513889,
          135.5,
          106.8294444,
          2.1833333,
          -6.2488889,
          -86.081026,
          -79.3717117,
          -73.569315,
          -73.976846,
          -73.976846,
          -76.862608,
          -75.537214,
          18.523552,
          6.8588653,
          4.8210957,
          9.2,
          -2.9666667,
          34.8109741,
          18.268757,
          12.46192,
          -118.2859325,
          -122.675,
          -104.9841667,
          -122.2716667,
          -122.2716667,
          -122.335847,
          -99.0980606,
          -100.3166667,
          -73.8268967,
          -0.12796,
          -97.8405556,
          139.7513889,
          135.5833333,
          -0.0580711,
          -0.0580711,
          -0.0580711,
          -122.2697222,
          -86.7805961,
          -82.5514869,
          -84.3726049,
          -81.31243409999999,
          -80.1300455,
          2.15899,
          2.33105,
          11.9708071,
          0.0031543000000056,
          -3.042767,
          -6.23234,
          -79.4150723,
          -93.2650108,
          -93.2650108,
          13.5539563,
          -73.9937978,
          -73.9937978,
          -75.1641667,
          -77.0261129,
          -77.0261129,
          -104.969168,
          -104.969168,
          -117.212196,
          -118.34189879999995,
          -118.34189879999995,
          -122.41942,
          -99.0956283,
          174.77612899999997,
          153.02809,
          144.97853639999994,
          138.57225,
          115.85211,
          -79.379142,
          -73.569315,
          -77.026333,
          -80.8392351,
          -84.38798,
          -80.18696899999998,
          -93.086949,
          -90.20267830000002,
          -94.5799392,
          -95.996416,
          -97.7321857,
          -96.8103281,
          -95.3621005,
          -112.26167,
          -105.0075285,
          -111.901127,
          -122.667838,
          -123.10882270000002,
          -99.0956283,
          -122.41942,
          174.77612899999997,
          153.02809,
          151.06208379999998,
          144.97853639999994,
          144.97853639999994,
          138.57225,
          115.85211,
          -99.0956283,
          -99.0956283,
          -87.67417590000002,
          -119.9828653,
          -122.667838,
          -122.41942,
          -115.14464069999995,
          -112.26167,
          -105.0076028,
          -77.026333,
          -84.397282,
          -118.3391279,
          -118.3391279,
          -97.732185,
          -95.3669739,
          -96.8103281,
          -103.3794099,
          174.77612899999997,
          151.06208379999998,
          153.02809,
          144.97853639999994,
          144.97853639999994,
          138.57225,
          115.85211
         ],
         "marker": {
          "color": "rgb(93, 105, 177)"
         },
         "mode": "markers",
         "name": "Concert",
         "showlegend": true,
         "subplot": "mapbox",
         "type": "scattermapbox"
        }
       ],
       "layout": {
        "template": {
         "data": {
          "bar": [
           {
            "error_x": {
             "color": "#2a3f5f"
            },
            "error_y": {
             "color": "#2a3f5f"
            },
            "marker": {
             "line": {
              "color": "#E5ECF6",
              "width": 0.5
             },
             "pattern": {
              "fillmode": "overlay",
              "size": 10,
              "solidity": 0.2
             }
            },
            "type": "bar"
           }
          ],
          "barpolar": [
           {
            "marker": {
             "line": {
              "color": "#E5ECF6",
              "width": 0.5
             },
             "pattern": {
              "fillmode": "overlay",
              "size": 10,
              "solidity": 0.2
             }
            },
            "type": "barpolar"
           }
          ],
          "carpet": [
           {
            "aaxis": {
             "endlinecolor": "#2a3f5f",
             "gridcolor": "white",
             "linecolor": "white",
             "minorgridcolor": "white",
             "startlinecolor": "#2a3f5f"
            },
            "baxis": {
             "endlinecolor": "#2a3f5f",
             "gridcolor": "white",
             "linecolor": "white",
             "minorgridcolor": "white",
             "startlinecolor": "#2a3f5f"
            },
            "type": "carpet"
           }
          ],
          "choropleth": [
           {
            "colorbar": {
             "outlinewidth": 0,
             "ticks": ""
            },
            "type": "choropleth"
           }
          ],
          "contour": [
           {
            "colorbar": {
             "outlinewidth": 0,
             "ticks": ""
            },
            "colorscale": [
             [
              0.0,
              "#0d0887"
             ],
             [
              0.1111111111111111,
              "#46039f"
             ],
             [
              0.2222222222222222,
              "#7201a8"
             ],
             [
              0.3333333333333333,
              "#9c179e"
             ],
             [
              0.4444444444444444,
              "#bd3786"
             ],
             [
              0.5555555555555556,
              "#d8576b"
             ],
             [
              0.6666666666666666,
              "#ed7953"
             ],
             [
              0.7777777777777778,
              "#fb9f3a"
             ],
             [
              0.8888888888888888,
              "#fdca26"
             ],
             [
              1.0,
              "#f0f921"
             ]
            ],
            "type": "contour"
           }
          ],
          "contourcarpet": [
           {
            "colorbar": {
             "outlinewidth": 0,
             "ticks": ""
            },
            "type": "contourcarpet"
           }
          ],
          "heatmap": [
           {
            "colorbar": {
             "outlinewidth": 0,
             "ticks": ""
            },
            "colorscale": [
             [
              0.0,
              "#0d0887"
             ],
             [
              0.1111111111111111,
              "#46039f"
             ],
             [
              0.2222222222222222,
              "#7201a8"
             ],
             [
              0.3333333333333333,
              "#9c179e"
             ],
             [
              0.4444444444444444,
              "#bd3786"
             ],
             [
              0.5555555555555556,
              "#d8576b"
             ],
             [
              0.6666666666666666,
              "#ed7953"
             ],
             [
              0.7777777777777778,
              "#fb9f3a"
             ],
             [
              0.8888888888888888,
              "#fdca26"
             ],
             [
              1.0,
              "#f0f921"
             ]
            ],
            "type": "heatmap"
           }
          ],
          "heatmapgl": [
           {
            "colorbar": {
             "outlinewidth": 0,
             "ticks": ""
            },
            "colorscale": [
             [
              0.0,
              "#0d0887"
             ],
             [
              0.1111111111111111,
              "#46039f"
             ],
             [
              0.2222222222222222,
              "#7201a8"
             ],
             [
              0.3333333333333333,
              "#9c179e"
             ],
             [
              0.4444444444444444,
              "#bd3786"
             ],
             [
              0.5555555555555556,
              "#d8576b"
             ],
             [
              0.6666666666666666,
              "#ed7953"
             ],
             [
              0.7777777777777778,
              "#fb9f3a"
             ],
             [
              0.8888888888888888,
              "#fdca26"
             ],
             [
              1.0,
              "#f0f921"
             ]
            ],
            "type": "heatmapgl"
           }
          ],
          "histogram": [
           {
            "marker": {
             "pattern": {
              "fillmode": "overlay",
              "size": 10,
              "solidity": 0.2
             }
            },
            "type": "histogram"
           }
          ],
          "histogram2d": [
           {
            "colorbar": {
             "outlinewidth": 0,
             "ticks": ""
            },
            "colorscale": [
             [
              0.0,
              "#0d0887"
             ],
             [
              0.1111111111111111,
              "#46039f"
             ],
             [
              0.2222222222222222,
              "#7201a8"
             ],
             [
              0.3333333333333333,
              "#9c179e"
             ],
             [
              0.4444444444444444,
              "#bd3786"
             ],
             [
              0.5555555555555556,
              "#d8576b"
             ],
             [
              0.6666666666666666,
              "#ed7953"
             ],
             [
              0.7777777777777778,
              "#fb9f3a"
             ],
             [
              0.8888888888888888,
              "#fdca26"
             ],
             [
              1.0,
              "#f0f921"
             ]
            ],
            "type": "histogram2d"
           }
          ],
          "histogram2dcontour": [
           {
            "colorbar": {
             "outlinewidth": 0,
             "ticks": ""
            },
            "colorscale": [
             [
              0.0,
              "#0d0887"
             ],
             [
              0.1111111111111111,
              "#46039f"
             ],
             [
              0.2222222222222222,
              "#7201a8"
             ],
             [
              0.3333333333333333,
              "#9c179e"
             ],
             [
              0.4444444444444444,
              "#bd3786"
             ],
             [
              0.5555555555555556,
              "#d8576b"
             ],
             [
              0.6666666666666666,
              "#ed7953"
             ],
             [
              0.7777777777777778,
              "#fb9f3a"
             ],
             [
              0.8888888888888888,
              "#fdca26"
             ],
             [
              1.0,
              "#f0f921"
             ]
            ],
            "type": "histogram2dcontour"
           }
          ],
          "mesh3d": [
           {
            "colorbar": {
             "outlinewidth": 0,
             "ticks": ""
            },
            "type": "mesh3d"
           }
          ],
          "parcoords": [
           {
            "line": {
             "colorbar": {
              "outlinewidth": 0,
              "ticks": ""
             }
            },
            "type": "parcoords"
           }
          ],
          "pie": [
           {
            "automargin": true,
            "type": "pie"
           }
          ],
          "scatter": [
           {
            "marker": {
             "colorbar": {
              "outlinewidth": 0,
              "ticks": ""
             }
            },
            "type": "scatter"
           }
          ],
          "scatter3d": [
           {
            "line": {
             "colorbar": {
              "outlinewidth": 0,
              "ticks": ""
             }
            },
            "marker": {
             "colorbar": {
              "outlinewidth": 0,
              "ticks": ""
             }
            },
            "type": "scatter3d"
           }
          ],
          "scattercarpet": [
           {
            "marker": {
             "colorbar": {
              "outlinewidth": 0,
              "ticks": ""
             }
            },
            "type": "scattercarpet"
           }
          ],
          "scattergeo": [
           {
            "marker": {
             "colorbar": {
              "outlinewidth": 0,
              "ticks": ""
             }
            },
            "type": "scattergeo"
           }
          ],
          "scattergl": [
           {
            "marker": {
             "colorbar": {
              "outlinewidth": 0,
              "ticks": ""
             }
            },
            "type": "scattergl"
           }
          ],
          "scattermapbox": [
           {
            "marker": {
             "colorbar": {
              "outlinewidth": 0,
              "ticks": ""
             }
            },
            "type": "scattermapbox"
           }
          ],
          "scatterpolar": [
           {
            "marker": {
             "colorbar": {
              "outlinewidth": 0,
              "ticks": ""
             }
            },
            "type": "scatterpolar"
           }
          ],
          "scatterpolargl": [
           {
            "marker": {
             "colorbar": {
              "outlinewidth": 0,
              "ticks": ""
             }
            },
            "type": "scatterpolargl"
           }
          ],
          "scatterternary": [
           {
            "marker": {
             "colorbar": {
              "outlinewidth": 0,
              "ticks": ""
             }
            },
            "type": "scatterternary"
           }
          ],
          "surface": [
           {
            "colorbar": {
             "outlinewidth": 0,
             "ticks": ""
            },
            "colorscale": [
             [
              0.0,
              "#0d0887"
             ],
             [
              0.1111111111111111,
              "#46039f"
             ],
             [
              0.2222222222222222,
              "#7201a8"
             ],
             [
              0.3333333333333333,
              "#9c179e"
             ],
             [
              0.4444444444444444,
              "#bd3786"
             ],
             [
              0.5555555555555556,
              "#d8576b"
             ],
             [
              0.6666666666666666,
              "#ed7953"
             ],
             [
              0.7777777777777778,
              "#fb9f3a"
             ],
             [
              0.8888888888888888,
              "#fdca26"
             ],
             [
              1.0,
              "#f0f921"
             ]
            ],
            "type": "surface"
           }
          ],
          "table": [
           {
            "cells": {
             "fill": {
              "color": "#EBF0F8"
             },
             "line": {
              "color": "white"
             }
            },
            "header": {
             "fill": {
              "color": "#C8D4E3"
             },
             "line": {
              "color": "white"
             }
            },
            "type": "table"
           }
          ]
         },
         "layout": {
          "annotationdefaults": {
           "arrowcolor": "#2a3f5f",
           "arrowhead": 0,
           "arrowwidth": 1
          },
          "autotypenumbers": "strict",
          "coloraxis": {
           "colorbar": {
            "outlinewidth": 0,
            "ticks": ""
           }
          },
          "colorscale": {
           "diverging": [
            [
             0,
             "#8e0152"
            ],
            [
             0.1,
             "#c51b7d"
            ],
            [
             0.2,
             "#de77ae"
            ],
            [
             0.3,
             "#f1b6da"
            ],
            [
             0.4,
             "#fde0ef"
            ],
            [
             0.5,
             "#f7f7f7"
            ],
            [
             0.6,
             "#e6f5d0"
            ],
            [
             0.7,
             "#b8e186"
            ],
            [
             0.8,
             "#7fbc41"
            ],
            [
             0.9,
             "#4d9221"
            ],
            [
             1,
             "#276419"
            ]
           ],
           "sequential": [
            [
             0.0,
             "#0d0887"
            ],
            [
             0.1111111111111111,
             "#46039f"
            ],
            [
             0.2222222222222222,
             "#7201a8"
            ],
            [
             0.3333333333333333,
             "#9c179e"
            ],
            [
             0.4444444444444444,
             "#bd3786"
            ],
            [
             0.5555555555555556,
             "#d8576b"
            ],
            [
             0.6666666666666666,
             "#ed7953"
            ],
            [
             0.7777777777777778,
             "#fb9f3a"
            ],
            [
             0.8888888888888888,
             "#fdca26"
            ],
            [
             1.0,
             "#f0f921"
            ]
           ],
           "sequentialminus": [
            [
             0.0,
             "#0d0887"
            ],
            [
             0.1111111111111111,
             "#46039f"
            ],
            [
             0.2222222222222222,
             "#7201a8"
            ],
            [
             0.3333333333333333,
             "#9c179e"
            ],
            [
             0.4444444444444444,
             "#bd3786"
            ],
            [
             0.5555555555555556,
             "#d8576b"
            ],
            [
             0.6666666666666666,
             "#ed7953"
            ],
            [
             0.7777777777777778,
             "#fb9f3a"
            ],
            [
             0.8888888888888888,
             "#fdca26"
            ],
            [
             1.0,
             "#f0f921"
            ]
           ]
          },
          "colorway": [
           "#636efa",
           "#EF553B",
           "#00cc96",
           "#ab63fa",
           "#FFA15A",
           "#19d3f3",
           "#FF6692",
           "#B6E880",
           "#FF97FF",
           "#FECB52"
          ],
          "font": {
           "color": "#2a3f5f"
          },
          "geo": {
           "bgcolor": "white",
           "lakecolor": "white",
           "landcolor": "#E5ECF6",
           "showlakes": true,
           "showland": true,
           "subunitcolor": "white"
          },
          "hoverlabel": {
           "align": "left"
          },
          "hovermode": "closest",
          "mapbox": {
           "style": "light"
          },
          "paper_bgcolor": "white",
          "plot_bgcolor": "#E5ECF6",
          "polar": {
           "angularaxis": {
            "gridcolor": "white",
            "linecolor": "white",
            "ticks": ""
           },
           "bgcolor": "#E5ECF6",
           "radialaxis": {
            "gridcolor": "white",
            "linecolor": "white",
            "ticks": ""
           }
          },
          "scene": {
           "xaxis": {
            "backgroundcolor": "#E5ECF6",
            "gridcolor": "white",
            "gridwidth": 2,
            "linecolor": "white",
            "showbackground": true,
            "ticks": "",
            "zerolinecolor": "white"
           },
           "yaxis": {
            "backgroundcolor": "#E5ECF6",
            "gridcolor": "white",
            "gridwidth": 2,
            "linecolor": "white",
            "showbackground": true,
            "ticks": "",
            "zerolinecolor": "white"
           },
           "zaxis": {
            "backgroundcolor": "#E5ECF6",
            "gridcolor": "white",
            "gridwidth": 2,
            "linecolor": "white",
            "showbackground": true,
            "ticks": "",
            "zerolinecolor": "white"
           }
          },
          "shapedefaults": {
           "line": {
            "color": "#2a3f5f"
           }
          },
          "ternary": {
           "aaxis": {
            "gridcolor": "white",
            "linecolor": "white",
            "ticks": ""
           },
           "baxis": {
            "gridcolor": "white",
            "linecolor": "white",
            "ticks": ""
           },
           "bgcolor": "#E5ECF6",
           "caxis": {
            "gridcolor": "white",
            "linecolor": "white",
            "ticks": ""
           }
          },
          "title": {
           "x": 0.05
          },
          "xaxis": {
           "automargin": true,
           "gridcolor": "white",
           "linecolor": "white",
           "ticks": "",
           "title": {
            "standoff": 15
           },
           "zerolinecolor": "white",
           "zerolinewidth": 2
          },
          "yaxis": {
           "automargin": true,
           "gridcolor": "white",
           "linecolor": "white",
           "ticks": "",
           "title": {
            "standoff": 15
           },
           "zerolinecolor": "white",
           "zerolinewidth": 2
          }
         }
        },
        "mapbox": {
         "domain": {
          "x": [
           0.0,
           1.0
          ],
          "y": [
           0.0,
           1.0
          ]
         },
         "center": {
          "lat": 28.465380343670887,
          "lon": -32.50704228607595
         },
         "accesstoken": "pk.eyJ1Ijoic2NjbXBieCIsImEiOiJjbDBkN2hzdGQwNDJsM2lvaXRsaTVhZ3ZxIn0.1uZJ2vlXZSMe2rHZW00pJg",
         "zoom": 1,
         "style": "streets"
        },
        "legend": {
         "title": {
          "text": "festival_flag"
         },
         "tracegroupgap": 0
        },
        "margin": {
         "t": 0,
         "r": 0,
         "l": 0,
         "b": 0
        }
       },
       "config": {
        "plotlyServerURL": "https://plot.ly"
       }
      },
      "text/html": "<div>                            <div id=\"0c87dc70-e782-42df-af07-4e9940281e3e\" class=\"plotly-graph-div\" style=\"height:525px; width:100%;\"></div>            <script type=\"text/javascript\">                require([\"plotly\"], function(Plotly) {                    window.PLOTLYENV=window.PLOTLYENV || {};                                    if (document.getElementById(\"0c87dc70-e782-42df-af07-4e9940281e3e\")) {                    Plotly.newPlot(                        \"0c87dc70-e782-42df-af07-4e9940281e3e\",                        [{\"hovertemplate\":\"<b>%{hovertext}</b><br><br>festival_flag=Festival<br>latitude=%{lat}<br>longitude=%{lon}<extra></extra>\",\"hovertext\":[\"Indio\",\"Indio\",\"Indio\",\"Barcelona\",\"George\",\"Manchester\",\"Gdynia\",\"Werchter\",\"Budapest\",\"Oslo\",\"Biddinghuizen\",\"Leeds\",\"San Francisco\",\"Auckland\",\"Carrara\",\"Melbourne\",\"Sydney Olympic Park\",\"Adelaide\",\"Joondalup Wa\",\"Kinross\",\"Suffolk\",\"Beccles\",\"Santiago\",\"Indio\",\"Indio\",\"Cincinnati\",\"Chicago\",\"San Francisco\",\"Roskilde\",\"Werchter\",\"Lisbon\",\"Madrid\",\"Chicago\",\"Martindale\",\"Lake Perris\",\"Oakland\",\"Zapopan\",\"Boston\",\"Detroit\",\"Chicago\",\"Oslo\",\"Oslo\",\"Oslo\",\"Oslo\",\"Austin\",\"Austin\",\"Monterrey\",\"Monterrey\",\"Monterrey\",\"Monterrey\",\"Monterrey\",\"Manchester\",\"Dover\",\"San Francisco\",\"Houston\",\"Monterrey\",\"Mexico\",\"Tempe\",\"Okeechobee\"],\"lat\":[33.7205556,33.6784492,33.7205556,41.413836,47.0791667,35.512188,54.517078,50.9705,47.5,59.9167,52.4396038,53.87016,37.778435,-36.8666496,-28.0059,-37.785831,-33.846409,-34.9333333,-31.735929,56.2,52.348906,52.383097,-33.463039,33.721702,33.721702,39.101688,41.875778,37.7660618,55.630278,50.9701385,38.698791,40.4165,41.8839452,29.8452778,35.6405556,37.8052576,20.6719563,42.3593008,42.3313889,41.8843178,59.9166667,59.9166667,59.9166667,59.9166667,30.265664,30.265664,28.82944,20.64866,25.7735,20.64866,20.64866,35.48174,39.15817,37.7694208,29.6849044,22.31651,19.4039371,33.4307373,27.35988],\"legendgroup\":\"Festival\",\"lon\":[-116.2147222,-116.237155,-116.2147222,2.217205,-119.8547222,-86.068718,18.53532,4.69408,19.0833,10.75,5.7682193,-1.380345,-122.418125,174.7280731,153.36365,144.919754,151.067298,138.6,115.759621,-3.4166667,1.595267,1.580093,-70.647942,-116.219425,-116.219425,-84.499649,-87.620239,-122.4643124,12.083631,4.6831298,-9.230327,-3.70256,-87.6655371,-97.8405556,-117.7630556,-122.3229787,-103.416501,-71.1270268,-83.0458333,-87.6195445,10.75,10.75,10.75,10.75,-97.766076,-97.766076,-111.63944,-98.15615,-100.16838,-98.15615,-98.15615,-86.0886,-75.52437,-122.48621379999996,-95.4107358,-98.30968,-99.0895294,-111.9416936,-80.73357399999998],\"marker\":{\"color\":\"rgb(229, 134, 6)\"},\"mode\":\"markers\",\"name\":\"Festival\",\"showlegend\":true,\"subplot\":\"mapbox\",\"type\":\"scattermapbox\"},{\"hovertemplate\":\"<b>%{hovertext}</b><br><br>festival_flag=Concert<br>latitude=%{lat}<br>longitude=%{lon}<extra></extra>\",\"hovertext\":[\"West Melbourne\",\"Sydney\",\"South Bank Qld\",\"Upper Swan\",\"Portland\",\"North Vancouver\",\"Oakland\",\"Pomona\",\"San Diego\",\"Atlanta\",\"Richmond\",\"Philadelphia\",\"London\",\"Paris\",\"Ramonville-St-Agne\",\"Copenhagen\",\"Zurich\",\"Edinburgh\",\"Dublin\",\"New York\",\"New York\",\"Philadelphia\",\"Columbia\",\"St Louis\",\"Madison\",\"Chicago\",\"Kansas City\",\"Dallas\",\"Rio De Janeiro\",\"Monterrey\",\"Mexico City\",\"Boulder\",\"Denver\",\"Los Angeles\",\"Los Angeles\",\"Santa Barbara\",\"Seattle\",\"Portland\",\"Rottnest Island\",\"Oxford\",\"Frankfurt Am Main\",\"Munich\",\"Manchester\",\"Birmingham\",\"Nottingham\",\"Beccles\",\"New York\",\"New York\",\"Los Angeles\",\"Las Vegas\",\"Oakland\",\"Oakland\",\"Bogota\",\"Manchester\",\"London\",\"Sao Paulo\",\"Ariel\",\"Pomona\",\"Austin\",\"New Orleans\",\"Atlanta\",\"Nashville\",\"Minneapolis\",\"Milwaukee\",\"Chicago\",\"Columbus\",\"Royal Oak\",\"Toronto\",\"Montreal\",\"Montreal\",\"Boston\",\"George\",\"Vancouver\",\"Portland\",\"Salt Lake City\",\"Denver\",\"Kansas City\",\"St Louis\",\"Pittsburgh\",\"Cleveland\",\"Washington\",\"New York\",\"Byron Bay Nsw\",\"Byron Bay\",\"San Diego\",\"Los Angeles\",\"Los Angeles\",\"Viana Do Castelo\",\"Hasselt\",\"Biddinghuizen\",\"Sestri Levante\",\"Rome\",\"Verona\",\"Zurich\",\"Boulogne-Billancourt\",\"Gardenstown\",\"Stradbally\",\"Glasgow\",\"Liverpool\",\"Downend\",\"Berlin\",\"Austin\",\"Upper Darby\",\"New York\",\"New York\",\"Austin\",\"Melbourne\",\"Circular Quay\",\"Sydney\",\"Perth\",\"Perth\",\"Adelaide\",\"Adelaide\",\"Brisbane\",\"Auckland\",\"Wellington\",\"Amsterdam-Zuidoost\",\"Brussels\",\"Paris\",\"Frederiksberg\",\"Oslo\",\"Stockholm\",\"Hamburg\",\"Berlin\",\"K\\u00f6ln\",\"Manchester\",\"London\",\"London\",\"Bogota\",\"Sao Paulo\",\"Lima\",\"Buenos Aires\",\"Buenos Aires\",\"Santiago\",\"Yau Tsim Mong\",\"Singapore\",\"Kuala Lumpur\",\"Tokyo\",\"Osaka\",\"Jakarta\",\"Barcelona\",\"Dublin\",\"Manchester\",\"Toronto\",\"Montr\\u00e9al\",\"Brooklyn\",\"Brooklyn\",\"Columbia\",\"Dover\",\"Gdynia\",\"Belfort\",\"Lyon\",\"Milan\",\"Bilbao\",\"Rishon Le \\u1e94iyyon\",\"Ostrava - V\\u00edtkovice\",\"Gr\\u00e4fenhainichen\",\"Los Angeles\",\"Portland\",\"Denver\",\"Berkeley\",\"Berkeley\",\"Seattle\",\"M\\u00e9xico\",\"Monterrey\",\"New York\",\"Camden, London\",\"Martindale\",\"Tokyo\",\"Higashi-Osaka\",\"London\",\"London\",\"London\",\"Oakland\",\"Nashville\",\"Asheville\",\"Atlanta\",\"St. Augustine\",\"Miami Beach\",\"Barcelona\",\"Paris\",\"Lorensberg\",\"London\",\"Blackpool\",\"Dublin\",\"Toronto\",\"Minneapolis\",\"Minneapolis\",\"Berlin\",\"New York\",\"New York\",\"Philadelphia\",\"Washington\",\"Washington\",\"Denver\",\"Denver\",\"San Diego\",\"Los Angeles\",\"Los Angeles\",\"San Francisco\",\"Mexico\",\"Auckland\",\"Brisbane\",\"Melbourne\",\"Hindmarsh\",\"Perth\",\"Toronto\",\"Montreal\",\"Washington\",\"Charlotte\",\"Atlanta\",\"Miami\",\"St Paul\",\"St Louis\",\"Kansas City\",\"Tulsa\",\"Austin\",\"Dallas\",\"Houston\",\"Glendale\",\"Denver\",\"Salt Lake City\",\"Portland\",\"Vancouver\",\"Mexico\",\"San Francisco\",\"Auckland\",\"Brisbane\",\"Sydney\",\"Melbourne\",\"Melbourne\",\"Hindmarsh\",\"Perth\",\"Mexico\",\"Mexico\",\"Chicago\",\"Quincy\",\"Portland\",\"San Francisco\",\"Las Vegas\",\"Glendale\",\"Denver\",\"Washington\",\"Atlanta\",\"Los Angeles\",\"Los Angeles\",\"Austin\",\"Houston\",\"Dallas\",\"Zapopan\",\"Auckland\",\"Sydney\",\"Brisbane\",\"Melbourne\",\"Melbourne\",\"Hindmarsh\",\"Perth\"],\"lat\":[-37.81126,-33.889832,-27.476351,-31.7900054,45.522928,49.3544406,37.807772,34.056791,32.7163734,33.758589,37.541608,39.964809,51.489964,48.870102,43.548883,55.6666667,47.387318,55.946727,53.344265,40.769704,40.769704,39.9602181,39.211407,38.62774,43.074861,41.85,39.0997222,32.769441,-22.9130601,25.6666667,19.4319,40.018845,39.740009,34.119523,34.0402556,34.432517,47.6221261,45.5228996,-31.99863,51.746928,50.135439,48.12504,53.4784,52.475473,52.9666667,52.4666667,40.7803275,40.7803275,34.022726,36.117661,37.807772,37.807772,4.6,53.486934,51.594192,-23.56284,-36.581824,34.056584,30.2669444,29.950033,33.7488889,36.162219,44.9782677,43.0388889,41.968926,39.997584,42.4872563,43.653755,45.5105348,45.5107689,42.3583333,47.0791667,49.2908103,45.523452,40.769588,39.740299,39.061149,38.655624,40.4453,41.499691,38.9198486,40.7141667,-28.646891,-28.65,32.748008,34.0905044,34.0905044,41.7005249,50.9333333,52.45,44.26804,41.823944,45.4463616,47.3666667,48.841304,57.671853,52.13,55.855355,53.41564,50.6833333,52.5166667,30.266036,39.9611479,40.759529,40.76986,30.2660358,-37.822033,-33.86186,-33.865059,-31.9333333,-31.9333333,-34.9236931,-34.9236931,-27.477112,-36.8927994,-40.87094,52.3123512,50.809646,48.888877,55.679681,59.9166667,59.294117,53.55,52.484701,50.9333333,53.486934,51.594165,51.5,4.6,-23.5333333,-12.05,-34.6727066,-34.5875,-33.45,22.3185806,1.2930556,3.1666667,35.685,34.6666667,-6.1744444,41.3833333,53.3330556,35.476247,43.617321,45.496112,40.664607,40.664607,39.208917,39.186967,54.518951,47.6414528,45.7590274,45.4666667,43.25,31.9577751,49.814788,51.726719,34.0151015,45.5236111,39.7391667,37.8716667,37.8716667,47.610588,19.4015408,25.6666667,40.8619003,51.5323601,29.8452778,35.685,34.6666667,51.5397173,51.5397173,51.5397173,37.8044444,36.1724885,35.59505809999999,33.7717008,29.90124370000001,25.790654,41.38879,48.86405,57.699369,51.503038,53.777679,53.354771,43.6293322,44.977753,44.977753,52.4584333,40.7507387,40.7507387,39.9522222,38.8800664,38.8800664,39.776204,39.776204,32.755274,33.9582095,33.9582095,37.77493,19.4051591,-36.84724200000001,-27.46794,-37.8216202,-34.90516,-31.948434,43.643466,45.496112,38.901957,35.2251426,33.749,25.7814014,44.94715,38.6268402,39.0972997,36.152766,30.2768975,32.7904365,29.7507604,33.531484,39.7486389,40.76772,45.531982,49.27783579999999,19.4051591,37.77493,-36.84724200000001,-27.46794,-33.8443038,-37.8216202,-37.8216202,-34.90516,-31.948434,19.4051591,19.4051591,41.8806908,47.0937583,45.531982,37.77493,36.1686667,33.531484,39.7486565,38.901957,33.756027,34.112224,34.112224,30.2769359,29.7858124,32.7904365,20.73192,-36.84724200000001,-33.8443038,-27.46794,-37.8216202,-37.8216202,-34.90516,-31.948434],\"legendgroup\":\"Concert\",\"lon\":[144.946442,151.223348,153.017471,116.0225478,-122.684512,-123.0578184,-122.270194,-117.750225,-117.1600856,-84.391084,-77.435078,-75.169601,-0.226173,2.328317,1.466175,12.5833333,8.499865,-3.188661,-6.266177,-73.992414,-73.992414,-75.1372998,-76.86299,-90.199514,-89.388493,-87.65,-94.5783333,-96.798213,-43.18041,-100.3166667,-99.132851,-105.277326,-104.975258,-118.29631,-118.2592519,-119.69369,-122.354016,-122.6847805,115.54173,-1.2347,8.739144,11.6041,-2.2488,-1.887311,-1.1666667,1.5666667,-73.9816297,-73.9816297,-118.281289,-115.172783,-122.270194,-122.270194,-74.0833333,-2.242489,-0.130773,-46.65464,-59.965264,-117.750505,-97.7427778,-90.074091,-84.3880556,-86.779399,-93.2760773,-87.9063889,-87.659909,-83.007424,-83.1469338,-79.37872,-73.563372,-73.5636292,-71.0602778,-119.8547222,-123.1462095,-122.676207,-111.90114,-104.975288,-94.590638,-90.297912,-80.013549,-81.690941,-76.9728179,-74.0063889,153.612823,153.6166667,-117.131278,-118.3198798,-118.3198798,-8.8242112,5.3333333,5.7,9.39185,12.56853,11.0030492,8.55,2.224413,-2.338337,-7.46,-4.236961,-2.957124,-1.2333333,13.4,-97.771529,-75.2589485,-73.978584,-73.99267,-97.7676149,144.974426,151.21055,151.19296,115.8333333,115.8333333,138.568596,138.568596,153.030106,174.7820129,175.01755,4.94415,4.326095,2.392484,12.533449,10.75,18.07951,10.0,13.392532,6.95,-2.242489,-0.130752,-0.1166667,-74.0833333,-46.6166667,-77.05,-58.4761429,-58.6725,-70.6666667,114.1715164,103.8558333,101.7,139.7513889,135.5,106.8294444,2.1833333,-6.2488889,-86.081026,-79.3717117,-73.569315,-73.976846,-73.976846,-76.862608,-75.537214,18.523552,6.8588653,4.8210957,9.2,-2.9666667,34.8109741,18.268757,12.46192,-118.2859325,-122.675,-104.9841667,-122.2716667,-122.2716667,-122.335847,-99.0980606,-100.3166667,-73.8268967,-0.12796,-97.8405556,139.7513889,135.5833333,-0.0580711,-0.0580711,-0.0580711,-122.2697222,-86.7805961,-82.5514869,-84.3726049,-81.31243409999999,-80.1300455,2.15899,2.33105,11.9708071,0.0031543000000056,-3.042767,-6.23234,-79.4150723,-93.2650108,-93.2650108,13.5539563,-73.9937978,-73.9937978,-75.1641667,-77.0261129,-77.0261129,-104.969168,-104.969168,-117.212196,-118.34189879999995,-118.34189879999995,-122.41942,-99.0956283,174.77612899999997,153.02809,144.97853639999994,138.57225,115.85211,-79.379142,-73.569315,-77.026333,-80.8392351,-84.38798,-80.18696899999998,-93.086949,-90.20267830000002,-94.5799392,-95.996416,-97.7321857,-96.8103281,-95.3621005,-112.26167,-105.0075285,-111.901127,-122.667838,-123.10882270000002,-99.0956283,-122.41942,174.77612899999997,153.02809,151.06208379999998,144.97853639999994,144.97853639999994,138.57225,115.85211,-99.0956283,-99.0956283,-87.67417590000002,-119.9828653,-122.667838,-122.41942,-115.14464069999995,-112.26167,-105.0076028,-77.026333,-84.397282,-118.3391279,-118.3391279,-97.732185,-95.3669739,-96.8103281,-103.3794099,174.77612899999997,151.06208379999998,153.02809,144.97853639999994,144.97853639999994,138.57225,115.85211],\"marker\":{\"color\":\"rgb(93, 105, 177)\"},\"mode\":\"markers\",\"name\":\"Concert\",\"showlegend\":true,\"subplot\":\"mapbox\",\"type\":\"scattermapbox\"}],                        {\"template\":{\"data\":{\"bar\":[{\"error_x\":{\"color\":\"#2a3f5f\"},\"error_y\":{\"color\":\"#2a3f5f\"},\"marker\":{\"line\":{\"color\":\"#E5ECF6\",\"width\":0.5},\"pattern\":{\"fillmode\":\"overlay\",\"size\":10,\"solidity\":0.2}},\"type\":\"bar\"}],\"barpolar\":[{\"marker\":{\"line\":{\"color\":\"#E5ECF6\",\"width\":0.5},\"pattern\":{\"fillmode\":\"overlay\",\"size\":10,\"solidity\":0.2}},\"type\":\"barpolar\"}],\"carpet\":[{\"aaxis\":{\"endlinecolor\":\"#2a3f5f\",\"gridcolor\":\"white\",\"linecolor\":\"white\",\"minorgridcolor\":\"white\",\"startlinecolor\":\"#2a3f5f\"},\"baxis\":{\"endlinecolor\":\"#2a3f5f\",\"gridcolor\":\"white\",\"linecolor\":\"white\",\"minorgridcolor\":\"white\",\"startlinecolor\":\"#2a3f5f\"},\"type\":\"carpet\"}],\"choropleth\":[{\"colorbar\":{\"outlinewidth\":0,\"ticks\":\"\"},\"type\":\"choropleth\"}],\"contour\":[{\"colorbar\":{\"outlinewidth\":0,\"ticks\":\"\"},\"colorscale\":[[0.0,\"#0d0887\"],[0.1111111111111111,\"#46039f\"],[0.2222222222222222,\"#7201a8\"],[0.3333333333333333,\"#9c179e\"],[0.4444444444444444,\"#bd3786\"],[0.5555555555555556,\"#d8576b\"],[0.6666666666666666,\"#ed7953\"],[0.7777777777777778,\"#fb9f3a\"],[0.8888888888888888,\"#fdca26\"],[1.0,\"#f0f921\"]],\"type\":\"contour\"}],\"contourcarpet\":[{\"colorbar\":{\"outlinewidth\":0,\"ticks\":\"\"},\"type\":\"contourcarpet\"}],\"heatmap\":[{\"colorbar\":{\"outlinewidth\":0,\"ticks\":\"\"},\"colorscale\":[[0.0,\"#0d0887\"],[0.1111111111111111,\"#46039f\"],[0.2222222222222222,\"#7201a8\"],[0.3333333333333333,\"#9c179e\"],[0.4444444444444444,\"#bd3786\"],[0.5555555555555556,\"#d8576b\"],[0.6666666666666666,\"#ed7953\"],[0.7777777777777778,\"#fb9f3a\"],[0.8888888888888888,\"#fdca26\"],[1.0,\"#f0f921\"]],\"type\":\"heatmap\"}],\"heatmapgl\":[{\"colorbar\":{\"outlinewidth\":0,\"ticks\":\"\"},\"colorscale\":[[0.0,\"#0d0887\"],[0.1111111111111111,\"#46039f\"],[0.2222222222222222,\"#7201a8\"],[0.3333333333333333,\"#9c179e\"],[0.4444444444444444,\"#bd3786\"],[0.5555555555555556,\"#d8576b\"],[0.6666666666666666,\"#ed7953\"],[0.7777777777777778,\"#fb9f3a\"],[0.8888888888888888,\"#fdca26\"],[1.0,\"#f0f921\"]],\"type\":\"heatmapgl\"}],\"histogram\":[{\"marker\":{\"pattern\":{\"fillmode\":\"overlay\",\"size\":10,\"solidity\":0.2}},\"type\":\"histogram\"}],\"histogram2d\":[{\"colorbar\":{\"outlinewidth\":0,\"ticks\":\"\"},\"colorscale\":[[0.0,\"#0d0887\"],[0.1111111111111111,\"#46039f\"],[0.2222222222222222,\"#7201a8\"],[0.3333333333333333,\"#9c179e\"],[0.4444444444444444,\"#bd3786\"],[0.5555555555555556,\"#d8576b\"],[0.6666666666666666,\"#ed7953\"],[0.7777777777777778,\"#fb9f3a\"],[0.8888888888888888,\"#fdca26\"],[1.0,\"#f0f921\"]],\"type\":\"histogram2d\"}],\"histogram2dcontour\":[{\"colorbar\":{\"outlinewidth\":0,\"ticks\":\"\"},\"colorscale\":[[0.0,\"#0d0887\"],[0.1111111111111111,\"#46039f\"],[0.2222222222222222,\"#7201a8\"],[0.3333333333333333,\"#9c179e\"],[0.4444444444444444,\"#bd3786\"],[0.5555555555555556,\"#d8576b\"],[0.6666666666666666,\"#ed7953\"],[0.7777777777777778,\"#fb9f3a\"],[0.8888888888888888,\"#fdca26\"],[1.0,\"#f0f921\"]],\"type\":\"histogram2dcontour\"}],\"mesh3d\":[{\"colorbar\":{\"outlinewidth\":0,\"ticks\":\"\"},\"type\":\"mesh3d\"}],\"parcoords\":[{\"line\":{\"colorbar\":{\"outlinewidth\":0,\"ticks\":\"\"}},\"type\":\"parcoords\"}],\"pie\":[{\"automargin\":true,\"type\":\"pie\"}],\"scatter\":[{\"marker\":{\"colorbar\":{\"outlinewidth\":0,\"ticks\":\"\"}},\"type\":\"scatter\"}],\"scatter3d\":[{\"line\":{\"colorbar\":{\"outlinewidth\":0,\"ticks\":\"\"}},\"marker\":{\"colorbar\":{\"outlinewidth\":0,\"ticks\":\"\"}},\"type\":\"scatter3d\"}],\"scattercarpet\":[{\"marker\":{\"colorbar\":{\"outlinewidth\":0,\"ticks\":\"\"}},\"type\":\"scattercarpet\"}],\"scattergeo\":[{\"marker\":{\"colorbar\":{\"outlinewidth\":0,\"ticks\":\"\"}},\"type\":\"scattergeo\"}],\"scattergl\":[{\"marker\":{\"colorbar\":{\"outlinewidth\":0,\"ticks\":\"\"}},\"type\":\"scattergl\"}],\"scattermapbox\":[{\"marker\":{\"colorbar\":{\"outlinewidth\":0,\"ticks\":\"\"}},\"type\":\"scattermapbox\"}],\"scatterpolar\":[{\"marker\":{\"colorbar\":{\"outlinewidth\":0,\"ticks\":\"\"}},\"type\":\"scatterpolar\"}],\"scatterpolargl\":[{\"marker\":{\"colorbar\":{\"outlinewidth\":0,\"ticks\":\"\"}},\"type\":\"scatterpolargl\"}],\"scatterternary\":[{\"marker\":{\"colorbar\":{\"outlinewidth\":0,\"ticks\":\"\"}},\"type\":\"scatterternary\"}],\"surface\":[{\"colorbar\":{\"outlinewidth\":0,\"ticks\":\"\"},\"colorscale\":[[0.0,\"#0d0887\"],[0.1111111111111111,\"#46039f\"],[0.2222222222222222,\"#7201a8\"],[0.3333333333333333,\"#9c179e\"],[0.4444444444444444,\"#bd3786\"],[0.5555555555555556,\"#d8576b\"],[0.6666666666666666,\"#ed7953\"],[0.7777777777777778,\"#fb9f3a\"],[0.8888888888888888,\"#fdca26\"],[1.0,\"#f0f921\"]],\"type\":\"surface\"}],\"table\":[{\"cells\":{\"fill\":{\"color\":\"#EBF0F8\"},\"line\":{\"color\":\"white\"}},\"header\":{\"fill\":{\"color\":\"#C8D4E3\"},\"line\":{\"color\":\"white\"}},\"type\":\"table\"}]},\"layout\":{\"annotationdefaults\":{\"arrowcolor\":\"#2a3f5f\",\"arrowhead\":0,\"arrowwidth\":1},\"autotypenumbers\":\"strict\",\"coloraxis\":{\"colorbar\":{\"outlinewidth\":0,\"ticks\":\"\"}},\"colorscale\":{\"diverging\":[[0,\"#8e0152\"],[0.1,\"#c51b7d\"],[0.2,\"#de77ae\"],[0.3,\"#f1b6da\"],[0.4,\"#fde0ef\"],[0.5,\"#f7f7f7\"],[0.6,\"#e6f5d0\"],[0.7,\"#b8e186\"],[0.8,\"#7fbc41\"],[0.9,\"#4d9221\"],[1,\"#276419\"]],\"sequential\":[[0.0,\"#0d0887\"],[0.1111111111111111,\"#46039f\"],[0.2222222222222222,\"#7201a8\"],[0.3333333333333333,\"#9c179e\"],[0.4444444444444444,\"#bd3786\"],[0.5555555555555556,\"#d8576b\"],[0.6666666666666666,\"#ed7953\"],[0.7777777777777778,\"#fb9f3a\"],[0.8888888888888888,\"#fdca26\"],[1.0,\"#f0f921\"]],\"sequentialminus\":[[0.0,\"#0d0887\"],[0.1111111111111111,\"#46039f\"],[0.2222222222222222,\"#7201a8\"],[0.3333333333333333,\"#9c179e\"],[0.4444444444444444,\"#bd3786\"],[0.5555555555555556,\"#d8576b\"],[0.6666666666666666,\"#ed7953\"],[0.7777777777777778,\"#fb9f3a\"],[0.8888888888888888,\"#fdca26\"],[1.0,\"#f0f921\"]]},\"colorway\":[\"#636efa\",\"#EF553B\",\"#00cc96\",\"#ab63fa\",\"#FFA15A\",\"#19d3f3\",\"#FF6692\",\"#B6E880\",\"#FF97FF\",\"#FECB52\"],\"font\":{\"color\":\"#2a3f5f\"},\"geo\":{\"bgcolor\":\"white\",\"lakecolor\":\"white\",\"landcolor\":\"#E5ECF6\",\"showlakes\":true,\"showland\":true,\"subunitcolor\":\"white\"},\"hoverlabel\":{\"align\":\"left\"},\"hovermode\":\"closest\",\"mapbox\":{\"style\":\"light\"},\"paper_bgcolor\":\"white\",\"plot_bgcolor\":\"#E5ECF6\",\"polar\":{\"angularaxis\":{\"gridcolor\":\"white\",\"linecolor\":\"white\",\"ticks\":\"\"},\"bgcolor\":\"#E5ECF6\",\"radialaxis\":{\"gridcolor\":\"white\",\"linecolor\":\"white\",\"ticks\":\"\"}},\"scene\":{\"xaxis\":{\"backgroundcolor\":\"#E5ECF6\",\"gridcolor\":\"white\",\"gridwidth\":2,\"linecolor\":\"white\",\"showbackground\":true,\"ticks\":\"\",\"zerolinecolor\":\"white\"},\"yaxis\":{\"backgroundcolor\":\"#E5ECF6\",\"gridcolor\":\"white\",\"gridwidth\":2,\"linecolor\":\"white\",\"showbackground\":true,\"ticks\":\"\",\"zerolinecolor\":\"white\"},\"zaxis\":{\"backgroundcolor\":\"#E5ECF6\",\"gridcolor\":\"white\",\"gridwidth\":2,\"linecolor\":\"white\",\"showbackground\":true,\"ticks\":\"\",\"zerolinecolor\":\"white\"}},\"shapedefaults\":{\"line\":{\"color\":\"#2a3f5f\"}},\"ternary\":{\"aaxis\":{\"gridcolor\":\"white\",\"linecolor\":\"white\",\"ticks\":\"\"},\"baxis\":{\"gridcolor\":\"white\",\"linecolor\":\"white\",\"ticks\":\"\"},\"bgcolor\":\"#E5ECF6\",\"caxis\":{\"gridcolor\":\"white\",\"linecolor\":\"white\",\"ticks\":\"\"}},\"title\":{\"x\":0.05},\"xaxis\":{\"automargin\":true,\"gridcolor\":\"white\",\"linecolor\":\"white\",\"ticks\":\"\",\"title\":{\"standoff\":15},\"zerolinecolor\":\"white\",\"zerolinewidth\":2},\"yaxis\":{\"automargin\":true,\"gridcolor\":\"white\",\"linecolor\":\"white\",\"ticks\":\"\",\"title\":{\"standoff\":15},\"zerolinecolor\":\"white\",\"zerolinewidth\":2}}},\"mapbox\":{\"domain\":{\"x\":[0.0,1.0],\"y\":[0.0,1.0]},\"center\":{\"lat\":28.465380343670887,\"lon\":-32.50704228607595},\"accesstoken\":\"pk.eyJ1Ijoic2NjbXBieCIsImEiOiJjbDBkN2hzdGQwNDJsM2lvaXRsaTVhZ3ZxIn0.1uZJ2vlXZSMe2rHZW00pJg\",\"zoom\":1,\"style\":\"streets\"},\"legend\":{\"title\":{\"text\":\"festival_flag\"},\"tracegroupgap\":0},\"margin\":{\"t\":0,\"r\":0,\"l\":0,\"b\":0}},                        {\"responsive\": true}                    ).then(function(){\n                            \nvar gd = document.getElementById('0c87dc70-e782-42df-af07-4e9940281e3e');\nvar x = new MutationObserver(function (mutations, observer) {{\n        var display = window.getComputedStyle(gd).display;\n        if (!display || display === 'none') {{\n            console.log([gd, 'removed!']);\n            Plotly.purge(gd);\n            observer.disconnect();\n        }}\n}});\n\n// Listen for the removal of the full notebook cells\nvar notebookContainer = gd.closest('#notebook-container');\nif (notebookContainer) {{\n    x.observe(notebookContainer, {childList: true});\n}}\n\n// Listen for the clearing of the current output cell\nvar outputEl = gd.closest('.output');\nif (outputEl) {{\n    x.observe(outputEl, {childList: true});\n}}\n\n                        })                };                });            </script>        </div>"
     },
     "metadata": {},
     "output_type": "display_data"
    }
   ],
   "source": [
    "# visualize data\n",
    "import plotly.express as px\n",
    "px.set_mapbox_access_token(open(\"map_token.txt\").read())\n",
    "fig = px.scatter_mapbox(test_df,\n",
    "                     lat='latitude',\n",
    "                     lon='longitude',\n",
    "                     color=\"festival_flag\", # which column to use to set the color of markers\n",
    "                     color_discrete_sequence=px.colors.qualitative.Vivid,\n",
    "                     hover_name=\"city\", # column added to hover information\n",
    "                     #size=\"lineup_size\", # size of markers\n",
    "                     #projection=\"natural earth\"\n",
    "                     mapbox_style=\"streets\",\n",
    "                     zoom=1\n",
    "                    )\n",
    "\n",
    "# fig.update_layout(\n",
    "#     mapbox_style=\"streets\",\n",
    "#     # mapbox_layers=[\n",
    "#     #     {\n",
    "#     #         \"below\": 'traces',\n",
    "#     #         \"sourcetype\": \"raster\",\n",
    "#     #         \"sourceattribution\": \"United States Geological Survey\",\n",
    "#     #         \"source\": [\n",
    "#     #             \"https://basemap.nationalmap.gov/arcgis/rest/services/USGSImageryOnly/MapServer/tile/{z}/{y}/{x}\"\n",
    "#     #         ]\n",
    "#     #     }\n",
    "#     #   ]\n",
    "# )\n",
    "fig.update_layout(margin={\"r\":0,\"t\":0,\"l\":0,\"b\":0})\n",
    "\n",
    "fig.show()"
   ],
   "metadata": {
    "collapsed": false,
    "pycharm": {
     "name": "#%%\n"
    }
   }
  },
  {
   "cell_type": "markdown",
   "source": [],
   "metadata": {
    "collapsed": false
   }
  },
  {
   "cell_type": "markdown",
   "source": [
    "## Messy Workspace -- May not Run"
   ],
   "metadata": {
    "collapsed": false,
    "pycharm": {
     "name": "#%% md\n"
    }
   }
  },
  {
   "cell_type": "code",
   "execution_count": null,
   "outputs": [],
   "source": [
    "import reverse_geocode as rg\n",
    "coordinates = (-37.81, 144.96), (31.76, 35.21)\n",
    "loc = rg.search(coordinates)"
   ],
   "metadata": {
    "collapsed": false,
    "pycharm": {
     "name": "#%%\n"
    }
   }
  },
  {
   "cell_type": "code",
   "execution_count": null,
   "outputs": [],
   "source": [
    "from functools import partial\n",
    "from geopy.geocoders import Nominatim\n",
    "\n",
    "geolocator = Nominatim(user_agent=\"rg_agent\")\n",
    "\n",
    "geocode = partial(geolocator.geocode, language=\"es\")\n",
    "print(geocode(\"london\"))\n",
    "\n",
    "print(geocode(\"paris\"))\n",
    "\n",
    "print(geocode(\"paris\", language=\"en\"))\n",
    "\n",
    "\n",
    "reverse = partial(geolocator.reverse, language=\"es\")\n",
    "print(reverse(\"52.509669, 13.376294\"))\n"
   ],
   "metadata": {
    "collapsed": false,
    "pycharm": {
     "name": "#%%\n"
    }
   }
  },
  {
   "cell_type": "code",
   "execution_count": null,
   "outputs": [],
   "source": [
    "from geopy.extra.rate_limiter import RateLimiter\n",
    "gr = RateLimiter(geolocator.reverse, min_delay_seconds=1)\n",
    "\n",
    "x = gr((-37.81, 144.96),)\n",
    "dir(x)"
   ],
   "metadata": {
    "collapsed": false,
    "pycharm": {
     "name": "#%%\n"
    }
   }
  },
  {
   "cell_type": "code",
   "execution_count": null,
   "outputs": [],
   "source": [
    "x"
   ],
   "metadata": {
    "collapsed": false,
    "pycharm": {
     "name": "#%%\n"
    }
   }
  },
  {
   "cell_type": "code",
   "execution_count": null,
   "outputs": [],
   "source": [
    "x.raw['address']['city']"
   ],
   "metadata": {
    "collapsed": false,
    "pycharm": {
     "name": "#%%\n"
    }
   }
  },
  {
   "cell_type": "code",
   "execution_count": null,
   "outputs": [],
   "source": [
    "import plotly.express as px\n",
    "#df = px.data.gapminder().query(\"year == 2007\")\n",
    "fig = px.scatter_geo(test_df,\n",
    "                     lat='latitude',\n",
    "                     lon='longitude',\n",
    "                     color=\"festival_flag\", # which column to use to set the color of markers\n",
    "                     hover_name=\"city\", # column added to hover information\n",
    "                     #size=\"lineup_size\", # size of markers\n",
    "                     projection=\"natural earth\")\n",
    "fig.update_geos(\n",
    "    visible=False,\n",
    "    resolution=50,\n",
    "    #scope=\"north america\",\n",
    "    showcountries=True, countrycolor=\"Black\"\n",
    "    #,showsubunits=True, subunitcolor=\"Blue\"\n",
    ")\n",
    "fig.show()"
   ],
   "metadata": {
    "collapsed": false,
    "pycharm": {
     "name": "#%%\n"
    }
   }
  },
  {
   "cell_type": "code",
   "execution_count": null,
   "outputs": [],
   "source": [
    "x_df = test_df[:10].copy()\n",
    "tt = get_location(x_df, 'latitude', 'longitude')\n",
    "tt.head(10)"
   ],
   "metadata": {
    "collapsed": false,
    "pycharm": {
     "name": "#%%\n"
    }
   }
  },
  {
   "cell_type": "code",
   "execution_count": null,
   "outputs": [],
   "source": [
    "test_df.head(10)"
   ],
   "metadata": {
    "collapsed": false,
    "pycharm": {
     "name": "#%%\n"
    }
   }
  },
  {
   "cell_type": "code",
   "execution_count": null,
   "outputs": [],
   "source": [
    "test_df['city'] = test_df[['latitude', 'longitude']]"
   ],
   "metadata": {
    "collapsed": false,
    "pycharm": {
     "name": "#%%\n"
    }
   }
  },
  {
   "cell_type": "code",
   "execution_count": null,
   "outputs": [],
   "source": [
    "from geopy.extra.rate_limiter import RateLimiter\n",
    "geocode = RateLimiter(geolocator.reverse, min_delay_seconds=1)\n",
    "df['location'] = df['name'].apply(geocode)\n",
    "\n",
    "df['point'] = df['location'].apply(lambda loc: tuple(loc.point) if loc else None)"
   ],
   "metadata": {
    "collapsed": false,
    "pycharm": {
     "name": "#%%\n"
    }
   }
  },
  {
   "cell_type": "code",
   "execution_count": null,
   "outputs": [],
   "source": [
    "geolocator.reverse(-37.81, 144.96)"
   ],
   "metadata": {
    "collapsed": false,
    "pycharm": {
     "name": "#%%\n"
    }
   }
  },
  {
   "cell_type": "code",
   "execution_count": null,
   "outputs": [],
   "source": [],
   "metadata": {
    "collapsed": false,
    "pycharm": {
     "name": "#%%\n"
    }
   }
  },
  {
   "cell_type": "code",
   "execution_count": null,
   "outputs": [],
   "source": [
    "import plotly.graph_objects as go\n",
    "\n",
    "fig = go.Figure(go.Scattergeo(\n",
    "    test_df,\n",
    "    lat='latitude',\n",
    "    lon='longitude',\n",
    "    color=\"festival_flag\", # which column to use to set the color of markers\n",
    "    hover_name=\"city\", # column added to hover information\n",
    "    #size=\"lineup_size\", # size of markers\n",
    "    projection=\"natural earth\")\n",
    ")\n",
    "fig.update_geos(\n",
    "    visible=False, resolution=110, scope=\"usa\",\n",
    "    showcountries=True, countrycolor=\"Black\",\n",
    "    showsubunits=True, subunitcolor=\"lightGrey\"\n",
    ")\n",
    "fig.update_layout(height=300, margin={\"r\":0,\"t\":0,\"l\":0,\"b\":0})\n",
    "fig.show()"
   ],
   "metadata": {
    "collapsed": false,
    "pycharm": {
     "name": "#%%\n"
    }
   }
  },
  {
   "cell_type": "code",
   "execution_count": null,
   "outputs": [],
   "source": [
    "import pandas as pd\n",
    "us_cities = pd.read_csv(\"https://raw.githubusercontent.com/plotly/datasets/master/us-cities-top-1k.csv\")\n",
    "us_cities.head()\n",
    "\n",
    "import plotly.express as px\n",
    "\n",
    "fig = px.scatter_mapbox(us_cities, lat=\"lat\", lon=\"lon\", hover_name=\"City\", hover_data=[\"State\", \"Population\"],\n",
    "                        color_discrete_sequence=[\"fuchsia\"], zoom=3, height=300)\n",
    "fig.update_layout(mapbox_style=\"open-street-map\")\n",
    "fig.update_layout(margin={\"r\":0,\"t\":0,\"l\":0,\"b\":0})\n",
    "fig.show()"
   ],
   "metadata": {
    "collapsed": false,
    "pycharm": {
     "name": "#%%\n"
    }
   }
  },
  {
   "cell_type": "code",
   "execution_count": null,
   "outputs": [],
   "source": [
    "import plotly.express as px\n",
    "\n",
    "fig = px.scatter_mapbox(test_df, lat=\"latitude\", lon=\"longitude\", hover_name=\"location\",\n",
    "                        color_discrete_sequence=[\"fuchsia\"], zoom=3, height=300)\n",
    "fig.update_layout(mapbox_style=\"open-street-map\")\n",
    "fig.update_layout(margin={\"r\":0,\"t\":0,\"l\":0,\"b\":0})\n",
    "fig.show()"
   ],
   "metadata": {
    "collapsed": false,
    "pycharm": {
     "name": "#%%\n"
    }
   }
  },
  {
   "cell_type": "code",
   "execution_count": null,
   "id": "c5bb464d-c881-49d5-83d2-21d24e17e04f",
   "metadata": {
    "tags": []
   },
   "outputs": [],
   "source": [
    "ej = r.json()\n",
    "ej[2]"
   ]
  },
  {
   "cell_type": "code",
   "execution_count": null,
   "id": "8b835acd-ccac-4c96-a281-0d6510451e8e",
   "metadata": {},
   "outputs": [],
   "source": [
    "len(event_json)"
   ]
  },
  {
   "cell_type": "code",
   "execution_count": null,
   "id": "02de8e44-617c-4215-ae76-710ac67407c9",
   "metadata": {
    "tags": []
   },
   "outputs": [],
   "source": [
    "#r.text"
   ]
  },
  {
   "cell_type": "code",
   "execution_count": null,
   "id": "4f8c83e9-a728-4ba5-b8c9-abbbe011cb72",
   "metadata": {},
   "outputs": [],
   "source": [
    "len(ej[0])"
   ]
  },
  {
   "cell_type": "code",
   "execution_count": null,
   "id": "09c3a67a-32ce-4b70-9e83-9753dab2c73f",
   "metadata": {},
   "outputs": [],
   "source": [
    "ej[0].keys()"
   ]
  },
  {
   "cell_type": "code",
   "execution_count": null,
   "id": "07ac0ee8-80be-49a2-a3ab-ce20398c4728",
   "metadata": {},
   "outputs": [],
   "source": [
    "list(ej[0].keys())"
   ]
  },
  {
   "cell_type": "code",
   "execution_count": null,
   "id": "53146583-e11c-400f-ac54-49c1c11aab0e",
   "metadata": {},
   "outputs": [],
   "source": [
    "type(ej[0])"
   ]
  },
  {
   "cell_type": "code",
   "execution_count": null,
   "id": "077c0f79-81dd-47c4-97be-6c1b5502ee5b",
   "metadata": {},
   "outputs": [],
   "source": [
    "ej[0].values()"
   ]
  },
  {
   "cell_type": "code",
   "execution_count": null,
   "id": "1f65589a-7863-47f3-ba0e-d552395102d5",
   "metadata": {},
   "outputs": [],
   "source": [
    "v = ej[0].get('venue')\n",
    "print(v)\n",
    "type(v)"
   ]
  },
  {
   "cell_type": "code",
   "execution_count": null,
   "id": "528d7460-796b-43e0-bdeb-f50ea5c5f80a",
   "metadata": {},
   "outputs": [],
   "source": [
    "v.get('country')"
   ]
  },
  {
   "cell_type": "code",
   "execution_count": null,
   "outputs": [],
   "source": [
    "for key in list(ej[0].keys()):\n",
    "    print(key, \" : \\n\", ej[0].get(key), \"\\n\")"
   ],
   "metadata": {
    "collapsed": false,
    "pycharm": {
     "name": "#%%\n"
    }
   }
  },
  {
   "cell_type": "code",
   "execution_count": null,
   "id": "a497fe4d-7e00-4168-9cae-5642aee4bf3b",
   "metadata": {},
   "outputs": [],
   "source": []
  }
 ],
 "metadata": {
  "kernelspec": {
   "display_name": "Python 3 (ipykernel)",
   "language": "python",
   "name": "python3"
  },
  "language_info": {
   "codemirror_mode": {
    "name": "ipython",
    "version": 3
   },
   "file_extension": ".py",
   "mimetype": "text/x-python",
   "name": "python",
   "nbconvert_exporter": "python",
   "pygments_lexer": "ipython3",
   "version": "3.9.9"
  }
 },
 "nbformat": 4,
 "nbformat_minor": 5
}