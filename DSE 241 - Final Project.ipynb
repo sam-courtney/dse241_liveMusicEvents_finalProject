{
 "cells": [
  {
   "cell_type": "markdown",
   "id": "c24686ae-41b8-425f-9b4c-e89f2bb7d0fe",
   "metadata": {},
   "source": [
    "# DSE 241 - Final Project\n",
    "# Rock & Fucking Roll"
   ]
  },
  {
   "cell_type": "markdown",
   "id": "327b5618-f4aa-4529-aca3-7a2b127f8e82",
   "metadata": {},
   "source": [
    "## Requirements"
   ]
  },
  {
   "cell_type": "code",
   "id": "884c0faa-1277-4c81-8a8c-e6bb3a174a06",
   "metadata": {},
   "outputs": [],
   "source": [
    "import requests\n",
    "import pandas as pd\n",
    "import numpy as np\n",
    "import datetime\n",
    "\n",
    "from geopy.geocoders import Nominatim\n",
    "from geopy.extra.rate_limiter import RateLimiter"
   ]
  },
  {
   "cell_type": "markdown",
   "id": "9c4d8ef3-b428-4371-9963-31ea48652a8e",
   "metadata": {},
   "source": [
    "## Functions"
   ]
  },
  {
   "cell_type": "code",
   "id": "ee028625-22a0-4cca-8f3b-687cfbef1827",
   "metadata": {},
   "outputs": [],
   "source": [
    "def read_artist_list(file_name='artist_list.txt'):\n",
    "    f = open(file_name, 'r')\n",
    "    string = f.read()\n",
    "    f.close()\n",
    "    l = list(string.split('\\n'))\n",
    "    return l\n",
    "\n",
    "def read_api_key(file_name='bands_api_key.txt'):\n",
    "    f = open(file_name, 'r')\n",
    "    key = f.read()\n",
    "    f.close()\n",
    "    return key\n",
    "\n",
    "def getgenre_artist(string):\n",
    "    ## lower case\n",
    "    ## replace \" \" with \"_\"\n",
    "    artist = string.replace(' ','_').lower()\n",
    "    return artist\n",
    "\n",
    "def bands_artist(string):\n",
    "    ## url-ify artist names\n",
    "    ## replaces \" \" with \"%20\"\n",
    "    artist = string.replace(' ',r'%20')\n",
    "    return artist\n",
    "\n",
    "def bands_api_past_pull(artist, api_key=read_api_key()):\n",
    "    b_artist = bands_artist(artist)\n",
    "    url = r'https://rest.bandsintown.com/artists/{}/events/?app_id={}&date=past'.format(b_artist, api_key)\n",
    "    r = requests.get(url)\n",
    "    event_json = r.json()\n",
    "    event_df = parse_events(event_json)\n",
    "    return event_df\n",
    "\n",
    "def get_genre_api_pull(artist, analysis_level=1):\n",
    "    gg_artist = getgenre_artist(artist)\n",
    "    getgenre_api_url = r'https://api.getgenre.com/search?artist_name={}&analysis={}'.format(gg_artist, analysis_level)\n",
    "    r = requests.get(getgenre_api_url)\n",
    "    genre_json = r.json()\n",
    "    top_genres = genre_json['analysis']['top_genres']\n",
    "    return top_genres\n",
    "    \n",
    "def parse_events(event_json):\n",
    "    ### defined to help parse the JSON of individual events returned by Bandintown API ###\n",
    "    ### this will pull out the keys and values for the event object ###\n",
    "    ### the end result is a list that can be entered as a row to a Pandas dataframe ###\n",
    "    \n",
    "    ### TODO: determine if the output is better in Pandas or Numpy ###\n",
    "    ### TODO: define event_json object ###\n",
    "    \n",
    "    events_data = []\n",
    "    num_of_events = len(event_json) # event json has an entry for each event ## each event has lots of other nested data\n",
    "\n",
    "    keys_of_interest = [\n",
    "            'datetime' # date-time of the event\n",
    "            , 'title'  # name of the event  ## may need to create a condition to check if exists and set to null if missing\n",
    "            , 'lineup' # list of strings containing names of artists  ## may leave as a nested list in data frame to avoid sparseness  ### list may be ordered in terms of headliners (??)\n",
    "            , 'festival_start_date' # date festival starts  ### may be a useful indicator that the artist is performing at a festival-event, need to test this for reliability\n",
    "            , 'festival_end_date'   # date festival ends, will differ from start date on multi-day events (may not exist on single day events)\n",
    "            , 'venue'  # this is a nested dictionary, will need to tease this one out to flatten the data\n",
    "    ]\n",
    "\n",
    "    venue_keys_of_interest = [\n",
    "             'city'        # city name, string\n",
    "            , 'region'     # state-level, string\n",
    "            , 'country'    # country name, string\n",
    "            , 'latitude'   # coordinate data, float\n",
    "            , 'longitude'  # coordinate data, float\n",
    "            , 'location'   # arbitrary string describing geolocation  ## consider not including\n",
    "            , 'name'       # arbitrary string describing venue name, could be misleading since some venues are at locations, but given festival name  ## consider not including\n",
    "    ]\n",
    "\n",
    "    for i in range(num_of_events):\n",
    "        event = event_json[i]\n",
    "        event_list = []\n",
    "\n",
    "        for key in keys_of_interest:\n",
    "            value = event.get(key)\n",
    "            if key == 'venue':\n",
    "                for venue_key in venue_keys_of_interest:\n",
    "                    venue_value = value.get(venue_key)\n",
    "                    event_list.append(venue_value)\n",
    "            else:\n",
    "                event_list.append(value)\n",
    "\n",
    "        events_data.append(event_list)\n",
    "\n",
    "\n",
    "    cols = keys_of_interest[:-1] + venue_keys_of_interest\n",
    "    events_df = pd.DataFrame(events_data, columns=cols)\n",
    "    events_df['artist'] = artist\n",
    "    return events_df\n",
    "\n",
    "def locations_data_prep(df):\n",
    "    clean_df = df.copy()\n",
    "    clean_df[(clean_df['latitude'].notna()) & (clean_df['longitude'].notna())] # remove missing data\n",
    "    clean_df['latitude'] = pd.to_numeric(clean_df['latitude'])\n",
    "    clean_df['longitude'] = pd.to_numeric(clean_df['longitude'])\n",
    "    return clean_df\n",
    "\n",
    "def get_locations(df, latitude_column='latitude', longitude_column='longitude'):\n",
    "    new_df = df.copy()\n",
    "    geolocator = Nominatim(timeout=None, user_agent=\"rg_agent\")\n",
    "    reverse_geocode = RateLimiter(geolocator.reverse, min_delay_seconds=2)\n",
    "    for index, row in new_df.iterrows():\n",
    "        lookup = reverse_geocode((row[latitude_column],row[longitude_column]), language='en')\n",
    "        try:\n",
    "            new_df.loc[index,'city'] = lookup.raw['address']['city']\n",
    "        except:\n",
    "            continue\n",
    "        try:\n",
    "            new_df.loc[index,'region'] = lookup.raw['address']['state']\n",
    "        except:\n",
    "            continue\n",
    "        try:\n",
    "            new_df.loc[index,'country'] = lookup.raw['address']['country']\n",
    "        except:\n",
    "            continue\n",
    "        if index % 100 == 0: print(\"Rows Completed: \", index)\n",
    "    return new_df\n",
    "\n",
    "def is_festival_column(df, input_col='lineup', output_col='festival_flag', festival_size_cutoff=5):\n",
    "    new_df = df.copy()\n",
    "    df['lineup_size'] = df[input_col].str.len()\n",
    "    df[output_col] = np.where(df['lineup_size'] > festival_size_cutoff, 'Festival', 'Concert')\n",
    "    df[output_col] = df[output_col].astype(str)\n",
    "    return new_df\n",
    "\n",
    "def data_prep_complete():\n",
    "    df = pd.DataFrame()\n",
    "    artist_list = read_artist_list()\n",
    "    bands_api_key = read_api_key()\n",
    "    print(\"Reading in Artists\")\n",
    "    for artist in artist_list:\n",
    "        print(artist)\n",
    "        artist_df = bands_api_past_pull(artist, api_key=bands_api_key)\n",
    "        artist_df['artist'] = artist\n",
    "        top_genres = get_genre_api_pull(artist)\n",
    "        artist_df['artist_top_genres'] = [top_genres for _ in range(len(artist_df))] # create nested list of genres in column 'artist_top_genres'\n",
    "\n",
    "        df = pd.concat([df,artist_df], ignore_index=True).copy()\n",
    "    print(\"Reading in Artists Complete\")\n",
    "    df = is_festival_column(df).copy()\n",
    "    print(\"Festival Events Identified\")\n",
    "    df['show_date'] = True # prepare for filtering in visualization\n",
    "    df['datetime'] = df['datetime'].str[:10] # trim off hours:minutes\n",
    "    print(\"Date Cleaned Up\")\n",
    "    df = locations_data_prep(df).copy()\n",
    "    print(\"Coordinates Cleaned Up\")\n",
    "    df = get_locations(df).copy()\n",
    "    print(\"Locations Cleaned Up\")\n",
    "    return df"
   ]
  },
  {
   "cell_type": "code",
   "execution_count": 108,
   "outputs": [
    {
     "name": "stdout",
     "output_type": "stream",
     "text": [
      "Reading in Artists\n",
      "Eminem\n",
      "Eagles\n",
      "Coldplay\n",
      "Metallica\n",
      "Pink\n",
      "Elton John\n",
      "Aerosmith\n",
      "Justin Bieber\n",
      "Bruno Mars\n",
      "Maroon 5\n",
      "Journey\n",
      "Katy Perry\n",
      "Guns N Roses\n",
      "Foo Fighters\n",
      "Red Hot Chili Peppers\n",
      "Volbeat\n",
      "Adele\n",
      "Rammstein\n",
      "Def Leppard\n",
      "Iron Maiden\n",
      "Eric Clapton\n",
      "Paul McCartney\n",
      "Pearl Jam\n",
      "Sting\n",
      "Bon Jovi\n",
      "Slipknot\n",
      "Snoop Dogg\n",
      "Imagine Dragons\n",
      "Pitbull\n",
      "Ed Sheeran\n",
      "The Weeknd\n",
      "Tool\n",
      "The Killers\n",
      "Wiz Khalifa\n",
      "Green Day\n",
      "Kings of Leon\n",
      "Disturbed\n",
      "John Legend\n",
      "Willie Nelson\n",
      "Taylor Swift\n",
      "Judas Priest\n",
      "Marc Anthony\n",
      "Usher\n",
      "Tim McGraw\n",
      "Muse\n",
      "Tame Impala\n",
      "A$AP Rocky\n",
      "Prince\n",
      "Dua Lipa\n",
      "Flight Facilities\n",
      "Big Wild\n",
      "BlackPink\n",
      "Ariana Grande\n",
      "No Doubt\n",
      "Andrea Bocelli\n",
      "Hippo Campus\n",
      "Yo-Yo Ma\n",
      "Garth Brooks\n",
      "The Rolling Stones\n",
      "Bob Dylan\n",
      "The Grateful Dead\n",
      "Reading in Artists Complete\n",
      "Festival Events Identified\n",
      "Date Cleaned Up\n",
      "Coordinates Cleaned Up\n",
      "Locations Cleaned Up\n",
      "CPU times: user 2.62 s, sys: 618 ms, total: 3.23 s\n",
      "Wall time: 6min 49s\n"
     ]
    }
   ],
   "source": [
    "%%time\n",
    "durty_location_df = data_prep_complete()"
   ],
   "metadata": {
    "collapsed": false,
    "pycharm": {
     "name": "#%%\n"
    }
   }
  },
  {
   "cell_type": "markdown",
   "id": "26325d4d-c8ee-4369-a568-d2e19ec91cf7",
   "metadata": {},
   "source": [
    "## Key Inputs"
   ]
  },
  {
   "cell_type": "code",
   "id": "370a4474-931c-45d8-8c47-bef55969c386",
   "metadata": {},
   "outputs": [],
   "source": [
    "artist = 'Rufus du Sol'\n",
    "artist_list = read_artist_list()\n",
    "\n",
    "bands_key = read_api_key() ## shhhh... its a secret\n",
    "\n",
    "analysis_level = 1\n",
    "gg_artist = getgenre_artist(artist)\n",
    "bands_artist = bands_artist(artist)\n",
    "getgenre_api_url = r'https://api.getgenre.com/search?artist_name={}&analysis={}'.format(gg_artist, analysis_level)\n",
    "bands_api_url = r'https://rest.bandsintown.com/artists/{}/events/?app_id={}'.format(bands_artist, bands_key)\n",
    "bands_api_url_past = r'https://rest.bandsintown.com/artists/{}/events/?app_id={}&date=past'.format(bands_artist, bands_key)"
   ]
  },
  {
   "cell_type": "code",
   "id": "00e0146d-d8b1-4b4c-affc-d7919dcfee18",
   "metadata": {},
   "outputs": [],
   "source": [
    "# gg_artist"
   ]
  },
  {
   "cell_type": "code",
   "id": "6cfcea8e-b4d7-468e-bf0a-5f254e9e5109",
   "metadata": {},
   "outputs": [],
   "source": [
    "# bands_artist"
   ]
  },
  {
   "cell_type": "code",
   "execution_count": 110,
   "outputs": [
    {
     "name": "stdout",
     "output_type": "stream",
     "text": [
      "Reading in Artists\n",
      "Eminem\n",
      "Eagles\n",
      "Coldplay\n",
      "Metallica\n",
      "Pink\n",
      "Elton John\n",
      "Aerosmith\n",
      "Justin Bieber\n",
      "Bruno Mars\n",
      "Maroon 5\n",
      "Journey\n",
      "Katy Perry\n",
      "Guns N Roses\n",
      "Foo Fighters\n",
      "Red Hot Chili Peppers\n",
      "Volbeat\n",
      "Adele\n",
      "Rammstein\n",
      "Def Leppard\n",
      "Iron Maiden\n",
      "Eric Clapton\n",
      "Paul McCartney\n",
      "Pearl Jam\n",
      "Sting\n",
      "Bon Jovi\n",
      "Slipknot\n",
      "Snoop Dogg\n",
      "Imagine Dragons\n",
      "Pitbull\n",
      "Ed Sheeran\n",
      "The Weeknd\n",
      "Tool\n",
      "The Killers\n",
      "Wiz Khalifa\n",
      "Green Day\n",
      "Kings of Leon\n",
      "Disturbed\n",
      "John Legend\n",
      "Willie Nelson\n",
      "Taylor Swift\n",
      "Judas Priest\n",
      "Marc Anthony\n",
      "Usher\n",
      "Tim McGraw\n",
      "Muse\n",
      "Tame Impala\n",
      "A$AP Rocky\n",
      "Prince\n",
      "Dua Lipa\n",
      "Flight Facilities\n",
      "Big Wild\n",
      "BlackPink\n",
      "Ariana Grande\n",
      "No Doubt\n",
      "Andrea Bocelli\n",
      "Hippo Campus\n",
      "Yo-Yo Ma\n",
      "Garth Brooks\n",
      "The Rolling Stones\n",
      "Bob Dylan\n",
      "The Grateful Dead\n",
      "Reading in Artists Complete\n",
      "Festival Events Identified\n",
      "Date Cleaned Up\n",
      "Coordinates Cleaned Up\n"
     ]
    },
    {
     "ename": "KeyboardInterrupt",
     "evalue": "",
     "output_type": "error",
     "traceback": [
      "\u001B[0;31m---------------------------------------------------------------------------\u001B[0m",
      "\u001B[0;31mKeyboardInterrupt\u001B[0m                         Traceback (most recent call last)",
      "\u001B[0;32m<timed exec>\u001B[0m in \u001B[0;36m<module>\u001B[0;34m\u001B[0m\n",
      "\u001B[0;32m/var/folders/lx/s64h867n6nxf10yyw1qf04qh0000gp/T/ipykernel_36907/1240374554.py\u001B[0m in \u001B[0;36mdata_prep_complete\u001B[0;34m()\u001B[0m\n\u001B[1;32m    147\u001B[0m     \u001B[0mdf\u001B[0m \u001B[0;34m=\u001B[0m \u001B[0mlocations_data_prep\u001B[0m\u001B[0;34m(\u001B[0m\u001B[0mdf\u001B[0m\u001B[0;34m)\u001B[0m\u001B[0;34m.\u001B[0m\u001B[0mcopy\u001B[0m\u001B[0;34m(\u001B[0m\u001B[0;34m)\u001B[0m\u001B[0;34m\u001B[0m\u001B[0;34m\u001B[0m\u001B[0m\n\u001B[1;32m    148\u001B[0m     \u001B[0mprint\u001B[0m\u001B[0;34m(\u001B[0m\u001B[0;34m\"Coordinates Cleaned Up\"\u001B[0m\u001B[0;34m)\u001B[0m\u001B[0;34m\u001B[0m\u001B[0;34m\u001B[0m\u001B[0m\n\u001B[0;32m--> 149\u001B[0;31m     \u001B[0mdf\u001B[0m \u001B[0;34m=\u001B[0m \u001B[0mget_locations\u001B[0m\u001B[0;34m(\u001B[0m\u001B[0mdf\u001B[0m\u001B[0;34m)\u001B[0m\u001B[0;34m.\u001B[0m\u001B[0mcopy\u001B[0m\u001B[0;34m(\u001B[0m\u001B[0;34m)\u001B[0m\u001B[0;34m\u001B[0m\u001B[0;34m\u001B[0m\u001B[0m\n\u001B[0m\u001B[1;32m    150\u001B[0m     \u001B[0mprint\u001B[0m\u001B[0;34m(\u001B[0m\u001B[0;34m\"Locations Cleaned Up\"\u001B[0m\u001B[0;34m)\u001B[0m\u001B[0;34m\u001B[0m\u001B[0;34m\u001B[0m\u001B[0m\n\u001B[1;32m    151\u001B[0m     \u001B[0;32mreturn\u001B[0m \u001B[0mdf\u001B[0m\u001B[0;34m\u001B[0m\u001B[0;34m\u001B[0m\u001B[0m\n",
      "\u001B[0;32m/var/folders/lx/s64h867n6nxf10yyw1qf04qh0000gp/T/ipykernel_36907/1240374554.py\u001B[0m in \u001B[0;36mget_locations\u001B[0;34m(df, latitude_column, longitude_column)\u001B[0m\n\u001B[1;32m    103\u001B[0m     \u001B[0mreverse_geocode\u001B[0m \u001B[0;34m=\u001B[0m \u001B[0mRateLimiter\u001B[0m\u001B[0;34m(\u001B[0m\u001B[0mgeolocator\u001B[0m\u001B[0;34m.\u001B[0m\u001B[0mreverse\u001B[0m\u001B[0;34m,\u001B[0m \u001B[0mmin_delay_seconds\u001B[0m\u001B[0;34m=\u001B[0m\u001B[0;36m2\u001B[0m\u001B[0;34m)\u001B[0m\u001B[0;34m\u001B[0m\u001B[0;34m\u001B[0m\u001B[0m\n\u001B[1;32m    104\u001B[0m     \u001B[0;32mfor\u001B[0m \u001B[0mindex\u001B[0m\u001B[0;34m,\u001B[0m \u001B[0mrow\u001B[0m \u001B[0;32min\u001B[0m \u001B[0mnew_df\u001B[0m\u001B[0;34m.\u001B[0m\u001B[0miterrows\u001B[0m\u001B[0;34m(\u001B[0m\u001B[0;34m)\u001B[0m\u001B[0;34m:\u001B[0m\u001B[0;34m\u001B[0m\u001B[0;34m\u001B[0m\u001B[0m\n\u001B[0;32m--> 105\u001B[0;31m         \u001B[0mlookup\u001B[0m \u001B[0;34m=\u001B[0m \u001B[0mreverse_geocode\u001B[0m\u001B[0;34m(\u001B[0m\u001B[0;34m(\u001B[0m\u001B[0mrow\u001B[0m\u001B[0;34m[\u001B[0m\u001B[0mlatitude_column\u001B[0m\u001B[0;34m]\u001B[0m\u001B[0;34m,\u001B[0m\u001B[0mrow\u001B[0m\u001B[0;34m[\u001B[0m\u001B[0mlongitude_column\u001B[0m\u001B[0;34m]\u001B[0m\u001B[0;34m)\u001B[0m\u001B[0;34m,\u001B[0m \u001B[0mlanguage\u001B[0m\u001B[0;34m=\u001B[0m\u001B[0;34m'en'\u001B[0m\u001B[0;34m)\u001B[0m\u001B[0;34m\u001B[0m\u001B[0;34m\u001B[0m\u001B[0m\n\u001B[0m\u001B[1;32m    106\u001B[0m         \u001B[0;32mtry\u001B[0m\u001B[0;34m:\u001B[0m\u001B[0;34m\u001B[0m\u001B[0;34m\u001B[0m\u001B[0m\n\u001B[1;32m    107\u001B[0m             \u001B[0mnew_df\u001B[0m\u001B[0;34m.\u001B[0m\u001B[0mloc\u001B[0m\u001B[0;34m[\u001B[0m\u001B[0mindex\u001B[0m\u001B[0;34m,\u001B[0m\u001B[0;34m'city'\u001B[0m\u001B[0;34m]\u001B[0m \u001B[0;34m=\u001B[0m \u001B[0mlookup\u001B[0m\u001B[0;34m.\u001B[0m\u001B[0mraw\u001B[0m\u001B[0;34m[\u001B[0m\u001B[0;34m'address'\u001B[0m\u001B[0;34m]\u001B[0m\u001B[0;34m[\u001B[0m\u001B[0;34m'city'\u001B[0m\u001B[0;34m]\u001B[0m\u001B[0;34m\u001B[0m\u001B[0;34m\u001B[0m\u001B[0m\n",
      "\u001B[0;32m/opt/homebrew/lib/python3.9/site-packages/geopy/extra/rate_limiter.py\u001B[0m in \u001B[0;36m__call__\u001B[0;34m(self, *args, **kwargs)\u001B[0m\n\u001B[1;32m    270\u001B[0m         \u001B[0mgen\u001B[0m \u001B[0;34m=\u001B[0m \u001B[0mself\u001B[0m\u001B[0;34m.\u001B[0m\u001B[0m_retries_gen\u001B[0m\u001B[0;34m(\u001B[0m\u001B[0margs\u001B[0m\u001B[0;34m,\u001B[0m \u001B[0mkwargs\u001B[0m\u001B[0;34m)\u001B[0m\u001B[0;34m\u001B[0m\u001B[0;34m\u001B[0m\u001B[0m\n\u001B[1;32m    271\u001B[0m         \u001B[0;32mfor\u001B[0m \u001B[0m_\u001B[0m \u001B[0;32min\u001B[0m \u001B[0mgen\u001B[0m\u001B[0;34m:\u001B[0m\u001B[0;34m\u001B[0m\u001B[0;34m\u001B[0m\u001B[0m\n\u001B[0;32m--> 272\u001B[0;31m             \u001B[0mself\u001B[0m\u001B[0;34m.\u001B[0m\u001B[0m_acquire_request_slot\u001B[0m\u001B[0;34m(\u001B[0m\u001B[0;34m)\u001B[0m\u001B[0;34m\u001B[0m\u001B[0;34m\u001B[0m\u001B[0m\n\u001B[0m\u001B[1;32m    273\u001B[0m             \u001B[0;32mtry\u001B[0m\u001B[0;34m:\u001B[0m\u001B[0;34m\u001B[0m\u001B[0;34m\u001B[0m\u001B[0m\n\u001B[1;32m    274\u001B[0m                 \u001B[0mres\u001B[0m \u001B[0;34m=\u001B[0m \u001B[0mself\u001B[0m\u001B[0;34m.\u001B[0m\u001B[0mfunc\u001B[0m\u001B[0;34m(\u001B[0m\u001B[0;34m*\u001B[0m\u001B[0margs\u001B[0m\u001B[0;34m,\u001B[0m \u001B[0;34m**\u001B[0m\u001B[0mkwargs\u001B[0m\u001B[0;34m)\u001B[0m\u001B[0;34m\u001B[0m\u001B[0;34m\u001B[0m\u001B[0m\n",
      "\u001B[0;32m/opt/homebrew/lib/python3.9/site-packages/geopy/extra/rate_limiter.py\u001B[0m in \u001B[0;36m_acquire_request_slot\u001B[0;34m(self)\u001B[0m\n\u001B[1;32m    265\u001B[0m     \u001B[0;32mdef\u001B[0m \u001B[0m_acquire_request_slot\u001B[0m\u001B[0;34m(\u001B[0m\u001B[0mself\u001B[0m\u001B[0;34m)\u001B[0m\u001B[0;34m:\u001B[0m\u001B[0;34m\u001B[0m\u001B[0;34m\u001B[0m\u001B[0m\n\u001B[1;32m    266\u001B[0m         \u001B[0;32mfor\u001B[0m \u001B[0mwait\u001B[0m \u001B[0;32min\u001B[0m \u001B[0mself\u001B[0m\u001B[0;34m.\u001B[0m\u001B[0m_acquire_request_slot_gen\u001B[0m\u001B[0;34m(\u001B[0m\u001B[0;34m)\u001B[0m\u001B[0;34m:\u001B[0m\u001B[0;34m\u001B[0m\u001B[0;34m\u001B[0m\u001B[0m\n\u001B[0;32m--> 267\u001B[0;31m             \u001B[0mself\u001B[0m\u001B[0;34m.\u001B[0m\u001B[0m_sleep\u001B[0m\u001B[0;34m(\u001B[0m\u001B[0mwait\u001B[0m\u001B[0;34m)\u001B[0m\u001B[0;34m\u001B[0m\u001B[0;34m\u001B[0m\u001B[0m\n\u001B[0m\u001B[1;32m    268\u001B[0m \u001B[0;34m\u001B[0m\u001B[0m\n\u001B[1;32m    269\u001B[0m     \u001B[0;32mdef\u001B[0m \u001B[0m__call__\u001B[0m\u001B[0;34m(\u001B[0m\u001B[0mself\u001B[0m\u001B[0;34m,\u001B[0m \u001B[0;34m*\u001B[0m\u001B[0margs\u001B[0m\u001B[0;34m,\u001B[0m \u001B[0;34m**\u001B[0m\u001B[0mkwargs\u001B[0m\u001B[0;34m)\u001B[0m\u001B[0;34m:\u001B[0m\u001B[0;34m\u001B[0m\u001B[0;34m\u001B[0m\u001B[0m\n",
      "\u001B[0;32m/opt/homebrew/lib/python3.9/site-packages/geopy/extra/rate_limiter.py\u001B[0m in \u001B[0;36m_sleep\u001B[0;34m(self, seconds)\u001B[0m\n\u001B[1;32m    261\u001B[0m     \u001B[0;32mdef\u001B[0m \u001B[0m_sleep\u001B[0m\u001B[0;34m(\u001B[0m\u001B[0mself\u001B[0m\u001B[0;34m,\u001B[0m \u001B[0mseconds\u001B[0m\u001B[0;34m)\u001B[0m\u001B[0;34m:\u001B[0m  \u001B[0;31m# pragma: no cover\u001B[0m\u001B[0;34m\u001B[0m\u001B[0;34m\u001B[0m\u001B[0m\n\u001B[1;32m    262\u001B[0m         \u001B[0mlogger\u001B[0m\u001B[0;34m.\u001B[0m\u001B[0mdebug\u001B[0m\u001B[0;34m(\u001B[0m\u001B[0mtype\u001B[0m\u001B[0;34m(\u001B[0m\u001B[0mself\u001B[0m\u001B[0;34m)\u001B[0m\u001B[0;34m.\u001B[0m\u001B[0m__name__\u001B[0m \u001B[0;34m+\u001B[0m \u001B[0;34m\" sleep(%r)\"\u001B[0m\u001B[0;34m,\u001B[0m \u001B[0mseconds\u001B[0m\u001B[0;34m)\u001B[0m\u001B[0;34m\u001B[0m\u001B[0;34m\u001B[0m\u001B[0m\n\u001B[0;32m--> 263\u001B[0;31m         \u001B[0msleep\u001B[0m\u001B[0;34m(\u001B[0m\u001B[0mseconds\u001B[0m\u001B[0;34m)\u001B[0m\u001B[0;34m\u001B[0m\u001B[0;34m\u001B[0m\u001B[0m\n\u001B[0m\u001B[1;32m    264\u001B[0m \u001B[0;34m\u001B[0m\u001B[0m\n\u001B[1;32m    265\u001B[0m     \u001B[0;32mdef\u001B[0m \u001B[0m_acquire_request_slot\u001B[0m\u001B[0;34m(\u001B[0m\u001B[0mself\u001B[0m\u001B[0;34m)\u001B[0m\u001B[0;34m:\u001B[0m\u001B[0;34m\u001B[0m\u001B[0;34m\u001B[0m\u001B[0m\n",
      "\u001B[0;31mKeyboardInterrupt\u001B[0m: "
     ]
    }
   ],
   "source": [
    "%%time\n",
    "dat = data_prep_complete()"
   ],
   "metadata": {
    "collapsed": false,
    "pycharm": {
     "name": "#%%\n"
    }
   }
  },
  {
   "cell_type": "code",
   "execution_count": 89,
   "outputs": [
    {
     "data": {
      "text/plain": "Metallica    306\nPink         299\nEagles       266\nColdplay     167\nEminem        54\nName: artist, dtype: int64"
     },
     "execution_count": 89,
     "metadata": {},
     "output_type": "execute_result"
    }
   ],
   "source": [
    "dat['artist'].value_counts()"
   ],
   "metadata": {
    "collapsed": false,
    "pycharm": {
     "name": "#%%\n"
    }
   }
  },
  {
   "cell_type": "code",
   "execution_count": 101,
   "outputs": [
    {
     "name": "stdout",
     "output_type": "stream",
     "text": [
      "Reading in Artists\n",
      "Eminem\n",
      "Eagles\n",
      "Coldplay\n",
      "Metallica\n",
      "Pink\n",
      "Reading in Artists Complete\n",
      "Festival Events Identified\n",
      "Date Cleaned Up\n",
      "Coordinates Cleaned Up\n",
      "Rows Completed:  100\n",
      "Rows Completed:  0\n",
      "Rows Completed:  100\n"
     ]
    },
    {
     "ename": "ValueError",
     "evalue": "Must be a coordinate pair or Point",
     "output_type": "error",
     "traceback": [
      "\u001B[0;31m---------------------------------------------------------------------------\u001B[0m",
      "\u001B[0;31mValueError\u001B[0m                                Traceback (most recent call last)",
      "\u001B[0;32m/opt/homebrew/lib/python3.9/site-packages/geopy/geocoders/nominatim.py\u001B[0m in \u001B[0;36mreverse\u001B[0;34m(self, query, exactly_one, timeout, language, addressdetails, zoom)\u001B[0m\n\u001B[1;32m    342\u001B[0m         \u001B[0;32mtry\u001B[0m\u001B[0;34m:\u001B[0m\u001B[0;34m\u001B[0m\u001B[0;34m\u001B[0m\u001B[0m\n\u001B[0;32m--> 343\u001B[0;31m             \u001B[0mlat\u001B[0m\u001B[0;34m,\u001B[0m \u001B[0mlon\u001B[0m \u001B[0;34m=\u001B[0m \u001B[0mself\u001B[0m\u001B[0;34m.\u001B[0m\u001B[0m_coerce_point_to_string\u001B[0m\u001B[0;34m(\u001B[0m\u001B[0mquery\u001B[0m\u001B[0;34m)\u001B[0m\u001B[0;34m.\u001B[0m\u001B[0msplit\u001B[0m\u001B[0;34m(\u001B[0m\u001B[0;34m','\u001B[0m\u001B[0;34m)\u001B[0m\u001B[0;34m\u001B[0m\u001B[0;34m\u001B[0m\u001B[0m\n\u001B[0m\u001B[1;32m    344\u001B[0m         \u001B[0;32mexcept\u001B[0m \u001B[0mValueError\u001B[0m\u001B[0;34m:\u001B[0m\u001B[0;34m\u001B[0m\u001B[0;34m\u001B[0m\u001B[0m\n",
      "\u001B[0;32m/opt/homebrew/lib/python3.9/site-packages/geopy/geocoders/base.py\u001B[0m in \u001B[0;36m_coerce_point_to_string\u001B[0;34m(self, point, output_format)\u001B[0m\n\u001B[1;32m    299\u001B[0m         \u001B[0;32mif\u001B[0m \u001B[0;32mnot\u001B[0m \u001B[0misinstance\u001B[0m\u001B[0;34m(\u001B[0m\u001B[0mpoint\u001B[0m\u001B[0;34m,\u001B[0m \u001B[0mPoint\u001B[0m\u001B[0;34m)\u001B[0m\u001B[0;34m:\u001B[0m\u001B[0;34m\u001B[0m\u001B[0;34m\u001B[0m\u001B[0m\n\u001B[0;32m--> 300\u001B[0;31m             \u001B[0mpoint\u001B[0m \u001B[0;34m=\u001B[0m \u001B[0mPoint\u001B[0m\u001B[0;34m(\u001B[0m\u001B[0mpoint\u001B[0m\u001B[0;34m)\u001B[0m\u001B[0;34m\u001B[0m\u001B[0;34m\u001B[0m\u001B[0m\n\u001B[0m\u001B[1;32m    301\u001B[0m \u001B[0;34m\u001B[0m\u001B[0m\n",
      "\u001B[0;32m/opt/homebrew/lib/python3.9/site-packages/geopy/point.py\u001B[0m in \u001B[0;36m__new__\u001B[0;34m(cls, latitude, longitude, altitude)\u001B[0m\n\u001B[1;32m    174\u001B[0m                 \u001B[0;32melse\u001B[0m\u001B[0;34m:\u001B[0m\u001B[0;34m\u001B[0m\u001B[0;34m\u001B[0m\u001B[0m\n\u001B[0;32m--> 175\u001B[0;31m                     \u001B[0;32mreturn\u001B[0m \u001B[0mcls\u001B[0m\u001B[0;34m.\u001B[0m\u001B[0mfrom_sequence\u001B[0m\u001B[0;34m(\u001B[0m\u001B[0mseq\u001B[0m\u001B[0;34m)\u001B[0m\u001B[0;34m\u001B[0m\u001B[0;34m\u001B[0m\u001B[0m\n\u001B[0m\u001B[1;32m    176\u001B[0m \u001B[0;34m\u001B[0m\u001B[0m\n",
      "\u001B[0;32m/opt/homebrew/lib/python3.9/site-packages/geopy/point.py\u001B[0m in \u001B[0;36mfrom_sequence\u001B[0;34m(cls, seq)\u001B[0m\n\u001B[1;32m    471\u001B[0m                              'must not have more than 3 items.')\n\u001B[0;32m--> 472\u001B[0;31m         \u001B[0;32mreturn\u001B[0m \u001B[0mcls\u001B[0m\u001B[0;34m(\u001B[0m\u001B[0;34m*\u001B[0m\u001B[0margs\u001B[0m\u001B[0;34m)\u001B[0m\u001B[0;34m\u001B[0m\u001B[0;34m\u001B[0m\u001B[0m\n\u001B[0m\u001B[1;32m    473\u001B[0m \u001B[0;34m\u001B[0m\u001B[0m\n",
      "\u001B[0;32m/opt/homebrew/lib/python3.9/site-packages/geopy/point.py\u001B[0m in \u001B[0;36m__new__\u001B[0;34m(cls, latitude, longitude, altitude)\u001B[0m\n\u001B[1;32m    187\u001B[0m         \u001B[0mlatitude\u001B[0m\u001B[0;34m,\u001B[0m \u001B[0mlongitude\u001B[0m\u001B[0;34m,\u001B[0m \u001B[0maltitude\u001B[0m \u001B[0;34m=\u001B[0m\u001B[0;31m \u001B[0m\u001B[0;31m\\\u001B[0m\u001B[0;34m\u001B[0m\u001B[0;34m\u001B[0m\u001B[0m\n\u001B[0;32m--> 188\u001B[0;31m             \u001B[0m_normalize_coordinates\u001B[0m\u001B[0;34m(\u001B[0m\u001B[0mlatitude\u001B[0m\u001B[0;34m,\u001B[0m \u001B[0mlongitude\u001B[0m\u001B[0;34m,\u001B[0m \u001B[0maltitude\u001B[0m\u001B[0;34m)\u001B[0m\u001B[0;34m\u001B[0m\u001B[0;34m\u001B[0m\u001B[0m\n\u001B[0m\u001B[1;32m    189\u001B[0m \u001B[0;34m\u001B[0m\u001B[0m\n",
      "\u001B[0;32m/opt/homebrew/lib/python3.9/site-packages/geopy/point.py\u001B[0m in \u001B[0;36m_normalize_coordinates\u001B[0;34m(latitude, longitude, altitude)\u001B[0m\n\u001B[1;32m     62\u001B[0m     \u001B[0;32mif\u001B[0m \u001B[0;32mnot\u001B[0m \u001B[0mis_all_finite\u001B[0m\u001B[0;34m:\u001B[0m\u001B[0;34m\u001B[0m\u001B[0;34m\u001B[0m\u001B[0m\n\u001B[0;32m---> 63\u001B[0;31m         raise ValueError('Point coordinates must be finite. %r has been passed '\n\u001B[0m\u001B[1;32m     64\u001B[0m                          'as coordinates.' % ((latitude, longitude, altitude),))\n",
      "\u001B[0;31mValueError\u001B[0m: Point coordinates must be finite. (nan, nan, 0.0) has been passed as coordinates.",
      "\nDuring handling of the above exception, another exception occurred:\n",
      "\u001B[0;31mValueError\u001B[0m                                Traceback (most recent call last)",
      "\u001B[0;32m<timed exec>\u001B[0m in \u001B[0;36m<module>\u001B[0;34m\u001B[0m\n",
      "\u001B[0;32m/var/folders/lx/s64h867n6nxf10yyw1qf04qh0000gp/T/ipykernel_36907/829226612.py\u001B[0m in \u001B[0;36mdata_prep_complete\u001B[0;34m()\u001B[0m\n\u001B[1;32m    147\u001B[0m     \u001B[0mdf\u001B[0m \u001B[0;34m=\u001B[0m \u001B[0mlocations_data_prep\u001B[0m\u001B[0;34m(\u001B[0m\u001B[0mdf\u001B[0m\u001B[0;34m)\u001B[0m\u001B[0;34m.\u001B[0m\u001B[0mcopy\u001B[0m\u001B[0;34m(\u001B[0m\u001B[0;34m)\u001B[0m\u001B[0;34m\u001B[0m\u001B[0;34m\u001B[0m\u001B[0m\n\u001B[1;32m    148\u001B[0m     \u001B[0mprint\u001B[0m\u001B[0;34m(\u001B[0m\u001B[0;34m\"Coordinates Cleaned Up\"\u001B[0m\u001B[0;34m)\u001B[0m\u001B[0;34m\u001B[0m\u001B[0;34m\u001B[0m\u001B[0m\n\u001B[0;32m--> 149\u001B[0;31m     \u001B[0mdf\u001B[0m \u001B[0;34m=\u001B[0m \u001B[0mget_locations\u001B[0m\u001B[0;34m(\u001B[0m\u001B[0mdf\u001B[0m\u001B[0;34m)\u001B[0m\u001B[0;34m.\u001B[0m\u001B[0mcopy\u001B[0m\u001B[0;34m(\u001B[0m\u001B[0;34m)\u001B[0m\u001B[0;34m\u001B[0m\u001B[0;34m\u001B[0m\u001B[0m\n\u001B[0m\u001B[1;32m    150\u001B[0m     \u001B[0mprint\u001B[0m\u001B[0;34m(\u001B[0m\u001B[0;34m\"Locations Cleaned Up\"\u001B[0m\u001B[0;34m)\u001B[0m\u001B[0;34m\u001B[0m\u001B[0;34m\u001B[0m\u001B[0m\n\u001B[1;32m    151\u001B[0m     \u001B[0;32mreturn\u001B[0m \u001B[0mdf\u001B[0m\u001B[0;34m\u001B[0m\u001B[0;34m\u001B[0m\u001B[0m\n",
      "\u001B[0;32m/var/folders/lx/s64h867n6nxf10yyw1qf04qh0000gp/T/ipykernel_36907/829226612.py\u001B[0m in \u001B[0;36mget_locations\u001B[0;34m(df, latitude_column, longitude_column)\u001B[0m\n\u001B[1;32m    104\u001B[0m     \u001B[0mreverse_geocode\u001B[0m \u001B[0;34m=\u001B[0m \u001B[0mRateLimiter\u001B[0m\u001B[0;34m(\u001B[0m\u001B[0mgeolocator\u001B[0m\u001B[0;34m.\u001B[0m\u001B[0mreverse\u001B[0m\u001B[0;34m,\u001B[0m \u001B[0mmin_delay_seconds\u001B[0m\u001B[0;34m=\u001B[0m\u001B[0;36m2\u001B[0m\u001B[0;34m)\u001B[0m\u001B[0;34m\u001B[0m\u001B[0;34m\u001B[0m\u001B[0m\n\u001B[1;32m    105\u001B[0m     \u001B[0;32mfor\u001B[0m \u001B[0mindex\u001B[0m\u001B[0;34m,\u001B[0m \u001B[0mrow\u001B[0m \u001B[0;32min\u001B[0m \u001B[0mnew_df\u001B[0m\u001B[0;34m.\u001B[0m\u001B[0miterrows\u001B[0m\u001B[0;34m(\u001B[0m\u001B[0;34m)\u001B[0m\u001B[0;34m:\u001B[0m\u001B[0;34m\u001B[0m\u001B[0;34m\u001B[0m\u001B[0m\n\u001B[0;32m--> 106\u001B[0;31m         \u001B[0mlookup\u001B[0m \u001B[0;34m=\u001B[0m \u001B[0mreverse_geocode\u001B[0m\u001B[0;34m(\u001B[0m\u001B[0;34m(\u001B[0m\u001B[0mrow\u001B[0m\u001B[0;34m[\u001B[0m\u001B[0mlatitude_column\u001B[0m\u001B[0;34m]\u001B[0m\u001B[0;34m,\u001B[0m\u001B[0mrow\u001B[0m\u001B[0;34m[\u001B[0m\u001B[0mlongitude_column\u001B[0m\u001B[0;34m]\u001B[0m\u001B[0;34m)\u001B[0m\u001B[0;34m,\u001B[0m \u001B[0mlanguage\u001B[0m\u001B[0;34m=\u001B[0m\u001B[0;34m'en'\u001B[0m\u001B[0;34m)\u001B[0m\u001B[0;34m\u001B[0m\u001B[0;34m\u001B[0m\u001B[0m\n\u001B[0m\u001B[1;32m    107\u001B[0m         \u001B[0;32mtry\u001B[0m\u001B[0;34m:\u001B[0m\u001B[0;34m\u001B[0m\u001B[0;34m\u001B[0m\u001B[0m\n\u001B[1;32m    108\u001B[0m             \u001B[0mnew_df\u001B[0m\u001B[0;34m.\u001B[0m\u001B[0mloc\u001B[0m\u001B[0;34m[\u001B[0m\u001B[0mindex\u001B[0m\u001B[0;34m,\u001B[0m\u001B[0;34m'city'\u001B[0m\u001B[0;34m]\u001B[0m \u001B[0;34m=\u001B[0m \u001B[0mlookup\u001B[0m\u001B[0;34m.\u001B[0m\u001B[0mraw\u001B[0m\u001B[0;34m[\u001B[0m\u001B[0;34m'address'\u001B[0m\u001B[0;34m]\u001B[0m\u001B[0;34m[\u001B[0m\u001B[0;34m'city'\u001B[0m\u001B[0;34m]\u001B[0m\u001B[0;34m\u001B[0m\u001B[0;34m\u001B[0m\u001B[0m\n",
      "\u001B[0;32m/opt/homebrew/lib/python3.9/site-packages/geopy/extra/rate_limiter.py\u001B[0m in \u001B[0;36m__call__\u001B[0;34m(self, *args, **kwargs)\u001B[0m\n\u001B[1;32m    272\u001B[0m             \u001B[0mself\u001B[0m\u001B[0;34m.\u001B[0m\u001B[0m_acquire_request_slot\u001B[0m\u001B[0;34m(\u001B[0m\u001B[0;34m)\u001B[0m\u001B[0;34m\u001B[0m\u001B[0;34m\u001B[0m\u001B[0m\n\u001B[1;32m    273\u001B[0m             \u001B[0;32mtry\u001B[0m\u001B[0;34m:\u001B[0m\u001B[0;34m\u001B[0m\u001B[0;34m\u001B[0m\u001B[0m\n\u001B[0;32m--> 274\u001B[0;31m                 \u001B[0mres\u001B[0m \u001B[0;34m=\u001B[0m \u001B[0mself\u001B[0m\u001B[0;34m.\u001B[0m\u001B[0mfunc\u001B[0m\u001B[0;34m(\u001B[0m\u001B[0;34m*\u001B[0m\u001B[0margs\u001B[0m\u001B[0;34m,\u001B[0m \u001B[0;34m**\u001B[0m\u001B[0mkwargs\u001B[0m\u001B[0;34m)\u001B[0m\u001B[0;34m\u001B[0m\u001B[0;34m\u001B[0m\u001B[0m\n\u001B[0m\u001B[1;32m    275\u001B[0m                 \u001B[0;32mif\u001B[0m \u001B[0minspect\u001B[0m\u001B[0;34m.\u001B[0m\u001B[0misawaitable\u001B[0m\u001B[0;34m(\u001B[0m\u001B[0mres\u001B[0m\u001B[0;34m)\u001B[0m\u001B[0;34m:\u001B[0m\u001B[0;34m\u001B[0m\u001B[0;34m\u001B[0m\u001B[0m\n\u001B[1;32m    276\u001B[0m                     raise ValueError(\n",
      "\u001B[0;32m/opt/homebrew/lib/python3.9/site-packages/geopy/geocoders/nominatim.py\u001B[0m in \u001B[0;36mreverse\u001B[0;34m(self, query, exactly_one, timeout, language, addressdetails, zoom)\u001B[0m\n\u001B[1;32m    343\u001B[0m             \u001B[0mlat\u001B[0m\u001B[0;34m,\u001B[0m \u001B[0mlon\u001B[0m \u001B[0;34m=\u001B[0m \u001B[0mself\u001B[0m\u001B[0;34m.\u001B[0m\u001B[0m_coerce_point_to_string\u001B[0m\u001B[0;34m(\u001B[0m\u001B[0mquery\u001B[0m\u001B[0;34m)\u001B[0m\u001B[0;34m.\u001B[0m\u001B[0msplit\u001B[0m\u001B[0;34m(\u001B[0m\u001B[0;34m','\u001B[0m\u001B[0;34m)\u001B[0m\u001B[0;34m\u001B[0m\u001B[0;34m\u001B[0m\u001B[0m\n\u001B[1;32m    344\u001B[0m         \u001B[0;32mexcept\u001B[0m \u001B[0mValueError\u001B[0m\u001B[0;34m:\u001B[0m\u001B[0;34m\u001B[0m\u001B[0;34m\u001B[0m\u001B[0m\n\u001B[0;32m--> 345\u001B[0;31m             \u001B[0;32mraise\u001B[0m \u001B[0mValueError\u001B[0m\u001B[0;34m(\u001B[0m\u001B[0;34m\"Must be a coordinate pair or Point\"\u001B[0m\u001B[0;34m)\u001B[0m\u001B[0;34m\u001B[0m\u001B[0;34m\u001B[0m\u001B[0m\n\u001B[0m\u001B[1;32m    346\u001B[0m         params = {\n\u001B[1;32m    347\u001B[0m             \u001B[0;34m'lat'\u001B[0m\u001B[0;34m:\u001B[0m \u001B[0mlat\u001B[0m\u001B[0;34m,\u001B[0m\u001B[0;34m\u001B[0m\u001B[0;34m\u001B[0m\u001B[0m\n",
      "\u001B[0;31mValueError\u001B[0m: Must be a coordinate pair or Point"
     ]
    }
   ],
   "source": [
    "%%time\n",
    "dat2 = data_prep_complete()"
   ],
   "metadata": {
    "collapsed": false,
    "pycharm": {
     "name": "#%%\n"
    }
   }
  },
  {
   "cell_type": "markdown",
   "id": "452b9e2b-cc0d-4645-b79d-87f97b2a4513",
   "metadata": {},
   "source": [
    "## Working Code\n",
    "### Let's Go"
   ]
  },
  {
   "cell_type": "code",

   "id": "9bfa7535-fa5b-4583-87e3-b08e47370a8f",
   "metadata": {
    "tags": []
   },
   "outputs": [
    {
     "name": "stdout",
     "output_type": "stream",
     "text": [

     ]
    },
    {
     "data": {
      "text/html": [
       "<div>\n",
       "<style scoped>\n",
       "    .dataframe tbody tr th:only-of-type {\n",
       "        vertical-align: middle;\n",
       "    }\n",
       "\n",
       "    .dataframe tbody tr th {\n",
       "        vertical-align: top;\n",
       "    }\n",
       "\n",
       "    .dataframe thead th {\n",
       "        text-align: right;\n",
       "    }\n",
       "</style>\n",
       "<table border=\"1\" class=\"dataframe\">\n",
       "  <thead>\n",
       "    <tr style=\"text-align: right;\">\n",
       "      <th></th>\n",
       "      <th>datetime</th>\n",
       "      <th>title</th>\n",
       "      <th>lineup</th>\n",
       "      <th>festival_start_date</th>\n",
       "      <th>festival_end_date</th>\n",
       "      <th>city</th>\n",
       "      <th>region</th>\n",
       "      <th>country</th>\n",
       "      <th>latitude</th>\n",
       "      <th>longitude</th>\n",
       "      <th>location</th>\n",
       "      <th>name</th>\n",
       "      <th>artist</th>\n",
       "    </tr>\n",
       "  </thead>\n",
       "  <tbody>\n",
       "    <tr>\n",
       "      <th>0</th>\n",
       "      <td>2013-04-14T10:08:00</td>\n",
       "      <td></td>\n",
       "      <td>[Tame Impala, The Airborne Toxic Event, Eric P...</td>\n",
       "      <td></td>\n",
       "      <td></td>\n",
       "      <td>Indio</td>\n",
       "      <td>CA</td>\n",
       "      <td>United States</td>\n",
       "      <td>33.7205556</td>\n",
       "      <td>-116.2147222</td>\n",
       "      <td></td>\n",
       "      <td>Empire Polo Field</td>\n",
       "      <td>Tame Impala</td>\n",
       "    </tr>\n",
       "    <tr>\n",
       "      <th>1</th>\n",
       "      <td>2013-04-19T19:00:00</td>\n",
       "      <td></td>\n",
       "      <td>[Tame Impala, Mona, Alt-J, Social Distortion, ...</td>\n",
       "      <td></td>\n",
       "      <td></td>\n",
       "      <td>Indio</td>\n",
       "      <td>CA</td>\n",
       "      <td>United States</td>\n",
       "      <td>33.6784492</td>\n",
       "      <td>-116.237155</td>\n",
       "      <td></td>\n",
       "      <td>Empire Polo Club</td>\n",
       "      <td>Tame Impala</td>\n",
       "    </tr>\n",
       "    <tr>\n",
       "      <th>2</th>\n",
       "      <td>2013-04-21T10:26:00</td>\n",
       "      <td></td>\n",
       "      <td>[Tame Impala, Vampire Weekend, Ladies Night, M...</td>\n",
       "      <td></td>\n",
       "      <td></td>\n",
       "      <td>Indio</td>\n",
       "      <td>CA</td>\n",
       "      <td>United States</td>\n",
       "      <td>33.7205556</td>\n",
       "      <td>-116.2147222</td>\n",
       "      <td></td>\n",
       "      <td>Empire Polo Field</td>\n",
       "      <td>Tame Impala</td>\n",
       "    </tr>\n",
       "    <tr>\n",
       "      <th>3</th>\n",
       "      <td>2013-04-26T20:00:00</td>\n",
       "      <td></td>\n",
       "      <td>[Tame Impala, Midnight Juggernauts]</td>\n",
       "      <td></td>\n",
       "      <td></td>\n",
       "      <td>West Melbourne</td>\n",
       "      <td></td>\n",
       "      <td>Australia</td>\n",
       "      <td>-37.81126</td>\n",
       "      <td>144.946442</td>\n",
       "      <td></td>\n",
       "      <td>Festival Hall Melbourne</td>\n",
       "      <td>Tame Impala</td>\n",
       "    </tr>\n",
       "    <tr>\n",
       "      <th>4</th>\n",
       "      <td>2013-05-02T19:30:00</td>\n",
       "      <td></td>\n",
       "      <td>[Tame Impala]</td>\n",
       "      <td></td>\n",
       "      <td></td>\n",
       "      <td>Sydney</td>\n",
       "      <td></td>\n",
       "      <td>Australia</td>\n",
       "      <td>-33.889832</td>\n",
       "      <td>151.223348</td>\n",
       "      <td></td>\n",
       "      <td>Hordern Pavilion</td>\n",
       "      <td>Tame Impala</td>\n",
       "    </tr>\n",
       "  </tbody>\n",
       "</table>\n",
       "</div>"
      ],
      "text/plain": [
       "              datetime title  \\\n",
       "0  2013-04-14T10:08:00         \n",
       "1  2013-04-19T19:00:00         \n",
       "2  2013-04-21T10:26:00         \n",
       "3  2013-04-26T20:00:00         \n",
       "4  2013-05-02T19:30:00         \n",
       "\n",
       "                                              lineup festival_start_date  \\\n",
       "0  [Tame Impala, The Airborne Toxic Event, Eric P...                       \n",
       "1  [Tame Impala, Mona, Alt-J, Social Distortion, ...                       \n",
       "2  [Tame Impala, Vampire Weekend, Ladies Night, M...                       \n",
       "3                [Tame Impala, Midnight Juggernauts]                       \n",
       "4                                      [Tame Impala]                       \n",
       "\n",
       "  festival_end_date            city region        country    latitude  \\\n",
       "0                             Indio     CA  United States  33.7205556   \n",
       "1                             Indio     CA  United States  33.6784492   \n",
       "2                             Indio     CA  United States  33.7205556   \n",
       "3                    West Melbourne             Australia   -37.81126   \n",
       "4                            Sydney             Australia  -33.889832   \n",
       "\n",
       "      longitude location                     name       artist  \n",
       "0  -116.2147222                 Empire Polo Field  Tame Impala  \n",
       "1   -116.237155                  Empire Polo Club  Tame Impala  \n",
       "2  -116.2147222                 Empire Polo Field  Tame Impala  \n",
       "3    144.946442           Festival Hall Melbourne  Tame Impala  \n",
       "4    151.223348                  Hordern Pavilion  Tame Impala  "
      ]
     },
     "execution_count": 6,

     "metadata": {},
     "output_type": "execute_result"
    }
   ],
   "source": [
    "# data extract\n",
    "r = requests.get(bands_api_url_past)\n",
    "event_json = r.json()\n",
    "\n",
    "test_df = parse_events(event_json)\n",
    "print(test_df.shape)\n",
    "test_df.head()"
   ]
  },
  {
   "cell_type": "code",
   "id": "ca1c09ba-03ed-457d-8f95-b574d2756d55",
   "metadata": {},
   "outputs": [],
   "source": [
    "# data extract\n",
    "r_gg = requests.get(getgenre_api_url)\n",
    "\n",
    "genre_json = r_gg.json()\n",
    "top_gg = genre_json['analysis']['top_genres']"
   ]
  },
  {
   "cell_type": "code",
   "execution_count": 8,
   "id": "1a4dce5e",
   "metadata": {
    "collapsed": false,
    "jupyter": {
     "outputs_hidden": false
    },
    "pycharm": {
     "name": "#%%\n"
    }
   },

   "outputs": [],
   "source": [
    "# feature extraction\n",
    "test_df['artist'] = artist\n",
    "test_df['artist_topgenres'] = [top_gg for _ in range(len(test_df))]\n",
    "\n",
    "test_df['lineup_size'] = test_df['lineup'].str.len()\n",
    "test_df['festival_flag'] = np.where(test_df['lineup'].str.len() > 5, 'Festival', 'Concert')\n",
    "test_df['festival_flag'] = test_df['festival_flag'].astype(str)\n",
    "\n",
    "test_df['show_date'] = True"
   ]
  },
  {
   "cell_type": "code",
   "execution_count": 9,
   "id": "ed5c788e",
   "metadata": {
    "collapsed": false,
    "jupyter": {
     "outputs_hidden": false
    },
    "pycharm": {
     "name": "#%%\n"
    }
   }
  },
  {
   "cell_type": "code",
   "execution_count": 65,
   "outputs": [
    {
     "name": "stdout",
     "output_type": "stream",
     "text": [
     ]
    }
   ],
   "source": [
    "# data cleanup\n",
    "print(test_df.shape)\n",
    "test_df = test_df[(test_df['latitude'].notna()) & (test_df['longitude'].notna())]\n",
    "print(test_df.shape)\n",
    "test_df['latitude'] = pd.to_numeric(test_df['latitude'])\n",
    "test_df['longitude'] = pd.to_numeric(test_df['longitude'])\n",
    "\n",
    "test_df['datetime'] = test_df['datetime'].str[:10]"
   ]
  },
  {
   "cell_type": "code",
   "execution_count": 10,
   "id": "264892e5",
   "metadata": {
    "collapsed": false,
    "jupyter": {
     "outputs_hidden": false
    },
    "pycharm": {
     "name": "#%%\n"
    }
   "outputs": [],
   "source": [
    "# data cleanup\n",
    "#test_df = get_locations(test_df)  ## disabling for now due to run time"
   ]
  },
  {
   "cell_type": "code",
   "execution_count": 11,
   "id": "ed0e47e0",
   "metadata": {
    "collapsed": false,
    "jupyter": {
     "outputs_hidden": false
    },
    "pycharm": {
     "name": "#%%\n"
    }
   },
   "outputs": [
    {
     "data": {
      "text/html": [
       "<div>\n",
       "<style scoped>\n",
       "    .dataframe tbody tr th:only-of-type {\n",
       "        vertical-align: middle;\n",
       "    }\n",
       "\n",
       "    .dataframe tbody tr th {\n",
       "        vertical-align: top;\n",
       "    }\n",
       "\n",
       "    .dataframe thead th {\n",
       "        text-align: right;\n",
       "    }\n",
       "</style>\n",
       "<table border=\"1\" class=\"dataframe\">\n",
       "  <thead>\n",
       "    <tr style=\"text-align: right;\">\n",
       "      <th></th>\n",
       "      <th>datetime</th>\n",
       "      <th>title</th>\n",
       "      <th>lineup</th>\n",
       "      <th>festival_start_date</th>\n",
       "      <th>festival_end_date</th>\n",
       "      <th>city</th>\n",
       "      <th>region</th>\n",
       "      <th>country</th>\n",
       "      <th>latitude</th>\n",
       "      <th>longitude</th>\n",
       "      <th>location</th>\n",
       "      <th>name</th>\n",
       "      <th>artist</th>\n",
       "      <th>artist_topgenres</th>\n",
       "      <th>lineup_size</th>\n",
       "      <th>festival_flag</th>\n",
       "      <th>show_date</th>\n",
       "    </tr>\n",
       "  </thead>\n",
       "  <tbody>\n",
       "    <tr>\n",
       "      <th>0</th>\n",
       "      <td>2013-04-14</td>\n",
       "      <td></td>\n",
       "      <td>[Tame Impala, The Airborne Toxic Event, Eric P...</td>\n",
       "      <td></td>\n",
       "      <td></td>\n",
       "      <td>Indio</td>\n",
       "      <td>CA</td>\n",
       "      <td>United States</td>\n",
       "      <td>33.720556</td>\n",
       "      <td>-116.214722</td>\n",
       "      <td></td>\n",
       "      <td>Empire Polo Field</td>\n",
       "      <td>Tame Impala</td>\n",
       "      <td>[indie rock, psychedelic pop, psychedelic rock...</td>\n",
       "      <td>38</td>\n",
       "      <td>Festival</td>\n",
       "      <td>True</td>\n",
       "    </tr>\n",
       "    <tr>\n",
       "      <th>1</th>\n",
       "      <td>2013-04-19</td>\n",
       "      <td></td>\n",
       "      <td>[Tame Impala, Mona, Alt-J, Social Distortion, ...</td>\n",
       "      <td></td>\n",
       "      <td></td>\n",
       "      <td>Indio</td>\n",
       "      <td>CA</td>\n",
       "      <td>United States</td>\n",
       "      <td>33.678449</td>\n",
       "      <td>-116.237155</td>\n",
       "      <td></td>\n",
       "      <td>Empire Polo Club</td>\n",
       "      <td>Tame Impala</td>\n",
       "      <td>[indie rock, psychedelic pop, psychedelic rock...</td>\n",
       "      <td>95</td>\n",
       "      <td>Festival</td>\n",
       "      <td>True</td>\n",
       "    </tr>\n",
       "    <tr>\n",
       "      <th>2</th>\n",
       "      <td>2013-04-21</td>\n",
       "      <td></td>\n",
       "      <td>[Tame Impala, Vampire Weekend, Ladies Night, M...</td>\n",
       "      <td></td>\n",
       "      <td></td>\n",
       "      <td>Indio</td>\n",
       "      <td>CA</td>\n",
       "      <td>United States</td>\n",
       "      <td>33.720556</td>\n",
       "      <td>-116.214722</td>\n",
       "      <td></td>\n",
       "      <td>Empire Polo Field</td>\n",
       "      <td>Tame Impala</td>\n",
       "      <td>[indie rock, psychedelic pop, psychedelic rock...</td>\n",
       "      <td>42</td>\n",
       "      <td>Festival</td>\n",
       "      <td>True</td>\n",
       "    </tr>\n",
       "    <tr>\n",
       "      <th>3</th>\n",
       "      <td>2013-04-26</td>\n",
       "      <td></td>\n",
       "      <td>[Tame Impala, Midnight Juggernauts]</td>\n",
       "      <td></td>\n",
       "      <td></td>\n",
       "      <td>West Melbourne</td>\n",
       "      <td></td>\n",
       "      <td>Australia</td>\n",
       "      <td>-37.811260</td>\n",
       "      <td>144.946442</td>\n",
       "      <td></td>\n",
       "      <td>Festival Hall Melbourne</td>\n",
       "      <td>Tame Impala</td>\n",
       "      <td>[indie rock, psychedelic pop, psychedelic rock...</td>\n",
       "      <td>2</td>\n",
       "      <td>Concert</td>\n",
       "      <td>True</td>\n",
       "    </tr>\n",
       "    <tr>\n",
       "      <th>4</th>\n",
       "      <td>2013-05-02</td>\n",
       "      <td></td>\n",
       "      <td>[Tame Impala]</td>\n",
       "      <td></td>\n",
       "      <td></td>\n",
       "      <td>Sydney</td>\n",
       "      <td></td>\n",
       "      <td>Australia</td>\n",
       "      <td>-33.889832</td>\n",
       "      <td>151.223348</td>\n",
       "      <td></td>\n",
       "      <td>Hordern Pavilion</td>\n",
       "      <td>Tame Impala</td>\n",
       "      <td>[indie rock, psychedelic pop, psychedelic rock...</td>\n",
       "      <td>1</td>\n",
       "      <td>Concert</td>\n",
       "      <td>True</td>\n",
       "    </tr>\n",
       "  </tbody>\n",
       "</table>\n",
       "</div>"
      ],
      "text/plain": [
       "     datetime title                                             lineup  \\\n",
       "0  2013-04-14        [Tame Impala, The Airborne Toxic Event, Eric P...   \n",
       "1  2013-04-19        [Tame Impala, Mona, Alt-J, Social Distortion, ...   \n",
       "2  2013-04-21        [Tame Impala, Vampire Weekend, Ladies Night, M...   \n",
       "3  2013-04-26                      [Tame Impala, Midnight Juggernauts]   \n",
       "4  2013-05-02                                            [Tame Impala]   \n",
       "\n",
       "  festival_start_date festival_end_date            city region        country  \\\n",
       "0                                                 Indio     CA  United States   \n",
       "1                                                 Indio     CA  United States   \n",
       "2                                                 Indio     CA  United States   \n",
       "3                                        West Melbourne             Australia   \n",
       "4                                                Sydney             Australia   \n",
       "\n",
       "    latitude   longitude location                     name       artist  \\\n",
       "0  33.720556 -116.214722                 Empire Polo Field  Tame Impala   \n",
       "1  33.678449 -116.237155                  Empire Polo Club  Tame Impala   \n",
       "2  33.720556 -116.214722                 Empire Polo Field  Tame Impala   \n",
       "3 -37.811260  144.946442           Festival Hall Melbourne  Tame Impala   \n",
       "4 -33.889832  151.223348                  Hordern Pavilion  Tame Impala   \n",
       "\n",
       "                                    artist_topgenres  lineup_size  \\\n",
       "0  [indie rock, psychedelic pop, psychedelic rock...           38   \n",
       "1  [indie rock, psychedelic pop, psychedelic rock...           95   \n",
       "2  [indie rock, psychedelic pop, psychedelic rock...           42   \n",
       "3  [indie rock, psychedelic pop, psychedelic rock...            2   \n",
       "4  [indie rock, psychedelic pop, psychedelic rock...            1   \n",
       "\n",
       "  festival_flag  show_date  \n",
       "0      Festival       True  \n",
       "1      Festival       True  \n",
       "2      Festival       True  \n",
       "3       Concert       True  \n",
       "4       Concert       True  "
      ]
     },
     "execution_count": 11,
     "metadata": {},
     "output_type": "execute_result"
    }
   ],
   "source": [
    "test_df.head()"
   ]
  },
  {
   "cell_type": "code",
   "execution_count": 17,
   "id": "23f65ad9-4cd1-46c6-8bc5-70eaffc84039",
   "metadata": {},
   "outputs": [
    {
     "ename": "ValueError",
     "evalue": "either both or neither of x and y should be given",
     "output_type": "error",
     "traceback": [
      "\u001b[0;31m---------------------------------------------------------------------------\u001b[0m",
      "\u001b[0;31mValueError\u001b[0m                                Traceback (most recent call last)",
      "\u001b[0;32m/var/folders/gn/5sp8dyss1sg3ys8pj9042gkc0000gn/T/ipykernel_59064/3719695569.py\u001b[0m in \u001b[0;36m<module>\u001b[0;34m\u001b[0m\n\u001b[0;32m----> 1\u001b[0;31m \u001b[0mnp\u001b[0m\u001b[0;34m.\u001b[0m\u001b[0mwhere\u001b[0m\u001b[0;34m(\u001b[0m\u001b[0;34m'indie rock'\u001b[0m\u001b[0;34m,\u001b[0m \u001b[0mtest_df\u001b[0m\u001b[0;34m[\u001b[0m\u001b[0;34m'artist_topgenres'\u001b[0m\u001b[0;34m]\u001b[0m\u001b[0;34m)\u001b[0m\u001b[0;34m\u001b[0m\u001b[0;34m\u001b[0m\u001b[0m\n\u001b[0m",
      "\u001b[0;32m<__array_function__ internals>\u001b[0m in \u001b[0;36mwhere\u001b[0;34m(*args, **kwargs)\u001b[0m\n",
      "\u001b[0;31mValueError\u001b[0m: either both or neither of x and y should be given"
     ]
    }
   ],
   "source": [
    "np.where('indie rock', test_df['artist_topgenres'])"
   ]
  },
  {
   "cell_type": "code",
   "execution_count": null,
   "id": "75faa3a0-a5e3-4774-84cc-68f0b290df33",
   "metadata": {},
   "outputs": [],
   "source": [
    "genres = []\n",
    "\n",
    "for i in test_df['artist_topgenres']:\n",
    "    for z in i:\n",
    "        genres.append(z)\n",
    "        \n",
    "genres = list(set(genres))\n",
    "\n",
    "genres"
   ]
  },
  {
   "cell_type": "code",
   "execution_count": null,
   "id": "6fc3fb39-daf8-4751-93f2-ab22b4594163",
   "metadata": {},
   "outputs": [],
   "source": [
    "test_df['artist_topgenres'].str.contains('indie')"
   ]
  },
  {
   "cell_type": "code",
   "execution_count": null,
   "id": "c4f55fdf",
   "metadata": {
    "collapsed": false,
    "jupyter": {
     "outputs_hidden": false
    },
    "pycharm": {
     "name": "#%%\n"
    }
   "outputs": [],
   "source": [
    "from bokeh.plotting import figure, output_file, show\n",
    "from bokeh.tile_providers import get_provider, OSM #CARTODBPOSITRON_RETINA, WIKIMEDIA, ESRI_IMAGERY, STAMEN_TONER,\n",
    "from bokeh.models import ColumnDataSource, CDSView, BooleanFilter, CustomJS\n",
    "from bokeh.layouts import layout, row\n",
    "from bokeh.models import DateRangeSlider, Dropdown, Div\n",
    "from pyproj import Transformer\n",
    "#import xyzservices.providers as xyz\n",
    "\n",
    "# data transformation\n",
    "in_crs = 4326   # coordinates provided in EPSG:4326 format\n",
    "out_crs = 3857   # coordinates output in EPSG 3857 (Web Mercator) format\n",
    "\n",
    "transformer = Transformer.from_crs(in_crs, out_crs, always_xy=True)\n",
    "\n",
    "lons, lats = [], []\n",
    "for lon, lat in list(zip(test_df['longitude'], test_df['latitude'])):\n",
    "    x, y = transformer.transform(lon,lat)\n",
    "    lons.append(x)\n",
    "    lats.append(y)\n",
    "\n",
    "test_df['MercatorX'] = lons\n",
    "test_df['MercatorY'] = lats\n",
    "\n",
    "\n",
    "\n",
    "# visualization\n",
    "output_file(\"tile.html\")\n",
    "\n",
    "tile_provider = get_provider(OSM)\n",
    "tools = ['pan', 'zoom_in', 'zoom_out', 'wheel_zoom', 'box_zoom', 'lasso_select', 'tap', 'hover', 'reset', 'save']\n",
    "\n",
    "tooltips = [\n",
    "    (\"Date\", '@datetime'),\n",
    "    ('Location: ', '@city, @region'),\n",
    "    ('Country: ', '@country'),\n",
    "    ('Event Type: ', '@festival_flag'),\n",
    "    ('Lineup: ', '@lineup'),\n",
    "]\n",
    "\n",
    "source = ColumnDataSource(test_df)\n",
    "source2 = ColumnDataSource(test_df)\n",
    "\n",
    "show_dat = source.data['show_date']\n",
    "\n",
    "view = CDSView(source=source, filters=[BooleanFilter(show_dat)])\n",
    "\n",
    "date_start = test_df['datetime'].min()\n",
    "date_end = test_df['datetime'].max()\n",
    "\n",
    "# range bounds supplied in web mercator coordinates\n",
    "p = figure(x_range=(-18000000, 20000000), y_range=(-7500000, 11500000),\n",
    "           #x_axis_type='mercator', y_axis_type='mercator',\n",
    "           height=700, width=1500,\n",
    "           tools=tools, tooltips=tooltips, active_scroll='wheel_zoom')\n",
    "p.add_tile(tile_provider)\n",
    "p.circle(x='MercatorX', y='MercatorY', size=6, fill_color='dodgerblue', line_color='dodgerblue', fill_alpha=.3, source=source, view=view)\n",
    "p.axis.visible = False\n",
    "\n",
    "artist_menu = [artist]\n",
    "\n",
    "#artist_callback = CustomJS(args=dict(source=source, data_source=test_df), code=\"\"\"\n",
    "#    var data = data_source.data;\n",
    "#    var source_data = source.data;\n",
    "#    var artist = cb_obj.value;\n",
    "#//    var selected_species = cb_obj.value;\n",
    "#//    var length_data = data['length'];\n",
    "#//    var weight_data = data['weight'];\n",
    "#//    var length = source_data['length'];\n",
    "#//    length.length = 0;\n",
    "#//    var weight = source_data['weight'];\n",
    "#//    weight.length = 0;\n",
    "#    for (var i = 0; i < data.artist; i++) {\n",
    "#      if (selected_species.indexOf(common_name[i]) >= 0) {\n",
    "#       length.push(length_data[i]);\n",
    "#       weight.push(weight_data[i]);\n",
    "#    }\n",
    "#  }\n",
    "#  source.change.emit();\n",
    "#\"\"\")\n",
    "    \n",
    "date_slider = DateRangeSlider(\n",
    "    title=\" Adjust Date range\",\n",
    "    start=min(test_df['datetime']),\n",
    "    end=max(test_df['datetime']),\n",
    "    step=100,\n",
    "    value=(\n",
    "        min(test_df['datetime']), max(test_df['datetime'])\n",
    "    )\n",
    ")\n",
    "\n",
    "def update_slider(source=source, slider=date_slider, window=None):\n",
    "    data=source.data\n",
    "    v_start = cb_obj.get('value')[0]\n",
    "    v_end = cb_obj.get('value')[1]\n",
    "    mask = np.logical_and(data['datetime'] > v_start, data['datetime'] < v_end)\n",
    "    source.data['show_date'] = mask\n",
    "    source.trigger('change')\n",
    "    \n",
    "#date_slider.on_change('value', update_slider)\n",
    "\n",
    "\n",
    "artist_dropdown = Dropdown(label=\"Artist\", button_type=\"warning\", menu=artist_menu)\n",
    "artist_dropdown.js_on_event(\"menu_item_click\", CustomJS(code=\"\"\"\n",
    "                                                 \n",
    "var data = test_df;\n",
    "var source_data = source;\n",
    "var artist = cb_obj.value;\n",
    "for (i = 0; i < artist.length; i++) {\n",
    "\n",
    "source.change.emit()\n",
    "                                                 \"\"\"\n",
    "                                                ))\n",
    "\n",
    "country_menu = list(set(test_df['country']))\n",
    "country_dropdown = Dropdown(label=\"Country\", button_type=\"warning\", menu=country_menu)\n",
    "\n",
    "city_menu = list(set(test_df['city']))\n",
    "city_dropdown = Dropdown(label=\"City\", button_type=\"warning\", menu=city_menu)\n",
    "\n",
    "genres = []\n",
    "\n",
    "for i in test_df['artist_topgenres']:\n",
    "    for z in i:\n",
    "        genres.append(z)\n",
    "        \n",
    "genres = list(set(genres))\n",
    "\n",
    "genre_menu = genres\n",
    "genre_dropdown = Dropdown(label=\"Genre\", button_type=\"warning\", menu=genre_menu)\n",
    "\n",
    "text_header = Div(text='<H1>Live Music Across Time<H1>', width=300, height=60)\n",
    "\n",
    "# callback = CustomJS(args=dict(source=source, ref_source=source2), code=\"\"\"\n",
    "#     // print out array of date from, date to\n",
    "#     console.log(cb_obj.value);\n",
    "#\n",
    "#     // dates returned from slider are not at round intervals and include time;\n",
    "#     const date_from = Date.parse(new Date(cb_obj.value[0]).toDateString());\n",
    "#     const date_to = Date.parse(new Date(cb_obj.value[1]).toDateString());\n",
    "#     console.log(date_from, date_to)\n",
    "#\n",
    "#     // Creating the Data Sources\n",
    "#     const data = source.data;\n",
    "#     const ref = ref_source.data;\n",
    "#\n",
    "#     // Creating new Array and appending correctly parsed dates\n",
    "#     let new_ref = []\n",
    "#     ref[\"DateTime\"].forEach(elem => {\n",
    "#         elem = Date.parse(new Date(elem).toDateString());\n",
    "#         new_ref.push(elem);\n",
    "#         console.log(elem);\n",
    "#     })\n",
    "#\n",
    "#     // Creating Indices with new Array\n",
    "#     const from_pos = new_ref.indexOf(date_from);\n",
    "#     const to_pos = new_ref.indexOf(date_to);\n",
    "#\n",
    "#\n",
    "#     // re-create the source data from \"reference\"\n",
    "#     data[\"datetime\"] = ref[\"datetime\"].slice(from_pos, to_pos);\n",
    "#     source.change.emit();\n",
    "#     \"\"\")\n",
    "#\n",
    "date_slider = DateRangeSlider(\n",
    "    title=\" Adjust Date range\",\n",
    "    start=min(test_df['datetime']),\n",
    "    end=max(test_df['datetime']),\n",
    "    step=100,\n",
    "    value=(\n",
    "        min(test_df['datetime']), max(test_df['datetime'])\n",
    "    )\n",
    ")\n",
    "\n",
    "#date_slider.js_link(\"value\", p.x_range, \"start\", attr_selector=0)\n",
    "#date_slider.js_link(\"value\", p.x_range, \"end\", attr_selector=1)\n",
    "\n",
    "#date_slider.js_on_change('value', callback)\n",
    "\n",
    "# def update_plot(attr, old, new):\n",
    "#      datesel = datetime.fromtimestamp(new / 1000).strftime('%Y-%m-%d')\n",
    "#      new_data = test_df[test_df['date'] == datesel]\n",
    "#      source.data.update(ColumnDataSource(new_data).data)\n",
    "# date_slider.js_on_change('value', update_plot)\n",
    "\n",
    "#https://data-dive.com/cologne-bike-rentals-interactive-map-bokeh-dynamic-choropleth\n",
    "#https://stackoverflow.com/questions/55742220/converting-python-callback-function-to-javascript\n",
    "\n",
    "def update(source=source, slider=date_slider, window=None):\n",
    "    data=source.data\n",
    "    v_start = cb_obj.get('value')[0]\n",
    "    v_end = cb_obj.get('value')[1]\n",
    "    mask = np.logical_and(data['datetime'] > v_start, data['datetime'] < v_end)\n",
    "    source.data['show_date'] = mask\n",
    "    source.trigger('change')\n",
    "\n",
    "#date_slider.js_on_change('value', update)\n",
    "\n",
    "layout = layout([date_slider], [p])\n",
    "show(layout)\n",
    "# show(p)"
   ],
   "metadata": {
    "collapsed": false,
    "pycharm": {
     "name": "#%%\n"
    }
   }
  },
  {
   "cell_type": "code",
   "execution_count": 12,
   "outputs": [],
   "source": [],
   "metadata": {
    "collapsed": false,
    "pycharm": {
     "name": "#%%\n"
    }
   }
  },
  {
   "cell_type": "code",
   "execution_count": 12,
   "outputs": [],
   "source": [],
   "metadata": {
    "collapsed": false,
    "pycharm": {
     "name": "#%%\n"
    }
   }
  },
  {
   "cell_type": "code",
   "execution_count": 12,
   "outputs": [],
   "source": [],
   "metadata": {
    "collapsed": false,
    "pycharm": {
     "name": "#%%\n"
    }
   }
  },
  {
   "cell_type": "code",
   "execution_count": 12,
   "outputs": [],
   "source": [],
   "metadata": {
    "collapsed": false,
    "pycharm": {
     "name": "#%%\n"
    }
   }
  },
  {
   "cell_type": "code",
   "execution_count": 12,
   "outputs": [],
   "source": [],
   "metadata": {
    "collapsed": false,
    "pycharm": {
     "name": "#%%\n"
    }
   }
  },
  {
   "cell_type": "code",
   "execution_count": 12,
   "outputs": [],
   "source": [],
   "metadata": {
    "collapsed": false,
    "pycharm": {
     "name": "#%%\n"
    }
   }
  },
  {
   "cell_type": "code",
   "execution_count": 12,
   "outputs": [],
   "source": [],
   "metadata": {
    "collapsed": false,
    "pycharm": {
     "name": "#%%\n"
    }
   }
  },
  {
   "cell_type": "code",
   "execution_count": 33,
   "outputs": [
    {
     "data": {
      "text/html": "\n    <div class=\"bk-root\">\n        <a href=\"https://bokeh.org\" target=\"_blank\" class=\"bk-logo bk-logo-small bk-logo-notebook\"></a>\n        <span id=\"3298\">Loading BokehJS ...</span>\n    </div>"
     },
     "metadata": {},
     "output_type": "display_data"
    },
    {
     "data": {
      "application/javascript": "\n(function(root) {\n  function now() {\n    return new Date();\n  }\n\n  const force = true;\n\n  if (typeof root._bokeh_onload_callbacks === \"undefined\" || force === true) {\n    root._bokeh_onload_callbacks = [];\n    root._bokeh_is_loading = undefined;\n  }\n\n  const JS_MIME_TYPE = 'application/javascript';\n  const HTML_MIME_TYPE = 'text/html';\n  const EXEC_MIME_TYPE = 'application/vnd.bokehjs_exec.v0+json';\n  const CLASS_NAME = 'output_bokeh rendered_html';\n\n  /**\n   * Render data to the DOM node\n   */\n  function render(props, node) {\n    const script = document.createElement(\"script\");\n    node.appendChild(script);\n  }\n\n  /**\n   * Handle when an output is cleared or removed\n   */\n  function handleClearOutput(event, handle) {\n    const cell = handle.cell;\n\n    const id = cell.output_area._bokeh_element_id;\n    const server_id = cell.output_area._bokeh_server_id;\n    // Clean up Bokeh references\n    if (id != null && id in Bokeh.index) {\n      Bokeh.index[id].model.document.clear();\n      delete Bokeh.index[id];\n    }\n\n    if (server_id !== undefined) {\n      // Clean up Bokeh references\n      const cmd_clean = \"from bokeh.io.state import curstate; print(curstate().uuid_to_server['\" + server_id + \"'].get_sessions()[0].document.roots[0]._id)\";\n      cell.notebook.kernel.execute(cmd_clean, {\n        iopub: {\n          output: function(msg) {\n            const id = msg.content.text.trim();\n            if (id in Bokeh.index) {\n              Bokeh.index[id].model.document.clear();\n              delete Bokeh.index[id];\n            }\n          }\n        }\n      });\n      // Destroy server and session\n      const cmd_destroy = \"import bokeh.io.notebook as ion; ion.destroy_server('\" + server_id + \"')\";\n      cell.notebook.kernel.execute(cmd_destroy);\n    }\n  }\n\n  /**\n   * Handle when a new output is added\n   */\n  function handleAddOutput(event, handle) {\n    const output_area = handle.output_area;\n    const output = handle.output;\n\n    // limit handleAddOutput to display_data with EXEC_MIME_TYPE content only\n    if ((output.output_type != \"display_data\") || (!Object.prototype.hasOwnProperty.call(output.data, EXEC_MIME_TYPE))) {\n      return\n    }\n\n    const toinsert = output_area.element.find(\".\" + CLASS_NAME.split(' ')[0]);\n\n    if (output.metadata[EXEC_MIME_TYPE][\"id\"] !== undefined) {\n      toinsert[toinsert.length - 1].firstChild.textContent = output.data[JS_MIME_TYPE];\n      // store reference to embed id on output_area\n      output_area._bokeh_element_id = output.metadata[EXEC_MIME_TYPE][\"id\"];\n    }\n    if (output.metadata[EXEC_MIME_TYPE][\"server_id\"] !== undefined) {\n      const bk_div = document.createElement(\"div\");\n      bk_div.innerHTML = output.data[HTML_MIME_TYPE];\n      const script_attrs = bk_div.children[0].attributes;\n      for (let i = 0; i < script_attrs.length; i++) {\n        toinsert[toinsert.length - 1].firstChild.setAttribute(script_attrs[i].name, script_attrs[i].value);\n        toinsert[toinsert.length - 1].firstChild.textContent = bk_div.children[0].textContent\n      }\n      // store reference to server id on output_area\n      output_area._bokeh_server_id = output.metadata[EXEC_MIME_TYPE][\"server_id\"];\n    }\n  }\n\n  function register_renderer(events, OutputArea) {\n\n    function append_mime(data, metadata, element) {\n      // create a DOM node to render to\n      const toinsert = this.create_output_subarea(\n        metadata,\n        CLASS_NAME,\n        EXEC_MIME_TYPE\n      );\n      this.keyboard_manager.register_events(toinsert);\n      // Render to node\n      const props = {data: data, metadata: metadata[EXEC_MIME_TYPE]};\n      render(props, toinsert[toinsert.length - 1]);\n      element.append(toinsert);\n      return toinsert\n    }\n\n    /* Handle when an output is cleared or removed */\n    events.on('clear_output.CodeCell', handleClearOutput);\n    events.on('delete.Cell', handleClearOutput);\n\n    /* Handle when a new output is added */\n    events.on('output_added.OutputArea', handleAddOutput);\n\n    /**\n     * Register the mime type and append_mime function with output_area\n     */\n    OutputArea.prototype.register_mime_type(EXEC_MIME_TYPE, append_mime, {\n      /* Is output safe? */\n      safe: true,\n      /* Index of renderer in `output_area.display_order` */\n      index: 0\n    });\n  }\n\n  // register the mime type if in Jupyter Notebook environment and previously unregistered\n  if (root.Jupyter !== undefined) {\n    const events = require('base/js/events');\n    const OutputArea = require('notebook/js/outputarea').OutputArea;\n\n    if (OutputArea.prototype.mime_types().indexOf(EXEC_MIME_TYPE) == -1) {\n      register_renderer(events, OutputArea);\n    }\n  }\n\n  \n  if (typeof (root._bokeh_timeout) === \"undefined\" || force === true) {\n    root._bokeh_timeout = Date.now() + 5000;\n    root._bokeh_failed_load = false;\n  }\n\n  const NB_LOAD_WARNING = {'data': {'text/html':\n     \"<div style='background-color: #fdd'>\\n\"+\n     \"<p>\\n\"+\n     \"BokehJS does not appear to have successfully loaded. If loading BokehJS from CDN, this \\n\"+\n     \"may be due to a slow or bad network connection. Possible fixes:\\n\"+\n     \"</p>\\n\"+\n     \"<ul>\\n\"+\n     \"<li>re-rerun `output_notebook()` to attempt to load from CDN again, or</li>\\n\"+\n     \"<li>use INLINE resources instead, as so:</li>\\n\"+\n     \"</ul>\\n\"+\n     \"<code>\\n\"+\n     \"from bokeh.resources import INLINE\\n\"+\n     \"output_notebook(resources=INLINE)\\n\"+\n     \"</code>\\n\"+\n     \"</div>\"}};\n\n  function display_loaded() {\n    const el = document.getElementById(\"3298\");\n    if (el != null) {\n      el.textContent = \"BokehJS is loading...\";\n    }\n    if (root.Bokeh !== undefined) {\n      if (el != null) {\n        el.textContent = \"BokehJS \" + root.Bokeh.version + \" successfully loaded.\";\n      }\n    } else if (Date.now() < root._bokeh_timeout) {\n      setTimeout(display_loaded, 100)\n    }\n  }\n\n\n  function run_callbacks() {\n    try {\n      root._bokeh_onload_callbacks.forEach(function(callback) {\n        if (callback != null)\n          callback();\n      });\n    } finally {\n      delete root._bokeh_onload_callbacks\n    }\n    console.debug(\"Bokeh: all callbacks have finished\");\n  }\n\n  function load_libs(css_urls, js_urls, callback) {\n    if (css_urls == null) css_urls = [];\n    if (js_urls == null) js_urls = [];\n\n    root._bokeh_onload_callbacks.push(callback);\n    if (root._bokeh_is_loading > 0) {\n      console.debug(\"Bokeh: BokehJS is being loaded, scheduling callback at\", now());\n      return null;\n    }\n    if (js_urls == null || js_urls.length === 0) {\n      run_callbacks();\n      return null;\n    }\n    console.debug(\"Bokeh: BokehJS not loaded, scheduling load and callback at\", now());\n    root._bokeh_is_loading = css_urls.length + js_urls.length;\n\n    function on_load() {\n      root._bokeh_is_loading--;\n      if (root._bokeh_is_loading === 0) {\n        console.debug(\"Bokeh: all BokehJS libraries/stylesheets loaded\");\n        run_callbacks()\n      }\n    }\n\n    function on_error(url) {\n      console.error(\"failed to load \" + url);\n    }\n\n    for (let i = 0; i < css_urls.length; i++) {\n      const url = css_urls[i];\n      const element = document.createElement(\"link\");\n      element.onload = on_load;\n      element.onerror = on_error.bind(null, url);\n      element.rel = \"stylesheet\";\n      element.type = \"text/css\";\n      element.href = url;\n      console.debug(\"Bokeh: injecting link tag for BokehJS stylesheet: \", url);\n      document.body.appendChild(element);\n    }\n\n    for (let i = 0; i < js_urls.length; i++) {\n      const url = js_urls[i];\n      const element = document.createElement('script');\n      element.onload = on_load;\n      element.onerror = on_error.bind(null, url);\n      element.async = false;\n      element.src = url;\n      console.debug(\"Bokeh: injecting script tag for BokehJS library: \", url);\n      document.head.appendChild(element);\n    }\n  };\n\n  function inject_raw_css(css) {\n    const element = document.createElement(\"style\");\n    element.appendChild(document.createTextNode(css));\n    document.body.appendChild(element);\n  }\n\n  \n  const js_urls = [\"https://cdn.bokeh.org/bokeh/release/bokeh-2.4.2.min.js\", \"https://cdn.bokeh.org/bokeh/release/bokeh-gl-2.4.2.min.js\", \"https://cdn.bokeh.org/bokeh/release/bokeh-widgets-2.4.2.min.js\", \"https://cdn.bokeh.org/bokeh/release/bokeh-tables-2.4.2.min.js\", \"https://cdn.bokeh.org/bokeh/release/bokeh-mathjax-2.4.2.min.js\"];\n  const css_urls = [];\n  \n\n  const inline_js = [\n    function(Bokeh) {\n      Bokeh.set_log_level(\"info\");\n    },\n    function(Bokeh) {\n    \n    \n    }\n  ];\n\n  function run_inline_js() {\n    \n    if (root.Bokeh !== undefined || force === true) {\n      \n    for (let i = 0; i < inline_js.length; i++) {\n      inline_js[i].call(root, root.Bokeh);\n    }\n    if (force === true) {\n        display_loaded();\n      }} else if (Date.now() < root._bokeh_timeout) {\n      setTimeout(run_inline_js, 100);\n    } else if (!root._bokeh_failed_load) {\n      console.log(\"Bokeh: BokehJS failed to load within specified timeout.\");\n      root._bokeh_failed_load = true;\n    } else if (force !== true) {\n      const cell = $(document.getElementById(\"3298\")).parents('.cell').data().cell;\n      cell.output_area.append_execute_result(NB_LOAD_WARNING)\n    }\n\n  }\n\n  if (root._bokeh_is_loading === 0) {\n    console.debug(\"Bokeh: BokehJS loaded, going straight to plotting\");\n    run_inline_js();\n  } else {\n    load_libs(css_urls, js_urls, function() {\n      console.debug(\"Bokeh: BokehJS plotting callback run at\", now());\n      run_inline_js();\n    });\n  }\n}(window));",
      "application/vnd.bokehjs_load.v0+json": "\n(function(root) {\n  function now() {\n    return new Date();\n  }\n\n  const force = true;\n\n  if (typeof root._bokeh_onload_callbacks === \"undefined\" || force === true) {\n    root._bokeh_onload_callbacks = [];\n    root._bokeh_is_loading = undefined;\n  }\n\n  \n\n  \n  if (typeof (root._bokeh_timeout) === \"undefined\" || force === true) {\n    root._bokeh_timeout = Date.now() + 5000;\n    root._bokeh_failed_load = false;\n  }\n\n  const NB_LOAD_WARNING = {'data': {'text/html':\n     \"<div style='background-color: #fdd'>\\n\"+\n     \"<p>\\n\"+\n     \"BokehJS does not appear to have successfully loaded. If loading BokehJS from CDN, this \\n\"+\n     \"may be due to a slow or bad network connection. Possible fixes:\\n\"+\n     \"</p>\\n\"+\n     \"<ul>\\n\"+\n     \"<li>re-rerun `output_notebook()` to attempt to load from CDN again, or</li>\\n\"+\n     \"<li>use INLINE resources instead, as so:</li>\\n\"+\n     \"</ul>\\n\"+\n     \"<code>\\n\"+\n     \"from bokeh.resources import INLINE\\n\"+\n     \"output_notebook(resources=INLINE)\\n\"+\n     \"</code>\\n\"+\n     \"</div>\"}};\n\n  function display_loaded() {\n    const el = document.getElementById(\"3298\");\n    if (el != null) {\n      el.textContent = \"BokehJS is loading...\";\n    }\n    if (root.Bokeh !== undefined) {\n      if (el != null) {\n        el.textContent = \"BokehJS \" + root.Bokeh.version + \" successfully loaded.\";\n      }\n    } else if (Date.now() < root._bokeh_timeout) {\n      setTimeout(display_loaded, 100)\n    }\n  }\n\n\n  function run_callbacks() {\n    try {\n      root._bokeh_onload_callbacks.forEach(function(callback) {\n        if (callback != null)\n          callback();\n      });\n    } finally {\n      delete root._bokeh_onload_callbacks\n    }\n    console.debug(\"Bokeh: all callbacks have finished\");\n  }\n\n  function load_libs(css_urls, js_urls, callback) {\n    if (css_urls == null) css_urls = [];\n    if (js_urls == null) js_urls = [];\n\n    root._bokeh_onload_callbacks.push(callback);\n    if (root._bokeh_is_loading > 0) {\n      console.debug(\"Bokeh: BokehJS is being loaded, scheduling callback at\", now());\n      return null;\n    }\n    if (js_urls == null || js_urls.length === 0) {\n      run_callbacks();\n      return null;\n    }\n    console.debug(\"Bokeh: BokehJS not loaded, scheduling load and callback at\", now());\n    root._bokeh_is_loading = css_urls.length + js_urls.length;\n\n    function on_load() {\n      root._bokeh_is_loading--;\n      if (root._bokeh_is_loading === 0) {\n        console.debug(\"Bokeh: all BokehJS libraries/stylesheets loaded\");\n        run_callbacks()\n      }\n    }\n\n    function on_error(url) {\n      console.error(\"failed to load \" + url);\n    }\n\n    for (let i = 0; i < css_urls.length; i++) {\n      const url = css_urls[i];\n      const element = document.createElement(\"link\");\n      element.onload = on_load;\n      element.onerror = on_error.bind(null, url);\n      element.rel = \"stylesheet\";\n      element.type = \"text/css\";\n      element.href = url;\n      console.debug(\"Bokeh: injecting link tag for BokehJS stylesheet: \", url);\n      document.body.appendChild(element);\n    }\n\n    for (let i = 0; i < js_urls.length; i++) {\n      const url = js_urls[i];\n      const element = document.createElement('script');\n      element.onload = on_load;\n      element.onerror = on_error.bind(null, url);\n      element.async = false;\n      element.src = url;\n      console.debug(\"Bokeh: injecting script tag for BokehJS library: \", url);\n      document.head.appendChild(element);\n    }\n  };\n\n  function inject_raw_css(css) {\n    const element = document.createElement(\"style\");\n    element.appendChild(document.createTextNode(css));\n    document.body.appendChild(element);\n  }\n\n  \n  const js_urls = [\"https://cdn.bokeh.org/bokeh/release/bokeh-2.4.2.min.js\", \"https://cdn.bokeh.org/bokeh/release/bokeh-gl-2.4.2.min.js\", \"https://cdn.bokeh.org/bokeh/release/bokeh-widgets-2.4.2.min.js\", \"https://cdn.bokeh.org/bokeh/release/bokeh-tables-2.4.2.min.js\", \"https://cdn.bokeh.org/bokeh/release/bokeh-mathjax-2.4.2.min.js\"];\n  const css_urls = [];\n  \n\n  const inline_js = [\n    function(Bokeh) {\n      Bokeh.set_log_level(\"info\");\n    },\n    function(Bokeh) {\n    \n    \n    }\n  ];\n\n  function run_inline_js() {\n    \n    if (root.Bokeh !== undefined || force === true) {\n      \n    for (let i = 0; i < inline_js.length; i++) {\n      inline_js[i].call(root, root.Bokeh);\n    }\n    if (force === true) {\n        display_loaded();\n      }} else if (Date.now() < root._bokeh_timeout) {\n      setTimeout(run_inline_js, 100);\n    } else if (!root._bokeh_failed_load) {\n      console.log(\"Bokeh: BokehJS failed to load within specified timeout.\");\n      root._bokeh_failed_load = true;\n    } else if (force !== true) {\n      const cell = $(document.getElementById(\"3298\")).parents('.cell').data().cell;\n      cell.output_area.append_execute_result(NB_LOAD_WARNING)\n    }\n\n  }\n\n  if (root._bokeh_is_loading === 0) {\n    console.debug(\"Bokeh: BokehJS loaded, going straight to plotting\");\n    run_inline_js();\n  } else {\n    load_libs(css_urls, js_urls, function() {\n      console.debug(\"Bokeh: BokehJS plotting callback run at\", now());\n      run_inline_js();\n    });\n  }\n}(window));"
     },
     "metadata": {},
     "output_type": "display_data"
    },
    {
     "name": "stderr",
     "output_type": "stream",
     "text": [
      "WARNING:bokeh.embed.util:\n",
      "You are generating standalone HTML/JS output, but trying to use real Python\n",
      "callbacks (i.e. with on_change or on_event). This combination cannot work.\n",
      "\n",
      "Only JavaScript callbacks may be used with standalone output. For more\n",
      "information on JavaScript callbacks with Bokeh, see:\n",
      "\n",
      "    https://docs.bokeh.org/en/latest/docs/user_guide/interaction/callbacks.html\n",
      "\n",
      "Alternatively, to use real Python callbacks, a Bokeh server application may\n",
      "be used. For more information on building and running Bokeh applications, see:\n",
      "\n",
      "    https://docs.bokeh.org/en/latest/docs/user_guide/server.html\n",
      "\n"
     ]
    },
    {
     "data": {
      "text/html": "\n\n\n\n\n\n  <div class=\"bk-root\" id=\"98b6a455-66c6-442c-ace5-d77b003ed513\" data-root-id=\"3362\"></div>\n"
     },
     "metadata": {},
     "output_type": "display_data"
    },
    {
     "data": {
      "application/javascript": "(function(root) {\n  function embed_document(root) {\n    \n  const docs_json = {\"d19f5f11-9883-43a9-ad65-f36029a203c4\":{\"defs\":[],\"roots\":{\"references\":[{\"attributes\":{\"children\":[{\"id\":\"3360\"},{\"id\":\"3361\"}]},\"id\":\"3362\",\"type\":\"Column\"},{\"attributes\":{\"below\":[{\"id\":\"3313\"}],\"center\":[{\"id\":\"3320\"},{\"id\":\"3328\"}],\"height\":700,\"left\":[{\"id\":\"3321\"}],\"renderers\":[{\"id\":\"3352\"},{\"id\":\"3358\"}],\"title\":{\"id\":\"3424\"},\"toolbar\":{\"id\":\"3341\"},\"width\":1500,\"x_range\":{\"id\":\"3305\"},\"x_scale\":{\"id\":\"3309\"},\"y_range\":{\"id\":\"3307\"},\"y_scale\":{\"id\":\"3311\"}},\"id\":\"3304\",\"subtype\":\"Figure\",\"type\":\"Plot\"},{\"attributes\":{},\"id\":\"3338\",\"type\":\"SaveTool\"},{\"attributes\":{\"axis\":{\"id\":\"3321\"},\"coordinates\":null,\"dimension\":1,\"group\":null,\"ticker\":null},\"id\":\"3328\",\"type\":\"Grid\"},{\"attributes\":{\"end\":1646784000000.0,\"start\":1365897600000.0,\"title\":\" Adjust Date range\",\"value\":[1365897600000.0,1646784000000.0]},\"id\":\"3359\",\"type\":\"DateRangeSlider\"},{\"attributes\":{\"overlay\":{\"id\":\"3340\"}},\"id\":\"3334\",\"type\":\"LassoSelectTool\"},{\"attributes\":{\"coordinates\":null,\"fill_alpha\":0.5,\"fill_color\":\"lightgrey\",\"group\":null,\"level\":\"overlay\",\"line_alpha\":1.0,\"line_color\":\"black\",\"line_dash\":[4,4],\"line_width\":2,\"syncable\":false,\"xs_units\":\"screen\",\"ys_units\":\"screen\"},\"id\":\"3340\",\"type\":\"PolyAnnotation\"},{\"attributes\":{\"active_scroll\":{\"id\":\"3332\"},\"tools\":[{\"id\":\"3329\"},{\"id\":\"3330\"},{\"id\":\"3331\"},{\"id\":\"3332\"},{\"id\":\"3333\"},{\"id\":\"3334\"},{\"id\":\"3335\"},{\"id\":\"3336\"},{\"id\":\"3337\"},{\"id\":\"3338\"}]},\"id\":\"3341\",\"type\":\"Toolbar\"},{\"attributes\":{\"attribution\":\"&copy; <a href=\\\"https://www.openstreetmap.org/copyright\\\">OpenStreetMap</a> contributors\",\"url\":\"https://c.tile.openstreetmap.org/{Z}/{X}/{Y}.png\"},\"id\":\"3299\",\"type\":\"WMTSTileSource\"},{\"attributes\":{},\"id\":\"3331\",\"type\":\"ZoomOutTool\"},{\"attributes\":{\"coordinates\":null,\"group\":null},\"id\":\"3424\",\"type\":\"Title\"},{\"attributes\":{\"booleans\":[true,true,true,true,true,true,true,true,true,true,true,true,true,true,true,true,true,true,true,true,true,true,true,true,true,true,true,true,true,true,true,true,true,true,true,true,true,true,true,true,true,true,true,true,true,true,true,true,true,true,true,true,true,true,true,true,true,true,true,true,true,true,true,true,true,true,true,true,true,true,true,true,true,true,true,true,true,true,true,true,true,true,true,true,true,true,true,true,true,true,true,true,true,true,true,true,true,true,true,true,true,true,true,true,true,true,true,true,true,true,true,true,true,true,true,true,true,true,true,true,true,true,true,true,true,true,true,true,true,true,true,true,true,true,true,true,true,true,true,true,true,true,true,true,true,true,true,true,true,true,true,true,true,true,true,true,true,true,true,true,true,true,true,true,true,true,true,true,true,true,true,true,true,true,true,true,true,true,true,true,true,true,true,true,true,true,true,true,true,true,true,true,true,true,true,true,true,true,true,true,true,true,true,true,true,true,true,true,true,true,true,true,true,true,true,true,true,true,true,true,true,true,true,true,true,true,true,true,true,true,true,true,true,true,true,true,true,true,true,true,true,true,true,true,true,true,true,true,true,true,true,true,true,true,true,true,true,true,true,true,true,true,true,true,true,true,true,true,true,true,true,true,true,true,true,true,true,true,true,true,true,true,true,true,true,true,true,true,true,true,true,true,true,true,true,true,true,true,true,true,true,true,true,true,true,true,true,true,true,true,true,true,true,true,true,true,true,true]},\"id\":\"3302\",\"type\":\"BooleanFilter\"},{\"attributes\":{\"fill_alpha\":{\"value\":0.1},\"fill_color\":{\"value\":\"dodgerblue\"},\"hatch_alpha\":{\"value\":0.1},\"line_alpha\":{\"value\":0.1},\"line_color\":{\"value\":\"dodgerblue\"},\"size\":{\"value\":6},\"x\":{\"field\":\"MercatorX\"},\"y\":{\"field\":\"MercatorY\"}},\"id\":\"3356\",\"type\":\"Circle\"},{\"attributes\":{\"dimension\":\"lon\"},\"id\":\"3316\",\"type\":\"MercatorTickFormatter\"},{\"attributes\":{\"coordinates\":null,\"formatter\":{\"id\":\"3316\"},\"group\":null,\"major_label_policy\":{\"id\":\"3431\"},\"ticker\":{\"id\":\"3314\"}},\"id\":\"3313\",\"type\":\"MercatorAxis\"},{\"attributes\":{},\"id\":\"3432\",\"type\":\"UnionRenderers\"},{\"attributes\":{},\"id\":\"3311\",\"type\":\"LinearScale\"},{\"attributes\":{\"fill_alpha\":{\"value\":0.2},\"fill_color\":{\"value\":\"dodgerblue\"},\"hatch_alpha\":{\"value\":0.2},\"line_alpha\":{\"value\":0.2},\"line_color\":{\"value\":\"dodgerblue\"},\"size\":{\"value\":6},\"x\":{\"field\":\"MercatorX\"},\"y\":{\"field\":\"MercatorY\"}},\"id\":\"3357\",\"type\":\"Circle\"},{\"attributes\":{\"dimension\":\"lat\"},\"id\":\"3322\",\"type\":\"MercatorTicker\"},{\"attributes\":{},\"id\":\"3431\",\"type\":\"AllLabels\"},{\"attributes\":{\"filters\":[{\"id\":\"3302\"}],\"source\":{\"id\":\"3300\"}},\"id\":\"3303\",\"type\":\"CDSView\"},{\"attributes\":{\"overlay\":{\"id\":\"3339\"}},\"id\":\"3333\",\"type\":\"BoxZoomTool\"},{\"attributes\":{\"end\":20000000,\"start\":-18000000},\"id\":\"3305\",\"type\":\"Range1d\"},{\"attributes\":{},\"id\":\"3330\",\"type\":\"ZoomInTool\"},{\"attributes\":{\"coordinates\":null,\"group\":null,\"tile_source\":{\"id\":\"3299\"}},\"id\":\"3352\",\"type\":\"TileRenderer\"},{\"attributes\":{\"coordinates\":null,\"formatter\":{\"id\":\"3324\"},\"group\":null,\"major_label_policy\":{\"id\":\"3428\"},\"ticker\":{\"id\":\"3322\"}},\"id\":\"3321\",\"type\":\"MercatorAxis\"},{\"attributes\":{},\"id\":\"3332\",\"type\":\"WheelZoomTool\"},{\"attributes\":{\"axis\":{\"id\":\"3313\"},\"coordinates\":null,\"group\":null,\"ticker\":null},\"id\":\"3320\",\"type\":\"Grid\"},{\"attributes\":{\"data\":{\"MercatorX\":{\"__ndarray__\":\"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\",\"dtype\":\"float64\",\"order\":\"little\",\"shape\":[318]},\"MercatorY\":{\"__ndarray__\":\"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\",\"dtype\":\"float64\",\"order\":\"little\",\"shape\":[318]},\"artist\":[\"Tame Impala\",\"Tame Impala\",\"Tame Impala\",\"Tame Impala\",\"Tame Impala\",\"Tame Impala\",\"Tame Impala\",\"Tame Impala\",\"Tame Impala\",\"Tame Impala\",\"Tame Impala\",\"Tame Impala\",\"Tame Impala\",\"Tame Impala\",\"Tame Impala\",\"Tame Impala\",\"Tame Impala\",\"Tame Impala\",\"Tame Impala\",\"Tame Impala\",\"Tame Impala\",\"Tame Impala\",\"Tame Impala\",\"Tame Impala\",\"Tame Impala\",\"Tame Impala\",\"Tame Impala\",\"Tame Impala\",\"Tame Impala\",\"Tame Impala\",\"Tame Impala\",\"Tame Impala\",\"Tame Impala\",\"Tame Impala\",\"Tame Impala\",\"Tame Impala\",\"Tame Impala\",\"Tame Impala\",\"Tame Impala\",\"Tame Impala\",\"Tame Impala\",\"Tame Impala\",\"Tame Impala\",\"Tame Impala\",\"Tame Impala\",\"Tame Impala\",\"Tame Impala\",\"Tame Impala\",\"Tame Impala\",\"Tame Impala\",\"Tame Impala\",\"Tame Impala\",\"Tame Impala\",\"Tame Impala\",\"Tame Impala\",\"Tame Impala\",\"Tame Impala\",\"Tame Impala\",\"Tame Impala\",\"Tame Impala\",\"Tame Impala\",\"Tame Impala\",\"Tame Impala\",\"Tame Impala\",\"Tame Impala\",\"Tame Impala\",\"Tame Impala\",\"Tame Impala\",\"Tame Impala\",\"Tame Impala\",\"Tame Impala\",\"Tame Impala\",\"Tame Impala\",\"Tame Impala\",\"Tame Impala\",\"Tame Impala\",\"Tame Impala\",\"Tame Impala\",\"Tame Impala\",\"Tame Impala\",\"Tame Impala\",\"Tame Impala\",\"Tame Impala\",\"Tame Impala\",\"Tame Impala\",\"Tame Impala\",\"Tame Impala\",\"Tame Impala\",\"Tame Impala\",\"Tame Impala\",\"Tame Impala\",\"Tame Impala\",\"Tame Impala\",\"Tame Impala\",\"Tame Impala\",\"Tame Impala\",\"Tame Impala\",\"Tame Impala\",\"Tame Impala\",\"Tame Impala\",\"Tame Impala\",\"Tame Impala\",\"Tame Impala\",\"Tame Impala\",\"Tame Impala\",\"Tame Impala\",\"Tame Impala\",\"Tame Impala\",\"Tame Impala\",\"Tame Impala\",\"Tame Impala\",\"Tame Impala\",\"Tame Impala\",\"Tame Impala\",\"Tame Impala\",\"Tame Impala\",\"Tame Impala\",\"Tame Impala\",\"Tame Impala\",\"Tame Impala\",\"Tame Impala\",\"Tame Impala\",\"Tame Impala\",\"Tame Impala\",\"Tame Impala\",\"Tame Impala\",\"Tame Impala\",\"Tame Impala\",\"Tame Impala\",\"Tame Impala\",\"Tame Impala\",\"Tame Impala\",\"Tame Impala\",\"Tame Impala\",\"Tame Impala\",\"Tame Impala\",\"Tame Impala\",\"Tame Impala\",\"Tame Impala\",\"Tame Impala\",\"Tame Impala\",\"Tame Impala\",\"Tame Impala\",\"Tame Impala\",\"Tame Impala\",\"Tame Impala\",\"Tame Impala\",\"Tame Impala\",\"Tame Impala\",\"Tame Impala\",\"Tame Impala\",\"Tame Impala\",\"Tame Impala\",\"Tame Impala\",\"Tame Impala\",\"Tame Impala\",\"Tame Impala\",\"Tame Impala\",\"Tame Impala\",\"Tame Impala\",\"Tame Impala\",\"Tame Impala\",\"Tame Impala\",\"Tame Impala\",\"Tame Impala\",\"Tame Impala\",\"Tame Impala\",\"Tame Impala\",\"Tame Impala\",\"Tame Impala\",\"Tame Impala\",\"Tame Impala\",\"Tame Impala\",\"Tame Impala\",\"Tame Impala\",\"Tame Impala\",\"Tame Impala\",\"Tame Impala\",\"Tame Impala\",\"Tame Impala\",\"Tame Impala\",\"Tame Impala\",\"Tame Impala\",\"Tame Impala\",\"Tame Impala\",\"Tame Impala\",\"Tame Impala\",\"Tame Impala\",\"Tame Impala\",\"Tame Impala\",\"Tame Impala\",\"Tame Impala\",\"Tame Impala\",\"Tame Impala\",\"Tame Impala\",\"Tame Impala\",\"Tame Impala\",\"Tame Impala\",\"Tame Impala\",\"Tame Impala\",\"Tame Impala\",\"Tame Impala\",\"Tame Impala\",\"Tame Impala\",\"Tame Impala\",\"Tame Impala\",\"Tame Impala\",\"Tame Impala\",\"Tame Impala\",\"Tame Impala\",\"Tame Impala\",\"Tame Impala\",\"Tame Impala\",\"Tame Impala\",\"Tame Impala\",\"Tame Impala\",\"Tame Impala\",\"Tame Impala\",\"Tame Impala\",\"Tame Impala\",\"Tame Impala\",\"Tame Impala\",\"Tame Impala\",\"Tame Impala\",\"Tame Impala\",\"Tame Impala\",\"Tame Impala\",\"Tame Impala\",\"Tame Impala\",\"Tame Impala\",\"Tame Impala\",\"Tame Impala\",\"Tame Impala\",\"Tame Impala\",\"Tame Impala\",\"Tame Impala\",\"Tame Impala\",\"Tame Impala\",\"Tame Impala\",\"Tame Impala\",\"Tame Impala\",\"Tame Impala\",\"Tame Impala\",\"Tame Impala\",\"Tame Impala\",\"Tame Impala\",\"Tame Impala\",\"Tame Impala\",\"Tame Impala\",\"Tame Impala\",\"Tame Impala\",\"Tame Impala\",\"Tame Impala\",\"Tame Impala\",\"Tame Impala\",\"Tame Impala\",\"Tame Impala\",\"Tame Impala\",\"Tame Impala\",\"Tame Impala\",\"Tame Impala\",\"Tame Impala\",\"Tame Impala\",\"Tame Impala\",\"Tame Impala\",\"Tame Impala\",\"Tame Impala\",\"Tame Impala\",\"Tame Impala\",\"Tame Impala\",\"Tame Impala\",\"Tame Impala\",\"Tame Impala\",\"Tame Impala\",\"Tame Impala\",\"Tame Impala\",\"Tame Impala\",\"Tame Impala\",\"Tame Impala\",\"Tame Impala\",\"Tame Impala\",\"Tame Impala\",\"Tame Impala\",\"Tame Impala\",\"Tame Impala\",\"Tame Impala\",\"Tame Impala\",\"Tame Impala\",\"Tame Impala\",\"Tame Impala\",\"Tame Impala\",\"Tame Impala\",\"Tame Impala\",\"Tame Impala\",\"Tame Impala\",\"Tame Impala\",\"Tame Impala\",\"Tame Impala\",\"Tame Impala\",\"Tame Impala\",\"Tame Impala\",\"Tame Impala\",\"Tame Impala\",\"Tame Impala\",\"Tame Impala\",\"Tame Impala\",\"Tame Impala\",\"Tame Impala\",\"Tame Impala\",\"Tame Impala\",\"Tame Impala\",\"Tame Impala\",\"Tame Impala\",\"Tame Impala\",\"Tame Impala\",\"Tame Impala\",\"Tame Impala\",\"Tame Impala\"],\"artist_topgenres\":[[\"indie rock\",\"psychedelic pop\",\"psychedelic rock\",\"synthpop\",\"neo-psychedelia\"],[\"indie rock\",\"psychedelic pop\",\"psychedelic rock\",\"synthpop\",\"neo-psychedelia\"],[\"indie rock\",\"psychedelic pop\",\"psychedelic rock\",\"synthpop\",\"neo-psychedelia\"],[\"indie rock\",\"psychedelic pop\",\"psychedelic rock\",\"synthpop\",\"neo-psychedelia\"],[\"indie rock\",\"psychedelic pop\",\"psychedelic rock\",\"synthpop\",\"neo-psychedelia\"],[\"indie rock\",\"psychedelic pop\",\"psychedelic rock\",\"synthpop\",\"neo-psychedelia\"],[\"indie rock\",\"psychedelic pop\",\"psychedelic rock\",\"synthpop\",\"neo-psychedelia\"],[\"indie rock\",\"psychedelic pop\",\"psychedelic rock\",\"synthpop\",\"neo-psychedelia\"],[\"indie rock\",\"psychedelic pop\",\"psychedelic rock\",\"synthpop\",\"neo-psychedelia\"],[\"indie rock\",\"psychedelic pop\",\"psychedelic rock\",\"synthpop\",\"neo-psychedelia\"],[\"indie rock\",\"psychedelic pop\",\"psychedelic rock\",\"synthpop\",\"neo-psychedelia\"],[\"indie rock\",\"psychedelic pop\",\"psychedelic rock\",\"synthpop\",\"neo-psychedelia\"],[\"indie rock\",\"psychedelic pop\",\"psychedelic rock\",\"synthpop\",\"neo-psychedelia\"],[\"indie rock\",\"psychedelic pop\",\"psychedelic rock\",\"synthpop\",\"neo-psychedelia\"],[\"indie rock\",\"psychedelic pop\",\"psychedelic rock\",\"synthpop\",\"neo-psychedelia\"],[\"indie rock\",\"psychedelic pop\",\"psychedelic rock\",\"synthpop\",\"neo-psychedelia\"],[\"indie rock\",\"psychedelic pop\",\"psychedelic rock\",\"synthpop\",\"neo-psychedelia\"],[\"indie rock\",\"psychedelic pop\",\"psychedelic rock\",\"synthpop\",\"neo-psychedelia\"],[\"indie rock\",\"psychedelic pop\",\"psychedelic rock\",\"synthpop\",\"neo-psychedelia\"],[\"indie rock\",\"psychedelic pop\",\"psychedelic rock\",\"synthpop\",\"neo-psychedelia\"],[\"indie rock\",\"psychedelic pop\",\"psychedelic rock\",\"synthpop\",\"neo-psychedelia\"],[\"indie rock\",\"psychedelic pop\",\"psychedelic rock\",\"synthpop\",\"neo-psychedelia\"],[\"indie rock\",\"psychedelic pop\",\"psychedelic rock\",\"synthpop\",\"neo-psychedelia\"],[\"indie rock\",\"psychedelic pop\",\"psychedelic rock\",\"synthpop\",\"neo-psychedelia\"],[\"indie rock\",\"psychedelic pop\",\"psychedelic rock\",\"synthpop\",\"neo-psychedelia\"],[\"indie rock\",\"psychedelic pop\",\"psychedelic rock\",\"synthpop\",\"neo-psychedelia\"],[\"indie rock\",\"psychedelic pop\",\"psychedelic rock\",\"synthpop\",\"neo-psychedelia\"],[\"indie rock\",\"psychedelic pop\",\"psychedelic rock\",\"synthpop\",\"neo-psychedelia\"],[\"indie rock\",\"psychedelic pop\",\"psychedelic rock\",\"synthpop\",\"neo-psychedelia\"],[\"indie rock\",\"psychedelic pop\",\"psychedelic rock\",\"synthpop\",\"neo-psychedelia\"],[\"indie rock\",\"psychedelic pop\",\"psychedelic rock\",\"synthpop\",\"neo-psychedelia\"],[\"indie rock\",\"psychedelic pop\",\"psychedelic rock\",\"synthpop\",\"neo-psychedelia\"],[\"indie rock\",\"psychedelic pop\",\"psychedelic rock\",\"synthpop\",\"neo-psychedelia\"],[\"indie rock\",\"psychedelic pop\",\"psychedelic rock\",\"synthpop\",\"neo-psychedelia\"],[\"indie rock\",\"psychedelic pop\",\"psychedelic rock\",\"synthpop\",\"neo-psychedelia\"],[\"indie rock\",\"psychedelic pop\",\"psychedelic rock\",\"synthpop\",\"neo-psychedelia\"],[\"indie rock\",\"psychedelic pop\",\"psychedelic rock\",\"synthpop\",\"neo-psychedelia\"],[\"indie rock\",\"psychedelic pop\",\"psychedelic rock\",\"synthpop\",\"neo-psychedelia\"],[\"indie rock\",\"psychedelic pop\",\"psychedelic rock\",\"synthpop\",\"neo-psychedelia\"],[\"indie rock\",\"psychedelic pop\",\"psychedelic rock\",\"synthpop\",\"neo-psychedelia\"],[\"indie rock\",\"psychedelic pop\",\"psychedelic rock\",\"synthpop\",\"neo-psychedelia\"],[\"indie rock\",\"psychedelic pop\",\"psychedelic rock\",\"synthpop\",\"neo-psychedelia\"],[\"indie rock\",\"psychedelic pop\",\"psychedelic rock\",\"synthpop\",\"neo-psychedelia\"],[\"indie rock\",\"psychedelic pop\",\"psychedelic rock\",\"synthpop\",\"neo-psychedelia\"],[\"indie rock\",\"psychedelic pop\",\"psychedelic rock\",\"synthpop\",\"neo-psychedelia\"],[\"indie rock\",\"psychedelic pop\",\"psychedelic rock\",\"synthpop\",\"neo-psychedelia\"],[\"indie rock\",\"psychedelic pop\",\"psychedelic rock\",\"synthpop\",\"neo-psychedelia\"],[\"indie rock\",\"psychedelic pop\",\"psychedelic rock\",\"synthpop\",\"neo-psychedelia\"],[\"indie rock\",\"psychedelic pop\",\"psychedelic rock\",\"synthpop\",\"neo-psychedelia\"],[\"indie rock\",\"psychedelic pop\",\"psychedelic rock\",\"synthpop\",\"neo-psychedelia\"],[\"indie rock\",\"psychedelic pop\",\"psychedelic rock\",\"synthpop\",\"neo-psychedelia\"],[\"indie rock\",\"psychedelic pop\",\"psychedelic rock\",\"synthpop\",\"neo-psychedelia\"],[\"indie rock\",\"psychedelic pop\",\"psychedelic rock\",\"synthpop\",\"neo-psychedelia\"],[\"indie rock\",\"psychedelic pop\",\"psychedelic rock\",\"synthpop\",\"neo-psychedelia\"],[\"indie rock\",\"psychedelic pop\",\"psychedelic rock\",\"synthpop\",\"neo-psychedelia\"],[\"indie rock\",\"psychedelic pop\",\"psychedelic rock\",\"synthpop\",\"neo-psychedelia\"],[\"indie rock\",\"psychedelic pop\",\"psychedelic rock\",\"synthpop\",\"neo-psychedelia\"],[\"indie rock\",\"psychedelic pop\",\"psychedelic rock\",\"synthpop\",\"neo-psychedelia\"],[\"indie rock\",\"psychedelic pop\",\"psychedelic rock\",\"synthpop\",\"neo-psychedelia\"],[\"indie rock\",\"psychedelic pop\",\"psychedelic rock\",\"synthpop\",\"neo-psychedelia\"],[\"indie rock\",\"psychedelic pop\",\"psychedelic rock\",\"synthpop\",\"neo-psychedelia\"],[\"indie rock\",\"psychedelic pop\",\"psychedelic rock\",\"synthpop\",\"neo-psychedelia\"],[\"indie rock\",\"psychedelic pop\",\"psychedelic rock\",\"synthpop\",\"neo-psychedelia\"],[\"indie rock\",\"psychedelic pop\",\"psychedelic rock\",\"synthpop\",\"neo-psychedelia\"],[\"indie rock\",\"psychedelic pop\",\"psychedelic rock\",\"synthpop\",\"neo-psychedelia\"],[\"indie rock\",\"psychedelic pop\",\"psychedelic rock\",\"synthpop\",\"neo-psychedelia\"],[\"indie rock\",\"psychedelic pop\",\"psychedelic rock\",\"synthpop\",\"neo-psychedelia\"],[\"indie rock\",\"psychedelic pop\",\"psychedelic rock\",\"synthpop\",\"neo-psychedelia\"],[\"indie rock\",\"psychedelic pop\",\"psychedelic rock\",\"synthpop\",\"neo-psychedelia\"],[\"indie rock\",\"psychedelic pop\",\"psychedelic rock\",\"synthpop\",\"neo-psychedelia\"],[\"indie rock\",\"psychedelic pop\",\"psychedelic rock\",\"synthpop\",\"neo-psychedelia\"],[\"indie rock\",\"psychedelic pop\",\"psychedelic rock\",\"synthpop\",\"neo-psychedelia\"],[\"indie rock\",\"psychedelic pop\",\"psychedelic rock\",\"synthpop\",\"neo-psychedelia\"],[\"indie rock\",\"psychedelic pop\",\"psychedelic rock\",\"synthpop\",\"neo-psychedelia\"],[\"indie rock\",\"psychedelic pop\",\"psychedelic rock\",\"synthpop\",\"neo-psychedelia\"],[\"indie rock\",\"psychedelic pop\",\"psychedelic rock\",\"synthpop\",\"neo-psychedelia\"],[\"indie rock\",\"psychedelic pop\",\"psychedelic rock\",\"synthpop\",\"neo-psychedelia\"],[\"indie rock\",\"psychedelic pop\",\"psychedelic rock\",\"synthpop\",\"neo-psychedelia\"],[\"indie rock\",\"psychedelic pop\",\"psychedelic rock\",\"synthpop\",\"neo-psychedelia\"],[\"indie rock\",\"psychedelic pop\",\"psychedelic rock\",\"synthpop\",\"neo-psychedelia\"],[\"indie rock\",\"psychedelic pop\",\"psychedelic rock\",\"synthpop\",\"neo-psychedelia\"],[\"indie rock\",\"psychedelic pop\",\"psychedelic rock\",\"synthpop\",\"neo-psychedelia\"],[\"indie rock\",\"psychedelic pop\",\"psychedelic rock\",\"synthpop\",\"neo-psychedelia\"],[\"indie rock\",\"psychedelic pop\",\"psychedelic rock\",\"synthpop\",\"neo-psychedelia\"],[\"indie rock\",\"psychedelic pop\",\"psychedelic rock\",\"synthpop\",\"neo-psychedelia\"],[\"indie rock\",\"psychedelic pop\",\"psychedelic rock\",\"synthpop\",\"neo-psychedelia\"],[\"indie rock\",\"psychedelic pop\",\"psychedelic rock\",\"synthpop\",\"neo-psychedelia\"],[\"indie rock\",\"psychedelic pop\",\"psychedelic rock\",\"synthpop\",\"neo-psychedelia\"],[\"indie rock\",\"psychedelic pop\",\"psychedelic rock\",\"synthpop\",\"neo-psychedelia\"],[\"indie rock\",\"psychedelic pop\",\"psychedelic rock\",\"synthpop\",\"neo-psychedelia\"],[\"indie rock\",\"psychedelic pop\",\"psychedelic rock\",\"synthpop\",\"neo-psychedelia\"],[\"indie rock\",\"psychedelic pop\",\"psychedelic rock\",\"synthpop\",\"neo-psychedelia\"],[\"indie rock\",\"psychedelic pop\",\"psychedelic rock\",\"synthpop\",\"neo-psychedelia\"],[\"indie rock\",\"psychedelic pop\",\"psychedelic rock\",\"synthpop\",\"neo-psychedelia\"],[\"indie rock\",\"psychedelic pop\",\"psychedelic rock\",\"synthpop\",\"neo-psychedelia\"],[\"indie rock\",\"psychedelic pop\",\"psychedelic rock\",\"synthpop\",\"neo-psychedelia\"],[\"indie rock\",\"psychedelic pop\",\"psychedelic rock\",\"synthpop\",\"neo-psychedelia\"],[\"indie rock\",\"psychedelic pop\",\"psychedelic rock\",\"synthpop\",\"neo-psychedelia\"],[\"indie rock\",\"psychedelic pop\",\"psychedelic rock\",\"synthpop\",\"neo-psychedelia\"],[\"indie rock\",\"psychedelic pop\",\"psychedelic rock\",\"synthpop\",\"neo-psychedelia\"],[\"indie rock\",\"psychedelic pop\",\"psychedelic rock\",\"synthpop\",\"neo-psychedelia\"],[\"indie rock\",\"psychedelic pop\",\"psychedelic rock\",\"synthpop\",\"neo-psychedelia\"],[\"indie rock\",\"psychedelic pop\",\"psychedelic rock\",\"synthpop\",\"neo-psychedelia\"],[\"indie rock\",\"psychedelic pop\",\"psychedelic rock\",\"synthpop\",\"neo-psychedelia\"],[\"indie rock\",\"psychedelic pop\",\"psychedelic rock\",\"synthpop\",\"neo-psychedelia\"],[\"indie rock\",\"psychedelic pop\",\"psychedelic rock\",\"synthpop\",\"neo-psychedelia\"],[\"indie rock\",\"psychedelic pop\",\"psychedelic rock\",\"synthpop\",\"neo-psychedelia\"],[\"indie rock\",\"psychedelic pop\",\"psychedelic rock\",\"synthpop\",\"neo-psychedelia\"],[\"indie rock\",\"psychedelic pop\",\"psychedelic rock\",\"synthpop\",\"neo-psychedelia\"],[\"indie rock\",\"psychedelic pop\",\"psychedelic rock\",\"synthpop\",\"neo-psychedelia\"],[\"indie rock\",\"psychedelic pop\",\"psychedelic rock\",\"synthpop\",\"neo-psychedelia\"],[\"indie rock\",\"psychedelic pop\",\"psychedelic rock\",\"synthpop\",\"neo-psychedelia\"],[\"indie rock\",\"psychedelic pop\",\"psychedelic rock\",\"synthpop\",\"neo-psychedelia\"],[\"indie rock\",\"psychedelic pop\",\"psychedelic rock\",\"synthpop\",\"neo-psychedelia\"],[\"indie rock\",\"psychedelic pop\",\"psychedelic rock\",\"synthpop\",\"neo-psychedelia\"],[\"indie rock\",\"psychedelic pop\",\"psychedelic rock\",\"synthpop\",\"neo-psychedelia\"],[\"indie rock\",\"psychedelic pop\",\"psychedelic rock\",\"synthpop\",\"neo-psychedelia\"],[\"indie rock\",\"psychedelic pop\",\"psychedelic rock\",\"synthpop\",\"neo-psychedelia\"],[\"indie rock\",\"psychedelic pop\",\"psychedelic rock\",\"synthpop\",\"neo-psychedelia\"],[\"indie rock\",\"psychedelic pop\",\"psychedelic rock\",\"synthpop\",\"neo-psychedelia\"],[\"indie rock\",\"psychedelic pop\",\"psychedelic rock\",\"synthpop\",\"neo-psychedelia\"],[\"indie rock\",\"psychedelic pop\",\"psychedelic rock\",\"synthpop\",\"neo-psychedelia\"],[\"indie rock\",\"psychedelic pop\",\"psychedelic rock\",\"synthpop\",\"neo-psychedelia\"],[\"indie rock\",\"psychedelic pop\",\"psychedelic rock\",\"synthpop\",\"neo-psychedelia\"],[\"indie rock\",\"psychedelic pop\",\"psychedelic rock\",\"synthpop\",\"neo-psychedelia\"],[\"indie rock\",\"psychedelic pop\",\"psychedelic rock\",\"synthpop\",\"neo-psychedelia\"],[\"indie rock\",\"psychedelic pop\",\"psychedelic rock\",\"synthpop\",\"neo-psychedelia\"],[\"indie rock\",\"psychedelic pop\",\"psychedelic rock\",\"synthpop\",\"neo-psychedelia\"],[\"indie rock\",\"psychedelic pop\",\"psychedelic rock\",\"synthpop\",\"neo-psychedelia\"],[\"indie rock\",\"psychedelic pop\",\"psychedelic rock\",\"synthpop\",\"neo-psychedelia\"],[\"indie rock\",\"psychedelic pop\",\"psychedelic rock\",\"synthpop\",\"neo-psychedelia\"],[\"indie rock\",\"psychedelic pop\",\"psychedelic rock\",\"synthpop\",\"neo-psychedelia\"],[\"indie rock\",\"psychedelic pop\",\"psychedelic rock\",\"synthpop\",\"neo-psychedelia\"],[\"indie rock\",\"psychedelic pop\",\"psychedelic rock\",\"synthpop\",\"neo-psychedelia\"],[\"indie rock\",\"psychedelic pop\",\"psychedelic rock\",\"synthpop\",\"neo-psychedelia\"],[\"indie rock\",\"psychedelic pop\",\"psychedelic rock\",\"synthpop\",\"neo-psychedelia\"],[\"indie rock\",\"psychedelic pop\",\"psychedelic rock\",\"synthpop\",\"neo-psychedelia\"],[\"indie rock\",\"psychedelic pop\",\"psychedelic rock\",\"synthpop\",\"neo-psychedelia\"],[\"indie rock\",\"psychedelic pop\",\"psychedelic rock\",\"synthpop\",\"neo-psychedelia\"],[\"indie rock\",\"psychedelic pop\",\"psychedelic rock\",\"synthpop\",\"neo-psychedelia\"],[\"indie rock\",\"psychedelic pop\",\"psychedelic rock\",\"synthpop\",\"neo-psychedelia\"],[\"indie rock\",\"psychedelic pop\",\"psychedelic rock\",\"synthpop\",\"neo-psychedelia\"],[\"indie rock\",\"psychedelic pop\",\"psychedelic rock\",\"synthpop\",\"neo-psychedelia\"],[\"indie rock\",\"psychedelic pop\",\"psychedelic rock\",\"synthpop\",\"neo-psychedelia\"],[\"indie rock\",\"psychedelic pop\",\"psychedelic rock\",\"synthpop\",\"neo-psychedelia\"],[\"indie rock\",\"psychedelic pop\",\"psychedelic rock\",\"synthpop\",\"neo-psychedelia\"],[\"indie rock\",\"psychedelic pop\",\"psychedelic rock\",\"synthpop\",\"neo-psychedelia\"],[\"indie rock\",\"psychedelic pop\",\"psychedelic rock\",\"synthpop\",\"neo-psychedelia\"],[\"indie rock\",\"psychedelic pop\",\"psychedelic rock\",\"synthpop\",\"neo-psychedelia\"],[\"indie rock\",\"psychedelic pop\",\"psychedelic rock\",\"synthpop\",\"neo-psychedelia\"],[\"indie rock\",\"psychedelic pop\",\"psychedelic rock\",\"synthpop\",\"neo-psychedelia\"],[\"indie rock\",\"psychedelic pop\",\"psychedelic rock\",\"synthpop\",\"neo-psychedelia\"],[\"indie rock\",\"psychedelic pop\",\"psychedelic rock\",\"synthpop\",\"neo-psychedelia\"],[\"indie rock\",\"psychedelic pop\",\"psychedelic rock\",\"synthpop\",\"neo-psychedelia\"],[\"indie rock\",\"psychedelic pop\",\"psychedelic rock\",\"synthpop\",\"neo-psychedelia\"],[\"indie rock\",\"psychedelic pop\",\"psychedelic rock\",\"synthpop\",\"neo-psychedelia\"],[\"indie rock\",\"psychedelic pop\",\"psychedelic rock\",\"synthpop\",\"neo-psychedelia\"],[\"indie rock\",\"psychedelic pop\",\"psychedelic rock\",\"synthpop\",\"neo-psychedelia\"],[\"indie rock\",\"psychedelic pop\",\"psychedelic rock\",\"synthpop\",\"neo-psychedelia\"],[\"indie rock\",\"psychedelic pop\",\"psychedelic rock\",\"synthpop\",\"neo-psychedelia\"],[\"indie rock\",\"psychedelic pop\",\"psychedelic rock\",\"synthpop\",\"neo-psychedelia\"],[\"indie rock\",\"psychedelic pop\",\"psychedelic rock\",\"synthpop\",\"neo-psychedelia\"],[\"indie rock\",\"psychedelic pop\",\"psychedelic rock\",\"synthpop\",\"neo-psychedelia\"],[\"indie rock\",\"psychedelic pop\",\"psychedelic rock\",\"synthpop\",\"neo-psychedelia\"],[\"indie rock\",\"psychedelic pop\",\"psychedelic rock\",\"synthpop\",\"neo-psychedelia\"],[\"indie rock\",\"psychedelic pop\",\"psychedelic rock\",\"synthpop\",\"neo-psychedelia\"],[\"indie rock\",\"psychedelic pop\",\"psychedelic rock\",\"synthpop\",\"neo-psychedelia\"],[\"indie rock\",\"psychedelic pop\",\"psychedelic rock\",\"synthpop\",\"neo-psychedelia\"],[\"indie rock\",\"psychedelic pop\",\"psychedelic rock\",\"synthpop\",\"neo-psychedelia\"],[\"indie rock\",\"psychedelic pop\",\"psychedelic rock\",\"synthpop\",\"neo-psychedelia\"],[\"indie rock\",\"psychedelic pop\",\"psychedelic rock\",\"synthpop\",\"neo-psychedelia\"],[\"indie rock\",\"psychedelic pop\",\"psychedelic rock\",\"synthpop\",\"neo-psychedelia\"],[\"indie rock\",\"psychedelic pop\",\"psychedelic rock\",\"synthpop\",\"neo-psychedelia\"],[\"indie rock\",\"psychedelic pop\",\"psychedelic rock\",\"synthpop\",\"neo-psychedelia\"],[\"indie rock\",\"psychedelic pop\",\"psychedelic rock\",\"synthpop\",\"neo-psychedelia\"],[\"indie rock\",\"psychedelic pop\",\"psychedelic rock\",\"synthpop\",\"neo-psychedelia\"],[\"indie rock\",\"psychedelic pop\",\"psychedelic rock\",\"synthpop\",\"neo-psychedelia\"],[\"indie rock\",\"psychedelic pop\",\"psychedelic rock\",\"synthpop\",\"neo-psychedelia\"],[\"indie rock\",\"psychedelic pop\",\"psychedelic rock\",\"synthpop\",\"neo-psychedelia\"],[\"indie rock\",\"psychedelic pop\",\"psychedelic rock\",\"synthpop\",\"neo-psychedelia\"],[\"indie rock\",\"psychedelic pop\",\"psychedelic rock\",\"synthpop\",\"neo-psychedelia\"],[\"indie rock\",\"psychedelic pop\",\"psychedelic rock\",\"synthpop\",\"neo-psychedelia\"],[\"indie rock\",\"psychedelic pop\",\"psychedelic rock\",\"synthpop\",\"neo-psychedelia\"],[\"indie rock\",\"psychedelic pop\",\"psychedelic rock\",\"synthpop\",\"neo-psychedelia\"],[\"indie rock\",\"psychedelic pop\",\"psychedelic rock\",\"synthpop\",\"neo-psychedelia\"],[\"indie rock\",\"psychedelic pop\",\"psychedelic rock\",\"synthpop\",\"neo-psychedelia\"],[\"indie rock\",\"psychedelic pop\",\"psychedelic rock\",\"synthpop\",\"neo-psychedelia\"],[\"indie rock\",\"psychedelic pop\",\"psychedelic rock\",\"synthpop\",\"neo-psychedelia\"],[\"indie rock\",\"psychedelic pop\",\"psychedelic rock\",\"synthpop\",\"neo-psychedelia\"],[\"indie rock\",\"psychedelic pop\",\"psychedelic rock\",\"synthpop\",\"neo-psychedelia\"],[\"indie rock\",\"psychedelic pop\",\"psychedelic rock\",\"synthpop\",\"neo-psychedelia\"],[\"indie rock\",\"psychedelic pop\",\"psychedelic rock\",\"synthpop\",\"neo-psychedelia\"],[\"indie rock\",\"psychedelic pop\",\"psychedelic rock\",\"synthpop\",\"neo-psychedelia\"],[\"indie rock\",\"psychedelic pop\",\"psychedelic rock\",\"synthpop\",\"neo-psychedelia\"],[\"indie rock\",\"psychedelic pop\",\"psychedelic rock\",\"synthpop\",\"neo-psychedelia\"],[\"indie rock\",\"psychedelic pop\",\"psychedelic rock\",\"synthpop\",\"neo-psychedelia\"],[\"indie rock\",\"psychedelic pop\",\"psychedelic rock\",\"synthpop\",\"neo-psychedelia\"],[\"indie rock\",\"psychedelic pop\",\"psychedelic rock\",\"synthpop\",\"neo-psychedelia\"],[\"indie rock\",\"psychedelic pop\",\"psychedelic rock\",\"synthpop\",\"neo-psychedelia\"],[\"indie rock\",\"psychedelic pop\",\"psychedelic rock\",\"synthpop\",\"neo-psychedelia\"],[\"indie rock\",\"psychedelic pop\",\"psychedelic rock\",\"synthpop\",\"neo-psychedelia\"],[\"indie rock\",\"psychedelic pop\",\"psychedelic rock\",\"synthpop\",\"neo-psychedelia\"],[\"indie rock\",\"psychedelic pop\",\"psychedelic rock\",\"synthpop\",\"neo-psychedelia\"],[\"indie rock\",\"psychedelic pop\",\"psychedelic rock\",\"synthpop\",\"neo-psychedelia\"],[\"indie rock\",\"psychedelic pop\",\"psychedelic rock\",\"synthpop\",\"neo-psychedelia\"],[\"indie rock\",\"psychedelic pop\",\"psychedelic rock\",\"synthpop\",\"neo-psychedelia\"],[\"indie rock\",\"psychedelic pop\",\"psychedelic rock\",\"synthpop\",\"neo-psychedelia\"],[\"indie rock\",\"psychedelic pop\",\"psychedelic rock\",\"synthpop\",\"neo-psychedelia\"],[\"indie rock\",\"psychedelic pop\",\"psychedelic rock\",\"synthpop\",\"neo-psychedelia\"],[\"indie rock\",\"psychedelic pop\",\"psychedelic rock\",\"synthpop\",\"neo-psychedelia\"],[\"indie rock\",\"psychedelic pop\",\"psychedelic rock\",\"synthpop\",\"neo-psychedelia\"],[\"indie rock\",\"psychedelic pop\",\"psychedelic rock\",\"synthpop\",\"neo-psychedelia\"],[\"indie rock\",\"psychedelic pop\",\"psychedelic rock\",\"synthpop\",\"neo-psychedelia\"],[\"indie rock\",\"psychedelic pop\",\"psychedelic rock\",\"synthpop\",\"neo-psychedelia\"],[\"indie rock\",\"psychedelic pop\",\"psychedelic rock\",\"synthpop\",\"neo-psychedelia\"],[\"indie rock\",\"psychedelic pop\",\"psychedelic rock\",\"synthpop\",\"neo-psychedelia\"],[\"indie rock\",\"psychedelic pop\",\"psychedelic rock\",\"synthpop\",\"neo-psychedelia\"],[\"indie rock\",\"psychedelic pop\",\"psychedelic rock\",\"synthpop\",\"neo-psychedelia\"],[\"indie rock\",\"psychedelic pop\",\"psychedelic rock\",\"synthpop\",\"neo-psychedelia\"],[\"indie rock\",\"psychedelic pop\",\"psychedelic rock\",\"synthpop\",\"neo-psychedelia\"],[\"indie rock\",\"psychedelic pop\",\"psychedelic rock\",\"synthpop\",\"neo-psychedelia\"],[\"indie rock\",\"psychedelic pop\",\"psychedelic rock\",\"synthpop\",\"neo-psychedelia\"],[\"indie rock\",\"psychedelic pop\",\"psychedelic rock\",\"synthpop\",\"neo-psychedelia\"],[\"indie rock\",\"psychedelic pop\",\"psychedelic rock\",\"synthpop\",\"neo-psychedelia\"],[\"indie rock\",\"psychedelic pop\",\"psychedelic rock\",\"synthpop\",\"neo-psychedelia\"],[\"indie rock\",\"psychedelic pop\",\"psychedelic rock\",\"synthpop\",\"neo-psychedelia\"],[\"indie rock\",\"psychedelic pop\",\"psychedelic rock\",\"synthpop\",\"neo-psychedelia\"],[\"indie rock\",\"psychedelic pop\",\"psychedelic rock\",\"synthpop\",\"neo-psychedelia\"],[\"indie rock\",\"psychedelic pop\",\"psychedelic rock\",\"synthpop\",\"neo-psychedelia\"],[\"indie rock\",\"psychedelic pop\",\"psychedelic rock\",\"synthpop\",\"neo-psychedelia\"],[\"indie rock\",\"psychedelic pop\",\"psychedelic rock\",\"synthpop\",\"neo-psychedelia\"],[\"indie rock\",\"psychedelic pop\",\"psychedelic rock\",\"synthpop\",\"neo-psychedelia\"],[\"indie rock\",\"psychedelic pop\",\"psychedelic rock\",\"synthpop\",\"neo-psychedelia\"],[\"indie rock\",\"psychedelic pop\",\"psychedelic rock\",\"synthpop\",\"neo-psychedelia\"],[\"indie rock\",\"psychedelic pop\",\"psychedelic rock\",\"synthpop\",\"neo-psychedelia\"],[\"indie rock\",\"psychedelic pop\",\"psychedelic rock\",\"synthpop\",\"neo-psychedelia\"],[\"indie rock\",\"psychedelic pop\",\"psychedelic rock\",\"synthpop\",\"neo-psychedelia\"],[\"indie rock\",\"psychedelic pop\",\"psychedelic rock\",\"synthpop\",\"neo-psychedelia\"],[\"indie rock\",\"psychedelic pop\",\"psychedelic rock\",\"synthpop\",\"neo-psychedelia\"],[\"indie rock\",\"psychedelic pop\",\"psychedelic rock\",\"synthpop\",\"neo-psychedelia\"],[\"indie rock\",\"psychedelic pop\",\"psychedelic rock\",\"synthpop\",\"neo-psychedelia\"],[\"indie rock\",\"psychedelic pop\",\"psychedelic rock\",\"synthpop\",\"neo-psychedelia\"],[\"indie rock\",\"psychedelic pop\",\"psychedelic rock\",\"synthpop\",\"neo-psychedelia\"],[\"indie rock\",\"psychedelic pop\",\"psychedelic rock\",\"synthpop\",\"neo-psychedelia\"],[\"indie rock\",\"psychedelic pop\",\"psychedelic rock\",\"synthpop\",\"neo-psychedelia\"],[\"indie rock\",\"psychedelic pop\",\"psychedelic rock\",\"synthpop\",\"neo-psychedelia\"],[\"indie rock\",\"psychedelic pop\",\"psychedelic rock\",\"synthpop\",\"neo-psychedelia\"],[\"indie rock\",\"psychedelic pop\",\"psychedelic rock\",\"synthpop\",\"neo-psychedelia\"],[\"indie rock\",\"psychedelic pop\",\"psychedelic rock\",\"synthpop\",\"neo-psychedelia\"],[\"indie rock\",\"psychedelic pop\",\"psychedelic rock\",\"synthpop\",\"neo-psychedelia\"],[\"indie rock\",\"psychedelic pop\",\"psychedelic rock\",\"synthpop\",\"neo-psychedelia\"],[\"indie rock\",\"psychedelic pop\",\"psychedelic rock\",\"synthpop\",\"neo-psychedelia\"],[\"indie rock\",\"psychedelic pop\",\"psychedelic rock\",\"synthpop\",\"neo-psychedelia\"],[\"indie rock\",\"psychedelic pop\",\"psychedelic rock\",\"synthpop\",\"neo-psychedelia\"],[\"indie rock\",\"psychedelic pop\",\"psychedelic rock\",\"synthpop\",\"neo-psychedelia\"],[\"indie rock\",\"psychedelic pop\",\"psychedelic rock\",\"synthpop\",\"neo-psychedelia\"],[\"indie rock\",\"psychedelic pop\",\"psychedelic rock\",\"synthpop\",\"neo-psychedelia\"],[\"indie rock\",\"psychedelic pop\",\"psychedelic rock\",\"synthpop\",\"neo-psychedelia\"],[\"indie rock\",\"psychedelic pop\",\"psychedelic rock\",\"synthpop\",\"neo-psychedelia\"],[\"indie rock\",\"psychedelic pop\",\"psychedelic rock\",\"synthpop\",\"neo-psychedelia\"],[\"indie rock\",\"psychedelic pop\",\"psychedelic rock\",\"synthpop\",\"neo-psychedelia\"],[\"indie rock\",\"psychedelic pop\",\"psychedelic rock\",\"synthpop\",\"neo-psychedelia\"],[\"indie rock\",\"psychedelic pop\",\"psychedelic rock\",\"synthpop\",\"neo-psychedelia\"],[\"indie rock\",\"psychedelic pop\",\"psychedelic rock\",\"synthpop\",\"neo-psychedelia\"],[\"indie rock\",\"psychedelic pop\",\"psychedelic rock\",\"synthpop\",\"neo-psychedelia\"],[\"indie rock\",\"psychedelic pop\",\"psychedelic rock\",\"synthpop\",\"neo-psychedelia\"],[\"indie rock\",\"psychedelic pop\",\"psychedelic rock\",\"synthpop\",\"neo-psychedelia\"],[\"indie rock\",\"psychedelic pop\",\"psychedelic rock\",\"synthpop\",\"neo-psychedelia\"],[\"indie rock\",\"psychedelic pop\",\"psychedelic rock\",\"synthpop\",\"neo-psychedelia\"],[\"indie rock\",\"psychedelic pop\",\"psychedelic rock\",\"synthpop\",\"neo-psychedelia\"],[\"indie rock\",\"psychedelic pop\",\"psychedelic rock\",\"synthpop\",\"neo-psychedelia\"],[\"indie rock\",\"psychedelic pop\",\"psychedelic rock\",\"synthpop\",\"neo-psychedelia\"],[\"indie rock\",\"psychedelic pop\",\"psychedelic rock\",\"synthpop\",\"neo-psychedelia\"],[\"indie rock\",\"psychedelic pop\",\"psychedelic rock\",\"synthpop\",\"neo-psychedelia\"],[\"indie rock\",\"psychedelic pop\",\"psychedelic rock\",\"synthpop\",\"neo-psychedelia\"],[\"indie rock\",\"psychedelic pop\",\"psychedelic rock\",\"synthpop\",\"neo-psychedelia\"],[\"indie rock\",\"psychedelic pop\",\"psychedelic rock\",\"synthpop\",\"neo-psychedelia\"],[\"indie rock\",\"psychedelic pop\",\"psychedelic rock\",\"synthpop\",\"neo-psychedelia\"],[\"indie rock\",\"psychedelic pop\",\"psychedelic rock\",\"synthpop\",\"neo-psychedelia\"],[\"indie rock\",\"psychedelic pop\",\"psychedelic rock\",\"synthpop\",\"neo-psychedelia\"],[\"indie rock\",\"psychedelic pop\",\"psychedelic rock\",\"synthpop\",\"neo-psychedelia\"],[\"indie rock\",\"psychedelic pop\",\"psychedelic rock\",\"synthpop\",\"neo-psychedelia\"],[\"indie rock\",\"psychedelic pop\",\"psychedelic rock\",\"synthpop\",\"neo-psychedelia\"],[\"indie rock\",\"psychedelic pop\",\"psychedelic rock\",\"synthpop\",\"neo-psychedelia\"],[\"indie rock\",\"psychedelic pop\",\"psychedelic rock\",\"synthpop\",\"neo-psychedelia\"],[\"indie rock\",\"psychedelic pop\",\"psychedelic rock\",\"synthpop\",\"neo-psychedelia\"],[\"indie rock\",\"psychedelic pop\",\"psychedelic rock\",\"synthpop\",\"neo-psychedelia\"],[\"indie rock\",\"psychedelic pop\",\"psychedelic rock\",\"synthpop\",\"neo-psychedelia\"],[\"indie rock\",\"psychedelic pop\",\"psychedelic rock\",\"synthpop\",\"neo-psychedelia\"],[\"indie rock\",\"psychedelic pop\",\"psychedelic rock\",\"synthpop\",\"neo-psychedelia\"],[\"indie rock\",\"psychedelic pop\",\"psychedelic rock\",\"synthpop\",\"neo-psychedelia\"],[\"indie rock\",\"psychedelic pop\",\"psychedelic rock\",\"synthpop\",\"neo-psychedelia\"],[\"indie rock\",\"psychedelic pop\",\"psychedelic rock\",\"synthpop\",\"neo-psychedelia\"],[\"indie rock\",\"psychedelic pop\",\"psychedelic rock\",\"synthpop\",\"neo-psychedelia\"],[\"indie rock\",\"psychedelic pop\",\"psychedelic rock\",\"synthpop\",\"neo-psychedelia\"],[\"indie rock\",\"psychedelic pop\",\"psychedelic rock\",\"synthpop\",\"neo-psychedelia\"],[\"indie rock\",\"psychedelic pop\",\"psychedelic rock\",\"synthpop\",\"neo-psychedelia\"],[\"indie rock\",\"psychedelic pop\",\"psychedelic rock\",\"synthpop\",\"neo-psychedelia\"],[\"indie rock\",\"psychedelic pop\",\"psychedelic rock\",\"synthpop\",\"neo-psychedelia\"],[\"indie rock\",\"psychedelic pop\",\"psychedelic rock\",\"synthpop\",\"neo-psychedelia\"],[\"indie rock\",\"psychedelic pop\",\"psychedelic rock\",\"synthpop\",\"neo-psychedelia\"],[\"indie rock\",\"psychedelic pop\",\"psychedelic rock\",\"synthpop\",\"neo-psychedelia\"],[\"indie rock\",\"psychedelic pop\",\"psychedelic rock\",\"synthpop\",\"neo-psychedelia\"],[\"indie rock\",\"psychedelic pop\",\"psychedelic rock\",\"synthpop\",\"neo-psychedelia\"],[\"indie rock\",\"psychedelic pop\",\"psychedelic rock\",\"synthpop\",\"neo-psychedelia\"],[\"indie rock\",\"psychedelic pop\",\"psychedelic rock\",\"synthpop\",\"neo-psychedelia\"],[\"indie rock\",\"psychedelic pop\",\"psychedelic rock\",\"synthpop\",\"neo-psychedelia\"],[\"indie rock\",\"psychedelic pop\",\"psychedelic rock\",\"synthpop\",\"neo-psychedelia\"],[\"indie rock\",\"psychedelic pop\",\"psychedelic rock\",\"synthpop\",\"neo-psychedelia\"],[\"indie rock\",\"psychedelic pop\",\"psychedelic rock\",\"synthpop\",\"neo-psychedelia\"],[\"indie rock\",\"psychedelic pop\",\"psychedelic rock\",\"synthpop\",\"neo-psychedelia\"],[\"indie rock\",\"psychedelic pop\",\"psychedelic rock\",\"synthpop\",\"neo-psychedelia\"],[\"indie rock\",\"psychedelic pop\",\"psychedelic rock\",\"synthpop\",\"neo-psychedelia\"],[\"indie rock\",\"psychedelic pop\",\"psychedelic rock\",\"synthpop\",\"neo-psychedelia\"],[\"indie rock\",\"psychedelic pop\",\"psychedelic rock\",\"synthpop\",\"neo-psychedelia\"],[\"indie rock\",\"psychedelic pop\",\"psychedelic rock\",\"synthpop\",\"neo-psychedelia\"],[\"indie rock\",\"psychedelic pop\",\"psychedelic rock\",\"synthpop\",\"neo-psychedelia\"],[\"indie rock\",\"psychedelic pop\",\"psychedelic rock\",\"synthpop\",\"neo-psychedelia\"]],\"city\":[\"Indio\",\"Indio\",\"Indio\",\"West Melbourne\",\"Sydney\",\"South Bank Qld\",\"Upper Swan\",\"Barcelona\",\"George\",\"Portland\",\"North Vancouver\",\"Oakland\",\"Pomona\",\"San Diego\",\"Manchester\",\"Atlanta\",\"Richmond\",\"Philadelphia\",\"London\",\"Paris\",\"Gdynia\",\"Werchter\",\"Ramonville-St-Agne\",\"Budapest\",\"Oslo\",\"Copenhagen\",\"Zurich\",\"Biddinghuizen\",\"Edinburgh\",\"Dublin\",\"Leeds\",\"New York\",\"New York\",\"Philadelphia\",\"Columbia\",\"St Louis\",\"Madison\",\"Chicago\",\"Kansas City\",\"Dallas\",\"Rio De Janeiro\",\"Monterrey\",\"Mexico City\",\"Boulder\",\"Denver\",\"Los Angeles\",\"Los Angeles\",\"San Francisco\",\"Santa Barbara\",\"Seattle\",\"Portland\",\"Auckland\",\"Carrara\",\"Melbourne\",\"Sydney Olympic Park\",\"Adelaide\",\"Joondalup Wa\",\"Rottnest Island\",\"Oxford\",\"Frankfurt Am Main\",\"Munich\",\"Kinross\",\"Manchester\",\"Birmingham\",\"Nottingham\",\"Suffolk\",\"Beccles\",\"Beccles\",\"New York\",\"New York\",\"Los Angeles\",\"Las Vegas\",\"Oakland\",\"Oakland\",\"Bogota\",\"Santiago\",\"Manchester\",\"London\",\"Sao Paulo\",\"Ariel\",\"Pomona\",\"Indio\",\"Indio\",\"Austin\",\"New Orleans\",\"Atlanta\",\"Nashville\",\"Minneapolis\",\"Milwaukee\",\"Chicago\",\"Columbus\",\"Royal Oak\",\"Toronto\",\"Montreal\",\"Montreal\",\"Boston\",\"George\",\"Vancouver\",\"Portland\",\"Salt Lake City\",\"Denver\",\"Kansas City\",\"St Louis\",\"Pittsburgh\",\"Cleveland\",\"Cincinnati\",\"Washington\",\"New York\",\"Byron Bay Nsw\",\"Byron Bay\",\"Chicago\",\"San Diego\",\"Los Angeles\",\"Los Angeles\",\"San Francisco\",\"Viana Do Castelo\",\"Hasselt\",\"Biddinghuizen\",\"Sestri Levante\",\"Rome\",\"Verona\",\"Zurich\",\"Boulogne-Billancourt\",\"Gardenstown\",\"Stradbally\",\"Glasgow\",\"Liverpool\",\"Downend\",\"Berlin\",\"Austin\",\"Upper Darby\",\"New York\",\"New York\",\"Austin\",\"Melbourne\",\"Circular Quay\",\"Sydney\",\"Perth\",\"Perth\",\"Adelaide\",\"Adelaide\",\"Brisbane\",\"Auckland\",\"Wellington\",\"Amsterdam-Zuidoost\",\"Brussels\",\"Paris\",\"Frederiksberg\",\"Oslo\",\"Stockholm\",\"Hamburg\",\"Berlin\",\"K\\u00f6ln\",\"Manchester\",\"London\",\"London\",\"Bogota\",\"Sao Paulo\",\"Lima\",\"Buenos Aires\",\"Buenos Aires\",\"Santiago\",\"Yau Tsim Mong\",\"Singapore\",\"Kuala Lumpur\",\"Tokyo\",\"Osaka\",\"Jakarta\",\"Barcelona\",\"Dublin\",\"Manchester\",\"Toronto\",\"Montr\\u00e9al\",\"Brooklyn\",\"Brooklyn\",\"Columbia\",\"Dover\",\"Gdynia\",\"Roskilde\",\"Werchter\",\"Belfort\",\"Lyon\",\"Milan\",\"Lisbon\",\"Bilbao\",\"Rishon Le \\u1e94iyyon\",\"Ostrava - V\\u00edtkovice\",\"Gr\\u00e4fenhainichen\",\"Los Angeles\",\"Portland\",\"Denver\",\"Berkeley\",\"Berkeley\",\"Seattle\",\"M\\u00e9xico\",\"Monterrey\",\"New York\",\"Madrid\",\"Camden, London\",\"Chicago\",\"Martindale\",\"Martindale\",\"Tokyo\",\"Higashi-Osaka\",\"London\",\"London\",\"London\",\"Lake Perris\",\"Oakland\",\"Oakland\",\"Nashville\",\"Asheville\",\"Atlanta\",\"St. Augustine\",\"Miami Beach\",\"Zapopan\",\"Boston\",\"Barcelona\",\"Paris\",\"Lorensberg\",\"London\",\"Blackpool\",\"Dublin\",\"Toronto\",\"Detroit\",\"Minneapolis\",\"Minneapolis\",\"Chicago\",\"Oslo\",\"Oslo\",\"Oslo\",\"Oslo\",\"Berlin\",\"New York\",\"New York\",\"Philadelphia\",\"Washington\",\"Washington\",\"Austin\",\"Denver\",\"Denver\",\"Austin\",\"San Diego\",\"Los Angeles\",\"Los Angeles\",\"San Francisco\",\"Mexico\",\"Monterrey\",\"Auckland\",\"Brisbane\",\"Melbourne\",\"Hindmarsh\",\"Perth\",\"Toronto\",\"Montreal\",\"Washington\",\"Charlotte\",\"Atlanta\",\"Miami\",\"St Paul\",\"St Louis\",\"Kansas City\",\"Tulsa\",\"Austin\",\"Dallas\",\"Houston\",\"Glendale\",\"Denver\",\"Salt Lake City\",\"Portland\",\"Vancouver\",\"Mexico\",\"Monterrey\",\"Monterrey\",\"San Francisco\",\"Auckland\",\"Brisbane\",\"Sydney\",\"Melbourne\",\"Melbourne\",\"Hindmarsh\",\"Perth\",\"Mexico\",\"Monterrey\",\"Monterrey\",\"Mexico\",\"Manchester\",\"Chicago\",\"Quincy\",\"Portland\",\"San Francisco\",\"Las Vegas\",\"Glendale\",\"Denver\",\"Washington\",\"Dover\",\"Atlanta\",\"San Francisco\",\"Los Angeles\",\"Los Angeles\",\"Houston\",\"Austin\",\"Houston\",\"Dallas\",\"Monterrey\",\"Zapopan\",\"Mexico\",\"Auckland\",\"Sydney\",\"Brisbane\",\"Melbourne\",\"Melbourne\",\"Hindmarsh\",\"Perth\",\"Tempe\",\"Okeechobee\",\"Pittsburgh\",\"Toronto\"],\"country\":[\"United States\",\"United States\",\"United States\",\"Australia\",\"Australia\",\"Australia\",\"Australia\",\"Spain\",\"United States\",\"United States\",\"Canada\",\"United States\",\"United States\",\"United States\",\"United States\",\"United States\",\"United States\",\"United States\",\"United Kingdom\",\"France\",\"Poland\",\"Belgium\",\"France\",\"Hungary\",\"Norway\",\"Denmark\",\"Switzerland\",\"Netherlands\",\"United Kingdom\",\"Ireland\",\"United Kingdom\",\"United States\",\"United States\",\"United States\",\"United States\",\"United States\",\"United States\",\"United States\",\"United States\",\"United States\",\"Brazil\",\"Mexico\",\"Mexico\",\"United States\",\"United States\",\"United States\",\"United States\",\"United States\",\"United States\",\"United States\",\"United States\",\"New Zealand\",\"Australia\",\"Australia\",\"Australia\",\"Australia\",\"Australia\",\"Australia\",\"United Kingdom\",\"Germany\",\"Germany\",\"United Kingdom\",\"United Kingdom\",\"United Kingdom\",\"United Kingdom\",\"United Kingdom\",\"United Kingdom\",\"United Kingdom\",\"United States\",\"United States\",\"United States\",\"United States\",\"United States\",\"United States\",\"Colombia\",\"Chile\",\"United Kingdom\",\"United Kingdom\",\"Brazil\",\"Argentina\",\"United States\",\"United States\",\"United States\",\"United States\",\"United States\",\"United States\",\"United States\",\"United States\",\"United States\",\"United States\",\"United States\",\"United States\",\"Canada\",\"Canada\",\"Canada\",\"United States\",\"United States\",\"Canada\",\"United States\",\"United States\",\"United States\",\"United States\",\"United States\",\"United States\",\"United States\",\"United States\",\"United States\",\"United States\",\"Australia\",\"Australia\",\"United States\",\"United States\",\"United States\",\"United States\",\"United States\",\"Portugal\",\"Belgium\",\"Netherlands\",\"Italy\",\"Italy\",\"Italy\",\"Switzerland\",\"France\",\"United Kingdom\",\"Ireland\",\"United Kingdom\",\"United Kingdom\",\"United Kingdom\",\"Germany\",\"United States\",\"United States\",\"United States\",\"United States\",\"United States\",\"Australia\",\"Australia\",\"Australia\",\"Australia\",\"Australia\",\"Australia\",\"Australia\",\"Australia\",\"New Zealand\",\"New Zealand\",\"Netherlands\",\"Belgium\",\"France\",\"Denmark\",\"Norway\",\"Sweden\",\"Germany\",\"Germany\",\"Germany\",\"United Kingdom\",\"United Kingdom\",\"United Kingdom\",\"Colombia\",\"Brazil\",\"Peru\",\"Argentina\",\"Argentina\",\"Chile\",\"Hong Kong-China\",\"Singapore\",\"Malaysia\",\"Japan\",\"Japan\",\"Indonesia\",\"Spain\",\"Ireland\",\"United States\",\"Canada\",\"Canada\",\"United States\",\"United States\",\"United States\",\"United States\",\"Poland\",\"Denmark\",\"Belgium\",\"France\",\"France\",\"Italy\",\"Portugal\",\"Spain\",\"Israel\",\"Czechia\",\"Germany\",\"United States\",\"United States\",\"United States\",\"United States\",\"United States\",\"United States\",\"Mexico\",\"Mexico\",\"United States\",\"Spain\",\" UNITED KINGDOM\",\"United States of America\",\"United States\",\"United States\",\"Japan\",\"Japan\",\"United Kingdom\",\"United Kingdom\",\"United Kingdom\",\"United States\",\"United States\",\"United States\",\"United States\",\"United States\",\"United States\",\"United States\",\"United States\",\"Mexico\",\"United States\",\"Spain\",\"France\",\"Sweden\",\"United Kingdom\",\"United Kingdom\",\"Ireland\",\"Canada\",\"United States\",\"United States\",\"United States\",\"United States\",\"Norway\",\"Norway\",\"Norway\",\"Norway\",\"Germany\",\"United States\",\"United States\",\"United States\",\"United States\",\"United States\",\"United States\",\"United States\",\"United States\",\"United States\",\"United States\",\"United States\",\"United States\",\"United States\",\"Mexico\",\"Mexico\",\"New Zealand\",\"Australia\",\"Australia\",\"Australia\",\"Australia\",\"Canada\",\"Canada\",\"United States\",\"United States\",\"United States\",\"United States\",\"United States\",\"United States\",\"United States\",\"United States\",\"United States\",\"United States\",\"United States\",\"United States\",\"United States\",\"United States\",\"United States\",\"Canada\",\"Mexico\",\"Mexico\",\"Mexico\",\"United States\",\"New Zealand\",\"Australia\",\"Australia\",\"Australia\",\"Australia\",\"Australia\",\"Australia\",\"Mexico\",\"Mexico\",\"Mexico\",\"Mexico\",\"United States\",\"United States\",\"United States\",\"United States\",\"United States\",\"United States\",\"United States\",\"United States\",\"United States\",\"United States\",\"United States\",\"United States\",\"United States\",\"United States\",\"United States\",\"United States\",\"United States\",\"United States\",\"Mexico\",\"Mexico\",\"Mexico\",\"New Zealand\",\"Australia\",\"Australia\",\"Australia\",\"Australia\",\"Australia\",\"Australia\",\"United States\",\"United States\",\"United States\",\"Canada\"],\"datetime\":[\"2013-04-14\",\"2013-04-19\",\"2013-04-21\",\"2013-04-26\",\"2013-05-02\",\"2013-05-08\",\"2013-05-18\",\"2013-05-22\",\"2013-05-24\",\"2013-05-26\",\"2013-05-27\",\"2013-05-29\",\"2013-05-30\",\"2013-05-31\",\"2013-06-13\",\"2013-06-17\",\"2013-06-18\",\"2013-06-19\",\"2013-06-25\",\"2013-06-26\",\"2013-07-03\",\"2013-07-04\",\"2013-07-11\",\"2013-08-05\",\"2013-08-06\",\"2013-08-09\",\"2013-08-14\",\"2013-08-16\",\"2013-08-20\",\"2013-08-21\",\"2013-08-23\",\"2013-10-01\",\"2013-10-02\",\"2013-10-03\",\"2013-10-04\",\"2013-10-08\",\"2013-10-09\",\"2013-10-10\",\"2013-10-11\",\"2013-10-12\",\"2013-10-17\",\"2013-10-23\",\"2013-10-24\",\"2013-10-26\",\"2013-10-27\",\"2013-10-29\",\"2013-10-30\",\"2013-10-31\",\"2013-11-01\",\"2013-12-03\",\"2013-12-04\",\"2014-01-17\",\"2014-01-19\",\"2014-01-24\",\"2014-01-26\",\"2014-01-31\",\"2014-02-02\",\"2014-04-27\",\"2014-05-22\",\"2014-07-08\",\"2014-07-09\",\"2014-07-11\",\"2014-07-12\",\"2014-07-14\",\"2014-07-15\",\"2014-07-17\",\"2014-07-18\",\"2014-07-20\",\"2014-11-09\",\"2014-11-10\",\"2014-11-12\",\"2014-11-13\",\"2014-11-15\",\"2014-11-16\",\"2014-11-20\",\"2014-11-22\",\"2015-02-11\",\"2015-02-12\",\"2015-03-12\",\"2015-03-18\",\"2015-04-08\",\"2015-04-10\",\"2015-04-17\",\"2015-05-08\",\"2015-05-09\",\"2015-05-10\",\"2015-05-11\",\"2015-05-13\",\"2015-05-14\",\"2015-05-15\",\"2015-05-16\",\"2015-05-18\",\"2015-05-19\",\"2015-05-20\",\"2015-05-21\",\"2015-05-22\",\"2015-05-25\",\"2015-05-26\",\"2015-05-27\",\"2015-05-29\",\"2015-05-30\",\"2015-05-31\",\"2015-06-01\",\"2015-06-03\",\"2015-06-04\",\"2015-06-05\",\"2015-06-06\",\"2015-06-07\",\"2015-07-24\",\"2015-07-26\",\"2015-08-01\",\"2015-08-04\",\"2015-08-06\",\"2015-08-07\",\"2015-08-08\",\"2015-08-20\",\"2015-08-22\",\"2015-08-23\",\"2015-08-25\",\"2015-08-26\",\"2015-08-28\",\"2015-08-29\",\"2015-08-30\",\"2015-09-04\",\"2015-09-06\",\"2015-09-08\",\"2015-09-09\",\"2015-09-11\",\"2015-09-13\",\"2015-10-02\",\"2015-10-05\",\"2015-10-06\",\"2015-10-07\",\"2015-10-09\",\"2015-11-07\",\"2015-11-10\",\"2015-11-11\",\"2015-11-14\",\"2015-11-15\",\"2015-11-18\",\"2015-11-19\",\"2015-11-21\",\"2015-11-24\",\"2015-11-25\",\"2016-01-29\",\"2016-01-30\",\"2016-01-31\",\"2016-02-03\",\"2016-02-04\",\"2016-02-05\",\"2016-02-07\",\"2016-02-08\",\"2016-02-09\",\"2016-02-11\",\"2016-02-12\",\"2016-02-13\",\"2016-03-10\",\"2016-03-12\",\"2016-03-15\",\"2016-03-17\",\"2016-03-18\",\"2016-03-19\",\"2016-04-19\",\"2016-04-21\",\"2016-04-23\",\"2016-04-25\",\"2016-04-26\",\"2016-04-29\",\"2016-06-02\",\"2016-06-04\",\"2016-06-09\",\"2016-06-11\",\"2016-06-12\",\"2016-06-14\",\"2016-06-15\",\"2016-06-16\",\"2016-06-17\",\"2016-06-29\",\"2016-07-01\",\"2016-07-02\",\"2016-07-03\",\"2016-07-04\",\"2016-07-05\",\"2016-07-08\",\"2016-07-09\",\"2016-07-11\",\"2016-07-14\",\"2016-07-15\",\"2016-08-27\",\"2016-08-28\",\"2016-08-31\",\"2016-09-02\",\"2016-09-03\",\"2016-09-04\",\"2016-09-08\",\"2016-09-10\",\"2017-07-29\",\"2018-07-12\",\"2018-07-15\",\"2018-07-20\",\"2018-07-21\",\"2018-07-22\",\"2018-08-18\",\"2018-08-19\",\"2018-09-18\",\"2018-09-24\",\"2018-09-25\",\"2018-10-12\",\"2018-10-13\",\"2018-10-14\",\"2019-05-02\",\"2019-05-03\",\"2019-05-05\",\"2019-05-06\",\"2019-05-07\",\"2019-05-11\",\"2019-05-25\",\"2019-05-31\",\"2019-06-02\",\"2019-06-05\",\"2019-06-08\",\"2019-06-24\",\"2019-06-26\",\"2019-07-26\",\"2019-07-27\",\"2019-07-30\",\"2019-07-31\",\"2019-08-02\",\"2019-08-07\",\"2019-08-08\",\"2019-08-09\",\"2019-08-10\",\"2019-08-13\",\"2019-08-21\",\"2019-08-22\",\"2019-08-23\",\"2019-08-24\",\"2019-08-25\",\"2019-10-04\",\"2019-10-07\",\"2019-10-08\",\"2019-10-11\",\"2020-03-09\",\"2020-03-10\",\"2020-03-11\",\"2020-03-13\",\"2020-03-19\",\"2020-03-20\",\"2020-04-16\",\"2020-04-18\",\"2020-04-23\",\"2020-04-25\",\"2020-04-28\",\"2020-06-02\",\"2020-06-03\",\"2020-06-06\",\"2020-06-08\",\"2020-06-09\",\"2020-06-11\",\"2020-07-17\",\"2020-07-19\",\"2020-07-20\",\"2020-07-21\",\"2020-07-23\",\"2020-07-24\",\"2020-07-25\",\"2020-07-28\",\"2020-07-30\",\"2020-08-01\",\"2020-08-03\",\"2020-08-05\",\"2020-09-10\",\"2020-09-11\",\"2020-09-12\",\"2020-09-21\",\"2020-12-05\",\"2020-12-08\",\"2020-12-10\",\"2020-12-13\",\"2020-12-14\",\"2020-12-16\",\"2020-12-19\",\"2021-03-19\",\"2021-03-20\",\"2021-03-21\",\"2021-07-22\",\"2021-09-04\",\"2021-09-07\",\"2021-09-10\",\"2021-09-12\",\"2021-09-15\",\"2021-09-17\",\"2021-09-18\",\"2021-09-20\",\"2021-09-23\",\"2021-09-25\",\"2021-09-28\",\"2021-10-31\",\"2021-11-02\",\"2021-11-03\",\"2021-11-05\",\"2021-11-07\",\"2021-11-08\",\"2021-11-09\",\"2021-11-12\",\"2021-11-17\",\"2021-11-20\",\"2021-12-05\",\"2021-12-07\",\"2021-12-09\",\"2021-12-12\",\"2021-12-13\",\"2021-12-15\",\"2021-12-18\",\"2022-02-26\",\"2022-03-03\",\"2022-03-07\",\"2022-03-09\"],\"festival_end_date\":[\"\",\"\",\"\",\"\",\"\",\"\",\"\",\"\",\"\",\"\",\"\",\"\",\"\",\"\",\"\",\"\",\"\",\"\",\"\",\"\",\"\",\"\",\"\",\"\",\"\",\"\",\"\",\"\",\"\",\"\",\"\",\"\",\"\",\"\",\"\",\"\",\"\",\"\",\"\",\"\",\"\",\"\",\"\",\"\",\"\",\"\",\"\",\"\",\"\",\"\",\"\",\"\",\"\",\"\",\"\",\"\",\"\",\"\",\"\",\"\",\"\",\"\",\"\",\"\",\"\",\"\",\"\",\"\",\"\",\"\",\"\",\"\",\"\",\"\",\"\",\"\",\"\",\"\",\"\",\"\",\"\",\"\",\"\",\"\",\"\",\"\",\"\",\"\",\"\",\"\",\"\",\"\",\"\",\"\",\"\",\"\",\"\",\"\",\"\",\"\",\"\",\"\",\"\",\"\",\"\",\"\",\"\",\"\",\"\",\"\",\"\",\"\",\"\",\"\",\"\",\"\",\"\",\"\",\"\",\"\",\"\",\"\",\"\",\"\",\"\",\"\",\"\",\"\",\"\",\"\",\"\",\"\",\"\",\"\",\"\",\"\",\"\",\"\",\"\",\"\",\"\",\"\",\"\",\"\",\"\",\"\",\"\",\"\",\"\",\"\",\"\",\"\",\"\",\"\",\"\",\"\",\"\",\"\",\"\",\"\",\"\",\"\",\"\",\"\",\"\",\"\",\"\",\"\",\"\",\"\",\"\",\"\",\"\",\"\",\"\",\"\",\"\",\"\",\"\",\"\",\"\",\"\",\"\",\"\",\"\",\"\",\"\",\"\",\"\",\"\",\"\",\"\",\"\",\"\",\"\",\"\",\"\",\"\",\"\",\"\",\"\",\"\",\"\",\"\",\"\",\"\",\"\",\"\",\"\",\"\",\"\",\"\",\"\",\"\",\"\",\"\",\"\",\"\",\"\",\"\",\"\",\"\",\"\",\"\",\"\",\"\",\"\",\"\",\"\",\"\",\"\",\"\",\"\",\"\",\"\",\"\",\"\",\"\",\"\",\"\",\"\",\"\",\"\",\"\",\"\",\"\",\"\",\"\",\"\",\"\",\"\",\"\",\"\",\"\",\"\",\"\",\"\",\"\",\"\",\"\",\"\",\"\",\"\",\"\",\"\",\"\",\"\",\"\",\"\",\"\",\"\",\"\",\"\",\"\",\"\",\"\",\"\",\"\",\"\",\"\",\"\",\"\",\"\",\"\",\"\",\"\",\"\",\"\",\"\",\"\",\"\",\"\",\"\",\"\",\"\",\"\",\"\",\"\",\"\",\"\",\"\",\"\",\"\",\"\",\"\",\"\",\"\",\"\",\"\",\"\",\"\",\"\",\"\",\"\",\"\",\"\",\"\",\"\"],\"festival_flag\":[\"Festival\",\"Festival\",\"Festival\",\"Concert\",\"Concert\",\"Concert\",\"Concert\",\"Festival\",\"Festival\",\"Concert\",\"Concert\",\"Concert\",\"Concert\",\"Concert\",\"Festival\",\"Concert\",\"Concert\",\"Concert\",\"Concert\",\"Concert\",\"Festival\",\"Festival\",\"Concert\",\"Festival\",\"Festival\",\"Concert\",\"Concert\",\"Festival\",\"Concert\",\"Concert\",\"Festival\",\"Concert\",\"Concert\",\"Concert\",\"Concert\",\"Concert\",\"Concert\",\"Concert\",\"Concert\",\"Concert\",\"Concert\",\"Concert\",\"Concert\",\"Concert\",\"Concert\",\"Concert\",\"Concert\",\"Festival\",\"Concert\",\"Concert\",\"Concert\",\"Festival\",\"Festival\",\"Festival\",\"Festival\",\"Festival\",\"Festival\",\"Concert\",\"Concert\",\"Concert\",\"Concert\",\"Festival\",\"Concert\",\"Concert\",\"Concert\",\"Festival\",\"Festival\",\"Concert\",\"Concert\",\"Concert\",\"Concert\",\"Concert\",\"Concert\",\"Concert\",\"Concert\",\"Festival\",\"Concert\",\"Concert\",\"Concert\",\"Concert\",\"Concert\",\"Festival\",\"Festival\",\"Concert\",\"Concert\",\"Concert\",\"Concert\",\"Concert\",\"Concert\",\"Concert\",\"Concert\",\"Concert\",\"Concert\",\"Concert\",\"Concert\",\"Concert\",\"Concert\",\"Concert\",\"Concert\",\"Concert\",\"Concert\",\"Concert\",\"Concert\",\"Concert\",\"Concert\",\"Festival\",\"Concert\",\"Concert\",\"Concert\",\"Concert\",\"Festival\",\"Concert\",\"Concert\",\"Concert\",\"Festival\",\"Concert\",\"Concert\",\"Concert\",\"Concert\",\"Concert\",\"Concert\",\"Concert\",\"Concert\",\"Concert\",\"Concert\",\"Concert\",\"Concert\",\"Concert\",\"Concert\",\"Concert\",\"Concert\",\"Concert\",\"Concert\",\"Concert\",\"Concert\",\"Concert\",\"Concert\",\"Concert\",\"Concert\",\"Concert\",\"Concert\",\"Concert\",\"Concert\",\"Concert\",\"Concert\",\"Concert\",\"Concert\",\"Concert\",\"Concert\",\"Concert\",\"Concert\",\"Concert\",\"Concert\",\"Concert\",\"Concert\",\"Concert\",\"Concert\",\"Concert\",\"Concert\",\"Concert\",\"Concert\",\"Concert\",\"Concert\",\"Concert\",\"Concert\",\"Concert\",\"Concert\",\"Concert\",\"Concert\",\"Concert\",\"Concert\",\"Concert\",\"Concert\",\"Concert\",\"Concert\",\"Concert\",\"Concert\",\"Concert\",\"Festival\",\"Festival\",\"Concert\",\"Concert\",\"Concert\",\"Festival\",\"Concert\",\"Concert\",\"Concert\",\"Concert\",\"Concert\",\"Concert\",\"Concert\",\"Concert\",\"Concert\",\"Concert\",\"Concert\",\"Concert\",\"Concert\",\"Festival\",\"Concert\",\"Festival\",\"Festival\",\"Concert\",\"Concert\",\"Concert\",\"Concert\",\"Concert\",\"Concert\",\"Festival\",\"Concert\",\"Festival\",\"Concert\",\"Concert\",\"Concert\",\"Concert\",\"Concert\",\"Festival\",\"Festival\",\"Concert\",\"Concert\",\"Concert\",\"Concert\",\"Concert\",\"Concert\",\"Concert\",\"Festival\",\"Concert\",\"Concert\",\"Festival\",\"Festival\",\"Festival\",\"Festival\",\"Festival\",\"Concert\",\"Concert\",\"Concert\",\"Concert\",\"Concert\",\"Concert\",\"Festival\",\"Concert\",\"Concert\",\"Festival\",\"Concert\",\"Concert\",\"Concert\",\"Concert\",\"Concert\",\"Festival\",\"Concert\",\"Concert\",\"Concert\",\"Concert\",\"Concert\",\"Concert\",\"Concert\",\"Concert\",\"Concert\",\"Concert\",\"Concert\",\"Concert\",\"Concert\",\"Concert\",\"Concert\",\"Concert\",\"Concert\",\"Concert\",\"Concert\",\"Concert\",\"Concert\",\"Concert\",\"Concert\",\"Concert\",\"Festival\",\"Festival\",\"Concert\",\"Concert\",\"Concert\",\"Concert\",\"Concert\",\"Concert\",\"Concert\",\"Concert\",\"Concert\",\"Festival\",\"Festival\",\"Concert\",\"Festival\",\"Concert\",\"Concert\",\"Concert\",\"Concert\",\"Concert\",\"Concert\",\"Concert\",\"Concert\",\"Festival\",\"Concert\",\"Festival\",\"Concert\",\"Concert\",\"Festival\",\"Concert\",\"Concert\",\"Concert\",\"Festival\",\"Concert\",\"Festival\",\"Concert\",\"Concert\",\"Concert\",\"Concert\",\"Concert\",\"Concert\",\"Concert\",\"Festival\",\"Festival\",\"Concert\",\"Concert\"],\"festival_start_date\":[\"\",\"\",\"\",\"\",\"\",\"\",\"\",\"\",\"\",\"\",\"\",\"\",\"\",\"\",\"\",\"\",\"\",\"\",\"\",\"\",\"\",\"\",\"\",\"\",\"\",\"\",\"\",\"\",\"\",\"\",\"\",\"\",\"\",\"\",\"\",\"\",\"\",\"\",\"\",\"\",\"\",\"\",\"\",\"\",\"\",\"\",\"\",\"\",\"\",\"\",\"\",\"\",\"\",\"\",\"\",\"\",\"\",\"\",\"\",\"\",\"\",\"\",\"\",\"\",\"\",\"\",\"\",\"\",\"\",\"\",\"\",\"\",\"\",\"\",\"\",\"\",\"\",\"\",\"\",\"\",\"\",\"\",\"\",\"\",\"\",\"\",\"\",\"\",\"\",\"\",\"\",\"\",\"\",\"\",\"\",\"\",\"\",\"\",\"\",\"\",\"\",\"\",\"\",\"\",\"\",\"\",\"\",\"\",\"\",\"\",\"\",\"\",\"\",\"\",\"\",\"\",\"\",\"\",\"\",\"\",\"\",\"\",\"\",\"\",\"\",\"\",\"\",\"\",\"\",\"\",\"\",\"\",\"\",\"\",\"\",\"\",\"\",\"\",\"\",\"\",\"\",\"\",\"\",\"\",\"\",\"\",\"\",\"\",\"\",\"\",\"\",\"\",\"\",\"\",\"\",\"\",\"\",\"\",\"\",\"\",\"\",\"\",\"\",\"\",\"\",\"\",\"\",\"\",\"\",\"\",\"\",\"\",\"\",\"\",\"\",\"\",\"\",\"\",\"\",\"\",\"\",\"\",\"\",\"\",\"\",\"\",\"\",\"\",\"\",\"\",\"\",\"\",\"\",\"\",\"\",\"\",\"\",\"\",\"\",\"\",\"\",\"\",\"\",\"\",\"\",\"\",\"\",\"\",\"\",\"\",\"\",\"\",\"\",\"\",\"\",\"\",\"\",\"\",\"\",\"\",\"\",\"\",\"\",\"\",\"\",\"\",\"\",\"\",\"\",\"\",\"\",\"\",\"\",\"\",\"\",\"\",\"\",\"\",\"\",\"\",\"\",\"\",\"\",\"\",\"\",\"\",\"\",\"\",\"\",\"\",\"\",\"\",\"\",\"\",\"\",\"\",\"\",\"\",\"\",\"\",\"\",\"\",\"\",\"\",\"\",\"\",\"\",\"\",\"\",\"\",\"\",\"\",\"\",\"\",\"\",\"\",\"\",\"\",\"\",\"\",\"\",\"\",\"\",\"\",\"\",\"\",\"\",\"\",\"\",\"\",\"\",\"\",\"\",\"\",\"\",\"\",\"\",\"\",\"\",\"\",\"\",\"\",\"\",\"\",\"\",\"\",\"\",\"\",\"\",\"\",\"\",\"\",\"\",\"\",\"\",\"\",\"\",\"\"],\"index\":[0,1,2,3,4,5,6,7,8,9,10,11,12,13,14,15,16,17,18,19,20,21,22,23,24,25,26,27,28,29,30,31,32,33,34,35,36,37,38,39,40,41,42,43,44,45,46,47,48,49,50,51,52,53,54,55,56,57,58,59,60,61,62,63,64,65,66,67,68,69,70,71,72,73,74,75,76,77,78,79,80,81,82,83,84,85,86,87,88,89,90,91,92,93,94,95,96,97,98,99,100,101,102,103,104,105,106,107,108,109,110,111,112,113,114,115,116,117,118,119,120,121,122,123,124,125,126,127,128,129,130,131,132,133,134,135,136,137,138,139,140,141,142,143,144,145,146,147,148,149,150,151,152,153,154,155,156,157,158,159,160,161,162,163,164,165,166,167,168,169,170,171,172,173,174,175,176,177,178,179,180,181,182,183,184,185,186,187,188,189,190,191,192,193,194,195,196,197,198,199,200,201,202,203,204,205,206,207,208,209,210,211,212,213,214,215,216,217,218,219,220,221,222,223,224,225,226,227,228,229,230,231,232,233,234,235,236,237,238,239,240,241,242,243,244,245,246,247,248,249,250,251,252,254,255,256,257,258,259,260,261,262,263,264,265,266,267,268,269,270,271,272,273,274,275,276,277,278,279,280,281,282,283,284,285,287,288,289,290,291,292,293,294,295,296,297,298,299,300,301,302,303,304,305,306,307,308,309,310,311,312,313,314,315,316,317,318,319],\"latitude\":{\"__ndarray__\":\"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\",\"dtype\":\"float64\",\"order\":\"little\",\"shape\":[318]},\"lineup\":[[\"Tame Impala\",\"The Airborne Toxic Event\",\"Eric Prydz\",\"Roni Size\",\"Parov Stelar\",\"Grimes\",\"Dinosaur Jr.\",\"MiMoSA\",\"Unicorn Kid\",\"The Faint\",\"Dead Can Dance\",\"White Arrows\",\"Deep Vally\",\"Jamie Jones\",\"Father John Misty\",\"The Three O'Clock\",\"Jessie Ware\",\"Alex Clare\",\"Ladies Night\",\"JEFF the brotherhood\",\"Maya Jane Coles\",\"Tanlines\",\"Robert DeLong\",\"Raider Klan  \",\"Cloud Nothings\",\"James McCartney\",\"Rodriguez\",\"Wild Belle\",\"Paul Kalkbrenner\",\"Pretty Lights\",\"La Roux\",\"James Blake\",\"Thee Oh Sees\",\"Excision\",\"Paul Oakenfold\",\"Orchestral Manoeuvres in the Dark\",\"Hanni El Khatib\",\"The Lumineers\"],[\"Tame Impala\",\"Mona\",\"Alt-J\",\"Social Distortion\",\"Paul Oakenfold\",\"Hot Chip\",\"Dynamite MC\",\"Orchestral Manoeuvres in the Dark\",\"Adrian Lux\",\"Action Bronson\",\"3BallMTY\",\"Kurt Vile\",\"Selector\",\"Metric\",\"Julio Bashmore\",\"Moby\",\"Grizzly Bear\",\"Richie Hawtin\",\"The Evens\",\"DIIV\",\"Coachella Music Festival\",\"Shovels and Rope\",\"Tim Mason\",\"Hanni El Khatib\",\"Phoenix\",\"The Selecter\",\"VINTAGE TROUBLE\",\"Allen Stone\",\"Vampire Weekend\",\"Alex Clare\",\"JEFF the brotherhood\",\"The xx\",\"Tanlines\",\"Fedde Le Grand\",\"Stanton Warriors\",\"Bat for Lashes\",\"Ladies Night\",\"Huoratron\",\"The Make-Up\",\"Spiritualized\",\"Ben Howard\",\"Raider Klan  \",\"Little Green Cars\",\"Wild Nothing\",\"The 2 Bears\",\"Two Door Cinema Club\",\"Kids These Days\",\"You Me & Us\",\"Nick Cave & The Bad Seeds\",\"James Blake\",\"La Roux\",\"James McCartney\",\"Zane Lowe\",\"Thee Oh Sees\",\"Simian Mobile Disco\",\"Wu-Tang Clan\",\"Violent Femmes\",\"Caf\\u00e9 Tacuba\",\"Paul Kalkbrenner\",\"Wild Belle\",\"Pretty Lights\",\"Guards\",\"Father John Misty\",\"Savages\",\"Neighbourhood\",\"MTS on TOUR\",\"McDevitt Taco Supply\",\"Reignwolf\",\"Jessie Ware\",\"The Three O'Clock\",\"Franz Ferdinand\",\"Puscifer\",\"The Airborne Toxic Event\",\"Eric Prydz\",\"Trash Talk\",\"Roni Size\",\"Janelle Monae\",\"Theophilus London\",\"Yeasayer\",\"Major Lazer\",\"Danny Brown\",\"Red Hot Chili Peppers\",\"DESCENDENTS\",\"Portugal. The Man\",\"Birdy Nam Nam\",\"MiMoSA\",\"The Faint\",\"New Order\",\"El-P\",\"Dead Can Dance\",\"Grimes\",\"Dub FX\",\"Unicorn Kid\",\"Smith Westerns\",\"White Arrows\"],[\"Tame Impala\",\"Vampire Weekend\",\"Ladies Night\",\"Maya Jane Coles\",\"Alex Clare\",\"JEFF the brotherhood\",\"Tanlines\",\"Cloud Nothings\",\"Raider Klan  \",\"Robert DeLong\",\"Grimes\",\"The Faint\",\"Dead Can Dance\",\"Unicorn Kid\",\"White Arrows\",\"Deep Vally\",\"Red Hot Chili Peppers\",\"Dinosaur Jr.\",\"MiMoSA\",\"The Airborne Toxic Event\",\"Eric Prydz\",\"Roni Size\",\"Parov Stelar\",\"The Three O'Clock\",\"Jamie Jones\",\"Jessie Ware\",\"Father John Misty\",\"Rodriguez\",\"Wild Belle\",\"James Blake\",\"James McCartney\",\"Thee Oh Sees\",\"Excision\",\"Nick Cave & The Bad Seeds\",\"Pretty Lights\",\"La Roux\",\"Wu-Tang Clan\",\"Paul Kalkbrenner\",\"Hanni El Khatib\",\"The Lumineers\",\"Paul Oakenfold\",\"Orchestral Manoeuvres in the Dark\"],[\"Tame Impala\",\"Midnight Juggernauts\"],[\"Tame Impala\"],[\"Tame Impala\",\"Rebel FM Gig Pig\"],[\"Tame Impala\",\"Midnight Juggernauts\"],[\"Tame Impala\",\"Fred i Son\",\"Extraperlo\",\"Dead Skeletons\",\"Matthew E. White\",\"Wild Balbina\",\"Liars\",\"Simian Mobile Disco\",\"Wu-Tang Clan\",\"Phosphorescent\",\"Mount Eerie\",\"Adam Green and Binki Shapiro\",\"James Blake\",\"Las Tocayas\",\"Solange\",\"Meat Puppets\",\"Nick Cave & The Bad Seeds\",\"Ghostigital\",\"Rodriguez\",\"Dope Body\",\"Jozef Van Wissem & Jim Jarmusch \",\"Disclosure\",\"Dexys and Dexys Midnight Runners\",\"Thee Oh Sees\",\"Poolside\",\"Coriol\\u00e0\",\"Hot Chip\",\"Neko Case\",\"The Breeders\",\"La Brigada\",\"Hal Flavin\",\"Django Django\",\"Orchestre Poly-Rythmo de Cotonou\",\"Aliment\",\"Roll The Dice\",\"Blue Willa\",\"Hidrogenesse\",\"Metz\",\"How To Dress Well\",\"The Bots\",\"Jupiter Lion\",\"Gaurds\",\"Local Natives\",\"Christopher Owens\",\"Degreaser\",\"Fucked Up\",\"honeybird & the birdies\",\"Manel\",\"Omar Souleyman\",\"DIIV\",\"Carles Viarn\\u00e8s\",\"The Jesus and Mary Chain\",\"Jackmaster\",\"Goat\",\"Bored Spies\",\"Daphni\",\"Grizzly Bear\",\"Neurosis\",\"Do Make Say Think\",\"Fuck Buttons\",\"sean nicholas savage\",\"Kurt Vile\",\"L'hereu escampa\",\"The Vaccines\",\"Evans the Death\",\"Glass Candy\",\"The Babies\",\"King Tuff\",\"Ethan Johns\",\"Toundra\",\"DJ COCO\",\"Melody's Echo Chamber\",\"The Suicide of Western Culture\",\"Delorean\",\"Killer Mike\",\"Titus Andronicus\",\"Los Planetas\",\"The Ringo Jets\",\"Betunizer\",\"Ant\\u00f2nia Font\",\"Guardian Alien\",\"Mac DeMarco\",\"Wild Nothing\",\"Phoenix\",\"Om\",\"Bob Mould\",\"Apparat\",\"Mulatu Astatq\\u00e9\",\"Wound\",\"Shellac\",\"El Inquilino Comunista\",\"Daughn Gibson\",\"Moonflower\",\"Merchandise\",\"John Talabot\",\"Band of Horses\",\"Dinosaur Jr.\",\"Dan Deacon\",\"Hot Snakes\",\"Tinariwen\",\"Guadalupe Plata\",\"Paus\",\"La Bien Querida\",\"Tarantula\",\"Pony Bravo\",\"the magician\",\"Four Tet\",\"WHITE FENCE\",\"The Knife\",\"Crystal Castles\",\"Dead Can Dance\",\"Savages\",\"She And Him\",\"The Free Fall Band\",\"Rodriquez\",\"Jessie Ware\",\"Nurse\",\"Wilhelm\",\"Nils Frahm\",\"Adam Green\",\"My Bloody Valentine\",\"Daniel Johnston\",\"The Sea and Cake\"],[\"Tame Impala\",\"Bloc Party\",\"Grimes\",\"Shad\",\"Danny Brown\",\"Arctic Monkeys\",\"El-P\",\"Sigur R\\u00f3s\",\"Azealia Banks\",\"Ab-Soul\",\"The Tallest Man on Earth\",\"Father John Misty\",\"Jenny Slate\",\"Brett Gelman\",\"Macklemore\",\"Imagine Dragons\",\"Death Grips\",\"Alt-J\",\"Joe Mande\",\"The Lumineers\",\"Devendra Banhart\",\"Ryan Lewis\",\"Primus\",\"Kyle Kinane\",\"Nick Offerman\",\"Black Rebel Motorcycle Club\",\"Earl Sweatshirt\",\"Vampire Weekend\",\"James Adomian\",\"Killer Mike\",\"Brody Stevens\",\"SchoolBoy Q\"],[\"Tame Impala\",\"Jonathan Wilson\"],[\"Tame Impala\",\"Jonathan Wilson\"],[\"Tame Impala\",\"Jonathan Wilson\"],[\"Tame Impala\"],[\"Tame Impala\",\"Jonathan Wilson\"],[\"Tame Impala\",\"Dirty Projectors\",\"Four Tet\",\"The Sheepdogs\",\"Aoife O'Donovan\",\"Nas\",\"Ariel Pink\",\"The Tallest Man on Earth\",\"Cat Power\",\"Trombone Shorty & Orleans Avenue\",\"ARAABMUZIK\",\"Nicki Bluhm\",\"Holy Ghost!\",\"The Del McCoury Band\",\"Mumford and Sons\",\"Charli XCX\",\"Big K.R.I.T.\",\"MTS on TOUR\",\"Father John Misty\",\"Billy Idol\",\"JEFF the brotherhood\",\"Wilco\",\"Killer Mike\",\"Paper Diamond\",\"Bonnaroo\",\"The xx\",\"The Vaccines\",\"Beach House\",\"ZZ Top\",\"Daniel Tosh\",\"Futurebirds\",\"Wild Nothing\",\"Amadou & Mariam\",\"Clockwork\",\"twenty one pilots\",\"Earl Sweatshirt\",\"Action Bronson\",\"Macklemore\",\"\\\"Weird Al\\\" Yankovic\",\"ASAP Rocky\",\"Grizzly Bear\",\"Conspirator\",\"Sea Wolf\",\"Jason Isbell\",\"Mike Birbiglia\",\"Local Natives\",\"Death Grips\",\"Ryan Lewis\",\"Lee Fields & The Expressions\",\"Zigaboo Modeliste\",\"The Lumineers\",\"John McLaughlin & the 4th Dimension\",\"Cults\",\"Purity Ring\",\"Django Django\",\"John Fullbright\",\"Gov't Mule\",\"Sam Bush\",\"Kendrick Lamar\",\"Ed Helms\",\"Pretty Lights\",\"Bj\\u00f6rk\",\"Wu-Tang Clan\",\"Tom Petty and The Heartbreakers\",\"Deap Vally\"],[\"Tame Impala\"],[\"Tame Impala\",\"Fascinator\"],[\"Tame Impala\",\"Light Heat\"],[\"Tame Impala\"],[\"Tame Impala\",\"Melody's Echo Chamber\"],[\"Tame Impala\",\"Vienio\",\"Fismoll\",\"\\u00d6szibarack\",\"Palma Violets\",\"Savages\",\"domowe melodie\",\"Mikromusic\",\"\\u0141\\u0105ki \\u0141an\",\"Drekoty\",\"Arctic Monkeys\",\"Crystal Castles\",\"Rykarda Parasol\",\"Please the Trees\",\"Nas\",\"These New Puritans\",\"The National\",\"Matisyahu\",\"Jonny Greenwood\",\"Transmisja\",\"Peter J. Birch\",\"Ifi Ude\",\"Crystal Fighters\",\"Pianohooligan\",\"Hey\",\"Kaliber 44\",\"Magnificent Muttley\",\"Novika\",\"Disclosure\",\"REBEKA\",\"Maria Peszek\",\"Animal Collective\",\"Nick Cave & The Bad Seeds\",\"Skunk Anansie\",\"Mount Kimbie\",\"Junip\",\"Kendrick Lamar\",\"NON-HUMAN PERSONS\",\"Hot Casandra\",\"Kings of Leon\",\"Vavamuffin\",\"Ras Luta\",\"Plum\",\"Alt-J\",\"semantik punk\",\"Kixnare\",\"Everything Everything\",\"hipiersoniK\"],[\"Tame Impala\",\"Rammstein\",\"Band of Horses\",\"Azealia Banks\",\"Graveyard\",\"The Gaslight Anthem\",\"Passenger\",\"Richard Hawley\",\"Kings of Leon\",\"The Script\",\"Laura Mvula\",\"Alt-J\",\"Jake Bugg\",\"The Bots\",\"The Lumineers\",\"Django Django\",\"Editors\",\"Rudimental\",\"Disclosure\",\"Tom Odell\",\"Kendrick Lamar\",\"Gogol Bordello\",\"Depeche Mode\",\"Biffy Clyro\",\"Gary Clark Jr.\",\"John Legend\",\"A Day To Remember\",\"Jonathan Jeremiah\",\"Ben Howard\",\"Two Door Cinema Club\"],[\"Tame Impala\"],[\"Tame Impala\",\"MiXendorp\",\"\\u010canki\\u0161ou\",\"Warsaw Village Band\",\"Alex Clare\",\"Oscar Mulero\",\"Blaudzun\",\"Erol Alkan\",\"Balthazar\",\"Skip & Die\",\"Microfeel\",\"Triggerfinger\",\"Peter Bjorn and John\",\"Biffy Clyro\",\"Mystery Jets\",\"Deichkind\",\"Katy B\",\"Regina Spektor\",\"Booka Shade\",\"Timbuktu\",\"!!!\",\"Donots\",\"Die \\u00c4rzte\",\"\\u041b\\u0435\\u043d\\u0438\\u043d\\u0433\\u0440\\u0430\\u0434\",\"Linea 77\",\"Afterhours\",\"Michael Kiwanuka\",\"jozif\",\"\\u0414\\u0430\\u0445\\u0430\\u0411\\u0440\\u0430\\u0445\\u0430\",\"Flogging Molly\",\"Wax Tailor\",\"Baltic Balkan\",\"Shutka Roma Rap\",\"Splendid\",\"S\\u00f6nd\\u00f6rg\\u0151\",\"Dry The River\",\"Everything Everything\",\"Left Boy\",\"The Bots\",\"Mika\",\"Editors\",\"Calexico\",\"Nero\",\"Nneka\",\"Hoffmaestro\",\"Woodkid\",\"The Cribs\",\"Seeed\",\"Netsky\",\"Nick Cave & The Bad Seeds\",\"Skunk Anansie\",\"Rachid Taha\",\"Ruta\",\"Little Boots\",\"D.O.P.\",\"ZAZ\",\"Mokoomba\",\"Tako Lako\",\"Iori's Eyes\",\"Rangleklods\",\"La Pegatina\",\"Vojasa\",\"Boys Noize\",\"Rubik\",\"Chuckie\",\"Monophona\",\"Besh o droM\",\"Dub FX\",\"Guy J\",\"Enter Shikari\",\"Franz Ferdinand\",\"The Gaslight Anthem\",\"Pannonia Allstars Ska Orchestra\",\"Figli di Madre Ignota\",\"Daily Bread\",\"Parno Graszt\",\"The Joy Formidable\"],[\"Tame Impala\",\"Grimes\",\"The Knife\",\"Cat Power\",\"Black Debbath\",\"Skaters\",\"Monica Heldal\",\"Okkultokrati\",\"Angel Haze\",\"Azealia Banks\",\"John Talabot\",\"Danny Brown\",\"Sandra Kolstad\",\"Drape\",\"Kvelertak\",\"Pissed Jeans\",\"Of Monsters and Men\",\"Nils Bech\",\"James Blake\",\"Rodriguez\",\"Solange\",\"Kraftwerk\",\"Kendrick Lamar\",\"Uncle Acid & The Deadbeats\",\"Disclosure\",\"Alabama Shakes\",\"RAZIKA\",\"Mount Kimbie\",\"krafwerk\",\"Local Natives\",\"Goat\",\"Lemaitre\",\"Rebekka Karijord\",\"BLOOD COMMAND\",\"Godspeed You! Black Emperor\",\"Metz\",\"Beach House\",\"Electric Wizard\",\"Carmen Villain\",\"TRULS\",\"TONES\",\"John Olav Nilsen & Gjengen\",\"Andre Bratten\",\"Atlanter\"],[\"Tame Impala\"],[\"Tame Impala\",\"Tripwires\"],[\"Tame Impala\",\"Baauer\",\"Band of Horses\",\"Moderat\",\"De Jeugd van Tegenwoordig\",\"Bullet for My Valentine\",\"Ben Pearce\",\"Nine Inch Nails\",\"Bat for Lashes\",\"Biffy Clyro\",\"Seasick Steve\",\"hurts\",\"Crystal Water\",\"Bombino\"],[\"Tame Impala\"],[\"Tame Impala\"],[\"Tame Impala\",\"Rob Delaney\",\"Fuck Buttons\",\"Imagine Dragons\",\"EarlWolf\",\"The Strypes\",\"ASAP Rocky\",\"Action Bronson\",\"itch\",\"Fall Out Boy\",\"The Living End\",\"Ms. Dynamite\",\"Duologue\",\"Villagers\",\"Thumpers\",\"Twin Atlantic\",\"P-Money\",\"The Computers\",\"Hacktivist\",\"Katherine Ryan\",\"The Lumineers\",\"Knife Party\",\"Brand New\",\"Editors\",\"Arcane Roots\",\"Johnny Marr\",\"Skrillex\",\"Paul Chowdhry\",\"David Rodigan\",\"Jacob Plant\",\"Pure Love\",\"Charlie Boyer & The Voyeurs\",\"Seann Walsh\",\"Azealia Banks\",\"The Virginmarys\",\"Temples\",\"RedLight\",\"Feed The Rhino\",\"Andrew O'Neill\",\"Palma Violets\",\"Mallory Knox\",\"The Creepshow\",\"Post War Years\",\"Josh Widdicombe\",\"Savages\",\"Uncle Acid & The Deadbeats\",\"Mount Kimbie\",\"Findlay\",\"Half Moon Run\",\"Hawkeyes\",\"Darwin Deez\",\"SWIM DEEP\",\"System of a Down\",\"New Found Glory\",\"Chase & Status\",\"Kodaline\",\"Drenge\",\"Deap Vally\",\"Fenech\",\"Frankie & The Heartstrings\",\"anti vigilante\",\"White Lies\",\"Wiley\",\"Magnetic Man\",\"Wavves\",\"P Money\",\"Mic Righteous\",\"Alex Clare\",\"The Family Rain\",\"Modestep\",\"The 1975\",\"Biffy Clyro\",\"Chapel Club\",\"Nine Inch Nails\",\"British Sea Power\",\"Flux Pavilion\",\"Giggs\",\"Wretch 32\",\"Jeffrey Lewis\",\"Russell Kane\",\"The Pretty Reckless\",\"Parquet Courts\",\"Twisted Wheel\",\"China Rats\",\"The Jim Jones Revue\",\"Lucy Rose\",\"Toddla T\",\"Theme Park\"],[\"Tame Impala\",\"The Ghost of a Saber Toothed Tiger\",\"The Flaming Lips\"],[\"Tame Impala\",\"The Ghost of a Saber Toothed Tiger\",\"The Flaming Lips\"],[\"Tame Impala\",\"The Ghost of a Saber Toothed Tiger\",\"The Flaming Lips\"],[\"Tame Impala\",\"The Flaming Lips\",\"The Ghost of a Saber Toothed Tiger\"],[\"Tame Impala\",\"White Denim\"],[\"Tame Impala\",\"White Denim\"],[\"Tame Impala\",\"White Denim\"],[\"Tame Impala\",\"The National\"],[\"Tame Impala\"],[\"Tame Impala\",\"Rio Web Rock\"],[\"Tame Impala\"],[\"Tame Impala\"],[\"Tame Impala\",\"White Denim\"],[\"Tame Impala\",\"White Denim\"],[\"Tame Impala\",\"The Flaming Lips\",\"White Denim\"],[\"Tame Impala\"],[\"Tame Impala\",\"White Denim\",\"Matt Haze\",\"Motion Potion\",\"The Flaming Lips\",\"Silent Disco\"],[\"Tame Impala\",\"The Flaming Lips\"],[\"Tame Impala\",\"Foals\"],[\"Tame Impala\",\"Vampire Weekend\",\"Lorde\",\"December To Remember\"],[\"Tame Impala\",\"The Lumineers\",\"Steve Angello\",\"Mudhoney\",\"DIIV\",\"Blur\",\"SJD\",\"The Naked and Famous\",\"Clap Clap Riot\",\"MAC MILLER\",\"Pearl Jam\",\"Snoop Lion\",\"The Hives\",\"Beady Eye\",\"The 1975\",\"P Money\",\"Ladi 6\"],[\"Tame Impala\",\"Grouplove\",\"Pearl Jam\",\"Beady Eye\",\"The 1975\",\"Bo Ningen\",\"The Hives\",\"Cosmic Psychos\",\"MAC MILLER\",\"The Naked and Famous\",\"Mudhoney\",\"The Lumineers\",\"Steve Angello\",\"DIIV\",\"NORTHLANE\",\"Pez\",\"Toro\",\"The Algorithm\",\"Arcade Fire\",\"Flosstradamus\",\"Major Lazer\",\"Dillon Francis\",\"Blur\"],[\"Tame Impala\",\"Beady Eye\",\"The 1975\",\"The Hives\",\"Bo Ningen\",\"Pearl Jam\",\"Grouplove\",\"Flosstradamus\",\"Major Lazer\",\"Toro\",\"Pez\",\"Arcade Fire\",\"Blur\",\"Cosmic Psychos\",\"The Naked and Famous\",\"MAC MILLER\",\"DIIV\",\"NORTHLANE\",\"Steve Angello\",\"Mudhoney\",\"The Lumineers\"],[\"Tame Impala\",\"MAC MILLER\",\"Cosmic Psychos\",\"The Naked and Famous\",\"DIIV\",\"Steve Angello\",\"NORTHLANE\",\"Mudhoney\",\"The Lumineers\",\"The 1975\",\"Beady Eye\",\"Bo Ningen\",\"The Hives\",\"Pearl Jam\",\"Pez\",\"Toro\",\"Blur\"],[\"Tame Impala\",\"MAC MILLER\",\"Cosmic Psychos\",\"The Naked and Famous\",\"The Jungle Giants\",\"Steve Angello\",\"DIIV\",\"NORTHLANE\",\"The Lumineers\",\"Mudhoney\",\"Pearl Jam\",\"Grouplove\",\"Beady Eye\",\"Bo Ningen\",\"The Hives\",\"The 1975\",\"Vista Chino\",\"Dillon Francis\",\"Blur\",\"Major Lazer\",\"Toro\",\"Pez\",\"Flosstradamus\",\"Arcade Fire\",\"The Algorithm\"],[\"Tame Impala\",\"Grouplove\",\"Bo Ningen\",\"Pearl Jam\",\"Beady Eye\",\"The 1975\",\"The Hives\",\"MAC MILLER\",\"Cosmic Psychos\",\"The Naked and Famous\",\"Pez\",\"Toro\",\"Flosstradamus\",\"Arcade Fire\",\"Dillon Francis\",\"The Lumineers\",\"DIIV\",\"Mudhoney\",\"Steve Angello\"],[\"Tame Impala\"],[\"Tame Impala\"],[\"Tame Impala\"],[\"Tame Impala\"],[\"Tame Impala\",\"Factory Floor\",\"NEON JUNGLE\",\"Duke Dumont\",\"Soul II Soul\",\"Robert Hood\",\"Ed Sheeran\",\"Wilkinson\",\"Ben Howard\",\"Dolomite Minor\",\"Katy B\",\"Earl Sweatshirt\",\"Magda\",\"Julio Bashmore\",\"Alex Smoke\",\"John Newman\",\"Pharrell Williams\",\"Manic Street Preachers\",\"Sophie Ellis-Bextor\",\"Reverend and The Makers\",\"Skream\",\"The Magic Numbers\",\"Embrace\",\"Guy Gerber\",\"The Human League\",\"Sven V\\u00e4th\",\"Royal Blood\",\"Twin Atlantic\",\"Jake Bugg\",\"Nina Nesbitt\",\"Ellie Goulding\",\"George Ezra\",\"Drenge\",\"Tinie Tempah\",\"Pixies\",\"Kaiser Chiefs\",\"The Rifles\",\"DJ Fresh\",\"Red Hot Chilli Pipers\",\"Chance The Rapper\",\"Paolo Nutini\",\"The Twilight Sad\",\"Franz Ferdinand\",\"Elbow\",\"Newton Faulkner\",\"Passenger\",\"Ella Eyre\",\"Mark-Henning\",\"Joris Voorn\",\"Len Faki\",\"George Fitzgerald\"],[\"Tame Impala\"],[\"Tame Impala\"],[\"Tame Impala\"],[\"Tame Impala\",\"Sohn\",\"Courts\",\"Tinariwen\",\"Conor Oberst and the Mystic Valley Band\",\"Latitude\",\"Temples\",\"James\",\"Anna Calvi\",\"Ob\\u00e9l\",\"Editors\",\"Billy Bragg\",\"Agnes\",\"Mogwai\",\"The War on Drugs\",\"Goat\",\"George Ezra\",\"Kelis\",\"Slowdrive\"],[\"Tame Impala\",\"Spring King\",\"Dan Shake\",\"Rhodes\",\"Ibibio sound machine\",\"Kelis\",\"Miles Hunt\",\"Leon Vynehall\",\"BADBADNOTGOOD\",\"Parquet Courts\",\"Eagulls\",\"Two Door Cinema Club\",\"Anna Calvi\",\"James\",\"Eaves\",\"Childhood\",\"Only Real\",\"Circa Waves\",\"Editors\",\"Billy Bragg\",\"Lykke Li\",\"Mo Kolours\",\"augustines\",\"Mogwai\",\"Paul Heaton\",\"Cate Le Bon\",\"Oliver Wilde\",\"Teeth of the Sea\",\"The War on Drugs\",\"Daryl Hall\",\"Womans Hour\",\"Kevin Bridges\",\"Alison Moyet\",\"Willis Earl Beal\",\"The Bohicas\",\"Young Fathers\",\"Koreless\",\"Broken Twin\",\"Nils Frahm\",\"Future Islands\",\"Josephine Foster\",\"Fat White Family\",\"Andrew Ashong\",\"James Holden\",\"MJ Cole\",\"Chrissie Hynde\",\"Wookie\",\"VAULTS\",\"Champion\",\"Cass McCombs\",\"Sohn\",\"Damien Jurado\",\"Archie Bronson Outfit\"],[\"Tame Impala\"],[\"Tame Impala\"],[\"Tame Impala\",\"DELICATE STEVE\"],[\"Tame Impala\",\"IHC Presents:\",\"DELICATE STEVE\"],[\"Tame Impala\"],[\"Tame Impala\",\"DELICATE STEVE\"],[\"Tame Impala\",\"DELICATE STEVE\"],[\"Tame Impala\",\"Esteman\",\"L i a n n a\"],[\"Tame Impala\",\"The Lumineers\",\"Erlend \\u00d8ye\",\"Kakkmaddafakka\",\"Beach Fossils\",\"Real State\"],[\"Tame Impala\"],[\"Tame Impala\"],[\"Tame Impala\"],[\"Tame Impala\"],[\"Tame Impala\"],[\"Tame Impala\",\"Cloud Nothings\",\"Eagulls\",\"HEARTS\",\"Flying Lotus\",\"AC/DC\",\"Charles Bradley\",\"Keys N Krates\",\"Raekwon\",\"Erol Alkan\",\"Ryan Hemsworth\",\"Action Bronson\",\"Chris Malinchak\",\"Alesso\",\"Vic Mensa\",\"Angus and Julia Stone\",\"Indio\",\"Interpol\",\"Pete Tong\",\"Caribou\",\"Marques Wyatt\",\"Jason Bentley\",\"Sylvan Esso\",\"HAERTS\",\"GOASTT\",\"Todd Terje\",\"Los Rakas\",\"Alabama Shakes\",\"Brant Bjork & the Low Desert Punk Band\",\"Gorgon City\",\"Kele\",\"MK\",\"Ghostface Killah\",\"Squarepusher\",\"Steely Dan\",\"Azealia Banks\",\"Jon Hopkins\",\"Ab-Soul\",\"Alvin Risk\"],[\"Tame Impala\",\"Vic Mensa\",\"Alesso\",\"Interpol\",\"Pete Tong\",\"Action Bronson\",\"Chris Malinchak\",\"Steely Dan\",\"Azealia Banks\",\"Jon Hopkins\",\"Kele\",\"Alvin Risk\",\"Trippy Turtle\",\"Ab-Soul\",\"Ghostface Killah\",\"Los Rakas\",\"HAERTS\",\"GOASTT\",\"Eagulls\",\"Ryan Hemsworth\",\"AC/DC\",\"Raekwon\"],[\"Tame Impala\"],[\"Tame Impala\"],[\"Tame Impala\"],[\"Tame Impala\",\"Mini Mansions\"],[\"Tame Impala\"],[\"Tame Impala\"],[\"Tame Impala\"],[\"Tame Impala\"],[\"Tame Impala\",\"Mini Mansions\"],[\"Tame Impala\",\"Mini Mansions\"],[\"Tame Impala\"],[\"Tame Impala\",\"Mini Mansions\"],[\"Tame Impala\"],[\"Tame Impala\"],[\"Tame Impala\",\"Kuroma\"],[\"Tame Impala\",\"Kuroma\"],[\"Tame Impala\"],[\"Tame Impala\",\"Kuroma\"],[\"Tame Impala\"],[\"Tame Impala\"],[\"Tame Impala\"],[\"Tame Impala\"],[\"Tame Impala\",\"Buggs Tha Rocka\",\"machineheart\",\"LONESOME AS GOLD\",\"Secret Sisters \",\"Jamestown Revival\",\"Go Analog\",\"Multimagic\",\"Kid Runner\",\"Royal Blood\",\"Old Hundred\",\"Brand New\",\"Markham\",\"Wussy\",\"Austin Plaine\",\"Indigo Wild\",\"Matt and Kim\",\"Zach Longoria Project\",\"Kacey Musgraves\",\"500 Miles to Memphis\",\"Pluto Revolts\",\"Temples\",\"Bummers\"],[\"Tame Impala\",\"Kuroma\"],[\"Tame Impala\"],[\"Tame Impala\"],[\"Tame Impala\",\"Megan Washington\",\"Blur\"],[\"Tame Impala\",\"GIVERS\",\"The Deltas\",\"The Tallest Man on Earth\",\"Beat Connection\",\"RL Grime\",\"Sam Smith\",\"COIN\",\"Tyler, The Creator\",\"Jessica Hernandez\",\"G-Eazy\",\"Brand New\",\"Delta Spirit\",\"Travis Scott\",\"Mt. Eden\",\"Hippo Campus\",\"Metallica\",\"Elle King\",\"Pell\",\"Django Django\",\"Kid Cudi\",\"SNBRN\",\"Ryn Weaver\",\"Hermitude\",\"Zella Day\",\"Danny Weinkauf - band\"],[\"Tame Impala\"],[\"Tame Impala\"],[\"Tame Impala\"],[\"Tame Impala\",\"Kendrick Lamar\",\"The Law\",\"Devon Baldwin\",\"Giraffage\",\"Tropics\",\"Misterwives\",\"Django Django\",\"Mac DeMarco\",\"G-Eazy\",\"Outside Lands\",\"Milky Chance\"],[\"Tame Impala\"],[\"Tame Impala\"],[\"Tame Impala\"],[\"Tame Impala\"],[\"Tame Impala\"],[\"Tame Impala\"],[\"Tame Impala\"],[\"Tame Impala\"],[\"Tame Impala\"],[\"Tame Impala\"],[\"Tame Impala\"],[\"Tame Impala\",\"Nicholas Allbrook\"],[\"Tame Impala\"],[\"Tame Impala\"],[\"Tame Impala\"],[\"Tame Impala\",\"LA Priest\"],[\"Tame Impala\"],[\"Tame Impala\"],[\"Tame Impala\"],[\"Tame Impala\",\"Koi Child\",\"Mini Mansions\"],[\"Tame Impala\"],[\"Tame Impala\",\"Mini Mansions\"],[\"Tame Impala\",\"Mini Mansions\",\"Koi Child\"],[\"Tame Impala\"],[\"Tame Impala\",\"Mini Mansions\"],[\"Tame Impala\"],[\"Tame Impala\",\"Mini Mansions\"],[\"Tame Impala\"],[\"Tame Impala\"],[\"Tame Impala\"],[\"Tame Impala\"],[\"Tame Impala\"],[\"Tame Impala\"],[\"Tame Impala\"],[\"Tame Impala\"],[\"Tame Impala\"],[\"Tame Impala\",\"Jagwar Ma\"],[\"Tame Impala\",\"Jagwar Ma\"],[\"Tame Impala\"],[\"Tame Impala\"],[\"Tame Impala\"],[\"Tame Impala\",\"Albert Hammond, Jr.\",\"A-Trak\"],[\"Tame Impala\"],[\"Tame Impala\"],[\"Tame Impala\"],[\"Tame Impala\"],[\"Tame Impala\",\"Halsey\",\"Albert Hammond, Jr.\"],[\"Tame Impala\"],[\"Tame Impala\"],[\"Tame Impala\"],[\"Tame Impala\"],[\"Tame Impala\"],[\"Tame Impala\"],[\"Tame Impala\"],[\"Tame Impala\",\"Kiasmos\",\"\\u00d3lafur Arnalds\"],[\"Tame Impala\"],[\"Tame Impala\"],[\"Tame Impala\"],[\"Tame Impala\"],[\"Tame Impala\"],[\"Tame Impala\",\"M83\",\"Okay Kaya\"],[\"Tame Impala\",\"R\\u00dcF\\u00dcS DU SOL\",\"Fitz & The Tantrums\",\"Kings of Leon\",\"Saint Motel\"],[\"Tame Impala\",\"Kygo\"],[\"Tame Impala\",\"Whitney\",\"Calypso Rose\",\"Foals\",\"C'mon Tigre\",\"Young Thug\",\"Damily\",\"Hurray for the Riff Raff\"],[\"Tame Impala\",\"Goose\",\"Lost Frequencies\",\"Red Hot Chili Peppers\",\"Beirut\",\"Paul Kalkbrenner\"],[\"Tame Impala\"],[\"Tame Impala\",\"Mac DeMarco\"],[\"Tame Impala\"],[\"Tame Impala\",\"Radiohead\",\"Jos\\u00e9 Gonz\\u00e1lez\",\"Courtney Barnett\",\"Hot Chip\",\"Years & Years\",\"Jagwar Ma\"],[\"Tame Impala\"],[\"Tame Impala\"],[\"Tame Impala\"],[\"Tame Impala\"],[\"Tame Impala\",\"CLASSIXX\"],[\"Tame Impala\",\"Drive Like Jehu\"],[\"Tame Impala\"],[\"Tame Impala\"],[\"Tame Impala\"],[\"Tame Impala\"],[\"Tame Impala\"],[\"Tame Impala\"],[\"Tame Impala\"],[\"Tame Impala\",\"Mad Cool Festival 2018\",\"Kasabian\",\"Pearl Jam\",\"Depeche Mode\",\"Massive Attack\",\"Justice\"],[\"Tame Impala\"],[\"Tame Impala\",\"Julien Baker\",\"(Sandy) Alex G\",\"Saba\",\"Kaitlyn Aurelia Smith\",\"And More\",\"Kelela\",\"Smino\",\"Paul Cherry\",\"Girlpool\",\"Berhana\",\"Moses Sumney\",\"Irreversible Entanglements\",\"Noname\",\"Nnamdi Ogbonnaya\",\"Open Mike Eagle\",\"Earl Sweatshirt\",\"Blood Orange\",\"Chaka Khan\",\"The Curls\",\"Kweku Collins\",\"Ravyn Lenae\",\"This Is Not This Heat\",\"Alex Cameron\",\"Julie Byrne\",\"Raphael Saadiq\"],[\"Tame Impala\",\"Lil Wayne\",\"Snoop Dogg\",\"Modest Mouse\",\"Toadies\",\"Bun B\",\"Bassnectar\",\"Preservation Hall Jazz Band\",\"White Denim\",\"a Giant Dog\",\"Joywave\",\"Com Truise\",\"The Suffers\",\"Glass Animals\",\"Cashmere Cat\",\"Mainman\",\"Grandson\",\"Run The Jewels\",\"Vodi\",\"Float Fest\",\"The Wild Now\"],[\"Tame Impala\",\"Toadies\",\"White Denim\",\"The Wild Now\"],[\"Tame Impala\"],[\"Tame Impala\"],[\"Tame Impala\"],[\"Tame Impala\"],[\"Tame Impala\"],[\"Tame Impala\",\"Jarvis Cocker\",\"Earth\",\"Mercury Rev\",\"A Place to Bury Strangers\",\"Chelsea Wolfe\",\"Shannon\",\"Catscan\",\"Earthless\",\"Pond\",\"More Tba\",\"The Shrines\",\"King Khan\",\"The Clams\",\"True Widow\",\"Connan Mockasin\",\"Ty Segall\",\"BEAK>\",\"Damien Echols\",\"The Holydrug Couple\",\"Catscan!\",\"Malcolm Mooney\",\"F\\u00f6llakzoid\",\"King Khan And The Shrines\",\"WHITE FENCE\",\"Shannon and the Clams\",\"*Jarvis Cocker*\",\"Mary Lattimore\",\"Death Grips\",\"Sons Of Kemet\",\"Uncle Acid and the deadbeats\",\"Shannon & The Clams\",\"Mannequin Pussy\",\"King Gizzard & The Lizard Wizard\",\"Uncle Acid & The Deadbeats\",\"Ty Segall & White Fence\",\"All Them Witches\",\"King Gizzard \",\"Imarhan\",\"EX-CULT\",\"Hand Habits\",\"JJUUJJUU\",\"Kikagaku Moyo / \\u5e7e\\u4f55\\u5b66\\u6a21\\u69d8\",\"Boogarins\",\"Cut Worms\",\"Kevin Morby\",\"Dakha Brakha\",\"Kikagaku Moyo\",\"Sextile\",\"Ulrika Spacek\",\"Bedouine\",\"Preoccupations\",\"Here Lies Man\",\"Wand\",\"Gladys Lazer\",\"Tropa Magica\",\"Catscan DJ\",\"Cat Scan\"],[\"Tame Impala\",\"Lord Huron\",\"Sharon Van Etten\",\"Moses Sumney\"],[\"Tame Impala\",\"Pan\",\"Pond\",\"Sharon Van Etten\",\"U.S. Girls\",\"Shame\",\"Jungle\",\"Polo\",\"Courtney Barnett\",\"Silk City\",\"Lord Huron\",\"George Fitzgerald\",\"Cigarettes After Sex\",\"ASAP Rocky\",\"Hiatus Kaiyote\",\"A.$.A.P Rocky\",\"AAP Rocky\",\"Alex Cameron\",\"Gilligan Moss\",\"JPEGMAFIA\",\"serpentwithfeet\",\"Soccer Mommy\"],[\"Tame Impala\"],[\"Tame Impala\"],[\"Tame Impala\"],[\"Tame Impala\"],[\"Tame Impala\"],[\"Tame Impala\",\"Goo Goo Dolls\",\"Yeah Yeah Yeahs\",\"Phoenix\",\"of Montreal\",\"Chromeo\",\"The Chemical Brothers\",\"Francis\",\"White Lies\",\"Holy Ghost!\",\"CLASSIXX\",\"The Joy Formidable\",\"Dillon\",\"Kimbra\",\"Tops\",\"Goldroom\",\"Dillon Francis\",\"Christine And The Queens\",\"Rhye\",\"GG Magree\",\"Jax Jones\",\"HONNE\",\"boy pablo\",\"OMD\"],[\"Tame Impala\",\"Imogen Heap\",\"Talib Kweli\",\"Guster\",\"Sasha\",\"Chromeo\",\"Brandi Carlile\",\"Dessa\",\"Marina\",\"DJ Logic\",\"Logic\",\"Janelle Monae\",\"Fred Armisen\",\"Pile\",\"Turnstile\",\"Young Fathers\",\"Shame\",\"Black Star\",\"Franklin\",\"Snail Mail\",\"Lord Huron\",\"Jenny Slate\",\"Michael Che\",\"Christine And The Queens\",\"Marina franklin\",\"Kilo Kish\",\"SNAKEHIPS\",\"Mitski\",\"Hozier\",\"Denzel Curry\",\"Skeggs\",\"Gang of Youths\",\"Odesza\",\"Tank and the Bangas\",\"Big Red Machine\",\"Melissa Villasenor\",\"Greta Van Fleet\",\"White Reaper\",\"twenty one pilots\",\"Rainbow Kitten Surprise\",\"Mura Masa\",\"Anderson .Paak\",\"The Free Nationals\",\"Princess Nokia\",\"Cautious Clay\",\"Adia Victoria\",\"PALE WAVES\",\"Sam Jay\",\"Ravyn Lenae\",\"Rolling Blackouts Coastal Fever\",\"Yaeji\",\"Sidney Gish\",\"Clairo\",\"SOB X RBE\",\"King Princess\",\"Travis Scott\",\"Superorganism\",\"Sheck Wes\"],[\"Tame Impala\"],[\"Tame Impala\"],[\"Tame Impala\"],[\"Tame Impala\"],[\"Tame Impala\"],[\"Tame Impala\"],[],[\"Tame Impala\",\"The Story So Far\",\"Vampire Weekend\",\"Noname\",\"Snail Mail\",\"Alec Benjamin\",\"Lizzo\",\"Tiny Moving Parts\",\"Wallows\",\"Kali Uchis\",\"Yellow Days\",\"J.I.D\",\"Ella Mai\",\"Caamp\",\"The Band Camino\",\"CRAIG BROWN BAND\",\"King Princess\",\"Roy Blair\"],[],[\"Tame Impala\"],[\"Tame Impala\",\"Death Cab for Cutie\",\"Chevelle\",\"Bring Me the Horizon\",\"Janelle Monae\",\"Idles\",\"Dreamers\",\"YULTRON\",\"Snails\",\"Picture This\",\"Sigrid\",\"Childish Gambino\",\"Alec Benjamin\",\"Against The Current\",\"Alesso\",\"SHAED\",\"Maggie Rogers\",\"Party Favor\",\"rich the kid\",\"Shlump\",\"Tessa Violet\",\"nothing,nowhere.\",\"The Nude Party\",\"Said The Sky\",\"Japanese Breakfast\",\"HONNE\",\"CharlestheFirst\",\"Matoma\",\"Tierra Whack\",\"21 Savage\",\"BAYNK\",\"CalBoy\",\"Tyla Yaweh\",\"boy pablo\",\"Bishop Briggs\",\"The New Respects\",\"Whethan\",\"Omar Apollo\",\"Yoshi Flower\",\"Roy Blair\",\"Conan Gray\"],[\"Tame Impala\",\"The Cure\",\"Robyn\",\"Motorpsycho\",\"Sigrid\",\"KarPe\",\"Mitski\"],[\"Tame Impala\",\"The Cure\",\"Robyn\",\"Motorpsychos\",\"Sigrid\",\"KarPe\",\"Mitski\"],[\"Tame Impala\",\"The Cure\",\"Robyn\",\"Motorpsycho\",\"Sigrid\",\"KarPe\",\"Mitski\"],[\"Tame Impala\",\"The Cure\",\"Robyn\",\"Motorpsycho\",\"Sigrid\",\"KarPe\",\"Mitski\"],[\"Tame Impala\"],[\"Tame Impala\"],[\"Tame Impala\"],[],[],[\"Tame Impala\"],[\"Tame Impala\",\"The Cure\",\"The Raconteurs\",\"Asleep at the Wheel\",\"Thom Yorke\",\"Jenny Lewis\",\"Guns N' Roses\",\"Mumford & Sons\",\"k.flay\",\"the Amazons\",\"Childish Gambino\",\"FIDLAR\",\"Black Pistol Fire\",\"RL Grime\",\"Monsieur Perin\\u00e9\",\"Weyes Blood\",\"Tyler Childers\",\"Madison Beer\",\"Kaytranada\",\"Cherry Glazerr\",\"Houses\",\"TroyBoi\",\"The Comet Is Coming\",\"Jai Wolf\",\"Austin City Limits Festival\"],[\"Tame Impala\"],[\"Tame Impala\"],[\"Tame Impala\",\"Third Eye Blind\",\"The Cure\",\"The Raconteurs\",\"The Kooks\",\"Rebelution\",\"Bruce Hornsby\",\"Robyn\",\"Asleep at the Wheel\",\"Natalia Lafourcade\",\"Banks\",\"Thom Yorke\",\"Kacey Musgraves\",\"Jenny Lewis\",\"Gary Clark Jr.\",\"The Aces\",\"The Score\",\"Guns N' Roses\",\"James Blake\",\"the Beaches\",\"Mumford & Sons\",\"k.flay\",\"Shura\",\"the Amazons\",\"Griz\",\"Childish Gambino\",\"FIDLAR\",\"Black Pistol Fire\",\"Lizzo\",\"RL Grime\",\"Hippie Sabotage\",\"Monsieur Perin\\u00e9\",\"Weyes Blood\",\"Tyler Childers\",\"Taylor Bennett\",\"Mahalia Music\",\"Denzel Curry\",\"Judah & The Lion\",\"Madison Beer\",\"Misterwives\",\"Kaytranada\",\"Cherry Glazerr\",\"Houses\",\"TroyBoi\",\"Kali Uchis\",\"The Comet Is Coming\",\"Lil Uzi Vert\",\"LANY\",\"Jai Wolf\",\"The Band Camino\",\"King Princess\",\"Austin City Limits Festival\"],[\"Tame Impala\",\"Clairo\"],[\"Tame Impala\",\"Clairo\"],[\"Tame Impala\",\"Clairo\"],[\"Tame Impala\",\"Clairo\"],[\"Tame Impala\",\"MGMT\",\"Clairo\"],[\"Tame Impala\",\"Sum 41\",\"Daddy Yankee\",\"The Strokes\",\"Juanes\",\"Divisi\\u00f3n Min\\u00fascula\",\"The Whitest Boy Alive\",\"Kinky\",\"Rodrigo y Gabriela\",\"Ely Guerra\",\"El Tri\",\"Lucybell\",\"Lila Downs\",\"Hello Seahorse!\",\"Enjambre\",\"Los Cafres\",\"Los Invasores De Nuevo Leon\",\"Victimas del Dr. Cerebro\",\"Los Cadetes de Linares\",\"Todos Tus Muertos\",\"Babas\\u00f3nicos\",\"Andr\\u00e9s Calamaro\",\"Alejandro Fern\\u00e1ndez\",\"Los Aut\\u00e9nticos Decadentes\",\"Seth Troxler\",\"Kongos\",\"Mi Banda El Mexicano\",\"Technicolor Fabrics\",\"CID\",\"Duki\",\"LOUISAHHH!!!\",\"Foster the People\",\"Danny Ocean\",\"Mon laferte\",\"Caloncho\",\"Iggy Azalea\",\"Lauv\",\"Galantis\",\"Milky Chance\",\"PAL NORTE\",\"Klingande\",\"Elderbrook\",\"Thomas Jack\",\"Elsa y Elmar\",\"Elliot Moss\",\"Sam Feldt\",\"SHIBA SAN\",\"Sasha Sloan\",\"Morat\",\"Sita Abell\\u00e1n\",\"Girl Ultra\",\"The Mar\\u00edas\",\"Clairo\",\"pluko\",\"Paulo Londra\",\"Ed Maverick\"],[\"Tame Impala\",\"Khruangbin\"],[\"Tame Impala\",\"Khruangbin\"],[\"Tame Impala\",\"Khruangbin\"],[\"Tame Impala\",\"Khruangbin\"],[\"Tame Impala\",\"Khruangbin\"],[\"Tame Impala\",\"Perfume Genius\"],[\"Tame Impala\",\"Perfume Genius\"],[\"Tame Impala\",\"Perfume Genius\"],[\"Tame Impala\",\"Perfume Genius\"],[\"Tame Impala\",\"Perfume Genius\"],[\"Tame Impala\",\"Perfume Genius\"],[\"Tame Impala\",\"Perfume Genius\"],[\"Tame Impala\",\"Perfume Genius\"],[\"Tame Impala\",\"Perfume Genius\"],[\"Tame Impala\",\"Perfume Genius\"],[\"Tame Impala\",\"Perfume Genius\"],[\"Tame Impala\",\"Perfume Genius\"],[\"Tame Impala\",\"Perfume Genius\"],[\"Tame Impala\",\"Perfume Genius\"],[\"Tame Impala\",\"Perfume Genius\"],[\"Tame Impala\",\"Perfume Genius\"],[\"Tame Impala\",\"Perfume Genius\"],[\"Tame Impala\",\"Perfume Genius\"],[\"Tame Impala\",\"MGMT\",\"Clairo\"],[\"Tame Impala\",\"Sum 41\",\"Daddy Yankee\",\"The Strokes\",\"Juanes\",\"Divisi\\u00f3n Min\\u00fascula\",\"The Whitest Boy Alive\",\"Kinky\",\"Rodrigo y Gabriela\",\"Ely Guerra\",\"El Tri\",\"Lucybell\",\"Lila Downs\",\"Hello Seahorse!\",\"Enjambre\",\"Los Cafres\",\"Los Invasores De Nuevo Leon\",\"Victimas del Dr. Cerebro\",\"Los Cadetes de Linares\",\"Todos Tus Muertos\",\"Babas\\u00f3nicos\",\"Andr\\u00e9s Calamaro\",\"Alejandro Fern\\u00e1ndez\",\"Los Aut\\u00e9nticos Decadentes\",\"Seth Troxler\",\"Kongos\",\"Mi Banda El Mexicano\",\"Technicolor Fabrics\",\"CID\",\"Duki\",\"LOUISAHHH!!!\",\"Foster the People\",\"Danny Ocean\",\"Mon laferte\",\"Caloncho\",\"Iggy Azalea\",\"Lauv\",\"Galantis\",\"Milky Chance\",\"PAL NORTE\",\"Klingande\",\"Elderbrook\",\"Thomas Jack\",\"Elsa y Elmar\",\"Elliot Moss\",\"Sam Feldt\",\"SHIBA SAN\",\"Sasha Sloan\",\"Morat\",\"Sita Abell\\u00e1n\",\"Girl Ultra\",\"The Mar\\u00edas\",\"Clairo\",\"pluko\",\"Paulo Londra\",\"Ed Maverick\"],[\"Tame Impala\",\"Daddy Yankee\",\"Juanes\",\"Divisi\\u00f3n Min\\u00fascula\",\"Insite\",\"Hello Seahorse!\",\"Los Cafres\",\"MGMT\",\"Victimas del Dr. Cerebro\",\"Babas\\u00f3nicos\",\"Andr\\u00e9s Calamaro\",\"Alejandro Fern\\u00e1ndez\",\"Cray\",\"Seth Troxler\",\"Raul Hernandez\",\"Los Romanticos de Zacatecas\",\"La Leyenda\",\"CID\",\"Danny Ocean\",\"Lauren Lane\",\"Crooked Colours\",\"Lauv\",\"Galantis\",\"Milky Chance\",\"PAL NORTE\",\"Klingande\",\"Elderbrook\",\"Thomas Jack\",\"Elsa y Elmar\",\"Elliot Moss\",\"SHIBA SAN\",\"Sasha Sloan\",\"Medasin\",\"Sita Abell\\u00e1n\",\"Clairo\",\"La Sonora Dinamita\"],[\"Tame Impala\",\"Clairo\"],[\"Tame Impala\",\"Khruangbin\"],[\"Tame Impala\",\"Khruangbin\"],[\"Tame Impala\",\"Khruangbin\"],[\"Tame Impala\",\"Khruangbin\"],[\"Tame Impala\",\"Khruangbin\"],[\"Tame Impala\",\"Khruangbin\"],[\"Tame Impala\",\"Khruangbin\"],[\"Tame Impala\",\"MGMT\",\"Clairo\"],[\"Tame Impala\",\"Sum 41\",\"Daddy Yankee\",\"The Strokes\",\"Juanes\",\"Divisi\\u00f3n Min\\u00fascula\",\"The Whitest Boy Alive\",\"Kinky\",\"Rodrigo y Gabriela\",\"Ely Guerra\",\"El Tri\",\"Lucybell\",\"Lila Downs\",\"Hello Seahorse!\",\"Enjambre\",\"Los Cafres\",\"Los Invasores De Nuevo Leon\",\"Victimas del Dr. Cerebro\",\"Los Cadetes de Linares\",\"Todos Tus Muertos\",\"Babas\\u00f3nicos\",\"Andr\\u00e9s Calamaro\",\"Alejandro Fern\\u00e1ndez\",\"Los Aut\\u00e9nticos Decadentes\",\"Seth Troxler\",\"Kongos\",\"Mi Banda El Mexicano\",\"Technicolor Fabrics\",\"CID\",\"Duki\",\"LOUISAHHH!!!\",\"Foster the People\",\"Danny Ocean\",\"Mon laferte\",\"Caloncho\",\"Iggy Azalea\",\"Lauv\",\"Galantis\",\"Milky Chance\",\"PAL NORTE\",\"Klingande\",\"Elderbrook\",\"Thomas Jack\",\"Elsa y Elmar\",\"Elliot Moss\",\"Sam Feldt\",\"SHIBA SAN\",\"Sasha Sloan\",\"Morat\",\"Sita Abell\\u00e1n\",\"Girl Ultra\",\"The Mar\\u00edas\",\"Clairo\",\"pluko\",\"Paulo Londra\",\"Ed Maverick\"],[\"Tame Impala\",\"Daddy Yankee\",\"Juanes\",\"Divisi\\u00f3n Min\\u00fascula\",\"Insite\",\"Hello Seahorse!\",\"Los Cafres\",\"MGMT\",\"Victimas del Dr. Cerebro\",\"Babas\\u00f3nicos\",\"Andr\\u00e9s Calamaro\",\"Alejandro Fern\\u00e1ndez\",\"Cray\",\"Seth Troxler\",\"Raul Hernandez\",\"Los Romanticos de Zacatecas\",\"La Leyenda\",\"CID\",\"Danny Ocean\",\"Lauren Lane\",\"Crooked Colours\",\"Lauv\",\"Galantis\",\"Milky Chance\",\"PAL NORTE\",\"Klingande\",\"Elderbrook\",\"Thomas Jack\",\"Elsa y Elmar\",\"Elliot Moss\",\"SHIBA SAN\",\"Sasha Sloan\",\"Medasin\",\"Sita Abell\\u00e1n\",\"Clairo\",\"La Sonora Dinamita\"],[\"Tame Impala\",\"MGMT\",\"Clairo\"],[\"Tame Impala\",\"Incubus\",\"Nelly\",\"Deftones\",\"Foo Fighters\",\"Flogging Molly\",\"My Morning Jacket\",\"Primus\",\"Goose\",\"The Disco Biscuits\",\"LICK\",\"Dashboard Confessional\",\"Jason Isbell\",\"Greensky Bluegrass\",\"Janelle Monae\",\"the 400 Unit\",\"The Struts\",\"with\",\"Deadmau5\",\"DJ Mel\",\"G-Eazy\",\"Surfaces\",\"Lil Baby\",\"Kevin Gates\",\"Young the Giant\",\"Lana Del Rey\",\"Phoebe Bridgers\",\"Jon Batiste\",\"Young Thug\",\"Lizzo\",\"Flamingosis\",\"Pinegrove\",\"Glass Animals\",\"Level-Up\",\"Seven Lions\",\"Uncle Acid \",\"King Gizzard & The Lizard Wizard\",\"almost monday\",\"Brittany Howard\",\"Dr. Fresch\",\"Boombox Cartel\",\"Subtronics\",\"Ashnikko\",\"Run The Jewels\",\"William Black\",\"Hero the Band\",\"Remi Wolf \",\"J.I.D\",\"Ekali\",\"Leon Bridges\",\"JACK HARLOW\",\"Tyler, The Creator\",\"Grace Potter\",\"Caamp\",\"The Band Camino\",\"Yaeji\",\"Wooli\",\"Oliver Tree\",\"Megan Thee Stallion\",\"Marc Rebillet\",\"The Deadbeats\",\"Tate McRae\"],[\"Tame Impala\"],[\"Tame Impala\",\"Perfume Genius\"],[\"Tame Impala\"],[\"Tame Impala\",\"Clairo\"],[\"Tame Impala\"],[\"Tame Impala\",\"Perfume Genius\"],[\"Tame Impala\"],[\"Tame Impala\"],[\"Tame Impala\",\"Taking Back Sunday\",\"Nelly\",\"Band of Horses\",\"Diplo\",\"Portugal. The Man\",\"Wiz Khalifa\",\"Chris Lake\",\"Caribou\",\"Cage the Elephant\",\"Deep Sea Diver\",\"Duke Dumont\",\"Mar\\u00eda Isabel\",\"Role Model\",\"Aluna\",\"Clever\",\"Cassy\",\"Cannons \",\"Turnstile\",\"Claud\",\"Blossoms\",\"Rossy\",\"Kim Petras\",\"Peach Pit\",\"Elohim\",\"MISSIO\",\"Rezz\",\"Machine Gun Kelly\",\"Madeon\",\"Phoebe Bridgers\",\"Lizzo\",\"Mt. Joy\",\"Blackbear\",\"Atlas Genius\",\"Lost Frequencies\",\"Glass Animals\",\"Khruangbin\",\"Laundry Day\",\"almost monday\",\"Duckwrth\",\"Denzel Curry\",\"CloZee\",\"Judah & The Lion\",\"RedVeil\",\"Sub Urban\",\"Trevor Daniel\",\"Madds\",\"White Reaper\",\"Grandson\",\"Badflower\",\"Sylvan Esso\",\"Ritt Momney\",\"GG Magree\",\"Big Wild\",\"Remi Wolf \",\"St. Panther\",\"Noga Erez\",\"Anna of the North\",\"SLANDER\",\"Sofi Tukker\",\"Michigander\",\"Billie Eilish\",\"Middle Kids\",\"Oliver Tree\",\"ONR\",\"Dominic Fike\",\"Orion Sun\",\"KennyHoopla\",\"LP Giobbi\",\"lovelytheband\",\"Still Woozy\",\"Royal & the Serpent\",\"Megan Thee Stallion\",\"Des Rocs\",\"Marc Rebillet\",\"Arlo Parks\",\"Roddy Ricch\",\"girl in red\",\"Tate McRae\",\"iann dior\",\"$NOT\",\"JORDY\",\"Gracie Abrams\",\"Kenny Mason\",\"jxdn\",\"Carolesdaughter\",\"Surf Mesa\",\"Rozet\"],[\"Tame Impala\"],[\"Tame Impala\",\"Nelly\",\"The Strokes\",\"Bonobo\",\"Dr. Dog\",\"Cam\",\"Beach House\",\"DRAMA\",\"Q\",\"Bakar\",\"Vampire Weekend\",\"The HU\",\"Cannons \",\"The Soul Rebels\",\"Claud\",\"Sharon Van Etten\",\"Angel Olsen\",\"Outside Lands\",\"Caroline Polachek\",\"J Balvin\",\"EOB\",\"Odie\",\"The Midnight\",\"Lord Huron\",\"Young Thug\",\"Lizzo\",\"ZHU\",\"Burna Boy\",\"Glass Animals\",\"Khruangbin\",\"Crooked Colours\",\"Melanie Martinez\",\"Mahalia Music\",\"The 1975\",\"Moses Sumney\",\"Amy Allen\",\"Rexx Life Raj\",\"BADSHAH\",\"Brittany Howard\",\"Julia Jacklin\",\"Nap Eyes\",\"EarthGang\",\"Trevor Daniel\",\"Kaytranada\",\"TroyBoi\",\"SG Lewis\",\"Buscabulla\",\"Hinds\",\"Yves Tumor\",\"Kehlani\",\"Polo & Pan\",\"Remi Wolf \",\"A R I Z O N A\",\"SHIBA SAN\",\"R\\u00dcF\\u00dcS DU SOL\",\"J.Phlip\",\"YUNG BAE\",\"Marc E. Bassy\",\"Noga Erez\",\"Post Animal\",\"Sofi Tukker\",\"Andrew McMahon in the Wilderness\",\"Itsband\",\"Shilan\",\"The Beths\",\"Tyler, The Creator\",\"Big Thief\",\"Parcels\",\"Madeline Kenney\",\"Rolling Blackouts Coastal Fever\",\"Goth Babe\",\"JPEGMAFIA\",\"boy pablo\",\"070 SHAKE\",\"Rico Nasty\",\"Neil Frances\",\"Resistance Revival Chorus\",\"Scarypoolparty\",\"mxmtoon\",\"Bartees Strange\",\"Marc Rebillet\",\"Neal Francis\",\"Dijon\",\"Tones And I\",\"Brijean\",\"Evann McIntosh\"],[\"Tame Impala\"],[\"Tame Impala\"],[\"Tame Impala\",\"Master P\",\"Lil Baby\",\"Toro y Moi\",\"BIA\",\"Young Thug\",\"ysl\",\"Chief Keef\",\"Maxo Kream\",\"SZA\",\"Chase B\",\"Metro Boomin\",\"Yves Tumor\",\"21 Savage\",\"Bad Bunny\",\"Earth, Wind & Fire\",\"Travis Scott\",\"Sheck Wes\",\"Don Toliver\",\"Roddy Ricch\",\"Baby Keem\",\"SoFaygo\",\"Teezo Touchdown\"],[\"Tame Impala\"],[\"Tame Impala\"],[\"Tame Impala\"],[\"Tame Impala\",\"Foo Fighters\",\"Juanes\",\"Divisi\\u00f3n Min\\u00fascula\",\"Insite\",\"Kinky\",\"The Kooks\",\"Ely Guerra\",\"El Tri\",\"Lucybell\",\"Lila Downs\",\"Hello Seahorse!\",\"Enjambre\",\"Los Cafres\",\"Victimas del Dr. Cerebro\",\"Todos Tus Muertos\",\"Babas\\u00f3nicos\",\"Alejandro Fern\\u00e1ndez\",\"Cray\",\"Los Aut\\u00e9nticos Decadentes\",\"Seth Troxler\",\"The Whites\",\"Lua\",\"Kongos\",\"Los Romanticos de Zacatecas\",\"Technicolor Fabrics\",\"Nathan Barato\",\"Sublime with Rome\",\"Foster the People\",\"Danny Ocean\",\"Piso 21\",\"Michael Brun\",\"MCDAVO\",\"Lauren Lane\",\"Mon laferte\",\"Caloncho\",\"Claptone\",\"Joss Favela\",\"Galantis\",\"Vicetone\",\"PurpleDiscoMachine\",\"Klingande\",\"Thomas Jack\",\"MAU Y RICKY\",\"Elliot Moss\",\"Sam Feldt\",\"A R I Z O N A\",\"SHIBA SAN\",\"Leon Leiden\",\"Sasha Alex Sloan\",\"Sasha Sloan\",\"UZIELITO MIX\",\"Sita Abell\\u00e1n\",\"Girl Ultra\",\"boy pablo\",\"Chet Faker\",\"Gera mx\",\"pluko\",\"Ed Maverick\"],[\"Tame Impala\"],[\"Tame Impala\",\"The Bravery\",\"All Time Low\",\"Cheap Trick\",\"The Whitest Boy Alive\",\"The Kooks\",\"St. Vincent\",\"AURORA\",\"Gaia\",\"Turnstile\",\"Disclosure\",\"LP\",\"HANA\",\"Shura\",\"MISSIO\",\"Flight Facilities\",\"George FitzGerald\",\"Royal Blood\",\"Flamingosis\",\"Electric Guest\",\"Smith & Thell\",\"Khruangbin\",\"Faye Webster\",\"Parquet Courts\",\"Will Joseph Cook\",\"Fakear\",\"Adam Melchor\",\"JP Saxe\",\"Goss\",\"Ashnikko\",\"SG Lewis\",\"twenty one pilots\",\"Ritt Momney\",\"Jehnny Beth\",\"Elliot Moss\",\"Glaive\",\"R\\u00dcF\\u00dcS DU SOL\",\"Dayglow\",\"Bleachers\",\"Cautious Clay\",\"Pabllo Vittar\",\"Ela Minus\",\"boy pablo\",\"070 SHAKE\",\"Slowthai\",\"Alfie Templeman\",\"Hamzaa\",\"Alaina Castillo\",\"Niko Rubio\"],[\"Tame Impala\"],[\"Tame Impala\"],[\"Tame Impala\"],[\"Tame Impala\"],[\"Tame Impala\"],[\"Tame Impala\"],[\"Tame Impala\"],[\"Tame Impala\",\"Foo Fighters\",\"My Morning Jacket\",\"St. Vincent\",\"Dashboard Confessional\",\"Sydney Sprague\",\"the Tantrums\",\"Nothing But Thieves\",\"almost monday\",\"Del Water Gap\",\"Billy Strings\",\"White Reaper\",\"The DIP\",\"Jade Bird\",\"Matt and Kim\",\"Caamp\",\"Black Pumas\"],[\"Tame Impala\",\"Pepper\",\"Flying Lotus\",\"Caribou\",\"DRAMA\",\"Gary Clark Jr.\",\"DJ Harvey\",\"The Glitch Mob\",\"Ross\",\"Jungle\",\"Washed Out\",\"BIA\",\"Porter Robinson\",\"The Backseat Lovers\",\"Griz\",\"Rezz\",\"Twin Shadow\",\"Amtrac\",\"Mt. Joy\",\"Duckwrth\",\"Denzel Curry\",\"CloZee\",\"Elderbrook\",\"TroyBoi\",\"Ashnikko\",\"STRFKR\",\"Jai Wolf\",\"Gus Dapperton\",\"Tobi Lou\",\"Two Feet\",\"Megan Thee Stallion\",\"Coi Leray\",\"Tai Verdes\"],[\"Tame Impala\"],[\"Tame Impala\",\"Sudan Archives\"]],\"lineup_size\":[38,95,42,2,1,2,2,123,32,2,2,2,1,2,65,1,2,2,1,2,48,30,1,77,44,1,2,14,1,1,88,3,3,3,3,2,2,2,2,1,2,1,1,2,2,3,1,6,2,2,4,17,23,21,17,25,19,1,1,1,1,51,1,1,1,19,53,1,1,2,3,1,2,2,3,6,1,1,1,1,1,39,22,1,1,1,2,1,1,1,1,2,2,1,2,1,1,2,2,1,2,1,1,1,1,23,2,1,1,3,26,1,1,1,12,1,1,1,1,1,1,1,1,1,1,1,2,1,1,1,2,1,1,1,3,1,2,3,1,2,1,2,1,1,1,1,1,1,1,1,1,2,2,1,1,1,3,1,1,1,1,3,1,1,1,1,1,1,1,3,1,1,1,1,1,3,5,2,8,6,1,2,1,7,1,1,1,1,2,2,1,1,1,1,1,1,1,7,1,26,21,4,1,1,1,1,1,58,4,22,1,1,1,1,1,24,58,1,1,1,1,1,1,0,18,0,1,41,7,7,7,7,1,1,1,0,0,1,25,1,1,52,2,2,2,2,3,56,2,2,2,2,2,2,2,2,2,2,2,2,2,2,2,2,2,2,2,2,2,2,2,3,56,36,2,2,2,2,2,2,2,2,3,56,36,3,62,1,2,1,2,1,2,1,1,88,1,86,1,1,23,1,1,1,59,1,49,1,1,1,1,1,1,1,17,33,1,2],\"location\":[\"\",\"\",\"\",\"\",\"\",\"\",\"\",\"\",\"\",\"\",\"\",\"\",\"\",\"\",\"\",\"\",\"\",\"\",\"\",\"\",\"\",\"\",\"\",\"\",\"\",\"\",\"\",\"\",\"\",\"\",\"\",\"\",\"\",\"\",\"\",\"\",\"\",\"\",\"\",\"\",\"\",\"\",\"\",\"\",\"\",\"\",\"\",\"\",\"\",\"\",\"\",\"\",\"\",\"\",\"\",\"\",\"\",\"\",\"\",\"\",\"\",\"\",\"\",\"\",\"\",\"\",\"\",\"\",\"\",\"\",\"\",\"\",\"\",\"\",\"\",\"\",\"\",\"\",\"\",\"\",\"\",\"\",\"\",\"\",\"\",\"\",\"\",\"\",\"\",\"\",\"\",\"\",\"\",\"\",\"\",\"\",\"\",\"\",\"\",\"\",\"\",\"\",\"\",\"\",\"\",\"\",\"\",\"\",\"\",\"\",\"\",\"\",\"\",\"\",\"\",\"\",\"\",\"\",\"\",\"\",\"\",\"\",\"\",\"\",\"\",\"\",\"\",\"\",\"\",\"\",\"\",\"\",\"\",\"\",\"\",\"\",\"\",\"\",\"\",\"\",\"\",\"\",\"\",\"\",\"\",\"\",\"\",\"\",\"\",\"\",\"\",\"\",\"\",\"\",\"\",\"\",\"\",\"\",\"\",\"\",\"\",\"\",\"\",\"\",\"\",\"\",\"\",\"\",\"\",\"\",\"\",\"\",\"\",\"\",\"\",\"\",\"\",\"\",\"\",\"\",\"\",\"\",\"\",\"\",\"\",\"\",\"\",\"\",\"\",\"\",\"\",\"\",\"\",\"\",\"\",\"\",\"\",\"\",\"\",\"\",\"\",\"\",\"\",\"\",\"\",\"\",\"\",\"\",\"\",\"\",\"\",\"\",\"\",\"\",\"\",\"\",\"\",\"\",\"\",\"\",\"\",\"\",\"\",\"\",\"\",\"\",\"\",\"\",\"\",\"\",\"\",\"\",\"\",\"\",\"\",\"\",\"\",\"\",\"\",\"\",\"\",\"\",\"\",\"\",\"\",\"\",\"\",\"\",\"\",\"\",\"\",\"\",\"\",\"\",\"\",\"\",\"\",\"\",\"\",\"\",\"\",\"\",\"\",\"\",\"\",\"\",\"\",\"\",\"\",\"\",\"\",\"\",\"\",\"\",\"\",\"\",\"\",\"\",\"\",\"\",\"\",\"\",\"\",\"\",\"\",\"\",\"\",\"\",\"\",\"\",\"\",\"\",\"\",\"\",\"\",\"\",\"\",\"\",\"\",\"\",\"\",\"\",\"\",\"\",\"\",\"\",\"\",\"\",\"\",\"\",\"\",\"\",\"\",\"\",\"\",\"\",\"\",\"\"],\"longitude\":{\"__ndarray__\":\"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\",\"dtype\":\"float64\",\"order\":\"little\",\"shape\":[318]},\"name\":[\"Empire Polo Field\",\"Empire Polo Club\",\"Empire Polo Field\",\"Festival Hall Melbourne\",\"Hordern Pavilion\",\"Brisbane Convention & Exhibition Centre\",\"Belvoir Amphitheatre\",\"Parc del F\\u00f2rum\",\"Gorge Amphitheatre\",\"Crystal Ballroom\",\"Commodore Ballroom\",\"Fox Theater\",\"The Fox Theater\",\"House of Blues San Diego\",\"Great Stage Park\",\"The Tabernacle\",\"The National\",\"Electric Factory\",\"HAMMERSMITH APOLLO\",\"l'Olympia\",\"Gdynia-Kosakowo Airfield\",\"Unknown venue\",\"Le Bikini\",\"Obudai-sziget\",\"Unknown venue\",\"Vega\",\"KOMPLEX 457\",\"Lowlands Festival Site\",\"The Picture House\",\"Olympia Theatre\",\"Bramham Park\",\"Terminal 5\",\"Terminal 5\",\"Festival Pier\",\"Merriweather Post Pavilion\",\"The Pageant\",\"Orpheum Theater\",\"Riviera Theater\",\"Starlight Theater\",\"South Side Ballroom\",\"Circo Voodor\",\"Auditorio Banamex\",\"Jos\\u00e9 Cuervo Sal\\u00f3n\",\"Boulder Theater\",\"Ogden Theater\",\"Greek Theatre\",\"BELASCO\",\"Bill Graham Civic Auditorium\",\"Santa Barbara Bowl\",\"KeyArena\",\"Mcmenamins Crystal Ballroom\",\"Western Springs Stadium\",\"Metricon Stadium\",\"Flemington Racecourse\",\"Sydney Showground\",\"Bonython Park\",\"Arena Joondalup\",\"Hotel Rottnest\",\"O2 Academy Oxford\",\"Batschkapp\",\"Theaterfabrik im Optimolgel\\u00e4nde\",\"Balado\",\"Albert Hall\",\"The Institute\",\"Rock City\",\"Henham Park\",\"Henham Park\",\"Henham Park\",\"Beacon Theatre\",\"Beacon Theatre\",\"Shrine Auditorium\",\"Brooklyn Bowl Las Vegas\",\"Fox Theater\",\"Fox Theater\",\"Esteman en el SOMA \",\"Primavera Fauna\",\"Manchester Arena\",\"Alexandra Palace\",\"Lollapalooza Brazil\",\"Lollapalooza Argentina\",\"Fox Theater\",\"Coachella\",\"Coachella\",\"Levitation (Austin Psych Fest)\",\"Civic Theatre\",\"Shaky Knees 2015\",\"Ryman Auditorium\",\"First Avenue \",\"Riverside Theater\",\"Riviera Theatre\",\"The LC Pavillion\",\"Royal Oak Music Theatre\",\"Massey Hall\",\"M\\u00e9tropolis\",\"M\\u00e9tropolis \",\"Boston Calling Festival\",\"Sasquatch! Festival 2015\",\"Malkin Bowl\",\"Roseland Theater\",\"The Depot\",\"Ogden Theatre\",\"Uptown Theater\",\"The Pageant\",\"Stage AE\",\"House of Blues\",\"Bunbury Music Festival 2015\",\"Echostage\",\"Gov Ball | Randalls Island\",\"Splendour In The Grass \",\"North Byron Parklands\",\"Lollapalooza\",\"The North Park Theatre\",\"Hollywood Forever Cemetery\",\"Hollywood Forever Cemetery\",\"Golden Gate Park Outside Lands\",\"Paredes de Coura\",\"Pukklelpop\",\"Lowlands Festival 2015\",\"Ex Convento dell' Annunziata\",\"Ippodromo delle Capannelle\",\"Teatro Romano\",\"Zurich Openair Festival\",\"Rock En Seine\",\"End of the Road Festival\",\"Electric Picnic\",\"Barrowland\",\"Liverpool Olympia\",\"Bestival - Isle of Wight\",\"Lollapalooza\",\"Austin City Limits\",\"Tower Theatre\",\"Radio City Music Hall\",\"TERMINAL 5 \",\"Austin City Limits \",\"Sidney Myer Music Bowl\",\"Forecourt, Sydney Opera House\",\"Sydney Opera House Forecourt\",\"Belvoir Amphitheatre\",\"Belvoir Amphitheatre\",\"Thebarton Theatre\",\"Thebarton Theatre\",\"Riverstage\",\"Logan Campbell Centre\",\"Shed 6\",\"afas live\",\"Vorst Nationaal\",\"ZENITH PARIS\",\"Falconer Salen\",\"Sentrum Space\",\"Annexet\",\"Mehr Theater\",\"Columbiahalle\",\"Palladium\",\"Manchester Arena\",\"Alexandra Palace\",\"Alexandra Palace\",\"Festival Estereo Picnic\",\"Lollapalooza\",\"Esplanade Park Exhibition\",\"Teatro Vorterix\",\"Lollapalooza Argentina\",\"Lollapalooza Chile\",\"MacPherson Stadium\",\"The Star Theatre \",\"Urbanscapes\",\"Zepp Tokyo\",\"Namba Hatch\",\"Parkir Selatan Senayan \",\"Primavera Sound \",\"Forbidden Fruit Festival\",\"Bonnaroo\",\"Bestival\",\"Bell Centre\",\"BRIC Celebrate Brooklyn! Festival at Prospect Park Bandshell\",\"BRIC Celebrate Brooklyn! Festival at Prospect Park Bandshell\",\"Merriweather Post Pavilion\",\"Firefly Music Festival\",\"Open'er Festival\",\"Roskilde Festival\",\"Rock Werchter\",\"Les Eurock\\u00e9ennes de Belfort\",\"Theatres Romains De Fourviere\",\"Market Sound \",\"NOS Alive Festival\",\"BBK Live\",\"Live Park Amphitheatre\",\"Colours of Ostrava\",\"Melt! Festival\",\"FYF\",\"Project Pabst\",\"Red Rocks\",\"Greek Theater\",\"Greek Theatre\",\"Bumbershoot\",\"Palacio de los Deportes\",\"Auditorio Banamex\",\"Panorama Festival\",\"Espacio Mad Cool\",\"Citadel Festival\",\"Union Park\",\"Cool River Ranch\",\"FLOAT FEST\",\"Summersonic Festival\",\"Summersonic Festival\",\"The Institute of Light\",\"The Institute of Light\",\"The Institute of Light\",\"Desert Daze 2018 (Oct 12-14)\",\"Treasure Island Music Festival\",\"Middle Harbor Shoreline Park\",\"Ascend Amphitheater\",\"U.S. Cellular Center Asheville\",\"Shaky Knees Music Festival\",\"The St. Augustine Amphitheatre\",\"The Fillmore Miami Beach\",\"Corona Capital\",\"Boston Calling Music Festival\",\"Primavera Sound\",\"We Love Green Festival\",\"G\\u00e5rden\",\"The O2\",\"Empress Ballroom, Winter Gardens\",\"3Arena\",\"Budweiser Stage\",\"Mo Pop Festival\",\"Surly Brewing Festival Field\",\"Surly Brewing Festival Field\",\"Lollapalooza\",\"Toyenparken\",\"Toyenparken\",\"Toyenparken\",\"Toyenparken\",\"Parkb\\u00fchne Wuhlheide\",\"Madison Square Garden\",\"Madison Square Garden\",\"The Mann Center for the Performing Arts\",\"The Anthem\",\"The Anthem\",\"Zilker Metropolitan Park\",\"The Mission Ballroom\",\"The Mission Ballroom\",\"Zilker Metropolitan Park\",\"Pechanga Arena San Diego\",\"The Forum\",\"The Forum\",\"Chase Center\",\"Foro Sol\",\"Parque Fundidora\",\"Spark Arena\",\"Brisbane Entertainment Centre\",\"Rod Laver Arena\",\"Adelaide Entertainment Centre\",\"RAC Arena\",\"Scotiabank Arena\",\"Bell Centre\",\"Capital One Arena\",\"Spectrum Center\",\"State Farm Arena\",\"American Airlines Arena\",\"Xcel Energy Center\",\"Enterprise Center\",\"Sprint Center\",\"BOK Center\",\"Frank C. Erwin, Jr., Special Events Center\",\"American Airlines Center\",\"Toyota Center\",\"Gila River Arena\",\"Pepsi Center\",\"Vivint Smart Home Arena\",\"Moda Center\",\"Rogers Arena\",\"Foro Sol\",\"Parque Fundidora\",\"Parque Fundidora\",\"Chase Center\",\"Spark Arena\",\"Brisbane Entertainment Centre\",\"Qudos Bank Arena\",\"Rod Laver Arena\",\"Rod Laver Arena\",\"Adelaide Entertainment Centre\",\"RAC Arena\",\"Foro Sol\",\"Parque Fundidora\",\"Parque Fundidora\",\"Foro Sol\",\"Great Stage Park\",\"United Center\",\"Gorge Amphitheatre\",\"Moda Center\",\"Chase Center\",\"Life is Beautiful\",\"Gila River Arena\",\"Ball Arena\",\"Capital One Arena\",\"Firefly Music Festival 2021\",\"State Farm Arena\",\"Outside Lands Festival 2021\",\"Hollywood Bowl\",\"Hollywood Bowl\",\"NRG Park\",\"Frank Erwin Center\",\"White Oak Music Hall\",\"American Airlines Center\",\"Parque Fundidora\",\"Auditorio Telmex\",\"Corona Capital 2021\",\"Spark Arena\",\"Qudos Bank Arena\",\"Brisbane Entertainment Centre\",\"Rod Laver Arena\",\"Rod Laver Arena\",\"Adelaide Entertainment Centre\",\"RAC Arena\",\"Innings Festival 2022\",\"Sunshine Grove - FL\",\"Petersen Events Center\",\"Scotiabank Arena\"],\"region\":[\"CA\",\"CA\",\"CA\",\"\",\"\",\"\",\"\",\"\",\"WA\",\"OR\",\"BC\",\"CA\",\"CA\",\"CA\",\"TN\",\"GA\",\"VA\",\"PA\",\"\",\"\",\"\",\"\",\"\",\"\",\"\",\"\",\"\",\"\",\"\",\"\",\"\",\"NY\",\"NY\",\"PA\",\"MD\",\"MO\",\"WI\",\"IL\",\"MO\",\"TX\",\"\",\"\",\"\",\"CO\",\"CO\",\"CA\",\"CA\",\"CA\",\"CA\",\"WA\",\"OR\",\"\",\"\",\"\",\"\",\"\",\"\",\"\",\"\",\"\",\"\",\"\",\"\",\"\",\"\",\"\",\"\",\"\",\"NY\",\"NY\",\"CA\",\"NV\",\"CA\",\"CA\",\"\",\"\",\"\",\"\",\"\",\"\",\"CA\",\"CA\",\"CA\",\"TX\",\"LA\",\"GA\",\"TN\",\"MN\",\"WI\",\"IL\",\"OH\",\"MI\",\"ON\",\"QC\",\"QC\",\"MA\",\"WA\",\"BC\",\"OR\",\"UT\",\"CO\",\"MO\",\"MO\",\"PA\",\"OH\",\"OH\",\"DC\",\"NY\",\"\",\"\",\"IL\",\"CA\",\"CA\",\"CA\",\"CA\",\"\",\"\",\"\",\"\",\"\",\"\",\"\",\"\",\"\",\"\",\"\",\"\",\"\",\"\",\"TX\",\"PA\",\"NY\",\"NY\",\"TX\",\"\",\"\",\"\",\"\",\"\",\"\",\"\",\"\",\"\",\"\",\"\",\"\",\"\",\"\",\"\",\"\",\"\",\"\",\"\",\"\",\"\",\"\",\"\",\"\",\"\",\"\",\"\",\"\",\"\",\"\",\"\",\"\",\"\",\"\",\"\",\"\",\"TN\",\"ON\",\"QC\",\"NY\",\"NY\",\"MD\",\"DE\",\"\",\"\",\"\",\"\",\"\",\"\",\"\",\"\",\"\",\"\",\"\",\"CA\",\"OR\",\"CO\",\"CA\",\"CA\",\"WA\",\"\",\"\",\"NY\",\"\",\"\",\"IL\",\"TX\",\"TX\",\"\",\"\",\"\",\"\",\"\",\"CA\",\"CA\",\"CA\",\"TN\",\"NC\",\"GA\",\"FL\",\"FL\",\"\",\"MA\",\"\",\"\",\"\",\"\",\"\",\"\",\"ON\",\"MI\",\"MN\",\"MN\",\"IL\",\"\",\"\",\"\",\"\",\"\",\"NY\",\"NY\",\"PA\",\"DC\",\"DC\",\"TX\",\"CO\",\"CO\",\"TX\",\"CA\",\"CA\",\"CA\",\"CA\",\"\",\"\",\"\",\"\",\"\",\"\",\"\",\"ON\",\"QC\",\"DC\",\"NC\",\"GA\",\"FL\",\"MN\",\"MO\",\"MO\",\"OK\",\"TX\",\"TX\",\"TX\",\"AZ\",\"CO\",\"UT\",\"OR\",\"BC\",\"\",\"\",\"\",\"CA\",\"\",\"\",\"\",\"\",\"\",\"\",\"\",\"\",\"\",\"\",\"\",\"TN\",\"IL\",\"WA\",\"OR\",\"CA\",\"NV\",\"AZ\",\"CO\",\"DC\",\"DE\",\"GA\",\"CA\",\"CA\",\"CA\",\"TX\",\"TX\",\"TX\",\"TX\",\"\",\"\",\"\",\"\",\"\",\"\",\"\",\"\",\"\",\"\",\"AZ\",\"FL\",\"PA\",\"ON\"],\"show_date\":[true,true,true,true,true,true,true,true,true,true,true,true,true,true,true,true,true,true,true,true,true,true,true,true,true,true,true,true,true,true,true,true,true,true,true,true,true,true,true,true,true,true,true,true,true,true,true,true,true,true,true,true,true,true,true,true,true,true,true,true,true,true,true,true,true,true,true,true,true,true,true,true,true,true,true,true,true,true,true,true,true,true,true,true,true,true,true,true,true,true,true,true,true,true,true,true,true,true,true,true,true,true,true,true,true,true,true,true,true,true,true,true,true,true,true,true,true,true,true,true,true,true,true,true,true,true,true,true,true,true,true,true,true,true,true,true,true,true,true,true,true,true,true,true,true,true,true,true,true,true,true,true,true,true,true,true,true,true,true,true,true,true,true,true,true,true,true,true,true,true,true,true,true,true,true,true,true,true,true,true,true,true,true,true,true,true,true,true,true,true,true,true,true,true,true,true,true,true,true,true,true,true,true,true,true,true,true,true,true,true,true,true,true,true,true,true,true,true,true,true,true,true,true,true,true,true,true,true,true,true,true,true,true,true,true,true,true,true,true,true,true,true,true,true,true,true,true,true,true,true,true,true,true,true,true,true,true,true,true,true,true,true,true,true,true,true,true,true,true,true,true,true,true,true,true,true,true,true,true,true,true,true,true,true,true,true,true,true,true,true,true,true,true,true,true,true,true,true,true,true,true,true,true,true,true,true,true,true,true,true,true,true,true,true,true,true,true,true],\"title\":[\"\",\"\",\"\",\"\",\"\",\"\",\"\",\"\",\"\",\"\",\"\",\"\",\"\",\"\",\"\",\"\",\"\",\"\",\"\",\"\",\"\",\"\",\"\",\"\",\"\",\"\",\"\",\"\",\"\",\"\",\"\",\"\",\"\",\"\",\"\",\"\",\"\",\"\",\"\",\"\",\"\",\"\",\"\",\"\",\"\",\"\",\"\",\"\",\"\",\"\",\"\",\"\",\"\",\"\",\"\",\"\",\"\",\"\",\"\",\"\",\"\",\"\",\"\",\"\",\"\",\"\",\"\",\"\",\"\",\"\",\"\",\"\",\"\",\"\",\"\",\"\",\"\",\"\",\"\",\"\",\"\",\"\",\"\",\"\",\"\",\"\",\"\",\"\",\"\",\"\",\"\",\"\",\"\",\"\",\"\",\"\",\"\",\"\",\"\",\"\",\"\",\"\",\"\",\"\",\"\",\"\",\"\",\"\",\"\",\"\",\"\",\"\",\"\",\"\",\"\",\"\",\"\",\"\",\"\",\"\",\"\",\"\",\"\",\"\",\"\",\"\",\"\",\"\",\"\",\"\",\"\",\"\",\"\",\"\",\"\",\"\",\"\",\"\",\"\",\"\",\"\",\"\",\"\",\"\",\"\",\"\",\"\",\"\",\"\",\"\",\"\",\"\",\"\",\"\",\"\",\"\",\"\",\"\",\"\",\"\",\"\",\"\",\"\",\"\",\"\",\"\",\"\",\"\",\"\",\"\",\"\",\"\",\"\",\"\",\"\",\"\",\"\",\"\",\"\",\"\",\"\",\"\",\"\",\"\",\"\",\"\",\"\",\"\",\"\",\"\",\"\",\"\",\"\",\"\",\"\",\"\",\"\",\"\",\"\",\"\",\"\",\"\",\"\",\"\",\"\",\"\",\"\",\"\",\"\",\"\",\"\",\"\",\"\",\"\",\"\",\"\",\"\",\"\",\"\",\"\",\"\",\"\",\"\",\"\",\"\",\"\",\"\",\"\",\"\",\"\",\"\",\"\",\"\",\"\",\"\",\"\",\"\",\"\",\"\",\"\",\"\",\"\",\"\",\"\",\"\",\"\",\"\",\"\",\"\",\"\",\"\",\"\",\"\",\"\",\"\",\"\",\"\",\"\",\"\",\"\",\"\",\"\",\"\",\"\",\"\",\"\",\"\",\"\",\"\",\"\",\"\",\"\",\"\",\"\",\"\",\"\",\"\",\"\",\"\",\"\",\"\",\"\",\"\",\"\",\"\",\"\",\"\",\"\",\"\",\"\",\"\",\"\",\"\",\"\",\"\",\"\",\"\",\"\",\"\",\"\",\"\",\"\",\"\",\"\",\"\",\"\",\"\",\"\",\"\",\"\",\"\",\"\",\"\",\"\",\"\",\"\",\"\",\"\"]},\"selected\":{\"id\":\"3433\"},\"selection_policy\":{\"id\":\"3432\"}},\"id\":\"3300\",\"type\":\"ColumnDataSource\"},{\"attributes\":{},\"id\":\"3337\",\"type\":\"ResetTool\"},{\"attributes\":{},\"id\":\"3433\",\"type\":\"Selection\"},{\"attributes\":{\"dimension\":\"lon\"},\"id\":\"3314\",\"type\":\"MercatorTicker\"},{\"attributes\":{},\"id\":\"3309\",\"type\":\"LinearScale\"},{\"attributes\":{\"end\":11500000,\"start\":-7500000},\"id\":\"3307\",\"type\":\"Range1d\"},{\"attributes\":{\"children\":[{\"id\":\"3359\"}]},\"id\":\"3360\",\"type\":\"Row\"},{\"attributes\":{\"bottom_units\":\"screen\",\"coordinates\":null,\"fill_alpha\":0.5,\"fill_color\":\"lightgrey\",\"group\":null,\"left_units\":\"screen\",\"level\":\"overlay\",\"line_alpha\":1.0,\"line_color\":\"black\",\"line_dash\":[4,4],\"line_width\":2,\"right_units\":\"screen\",\"syncable\":false,\"top_units\":\"screen\"},\"id\":\"3339\",\"type\":\"BoxAnnotation\"},{\"attributes\":{\"coordinates\":null,\"data_source\":{\"id\":\"3300\"},\"glyph\":{\"id\":\"3355\"},\"group\":null,\"hover_glyph\":null,\"muted_glyph\":{\"id\":\"3357\"},\"nonselection_glyph\":{\"id\":\"3356\"},\"view\":{\"id\":\"3303\"}},\"id\":\"3358\",\"type\":\"GlyphRenderer\"},{\"attributes\":{},\"id\":\"3329\",\"type\":\"PanTool\"},{\"attributes\":{\"callback\":null},\"id\":\"3335\",\"type\":\"TapTool\"},{\"attributes\":{},\"id\":\"3428\",\"type\":\"AllLabels\"},{\"attributes\":{\"fill_alpha\":{\"value\":0.3},\"fill_color\":{\"value\":\"dodgerblue\"},\"line_color\":{\"value\":\"dodgerblue\"},\"size\":{\"value\":6},\"x\":{\"field\":\"MercatorX\"},\"y\":{\"field\":\"MercatorY\"}},\"id\":\"3355\",\"type\":\"Circle\"},{\"attributes\":{\"dimension\":\"lat\"},\"id\":\"3324\",\"type\":\"MercatorTickFormatter\"},{\"attributes\":{\"children\":[{\"id\":\"3304\"}]},\"id\":\"3361\",\"type\":\"Row\"},{\"attributes\":{\"callback\":null,\"tooltips\":[[\"Date\",\"@datetime\"],[\"Location: \",\"@city, @region\"],[\"Country: \",\"@country\"],[\"Event Type: \",\"@festival_flag\"],[\"Lineup: \",\"@lineup\"]]},\"id\":\"3336\",\"type\":\"HoverTool\"}],\"root_ids\":[\"3362\"]},\"title\":\"Bokeh Application\",\"version\":\"2.4.2\"}};\n  const render_items = [{\"docid\":\"d19f5f11-9883-43a9-ad65-f36029a203c4\",\"root_ids\":[\"3362\"],\"roots\":{\"3362\":\"98b6a455-66c6-442c-ace5-d77b003ed513\"}}];\n  root.Bokeh.embed.embed_items_notebook(docs_json, render_items);\n\n  }\n  if (root.Bokeh !== undefined) {\n    embed_document(root);\n  } else {\n    let attempts = 0;\n    const timer = setInterval(function(root) {\n      if (root.Bokeh !== undefined) {\n        clearInterval(timer);\n        embed_document(root);\n      } else {\n        attempts++;\n        if (attempts > 100) {\n          clearInterval(timer);\n          console.log(\"Bokeh: ERROR: Unable to run BokehJS code because BokehJS library is missing\");\n        }\n      }\n    }, 10, root)\n  }\n})(window);",
      "application/vnd.bokehjs_exec.v0+json": ""
     },
     "metadata": {
      "application/vnd.bokehjs_exec.v0+json": {
       "id": "3362"
      }
     },
     "output_type": "display_data"
    },
    {
     "name": "stderr",
     "output_type": "stream",
     "text": [
      "WARNING:bokeh.embed.util:\n",
      "You are generating standalone HTML/JS output, but trying to use real Python\n",
      "callbacks (i.e. with on_change or on_event). This combination cannot work.\n",
      "\n",
      "Only JavaScript callbacks may be used with standalone output. For more\n",
      "information on JavaScript callbacks with Bokeh, see:\n",
      "\n",
      "    https://docs.bokeh.org/en/latest/docs/user_guide/interaction/callbacks.html\n",
      "\n",
      "Alternatively, to use real Python callbacks, a Bokeh server application may\n",
      "be used. For more information on building and running Bokeh applications, see:\n",
      "\n",
      "    https://docs.bokeh.org/en/latest/docs/user_guide/server.html\n",
      "\n"
     ]
    }
   ],
   "source": [
    "from bokeh.plotting import figure, output_file#, show\n",
    "from bokeh.tile_providers import get_provider, OSM #CARTODBPOSITRON_RETINA, WIKIMEDIA, ESRI_IMAGERY, STAMEN_TONER,\n",
    "from bokeh.models import ColumnDataSource, CDSView, BooleanFilter, CustomJS\n",
    "from bokeh.layouts import layout\n",
    "from bokeh.models import DateRangeSlider\n",
    "from bokeh.io import show, output_notebook\n",
    "from pyproj import Transformer\n",
    "#import xyzservices.providers as xyz\n",
    "\n",
    "# data transformation\n",
    "in_crs = 4326   # coordinates provided in EPSG:4326 format\n",
    "out_crs = 3857   # coordinates output in EPSG 3857 (Web Mercator) format\n",
    "\n",
    "transformer = Transformer.from_crs(in_crs, out_crs, always_xy=True)\n",
    "\n",
    "lons, lats = [], []\n",
    "for lon, lat in list(zip(test_df['longitude'], test_df['latitude'])):\n",
    "    x, y = transformer.transform(lon,lat)\n",
    "    lons.append(x)\n",
    "    lats.append(y)\n",
    "\n",
    "test_df['MercatorX'] = lons\n",
    "test_df['MercatorY'] = lats\n",
    "\n",
    "\n",
    "\n",
    "# visualization\n",
    "#output_file(\"tile.html\")\n",
    "output_notebook()\n",
    "\n",
    "tile_provider = get_provider(OSM)\n",
    "tools = ['pan', 'zoom_in', 'zoom_out', 'wheel_zoom', 'box_zoom', 'lasso_select', 'tap', 'hover', 'reset', 'save']\n",
    "\n",
    "tooltips = [\n",
    "    (\"Date\", '@datetime'),\n",
    "    ('Location: ', '@city, @region'),\n",
    "    ('Country: ', '@country'),\n",
    "    ('Event Type: ', '@festival_flag'),\n",
    "    ('Lineup: ', '@lineup'),\n",
    "]\n",
    "\n",
    "source = ColumnDataSource(test_df)\n",
    "source2 = ColumnDataSource(test_df)\n",
    "\n",
    "show_dat = source.data['show_date']\n",
    "\n",
    "view = CDSView(source=source, filters=[BooleanFilter(show_dat)])\n",
    "\n",
    "date_start = test_df['datetime'].min()\n",
    "date_end = test_df['datetime'].max()\n",
    "\n",
    "# range bounds supplied in web mercator coordinates\n",
    "p = figure(x_range=(-18000000, 20000000), y_range=(-7500000, 11500000),\n",
    "           x_axis_type='mercator', y_axis_type='mercator',\n",
    "           height=700, width=1500,\n",
    "           tools=tools, tooltips=tooltips, active_scroll='wheel_zoom')\n",
    "p.add_tile(tile_provider)\n",
    "p.circle(x='MercatorX', y='MercatorY', size=6, fill_color='dodgerblue', line_color='dodgerblue', fill_alpha=.3, source=source, view=view)\n",
    "\n",
    "# callback = CustomJS(args=dict(source=source, ref_source=source2), code=\"\"\"\n",
    "#     // print out array of date from, date to\n",
    "#     console.log(cb_obj.value);\n",
    "#\n",
    "#     // dates returned from slider are not at round intervals and include time;\n",
    "#     const date_from = Date.parse(new Date(cb_obj.value[0]).toDateString());\n",
    "#     const date_to = Date.parse(new Date(cb_obj.value[1]).toDateString());\n",
    "#     console.log(date_from, date_to)\n",
    "#\n",
    "#     // Creating the Data Sources\n",
    "#     const data = source.data;\n",
    "#     const ref = ref_source.data;\n",
    "#\n",
    "#     // Creating new Array and appending correctly parsed dates\n",
    "#     let new_ref = []\n",
    "#     ref[\"DateTime\"].forEach(elem => {\n",
    "#         elem = Date.parse(new Date(elem).toDateString());\n",
    "#         new_ref.push(elem);\n",
    "#         console.log(elem);\n",
    "#     })\n",
    "#\n",
    "#     // Creating Indices with new Array\n",
    "#     const from_pos = new_ref.indexOf(date_from);\n",
    "#     const to_pos = new_ref.indexOf(date_to);\n",
    "#\n",
    "#\n",
    "#     // re-create the source data from \"reference\"\n",
    "#     data[\"datetime\"] = ref[\"datetime\"].slice(from_pos, to_pos);\n",
    "#     source.change.emit();\n",
    "#     \"\"\")\n",
    "#\n",
    "\n",
    "date_slider = DateRangeSlider(\n",
    "    title=\" Adjust Date range\",\n",
    "    start=min(test_df['datetime']),\n",
    "    end=max(test_df['datetime']),\n",
    "    step=1,\n",
    "    value=(\n",
    "        min(test_df['datetime']), max(test_df['datetime'])\n",
    "    )\n",
    ")\n",
    "\n",
    "#date_slider.js_link(\"value\", p.x_range, \"start\", attr_selector=0)\n",
    "#date_slider.js_link(\"value\", p.x_range, \"end\", attr_selector=1)\n",
    "\n",
    "#date_slider.js_on_change('value', callback)\n",
    "\n",
    "# def update_plot(attr, old, new):\n",
    "#      datesel = datetime.fromtimestamp(new / 1000).strftime('%Y-%m-%d')\n",
    "#      new_data = test_df[test_df['date'] == datesel]\n",
    "#      source.data.update(ColumnDataSource(new_data).data)\n",
    "# date_slider.js_on_change('value', update_plot)\n",
    "\n",
    "#https://data-dive.com/cologne-bike-rentals-interactive-map-bokeh-dynamic-choropleth\n",
    "#https://stackoverflow.com/questions/55742220/converting-python-callback-function-to-javascript\n",
    "\n",
    "# def update(source=source, slider=date_slider, window=None):\n",
    "#     data=source.data\n",
    "#     v_start = cb_obj.get('value')[0]\n",
    "#     v_end = cb_obj.get('value')[1]\n",
    "#     mask = np.logical_and(data['datetime'] > v_start, data['datetime'] < v_end)\n",
    "#     source.data['show_date'] = mask\n",
    "#     source.trigger('change')\n",
    "\n",
    "#date_slider.js_on_change('value', update)\n",
    "\n",
    "\n",
    "layout = layout([text_header],[[genre_dropdown], [artist_dropdown], [country_dropdown], [city_dropdown]], [date_slider],[p])\n",
    "show(layout)"
   ]
  },
  {
   "cell_type": "markdown",
   "id": "6f820222",

   "metadata": {
    "pycharm": {
     "name": "#%%\n"
    }
   },
   "source": [
    "## Messy Workspace -- May not Run"
   ]
  },
  {
   "cell_type": "code",
   "execution_count": null,
   "id": "5c28241c",
   "metadata": {
    "collapsed": false,
    "jupyter": {
     "outputs_hidden": false
    },
    "pycharm": {
     "name": "#%%\n"
    }
   },
   "outputs": [],
   "source": [
    "source.data"
   ]
  },
  {
   "cell_type": "code",
   "execution_count": null,
   "id": "1f31de2a",
   "metadata": {
    "collapsed": false,
    "jupyter": {
     "outputs_hidden": false
    },
    "pycharm": {
     "name": "#%%\n"
    }
   },
   "outputs": [],
   "source": [
    "source = {'data': {'index': [ 0,  1,  2,  3,  4,  5,  6,  7,  8,  9, 10, 11, 12, 13, 14, 15, 18,\n",
    "        20, 21, 22, 23, 24, 25, 26, 27, 28, 29, 30, 31, 32, 33, 34, 35, 36,\n",
    "        37, 38, 39, 40, 41, 42, 44, 45, 46, 47, 48, 49, 50, 51, 52, 53, 54,\n",
    "        55, 56, 57, 58, 59, 60, 61, 62, 63, 64, 65, 66, 67, 68],\n",
    " 'datetime': ['2016-12-03', '2017-01-20', '2017-04-22', '2017-04-23',\n",
    "        '2017-07-22', '2017-08-20', '2017-09-15', '2017-12-29',\n",
    "        '2018-03-16', '2018-04-22', '2018-06-01', '2018-06-02',\n",
    "        '2018-06-03', '2018-06-10', '2018-06-29', '2018-07-21',\n",
    "        '2018-09-09', '2018-09-29', '2018-10-05', '2018-10-26',\n",
    "        '2018-10-27', '2018-11-02', '2018-11-10', '2018-11-17',\n",
    "        '2018-12-29', '2018-12-31', '2019-03-01', '2019-05-04',\n",
    "        '2019-05-10', '2019-05-11', '2019-05-18', '2019-05-19',\n",
    "        '2019-06-07', '2019-06-08', '2019-06-23', '2019-07-18',\n",
    "        '2019-07-19', '2019-07-20', '2019-07-21', '2019-08-01',\n",
    "        '2019-09-20', '2019-09-23', '2019-10-11', '2020-03-06',\n",
    "        '2020-07-17', '2020-10-08', '2021-05-19', '2021-06-18',\n",
    "        '2021-07-10', '2021-07-16', '2021-07-22', '2021-07-29',\n",
    "        '2021-07-30', '2021-08-06', '2021-08-12', '2021-08-13',\n",
    "        '2021-08-14', '2021-08-27', '2021-09-10', '2021-10-02',\n",
    "        '2021-10-07', '2021-10-08', '2021-10-15', '2021-10-16',\n",
    "        '2021-11-27'],\n",
    " 'title': ['', '', '', '', '', '', '', '', '', '', '', '', '', '', '', '', '',\n",
    "        '', '', '', '', '', '', '', '', '', '', '', '', '', '', '', '', '',\n",
    "        '', '', '', '', '', '', '', '', '', '', '', '', '', '', '', '', '',\n",
    "        '', '', '', '', '', '', '', '', '', '', '', '', '', ''],\n",
    "\n",
    " 'lineup': [list(['Kerala Dust', 'Sentiment', 'Dwig', 'Kleintierschaukel', 'SNUR', 'Luke Redford']),\n",
    "        list(['Kerala Dust', 'Harri', 'Kiosk', 'Constantijn Lange', 'Hobta', 'Jascha Hagen', 'Jonathan Lükermann', 'Chris Schwarzwälder']),\n",
    "        list(['Kerala Dust', 'Monolink', 'Jacob Groening', 'Just Emma']),\n",
    "        list(['Kerala Dust', 'Florian Rietze', 'Kiosk', 'Luca Musto', 'Viken Arman', 'YokoO', 'Stavroz', 'Coss', 'Genji Yoshida', 'Jacob Groening']),\n",
    "        list(['Kerala Dust', 'Polo', 'Sainte Vie', 'Hyenah', 'Pan', 'Juan', 'Remcord', 'David Mears', 'Manumat', 'Raz Ohara', 'Sweet Melodic', 'Mark Höffen', 'Tomanka']),\n",
    "        list(['Kerala Dust', 'Crussen', 'Armen Miran', 'Rampue', 'WooMoon', 'SPANIOL', 'Rico loop', 'Luca Musto']),\n",
    "        list(['Kerala Dust']),\n",
    "        list(['Kerala Dust', 'Marana', 'Javid', 'Elliver', 'Zigan Aldi', 'Karotte', 'Just Emma', 'The Sorry Entertainers', 'Moji ', 'Pauli Pocket', 'Oberst & Buchner', 'Britta Arnold', 'oberst']),\n",
    "        list(['Kerala Dust', 'Betelgeize', 'Geju']),\n",
    "        list(['Kerala Dust', 'More', 'Satori', 'Mira', 'Marty', 'Tickets', 'Francisco', 'Rega', 'Atish', 'Nico Stojan', 'Be Svendsen', 'Stavroz', 'Anthony Cardinale', 'Goga', 'Crussen', 'Ninze', 'Feathered Sun', 'Viken Arman', 'Oceanvs Orientalis', 'Sainte Vie', 'SPANIOL', 'David Paglia']),\n",
    "        list(['Kerala Dust', 'wAFF']),\n",
    "        list(['Kerala Dust', 'Stavroz', 'Goldcap', 'Viken Arman', 'Oceanvs Orientalis', 'Saand']),\n",
    "        list(['Kerala Dust', 'Mira', 'Ramona Wouters']),\n",
    "        list(['Kerala Dust', 'Crussen']),\n",
    "        list(['Kerala Dust', 'Davi', 'Hraach', 'Sainte Vie', 'Timujin']),\n",
    "        list(['Kerala Dust', 'Mutlu', 'Satori', 'Mira', 'Fame', 'Bernstein', 'Unders', 'Lovecraft', 'Bo', 'Peter Schumann', 'Sven Dohse', 'Britta Arnold', 'Be Svendsen', 'Jonathan Kaspar', 'Pauli Pocket', 'Daniel Cowel', 'mimi love', 'Caleesi', 'Timujin', 'Billy Caso', 'Sarah Kreis', 'Geju', 'borzu']),\n",
    "        list(['Kerala Dust', 'Niko Schwind', 'Martha van Straaten', 'Sam Shure', 'Xique-Xique']),\n",
    "        list(['Kerala Dust', 'Tristen', 'More Tba', 'Rampue', 'Ninze', 'Dwig', 'Die Wilde Jagd', 'Bad Stream']),\n",
    "        list(['Kerala Dust']),\n",
    "        list(['Kerala Dust', 'LCD Soundsystem', 'Yelle', 'Loco Dice', 'Apollonia', 'Shonky', 'Paco Osuna', 'Dan Ghenacia', 'Dyed Soundorom', 'Bakke', 'Ish', 'BLOND:ISH', 'Fat Nick', 'Peggy Gou']),\n",
    "        list(['Kerala Dust', 'TrueVine']), list(['Kerala Dust']),\n",
    "        list(['Kerala Dust', 'Roderic']),\n",
    "        list(['Kerala Dust', 'Matanza', 'Isaac Soto']),\n",
    "        list(['Kerala Dust', 'Pachanga Boys', 'Rodriguez Jr.', 'Axel Boman', 'Sandrino', 'Frankey', 'Concret']),\n",
    "        list(['Kerala Dust', 'Robosonic']),\n",
    "        list(['Kerala Dust', 'Zigan Aldi']),\n",
    "        list(['Kerala Dust', 'Serge Devant', 'HUG', 'O', 'David Delgado', 'Shaun Reeves', 'DoubtingThomas', 'Peter Schumann', 'El Mundo', 'Detmolt', 'Just Emma', 'jPattersson', 'Love Over Entropy', 'UNDERHER', 'Niki Sadeki']),\n",
    "        list(['Kerala Dust', 'Nico Stojan']),\n",
    "        list(['Kerala Dust', 'Carlita', 'Red Axes', 'KMLN', 'Armen Miran', 'Gabriel Belmudes']),\n",
    "        list(['Kerala Dust', 'Ramona Wouters']),\n",
    "        list(['Kerala Dust', 'Lemurian', 'Lola Villa']),\n",
    "        list(['Kerala Dust', 'Gorje Hewek', 'Izhevski', 'Secret Guest', 'Meandisco', 'KMLN', 'Veronika Fleyta', 'Geju', 'Sam Shure', 'Amonita']),\n",
    "        list(['Kerala Dust', 'Stavroz', 'Crussen', 'PERSIAN EMPIRE']),\n",
    "        list(['Kerala Dust', 'Serge Devant', 'Behrouz', 'Squire', 'Uone', 'Baiuca']),\n",
    "        list(['Kerala Dust', 'Luciano', 'Very', 'Damian Lazarus', 'Rampue', 'Valentin Huedo', 'LUM', 'Black Motion', 'Jan Blomqvist', 'Huaira', 'Monolink', 'Sainte Vie']),\n",
    "        list(['Kerala Dust', 'Robag Wruhme', 'MR', 'Kermesse', 'Ish', 'Lazare Hoche', 'Fatoumata', 'ALBA MUSIC', 'Hraach', 'Martha van Straaten', 'cantanca']),\n",
    "        list(['Kerala Dust', 'Shimon', 'Kerri Chandler', 'Prins Thomas', 'Muallem', 'Recondite', 'Rampue', 'Stimming', 'Kiasmos', 'Christian Löffler', 'Seth Schwarz', 'Jan Blomqvist', 'Be Svendsen', 'Red Axes', 'Ben Rau', 'Konstantin Sibold', 'Parra for Cuva', 'Oceanvs Orientalis', 'Nicola Noir', 'Hraach', 'Emmanuel Russ', 'Fléoz', 'Paul Cut', 'Yarosslav', 'Tomanka']),\n",
    "        list(['Kerala Dust', 'Shimon', 'Kerri Chandler', 'Rampue', 'Stimming', 'Christian Löffler', 'Seth Schwarz', 'Red Axes', 'Ben Rau', 'Nicola Noir', 'Paul Cut', 'Tomanka']),\n",
    "        list(['Kerala Dust']), list(['Kerala Dust']),\n",
    "        list(['Kerala Dust']),\n",
    "        list(['Kerala Dust', 'Behrouz', 'Chaim', 'Oxia', 'Sabo', 'Raresh', 'Alex Niggemann', 'maher daniel', 'Nicolas Masseyeff', 'Bradley Zero', 'Praslea', 'Amine K', 'Zakaria', 'Konstantin Sibold', 'Two Faced', 'Marwan Sabb', 'Noritsu']),\n",
    "        list(['Kerala Dust', 'Matija']),\n",
    "        list(['Kerala Dust', 'Ruthless', 'Angerfist', 'Neophyte', 'DJ Coone', 'Jennifer Cardini', 'Mira', 'TNT', 'Âme', 'Poogie Bear', 'Shimon', 'Darren Styles', 'DJ Mad Dog', 'Tha Playah', 'Art of Fighters', 'The Viper', 'Dominik Eulberg', 'Evil Activities', 'Noize Suppressor', 'Endymion', 'The Prophet', 'Prins Thomas', 'Todd Terje', 'Headhunterz', 'Zatox', 'D-Block & S-Te-Fan', 'Korsakoff', 'Solstice', 'Partyraiser', 'N-Vitral', 'Very', 'Damian Lazarus', 'Batiste', 'Mystery', 'Resident DJ', 'Bass Modulators', 'AniMe', 'Noisecontrollers', 'Wildstylez', 'Da Tweekaz', 'Crypsis', 'Malaika', 'Dr. Evil', 'Dr. Rude', 'Dirty Bastards', 'Loc', 'BASSDRUM PROJECT', 'Broken Minds', 'Javi Boss', 'Frequencerz', 'Mano Le Tough', 'Act of rage', 'Demoniak', 'Javi Aznar', 'DJ Thomas', 'Warface', 'Vicente One More Time', 'Atmozfears', 'Dj Juanma', '&Me', 'Stavros', 'Dr. Phunk', 'Rico loop', 'Wakan', 'Wasted Penguinz', 'Dj DaY-mar', 'Jimi Jules', 'Chris Schwarzwälder', 'Radical Redemption', 'Stavroz', 'Destructive Tendencies', 'Abel K Kaña', 'Pastis & Buenri', 'Powel ', 'Javi Molina', 'Arzadous', 'Konstantin Sibold', 'Weval', 'Sub Zero Project', 'Quatri', 'Mira & Chris Schwarzwälder', 'M.RUX', 'Emmanuel Russ', 'Monolink', 'DIMA', 'HollSön', 'Lady Dammage', 'Tryangle Man', 'Billy Caso', 'Yarosslav', 'Deadly Guns', 'Greazy Puzzy Fuckerz', 'MC Tha Watcher', 'An Eagle In Your Mind']),\n",
    "        list(['Kerala Dust']), list(['Kerala Dust']),\n",
    "        list(['Kerala Dust']), list(['Kerala Dust']),\n",
    "        list(['Kerala Dust', 'Jennifer Cardini', 'Jimi Jules', 'Konstantin Sibold', 'Christopher Schwarzwälder', 'Viken Arman', 'Satori Musica']),\n",
    "        list(['Kerala Dust']), list(['Kerala Dust']),\n",
    "        list(['Kerala Dust']), list(['Kerala Dust']),\n",
    "        list(['Kerala Dust']), list(['Kerala Dust']),\n",
    "        list(['Kerala Dust']), list(['Kerala Dust']),\n",
    "        list(['Kerala Dust']), list(['Kerala Dust']),\n",
    "        list(['Kerala Dust']), list(['Kerala Dust']),\n",
    "        list(['Kerala Dust']), list(['Kerala Dust']),\n",
    "        list(['Kerala Dust', 'Stavroz', 'Eagles & Butterflies', 'Perel'])],\n",
    "\n",
    " 'festival_start_date': ['', '', '', '', '', '', '', '', '', '', '', '', '', '', '', '', '',\n",
    "        '', '', '', '', '', '', '', '', '', '', '', '', '', '', '', '', '',\n",
    "        '', '', '', '', '', '', '', '', '', '', '', '', '', '', '', '', '',\n",
    "        '', '', '', '', '', '', '', '', '', '', '', '', '', ''],\n",
    "\n",
    " 'festival_end_date': ['', '', '', '', '', '', '', '', '', '', '', '', '', '', '', '', '',\n",
    "        '', '', '', '', '', '', '', '', '', '', '', '', '', '', '', '', '',\n",
    "        '', '', '', '', '', '', '', '', '', '', '', '', '', '', '', '', '',\n",
    "        '', '', '', '', '', '', '', '', '', '', '', '', '', ''],\n",
    "\n",
    " 'city': ['Zurich', 'Berlin', 'Hamburg', 'Berlin', 'Paris', 'Ibiza', 'Miami',\n",
    "        'Berlin', 'Moscow', 'Paris', 'Miami', 'Los Angeles', 'Denver',\n",
    "        'San Francisco', 'Ibiza', 'Berlin', 'Berlin-Altglienicke',\n",
    "        'Berlin', 'Munich', 'Miami', 'Miami', 'Montreal', 'Center',\n",
    "        'Center', 'Quintana Roo', 'Quintana Roo', 'Berlin', 'Berlin',\n",
    "        'San Francisco', 'Queens Village', 'Denver', 'Washington',\n",
    "        'Moscow', 'London', 'Ibiza', 'Barcelona', 'Mugla',\n",
    "        'VITRY SUR SEINE', 'VITRY SUR SEINE', 'Diepholz', 'Miami',\n",
    "        'Los Angeles', 'Essaouira', 'Baden', 'Paris', 'Cologne', 'Hamburg',\n",
    "        'Kyiv', 'Haale', 'Vitry-sur-Seine', 'Çeşme', 'Berlin', 'Berlin',\n",
    "        'Mykonos', 'Chorzów', 'Kolkwitz', 'Zürich', 'Lärz',\n",
    "        'Offenbach am Main', 'İstanbul', 'Basel', 'Zurich', 'Prague',\n",
    "        'Amsterdam', 'London'],\n",
    " 'region': ['', '', '', '', '', '', 'FL', '', '', '', 'FL', 'California', '',\n",
    "        'CA', '', '', '', '', '', 'FL', 'FL', 'QC', '', '', '', '', '', '',\n",
    "        'CA', 'New York', 'CO', 'DC', '', '', '', '', '', '', '', '', 'FL',\n",
    "        'CA', '', '', '', '', '', '', '', '', '', '', '', '', '', '', '',\n",
    "        '', '', '', '', '', '', '', ''],\n",
    " 'country': ['Switzerland', 'Germany', 'Germany', 'Germany', 'France', 'Spain',\n",
    "        'United States', 'Germany', 'Russia', 'France', 'United States',\n",
    "        'United States', 'United States', 'United States', 'Spain',\n",
    "        'Germany', 'Germany', 'Germany', 'Germany', 'United States',\n",
    "        'United States', 'Canada', 'Mexico', 'Mexico', 'Mexico', 'Mexico',\n",
    "        'Germany', 'Germany', 'United States', 'United States',\n",
    "        'United States', 'United States', 'Russian Federation',\n",
    "        'United Kingdom', 'Spain', 'Spain', 'Turkey', 'France', 'France',\n",
    "        'Germany', 'United States', 'United States', 'Morocco',\n",
    "        'Switzerland', 'France', 'Germany', 'Germany', 'Ukraine',\n",
    "        'Germany', 'France', 'Turkey', 'Germany', 'Germany', 'Greece',\n",
    "        'Poland', 'Germany', 'Switzerland', 'Germany', 'Germany', 'Turkey',\n",
    "        'Switzerland', 'Switzerland', 'Czech Republic', 'Netherlands',\n",
    "        'United Kingdom'],\n",
    " 'latitude': [47.38151  , 52.511612 , 53.551802 , 52.511612 , 48.8741   ,\n",
    "        38.894431 , 25.784476 , 52.511612 , 55.75533  , 48.86405  ,\n",
    "        25.7844757, 34.0522222, 40.8661111, 37.749454 , 38.8841997,\n",
    "        52.511612 , 52.4166667, 52.502522 , 48.15     , 25.7844757,\n",
    "        25.7844757, 45.532771 , 23.9090939, 23.9090939, 20.8666667,\n",
    "        20.8666667, 52.51744  , 52.511612 , 37.7688759, 40.7266667,\n",
    "        39.7646511, 38.916281 , 55.7522222, 51.52374  , 38.90625  ,\n",
    "        41.3688085, 37.2163889, 48.7890892, 48.7890892, 52.6      ,\n",
    "        25.784673 , 34.0905773, 31.4696583, 47.4781575, 48.85341  ,\n",
    "        50.951817 , 53.5564221, 50.4590832, 54.18333  , 48.78716  ,\n",
    "        38.2329489, 52.52437  , 52.52437  , 37.44529  , 49.90304  ,\n",
    "        51.75     , 47.343558 , 53.3051075, 50.1055151, 41.0660865,\n",
    "        47.577376 , 47.3882217, 50.108181 , 52.3867989, 51.51962  ],\n",
    " 'longitude': [ 8.53688000e+00,  1.34268700e+01,  9.95820900e+00,  1.34268700e+01,\n",
    "         2.26298000e+00,  1.33146700e+00, -8.01931360e+01,  1.34268700e+01,\n",
    "         3.76098100e+01,  2.33105000e+00, -8.01931356e+01, -1.18242778e+02,\n",
    "        -8.60775000e+01, -1.22386009e+02,  1.40489600e+00,  1.34268700e+01,\n",
    "         1.35500000e+01,  1.34659300e+01,  1.15833333e+01, -8.01931356e+01,\n",
    "        -8.01931356e+01, -7.36202940e+01, -1.02633400e+02, -1.02633400e+02,\n",
    "        -8.86333333e+01, -8.86333333e+01,  1.34189900e+01,  1.34268700e+01,\n",
    "        -1.22419427e+02, -7.37419444e+01, -1.04979783e+02, -7.70213690e+01,\n",
    "         3.76155556e+01, -7.88390000e-02,  1.41953000e+00,  2.14827320e+00,\n",
    "         2.83638889e+01,  2.38828990e+00,  2.38828990e+00,  8.36666670e+00,\n",
    "        -8.01932020e+01, -1.18312565e+02, -9.76738950e+00,  8.30865560e+00,\n",
    "         2.34880000e+00,  6.91709700e+00,  9.96997760e+00,  3.06378697e+01,\n",
    "         9.55000000e+00,  2.40332000e+00,  2.63675087e+01,  1.34105300e+01,\n",
    "         1.34105300e+01,  2.53287200e+01,  2.25633400e+01,  1.42500000e+01,\n",
    "         8.53582910e+00,  1.27514235e+01,  8.73469550e+00,  2.90174246e+01,\n",
    "         7.58632300e+00,  8.51947020e+00,  1.44431801e+01,  4.86998990e+00,\n",
    "        -1.02412000e-01],\n",
    " 'location': ['', '', '', '', '', '', '', '', '', '', '', '', '', '', '', '', '',\n",
    "        '', '', '', '', '', '', '', '', '', '', '', '', '', '', '', '', '',\n",
    "        '', '', '', '', '', '', '', '', '', '', '', '', '', '', '', '', '',\n",
    "        '', '', '', '', '', '', '', '', '', '', '', '', '', ''],\n",
    " 'name': ['Kauz', 'Kater Blau', 'Gruenspan', 'Kater Blau',\n",
    "        'Les Pavillons des Etangs', 'Cova Santa', 'FLOYD', 'Kater Blau',\n",
    "        'Leveldva', 'TBA', 'Club Space', 'TBA', 'TBA', 'The Midway',\n",
    "        'Ushuaïa Ibiza Beach Hotel', 'Kater Blau', 'Sage Beach Berlin',\n",
    "        '://about blank', 'The Drunken Monkey', 'Club Space',\n",
    "        'Floyd Miami', 'Bar Le Ritz PDB', 'Proyecto Pblico Prim',\n",
    "        'Sirilo Instabar', 'AAK AL Sacbe Lagoon', 'Gitano Tulum',\n",
    "        'Beate Uwe', 'Kater Blau', 'Public Works', 'Knockdown Center',\n",
    "        'Walnut Room', 'Flash', 'Community Moscow', 'Village Underground',\n",
    "        'Cova Santa', 'Poble Espanyol', 'Xuma Yalikavak', 'Le Kilowatt',\n",
    "        'Le Kilowatt', 'Bürgerpark (appletree garden)', 'The Ground - FL',\n",
    "        'Gold Diggers', 'Hotel Sofitel Essaouira Mogador Golf & Spa',\n",
    "        'Royal', 'Le Kilowatt', 'Club Bahnhof Ehrenfeld',\n",
    "        'Uebel & Gefährlich', 'Kerala Dust @ White Night Festival',\n",
    "        'Utopia Festival 2021', 'RITUEL',\n",
    "        'Kerala Dust live at Sommer Klein',\n",
    "        'Kerala Dust - live in concert', 'Kerala Dust Live in Concert',\n",
    "        'Kerala Dust live @ Scorpios Mykonos', 'Fest Festival 2021',\n",
    "        'Akasha Festival 2021', 'Lethargy Zurich 2021',\n",
    "        'Kerala Dust live at Plan:et C', 'Kerala Dust Live at Sommerbnau',\n",
    "        'Kerala Dust at Sonar Istanbul', 'Kerala Dust at Gannet',\n",
    "        'Kerala Dust at Exil', 'Kerala Dust live in Prague',\n",
    "        'The Gardens of Babylon @ ADE 2021', 'Fabric'],\n",
    " 'artist': ['Kerala Dust', 'Kerala Dust', 'Kerala Dust', 'Kerala Dust',\n",
    "        'Kerala Dust', 'Kerala Dust', 'Kerala Dust', 'Kerala Dust',\n",
    "        'Kerala Dust', 'Kerala Dust', 'Kerala Dust', 'Kerala Dust',\n",
    "        'Kerala Dust', 'Kerala Dust', 'Kerala Dust', 'Kerala Dust',\n",
    "        'Kerala Dust', 'Kerala Dust', 'Kerala Dust', 'Kerala Dust',\n",
    "        'Kerala Dust', 'Kerala Dust', 'Kerala Dust', 'Kerala Dust',\n",
    "        'Kerala Dust', 'Kerala Dust', 'Kerala Dust', 'Kerala Dust',\n",
    "        'Kerala Dust', 'Kerala Dust', 'Kerala Dust', 'Kerala Dust',\n",
    "        'Kerala Dust', 'Kerala Dust', 'Kerala Dust', 'Kerala Dust',\n",
    "        'Kerala Dust', 'Kerala Dust', 'Kerala Dust', 'Kerala Dust',\n",
    "        'Kerala Dust', 'Kerala Dust', 'Kerala Dust', 'Kerala Dust',\n",
    "        'Kerala Dust', 'Kerala Dust', 'Kerala Dust', 'Kerala Dust',\n",
    "        'Kerala Dust', 'Kerala Dust', 'Kerala Dust', 'Kerala Dust',\n",
    "        'Kerala Dust', 'Kerala Dust', 'Kerala Dust', 'Kerala Dust',\n",
    "        'Kerala Dust', 'Kerala Dust', 'Kerala Dust', 'Kerala Dust',\n",
    "        'Kerala Dust', 'Kerala Dust', 'Kerala Dust', 'Kerala Dust',\n",
    "        'Kerala Dust'],\n",
    " 'artist_topgenres': [list(['house']), list(['house']), list(['house']), list(['house']),\n",
    "        list(['house']), list(['house']), list(['house']), list(['house']),\n",
    "        list(['house']), list(['house']), list(['house']), list(['house']),\n",
    "        list(['house']), list(['house']), list(['house']), list(['house']),\n",
    "        list(['house']), list(['house']), list(['house']), list(['house']),\n",
    "        list(['house']), list(['house']), list(['house']), list(['house']),\n",
    "        list(['house']), list(['house']), list(['house']), list(['house']),\n",
    "        list(['house']), list(['house']), list(['house']), list(['house']),\n",
    "        list(['house']), list(['house']), list(['house']), list(['house']),\n",
    "        list(['house']), list(['house']), list(['house']), list(['house']),\n",
    "        list(['house']), list(['house']), list(['house']), list(['house']),\n",
    "        list(['house']), list(['house']), list(['house']), list(['house']),\n",
    "        list(['house']), list(['house']), list(['house']), list(['house']),\n",
    "        list(['house']), list(['house']), list(['house']), list(['house']),\n",
    "        list(['house']), list(['house']), list(['house']), list(['house']),\n",
    "        list(['house']), list(['house']), list(['house']), list(['house']),\n",
    "        list(['house'])],\n",
    " 'lineup_size': [ 6,  8,  4, 10, 13,  8,  1, 13,  3, 22,  2,  6,  3,  2,  5, 23,  5,\n",
    "         8,  1, 14,  2,  1,  2,  3,  7,  2,  2, 15,  2,  6,  2,  3, 10,  4,\n",
    "         6, 12, 11, 25, 12,  1,  1,  1, 17,  2, 94,  1,  1,  1,  1,  7,  1,\n",
    "         1,  1,  1,  1,  1,  1,  1,  1,  1,  1,  1,  1,  1,  4],\n",
    " 'festival_flag':['Festival', 'Festival', 'Concert', 'Festival', 'Festival',\n",
    "        'Festival', 'Concert', 'Festival', 'Concert', 'Festival',\n",
    "        'Concert', 'Festival', 'Concert', 'Concert', 'Concert', 'Festival',\n",
    "        'Concert', 'Festival', 'Concert', 'Festival', 'Concert', 'Concert',\n",
    "        'Concert', 'Concert', 'Festival', 'Concert', 'Concert', 'Festival',\n",
    "        'Concert', 'Festival', 'Concert', 'Concert', 'Festival', 'Concert',\n",
    "        'Festival', 'Festival', 'Festival', 'Festival', 'Festival',\n",
    "        'Concert', 'Concert', 'Concert', 'Festival', 'Concert', 'Festival',\n",
    "        'Concert', 'Concert', 'Concert', 'Concert', 'Festival', 'Concert',\n",
    "        'Concert', 'Concert', 'Concert', 'Concert', 'Concert', 'Concert',\n",
    "        'Concert', 'Concert', 'Concert', 'Concert', 'Concert', 'Concert',\n",
    "        'Concert', 'Concert'],\n",
    " 'MercatorX': [ 9.50321135e+05,  1.49467233e+06,  1.10854276e+06,  1.49467233e+06,\n",
    "         2.51913781e+05,  1.48218228e+05, -8.92705906e+06,  1.49467233e+06,\n",
    "         4.18670490e+06,  2.59491299e+05, -8.92705902e+06, -1.31627258e+07,\n",
    "        -9.58210347e+06, -1.36239482e+07,  1.56392307e+05,  1.49467233e+06,\n",
    "         1.50837910e+06,  1.49902047e+06,  1.28945076e+06, -8.92705902e+06,\n",
    "        -8.92705902e+06, -8.19537364e+06, -1.14250978e+07, -1.14250978e+07,\n",
    "        -9.86661753e+06, -9.86661753e+06,  1.49379513e+06,  1.49467233e+06,\n",
    "        -1.36276683e+07, -8.20891570e+06, -1.16862960e+07, -8.57397958e+06,\n",
    "         4.18734450e+06, -8.77631733e+03,  1.58021357e+05,  2.39144679e+05,\n",
    "         3.15745367e+06,  2.65863216e+05,  2.65863216e+05,  9.31373077e+05,\n",
    "        -8.92706641e+06, -1.31704945e+07, -1.08730083e+06,  9.24915311e+05,\n",
    "         2.61467220e+05,  7.70007716e+05,  1.10985283e+06,  3.41059205e+06,\n",
    "         1.06310114e+06,  2.67536359e+05,  2.93521764e+06,  1.49285337e+06,\n",
    "         1.49285337e+06,  2.81958021e+06,  2.51173952e+06,  1.58630274e+06,\n",
    "         9.50204149e+05,  1.41948197e+06,  9.72341855e+05,  3.23020493e+06,\n",
    "         8.44505613e+05,  9.48383084e+05,  1.60780745e+06,  5.42124796e+05,\n",
    "        -1.14004517e+04],\n",
    " 'MercatorY': [6004570.06959557, 6893165.40093768, 7085725.81047338,\n",
    "        6893165.40093768, 6253525.73562329, 4706560.98067053,\n",
    "        2972411.76736251, 6893165.40093768, 7509862.16585027,\n",
    "        6251824.92731495, 2972411.73027401, 4035816.34901808,\n",
    "        4992613.09476467, 4544092.276759  , 4705097.72104785,\n",
    "        6893165.40093768, 6875817.62675196, 6891502.91573991,\n",
    "        6131845.86803904, 2972411.73027401, 2972411.73027401,\n",
    "        5705788.98872309, 2742334.71139851, 2742334.71139851,\n",
    "        2375987.0990246 , 2375987.0990246 , 6894231.47445908,\n",
    "        6893165.40093768, 4546826.98320842, 4972108.27822514,\n",
    "        4831800.72686635, 4709686.62900351, 7509247.401857  ,\n",
    "        6714465.43048063, 4708251.57233031, 5066893.97798572,\n",
    "        4469311.68236285, 6239149.72266987, 6239149.72266987,\n",
    "        6909348.78733988, 2972436.12216593, 4040970.83862009,\n",
    "        3693894.60345145, 6020473.79844093, 6250024.6427334 ,\n",
    "        6612775.12937624, 7086591.55517114, 6526163.85395143,\n",
    "        7204953.54127515, 6238823.7621892 , 4612386.14745461,\n",
    "        6895499.31286198, 6895499.31286198, 4501357.56115723,\n",
    "        6429500.97888261, 6755047.86303445, 5998332.8910321 ,\n",
    "        7039635.1735204 , 6464569.28977139, 5022094.29977453,\n",
    "        6036831.05642938, 6005673.56348724, 6465032.00585329,\n",
    "        6870368.1055111 , 6713728.33196985],\n",
    " 'show_date': [ True,  True,  True,  True,  True,  True,  True,  True,  True,\n",
    "         True,  True,  True,  True,  True,  True,  True,  True,  True,\n",
    "         True,  True,  True,  True,  True,  True,  True,  True,  True,\n",
    "         True,  True,  True,  True,  True,  True,  True,  True,  True,\n",
    "         True,  True,  True,  True,  True,  True,  True,  True,  True,\n",
    "         True,  True,  True,  True,  True,  True,  True,  True,  True,\n",
    "         True,  True,  True,  True,  True,  True,  True,  True,  True,\n",
    "         True,  True]}}\n",
    "\n",
    "def update(source=source, slider=date_slider, window=None):\n",
    "    data=source.data\n",
    "    v_start = cb_obj.get('value')[0]\n",
    "    v_end = cb_obj.get('value')[1]\n",
    "    mask = np.logical_and(data['datetime'] > v_start, data['datetime'] < v_end)\n",
    "    source.data['show_date'] = mask\n",
    "    source.trigger('change')"
   ]
  },
  {
   "cell_type": "code",
   "execution_count": null,
   "id": "51d1a44a",
   "metadata": {
    "collapsed": false,
    "jupyter": {
     "outputs_hidden": false
    },
    "pycharm": {
     "name": "#%%\n"
    }
   },
   "outputs": [],
   "source": [
    "ColumnDataSource(test_df[(test_df['datetime'] > \"2017-01-01\") & (test_df['datetime'] < \"2018-01-01\")]).data"
   ]
  },
  {
   "cell_type": "code",
   "execution_count": null,
   "id": "22fd6f57",
   "metadata": {
    "collapsed": false,
    "jupyter": {
     "outputs_hidden": false
    },
    "pycharm": {
     "name": "#%%\n"
    }
   },
   "outputs": [],
   "source": [
    "mask = np.logical_and(source.data['datetime'] > '2017-07-22', source.data['datetime'] < '2018-01-01')\n",
    "col = source.data['datetime']\n",
    "col[mask] = 'replacement'\n",
    "col"
   ]
  },
  {
   "cell_type": "code",
   "execution_count": null,
   "id": "3f64a305",
   "metadata": {
    "collapsed": false,
    "jupyter": {
     "outputs_hidden": false
    },
    "pycharm": {
     "name": "#%%\n"
    }
   },
   "outputs": [],
   "source": [
    "''' A crossfilter plot map that uses the `Auto MPG dataset`_. This example\n",
    "demonstrates the relationship of datasets together. A hover tooltip displays\n",
    "information on each dot.\n",
    ".. note::\n",
    "    This example needs the Pandas package to run.\n",
    ".. _Auto MPG dataset: https://archive.ics.uci.edu/ml/datasets/auto+mpg\n",
    "'''\n",
    "import pandas as pd\n",
    "\n",
    "from bokeh.layouts import column, row\n",
    "from bokeh.models import Select\n",
    "from bokeh.palettes import Spectral5\n",
    "from bokeh.plotting import curdoc, figure\n",
    "from bokeh.sampledata.autompg import autompg_clean as df\n",
    "\n",
    "url = 'http://archive.ics.uci.edu/ml/machine-learning-databases/auto-mpg/auto-mpg.data'\n",
    "\n",
    "widths = [7, 4, 10, 10, 11, 7, 4, 4, 30]\n",
    "\n",
    "df = pd.read_fwf(url, widths=widths, header=None, na_values=['?'])\n",
    "df.columns = ['mpg','cylinders','displacement','horsepower','weight','acceleration','model year','origin','car name']\n",
    "\n",
    "SIZES = list(range(6, 22, 3))\n",
    "COLORS = Spectral5\n",
    "N_SIZES = len(SIZES)\n",
    "N_COLORS = len(COLORS)\n",
    "\n",
    "# data cleanup\n",
    "df['cylinders'] = df['cylinders'].astype(str)\n",
    "df['model year'] = df['model year'].astype(str)\n",
    "del df['car name']\n",
    "\n",
    "columns = sorted(df.columns)\n",
    "discrete = [x for x in columns if df[x].dtype == object]\n",
    "continuous = [x for x in columns if x not in discrete]\n",
    "\n",
    "def create_figure():\n",
    "    xs = df[x.value].values\n",
    "    ys = df[y.value].values\n",
    "    x_title = x.value.title()\n",
    "    y_title = y.value.title()\n",
    "\n",
    "    kw = dict()\n",
    "    if x.value in discrete:\n",
    "        kw['x_range'] = sorted(set(xs))\n",
    "    if y.value in discrete:\n",
    "        kw['y_range'] = sorted(set(ys))\n",
    "    kw['title'] = \"%s vs %s\" % (x_title, y_title)\n",
    "\n",
    "    p = figure(height=600, width=800, tools='pan,box_zoom,hover,reset', **kw)\n",
    "    p.xaxis.axis_label = x_title\n",
    "    p.yaxis.axis_label = y_title\n",
    "\n",
    "    if x.value in discrete:\n",
    "        p.xaxis.major_label_orientation = pd.np.pi / 4\n",
    "\n",
    "    sz = 9\n",
    "    if size.value != 'None':\n",
    "        if len(set(df[size.value])) > N_SIZES:\n",
    "            groups = pd.qcut(df[size.value].values, N_SIZES, duplicates='drop')\n",
    "        else:\n",
    "            groups = pd.Categorical(df[size.value])\n",
    "        sz = [SIZES[xx] for xx in groups.codes]\n",
    "\n",
    "    c = \"#31AADE\"\n",
    "    if color.value != 'None':\n",
    "        if len(set(df[color.value])) > N_COLORS:\n",
    "            groups = pd.qcut(df[color.value].values, N_COLORS, duplicates='drop')\n",
    "        else:\n",
    "            groups = pd.Categorical(df[color.value])\n",
    "        c = [COLORS[xx] for xx in groups.codes]\n",
    "\n",
    "    p.circle(x=xs, y=ys, color=c, size=sz, line_color=\"white\", alpha=0.6, hover_color='white', hover_alpha=0.5)\n",
    "\n",
    "    return p\n",
    "\n",
    "\n",
    "def update(attr, old, new):\n",
    "    layout.children[1] = create_figure()\n",
    "\n",
    "\n",
    "x = Select(title='X-Axis', value='mpg', options=columns)\n",
    "x.on_change('value', update)\n",
    "\n",
    "y = Select(title='Y-Axis', value='horsepower', options=columns)\n",
    "y.on_change('value', update)\n",
    "\n",
    "size = Select(title='Size', value='None', options=['None'] + continuous)\n",
    "size.on_change('value', update)\n",
    "\n",
    "color = Select(title='Color', value='None', options=['None'] + continuous)\n",
    "color.on_change('value', update)\n",
    "\n",
    "controls = column(x, y, color, size, width=200)\n",
    "layout = row(controls, create_figure())\n",
    "\n",
    "show(layout)\n",
    "\n",
    "# curdoc().add_root(layout)\n",
    "# curdoc().title = \"Crossfilter\"\n",
    "# curdoc()"
   ]
  },
  {
   "cell_type": "code",
   "execution_count": null,
   "id": "c868cdd4",
   "metadata": {
    "collapsed": false,
    "jupyter": {
     "outputs_hidden": false
    },
    "pycharm": {
     "name": "#%%\n"
    }
   },
   "outputs": [],
   "source": [
    "bokeh serve --show crossfilter"
   ]
  },
  {
   "cell_type": "code",
   "execution_count": null,
   "id": "08ef5c24",
   "metadata": {
    "collapsed": false,
    "jupyter": {
     "outputs_hidden": false
    },
    "pycharm": {
     "name": "#%%\n"
    }
   },
   "outputs": [],
   "source": [
    "\n",
    "df.head()"
   ]
  },
  {
   "cell_type": "markdown",
   "id": "bb7ef2c2",
   "metadata": {
    "pycharm": {
     "name": "#%% md\n"
    }
   },
   "source": [
    "## Also Messy Workspace -- May not Run"
   ]
  },
  {
   "cell_type": "code",
   "execution_count": null,
   "id": "2e5aeec8",
   "metadata": {
    "collapsed": false,
    "jupyter": {
     "outputs_hidden": false
    },
    "pycharm": {
     "name": "#%%\n"
    }
   },
   "outputs": [],
   "source": [
    "from pyproj import Transformer\n",
    "\n",
    "in_crs = 4326   # coordinates provided in EPSG:4326 format\n",
    "out_crs = 3857   # coordinates output in EPSG 3857 (Web Mercator) format\n",
    "\n",
    "transformer = Transformer.from_crs(in_crs, out_crs, always_xy=True)\n",
    "\n",
    "world_lon1, world_lat1 = transformer.transform(-180,-85)\n",
    "world_lon2, world_lat2 = transformer.transform(180,85)\n",
    "\n",
    "starbucks = pd.read_csv(\"directory.csv\")\n",
    "starbucks.head()\n",
    "starbucks_us = starbucks[starbucks.Country == \"US\"].copy()\n",
    "\n",
    "lons, lats = [], []\n",
    "for lon, lat in list(zip(starbucks_us[\"Longitude\"], starbucks_us[\"Latitude\"])):\n",
    "    x, y = transformer.transform(lon,lat)\n",
    "    lons.append(x)\n",
    "    lats.append(y)\n",
    "\n",
    "starbucks_us[\"MercatorX\"] = lons\n",
    "starbucks_us[\"MercatorY\"] = lats\n",
    "\n",
    "starbucks_us = starbucks_us.rename(columns={\"Store Name\":\"Name\", \"State/Province\":\"State\"})\n",
    "starbucks_us.head()"
   ]
  },
  {
   "cell_type": "code",
   "execution_count": null,
   "id": "ff3ac5eb",
   "metadata": {
    "collapsed": false,
    "jupyter": {
     "outputs_hidden": false
    },
    "pycharm": {
     "name": "#%%\n"
    }
   },
   "outputs": [],
   "source": [
    "## TODO add interactive buttons to switch between artists / other slices\n",
    "## https://towardsdatascience.com/visualization-with-plotly-express-comprehensive-guide-eb5ee4b50b57#f38e\n",
    "## https://plotly.com/python/dropdowns/"
   ]
  },
  {
   "cell_type": "code",
   "execution_count": null,
   "id": "bf8b6e70",
   "metadata": {
    "collapsed": false,
    "jupyter": {
     "outputs_hidden": false
    },
    "pycharm": {
     "name": "#%%\n"
    }
   },
   "outputs": [],
   "source": [
    "# visualize data\n",
    "import plotly.express as px\n",
    "px.set_mapbox_access_token(open(\"mapbox_token.txt\").read())\n",
    "fig = px.scatter_mapbox(test_df,\n",
    "                     lat='latitude',\n",
    "                     lon='longitude',\n",
    "                     color=\"festival_flag\", # which column to use to set the color of markers\n",
    "                     color_discrete_sequence=px.colors.qualitative.Vivid,\n",
    "\n",
    "                     hover_name=\"city\", # column added to hover information\n",
    "                     hover_data={'datetime': True,\n",
    "                                 'festival_flag': True,\n",
    "                                 'latitude': False,\n",
    "                                 'longitude': False},\n",
    "                     labels={'festival_flag': 'Event Type',\n",
    "                             'datetime': 'Date'},\n",
    "\n",
    "\n",
    "                     #size=\"lineup_size\", # size of markers\n",
    "                     #projection=\"natural earth\"\n",
    "                     mapbox_style=\"streets\",\n",
    "                     zoom=1\n",
    "                    )\n",
    "\n",
    "# fig.update_layout(\n",
    "#     mapbox_style=\"streets\",\n",
    "#     # mapbox_layers=[\n",
    "#     #     {\n",
    "#     #         \"below\": 'traces',\n",
    "#     #         \"sourcetype\": \"raster\",\n",
    "#     #         \"sourceattribution\": \"United States Geological Survey\",\n",
    "#     #         \"source\": [\n",
    "#     #             \"https://basemap.nationalmap.gov/arcgis/rest/services/USGSImageryOnly/MapServer/tile/{z}/{y}/{x}\"\n",
    "#     #         ]\n",
    "#     #     }\n",
    "#     #   ]\n",
    "# )\n",
    "#fig.update_traces(hovertemplate= \"%{label}: <br>Popularity: %{value} </br> %{text}\")\n",
    "\n",
    "# fig.update_layout(\n",
    "#     margin={\"r\":0,\"t\":0,\"l\":0,\"b\":0},\n",
    "#     updatemenus=[\n",
    "#         dict(\n",
    "#             buttons=list([\n",
    "#                 dict(\n",
    "#                     args=[\"marker.color\",[\"red\"]],\n",
    "#                     label='Red',\n",
    "#                     method='restyle',\n",
    "#                     visible=True\n",
    "#                 )\n",
    "#             ]),\n",
    "#             direction=\"down\",\n",
    "#             pad={'r': 10, 't': 10},\n",
    "#             #showactive=True\n",
    "#         )\n",
    "#     ]\n",
    "# )\n",
    "\n",
    "fig.update_layout(\n",
    "    margin={\"r\":0,\"t\":0,\"l\":0,\"b\":0},\n",
    "    updatemenus=[\n",
    "        dict(\n",
    "            buttons=list([\n",
    "                dict(\n",
    "                    args=[{'customdata':[['2024-04-19', 'Festival', 33.6784492, -116.237155]]}],\n",
    "                    label='Custom',\n",
    "                    method='restyle',\n",
    "                    visible=True\n",
    "                )\n",
    "            ]),\n",
    "            direction=\"down\",\n",
    "            pad={'r': 10, 't': 10},\n",
    "            #showactive=True\n",
    "        )\n",
    "    ]\n",
    ")\n",
    "\n",
    "fig.show()"
   ]
  },
  {
   "cell_type": "code",
   "execution_count": null,
   "id": "f2ebe201",
   "metadata": {
    "collapsed": false,
    "jupyter": {
     "outputs_hidden": false
    },
    "pycharm": {
     "name": "#%%\n"
    }
   },
   "outputs": [],
   "source": [
    "fig.to_dict()"
   ]
  },
  {
   "cell_type": "code",
   "execution_count": null,
   "id": "c5970156",
   "metadata": {
    "collapsed": false,
    "jupyter": {
     "outputs_hidden": false
    },
    "pycharm": {
     "name": "#%%\n"
    }
   },
   "outputs": [],
   "source": [
    "fig.data"
   ]
  },
  {
   "cell_type": "code",
   "execution_count": null,
   "id": "9f476300",
   "metadata": {
    "collapsed": false,
    "jupyter": {
     "outputs_hidden": false
    },
    "pycharm": {
     "name": "#%%\n"
    }
   },
   "outputs": [],
   "source": [
    "import reverse_geocode as rg\n",
    "coordinates = (-37.81, 144.96), (31.76, 35.21)\n",
    "loc = rg.search(coordinates)"
   ]
  },
  {
   "cell_type": "code",
   "execution_count": null,
   "id": "594aaa72",
   "metadata": {
    "collapsed": false,
    "jupyter": {
     "outputs_hidden": false
    },
    "pycharm": {
     "name": "#%%\n"
    }
   },
   "outputs": [],
   "source": [
    "from functools import partial\n",
    "from geopy.geocoders import Nominatim\n",
    "\n",
    "geolocator = Nominatim(user_agent=\"rg_agent\")\n",
    "\n",
    "geocode = partial(geolocator.geocode, language=\"es\")\n",
    "print(geocode(\"london\"))\n",
    "\n",
    "print(geocode(\"paris\"))\n",
    "\n",
    "print(geocode(\"paris\", language=\"en\"))\n",
    "\n",
    "\n",
    "reverse = partial(geolocator.reverse, language=\"es\")\n",
    "print(reverse(\"52.509669, 13.376294\"))\n"
   ]
  },
  {
   "cell_type": "code",
   "execution_count": null,
   "id": "3485faba",
   "metadata": {
    "collapsed": false,
    "jupyter": {
     "outputs_hidden": false
    },
    "pycharm": {
     "name": "#%%\n"
    }
   },
   "outputs": [],
   "source": [
    "from geopy.extra.rate_limiter import RateLimiter\n",
    "gr = RateLimiter(geolocator.reverse, min_delay_seconds=1)\n",
    "\n",
    "x = gr((-37.81, 144.96),)\n",
    "dir(x)"
   ]
  },
  {
   "cell_type": "code",
   "execution_count": null,
   "id": "b4114244",
   "metadata": {
    "collapsed": false,
    "jupyter": {
     "outputs_hidden": false
    },
    "pycharm": {
     "name": "#%%\n"
    }
   },
   "outputs": [],
   "source": [
    "x"
   ]
  },
  {
   "cell_type": "code",
   "execution_count": null,
   "outputs": [],
   "source": [
    "from geopy.geocoders import Nominatim\n",
    "from geopy.extra.rate_limiter import RateLimiter"
   ],
   "metadata": {
    "collapsed": false,
    "jupyter": {
     "outputs_hidden": false
    },
    "pycharm": {
     "name": "#%%\n"
    }
   },
   "outputs": [],
   "source": [
    "x.raw['address']['city']"
   ]
  },
  {
   "cell_type": "code",
   "execution_count": null,
   "id": "da612c1d",
   "metadata": {
    "collapsed": false,
    "jupyter": {
     "outputs_hidden": false
    },
    "pycharm": {
     "name": "#%%\n"
    }
   },
   "outputs": [],
   "source": [
    "import plotly.express as px\n",
    "#df = px.data.gapminder().query(\"year == 2007\")\n",
    "fig = px.scatter_geo(test_df,\n",
    "                     lat='latitude',\n",
    "                     lon='longitude',\n",
    "                     color=\"festival_flag\", # which column to use to set the color of markers\n",
    "                     hover_name=\"city\", # column added to hover information\n",
    "                     #size=\"lineup_size\", # size of markers\n",
    "                     projection=\"natural earth\")\n",
    "fig.update_geos(\n",
    "    visible=False,\n",
    "    resolution=50,\n",
    "    #scope=\"north america\",\n",
    "    showcountries=True, countrycolor=\"Black\"\n",
    "    #,showsubunits=True, subunitcolor=\"Blue\"\n",
    ")\n",
    "fig.show()"
   ]
  },
  {
   "cell_type": "code",
   "execution_count": null,
   "id": "a03307be",
   "metadata": {
    "collapsed": false,
    "jupyter": {
     "outputs_hidden": false
    },
    "pycharm": {
     "name": "#%%\n"
    }
   },
   "outputs": [],
   "source": [
    "x_df = test_df[:10].copy()\n",
    "tt = get_location(x_df, 'latitude', 'longitude')\n",
    "tt.head(10)"
   ]
  },
  {
   "cell_type": "code",
   "execution_count": null,
   "id": "cc9e78ad",
   "metadata": {
    "collapsed": false,
    "jupyter": {
     "outputs_hidden": false
    },
    "pycharm": {
     "name": "#%%\n"
    }
   },
   "outputs": [],
   "source": [
    "test_df.head(10)"
   ]
  },
  {
   "cell_type": "code",
   "execution_count": null,
   "id": "d57f0444",
   "metadata": {
    "collapsed": false,
    "jupyter": {
     "outputs_hidden": false
    },
    "pycharm": {
     "name": "#%%\n"
    }
   },
   "outputs": [],
   "source": [
    "test_df['city'] = test_df[['latitude', 'longitude']]"
   ]
  },
  {
   "cell_type": "code",
   "execution_count": null,
   "id": "4bc29ec7",
   "metadata": {
    "collapsed": false,
    "jupyter": {
     "outputs_hidden": false
    },
    "pycharm": {
     "name": "#%%\n"
    }
   },
   "outputs": [],
   "source": [
    "from geopy.extra.rate_limiter import RateLimiter\n",
    "geocode = RateLimiter(geolocator.reverse, min_delay_seconds=1)\n",
    "df['location'] = df['name'].apply(geocode)\n",
    "\n",
    "df['point'] = df['location'].apply(lambda loc: tuple(loc.point) if loc else None)"
   ]
  },
  {
   "cell_type": "code",
   "execution_count": null,
   "id": "303431fd",
   "metadata": {
    "collapsed": false,
    "jupyter": {
     "outputs_hidden": false
    },
    "pycharm": {
     "name": "#%%\n"
    }
   },
   "outputs": [],
   "source": [
    "geolocator.reverse(-37.81, 144.96)"
   ]
  },
  {
   "cell_type": "code",
   "execution_count": null,
   "id": "721dde2b",
   "metadata": {
    "collapsed": false,
    "jupyter": {
     "outputs_hidden": false
    },
    "pycharm": {
     "name": "#%%\n"
    }
   },
   "outputs": [],
   "source": []
  },
  {
   "cell_type": "code",
   "execution_count": null,
   "id": "72ecd6a3",
   "metadata": {
    "collapsed": false,
    "jupyter": {
     "outputs_hidden": false
    },
    "pycharm": {
     "name": "#%%\n"
    }
   },
   "outputs": [],
   "source": [
    "import plotly.graph_objects as go\n",
    "\n",
    "fig = go.Figure(go.Scattergeo(\n",
    "    test_df,\n",
    "    lat='latitude',\n",
    "    lon='longitude',\n",
    "    color=\"festival_flag\", # which column to use to set the color of markers\n",
    "    hover_name=\"city\", # column added to hover information\n",
    "    #size=\"lineup_size\", # size of markers\n",
    "    projection=\"natural earth\")\n",
    ")\n",
    "fig.update_geos(\n",
    "    visible=False, resolution=110, scope=\"usa\",\n",
    "    showcountries=True, countrycolor=\"Black\",\n",
    "    showsubunits=True, subunitcolor=\"lightGrey\"\n",
    ")\n",
    "fig.update_layout(height=300, margin={\"r\":0,\"t\":0,\"l\":0,\"b\":0})\n",
    "fig.show()"
   ]
  },
  {
   "cell_type": "code",
   "execution_count": null,
   "id": "6c4b79bf",
   "metadata": {
    "collapsed": false,
    "jupyter": {
     "outputs_hidden": false
    },
    "pycharm": {
     "name": "#%%\n"
    }
   },
   "outputs": [],
   "source": [
    "import pandas as pd\n",
    "us_cities = pd.read_csv(\"https://raw.githubusercontent.com/plotly/datasets/master/us-cities-top-1k.csv\")\n",
    "us_cities.head()\n",
    "\n",
    "import plotly.express as px\n",
    "\n",
    "fig = px.scatter_mapbox(us_cities, lat=\"lat\", lon=\"lon\", hover_name=\"City\", hover_data=[\"State\", \"Population\"],\n",
    "                        color_discrete_sequence=[\"fuchsia\"], zoom=3, height=300)\n",
    "fig.update_layout(mapbox_style=\"open-street-map\")\n",
    "fig.update_layout(margin={\"r\":0,\"t\":0,\"l\":0,\"b\":0})\n",
    "fig.show()"
   ]
  },
  {
   "cell_type": "code",
   "execution_count": null,
   "id": "de3bf1f8",
   "metadata": {
    "collapsed": false,
    "jupyter": {
     "outputs_hidden": false
    },
    "pycharm": {
     "name": "#%%\n"
    }
   },
   "outputs": [],
   "source": [
    "import plotly.express as px\n",
    "\n",
    "fig = px.scatter_mapbox(test_df, lat=\"latitude\", lon=\"longitude\", hover_name=\"location\",\n",
    "                        color_discrete_sequence=[\"fuchsia\"], zoom=3, height=300)\n",
    "fig.update_layout(mapbox_style=\"open-street-map\")\n",
    "fig.update_layout(margin={\"r\":0,\"t\":0,\"l\":0,\"b\":0})\n",
    "fig.show()"
   ]
  },
  {
   "cell_type": "code",
   "execution_count": null,
   "id": "c5bb464d-c881-49d5-83d2-21d24e17e04f",
   "metadata": {
    "tags": []
   },
   "outputs": [],
   "source": [
    "ej = r.json()\n",
    "ej[2]"
   ]
  },
  {
   "cell_type": "code",
   "execution_count": null,
   "id": "8b835acd-ccac-4c96-a281-0d6510451e8e",
   "metadata": {},
   "outputs": [],
   "source": [
    "len(event_json)"
   ]
  },
  {
   "cell_type": "code",
   "execution_count": null,
   "id": "02de8e44-617c-4215-ae76-710ac67407c9",
   "metadata": {
    "tags": []
   },
   "outputs": [],
   "source": [
    "#r.text"
   ]
  },
  {
   "cell_type": "code",
   "execution_count": null,
   "id": "4f8c83e9-a728-4ba5-b8c9-abbbe011cb72",
   "metadata": {},
   "outputs": [],
   "source": [
    "len(ej[0])"
   ]
  },
  {
   "cell_type": "code",
   "execution_count": null,
   "id": "09c3a67a-32ce-4b70-9e83-9753dab2c73f",
   "metadata": {},
   "outputs": [],
   "source": [
    "ej[0].keys()"
   ]
  },
  {
   "cell_type": "code",
   "execution_count": null,
   "id": "07ac0ee8-80be-49a2-a3ab-ce20398c4728",
   "metadata": {},
   "outputs": [],
   "source": [
    "list(ej[0].keys())"
   ]
  },
  {
   "cell_type": "code",
   "execution_count": null,
   "id": "53146583-e11c-400f-ac54-49c1c11aab0e",
   "metadata": {},
   "outputs": [],
   "source": [
    "type(ej[0])"
   ]
  },
  {
   "cell_type": "code",
   "execution_count": null,
   "id": "077c0f79-81dd-47c4-97be-6c1b5502ee5b",
   "metadata": {},
   "outputs": [],
   "source": [
    "ej[0].values()"
   ]
  },
  {
   "cell_type": "code",
   "execution_count": null,
   "id": "1f65589a-7863-47f3-ba0e-d552395102d5",
   "metadata": {},
   "outputs": [],
   "source": [
    "v = ej[0].get('venue')\n",
    "print(v)\n",
    "type(v)"
   ]
  },
  {
   "cell_type": "code",
   "execution_count": null,
   "id": "528d7460-796b-43e0-bdeb-f50ea5c5f80a",
   "metadata": {},
   "outputs": [],
   "source": [
    "v.get('country')"
   ]
  },
  {
   "cell_type": "code",
   "execution_count": null,
   "id": "1384bd59",
   "metadata": {
    "collapsed": false,
    "jupyter": {
     "outputs_hidden": false
    },
    "pycharm": {
     "name": "#%%\n"
    }
   },
   "outputs": [],
   "source": [
    "for key in list(ej[0].keys()):\n",
    "    print(key, \" : \\n\", ej[0].get(key), \"\\n\")"
   ]
  },
  {
   "cell_type": "code",
   "execution_count": null,
   "id": "a497fe4d-7e00-4168-9cae-5642aee4bf3b",
   "metadata": {},
   "outputs": [],
   "source": []
  }
 ],
 "metadata": {
  "kernelspec": {
   "display_name": "Python 3 (ipykernel)",
   "language": "python",
   "name": "python3"
  },
  "language_info": {
   "codemirror_mode": {
    "name": "ipython",
    "version": 3
   },
   "file_extension": ".py",
   "mimetype": "text/x-python",
   "name": "python",
   "nbconvert_exporter": "python",
   "pygments_lexer": "ipython3",
   "version": "3.8.12"
  }
 },
 "nbformat": 4,
 "nbformat_minor": 5
}
