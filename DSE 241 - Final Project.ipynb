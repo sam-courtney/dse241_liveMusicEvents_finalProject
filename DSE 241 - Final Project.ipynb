{
 "cells": [
  {
   "cell_type": "markdown",
   "id": "c24686ae-41b8-425f-9b4c-e89f2bb7d0fe",
   "metadata": {},
   "source": [
    "# DSE 241 - Final Project\n",
    "# Rock & Fucking Roll"
   ]
  },
  {
   "cell_type": "markdown",
   "id": "327b5618-f4aa-4529-aca3-7a2b127f8e82",
   "metadata": {},
   "source": [
    "## Requirements"
   ]
  },
  {
   "cell_type": "code",
   "execution_count": 1,
   "id": "884c0faa-1277-4c81-8a8c-e6bb3a174a06",
   "metadata": {},
   "outputs": [],
   "source": [
    "import requests\n",
    "import pandas as pd\n",
    "import numpy as np\n",
    "import datetime"
   ]
  },
  {
   "cell_type": "markdown",
   "id": "9c4d8ef3-b428-4371-9963-31ea48652a8e",
   "metadata": {},
   "source": [
    "## Functions"
   ]
  },
  {
   "cell_type": "code",
   "execution_count": 2,
   "id": "ee028625-22a0-4cca-8f3b-687cfbef1827",
   "metadata": {},
   "outputs": [],
   "source": [
    "def read_api_key(file_name):\n",
    "    f = open(file_name, 'r')\n",
    "    key = f.read()\n",
    "    f.close()\n",
    "    return key\n",
    "\n",
    "def getgenre_artist(string):\n",
    "    ## lower case\n",
    "    ## replace \" \" with \"_\"\n",
    "    artist = string.replace(' ','_').lower()\n",
    "    return artist\n",
    "\n",
    "def bands_artist(string):\n",
    "    ## url-ify artist names\n",
    "    ## replaces \" \" with \"%20\"\n",
    "    artist = string.replace(' ',r'%20')\n",
    "    return artist\n",
    "    \n",
    "    \n",
    "def parse_events(event_json):\n",
    "    ### defined to help parse the JSON of individual events returned by Bandintown API ###\n",
    "    ### this will pull out the keys and values for the event object ###\n",
    "    ### the end result is a list that can be entered as a row to a Pandas dataframe ###\n",
    "    \n",
    "    ### TODO: determine if the output is better in Pandas or Numpy ###\n",
    "    ### TODO: define event_json object ###\n",
    "    \n",
    "    events_data = []\n",
    "    num_of_events = len(event_json) # event json has an entry for each event ## each event has lots of other nested data\n",
    "\n",
    "    keys_of_interest = [\n",
    "            'datetime' # date-time of the event\n",
    "            , 'title'  # name of the event  ## may need to create a condition to check if exists and set to null if missing\n",
    "            , 'lineup' # list of strings containing names of artists  ## may leave as a nested list in data frame to avoid sparseness  ### list may be ordered in terms of headliners (??)\n",
    "            , 'festival_start_date' # date festival starts  ### may be a useful indicator that the artist is performing at a festival-event, need to test this for reliability\n",
    "            , 'festival_end_date'   # date festival ends, will differ from start date on multi-day events (may not exist on single day events)\n",
    "            , 'venue'  # this is a nested dictionary, will need to tease this one out to flatten the data\n",
    "    ]\n",
    "\n",
    "    venue_keys_of_interest = [\n",
    "             'city'        # city name, string\n",
    "            , 'region'     # state-level, string\n",
    "            , 'country'    # country name, string\n",
    "            , 'latitude'   # coordinate data, float\n",
    "            , 'longitude'  # coordinate data, float\n",
    "            , 'location'   # arbitrary string describing geolocation  ## consider not including\n",
    "            , 'name'       # arbitrary string describing venue name, could be misleading since some venues are at locations, but given festival name  ## consider not including\n",
    "    ]\n",
    "\n",
    "    for i in range(num_of_events):\n",
    "        event = event_json[i]\n",
    "        event_list = []\n",
    "\n",
    "        for key in keys_of_interest:\n",
    "            value = event.get(key)\n",
    "            if key == 'venue':\n",
    "                for venue_key in venue_keys_of_interest:\n",
    "                    venue_value = value.get(venue_key)\n",
    "                    event_list.append(venue_value)\n",
    "            else:\n",
    "                event_list.append(value)\n",
    "\n",
    "        events_data.append(event_list)\n",
    "\n",
    "\n",
    "    cols = keys_of_interest[:-1] + venue_keys_of_interest\n",
    "    events_df = pd.DataFrame(events_data, columns=cols)\n",
    "    events_df['artist'] = artist\n",
    "    return events_df\n",
    "\n",
    "def get_locations(df, latitude_column='latitude', longitude_column='longitude'):\n",
    "    new_df = df.copy()\n",
    "    geolocator = Nominatim(user_agent=\"rg_agent\")\n",
    "    reverse_geocode = RateLimiter(geolocator.reverse, min_delay_seconds=1)\n",
    "    for index, row in new_df.iterrows():\n",
    "        lookup = reverse_geocode((row[latitude_column],row[longitude_column]), language='en')\n",
    "        try:\n",
    "            new_df.loc[index,'city'] = lookup.raw['address']['city']\n",
    "        except:\n",
    "            continue\n",
    "        try:\n",
    "            new_df.loc[index,'region'] = lookup.raw['address']['state']\n",
    "        except:\n",
    "            continue\n",
    "        try:\n",
    "            new_df.loc[index,'country'] = lookup.raw['address']['country']\n",
    "        except:\n",
    "            continue\n",
    "\n",
    "    return new_df"
   ]
  },
  {
   "cell_type": "markdown",
   "id": "26325d4d-c8ee-4369-a568-d2e19ec91cf7",
   "metadata": {},
   "source": [
    "## Key Inputs"
   ]
  },
  {
   "cell_type": "code",
   "execution_count": 3,
   "id": "370a4474-931c-45d8-8c47-bef55969c386",
   "metadata": {},
   "outputs": [],
   "source": [
    "artist = 'Tame Impala'\n",
    "\n",
    "bands_key = read_api_key('bands_api_key.txt') ## shhhh... its a secret\n",
    "\n",
    "analysis_level = 1\n",
    "gg_artist = getgenre_artist(artist)\n",
    "bands_artist = bands_artist(artist)\n",
    "getgenre_api_url = r'https://api.getgenre.com/search?artist_name={}&analysis={}'.format(gg_artist, analysis_level)\n",
    "bands_api_url = r'https://rest.bandsintown.com/artists/{}/events/?app_id={}'.format(bands_artist, bands_key)\n",
    "bands_api_url_past = r'https://rest.bandsintown.com/artists/{}/events/?app_id={}&date=past'.format(bands_artist, bands_key)"
   ]
  },
  {
   "cell_type": "code",
   "execution_count": 4,
   "id": "00e0146d-d8b1-4b4c-affc-d7919dcfee18",
   "metadata": {},
   "outputs": [],
   "source": [
    "# gg_artist"
   ]
  },
  {
   "cell_type": "code",
   "execution_count": 5,
   "id": "6cfcea8e-b4d7-468e-bf0a-5f254e9e5109",
   "metadata": {},
   "outputs": [],
   "source": [
    "# bands_artist"
   ]
  },
  {
   "cell_type": "markdown",
   "id": "452b9e2b-cc0d-4645-b79d-87f97b2a4513",
   "metadata": {},
   "source": [
    "## Working Code\n",
    "### Let's Go"
   ]
  },
  {
   "cell_type": "code",
   "execution_count": 6,
   "id": "9bfa7535-fa5b-4583-87e3-b08e47370a8f",
   "metadata": {
    "tags": []
   },
   "outputs": [
    {
     "name": "stdout",
     "output_type": "stream",
     "text": [
      "(321, 13)\n"
     ]
    },
    {
     "data": {
      "text/html": [
       "<div>\n",
       "<style scoped>\n",
       "    .dataframe tbody tr th:only-of-type {\n",
       "        vertical-align: middle;\n",
       "    }\n",
       "\n",
       "    .dataframe tbody tr th {\n",
       "        vertical-align: top;\n",
       "    }\n",
       "\n",
       "    .dataframe thead th {\n",
       "        text-align: right;\n",
       "    }\n",
       "</style>\n",
       "<table border=\"1\" class=\"dataframe\">\n",
       "  <thead>\n",
       "    <tr style=\"text-align: right;\">\n",
       "      <th></th>\n",
       "      <th>datetime</th>\n",
       "      <th>title</th>\n",
       "      <th>lineup</th>\n",
       "      <th>festival_start_date</th>\n",
       "      <th>festival_end_date</th>\n",
       "      <th>city</th>\n",
       "      <th>region</th>\n",
       "      <th>country</th>\n",
       "      <th>latitude</th>\n",
       "      <th>longitude</th>\n",
       "      <th>location</th>\n",
       "      <th>name</th>\n",
       "      <th>artist</th>\n",
       "    </tr>\n",
       "  </thead>\n",
       "  <tbody>\n",
       "    <tr>\n",
       "      <th>0</th>\n",
       "      <td>2013-04-14T10:08:00</td>\n",
       "      <td></td>\n",
       "      <td>[Tame Impala, The Airborne Toxic Event, Eric P...</td>\n",
       "      <td></td>\n",
       "      <td></td>\n",
       "      <td>Indio</td>\n",
       "      <td>CA</td>\n",
       "      <td>United States</td>\n",
       "      <td>33.7205556</td>\n",
       "      <td>-116.2147222</td>\n",
       "      <td></td>\n",
       "      <td>Empire Polo Field</td>\n",
       "      <td>Tame Impala</td>\n",
       "    </tr>\n",
       "    <tr>\n",
       "      <th>1</th>\n",
       "      <td>2013-04-19T19:00:00</td>\n",
       "      <td></td>\n",
       "      <td>[Tame Impala, Mona, Alt-J, Social Distortion, ...</td>\n",
       "      <td></td>\n",
       "      <td></td>\n",
       "      <td>Indio</td>\n",
       "      <td>CA</td>\n",
       "      <td>United States</td>\n",
       "      <td>33.6784492</td>\n",
       "      <td>-116.237155</td>\n",
       "      <td></td>\n",
       "      <td>Empire Polo Club</td>\n",
       "      <td>Tame Impala</td>\n",
       "    </tr>\n",
       "    <tr>\n",
       "      <th>2</th>\n",
       "      <td>2013-04-21T10:26:00</td>\n",
       "      <td></td>\n",
       "      <td>[Tame Impala, Vampire Weekend, Ladies Night, M...</td>\n",
       "      <td></td>\n",
       "      <td></td>\n",
       "      <td>Indio</td>\n",
       "      <td>CA</td>\n",
       "      <td>United States</td>\n",
       "      <td>33.7205556</td>\n",
       "      <td>-116.2147222</td>\n",
       "      <td></td>\n",
       "      <td>Empire Polo Field</td>\n",
       "      <td>Tame Impala</td>\n",
       "    </tr>\n",
       "    <tr>\n",
       "      <th>3</th>\n",
       "      <td>2013-04-26T20:00:00</td>\n",
       "      <td></td>\n",
       "      <td>[Tame Impala, Midnight Juggernauts]</td>\n",
       "      <td></td>\n",
       "      <td></td>\n",
       "      <td>West Melbourne</td>\n",
       "      <td></td>\n",
       "      <td>Australia</td>\n",
       "      <td>-37.81126</td>\n",
       "      <td>144.946442</td>\n",
       "      <td></td>\n",
       "      <td>Festival Hall Melbourne</td>\n",
       "      <td>Tame Impala</td>\n",
       "    </tr>\n",
       "    <tr>\n",
       "      <th>4</th>\n",
       "      <td>2013-05-02T19:30:00</td>\n",
       "      <td></td>\n",
       "      <td>[Tame Impala]</td>\n",
       "      <td></td>\n",
       "      <td></td>\n",
       "      <td>Sydney</td>\n",
       "      <td></td>\n",
       "      <td>Australia</td>\n",
       "      <td>-33.889832</td>\n",
       "      <td>151.223348</td>\n",
       "      <td></td>\n",
       "      <td>Hordern Pavilion</td>\n",
       "      <td>Tame Impala</td>\n",
       "    </tr>\n",
       "  </tbody>\n",
       "</table>\n",
       "</div>"
      ],
      "text/plain": [
       "              datetime title  \\\n",
       "0  2013-04-14T10:08:00         \n",
       "1  2013-04-19T19:00:00         \n",
       "2  2013-04-21T10:26:00         \n",
       "3  2013-04-26T20:00:00         \n",
       "4  2013-05-02T19:30:00         \n",
       "\n",
       "                                              lineup festival_start_date  \\\n",
       "0  [Tame Impala, The Airborne Toxic Event, Eric P...                       \n",
       "1  [Tame Impala, Mona, Alt-J, Social Distortion, ...                       \n",
       "2  [Tame Impala, Vampire Weekend, Ladies Night, M...                       \n",
       "3                [Tame Impala, Midnight Juggernauts]                       \n",
       "4                                      [Tame Impala]                       \n",
       "\n",
       "  festival_end_date            city region        country    latitude  \\\n",
       "0                             Indio     CA  United States  33.7205556   \n",
       "1                             Indio     CA  United States  33.6784492   \n",
       "2                             Indio     CA  United States  33.7205556   \n",
       "3                    West Melbourne             Australia   -37.81126   \n",
       "4                            Sydney             Australia  -33.889832   \n",
       "\n",
       "      longitude location                     name       artist  \n",
       "0  -116.2147222                 Empire Polo Field  Tame Impala  \n",
       "1   -116.237155                  Empire Polo Club  Tame Impala  \n",
       "2  -116.2147222                 Empire Polo Field  Tame Impala  \n",
       "3    144.946442           Festival Hall Melbourne  Tame Impala  \n",
       "4    151.223348                  Hordern Pavilion  Tame Impala  "
      ]
     },
     "execution_count": 6,
     "metadata": {},
     "output_type": "execute_result"
    }
   ],
   "source": [
    "# data extract\n",
    "r = requests.get(bands_api_url_past)\n",
    "event_json = r.json()\n",
    "\n",
    "test_df = parse_events(event_json)\n",
    "print(test_df.shape)\n",
    "test_df.head()"
   ]
  },
  {
   "cell_type": "code",
   "execution_count": 7,
   "id": "ca1c09ba-03ed-457d-8f95-b574d2756d55",
   "metadata": {},
   "outputs": [],
   "source": [
    "# data extract\n",
    "r_gg = requests.get(getgenre_api_url)\n",
    "\n",
    "genre_json = r_gg.json()\n",
    "top_gg = genre_json['analysis']['top_genres']"
   ]
  },
  {
   "cell_type": "code",
   "execution_count": 8,
   "id": "1a4dce5e",
   "metadata": {
    "collapsed": false,
    "jupyter": {
     "outputs_hidden": false
    },
    "pycharm": {
     "name": "#%%\n"
    }
   },
   "outputs": [],
   "source": [
    "# feature extraction\n",
    "test_df['artist'] = artist\n",
    "test_df['artist_topgenres'] = [top_gg for _ in range(len(test_df))]\n",
    "\n",
    "test_df['lineup_size'] = test_df['lineup'].str.len()\n",
    "test_df['festival_flag'] = np.where(test_df['lineup'].str.len() > 5, 'Festival', 'Concert')\n",
    "test_df['festival_flag'] = test_df['festival_flag'].astype(str)\n",
    "\n",
    "test_df['show_date'] = True"
   ]
  },
  {
   "cell_type": "code",
   "execution_count": 9,
   "id": "ed5c788e",
   "metadata": {
    "collapsed": false,
    "jupyter": {
     "outputs_hidden": false
    },
    "pycharm": {
     "name": "#%%\n"
    }
   },
   "outputs": [
    {
     "name": "stdout",
     "output_type": "stream",
     "text": [
      "(321, 17)\n",
      "(319, 17)\n"
     ]
    }
   ],
   "source": [
    "# data cleanup\n",
    "print(test_df.shape)\n",
    "test_df = test_df[(test_df['latitude'].notna()) & (test_df['longitude'].notna())]\n",
    "print(test_df.shape)\n",
    "test_df['latitude'] = pd.to_numeric(test_df['latitude'])\n",
    "test_df['longitude'] = pd.to_numeric((test_df['longitude']))\n",
    "\n",
    "test_df['datetime'] = test_df['datetime'].str[:10]"
   ]
  },
  {
   "cell_type": "code",
   "execution_count": 10,
   "id": "264892e5",
   "metadata": {
    "collapsed": false,
    "jupyter": {
     "outputs_hidden": false
    },
    "pycharm": {
     "name": "#%%\n"
    }
   },
   "outputs": [],
   "source": [
    "# data cleanup\n",
    "#test_df = get_locations(test_df)  ## disabling for now due to run time"
   ]
  },
  {
   "cell_type": "code",
   "execution_count": 11,
   "id": "ed0e47e0",
   "metadata": {
    "collapsed": false,
    "jupyter": {
     "outputs_hidden": false
    },
    "pycharm": {
     "name": "#%%\n"
    }
   },
   "outputs": [
    {
     "data": {
      "text/html": [
       "<div>\n",
       "<style scoped>\n",
       "    .dataframe tbody tr th:only-of-type {\n",
       "        vertical-align: middle;\n",
       "    }\n",
       "\n",
       "    .dataframe tbody tr th {\n",
       "        vertical-align: top;\n",
       "    }\n",
       "\n",
       "    .dataframe thead th {\n",
       "        text-align: right;\n",
       "    }\n",
       "</style>\n",
       "<table border=\"1\" class=\"dataframe\">\n",
       "  <thead>\n",
       "    <tr style=\"text-align: right;\">\n",
       "      <th></th>\n",
       "      <th>datetime</th>\n",
       "      <th>title</th>\n",
       "      <th>lineup</th>\n",
       "      <th>festival_start_date</th>\n",
       "      <th>festival_end_date</th>\n",
       "      <th>city</th>\n",
       "      <th>region</th>\n",
       "      <th>country</th>\n",
       "      <th>latitude</th>\n",
       "      <th>longitude</th>\n",
       "      <th>location</th>\n",
       "      <th>name</th>\n",
       "      <th>artist</th>\n",
       "      <th>artist_topgenres</th>\n",
       "      <th>lineup_size</th>\n",
       "      <th>festival_flag</th>\n",
       "      <th>show_date</th>\n",
       "    </tr>\n",
       "  </thead>\n",
       "  <tbody>\n",
       "    <tr>\n",
       "      <th>0</th>\n",
       "      <td>2013-04-14</td>\n",
       "      <td></td>\n",
       "      <td>[Tame Impala, The Airborne Toxic Event, Eric P...</td>\n",
       "      <td></td>\n",
       "      <td></td>\n",
       "      <td>Indio</td>\n",
       "      <td>CA</td>\n",
       "      <td>United States</td>\n",
       "      <td>33.720556</td>\n",
       "      <td>-116.214722</td>\n",
       "      <td></td>\n",
       "      <td>Empire Polo Field</td>\n",
       "      <td>Tame Impala</td>\n",
       "      <td>[indie rock, psychedelic pop, psychedelic rock...</td>\n",
       "      <td>38</td>\n",
       "      <td>Festival</td>\n",
       "      <td>True</td>\n",
       "    </tr>\n",
       "    <tr>\n",
       "      <th>1</th>\n",
       "      <td>2013-04-19</td>\n",
       "      <td></td>\n",
       "      <td>[Tame Impala, Mona, Alt-J, Social Distortion, ...</td>\n",
       "      <td></td>\n",
       "      <td></td>\n",
       "      <td>Indio</td>\n",
       "      <td>CA</td>\n",
       "      <td>United States</td>\n",
       "      <td>33.678449</td>\n",
       "      <td>-116.237155</td>\n",
       "      <td></td>\n",
       "      <td>Empire Polo Club</td>\n",
       "      <td>Tame Impala</td>\n",
       "      <td>[indie rock, psychedelic pop, psychedelic rock...</td>\n",
       "      <td>95</td>\n",
       "      <td>Festival</td>\n",
       "      <td>True</td>\n",
       "    </tr>\n",
       "    <tr>\n",
       "      <th>2</th>\n",
       "      <td>2013-04-21</td>\n",
       "      <td></td>\n",
       "      <td>[Tame Impala, Vampire Weekend, Ladies Night, M...</td>\n",
       "      <td></td>\n",
       "      <td></td>\n",
       "      <td>Indio</td>\n",
       "      <td>CA</td>\n",
       "      <td>United States</td>\n",
       "      <td>33.720556</td>\n",
       "      <td>-116.214722</td>\n",
       "      <td></td>\n",
       "      <td>Empire Polo Field</td>\n",
       "      <td>Tame Impala</td>\n",
       "      <td>[indie rock, psychedelic pop, psychedelic rock...</td>\n",
       "      <td>42</td>\n",
       "      <td>Festival</td>\n",
       "      <td>True</td>\n",
       "    </tr>\n",
       "    <tr>\n",
       "      <th>3</th>\n",
       "      <td>2013-04-26</td>\n",
       "      <td></td>\n",
       "      <td>[Tame Impala, Midnight Juggernauts]</td>\n",
       "      <td></td>\n",
       "      <td></td>\n",
       "      <td>West Melbourne</td>\n",
       "      <td></td>\n",
       "      <td>Australia</td>\n",
       "      <td>-37.811260</td>\n",
       "      <td>144.946442</td>\n",
       "      <td></td>\n",
       "      <td>Festival Hall Melbourne</td>\n",
       "      <td>Tame Impala</td>\n",
       "      <td>[indie rock, psychedelic pop, psychedelic rock...</td>\n",
       "      <td>2</td>\n",
       "      <td>Concert</td>\n",
       "      <td>True</td>\n",
       "    </tr>\n",
       "    <tr>\n",
       "      <th>4</th>\n",
       "      <td>2013-05-02</td>\n",
       "      <td></td>\n",
       "      <td>[Tame Impala]</td>\n",
       "      <td></td>\n",
       "      <td></td>\n",
       "      <td>Sydney</td>\n",
       "      <td></td>\n",
       "      <td>Australia</td>\n",
       "      <td>-33.889832</td>\n",
       "      <td>151.223348</td>\n",
       "      <td></td>\n",
       "      <td>Hordern Pavilion</td>\n",
       "      <td>Tame Impala</td>\n",
       "      <td>[indie rock, psychedelic pop, psychedelic rock...</td>\n",
       "      <td>1</td>\n",
       "      <td>Concert</td>\n",
       "      <td>True</td>\n",
       "    </tr>\n",
       "  </tbody>\n",
       "</table>\n",
       "</div>"
      ],
      "text/plain": [
       "     datetime title                                             lineup  \\\n",
       "0  2013-04-14        [Tame Impala, The Airborne Toxic Event, Eric P...   \n",
       "1  2013-04-19        [Tame Impala, Mona, Alt-J, Social Distortion, ...   \n",
       "2  2013-04-21        [Tame Impala, Vampire Weekend, Ladies Night, M...   \n",
       "3  2013-04-26                      [Tame Impala, Midnight Juggernauts]   \n",
       "4  2013-05-02                                            [Tame Impala]   \n",
       "\n",
       "  festival_start_date festival_end_date            city region        country  \\\n",
       "0                                                 Indio     CA  United States   \n",
       "1                                                 Indio     CA  United States   \n",
       "2                                                 Indio     CA  United States   \n",
       "3                                        West Melbourne             Australia   \n",
       "4                                                Sydney             Australia   \n",
       "\n",
       "    latitude   longitude location                     name       artist  \\\n",
       "0  33.720556 -116.214722                 Empire Polo Field  Tame Impala   \n",
       "1  33.678449 -116.237155                  Empire Polo Club  Tame Impala   \n",
       "2  33.720556 -116.214722                 Empire Polo Field  Tame Impala   \n",
       "3 -37.811260  144.946442           Festival Hall Melbourne  Tame Impala   \n",
       "4 -33.889832  151.223348                  Hordern Pavilion  Tame Impala   \n",
       "\n",
       "                                    artist_topgenres  lineup_size  \\\n",
       "0  [indie rock, psychedelic pop, psychedelic rock...           38   \n",
       "1  [indie rock, psychedelic pop, psychedelic rock...           95   \n",
       "2  [indie rock, psychedelic pop, psychedelic rock...           42   \n",
       "3  [indie rock, psychedelic pop, psychedelic rock...            2   \n",
       "4  [indie rock, psychedelic pop, psychedelic rock...            1   \n",
       "\n",
       "  festival_flag  show_date  \n",
       "0      Festival       True  \n",
       "1      Festival       True  \n",
       "2      Festival       True  \n",
       "3       Concert       True  \n",
       "4       Concert       True  "
      ]
     },
     "execution_count": 11,
     "metadata": {},
     "output_type": "execute_result"
    }
   ],
   "source": [
    "test_df.head()"
   ]
  },
  {
   "cell_type": "code",
   "execution_count": 17,
   "id": "23f65ad9-4cd1-46c6-8bc5-70eaffc84039",
   "metadata": {},
   "outputs": [
    {
     "ename": "ValueError",
     "evalue": "either both or neither of x and y should be given",
     "output_type": "error",
     "traceback": [
      "\u001b[0;31m---------------------------------------------------------------------------\u001b[0m",
      "\u001b[0;31mValueError\u001b[0m                                Traceback (most recent call last)",
      "\u001b[0;32m/var/folders/gn/5sp8dyss1sg3ys8pj9042gkc0000gn/T/ipykernel_59064/3719695569.py\u001b[0m in \u001b[0;36m<module>\u001b[0;34m\u001b[0m\n\u001b[0;32m----> 1\u001b[0;31m \u001b[0mnp\u001b[0m\u001b[0;34m.\u001b[0m\u001b[0mwhere\u001b[0m\u001b[0;34m(\u001b[0m\u001b[0;34m'indie rock'\u001b[0m\u001b[0;34m,\u001b[0m \u001b[0mtest_df\u001b[0m\u001b[0;34m[\u001b[0m\u001b[0;34m'artist_topgenres'\u001b[0m\u001b[0;34m]\u001b[0m\u001b[0;34m)\u001b[0m\u001b[0;34m\u001b[0m\u001b[0;34m\u001b[0m\u001b[0m\n\u001b[0m",
      "\u001b[0;32m<__array_function__ internals>\u001b[0m in \u001b[0;36mwhere\u001b[0;34m(*args, **kwargs)\u001b[0m\n",
      "\u001b[0;31mValueError\u001b[0m: either both or neither of x and y should be given"
     ]
    }
   ],
   "source": [
    "np.where('indie rock', test_df['artist_topgenres'])"
   ]
  },
  {
   "cell_type": "code",
   "execution_count": null,
   "id": "75faa3a0-a5e3-4774-84cc-68f0b290df33",
   "metadata": {},
   "outputs": [],
   "source": [
    "genres = []\n",
    "\n",
    "for i in test_df['artist_topgenres']:\n",
    "    for z in i:\n",
    "        genres.append(z)\n",
    "        \n",
    "genres = list(set(genres))\n",
    "\n",
    "genres"
   ]
  },
  {
   "cell_type": "code",
   "execution_count": null,
   "id": "6fc3fb39-daf8-4751-93f2-ab22b4594163",
   "metadata": {},
   "outputs": [],
   "source": [
    "test_df['artist_topgenres'].str.contains('indie')"
   ]
  },
  {
   "cell_type": "code",
   "execution_count": null,
   "id": "c4f55fdf",
   "metadata": {
    "collapsed": false,
    "jupyter": {
     "outputs_hidden": false
    },
    "pycharm": {
     "name": "#%%\n"
    }
   },
   "outputs": [],
   "source": [
    "from bokeh.plotting import figure, output_file, show\n",
    "from bokeh.tile_providers import get_provider, OSM #CARTODBPOSITRON_RETINA, WIKIMEDIA, ESRI_IMAGERY, STAMEN_TONER,\n",
    "from bokeh.models import ColumnDataSource, CDSView, BooleanFilter, CustomJS\n",
    "from bokeh.layouts import layout, row\n",
    "from bokeh.models import DateRangeSlider, Dropdown, Div\n",
    "from pyproj import Transformer\n",
    "#import xyzservices.providers as xyz\n",
    "\n",
    "# data transformation\n",
    "in_crs = 4326   # coordinates provided in EPSG:4326 format\n",
    "out_crs = 3857   # coordinates output in EPSG 3857 (Web Mercator) format\n",
    "\n",
    "transformer = Transformer.from_crs(in_crs, out_crs, always_xy=True)\n",
    "\n",
    "lons, lats = [], []\n",
    "for lon, lat in list(zip(test_df['longitude'], test_df['latitude'])):\n",
    "    x, y = transformer.transform(lon,lat)\n",
    "    lons.append(x)\n",
    "    lats.append(y)\n",
    "\n",
    "test_df['MercatorX'] = lons\n",
    "test_df['MercatorY'] = lats\n",
    "\n",
    "\n",
    "\n",
    "# visualization\n",
    "output_file(\"tile.html\")\n",
    "\n",
    "tile_provider = get_provider(OSM)\n",
    "tools = ['pan', 'zoom_in', 'zoom_out', 'wheel_zoom', 'box_zoom', 'lasso_select', 'tap', 'hover', 'reset', 'save']\n",
    "\n",
    "tooltips = [\n",
    "    (\"Date\", '@datetime'),\n",
    "    ('Location: ', '@city, @region'),\n",
    "    ('Country: ', '@country'),\n",
    "    ('Event Type: ', '@festival_flag'),\n",
    "    ('Lineup: ', '@lineup'),\n",
    "]\n",
    "\n",
    "source = ColumnDataSource(test_df)\n",
    "source2 = ColumnDataSource(test_df)\n",
    "\n",
    "show_dat = source.data['show_date']\n",
    "\n",
    "view = CDSView(source=source, filters=[BooleanFilter(show_dat)])\n",
    "\n",
    "date_start = test_df['datetime'].min()\n",
    "date_end = test_df['datetime'].max()\n",
    "\n",
    "# range bounds supplied in web mercator coordinates\n",
    "p = figure(x_range=(-18000000, 20000000), y_range=(-7500000, 11500000),\n",
    "           #x_axis_type='mercator', y_axis_type='mercator',\n",
    "           height=700, width=1500,\n",
    "           tools=tools, tooltips=tooltips, active_scroll='wheel_zoom')\n",
    "p.add_tile(tile_provider)\n",
    "p.circle(x='MercatorX', y='MercatorY', size=6, fill_color='dodgerblue', line_color='dodgerblue', fill_alpha=.3, source=source, view=view)\n",
    "p.axis.visible = False\n",
    "\n",
    "artist_menu = [artist]\n",
    "\n",
    "#artist_callback = CustomJS(args=dict(source=source, data_source=test_df), code=\"\"\"\n",
    "#    var data = data_source.data;\n",
    "#    var source_data = source.data;\n",
    "#    var artist = cb_obj.value;\n",
    "#//    var selected_species = cb_obj.value;\n",
    "#//    var length_data = data['length'];\n",
    "#//    var weight_data = data['weight'];\n",
    "#//    var length = source_data['length'];\n",
    "#//    length.length = 0;\n",
    "#//    var weight = source_data['weight'];\n",
    "#//    weight.length = 0;\n",
    "#    for (var i = 0; i < data.artist; i++) {\n",
    "#      if (selected_species.indexOf(common_name[i]) >= 0) {\n",
    "#       length.push(length_data[i]);\n",
    "#       weight.push(weight_data[i]);\n",
    "#    }\n",
    "#  }\n",
    "#  source.change.emit();\n",
    "#\"\"\")\n",
    "    \n",
    "date_slider = DateRangeSlider(\n",
    "    title=\" Adjust Date range\",\n",
    "    start=min(test_df['datetime']),\n",
    "    end=max(test_df['datetime']),\n",
    "    step=100,\n",
    "    value=(\n",
    "        min(test_df['datetime']), max(test_df['datetime'])\n",
    "    )\n",
    ")\n",
    "\n",
    "def update_slider(source=source, slider=date_slider, window=None):\n",
    "    data=source.data\n",
    "    v_start = cb_obj.get('value')[0]\n",
    "    v_end = cb_obj.get('value')[1]\n",
    "    mask = np.logical_and(data['datetime'] > v_start, data['datetime'] < v_end)\n",
    "    source.data['show_date'] = mask\n",
    "    source.trigger('change')\n",
    "    \n",
    "#date_slider.on_change('value', update_slider)\n",
    "\n",
    "\n",
    "artist_dropdown = Dropdown(label=\"Artist\", button_type=\"warning\", menu=artist_menu)\n",
    "artist_dropdown.js_on_event(\"menu_item_click\", CustomJS(code=\"\"\"\n",
    "                                                 \n",
    "var data = test_df;\n",
    "var source_data = source;\n",
    "var artist = cb_obj.value;\n",
    "for (i = 0; i < artist.length; i++) {\n",
    "\n",
    "source.change.emit()\n",
    "                                                 \"\"\"\n",
    "                                                ))\n",
    "\n",
    "country_menu = list(set(test_df['country']))\n",
    "country_dropdown = Dropdown(label=\"Country\", button_type=\"warning\", menu=country_menu)\n",
    "\n",
    "city_menu = list(set(test_df['city']))\n",
    "city_dropdown = Dropdown(label=\"City\", button_type=\"warning\", menu=city_menu)\n",
    "\n",
    "genres = []\n",
    "\n",
    "for i in test_df['artist_topgenres']:\n",
    "    for z in i:\n",
    "        genres.append(z)\n",
    "        \n",
    "genres = list(set(genres))\n",
    "\n",
    "genre_menu = genres\n",
    "genre_dropdown = Dropdown(label=\"Genre\", button_type=\"warning\", menu=genre_menu)\n",
    "\n",
    "text_header = Div(text='<H1>Live Music Across Time<H1>', width=300, height=60)\n",
    "\n",
    "# callback = CustomJS(args=dict(source=source, ref_source=source2), code=\"\"\"\n",
    "#     // print out array of date from, date to\n",
    "#     console.log(cb_obj.value);\n",
    "#\n",
    "#     // dates returned from slider are not at round intervals and include time;\n",
    "#     const date_from = Date.parse(new Date(cb_obj.value[0]).toDateString());\n",
    "#     const date_to = Date.parse(new Date(cb_obj.value[1]).toDateString());\n",
    "#     console.log(date_from, date_to)\n",
    "#\n",
    "#     // Creating the Data Sources\n",
    "#     const data = source.data;\n",
    "#     const ref = ref_source.data;\n",
    "#\n",
    "#     // Creating new Array and appending correctly parsed dates\n",
    "#     let new_ref = []\n",
    "#     ref[\"DateTime\"].forEach(elem => {\n",
    "#         elem = Date.parse(new Date(elem).toDateString());\n",
    "#         new_ref.push(elem);\n",
    "#         console.log(elem);\n",
    "#     })\n",
    "#\n",
    "#     // Creating Indices with new Array\n",
    "#     const from_pos = new_ref.indexOf(date_from);\n",
    "#     const to_pos = new_ref.indexOf(date_to);\n",
    "#\n",
    "#\n",
    "#     // re-create the source data from \"reference\"\n",
    "#     data[\"datetime\"] = ref[\"datetime\"].slice(from_pos, to_pos);\n",
    "#     source.change.emit();\n",
    "#     \"\"\")\n",
    "#\n",
    "# date_slider = DateRangeSlider(\n",
    "#     title=\" Adjust Date range\",\n",
    "#     start=min(test_df['datetime']),\n",
    "#     end=max(test_df['datetime']),\n",
    "#     step=100,\n",
    "#     value=(\n",
    "#         min(test_df['datetime']), max(test_df['datetime'])\n",
    "#     )\n",
    "# )\n",
    "\n",
    "#date_slider.js_link(\"value\", p.x_range, \"start\", attr_selector=0)\n",
    "#date_slider.js_link(\"value\", p.x_range, \"end\", attr_selector=1)\n",
    "\n",
    "#date_slider.js_on_change('value', callback)\n",
    "\n",
    "# def update_plot(attr, old, new):\n",
    "#      datesel = datetime.fromtimestamp(new / 1000).strftime('%Y-%m-%d')\n",
    "#      new_data = test_df[test_df['date'] == datesel]\n",
    "#      source.data.update(ColumnDataSource(new_data).data)\n",
    "# date_slider.js_on_change('value', update_plot)\n",
    "\n",
    "#https://data-dive.com/cologne-bike-rentals-interactive-map-bokeh-dynamic-choropleth\n",
    "#https://stackoverflow.com/questions/55742220/converting-python-callback-function-to-javascript\n",
    "\n",
    "# def update(source=source, slider=date_slider, window=None):\n",
    "#     data=source.data\n",
    "#     v_start = cb_obj.get('value')[0]\n",
    "#     v_end = cb_obj.get('value')[1]\n",
    "#     mask = np.logical_and(data['datetime'] > v_start, data['datetime'] < v_end)\n",
    "#     source.data['show_date'] = mask\n",
    "#     source.trigger('change')\n",
    "\n",
    "#date_slider.js_on_change('value', CustomJS.from_py_func(update))\n",
    "\n",
    "layout = layout([text_header],[[genre_dropdown], [artist_dropdown], [country_dropdown], [city_dropdown]], [date_slider],[p])\n",
    "show(layout)"
   ]
  },
  {
   "cell_type": "markdown",
   "id": "6f820222",
   "metadata": {
    "pycharm": {
     "name": "#%% md\n"
    }
   },
   "source": [
    "## Messy Workspace -- May not Run"
   ]
  },
  {
   "cell_type": "code",
   "execution_count": null,
   "id": "5c28241c",
   "metadata": {
    "collapsed": false,
    "jupyter": {
     "outputs_hidden": false
    },
    "pycharm": {
     "name": "#%%\n"
    }
   },
   "outputs": [],
   "source": [
    "source.data"
   ]
  },
  {
   "cell_type": "code",
   "execution_count": null,
   "id": "1f31de2a",
   "metadata": {
    "collapsed": false,
    "jupyter": {
     "outputs_hidden": false
    },
    "pycharm": {
     "name": "#%%\n"
    }
   },
   "outputs": [],
   "source": [
    "source = {'data': {'index': [ 0,  1,  2,  3,  4,  5,  6,  7,  8,  9, 10, 11, 12, 13, 14, 15, 18,\n",
    "        20, 21, 22, 23, 24, 25, 26, 27, 28, 29, 30, 31, 32, 33, 34, 35, 36,\n",
    "        37, 38, 39, 40, 41, 42, 44, 45, 46, 47, 48, 49, 50, 51, 52, 53, 54,\n",
    "        55, 56, 57, 58, 59, 60, 61, 62, 63, 64, 65, 66, 67, 68],\n",
    " 'datetime': ['2016-12-03', '2017-01-20', '2017-04-22', '2017-04-23',\n",
    "        '2017-07-22', '2017-08-20', '2017-09-15', '2017-12-29',\n",
    "        '2018-03-16', '2018-04-22', '2018-06-01', '2018-06-02',\n",
    "        '2018-06-03', '2018-06-10', '2018-06-29', '2018-07-21',\n",
    "        '2018-09-09', '2018-09-29', '2018-10-05', '2018-10-26',\n",
    "        '2018-10-27', '2018-11-02', '2018-11-10', '2018-11-17',\n",
    "        '2018-12-29', '2018-12-31', '2019-03-01', '2019-05-04',\n",
    "        '2019-05-10', '2019-05-11', '2019-05-18', '2019-05-19',\n",
    "        '2019-06-07', '2019-06-08', '2019-06-23', '2019-07-18',\n",
    "        '2019-07-19', '2019-07-20', '2019-07-21', '2019-08-01',\n",
    "        '2019-09-20', '2019-09-23', '2019-10-11', '2020-03-06',\n",
    "        '2020-07-17', '2020-10-08', '2021-05-19', '2021-06-18',\n",
    "        '2021-07-10', '2021-07-16', '2021-07-22', '2021-07-29',\n",
    "        '2021-07-30', '2021-08-06', '2021-08-12', '2021-08-13',\n",
    "        '2021-08-14', '2021-08-27', '2021-09-10', '2021-10-02',\n",
    "        '2021-10-07', '2021-10-08', '2021-10-15', '2021-10-16',\n",
    "        '2021-11-27'],\n",
    " 'title': ['', '', '', '', '', '', '', '', '', '', '', '', '', '', '', '', '',\n",
    "        '', '', '', '', '', '', '', '', '', '', '', '', '', '', '', '', '',\n",
    "        '', '', '', '', '', '', '', '', '', '', '', '', '', '', '', '', '',\n",
    "        '', '', '', '', '', '', '', '', '', '', '', '', '', ''],\n",
    "\n",
    " 'lineup': [list(['Kerala Dust', 'Sentiment', 'Dwig', 'Kleintierschaukel', 'SNUR', 'Luke Redford']),\n",
    "        list(['Kerala Dust', 'Harri', 'Kiosk', 'Constantijn Lange', 'Hobta', 'Jascha Hagen', 'Jonathan Lükermann', 'Chris Schwarzwälder']),\n",
    "        list(['Kerala Dust', 'Monolink', 'Jacob Groening', 'Just Emma']),\n",
    "        list(['Kerala Dust', 'Florian Rietze', 'Kiosk', 'Luca Musto', 'Viken Arman', 'YokoO', 'Stavroz', 'Coss', 'Genji Yoshida', 'Jacob Groening']),\n",
    "        list(['Kerala Dust', 'Polo', 'Sainte Vie', 'Hyenah', 'Pan', 'Juan', 'Remcord', 'David Mears', 'Manumat', 'Raz Ohara', 'Sweet Melodic', 'Mark Höffen', 'Tomanka']),\n",
    "        list(['Kerala Dust', 'Crussen', 'Armen Miran', 'Rampue', 'WooMoon', 'SPANIOL', 'Rico loop', 'Luca Musto']),\n",
    "        list(['Kerala Dust']),\n",
    "        list(['Kerala Dust', 'Marana', 'Javid', 'Elliver', 'Zigan Aldi', 'Karotte', 'Just Emma', 'The Sorry Entertainers', 'Moji ', 'Pauli Pocket', 'Oberst & Buchner', 'Britta Arnold', 'oberst']),\n",
    "        list(['Kerala Dust', 'Betelgeize', 'Geju']),\n",
    "        list(['Kerala Dust', 'More', 'Satori', 'Mira', 'Marty', 'Tickets', 'Francisco', 'Rega', 'Atish', 'Nico Stojan', 'Be Svendsen', 'Stavroz', 'Anthony Cardinale', 'Goga', 'Crussen', 'Ninze', 'Feathered Sun', 'Viken Arman', 'Oceanvs Orientalis', 'Sainte Vie', 'SPANIOL', 'David Paglia']),\n",
    "        list(['Kerala Dust', 'wAFF']),\n",
    "        list(['Kerala Dust', 'Stavroz', 'Goldcap', 'Viken Arman', 'Oceanvs Orientalis', 'Saand']),\n",
    "        list(['Kerala Dust', 'Mira', 'Ramona Wouters']),\n",
    "        list(['Kerala Dust', 'Crussen']),\n",
    "        list(['Kerala Dust', 'Davi', 'Hraach', 'Sainte Vie', 'Timujin']),\n",
    "        list(['Kerala Dust', 'Mutlu', 'Satori', 'Mira', 'Fame', 'Bernstein', 'Unders', 'Lovecraft', 'Bo', 'Peter Schumann', 'Sven Dohse', 'Britta Arnold', 'Be Svendsen', 'Jonathan Kaspar', 'Pauli Pocket', 'Daniel Cowel', 'mimi love', 'Caleesi', 'Timujin', 'Billy Caso', 'Sarah Kreis', 'Geju', 'borzu']),\n",
    "        list(['Kerala Dust', 'Niko Schwind', 'Martha van Straaten', 'Sam Shure', 'Xique-Xique']),\n",
    "        list(['Kerala Dust', 'Tristen', 'More Tba', 'Rampue', 'Ninze', 'Dwig', 'Die Wilde Jagd', 'Bad Stream']),\n",
    "        list(['Kerala Dust']),\n",
    "        list(['Kerala Dust', 'LCD Soundsystem', 'Yelle', 'Loco Dice', 'Apollonia', 'Shonky', 'Paco Osuna', 'Dan Ghenacia', 'Dyed Soundorom', 'Bakke', 'Ish', 'BLOND:ISH', 'Fat Nick', 'Peggy Gou']),\n",
    "        list(['Kerala Dust', 'TrueVine']), list(['Kerala Dust']),\n",
    "        list(['Kerala Dust', 'Roderic']),\n",
    "        list(['Kerala Dust', 'Matanza', 'Isaac Soto']),\n",
    "        list(['Kerala Dust', 'Pachanga Boys', 'Rodriguez Jr.', 'Axel Boman', 'Sandrino', 'Frankey', 'Concret']),\n",
    "        list(['Kerala Dust', 'Robosonic']),\n",
    "        list(['Kerala Dust', 'Zigan Aldi']),\n",
    "        list(['Kerala Dust', 'Serge Devant', 'HUG', 'O', 'David Delgado', 'Shaun Reeves', 'DoubtingThomas', 'Peter Schumann', 'El Mundo', 'Detmolt', 'Just Emma', 'jPattersson', 'Love Over Entropy', 'UNDERHER', 'Niki Sadeki']),\n",
    "        list(['Kerala Dust', 'Nico Stojan']),\n",
    "        list(['Kerala Dust', 'Carlita', 'Red Axes', 'KMLN', 'Armen Miran', 'Gabriel Belmudes']),\n",
    "        list(['Kerala Dust', 'Ramona Wouters']),\n",
    "        list(['Kerala Dust', 'Lemurian', 'Lola Villa']),\n",
    "        list(['Kerala Dust', 'Gorje Hewek', 'Izhevski', 'Secret Guest', 'Meandisco', 'KMLN', 'Veronika Fleyta', 'Geju', 'Sam Shure', 'Amonita']),\n",
    "        list(['Kerala Dust', 'Stavroz', 'Crussen', 'PERSIAN EMPIRE']),\n",
    "        list(['Kerala Dust', 'Serge Devant', 'Behrouz', 'Squire', 'Uone', 'Baiuca']),\n",
    "        list(['Kerala Dust', 'Luciano', 'Very', 'Damian Lazarus', 'Rampue', 'Valentin Huedo', 'LUM', 'Black Motion', 'Jan Blomqvist', 'Huaira', 'Monolink', 'Sainte Vie']),\n",
    "        list(['Kerala Dust', 'Robag Wruhme', 'MR', 'Kermesse', 'Ish', 'Lazare Hoche', 'Fatoumata', 'ALBA MUSIC', 'Hraach', 'Martha van Straaten', 'cantanca']),\n",
    "        list(['Kerala Dust', 'Shimon', 'Kerri Chandler', 'Prins Thomas', 'Muallem', 'Recondite', 'Rampue', 'Stimming', 'Kiasmos', 'Christian Löffler', 'Seth Schwarz', 'Jan Blomqvist', 'Be Svendsen', 'Red Axes', 'Ben Rau', 'Konstantin Sibold', 'Parra for Cuva', 'Oceanvs Orientalis', 'Nicola Noir', 'Hraach', 'Emmanuel Russ', 'Fléoz', 'Paul Cut', 'Yarosslav', 'Tomanka']),\n",
    "        list(['Kerala Dust', 'Shimon', 'Kerri Chandler', 'Rampue', 'Stimming', 'Christian Löffler', 'Seth Schwarz', 'Red Axes', 'Ben Rau', 'Nicola Noir', 'Paul Cut', 'Tomanka']),\n",
    "        list(['Kerala Dust']), list(['Kerala Dust']),\n",
    "        list(['Kerala Dust']),\n",
    "        list(['Kerala Dust', 'Behrouz', 'Chaim', 'Oxia', 'Sabo', 'Raresh', 'Alex Niggemann', 'maher daniel', 'Nicolas Masseyeff', 'Bradley Zero', 'Praslea', 'Amine K', 'Zakaria', 'Konstantin Sibold', 'Two Faced', 'Marwan Sabb', 'Noritsu']),\n",
    "        list(['Kerala Dust', 'Matija']),\n",
    "        list(['Kerala Dust', 'Ruthless', 'Angerfist', 'Neophyte', 'DJ Coone', 'Jennifer Cardini', 'Mira', 'TNT', 'Âme', 'Poogie Bear', 'Shimon', 'Darren Styles', 'DJ Mad Dog', 'Tha Playah', 'Art of Fighters', 'The Viper', 'Dominik Eulberg', 'Evil Activities', 'Noize Suppressor', 'Endymion', 'The Prophet', 'Prins Thomas', 'Todd Terje', 'Headhunterz', 'Zatox', 'D-Block & S-Te-Fan', 'Korsakoff', 'Solstice', 'Partyraiser', 'N-Vitral', 'Very', 'Damian Lazarus', 'Batiste', 'Mystery', 'Resident DJ', 'Bass Modulators', 'AniMe', 'Noisecontrollers', 'Wildstylez', 'Da Tweekaz', 'Crypsis', 'Malaika', 'Dr. Evil', 'Dr. Rude', 'Dirty Bastards', 'Loc', 'BASSDRUM PROJECT', 'Broken Minds', 'Javi Boss', 'Frequencerz', 'Mano Le Tough', 'Act of rage', 'Demoniak', 'Javi Aznar', 'DJ Thomas', 'Warface', 'Vicente One More Time', 'Atmozfears', 'Dj Juanma', '&Me', 'Stavros', 'Dr. Phunk', 'Rico loop', 'Wakan', 'Wasted Penguinz', 'Dj DaY-mar', 'Jimi Jules', 'Chris Schwarzwälder', 'Radical Redemption', 'Stavroz', 'Destructive Tendencies', 'Abel K Kaña', 'Pastis & Buenri', 'Powel ', 'Javi Molina', 'Arzadous', 'Konstantin Sibold', 'Weval', 'Sub Zero Project', 'Quatri', 'Mira & Chris Schwarzwälder', 'M.RUX', 'Emmanuel Russ', 'Monolink', 'DIMA', 'HollSön', 'Lady Dammage', 'Tryangle Man', 'Billy Caso', 'Yarosslav', 'Deadly Guns', 'Greazy Puzzy Fuckerz', 'MC Tha Watcher', 'An Eagle In Your Mind']),\n",
    "        list(['Kerala Dust']), list(['Kerala Dust']),\n",
    "        list(['Kerala Dust']), list(['Kerala Dust']),\n",
    "        list(['Kerala Dust', 'Jennifer Cardini', 'Jimi Jules', 'Konstantin Sibold', 'Christopher Schwarzwälder', 'Viken Arman', 'Satori Musica']),\n",
    "        list(['Kerala Dust']), list(['Kerala Dust']),\n",
    "        list(['Kerala Dust']), list(['Kerala Dust']),\n",
    "        list(['Kerala Dust']), list(['Kerala Dust']),\n",
    "        list(['Kerala Dust']), list(['Kerala Dust']),\n",
    "        list(['Kerala Dust']), list(['Kerala Dust']),\n",
    "        list(['Kerala Dust']), list(['Kerala Dust']),\n",
    "        list(['Kerala Dust']), list(['Kerala Dust']),\n",
    "        list(['Kerala Dust', 'Stavroz', 'Eagles & Butterflies', 'Perel'])],\n",
    "\n",
    " 'festival_start_date': ['', '', '', '', '', '', '', '', '', '', '', '', '', '', '', '', '',\n",
    "        '', '', '', '', '', '', '', '', '', '', '', '', '', '', '', '', '',\n",
    "        '', '', '', '', '', '', '', '', '', '', '', '', '', '', '', '', '',\n",
    "        '', '', '', '', '', '', '', '', '', '', '', '', '', ''],\n",
    "\n",
    " 'festival_end_date': ['', '', '', '', '', '', '', '', '', '', '', '', '', '', '', '', '',\n",
    "        '', '', '', '', '', '', '', '', '', '', '', '', '', '', '', '', '',\n",
    "        '', '', '', '', '', '', '', '', '', '', '', '', '', '', '', '', '',\n",
    "        '', '', '', '', '', '', '', '', '', '', '', '', '', ''],\n",
    "\n",
    " 'city': ['Zurich', 'Berlin', 'Hamburg', 'Berlin', 'Paris', 'Ibiza', 'Miami',\n",
    "        'Berlin', 'Moscow', 'Paris', 'Miami', 'Los Angeles', 'Denver',\n",
    "        'San Francisco', 'Ibiza', 'Berlin', 'Berlin-Altglienicke',\n",
    "        'Berlin', 'Munich', 'Miami', 'Miami', 'Montreal', 'Center',\n",
    "        'Center', 'Quintana Roo', 'Quintana Roo', 'Berlin', 'Berlin',\n",
    "        'San Francisco', 'Queens Village', 'Denver', 'Washington',\n",
    "        'Moscow', 'London', 'Ibiza', 'Barcelona', 'Mugla',\n",
    "        'VITRY SUR SEINE', 'VITRY SUR SEINE', 'Diepholz', 'Miami',\n",
    "        'Los Angeles', 'Essaouira', 'Baden', 'Paris', 'Cologne', 'Hamburg',\n",
    "        'Kyiv', 'Haale', 'Vitry-sur-Seine', 'Çeşme', 'Berlin', 'Berlin',\n",
    "        'Mykonos', 'Chorzów', 'Kolkwitz', 'Zürich', 'Lärz',\n",
    "        'Offenbach am Main', 'İstanbul', 'Basel', 'Zurich', 'Prague',\n",
    "        'Amsterdam', 'London'],\n",
    " 'region': ['', '', '', '', '', '', 'FL', '', '', '', 'FL', 'California', '',\n",
    "        'CA', '', '', '', '', '', 'FL', 'FL', 'QC', '', '', '', '', '', '',\n",
    "        'CA', 'New York', 'CO', 'DC', '', '', '', '', '', '', '', '', 'FL',\n",
    "        'CA', '', '', '', '', '', '', '', '', '', '', '', '', '', '', '',\n",
    "        '', '', '', '', '', '', '', ''],\n",
    " 'country': ['Switzerland', 'Germany', 'Germany', 'Germany', 'France', 'Spain',\n",
    "        'United States', 'Germany', 'Russia', 'France', 'United States',\n",
    "        'United States', 'United States', 'United States', 'Spain',\n",
    "        'Germany', 'Germany', 'Germany', 'Germany', 'United States',\n",
    "        'United States', 'Canada', 'Mexico', 'Mexico', 'Mexico', 'Mexico',\n",
    "        'Germany', 'Germany', 'United States', 'United States',\n",
    "        'United States', 'United States', 'Russian Federation',\n",
    "        'United Kingdom', 'Spain', 'Spain', 'Turkey', 'France', 'France',\n",
    "        'Germany', 'United States', 'United States', 'Morocco',\n",
    "        'Switzerland', 'France', 'Germany', 'Germany', 'Ukraine',\n",
    "        'Germany', 'France', 'Turkey', 'Germany', 'Germany', 'Greece',\n",
    "        'Poland', 'Germany', 'Switzerland', 'Germany', 'Germany', 'Turkey',\n",
    "        'Switzerland', 'Switzerland', 'Czech Republic', 'Netherlands',\n",
    "        'United Kingdom'],\n",
    " 'latitude': [47.38151  , 52.511612 , 53.551802 , 52.511612 , 48.8741   ,\n",
    "        38.894431 , 25.784476 , 52.511612 , 55.75533  , 48.86405  ,\n",
    "        25.7844757, 34.0522222, 40.8661111, 37.749454 , 38.8841997,\n",
    "        52.511612 , 52.4166667, 52.502522 , 48.15     , 25.7844757,\n",
    "        25.7844757, 45.532771 , 23.9090939, 23.9090939, 20.8666667,\n",
    "        20.8666667, 52.51744  , 52.511612 , 37.7688759, 40.7266667,\n",
    "        39.7646511, 38.916281 , 55.7522222, 51.52374  , 38.90625  ,\n",
    "        41.3688085, 37.2163889, 48.7890892, 48.7890892, 52.6      ,\n",
    "        25.784673 , 34.0905773, 31.4696583, 47.4781575, 48.85341  ,\n",
    "        50.951817 , 53.5564221, 50.4590832, 54.18333  , 48.78716  ,\n",
    "        38.2329489, 52.52437  , 52.52437  , 37.44529  , 49.90304  ,\n",
    "        51.75     , 47.343558 , 53.3051075, 50.1055151, 41.0660865,\n",
    "        47.577376 , 47.3882217, 50.108181 , 52.3867989, 51.51962  ],\n",
    " 'longitude': [ 8.53688000e+00,  1.34268700e+01,  9.95820900e+00,  1.34268700e+01,\n",
    "         2.26298000e+00,  1.33146700e+00, -8.01931360e+01,  1.34268700e+01,\n",
    "         3.76098100e+01,  2.33105000e+00, -8.01931356e+01, -1.18242778e+02,\n",
    "        -8.60775000e+01, -1.22386009e+02,  1.40489600e+00,  1.34268700e+01,\n",
    "         1.35500000e+01,  1.34659300e+01,  1.15833333e+01, -8.01931356e+01,\n",
    "        -8.01931356e+01, -7.36202940e+01, -1.02633400e+02, -1.02633400e+02,\n",
    "        -8.86333333e+01, -8.86333333e+01,  1.34189900e+01,  1.34268700e+01,\n",
    "        -1.22419427e+02, -7.37419444e+01, -1.04979783e+02, -7.70213690e+01,\n",
    "         3.76155556e+01, -7.88390000e-02,  1.41953000e+00,  2.14827320e+00,\n",
    "         2.83638889e+01,  2.38828990e+00,  2.38828990e+00,  8.36666670e+00,\n",
    "        -8.01932020e+01, -1.18312565e+02, -9.76738950e+00,  8.30865560e+00,\n",
    "         2.34880000e+00,  6.91709700e+00,  9.96997760e+00,  3.06378697e+01,\n",
    "         9.55000000e+00,  2.40332000e+00,  2.63675087e+01,  1.34105300e+01,\n",
    "         1.34105300e+01,  2.53287200e+01,  2.25633400e+01,  1.42500000e+01,\n",
    "         8.53582910e+00,  1.27514235e+01,  8.73469550e+00,  2.90174246e+01,\n",
    "         7.58632300e+00,  8.51947020e+00,  1.44431801e+01,  4.86998990e+00,\n",
    "        -1.02412000e-01],\n",
    " 'location': ['', '', '', '', '', '', '', '', '', '', '', '', '', '', '', '', '',\n",
    "        '', '', '', '', '', '', '', '', '', '', '', '', '', '', '', '', '',\n",
    "        '', '', '', '', '', '', '', '', '', '', '', '', '', '', '', '', '',\n",
    "        '', '', '', '', '', '', '', '', '', '', '', '', '', ''],\n",
    " 'name': ['Kauz', 'Kater Blau', 'Gruenspan', 'Kater Blau',\n",
    "        'Les Pavillons des Etangs', 'Cova Santa', 'FLOYD', 'Kater Blau',\n",
    "        'Leveldva', 'TBA', 'Club Space', 'TBA', 'TBA', 'The Midway',\n",
    "        'Ushuaïa Ibiza Beach Hotel', 'Kater Blau', 'Sage Beach Berlin',\n",
    "        '://about blank', 'The Drunken Monkey', 'Club Space',\n",
    "        'Floyd Miami', 'Bar Le Ritz PDB', 'Proyecto Pblico Prim',\n",
    "        'Sirilo Instabar', 'AAK AL Sacbe Lagoon', 'Gitano Tulum',\n",
    "        'Beate Uwe', 'Kater Blau', 'Public Works', 'Knockdown Center',\n",
    "        'Walnut Room', 'Flash', 'Community Moscow', 'Village Underground',\n",
    "        'Cova Santa', 'Poble Espanyol', 'Xuma Yalikavak', 'Le Kilowatt',\n",
    "        'Le Kilowatt', 'Bürgerpark (appletree garden)', 'The Ground - FL',\n",
    "        'Gold Diggers', 'Hotel Sofitel Essaouira Mogador Golf & Spa',\n",
    "        'Royal', 'Le Kilowatt', 'Club Bahnhof Ehrenfeld',\n",
    "        'Uebel & Gefährlich', 'Kerala Dust @ White Night Festival',\n",
    "        'Utopia Festival 2021', 'RITUEL',\n",
    "        'Kerala Dust live at Sommer Klein',\n",
    "        'Kerala Dust - live in concert', 'Kerala Dust Live in Concert',\n",
    "        'Kerala Dust live @ Scorpios Mykonos', 'Fest Festival 2021',\n",
    "        'Akasha Festival 2021', 'Lethargy Zurich 2021',\n",
    "        'Kerala Dust live at Plan:et C', 'Kerala Dust Live at Sommerbnau',\n",
    "        'Kerala Dust at Sonar Istanbul', 'Kerala Dust at Gannet',\n",
    "        'Kerala Dust at Exil', 'Kerala Dust live in Prague',\n",
    "        'The Gardens of Babylon @ ADE 2021', 'Fabric'],\n",
    " 'artist': ['Kerala Dust', 'Kerala Dust', 'Kerala Dust', 'Kerala Dust',\n",
    "        'Kerala Dust', 'Kerala Dust', 'Kerala Dust', 'Kerala Dust',\n",
    "        'Kerala Dust', 'Kerala Dust', 'Kerala Dust', 'Kerala Dust',\n",
    "        'Kerala Dust', 'Kerala Dust', 'Kerala Dust', 'Kerala Dust',\n",
    "        'Kerala Dust', 'Kerala Dust', 'Kerala Dust', 'Kerala Dust',\n",
    "        'Kerala Dust', 'Kerala Dust', 'Kerala Dust', 'Kerala Dust',\n",
    "        'Kerala Dust', 'Kerala Dust', 'Kerala Dust', 'Kerala Dust',\n",
    "        'Kerala Dust', 'Kerala Dust', 'Kerala Dust', 'Kerala Dust',\n",
    "        'Kerala Dust', 'Kerala Dust', 'Kerala Dust', 'Kerala Dust',\n",
    "        'Kerala Dust', 'Kerala Dust', 'Kerala Dust', 'Kerala Dust',\n",
    "        'Kerala Dust', 'Kerala Dust', 'Kerala Dust', 'Kerala Dust',\n",
    "        'Kerala Dust', 'Kerala Dust', 'Kerala Dust', 'Kerala Dust',\n",
    "        'Kerala Dust', 'Kerala Dust', 'Kerala Dust', 'Kerala Dust',\n",
    "        'Kerala Dust', 'Kerala Dust', 'Kerala Dust', 'Kerala Dust',\n",
    "        'Kerala Dust', 'Kerala Dust', 'Kerala Dust', 'Kerala Dust',\n",
    "        'Kerala Dust', 'Kerala Dust', 'Kerala Dust', 'Kerala Dust',\n",
    "        'Kerala Dust'],\n",
    " 'artist_topgenres': [list(['house']), list(['house']), list(['house']), list(['house']),\n",
    "        list(['house']), list(['house']), list(['house']), list(['house']),\n",
    "        list(['house']), list(['house']), list(['house']), list(['house']),\n",
    "        list(['house']), list(['house']), list(['house']), list(['house']),\n",
    "        list(['house']), list(['house']), list(['house']), list(['house']),\n",
    "        list(['house']), list(['house']), list(['house']), list(['house']),\n",
    "        list(['house']), list(['house']), list(['house']), list(['house']),\n",
    "        list(['house']), list(['house']), list(['house']), list(['house']),\n",
    "        list(['house']), list(['house']), list(['house']), list(['house']),\n",
    "        list(['house']), list(['house']), list(['house']), list(['house']),\n",
    "        list(['house']), list(['house']), list(['house']), list(['house']),\n",
    "        list(['house']), list(['house']), list(['house']), list(['house']),\n",
    "        list(['house']), list(['house']), list(['house']), list(['house']),\n",
    "        list(['house']), list(['house']), list(['house']), list(['house']),\n",
    "        list(['house']), list(['house']), list(['house']), list(['house']),\n",
    "        list(['house']), list(['house']), list(['house']), list(['house']),\n",
    "        list(['house'])],\n",
    " 'lineup_size': [ 6,  8,  4, 10, 13,  8,  1, 13,  3, 22,  2,  6,  3,  2,  5, 23,  5,\n",
    "         8,  1, 14,  2,  1,  2,  3,  7,  2,  2, 15,  2,  6,  2,  3, 10,  4,\n",
    "         6, 12, 11, 25, 12,  1,  1,  1, 17,  2, 94,  1,  1,  1,  1,  7,  1,\n",
    "         1,  1,  1,  1,  1,  1,  1,  1,  1,  1,  1,  1,  1,  4],\n",
    " 'festival_flag':['Festival', 'Festival', 'Concert', 'Festival', 'Festival',\n",
    "        'Festival', 'Concert', 'Festival', 'Concert', 'Festival',\n",
    "        'Concert', 'Festival', 'Concert', 'Concert', 'Concert', 'Festival',\n",
    "        'Concert', 'Festival', 'Concert', 'Festival', 'Concert', 'Concert',\n",
    "        'Concert', 'Concert', 'Festival', 'Concert', 'Concert', 'Festival',\n",
    "        'Concert', 'Festival', 'Concert', 'Concert', 'Festival', 'Concert',\n",
    "        'Festival', 'Festival', 'Festival', 'Festival', 'Festival',\n",
    "        'Concert', 'Concert', 'Concert', 'Festival', 'Concert', 'Festival',\n",
    "        'Concert', 'Concert', 'Concert', 'Concert', 'Festival', 'Concert',\n",
    "        'Concert', 'Concert', 'Concert', 'Concert', 'Concert', 'Concert',\n",
    "        'Concert', 'Concert', 'Concert', 'Concert', 'Concert', 'Concert',\n",
    "        'Concert', 'Concert'],\n",
    " 'MercatorX': [ 9.50321135e+05,  1.49467233e+06,  1.10854276e+06,  1.49467233e+06,\n",
    "         2.51913781e+05,  1.48218228e+05, -8.92705906e+06,  1.49467233e+06,\n",
    "         4.18670490e+06,  2.59491299e+05, -8.92705902e+06, -1.31627258e+07,\n",
    "        -9.58210347e+06, -1.36239482e+07,  1.56392307e+05,  1.49467233e+06,\n",
    "         1.50837910e+06,  1.49902047e+06,  1.28945076e+06, -8.92705902e+06,\n",
    "        -8.92705902e+06, -8.19537364e+06, -1.14250978e+07, -1.14250978e+07,\n",
    "        -9.86661753e+06, -9.86661753e+06,  1.49379513e+06,  1.49467233e+06,\n",
    "        -1.36276683e+07, -8.20891570e+06, -1.16862960e+07, -8.57397958e+06,\n",
    "         4.18734450e+06, -8.77631733e+03,  1.58021357e+05,  2.39144679e+05,\n",
    "         3.15745367e+06,  2.65863216e+05,  2.65863216e+05,  9.31373077e+05,\n",
    "        -8.92706641e+06, -1.31704945e+07, -1.08730083e+06,  9.24915311e+05,\n",
    "         2.61467220e+05,  7.70007716e+05,  1.10985283e+06,  3.41059205e+06,\n",
    "         1.06310114e+06,  2.67536359e+05,  2.93521764e+06,  1.49285337e+06,\n",
    "         1.49285337e+06,  2.81958021e+06,  2.51173952e+06,  1.58630274e+06,\n",
    "         9.50204149e+05,  1.41948197e+06,  9.72341855e+05,  3.23020493e+06,\n",
    "         8.44505613e+05,  9.48383084e+05,  1.60780745e+06,  5.42124796e+05,\n",
    "        -1.14004517e+04],\n",
    " 'MercatorY': [6004570.06959557, 6893165.40093768, 7085725.81047338,\n",
    "        6893165.40093768, 6253525.73562329, 4706560.98067053,\n",
    "        2972411.76736251, 6893165.40093768, 7509862.16585027,\n",
    "        6251824.92731495, 2972411.73027401, 4035816.34901808,\n",
    "        4992613.09476467, 4544092.276759  , 4705097.72104785,\n",
    "        6893165.40093768, 6875817.62675196, 6891502.91573991,\n",
    "        6131845.86803904, 2972411.73027401, 2972411.73027401,\n",
    "        5705788.98872309, 2742334.71139851, 2742334.71139851,\n",
    "        2375987.0990246 , 2375987.0990246 , 6894231.47445908,\n",
    "        6893165.40093768, 4546826.98320842, 4972108.27822514,\n",
    "        4831800.72686635, 4709686.62900351, 7509247.401857  ,\n",
    "        6714465.43048063, 4708251.57233031, 5066893.97798572,\n",
    "        4469311.68236285, 6239149.72266987, 6239149.72266987,\n",
    "        6909348.78733988, 2972436.12216593, 4040970.83862009,\n",
    "        3693894.60345145, 6020473.79844093, 6250024.6427334 ,\n",
    "        6612775.12937624, 7086591.55517114, 6526163.85395143,\n",
    "        7204953.54127515, 6238823.7621892 , 4612386.14745461,\n",
    "        6895499.31286198, 6895499.31286198, 4501357.56115723,\n",
    "        6429500.97888261, 6755047.86303445, 5998332.8910321 ,\n",
    "        7039635.1735204 , 6464569.28977139, 5022094.29977453,\n",
    "        6036831.05642938, 6005673.56348724, 6465032.00585329,\n",
    "        6870368.1055111 , 6713728.33196985],\n",
    " 'show_date': [ True,  True,  True,  True,  True,  True,  True,  True,  True,\n",
    "         True,  True,  True,  True,  True,  True,  True,  True,  True,\n",
    "         True,  True,  True,  True,  True,  True,  True,  True,  True,\n",
    "         True,  True,  True,  True,  True,  True,  True,  True,  True,\n",
    "         True,  True,  True,  True,  True,  True,  True,  True,  True,\n",
    "         True,  True,  True,  True,  True,  True,  True,  True,  True,\n",
    "         True,  True,  True,  True,  True,  True,  True,  True,  True,\n",
    "         True,  True]}}\n",
    "\n",
    "def update(source=source, slider=date_slider, window=None):\n",
    "    data=source.data\n",
    "    v_start = cb_obj.get('value')[0]\n",
    "    v_end = cb_obj.get('value')[1]\n",
    "    mask = np.logical_and(data['datetime'] > v_start, data['datetime'] < v_end)\n",
    "    source.data['show_date'] = mask\n",
    "    source.trigger('change')"
   ]
  },
  {
   "cell_type": "code",
   "execution_count": null,
   "id": "51d1a44a",
   "metadata": {
    "collapsed": false,
    "jupyter": {
     "outputs_hidden": false
    },
    "pycharm": {
     "name": "#%%\n"
    }
   },
   "outputs": [],
   "source": [
    "ColumnDataSource(test_df[(test_df['datetime'] > \"2017-01-01\") & (test_df['datetime'] < \"2018-01-01\")]).data"
   ]
  },
  {
   "cell_type": "code",
   "execution_count": null,
   "id": "22fd6f57",
   "metadata": {
    "collapsed": false,
    "jupyter": {
     "outputs_hidden": false
    },
    "pycharm": {
     "name": "#%%\n"
    }
   },
   "outputs": [],
   "source": [
    "mask = np.logical_and(source.data['datetime'] > '2017-07-22', source.data['datetime'] < '2018-01-01')\n",
    "col = source.data['datetime']\n",
    "col[mask] = 'replacement'\n",
    "col"
   ]
  },
  {
   "cell_type": "code",
   "execution_count": null,
   "id": "3f64a305",
   "metadata": {
    "collapsed": false,
    "jupyter": {
     "outputs_hidden": false
    },
    "pycharm": {
     "name": "#%%\n"
    }
   },
   "outputs": [],
   "source": [
    "''' A crossfilter plot map that uses the `Auto MPG dataset`_. This example\n",
    "demonstrates the relationship of datasets together. A hover tooltip displays\n",
    "information on each dot.\n",
    ".. note::\n",
    "    This example needs the Pandas package to run.\n",
    ".. _Auto MPG dataset: https://archive.ics.uci.edu/ml/datasets/auto+mpg\n",
    "'''\n",
    "import pandas as pd\n",
    "\n",
    "from bokeh.layouts import column, row\n",
    "from bokeh.models import Select\n",
    "from bokeh.palettes import Spectral5\n",
    "from bokeh.plotting import curdoc, figure\n",
    "from bokeh.sampledata.autompg import autompg_clean as df\n",
    "\n",
    "url = 'http://archive.ics.uci.edu/ml/machine-learning-databases/auto-mpg/auto-mpg.data'\n",
    "\n",
    "widths = [7, 4, 10, 10, 11, 7, 4, 4, 30]\n",
    "\n",
    "df = pd.read_fwf(url, widths=widths, header=None, na_values=['?'])\n",
    "df.columns = ['mpg','cylinders','displacement','horsepower','weight','acceleration','model year','origin','car name']\n",
    "\n",
    "SIZES = list(range(6, 22, 3))\n",
    "COLORS = Spectral5\n",
    "N_SIZES = len(SIZES)\n",
    "N_COLORS = len(COLORS)\n",
    "\n",
    "# data cleanup\n",
    "df['cylinders'] = df['cylinders'].astype(str)\n",
    "df['model year'] = df['model year'].astype(str)\n",
    "del df['car name']\n",
    "\n",
    "columns = sorted(df.columns)\n",
    "discrete = [x for x in columns if df[x].dtype == object]\n",
    "continuous = [x for x in columns if x not in discrete]\n",
    "\n",
    "def create_figure():\n",
    "    xs = df[x.value].values\n",
    "    ys = df[y.value].values\n",
    "    x_title = x.value.title()\n",
    "    y_title = y.value.title()\n",
    "\n",
    "    kw = dict()\n",
    "    if x.value in discrete:\n",
    "        kw['x_range'] = sorted(set(xs))\n",
    "    if y.value in discrete:\n",
    "        kw['y_range'] = sorted(set(ys))\n",
    "    kw['title'] = \"%s vs %s\" % (x_title, y_title)\n",
    "\n",
    "    p = figure(height=600, width=800, tools='pan,box_zoom,hover,reset', **kw)\n",
    "    p.xaxis.axis_label = x_title\n",
    "    p.yaxis.axis_label = y_title\n",
    "\n",
    "    if x.value in discrete:\n",
    "        p.xaxis.major_label_orientation = pd.np.pi / 4\n",
    "\n",
    "    sz = 9\n",
    "    if size.value != 'None':\n",
    "        if len(set(df[size.value])) > N_SIZES:\n",
    "            groups = pd.qcut(df[size.value].values, N_SIZES, duplicates='drop')\n",
    "        else:\n",
    "            groups = pd.Categorical(df[size.value])\n",
    "        sz = [SIZES[xx] for xx in groups.codes]\n",
    "\n",
    "    c = \"#31AADE\"\n",
    "    if color.value != 'None':\n",
    "        if len(set(df[color.value])) > N_COLORS:\n",
    "            groups = pd.qcut(df[color.value].values, N_COLORS, duplicates='drop')\n",
    "        else:\n",
    "            groups = pd.Categorical(df[color.value])\n",
    "        c = [COLORS[xx] for xx in groups.codes]\n",
    "\n",
    "    p.circle(x=xs, y=ys, color=c, size=sz, line_color=\"white\", alpha=0.6, hover_color='white', hover_alpha=0.5)\n",
    "\n",
    "    return p\n",
    "\n",
    "\n",
    "def update(attr, old, new):\n",
    "    layout.children[1] = create_figure()\n",
    "\n",
    "\n",
    "x = Select(title='X-Axis', value='mpg', options=columns)\n",
    "x.on_change('value', update)\n",
    "\n",
    "y = Select(title='Y-Axis', value='horsepower', options=columns)\n",
    "y.on_change('value', update)\n",
    "\n",
    "size = Select(title='Size', value='None', options=['None'] + continuous)\n",
    "size.on_change('value', update)\n",
    "\n",
    "color = Select(title='Color', value='None', options=['None'] + continuous)\n",
    "color.on_change('value', update)\n",
    "\n",
    "controls = column(x, y, color, size, width=200)\n",
    "layout = row(controls, create_figure())\n",
    "\n",
    "show(layout)\n",
    "\n",
    "# curdoc().add_root(layout)\n",
    "# curdoc().title = \"Crossfilter\"\n",
    "# curdoc()"
   ]
  },
  {
   "cell_type": "code",
   "execution_count": null,
   "id": "c868cdd4",
   "metadata": {
    "collapsed": false,
    "jupyter": {
     "outputs_hidden": false
    },
    "pycharm": {
     "name": "#%%\n"
    }
   },
   "outputs": [],
   "source": [
    "bokeh serve --show crossfilter"
   ]
  },
  {
   "cell_type": "code",
   "execution_count": null,
   "id": "08ef5c24",
   "metadata": {
    "collapsed": false,
    "jupyter": {
     "outputs_hidden": false
    },
    "pycharm": {
     "name": "#%%\n"
    }
   },
   "outputs": [],
   "source": [
    "\n",
    "df.head()"
   ]
  },
  {
   "cell_type": "markdown",
   "id": "bb7ef2c2",
   "metadata": {
    "pycharm": {
     "name": "#%% md\n"
    }
   },
   "source": [
    "## Also Messy Workspace -- May not Run"
   ]
  },
  {
   "cell_type": "code",
   "execution_count": null,
   "id": "2e5aeec8",
   "metadata": {
    "collapsed": false,
    "jupyter": {
     "outputs_hidden": false
    },
    "pycharm": {
     "name": "#%%\n"
    }
   },
   "outputs": [],
   "source": [
    "from pyproj import Transformer\n",
    "\n",
    "in_crs = 4326   # coordinates provided in EPSG:4326 format\n",
    "out_crs = 3857   # coordinates output in EPSG 3857 (Web Mercator) format\n",
    "\n",
    "transformer = Transformer.from_crs(in_crs, out_crs, always_xy=True)\n",
    "\n",
    "world_lon1, world_lat1 = transformer.transform(-180,-85)\n",
    "world_lon2, world_lat2 = transformer.transform(180,85)\n",
    "\n",
    "starbucks = pd.read_csv(\"directory.csv\")\n",
    "starbucks.head()\n",
    "starbucks_us = starbucks[starbucks.Country == \"US\"].copy()\n",
    "\n",
    "lons, lats = [], []\n",
    "for lon, lat in list(zip(starbucks_us[\"Longitude\"], starbucks_us[\"Latitude\"])):\n",
    "    x, y = transformer.transform(lon,lat)\n",
    "    lons.append(x)\n",
    "    lats.append(y)\n",
    "\n",
    "starbucks_us[\"MercatorX\"] = lons\n",
    "starbucks_us[\"MercatorY\"] = lats\n",
    "\n",
    "starbucks_us = starbucks_us.rename(columns={\"Store Name\":\"Name\", \"State/Province\":\"State\"})\n",
    "starbucks_us.head()"
   ]
  },
  {
   "cell_type": "code",
   "execution_count": null,
   "id": "ff3ac5eb",
   "metadata": {
    "collapsed": false,
    "jupyter": {
     "outputs_hidden": false
    },
    "pycharm": {
     "name": "#%%\n"
    }
   },
   "outputs": [],
   "source": [
    "## TODO add interactive buttons to switch between artists / other slices\n",
    "## https://towardsdatascience.com/visualization-with-plotly-express-comprehensive-guide-eb5ee4b50b57#f38e\n",
    "## https://plotly.com/python/dropdowns/"
   ]
  },
  {
   "cell_type": "code",
   "execution_count": null,
   "id": "bf8b6e70",
   "metadata": {
    "collapsed": false,
    "jupyter": {
     "outputs_hidden": false
    },
    "pycharm": {
     "name": "#%%\n"
    }
   },
   "outputs": [],
   "source": [
    "# visualize data\n",
    "import plotly.express as px\n",
    "px.set_mapbox_access_token(open(\"mapbox_token.txt\").read())\n",
    "fig = px.scatter_mapbox(test_df,\n",
    "                     lat='latitude',\n",
    "                     lon='longitude',\n",
    "                     color=\"festival_flag\", # which column to use to set the color of markers\n",
    "                     color_discrete_sequence=px.colors.qualitative.Vivid,\n",
    "\n",
    "                     hover_name=\"city\", # column added to hover information\n",
    "                     hover_data={'datetime': True,\n",
    "                                 'festival_flag': True,\n",
    "                                 'latitude': False,\n",
    "                                 'longitude': False},\n",
    "                     labels={'festival_flag': 'Event Type',\n",
    "                             'datetime': 'Date'},\n",
    "\n",
    "\n",
    "                     #size=\"lineup_size\", # size of markers\n",
    "                     #projection=\"natural earth\"\n",
    "                     mapbox_style=\"streets\",\n",
    "                     zoom=1\n",
    "                    )\n",
    "\n",
    "# fig.update_layout(\n",
    "#     mapbox_style=\"streets\",\n",
    "#     # mapbox_layers=[\n",
    "#     #     {\n",
    "#     #         \"below\": 'traces',\n",
    "#     #         \"sourcetype\": \"raster\",\n",
    "#     #         \"sourceattribution\": \"United States Geological Survey\",\n",
    "#     #         \"source\": [\n",
    "#     #             \"https://basemap.nationalmap.gov/arcgis/rest/services/USGSImageryOnly/MapServer/tile/{z}/{y}/{x}\"\n",
    "#     #         ]\n",
    "#     #     }\n",
    "#     #   ]\n",
    "# )\n",
    "#fig.update_traces(hovertemplate= \"%{label}: <br>Popularity: %{value} </br> %{text}\")\n",
    "\n",
    "# fig.update_layout(\n",
    "#     margin={\"r\":0,\"t\":0,\"l\":0,\"b\":0},\n",
    "#     updatemenus=[\n",
    "#         dict(\n",
    "#             buttons=list([\n",
    "#                 dict(\n",
    "#                     args=[\"marker.color\",[\"red\"]],\n",
    "#                     label='Red',\n",
    "#                     method='restyle',\n",
    "#                     visible=True\n",
    "#                 )\n",
    "#             ]),\n",
    "#             direction=\"down\",\n",
    "#             pad={'r': 10, 't': 10},\n",
    "#             #showactive=True\n",
    "#         )\n",
    "#     ]\n",
    "# )\n",
    "\n",
    "fig.update_layout(\n",
    "    margin={\"r\":0,\"t\":0,\"l\":0,\"b\":0},\n",
    "    updatemenus=[\n",
    "        dict(\n",
    "            buttons=list([\n",
    "                dict(\n",
    "                    args=[{'customdata':[['2024-04-19', 'Festival', 33.6784492, -116.237155]]}],\n",
    "                    label='Custom',\n",
    "                    method='restyle',\n",
    "                    visible=True\n",
    "                )\n",
    "            ]),\n",
    "            direction=\"down\",\n",
    "            pad={'r': 10, 't': 10},\n",
    "            #showactive=True\n",
    "        )\n",
    "    ]\n",
    ")\n",
    "\n",
    "fig.show()"
   ]
  },
  {
   "cell_type": "code",
   "execution_count": null,
   "id": "f2ebe201",
   "metadata": {
    "collapsed": false,
    "jupyter": {
     "outputs_hidden": false
    },
    "pycharm": {
     "name": "#%%\n"
    }
   },
   "outputs": [],
   "source": [
    "fig.to_dict()"
   ]
  },
  {
   "cell_type": "code",
   "execution_count": null,
   "id": "c5970156",
   "metadata": {
    "collapsed": false,
    "jupyter": {
     "outputs_hidden": false
    },
    "pycharm": {
     "name": "#%%\n"
    }
   },
   "outputs": [],
   "source": [
    "fig.data"
   ]
  },
  {
   "cell_type": "code",
   "execution_count": null,
   "id": "9f476300",
   "metadata": {
    "collapsed": false,
    "jupyter": {
     "outputs_hidden": false
    },
    "pycharm": {
     "name": "#%%\n"
    }
   },
   "outputs": [],
   "source": [
    "import reverse_geocode as rg\n",
    "coordinates = (-37.81, 144.96), (31.76, 35.21)\n",
    "loc = rg.search(coordinates)"
   ]
  },
  {
   "cell_type": "code",
   "execution_count": null,
   "id": "594aaa72",
   "metadata": {
    "collapsed": false,
    "jupyter": {
     "outputs_hidden": false
    },
    "pycharm": {
     "name": "#%%\n"
    }
   },
   "outputs": [],
   "source": [
    "from functools import partial\n",
    "from geopy.geocoders import Nominatim\n",
    "\n",
    "geolocator = Nominatim(user_agent=\"rg_agent\")\n",
    "\n",
    "geocode = partial(geolocator.geocode, language=\"es\")\n",
    "print(geocode(\"london\"))\n",
    "\n",
    "print(geocode(\"paris\"))\n",
    "\n",
    "print(geocode(\"paris\", language=\"en\"))\n",
    "\n",
    "\n",
    "reverse = partial(geolocator.reverse, language=\"es\")\n",
    "print(reverse(\"52.509669, 13.376294\"))\n"
   ]
  },
  {
   "cell_type": "code",
   "execution_count": null,
   "id": "3485faba",
   "metadata": {
    "collapsed": false,
    "jupyter": {
     "outputs_hidden": false
    },
    "pycharm": {
     "name": "#%%\n"
    }
   },
   "outputs": [],
   "source": [
    "from geopy.extra.rate_limiter import RateLimiter\n",
    "gr = RateLimiter(geolocator.reverse, min_delay_seconds=1)\n",
    "\n",
    "x = gr((-37.81, 144.96),)\n",
    "dir(x)"
   ]
  },
  {
   "cell_type": "code",
   "execution_count": null,
   "id": "b4114244",
   "metadata": {
    "collapsed": false,
    "jupyter": {
     "outputs_hidden": false
    },
    "pycharm": {
     "name": "#%%\n"
    }
   },
   "outputs": [],
   "source": [
    "x"
   ]
  },
  {
   "cell_type": "code",
   "execution_count": null,
   "id": "3949a077",
   "metadata": {
    "collapsed": false,
    "jupyter": {
     "outputs_hidden": false
    },
    "pycharm": {
     "name": "#%%\n"
    }
   },
   "outputs": [],
   "source": [
    "x.raw['address']['city']"
   ]
  },
  {
   "cell_type": "code",
   "execution_count": null,
   "id": "da612c1d",
   "metadata": {
    "collapsed": false,
    "jupyter": {
     "outputs_hidden": false
    },
    "pycharm": {
     "name": "#%%\n"
    }
   },
   "outputs": [],
   "source": [
    "import plotly.express as px\n",
    "#df = px.data.gapminder().query(\"year == 2007\")\n",
    "fig = px.scatter_geo(test_df,\n",
    "                     lat='latitude',\n",
    "                     lon='longitude',\n",
    "                     color=\"festival_flag\", # which column to use to set the color of markers\n",
    "                     hover_name=\"city\", # column added to hover information\n",
    "                     #size=\"lineup_size\", # size of markers\n",
    "                     projection=\"natural earth\")\n",
    "fig.update_geos(\n",
    "    visible=False,\n",
    "    resolution=50,\n",
    "    #scope=\"north america\",\n",
    "    showcountries=True, countrycolor=\"Black\"\n",
    "    #,showsubunits=True, subunitcolor=\"Blue\"\n",
    ")\n",
    "fig.show()"
   ]
  },
  {
   "cell_type": "code",
   "execution_count": null,
   "id": "a03307be",
   "metadata": {
    "collapsed": false,
    "jupyter": {
     "outputs_hidden": false
    },
    "pycharm": {
     "name": "#%%\n"
    }
   },
   "outputs": [],
   "source": [
    "x_df = test_df[:10].copy()\n",
    "tt = get_location(x_df, 'latitude', 'longitude')\n",
    "tt.head(10)"
   ]
  },
  {
   "cell_type": "code",
   "execution_count": null,
   "id": "cc9e78ad",
   "metadata": {
    "collapsed": false,
    "jupyter": {
     "outputs_hidden": false
    },
    "pycharm": {
     "name": "#%%\n"
    }
   },
   "outputs": [],
   "source": [
    "test_df.head(10)"
   ]
  },
  {
   "cell_type": "code",
   "execution_count": null,
   "id": "d57f0444",
   "metadata": {
    "collapsed": false,
    "jupyter": {
     "outputs_hidden": false
    },
    "pycharm": {
     "name": "#%%\n"
    }
   },
   "outputs": [],
   "source": [
    "test_df['city'] = test_df[['latitude', 'longitude']]"
   ]
  },
  {
   "cell_type": "code",
   "execution_count": null,
   "id": "4bc29ec7",
   "metadata": {
    "collapsed": false,
    "jupyter": {
     "outputs_hidden": false
    },
    "pycharm": {
     "name": "#%%\n"
    }
   },
   "outputs": [],
   "source": [
    "from geopy.extra.rate_limiter import RateLimiter\n",
    "geocode = RateLimiter(geolocator.reverse, min_delay_seconds=1)\n",
    "df['location'] = df['name'].apply(geocode)\n",
    "\n",
    "df['point'] = df['location'].apply(lambda loc: tuple(loc.point) if loc else None)"
   ]
  },
  {
   "cell_type": "code",
   "execution_count": null,
   "id": "303431fd",
   "metadata": {
    "collapsed": false,
    "jupyter": {
     "outputs_hidden": false
    },
    "pycharm": {
     "name": "#%%\n"
    }
   },
   "outputs": [],
   "source": [
    "geolocator.reverse(-37.81, 144.96)"
   ]
  },
  {
   "cell_type": "code",
   "execution_count": null,
   "id": "721dde2b",
   "metadata": {
    "collapsed": false,
    "jupyter": {
     "outputs_hidden": false
    },
    "pycharm": {
     "name": "#%%\n"
    }
   },
   "outputs": [],
   "source": []
  },
  {
   "cell_type": "code",
   "execution_count": null,
   "id": "72ecd6a3",
   "metadata": {
    "collapsed": false,
    "jupyter": {
     "outputs_hidden": false
    },
    "pycharm": {
     "name": "#%%\n"
    }
   },
   "outputs": [],
   "source": [
    "import plotly.graph_objects as go\n",
    "\n",
    "fig = go.Figure(go.Scattergeo(\n",
    "    test_df,\n",
    "    lat='latitude',\n",
    "    lon='longitude',\n",
    "    color=\"festival_flag\", # which column to use to set the color of markers\n",
    "    hover_name=\"city\", # column added to hover information\n",
    "    #size=\"lineup_size\", # size of markers\n",
    "    projection=\"natural earth\")\n",
    ")\n",
    "fig.update_geos(\n",
    "    visible=False, resolution=110, scope=\"usa\",\n",
    "    showcountries=True, countrycolor=\"Black\",\n",
    "    showsubunits=True, subunitcolor=\"lightGrey\"\n",
    ")\n",
    "fig.update_layout(height=300, margin={\"r\":0,\"t\":0,\"l\":0,\"b\":0})\n",
    "fig.show()"
   ]
  },
  {
   "cell_type": "code",
   "execution_count": null,
   "id": "6c4b79bf",
   "metadata": {
    "collapsed": false,
    "jupyter": {
     "outputs_hidden": false
    },
    "pycharm": {
     "name": "#%%\n"
    }
   },
   "outputs": [],
   "source": [
    "import pandas as pd\n",
    "us_cities = pd.read_csv(\"https://raw.githubusercontent.com/plotly/datasets/master/us-cities-top-1k.csv\")\n",
    "us_cities.head()\n",
    "\n",
    "import plotly.express as px\n",
    "\n",
    "fig = px.scatter_mapbox(us_cities, lat=\"lat\", lon=\"lon\", hover_name=\"City\", hover_data=[\"State\", \"Population\"],\n",
    "                        color_discrete_sequence=[\"fuchsia\"], zoom=3, height=300)\n",
    "fig.update_layout(mapbox_style=\"open-street-map\")\n",
    "fig.update_layout(margin={\"r\":0,\"t\":0,\"l\":0,\"b\":0})\n",
    "fig.show()"
   ]
  },
  {
   "cell_type": "code",
   "execution_count": null,
   "id": "de3bf1f8",
   "metadata": {
    "collapsed": false,
    "jupyter": {
     "outputs_hidden": false
    },
    "pycharm": {
     "name": "#%%\n"
    }
   },
   "outputs": [],
   "source": [
    "import plotly.express as px\n",
    "\n",
    "fig = px.scatter_mapbox(test_df, lat=\"latitude\", lon=\"longitude\", hover_name=\"location\",\n",
    "                        color_discrete_sequence=[\"fuchsia\"], zoom=3, height=300)\n",
    "fig.update_layout(mapbox_style=\"open-street-map\")\n",
    "fig.update_layout(margin={\"r\":0,\"t\":0,\"l\":0,\"b\":0})\n",
    "fig.show()"
   ]
  },
  {
   "cell_type": "code",
   "execution_count": null,
   "id": "c5bb464d-c881-49d5-83d2-21d24e17e04f",
   "metadata": {
    "tags": []
   },
   "outputs": [],
   "source": [
    "ej = r.json()\n",
    "ej[2]"
   ]
  },
  {
   "cell_type": "code",
   "execution_count": null,
   "id": "8b835acd-ccac-4c96-a281-0d6510451e8e",
   "metadata": {},
   "outputs": [],
   "source": [
    "len(event_json)"
   ]
  },
  {
   "cell_type": "code",
   "execution_count": null,
   "id": "02de8e44-617c-4215-ae76-710ac67407c9",
   "metadata": {
    "tags": []
   },
   "outputs": [],
   "source": [
    "#r.text"
   ]
  },
  {
   "cell_type": "code",
   "execution_count": null,
   "id": "4f8c83e9-a728-4ba5-b8c9-abbbe011cb72",
   "metadata": {},
   "outputs": [],
   "source": [
    "len(ej[0])"
   ]
  },
  {
   "cell_type": "code",
   "execution_count": null,
   "id": "09c3a67a-32ce-4b70-9e83-9753dab2c73f",
   "metadata": {},
   "outputs": [],
   "source": [
    "ej[0].keys()"
   ]
  },
  {
   "cell_type": "code",
   "execution_count": null,
   "id": "07ac0ee8-80be-49a2-a3ab-ce20398c4728",
   "metadata": {},
   "outputs": [],
   "source": [
    "list(ej[0].keys())"
   ]
  },
  {
   "cell_type": "code",
   "execution_count": null,
   "id": "53146583-e11c-400f-ac54-49c1c11aab0e",
   "metadata": {},
   "outputs": [],
   "source": [
    "type(ej[0])"
   ]
  },
  {
   "cell_type": "code",
   "execution_count": null,
   "id": "077c0f79-81dd-47c4-97be-6c1b5502ee5b",
   "metadata": {},
   "outputs": [],
   "source": [
    "ej[0].values()"
   ]
  },
  {
   "cell_type": "code",
   "execution_count": null,
   "id": "1f65589a-7863-47f3-ba0e-d552395102d5",
   "metadata": {},
   "outputs": [],
   "source": [
    "v = ej[0].get('venue')\n",
    "print(v)\n",
    "type(v)"
   ]
  },
  {
   "cell_type": "code",
   "execution_count": null,
   "id": "528d7460-796b-43e0-bdeb-f50ea5c5f80a",
   "metadata": {},
   "outputs": [],
   "source": [
    "v.get('country')"
   ]
  },
  {
   "cell_type": "code",
   "execution_count": null,
   "id": "1384bd59",
   "metadata": {
    "collapsed": false,
    "jupyter": {
     "outputs_hidden": false
    },
    "pycharm": {
     "name": "#%%\n"
    }
   },
   "outputs": [],
   "source": [
    "for key in list(ej[0].keys()):\n",
    "    print(key, \" : \\n\", ej[0].get(key), \"\\n\")"
   ]
  },
  {
   "cell_type": "code",
   "execution_count": null,
   "id": "a497fe4d-7e00-4168-9cae-5642aee4bf3b",
   "metadata": {},
   "outputs": [],
   "source": []
  }
 ],
 "metadata": {
  "kernelspec": {
   "display_name": "Python 3 (ipykernel)",
   "language": "python",
   "name": "python3"
  },
  "language_info": {
   "codemirror_mode": {
    "name": "ipython",
    "version": 3
   },
   "file_extension": ".py",
   "mimetype": "text/x-python",
   "name": "python",
   "nbconvert_exporter": "python",
   "pygments_lexer": "ipython3",
   "version": "3.8.12"
  }
 },
 "nbformat": 4,
 "nbformat_minor": 5
}
