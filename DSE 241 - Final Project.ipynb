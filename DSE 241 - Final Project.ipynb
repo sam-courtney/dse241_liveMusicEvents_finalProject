{
 "cells": [
  {
   "cell_type": "markdown",
   "id": "c24686ae-41b8-425f-9b4c-e89f2bb7d0fe",
   "metadata": {},
   "source": [
    "# DSE 241 - Final Project\n",
    "# Rock & Fucking Roll"
   ]
  },
  {
   "cell_type": "markdown",
   "id": "327b5618-f4aa-4529-aca3-7a2b127f8e82",
   "metadata": {},
   "source": [
    "## Requirements"
   ]
  },
  {
   "cell_type": "code",
   "execution_count": 141,
   "id": "884c0faa-1277-4c81-8a8c-e6bb3a174a06",
   "metadata": {},
   "outputs": [],
   "source": [
    "import requests\n",
    "import pandas as pd\n",
    "import numpy as np"
   ]
  },
  {
   "cell_type": "markdown",
   "id": "9c4d8ef3-b428-4371-9963-31ea48652a8e",
   "metadata": {},
   "source": [
    "## Functions"
   ]
  },
  {
   "cell_type": "code",
   "execution_count": 142,
   "id": "ee028625-22a0-4cca-8f3b-687cfbef1827",
   "metadata": {},
   "outputs": [],
   "source": [
    "def read_api_key(file_name):\n",
    "    f = open(file_name, 'r')\n",
    "    key = f.read()\n",
    "    f.close()\n",
    "    return key\n",
    "\n",
    "def getgenre_artist(string):\n",
    "    ## lower case\n",
    "    ## replace \" \" with \"_\"\n",
    "    artist = string.replace(' ','_').lower()\n",
    "    return artist\n",
    "\n",
    "def bands_artist(string):\n",
    "    ## url-ify artist names\n",
    "    ## replaces \" \" with \"%20\"\n",
    "    artist = string.replace(' ',r'%20')\n",
    "    return artist\n",
    "    \n",
    "    \n",
    "def parse_events(event_json):\n",
    "    ### defined to help parse the JSON of individual events returned by Bandintown API ###\n",
    "    ### this will pull out the keys and values for the event object ###\n",
    "    ### the end result is a list that can be entered as a row to a Pandas dataframe ###\n",
    "    \n",
    "    ### TODO: determine if the output is better in Pandas or Numpy ###\n",
    "    ### TODO: define event_json object ###\n",
    "    \n",
    "    events_data = []\n",
    "    num_of_events = len(event_json) # event json has an entry for each event ## each event has lots of other nested data\n",
    "\n",
    "    keys_of_interest = [\n",
    "            'datetime' # date-time of the event\n",
    "            , 'title'  # name of the event  ## may need to create a condition to check if exists and set to null if missing\n",
    "            , 'lineup' # list of strings containing names of artists  ## may leave as a nested list in data frame to avoid sparseness  ### list may be ordered in terms of headliners (??)\n",
    "            , 'festival_start_date' # date festival starts  ### may be a useful indicator that the artist is performing at a festival-event, need to test this for reliability\n",
    "            , 'festival_end_date'   # date festival ends, will differ from start date on multi-day events (may not exist on single day events)\n",
    "            , 'venue'  # this is a nested dictionary, will need to tease this one out to flatten the data\n",
    "    ]\n",
    "\n",
    "    venue_keys_of_interest = [\n",
    "             'city'        # city name, string\n",
    "            , 'region'     # state-level, string\n",
    "            , 'country'    # country name, string\n",
    "            , 'latitude'   # coordinate data, float\n",
    "            , 'longitude'  # coordinate data, float\n",
    "            , 'location'   # arbitrary string describing geolocation  ## consider not including\n",
    "            , 'name'       # arbitrary string describing venue name, could be misleading since some venues are at locations, but given festival name  ## consider not including\n",
    "    ]\n",
    "\n",
    "    for i in range(num_of_events):\n",
    "        event = event_json[i]\n",
    "        event_list = []\n",
    "\n",
    "        for key in keys_of_interest:\n",
    "            value = event.get(key)\n",
    "            if key == 'venue':\n",
    "                for venue_key in venue_keys_of_interest:\n",
    "                    venue_value = value.get(venue_key)\n",
    "                    event_list.append(venue_value)\n",
    "            else:\n",
    "                event_list.append(value)\n",
    "\n",
    "        events_data.append(event_list)\n",
    "\n",
    "\n",
    "    cols = keys_of_interest[:-1] + venue_keys_of_interest\n",
    "    events_df = pd.DataFrame(events_data, columns=cols)\n",
    "    events_df['artist'] = artist\n",
    "    return events_df\n",
    "\n",
    "def get_locations(df, latitude_column='latitude', longitude_column='longitude'):\n",
    "    new_df = df.copy()\n",
    "    geolocator = Nominatim(user_agent=\"rg_agent\")\n",
    "    reverse_geocode = RateLimiter(geolocator.reverse, min_delay_seconds=1)\n",
    "    for index, row in new_df.iterrows():\n",
    "        lookup = reverse_geocode((row[latitude_column],row[longitude_column]), language='en')\n",
    "        try:\n",
    "            new_df.loc[index,'city'] = lookup.raw['address']['city']\n",
    "        except:\n",
    "            continue\n",
    "        try:\n",
    "            new_df.loc[index,'region'] = lookup.raw['address']['state']\n",
    "        except:\n",
    "            continue\n",
    "        try:\n",
    "            new_df.loc[index,'country'] = lookup.raw['address']['country']\n",
    "        except:\n",
    "            continue\n",
    "\n",
    "    return new_df"
   ]
  },
  {
   "cell_type": "markdown",
   "id": "26325d4d-c8ee-4369-a568-d2e19ec91cf7",
   "metadata": {},
   "source": [
    "## Key Inputs"
   ]
  },
  {
   "cell_type": "code",
   "execution_count": 143,
   "id": "370a4474-931c-45d8-8c47-bef55969c386",
   "metadata": {},
   "outputs": [],
   "source": [
    "artist = 'Tame Impala'\n",
    "\n",
    "bands_key = read_api_key('bands_api_key.txt') ## shhhh... its a secret\n",
    "\n",
    "analysis_level = 1\n",
    "gg_artist = getgenre_artist(artist)\n",
    "bands_artist = bands_artist(artist)\n",
    "getgenre_api_url = r'https://api.getgenre.com/search?artist_name={}&analysis={}'.format(gg_artist, analysis_level)\n",
    "bands_api_url = r'https://rest.bandsintown.com/artists/{}/events/?app_id={}'.format(bands_artist, bands_key)\n",
    "bands_api_url_past = r'https://rest.bandsintown.com/artists/{}/events/?app_id={}&date=past'.format(bands_artist, bands_key)"
   ]
  },
  {
   "cell_type": "code",
   "execution_count": 144,
   "id": "00e0146d-d8b1-4b4c-affc-d7919dcfee18",
   "metadata": {},
   "outputs": [
    {
     "data": {
      "text/plain": "'tame_impala'"
     },
     "execution_count": 144,
     "metadata": {},
     "output_type": "execute_result"
    }
   ],
   "source": [
    "gg_artist"
   ]
  },
  {
   "cell_type": "code",
   "execution_count": 145,
   "id": "6cfcea8e-b4d7-468e-bf0a-5f254e9e5109",
   "metadata": {},
   "outputs": [
    {
     "data": {
      "text/plain": "'Tame%20Impala'"
     },
     "execution_count": 145,
     "metadata": {},
     "output_type": "execute_result"
    }
   ],
   "source": [
    "bands_artist"
   ]
  },
  {
   "cell_type": "markdown",
   "id": "452b9e2b-cc0d-4645-b79d-87f97b2a4513",
   "metadata": {},
   "source": [
    "## Working Code\n",
    "### Let's Go"
   ]
  },
  {
   "cell_type": "code",
   "execution_count": 146,
   "id": "47028c40-99f1-4338-bf18-f22a3260cce4",
   "metadata": {},
   "outputs": [],
   "source": [
    "r = requests.get(bands_api_url_past)"
   ]
  },
  {
   "cell_type": "code",
   "execution_count": 147,
   "id": "a47e2644-a408-4cd7-9910-fbb319d57527",
   "metadata": {},
   "outputs": [],
   "source": [
    "event_json = r.json()"
   ]
  },
  {
   "cell_type": "code",
   "execution_count": 148,
   "id": "9bfa7535-fa5b-4583-87e3-b08e47370a8f",
   "metadata": {
    "tags": []
   },
   "outputs": [
    {
     "name": "stdout",
     "output_type": "stream",
     "text": [
      "(317, 13)\n"
     ]
    },
    {
     "data": {
      "text/plain": "              datetime title  \\\n0  2013-04-14T10:08:00         \n1  2013-04-19T19:00:00         \n2  2013-04-21T10:26:00         \n3  2013-04-26T20:00:00         \n4  2013-05-02T19:30:00         \n\n                                              lineup festival_start_date  \\\n0  [Tame Impala, The Airborne Toxic Event, Eric P...                       \n1  [Tame Impala, Mona, Alt-J, Social Distortion, ...                       \n2  [Tame Impala, Vampire Weekend, Ladies Night, M...                       \n3                [Tame Impala, Midnight Juggernauts]                       \n4                                      [Tame Impala]                       \n\n  festival_end_date            city region        country    latitude  \\\n0                             Indio     CA  United States  33.7205556   \n1                             Indio     CA  United States  33.6784492   \n2                             Indio     CA  United States  33.7205556   \n3                    West Melbourne             Australia   -37.81126   \n4                            Sydney             Australia  -33.889832   \n\n      longitude location                     name       artist  \n0  -116.2147222                 Empire Polo Field  Tame Impala  \n1   -116.237155                  Empire Polo Club  Tame Impala  \n2  -116.2147222                 Empire Polo Field  Tame Impala  \n3    144.946442           Festival Hall Melbourne  Tame Impala  \n4    151.223348                  Hordern Pavilion  Tame Impala  ",
      "text/html": "<div>\n<style scoped>\n    .dataframe tbody tr th:only-of-type {\n        vertical-align: middle;\n    }\n\n    .dataframe tbody tr th {\n        vertical-align: top;\n    }\n\n    .dataframe thead th {\n        text-align: right;\n    }\n</style>\n<table border=\"1\" class=\"dataframe\">\n  <thead>\n    <tr style=\"text-align: right;\">\n      <th></th>\n      <th>datetime</th>\n      <th>title</th>\n      <th>lineup</th>\n      <th>festival_start_date</th>\n      <th>festival_end_date</th>\n      <th>city</th>\n      <th>region</th>\n      <th>country</th>\n      <th>latitude</th>\n      <th>longitude</th>\n      <th>location</th>\n      <th>name</th>\n      <th>artist</th>\n    </tr>\n  </thead>\n  <tbody>\n    <tr>\n      <th>0</th>\n      <td>2013-04-14T10:08:00</td>\n      <td></td>\n      <td>[Tame Impala, The Airborne Toxic Event, Eric P...</td>\n      <td></td>\n      <td></td>\n      <td>Indio</td>\n      <td>CA</td>\n      <td>United States</td>\n      <td>33.7205556</td>\n      <td>-116.2147222</td>\n      <td></td>\n      <td>Empire Polo Field</td>\n      <td>Tame Impala</td>\n    </tr>\n    <tr>\n      <th>1</th>\n      <td>2013-04-19T19:00:00</td>\n      <td></td>\n      <td>[Tame Impala, Mona, Alt-J, Social Distortion, ...</td>\n      <td></td>\n      <td></td>\n      <td>Indio</td>\n      <td>CA</td>\n      <td>United States</td>\n      <td>33.6784492</td>\n      <td>-116.237155</td>\n      <td></td>\n      <td>Empire Polo Club</td>\n      <td>Tame Impala</td>\n    </tr>\n    <tr>\n      <th>2</th>\n      <td>2013-04-21T10:26:00</td>\n      <td></td>\n      <td>[Tame Impala, Vampire Weekend, Ladies Night, M...</td>\n      <td></td>\n      <td></td>\n      <td>Indio</td>\n      <td>CA</td>\n      <td>United States</td>\n      <td>33.7205556</td>\n      <td>-116.2147222</td>\n      <td></td>\n      <td>Empire Polo Field</td>\n      <td>Tame Impala</td>\n    </tr>\n    <tr>\n      <th>3</th>\n      <td>2013-04-26T20:00:00</td>\n      <td></td>\n      <td>[Tame Impala, Midnight Juggernauts]</td>\n      <td></td>\n      <td></td>\n      <td>West Melbourne</td>\n      <td></td>\n      <td>Australia</td>\n      <td>-37.81126</td>\n      <td>144.946442</td>\n      <td></td>\n      <td>Festival Hall Melbourne</td>\n      <td>Tame Impala</td>\n    </tr>\n    <tr>\n      <th>4</th>\n      <td>2013-05-02T19:30:00</td>\n      <td></td>\n      <td>[Tame Impala]</td>\n      <td></td>\n      <td></td>\n      <td>Sydney</td>\n      <td></td>\n      <td>Australia</td>\n      <td>-33.889832</td>\n      <td>151.223348</td>\n      <td></td>\n      <td>Hordern Pavilion</td>\n      <td>Tame Impala</td>\n    </tr>\n  </tbody>\n</table>\n</div>"
     },
     "execution_count": 148,
     "metadata": {},
     "output_type": "execute_result"
    }
   ],
   "source": [
    "test_df = parse_events(event_json)\n",
    "print(test_df.shape)\n",
    "test_df.head()"
   ]
  },
  {
   "cell_type": "code",
   "execution_count": 149,
   "id": "8d57d071-a329-4600-a892-c1975c2b0fc7",
   "metadata": {},
   "outputs": [],
   "source": [
    "r_gg = requests.get(getgenre_api_url)"
   ]
  },
  {
   "cell_type": "code",
   "execution_count": 150,
   "id": "ca1c09ba-03ed-457d-8f95-b574d2756d55",
   "metadata": {},
   "outputs": [],
   "source": [
    "genre_json = r_gg.json()\n",
    "top_gg = genre_json['analysis']['top_genres']"
   ]
  },
  {
   "cell_type": "code",
   "execution_count": 151,
   "id": "85fbbbda-9cd1-406f-ae5b-ebfc00c8bd16",
   "metadata": {},
   "outputs": [
    {
     "data": {
      "text/plain": "              datetime title  \\\n0  2013-04-14T10:08:00         \n1  2013-04-19T19:00:00         \n2  2013-04-21T10:26:00         \n3  2013-04-26T20:00:00         \n4  2013-05-02T19:30:00         \n\n                                              lineup festival_start_date  \\\n0  [Tame Impala, The Airborne Toxic Event, Eric P...                       \n1  [Tame Impala, Mona, Alt-J, Social Distortion, ...                       \n2  [Tame Impala, Vampire Weekend, Ladies Night, M...                       \n3                [Tame Impala, Midnight Juggernauts]                       \n4                                      [Tame Impala]                       \n\n  festival_end_date            city region        country    latitude  \\\n0                             Indio     CA  United States  33.7205556   \n1                             Indio     CA  United States  33.6784492   \n2                             Indio     CA  United States  33.7205556   \n3                    West Melbourne             Australia   -37.81126   \n4                            Sydney             Australia  -33.889832   \n\n      longitude location                     name       artist  \\\n0  -116.2147222                 Empire Polo Field  Tame Impala   \n1   -116.237155                  Empire Polo Club  Tame Impala   \n2  -116.2147222                 Empire Polo Field  Tame Impala   \n3    144.946442           Festival Hall Melbourne  Tame Impala   \n4    151.223348                  Hordern Pavilion  Tame Impala   \n\n                                    artist_topgenres  \n0  [indie rock, synthpop, psychedelic pop, psyche...  \n1  [indie rock, synthpop, psychedelic pop, psyche...  \n2  [indie rock, synthpop, psychedelic pop, psyche...  \n3  [indie rock, synthpop, psychedelic pop, psyche...  \n4  [indie rock, synthpop, psychedelic pop, psyche...  ",
      "text/html": "<div>\n<style scoped>\n    .dataframe tbody tr th:only-of-type {\n        vertical-align: middle;\n    }\n\n    .dataframe tbody tr th {\n        vertical-align: top;\n    }\n\n    .dataframe thead th {\n        text-align: right;\n    }\n</style>\n<table border=\"1\" class=\"dataframe\">\n  <thead>\n    <tr style=\"text-align: right;\">\n      <th></th>\n      <th>datetime</th>\n      <th>title</th>\n      <th>lineup</th>\n      <th>festival_start_date</th>\n      <th>festival_end_date</th>\n      <th>city</th>\n      <th>region</th>\n      <th>country</th>\n      <th>latitude</th>\n      <th>longitude</th>\n      <th>location</th>\n      <th>name</th>\n      <th>artist</th>\n      <th>artist_topgenres</th>\n    </tr>\n  </thead>\n  <tbody>\n    <tr>\n      <th>0</th>\n      <td>2013-04-14T10:08:00</td>\n      <td></td>\n      <td>[Tame Impala, The Airborne Toxic Event, Eric P...</td>\n      <td></td>\n      <td></td>\n      <td>Indio</td>\n      <td>CA</td>\n      <td>United States</td>\n      <td>33.7205556</td>\n      <td>-116.2147222</td>\n      <td></td>\n      <td>Empire Polo Field</td>\n      <td>Tame Impala</td>\n      <td>[indie rock, synthpop, psychedelic pop, psyche...</td>\n    </tr>\n    <tr>\n      <th>1</th>\n      <td>2013-04-19T19:00:00</td>\n      <td></td>\n      <td>[Tame Impala, Mona, Alt-J, Social Distortion, ...</td>\n      <td></td>\n      <td></td>\n      <td>Indio</td>\n      <td>CA</td>\n      <td>United States</td>\n      <td>33.6784492</td>\n      <td>-116.237155</td>\n      <td></td>\n      <td>Empire Polo Club</td>\n      <td>Tame Impala</td>\n      <td>[indie rock, synthpop, psychedelic pop, psyche...</td>\n    </tr>\n    <tr>\n      <th>2</th>\n      <td>2013-04-21T10:26:00</td>\n      <td></td>\n      <td>[Tame Impala, Vampire Weekend, Ladies Night, M...</td>\n      <td></td>\n      <td></td>\n      <td>Indio</td>\n      <td>CA</td>\n      <td>United States</td>\n      <td>33.7205556</td>\n      <td>-116.2147222</td>\n      <td></td>\n      <td>Empire Polo Field</td>\n      <td>Tame Impala</td>\n      <td>[indie rock, synthpop, psychedelic pop, psyche...</td>\n    </tr>\n    <tr>\n      <th>3</th>\n      <td>2013-04-26T20:00:00</td>\n      <td></td>\n      <td>[Tame Impala, Midnight Juggernauts]</td>\n      <td></td>\n      <td></td>\n      <td>West Melbourne</td>\n      <td></td>\n      <td>Australia</td>\n      <td>-37.81126</td>\n      <td>144.946442</td>\n      <td></td>\n      <td>Festival Hall Melbourne</td>\n      <td>Tame Impala</td>\n      <td>[indie rock, synthpop, psychedelic pop, psyche...</td>\n    </tr>\n    <tr>\n      <th>4</th>\n      <td>2013-05-02T19:30:00</td>\n      <td></td>\n      <td>[Tame Impala]</td>\n      <td></td>\n      <td></td>\n      <td>Sydney</td>\n      <td></td>\n      <td>Australia</td>\n      <td>-33.889832</td>\n      <td>151.223348</td>\n      <td></td>\n      <td>Hordern Pavilion</td>\n      <td>Tame Impala</td>\n      <td>[indie rock, synthpop, psychedelic pop, psyche...</td>\n    </tr>\n  </tbody>\n</table>\n</div>"
     },
     "execution_count": 151,
     "metadata": {},
     "output_type": "execute_result"
    }
   ],
   "source": [
    "test_df['artist'] = artist\n",
    "test_df['artist_topgenres'] = [top_gg for _ in range(len(test_df))]\n",
    "test_df.head()"
   ]
  },
  {
   "cell_type": "code",
   "execution_count": 152,
   "outputs": [
    {
     "data": {
      "text/plain": "country                   region  city         location\nUnited States             CA      Los Angeles              10\n                          NY      New York                 10\nMexico                            Monterrey                 8\nUnited Kingdom                    London                    8\nUnited States             CO      Denver                    7\n                                                           ..\nUnited Kingdom                    Edinburgh                 1\n                                  Downend                   1\n                                  Blackpool                 1\n                                  Birmingham                1\nUnited States of America  IL      Chicago                   1\nLength: 153, dtype: int64"
     },
     "execution_count": 152,
     "metadata": {},
     "output_type": "execute_result"
    }
   ],
   "source": [
    "test_df[['country','region','city','location']].value_counts()"
   ],
   "metadata": {
    "collapsed": false,
    "pycharm": {
     "name": "#%%\n"
    }
   }
  },
  {
   "cell_type": "code",
   "execution_count": 153,
   "outputs": [
    {
     "data": {
      "text/plain": "1      153\n2       80\n3       18\n7        6\n0        4\n6        3\n56       3\n23       3\n17       3\n4        3\n19       2\n22       2\n58       2\n25       2\n21       2\n88       2\n36       2\n26       2\n5        1\n18       1\n41       1\n52       1\n24       1\n62       1\n86       1\n8        1\n59       1\n38       1\n12       1\n39       1\n53       1\n51       1\n95       1\n14       1\n44       1\n77       1\n30       1\n48       1\n65       1\n32       1\n123      1\n42       1\n49       1\nName: lineup, dtype: int64"
     },
     "execution_count": 153,
     "metadata": {},
     "output_type": "execute_result"
    }
   ],
   "source": [
    "test_df['lineup'].str.len().value_counts()"
   ],
   "metadata": {
    "collapsed": false,
    "pycharm": {
     "name": "#%%\n"
    }
   }
  },
  {
   "cell_type": "code",
   "execution_count": 154,
   "outputs": [
    {
     "data": {
      "text/plain": "              datetime title  \\\n0  2013-04-14T10:08:00         \n1  2013-04-19T19:00:00         \n2  2013-04-21T10:26:00         \n3  2013-04-26T20:00:00         \n4  2013-05-02T19:30:00         \n\n                                              lineup festival_start_date  \\\n0  [Tame Impala, The Airborne Toxic Event, Eric P...                       \n1  [Tame Impala, Mona, Alt-J, Social Distortion, ...                       \n2  [Tame Impala, Vampire Weekend, Ladies Night, M...                       \n3                [Tame Impala, Midnight Juggernauts]                       \n4                                      [Tame Impala]                       \n\n  festival_end_date            city region        country    latitude  \\\n0                             Indio     CA  United States  33.7205556   \n1                             Indio     CA  United States  33.6784492   \n2                             Indio     CA  United States  33.7205556   \n3                    West Melbourne             Australia   -37.81126   \n4                            Sydney             Australia  -33.889832   \n\n      longitude location                     name       artist  \\\n0  -116.2147222                 Empire Polo Field  Tame Impala   \n1   -116.237155                  Empire Polo Club  Tame Impala   \n2  -116.2147222                 Empire Polo Field  Tame Impala   \n3    144.946442           Festival Hall Melbourne  Tame Impala   \n4    151.223348                  Hordern Pavilion  Tame Impala   \n\n                                    artist_topgenres  lineup_size  \\\n0  [indie rock, synthpop, psychedelic pop, psyche...           38   \n1  [indie rock, synthpop, psychedelic pop, psyche...           95   \n2  [indie rock, synthpop, psychedelic pop, psyche...           42   \n3  [indie rock, synthpop, psychedelic pop, psyche...            2   \n4  [indie rock, synthpop, psychedelic pop, psyche...            1   \n\n   festival_flag  \n0              1  \n1              1  \n2              1  \n3              0  \n4              0  ",
      "text/html": "<div>\n<style scoped>\n    .dataframe tbody tr th:only-of-type {\n        vertical-align: middle;\n    }\n\n    .dataframe tbody tr th {\n        vertical-align: top;\n    }\n\n    .dataframe thead th {\n        text-align: right;\n    }\n</style>\n<table border=\"1\" class=\"dataframe\">\n  <thead>\n    <tr style=\"text-align: right;\">\n      <th></th>\n      <th>datetime</th>\n      <th>title</th>\n      <th>lineup</th>\n      <th>festival_start_date</th>\n      <th>festival_end_date</th>\n      <th>city</th>\n      <th>region</th>\n      <th>country</th>\n      <th>latitude</th>\n      <th>longitude</th>\n      <th>location</th>\n      <th>name</th>\n      <th>artist</th>\n      <th>artist_topgenres</th>\n      <th>lineup_size</th>\n      <th>festival_flag</th>\n    </tr>\n  </thead>\n  <tbody>\n    <tr>\n      <th>0</th>\n      <td>2013-04-14T10:08:00</td>\n      <td></td>\n      <td>[Tame Impala, The Airborne Toxic Event, Eric P...</td>\n      <td></td>\n      <td></td>\n      <td>Indio</td>\n      <td>CA</td>\n      <td>United States</td>\n      <td>33.7205556</td>\n      <td>-116.2147222</td>\n      <td></td>\n      <td>Empire Polo Field</td>\n      <td>Tame Impala</td>\n      <td>[indie rock, synthpop, psychedelic pop, psyche...</td>\n      <td>38</td>\n      <td>1</td>\n    </tr>\n    <tr>\n      <th>1</th>\n      <td>2013-04-19T19:00:00</td>\n      <td></td>\n      <td>[Tame Impala, Mona, Alt-J, Social Distortion, ...</td>\n      <td></td>\n      <td></td>\n      <td>Indio</td>\n      <td>CA</td>\n      <td>United States</td>\n      <td>33.6784492</td>\n      <td>-116.237155</td>\n      <td></td>\n      <td>Empire Polo Club</td>\n      <td>Tame Impala</td>\n      <td>[indie rock, synthpop, psychedelic pop, psyche...</td>\n      <td>95</td>\n      <td>1</td>\n    </tr>\n    <tr>\n      <th>2</th>\n      <td>2013-04-21T10:26:00</td>\n      <td></td>\n      <td>[Tame Impala, Vampire Weekend, Ladies Night, M...</td>\n      <td></td>\n      <td></td>\n      <td>Indio</td>\n      <td>CA</td>\n      <td>United States</td>\n      <td>33.7205556</td>\n      <td>-116.2147222</td>\n      <td></td>\n      <td>Empire Polo Field</td>\n      <td>Tame Impala</td>\n      <td>[indie rock, synthpop, psychedelic pop, psyche...</td>\n      <td>42</td>\n      <td>1</td>\n    </tr>\n    <tr>\n      <th>3</th>\n      <td>2013-04-26T20:00:00</td>\n      <td></td>\n      <td>[Tame Impala, Midnight Juggernauts]</td>\n      <td></td>\n      <td></td>\n      <td>West Melbourne</td>\n      <td></td>\n      <td>Australia</td>\n      <td>-37.81126</td>\n      <td>144.946442</td>\n      <td></td>\n      <td>Festival Hall Melbourne</td>\n      <td>Tame Impala</td>\n      <td>[indie rock, synthpop, psychedelic pop, psyche...</td>\n      <td>2</td>\n      <td>0</td>\n    </tr>\n    <tr>\n      <th>4</th>\n      <td>2013-05-02T19:30:00</td>\n      <td></td>\n      <td>[Tame Impala]</td>\n      <td></td>\n      <td></td>\n      <td>Sydney</td>\n      <td></td>\n      <td>Australia</td>\n      <td>-33.889832</td>\n      <td>151.223348</td>\n      <td></td>\n      <td>Hordern Pavilion</td>\n      <td>Tame Impala</td>\n      <td>[indie rock, synthpop, psychedelic pop, psyche...</td>\n      <td>1</td>\n      <td>0</td>\n    </tr>\n  </tbody>\n</table>\n</div>"
     },
     "execution_count": 154,
     "metadata": {},
     "output_type": "execute_result"
    }
   ],
   "source": [
    "test_df['lineup_size'] = test_df['lineup'].str.len()\n",
    "test_df['festival_flag'] = np.where(test_df['lineup'].str.len() > 5, 1, 0)\n",
    "test_df.head()"
   ],
   "metadata": {
    "collapsed": false,
    "pycharm": {
     "name": "#%%\n"
    }
   }
  },
  {
   "cell_type": "code",
   "execution_count": 155,
   "outputs": [
    {
     "data": {
      "text/plain": "country                   region  city         location\nUnited States             CA      Los Angeles              10\n                          NY      New York                 10\nMexico                            Monterrey                 8\nUnited Kingdom                    London                    8\nUnited States             CO      Denver                    7\n                                                           ..\nUnited Kingdom                    Edinburgh                 1\n                                  Downend                   1\n                                  Blackpool                 1\n                                  Birmingham                1\nUnited States of America  IL      Chicago                   1\nLength: 153, dtype: int64"
     },
     "execution_count": 155,
     "metadata": {},
     "output_type": "execute_result"
    }
   ],
   "source": [
    "test_df[['country','region','city','location']].value_counts()"
   ],
   "metadata": {
    "collapsed": false,
    "pycharm": {
     "name": "#%%\n"
    }
   }
  },
  {
   "cell_type": "code",
   "execution_count": 156,
   "outputs": [],
   "source": [
    "test_df = get_locations(test_df)"
   ],
   "metadata": {
    "collapsed": false,
    "pycharm": {
     "name": "#%%\n"
    }
   }
  },
  {
   "cell_type": "code",
   "execution_count": 157,
   "outputs": [
    {
     "data": {
      "text/plain": "country         region      city          location\nUnited States   New York    New York                  10\nUnited Kingdom  England     London                     9\nUnited States   California  Los Angeles                8\nAustralia       Victoria    Melbourne                  8\nUnited States   Colorado    Denver                     7\n                                                      ..\nJapan                       Higashiosaka               1\nItaly           Veneto      Verona                     1\n                Lombardy    Milan                      1\n                Lazio       Rome                       1\nUnited States   Wisconsin   Milwaukee                  1\nLength: 153, dtype: int64"
     },
     "execution_count": 157,
     "metadata": {},
     "output_type": "execute_result"
    }
   ],
   "source": [
    "test_df[['country','region','city','location']].value_counts()"
   ],
   "metadata": {
    "collapsed": false,
    "pycharm": {
     "name": "#%%\n"
    }
   }
  },
  {
   "cell_type": "markdown",
   "source": [],
   "metadata": {
    "collapsed": false
   }
  },
  {
   "cell_type": "markdown",
   "source": [
    "## Messy Workspace -- May not Run"
   ],
   "metadata": {
    "collapsed": false,
    "pycharm": {
     "name": "#%% md\n"
    }
   }
  },
  {
   "cell_type": "code",
   "execution_count": 158,
   "outputs": [],
   "source": [
    "import reverse_geocode as rg\n",
    "coordinates = (-37.81, 144.96), (31.76, 35.21)\n",
    "loc = rg.search(coordinates)"
   ],
   "metadata": {
    "collapsed": false,
    "pycharm": {
     "name": "#%%\n"
    }
   }
  },
  {
   "cell_type": "code",
   "execution_count": 159,
   "outputs": [
    {
     "name": "stdout",
     "output_type": "stream",
     "text": [
      "Londres, Greater London, Inglaterra, SW1A 2DX, Reino Unido\n",
      "París, Isla de Francia, Francia metropolitana, Francia\n",
      "Paris, Ile-de-France, Metropolitan France, France\n",
      "Potsdamer Platz, Tiergarten, Mitte, Berlín, 10785, Alemania\n"
     ]
    }
   ],
   "source": [
    "from functools import partial\n",
    "from geopy.geocoders import Nominatim\n",
    "\n",
    "geolocator = Nominatim(user_agent=\"rg_agent\")\n",
    "\n",
    "geocode = partial(geolocator.geocode, language=\"es\")\n",
    "print(geocode(\"london\"))\n",
    "\n",
    "print(geocode(\"paris\"))\n",
    "\n",
    "print(geocode(\"paris\", language=\"en\"))\n",
    "\n",
    "\n",
    "reverse = partial(geolocator.reverse, language=\"es\")\n",
    "print(reverse(\"52.509669, 13.376294\"))\n"
   ],
   "metadata": {
    "collapsed": false,
    "pycharm": {
     "name": "#%%\n"
    }
   }
  },
  {
   "cell_type": "code",
   "execution_count": 160,
   "outputs": [
    {
     "data": {
      "text/plain": "['__class__',\n '__delattr__',\n '__dir__',\n '__doc__',\n '__eq__',\n '__format__',\n '__ge__',\n '__getattribute__',\n '__getitem__',\n '__getstate__',\n '__gt__',\n '__hash__',\n '__init__',\n '__init_subclass__',\n '__iter__',\n '__le__',\n '__len__',\n '__lt__',\n '__module__',\n '__ne__',\n '__new__',\n '__reduce__',\n '__reduce_ex__',\n '__repr__',\n '__setattr__',\n '__setstate__',\n '__sizeof__',\n '__slots__',\n '__str__',\n '__subclasshook__',\n '_address',\n '_point',\n '_raw',\n '_tuple',\n 'address',\n 'altitude',\n 'latitude',\n 'longitude',\n 'point',\n 'raw']"
     },
     "execution_count": 160,
     "metadata": {},
     "output_type": "execute_result"
    }
   ],
   "source": [
    "from geopy.extra.rate_limiter import RateLimiter\n",
    "gr = RateLimiter(geolocator.reverse, min_delay_seconds=1)\n",
    "\n",
    "x = gr((-37.81, 144.96),)\n",
    "dir(x)"
   ],
   "metadata": {
    "collapsed": false,
    "pycharm": {
     "name": "#%%\n"
    }
   }
  },
  {
   "cell_type": "code",
   "execution_count": 161,
   "outputs": [
    {
     "data": {
      "text/plain": "Location(Argus Centre, 300, La Trobe Street, Melbourne, City of Melbourne, Victoria, 3000, Australia, (-37.8101642, 144.96041012256524, 0.0))"
     },
     "execution_count": 161,
     "metadata": {},
     "output_type": "execute_result"
    }
   ],
   "source": [
    "x"
   ],
   "metadata": {
    "collapsed": false,
    "pycharm": {
     "name": "#%%\n"
    }
   }
  },
  {
   "cell_type": "code",
   "execution_count": 162,
   "outputs": [
    {
     "data": {
      "text/plain": "'Melbourne'"
     },
     "execution_count": 162,
     "metadata": {},
     "output_type": "execute_result"
    }
   ],
   "source": [
    "x.raw['address']['city']"
   ],
   "metadata": {
    "collapsed": false,
    "pycharm": {
     "name": "#%%\n"
    }
   }
  },
  {
   "cell_type": "code",
   "execution_count": 162,
   "outputs": [],
   "source": [
    "\n"
   ],
   "metadata": {
    "collapsed": false,
    "pycharm": {
     "name": "#%%\n"
    }
   }
  },
  {
   "cell_type": "code",
   "execution_count": 163,
   "outputs": [
    {
     "data": {
      "text/plain": "              datetime title  \\\n0  2013-04-14T10:08:00         \n1  2013-04-19T19:00:00         \n2  2013-04-21T10:26:00         \n3  2013-04-26T20:00:00         \n4  2013-05-02T19:30:00         \n5  2013-05-08T20:00:00         \n6  2013-05-18T19:00:00         \n7  2013-05-22T17:00:00         \n8  2013-05-24T15:00:00         \n9  2013-05-26T21:00:00         \n\n                                              lineup festival_start_date  \\\n0  [Tame Impala, The Airborne Toxic Event, Eric P...                       \n1  [Tame Impala, Mona, Alt-J, Social Distortion, ...                       \n2  [Tame Impala, Vampire Weekend, Ladies Night, M...                       \n3                [Tame Impala, Midnight Juggernauts]                       \n4                                      [Tame Impala]                       \n5                    [Tame Impala, Rebel FM Gig Pig]                       \n6                [Tame Impala, Midnight Juggernauts]                       \n7  [Tame Impala, Fred i Son, Extraperlo, Dead Ske...                       \n8  [Tame Impala, Bloc Party, Grimes, Shad, Danny ...                       \n9                     [Tame Impala, Jonathan Wilson]                       \n\n  festival_end_date           city             region        country  \\\n0                            Indio         California  United States   \n1                            Indio         California  United States   \n2                            Indio         California  United States   \n3                        Melbourne           Victoria      Australia   \n4                           Sydney    New South Wales      Australia   \n5                    Brisbane City         Queensland      Australia   \n6                       Upper Swan  Western Australia      Australia   \n7                        Barcelona          Catalonia          Spain   \n8                           George         Washington  United States   \n9                         Portland             Oregon  United States   \n\n      latitude     longitude location  \\\n0   33.7205556  -116.2147222            \n1   33.6784492   -116.237155            \n2   33.7205556  -116.2147222            \n3    -37.81126    144.946442            \n4   -33.889832    151.223348            \n5   -27.476351    153.017471            \n6  -31.7900054   116.0225478            \n7    41.413836      2.217205            \n8   47.0791667  -119.8547222            \n9    45.522928   -122.684512            \n\n                                      name       artist  \\\n0                        Empire Polo Field  Tame Impala   \n1                         Empire Polo Club  Tame Impala   \n2                        Empire Polo Field  Tame Impala   \n3                  Festival Hall Melbourne  Tame Impala   \n4                         Hordern Pavilion  Tame Impala   \n5  Brisbane Convention & Exhibition Centre  Tame Impala   \n6                     Belvoir Amphitheatre  Tame Impala   \n7                           Parc del Fòrum  Tame Impala   \n8                       Gorge Amphitheatre  Tame Impala   \n9                         Crystal Ballroom  Tame Impala   \n\n                                    artist_topgenres  lineup_size  \\\n0  [indie rock, synthpop, psychedelic pop, psyche...           38   \n1  [indie rock, synthpop, psychedelic pop, psyche...           95   \n2  [indie rock, synthpop, psychedelic pop, psyche...           42   \n3  [indie rock, synthpop, psychedelic pop, psyche...            2   \n4  [indie rock, synthpop, psychedelic pop, psyche...            1   \n5  [indie rock, synthpop, psychedelic pop, psyche...            2   \n6  [indie rock, synthpop, psychedelic pop, psyche...            2   \n7  [indie rock, synthpop, psychedelic pop, psyche...          123   \n8  [indie rock, synthpop, psychedelic pop, psyche...           32   \n9  [indie rock, synthpop, psychedelic pop, psyche...            2   \n\n   festival_flag  \n0              1  \n1              1  \n2              1  \n3              0  \n4              0  \n5              0  \n6              0  \n7              1  \n8              1  \n9              0  ",
      "text/html": "<div>\n<style scoped>\n    .dataframe tbody tr th:only-of-type {\n        vertical-align: middle;\n    }\n\n    .dataframe tbody tr th {\n        vertical-align: top;\n    }\n\n    .dataframe thead th {\n        text-align: right;\n    }\n</style>\n<table border=\"1\" class=\"dataframe\">\n  <thead>\n    <tr style=\"text-align: right;\">\n      <th></th>\n      <th>datetime</th>\n      <th>title</th>\n      <th>lineup</th>\n      <th>festival_start_date</th>\n      <th>festival_end_date</th>\n      <th>city</th>\n      <th>region</th>\n      <th>country</th>\n      <th>latitude</th>\n      <th>longitude</th>\n      <th>location</th>\n      <th>name</th>\n      <th>artist</th>\n      <th>artist_topgenres</th>\n      <th>lineup_size</th>\n      <th>festival_flag</th>\n    </tr>\n  </thead>\n  <tbody>\n    <tr>\n      <th>0</th>\n      <td>2013-04-14T10:08:00</td>\n      <td></td>\n      <td>[Tame Impala, The Airborne Toxic Event, Eric P...</td>\n      <td></td>\n      <td></td>\n      <td>Indio</td>\n      <td>California</td>\n      <td>United States</td>\n      <td>33.7205556</td>\n      <td>-116.2147222</td>\n      <td></td>\n      <td>Empire Polo Field</td>\n      <td>Tame Impala</td>\n      <td>[indie rock, synthpop, psychedelic pop, psyche...</td>\n      <td>38</td>\n      <td>1</td>\n    </tr>\n    <tr>\n      <th>1</th>\n      <td>2013-04-19T19:00:00</td>\n      <td></td>\n      <td>[Tame Impala, Mona, Alt-J, Social Distortion, ...</td>\n      <td></td>\n      <td></td>\n      <td>Indio</td>\n      <td>California</td>\n      <td>United States</td>\n      <td>33.6784492</td>\n      <td>-116.237155</td>\n      <td></td>\n      <td>Empire Polo Club</td>\n      <td>Tame Impala</td>\n      <td>[indie rock, synthpop, psychedelic pop, psyche...</td>\n      <td>95</td>\n      <td>1</td>\n    </tr>\n    <tr>\n      <th>2</th>\n      <td>2013-04-21T10:26:00</td>\n      <td></td>\n      <td>[Tame Impala, Vampire Weekend, Ladies Night, M...</td>\n      <td></td>\n      <td></td>\n      <td>Indio</td>\n      <td>California</td>\n      <td>United States</td>\n      <td>33.7205556</td>\n      <td>-116.2147222</td>\n      <td></td>\n      <td>Empire Polo Field</td>\n      <td>Tame Impala</td>\n      <td>[indie rock, synthpop, psychedelic pop, psyche...</td>\n      <td>42</td>\n      <td>1</td>\n    </tr>\n    <tr>\n      <th>3</th>\n      <td>2013-04-26T20:00:00</td>\n      <td></td>\n      <td>[Tame Impala, Midnight Juggernauts]</td>\n      <td></td>\n      <td></td>\n      <td>Melbourne</td>\n      <td>Victoria</td>\n      <td>Australia</td>\n      <td>-37.81126</td>\n      <td>144.946442</td>\n      <td></td>\n      <td>Festival Hall Melbourne</td>\n      <td>Tame Impala</td>\n      <td>[indie rock, synthpop, psychedelic pop, psyche...</td>\n      <td>2</td>\n      <td>0</td>\n    </tr>\n    <tr>\n      <th>4</th>\n      <td>2013-05-02T19:30:00</td>\n      <td></td>\n      <td>[Tame Impala]</td>\n      <td></td>\n      <td></td>\n      <td>Sydney</td>\n      <td>New South Wales</td>\n      <td>Australia</td>\n      <td>-33.889832</td>\n      <td>151.223348</td>\n      <td></td>\n      <td>Hordern Pavilion</td>\n      <td>Tame Impala</td>\n      <td>[indie rock, synthpop, psychedelic pop, psyche...</td>\n      <td>1</td>\n      <td>0</td>\n    </tr>\n    <tr>\n      <th>5</th>\n      <td>2013-05-08T20:00:00</td>\n      <td></td>\n      <td>[Tame Impala, Rebel FM Gig Pig]</td>\n      <td></td>\n      <td></td>\n      <td>Brisbane City</td>\n      <td>Queensland</td>\n      <td>Australia</td>\n      <td>-27.476351</td>\n      <td>153.017471</td>\n      <td></td>\n      <td>Brisbane Convention &amp; Exhibition Centre</td>\n      <td>Tame Impala</td>\n      <td>[indie rock, synthpop, psychedelic pop, psyche...</td>\n      <td>2</td>\n      <td>0</td>\n    </tr>\n    <tr>\n      <th>6</th>\n      <td>2013-05-18T19:00:00</td>\n      <td></td>\n      <td>[Tame Impala, Midnight Juggernauts]</td>\n      <td></td>\n      <td></td>\n      <td>Upper Swan</td>\n      <td>Western Australia</td>\n      <td>Australia</td>\n      <td>-31.7900054</td>\n      <td>116.0225478</td>\n      <td></td>\n      <td>Belvoir Amphitheatre</td>\n      <td>Tame Impala</td>\n      <td>[indie rock, synthpop, psychedelic pop, psyche...</td>\n      <td>2</td>\n      <td>0</td>\n    </tr>\n    <tr>\n      <th>7</th>\n      <td>2013-05-22T17:00:00</td>\n      <td></td>\n      <td>[Tame Impala, Fred i Son, Extraperlo, Dead Ske...</td>\n      <td></td>\n      <td></td>\n      <td>Barcelona</td>\n      <td>Catalonia</td>\n      <td>Spain</td>\n      <td>41.413836</td>\n      <td>2.217205</td>\n      <td></td>\n      <td>Parc del Fòrum</td>\n      <td>Tame Impala</td>\n      <td>[indie rock, synthpop, psychedelic pop, psyche...</td>\n      <td>123</td>\n      <td>1</td>\n    </tr>\n    <tr>\n      <th>8</th>\n      <td>2013-05-24T15:00:00</td>\n      <td></td>\n      <td>[Tame Impala, Bloc Party, Grimes, Shad, Danny ...</td>\n      <td></td>\n      <td></td>\n      <td>George</td>\n      <td>Washington</td>\n      <td>United States</td>\n      <td>47.0791667</td>\n      <td>-119.8547222</td>\n      <td></td>\n      <td>Gorge Amphitheatre</td>\n      <td>Tame Impala</td>\n      <td>[indie rock, synthpop, psychedelic pop, psyche...</td>\n      <td>32</td>\n      <td>1</td>\n    </tr>\n    <tr>\n      <th>9</th>\n      <td>2013-05-26T21:00:00</td>\n      <td></td>\n      <td>[Tame Impala, Jonathan Wilson]</td>\n      <td></td>\n      <td></td>\n      <td>Portland</td>\n      <td>Oregon</td>\n      <td>United States</td>\n      <td>45.522928</td>\n      <td>-122.684512</td>\n      <td></td>\n      <td>Crystal Ballroom</td>\n      <td>Tame Impala</td>\n      <td>[indie rock, synthpop, psychedelic pop, psyche...</td>\n      <td>2</td>\n      <td>0</td>\n    </tr>\n  </tbody>\n</table>\n</div>"
     },
     "execution_count": 163,
     "metadata": {},
     "output_type": "execute_result"
    }
   ],
   "source": [
    "x_df = test_df[:10].copy()\n",
    "tt = get_location(x_df, 'latitude', 'longitude')\n",
    "tt.head(10)"
   ],
   "metadata": {
    "collapsed": false,
    "pycharm": {
     "name": "#%%\n"
    }
   }
  },
  {
   "cell_type": "code",
   "execution_count": 164,
   "outputs": [
    {
     "data": {
      "text/plain": "              datetime title  \\\n0  2013-04-14T10:08:00         \n1  2013-04-19T19:00:00         \n2  2013-04-21T10:26:00         \n3  2013-04-26T20:00:00         \n4  2013-05-02T19:30:00         \n5  2013-05-08T20:00:00         \n6  2013-05-18T19:00:00         \n7  2013-05-22T17:00:00         \n8  2013-05-24T15:00:00         \n9  2013-05-26T21:00:00         \n\n                                              lineup festival_start_date  \\\n0  [Tame Impala, The Airborne Toxic Event, Eric P...                       \n1  [Tame Impala, Mona, Alt-J, Social Distortion, ...                       \n2  [Tame Impala, Vampire Weekend, Ladies Night, M...                       \n3                [Tame Impala, Midnight Juggernauts]                       \n4                                      [Tame Impala]                       \n5                    [Tame Impala, Rebel FM Gig Pig]                       \n6                [Tame Impala, Midnight Juggernauts]                       \n7  [Tame Impala, Fred i Son, Extraperlo, Dead Ske...                       \n8  [Tame Impala, Bloc Party, Grimes, Shad, Danny ...                       \n9                     [Tame Impala, Jonathan Wilson]                       \n\n  festival_end_date           city           region        country  \\\n0                            Indio       California  United States   \n1                            Indio       California  United States   \n2                            Indio       California  United States   \n3                        Melbourne         Victoria      Australia   \n4                           Sydney  New South Wales      Australia   \n5                    Brisbane City       Queensland      Australia   \n6                       Upper Swan                       Australia   \n7                        Barcelona        Catalonia          Spain   \n8                           George               WA  United States   \n9                         Portland           Oregon  United States   \n\n      latitude     longitude location  \\\n0   33.7205556  -116.2147222            \n1   33.6784492   -116.237155            \n2   33.7205556  -116.2147222            \n3    -37.81126    144.946442            \n4   -33.889832    151.223348            \n5   -27.476351    153.017471            \n6  -31.7900054   116.0225478            \n7    41.413836      2.217205            \n8   47.0791667  -119.8547222            \n9    45.522928   -122.684512            \n\n                                      name       artist  \\\n0                        Empire Polo Field  Tame Impala   \n1                         Empire Polo Club  Tame Impala   \n2                        Empire Polo Field  Tame Impala   \n3                  Festival Hall Melbourne  Tame Impala   \n4                         Hordern Pavilion  Tame Impala   \n5  Brisbane Convention & Exhibition Centre  Tame Impala   \n6                     Belvoir Amphitheatre  Tame Impala   \n7                           Parc del Fòrum  Tame Impala   \n8                       Gorge Amphitheatre  Tame Impala   \n9                         Crystal Ballroom  Tame Impala   \n\n                                    artist_topgenres  lineup_size  \\\n0  [indie rock, synthpop, psychedelic pop, psyche...           38   \n1  [indie rock, synthpop, psychedelic pop, psyche...           95   \n2  [indie rock, synthpop, psychedelic pop, psyche...           42   \n3  [indie rock, synthpop, psychedelic pop, psyche...            2   \n4  [indie rock, synthpop, psychedelic pop, psyche...            1   \n5  [indie rock, synthpop, psychedelic pop, psyche...            2   \n6  [indie rock, synthpop, psychedelic pop, psyche...            2   \n7  [indie rock, synthpop, psychedelic pop, psyche...          123   \n8  [indie rock, synthpop, psychedelic pop, psyche...           32   \n9  [indie rock, synthpop, psychedelic pop, psyche...            2   \n\n   festival_flag  \n0              1  \n1              1  \n2              1  \n3              0  \n4              0  \n5              0  \n6              0  \n7              1  \n8              1  \n9              0  ",
      "text/html": "<div>\n<style scoped>\n    .dataframe tbody tr th:only-of-type {\n        vertical-align: middle;\n    }\n\n    .dataframe tbody tr th {\n        vertical-align: top;\n    }\n\n    .dataframe thead th {\n        text-align: right;\n    }\n</style>\n<table border=\"1\" class=\"dataframe\">\n  <thead>\n    <tr style=\"text-align: right;\">\n      <th></th>\n      <th>datetime</th>\n      <th>title</th>\n      <th>lineup</th>\n      <th>festival_start_date</th>\n      <th>festival_end_date</th>\n      <th>city</th>\n      <th>region</th>\n      <th>country</th>\n      <th>latitude</th>\n      <th>longitude</th>\n      <th>location</th>\n      <th>name</th>\n      <th>artist</th>\n      <th>artist_topgenres</th>\n      <th>lineup_size</th>\n      <th>festival_flag</th>\n    </tr>\n  </thead>\n  <tbody>\n    <tr>\n      <th>0</th>\n      <td>2013-04-14T10:08:00</td>\n      <td></td>\n      <td>[Tame Impala, The Airborne Toxic Event, Eric P...</td>\n      <td></td>\n      <td></td>\n      <td>Indio</td>\n      <td>California</td>\n      <td>United States</td>\n      <td>33.7205556</td>\n      <td>-116.2147222</td>\n      <td></td>\n      <td>Empire Polo Field</td>\n      <td>Tame Impala</td>\n      <td>[indie rock, synthpop, psychedelic pop, psyche...</td>\n      <td>38</td>\n      <td>1</td>\n    </tr>\n    <tr>\n      <th>1</th>\n      <td>2013-04-19T19:00:00</td>\n      <td></td>\n      <td>[Tame Impala, Mona, Alt-J, Social Distortion, ...</td>\n      <td></td>\n      <td></td>\n      <td>Indio</td>\n      <td>California</td>\n      <td>United States</td>\n      <td>33.6784492</td>\n      <td>-116.237155</td>\n      <td></td>\n      <td>Empire Polo Club</td>\n      <td>Tame Impala</td>\n      <td>[indie rock, synthpop, psychedelic pop, psyche...</td>\n      <td>95</td>\n      <td>1</td>\n    </tr>\n    <tr>\n      <th>2</th>\n      <td>2013-04-21T10:26:00</td>\n      <td></td>\n      <td>[Tame Impala, Vampire Weekend, Ladies Night, M...</td>\n      <td></td>\n      <td></td>\n      <td>Indio</td>\n      <td>California</td>\n      <td>United States</td>\n      <td>33.7205556</td>\n      <td>-116.2147222</td>\n      <td></td>\n      <td>Empire Polo Field</td>\n      <td>Tame Impala</td>\n      <td>[indie rock, synthpop, psychedelic pop, psyche...</td>\n      <td>42</td>\n      <td>1</td>\n    </tr>\n    <tr>\n      <th>3</th>\n      <td>2013-04-26T20:00:00</td>\n      <td></td>\n      <td>[Tame Impala, Midnight Juggernauts]</td>\n      <td></td>\n      <td></td>\n      <td>Melbourne</td>\n      <td>Victoria</td>\n      <td>Australia</td>\n      <td>-37.81126</td>\n      <td>144.946442</td>\n      <td></td>\n      <td>Festival Hall Melbourne</td>\n      <td>Tame Impala</td>\n      <td>[indie rock, synthpop, psychedelic pop, psyche...</td>\n      <td>2</td>\n      <td>0</td>\n    </tr>\n    <tr>\n      <th>4</th>\n      <td>2013-05-02T19:30:00</td>\n      <td></td>\n      <td>[Tame Impala]</td>\n      <td></td>\n      <td></td>\n      <td>Sydney</td>\n      <td>New South Wales</td>\n      <td>Australia</td>\n      <td>-33.889832</td>\n      <td>151.223348</td>\n      <td></td>\n      <td>Hordern Pavilion</td>\n      <td>Tame Impala</td>\n      <td>[indie rock, synthpop, psychedelic pop, psyche...</td>\n      <td>1</td>\n      <td>0</td>\n    </tr>\n    <tr>\n      <th>5</th>\n      <td>2013-05-08T20:00:00</td>\n      <td></td>\n      <td>[Tame Impala, Rebel FM Gig Pig]</td>\n      <td></td>\n      <td></td>\n      <td>Brisbane City</td>\n      <td>Queensland</td>\n      <td>Australia</td>\n      <td>-27.476351</td>\n      <td>153.017471</td>\n      <td></td>\n      <td>Brisbane Convention &amp; Exhibition Centre</td>\n      <td>Tame Impala</td>\n      <td>[indie rock, synthpop, psychedelic pop, psyche...</td>\n      <td>2</td>\n      <td>0</td>\n    </tr>\n    <tr>\n      <th>6</th>\n      <td>2013-05-18T19:00:00</td>\n      <td></td>\n      <td>[Tame Impala, Midnight Juggernauts]</td>\n      <td></td>\n      <td></td>\n      <td>Upper Swan</td>\n      <td></td>\n      <td>Australia</td>\n      <td>-31.7900054</td>\n      <td>116.0225478</td>\n      <td></td>\n      <td>Belvoir Amphitheatre</td>\n      <td>Tame Impala</td>\n      <td>[indie rock, synthpop, psychedelic pop, psyche...</td>\n      <td>2</td>\n      <td>0</td>\n    </tr>\n    <tr>\n      <th>7</th>\n      <td>2013-05-22T17:00:00</td>\n      <td></td>\n      <td>[Tame Impala, Fred i Son, Extraperlo, Dead Ske...</td>\n      <td></td>\n      <td></td>\n      <td>Barcelona</td>\n      <td>Catalonia</td>\n      <td>Spain</td>\n      <td>41.413836</td>\n      <td>2.217205</td>\n      <td></td>\n      <td>Parc del Fòrum</td>\n      <td>Tame Impala</td>\n      <td>[indie rock, synthpop, psychedelic pop, psyche...</td>\n      <td>123</td>\n      <td>1</td>\n    </tr>\n    <tr>\n      <th>8</th>\n      <td>2013-05-24T15:00:00</td>\n      <td></td>\n      <td>[Tame Impala, Bloc Party, Grimes, Shad, Danny ...</td>\n      <td></td>\n      <td></td>\n      <td>George</td>\n      <td>WA</td>\n      <td>United States</td>\n      <td>47.0791667</td>\n      <td>-119.8547222</td>\n      <td></td>\n      <td>Gorge Amphitheatre</td>\n      <td>Tame Impala</td>\n      <td>[indie rock, synthpop, psychedelic pop, psyche...</td>\n      <td>32</td>\n      <td>1</td>\n    </tr>\n    <tr>\n      <th>9</th>\n      <td>2013-05-26T21:00:00</td>\n      <td></td>\n      <td>[Tame Impala, Jonathan Wilson]</td>\n      <td></td>\n      <td></td>\n      <td>Portland</td>\n      <td>Oregon</td>\n      <td>United States</td>\n      <td>45.522928</td>\n      <td>-122.684512</td>\n      <td></td>\n      <td>Crystal Ballroom</td>\n      <td>Tame Impala</td>\n      <td>[indie rock, synthpop, psychedelic pop, psyche...</td>\n      <td>2</td>\n      <td>0</td>\n    </tr>\n  </tbody>\n</table>\n</div>"
     },
     "execution_count": 164,
     "metadata": {},
     "output_type": "execute_result"
    }
   ],
   "source": [
    "test_df.head(10)"
   ],
   "metadata": {
    "collapsed": false,
    "pycharm": {
     "name": "#%%\n"
    }
   }
  },
  {
   "cell_type": "code",
   "execution_count": 165,
   "outputs": [
    {
     "ename": "ValueError",
     "evalue": "Columns must be same length as key",
     "output_type": "error",
     "traceback": [
      "\u001B[0;31m---------------------------------------------------------------------------\u001B[0m",
      "\u001B[0;31mValueError\u001B[0m                                Traceback (most recent call last)",
      "\u001B[0;32m/var/folders/lx/s64h867n6nxf10yyw1qf04qh0000gp/T/ipykernel_59401/242889872.py\u001B[0m in \u001B[0;36m<module>\u001B[0;34m\u001B[0m\n\u001B[0;32m----> 1\u001B[0;31m \u001B[0mtest_df\u001B[0m\u001B[0;34m[\u001B[0m\u001B[0;34m'city'\u001B[0m\u001B[0;34m]\u001B[0m \u001B[0;34m=\u001B[0m \u001B[0mtest_df\u001B[0m\u001B[0;34m[\u001B[0m\u001B[0;34m[\u001B[0m\u001B[0;34m'latitude'\u001B[0m\u001B[0;34m,\u001B[0m \u001B[0;34m'longitude'\u001B[0m\u001B[0;34m]\u001B[0m\u001B[0;34m]\u001B[0m\u001B[0;34m\u001B[0m\u001B[0;34m\u001B[0m\u001B[0m\n\u001B[0m",
      "\u001B[0;32m/opt/homebrew/lib/python3.9/site-packages/pandas/core/frame.py\u001B[0m in \u001B[0;36m__setitem__\u001B[0;34m(self, key, value)\u001B[0m\n\u001B[1;32m   3600\u001B[0m             \u001B[0mself\u001B[0m\u001B[0;34m.\u001B[0m\u001B[0m_setitem_array\u001B[0m\u001B[0;34m(\u001B[0m\u001B[0mkey\u001B[0m\u001B[0;34m,\u001B[0m \u001B[0mvalue\u001B[0m\u001B[0;34m)\u001B[0m\u001B[0;34m\u001B[0m\u001B[0;34m\u001B[0m\u001B[0m\n\u001B[1;32m   3601\u001B[0m         \u001B[0;32melif\u001B[0m \u001B[0misinstance\u001B[0m\u001B[0;34m(\u001B[0m\u001B[0mvalue\u001B[0m\u001B[0;34m,\u001B[0m \u001B[0mDataFrame\u001B[0m\u001B[0;34m)\u001B[0m\u001B[0;34m:\u001B[0m\u001B[0;34m\u001B[0m\u001B[0;34m\u001B[0m\u001B[0m\n\u001B[0;32m-> 3602\u001B[0;31m             \u001B[0mself\u001B[0m\u001B[0;34m.\u001B[0m\u001B[0m_set_item_frame_value\u001B[0m\u001B[0;34m(\u001B[0m\u001B[0mkey\u001B[0m\u001B[0;34m,\u001B[0m \u001B[0mvalue\u001B[0m\u001B[0;34m)\u001B[0m\u001B[0;34m\u001B[0m\u001B[0;34m\u001B[0m\u001B[0m\n\u001B[0m\u001B[1;32m   3603\u001B[0m         elif (\n\u001B[1;32m   3604\u001B[0m             \u001B[0mis_list_like\u001B[0m\u001B[0;34m(\u001B[0m\u001B[0mvalue\u001B[0m\u001B[0;34m)\u001B[0m\u001B[0;34m\u001B[0m\u001B[0;34m\u001B[0m\u001B[0m\n",
      "\u001B[0;32m/opt/homebrew/lib/python3.9/site-packages/pandas/core/frame.py\u001B[0m in \u001B[0;36m_set_item_frame_value\u001B[0;34m(self, key, value)\u001B[0m\n\u001B[1;32m   3727\u001B[0m             \u001B[0mlen_cols\u001B[0m \u001B[0;34m=\u001B[0m \u001B[0;36m1\u001B[0m \u001B[0;32mif\u001B[0m \u001B[0mis_scalar\u001B[0m\u001B[0;34m(\u001B[0m\u001B[0mcols\u001B[0m\u001B[0;34m)\u001B[0m \u001B[0;32melse\u001B[0m \u001B[0mlen\u001B[0m\u001B[0;34m(\u001B[0m\u001B[0mcols\u001B[0m\u001B[0;34m)\u001B[0m\u001B[0;34m\u001B[0m\u001B[0;34m\u001B[0m\u001B[0m\n\u001B[1;32m   3728\u001B[0m             \u001B[0;32mif\u001B[0m \u001B[0mlen_cols\u001B[0m \u001B[0;34m!=\u001B[0m \u001B[0mlen\u001B[0m\u001B[0;34m(\u001B[0m\u001B[0mvalue\u001B[0m\u001B[0;34m.\u001B[0m\u001B[0mcolumns\u001B[0m\u001B[0;34m)\u001B[0m\u001B[0;34m:\u001B[0m\u001B[0;34m\u001B[0m\u001B[0;34m\u001B[0m\u001B[0m\n\u001B[0;32m-> 3729\u001B[0;31m                 \u001B[0;32mraise\u001B[0m \u001B[0mValueError\u001B[0m\u001B[0;34m(\u001B[0m\u001B[0;34m\"Columns must be same length as key\"\u001B[0m\u001B[0;34m)\u001B[0m\u001B[0;34m\u001B[0m\u001B[0;34m\u001B[0m\u001B[0m\n\u001B[0m\u001B[1;32m   3730\u001B[0m \u001B[0;34m\u001B[0m\u001B[0m\n\u001B[1;32m   3731\u001B[0m             \u001B[0;31m# align right-hand-side columns if self.columns\u001B[0m\u001B[0;34m\u001B[0m\u001B[0;34m\u001B[0m\u001B[0m\n",
      "\u001B[0;31mValueError\u001B[0m: Columns must be same length as key"
     ]
    }
   ],
   "source": [
    "test_df['city'] = test_df[['latitude', 'longitude']]"
   ],
   "metadata": {
    "collapsed": false,
    "pycharm": {
     "name": "#%%\n"
    }
   }
  },
  {
   "cell_type": "code",
   "execution_count": null,
   "outputs": [],
   "source": [
    "from geopy.extra.rate_limiter import RateLimiter\n",
    "geocode = RateLimiter(geolocator.reverse, min_delay_seconds=1)\n",
    "df['location'] = df['name'].apply(geocode)\n",
    "\n",
    "df['point'] = df['location'].apply(lambda loc: tuple(loc.point) if loc else None)"
   ],
   "metadata": {
    "collapsed": false,
    "pycharm": {
     "name": "#%%\n"
    }
   }
  },
  {
   "cell_type": "code",
   "execution_count": null,
   "outputs": [],
   "source": [
    "geolocator.reverse(-37.81, 144.96)"
   ],
   "metadata": {
    "collapsed": false,
    "pycharm": {
     "name": "#%%\n"
    }
   }
  },
  {
   "cell_type": "code",
   "execution_count": null,
   "outputs": [],
   "source": [
    "import plotly.express as px\n",
    "#df = px.data.gapminder().query(\"year == 2007\")\n",
    "fig = px.scatter_geo(test_df,\n",
    "                     lat='latitude',\n",
    "                     lon='longitude',\n",
    "                     color=\"festival_flag\", # which column to use to set the color of markers\n",
    "                     hover_name=\"city\", # column added to hover information\n",
    "                     #size=\"lineup_size\", # size of markers\n",
    "                     projection=\"natural earth\")\n",
    "fig.update_geos(\n",
    "    visible=False,\n",
    "    resolution=50,\n",
    "    #scope=\"north america\",\n",
    "    showcountries=True, countrycolor=\"Black\"\n",
    "    #,showsubunits=True, subunitcolor=\"Blue\"\n",
    ")\n",
    "fig.show()"
   ],
   "metadata": {
    "collapsed": false,
    "pycharm": {
     "name": "#%%\n"
    }
   }
  },
  {
   "cell_type": "code",
   "execution_count": null,
   "outputs": [],
   "source": [
    "import plotly.graph_objects as go\n",
    "\n",
    "fig = go.Figure(go.Scattergeo(\n",
    "    test_df,\n",
    "    lat='latitude',\n",
    "    lon='longitude',\n",
    "    color=\"festival_flag\", # which column to use to set the color of markers\n",
    "    hover_name=\"city\", # column added to hover information\n",
    "    #size=\"lineup_size\", # size of markers\n",
    "    projection=\"natural earth\")\n",
    ")\n",
    "fig.update_geos(\n",
    "    visible=False, resolution=110, scope=\"usa\",\n",
    "    showcountries=True, countrycolor=\"Black\",\n",
    "    showsubunits=True, subunitcolor=\"lightGrey\"\n",
    ")\n",
    "fig.update_layout(height=300, margin={\"r\":0,\"t\":0,\"l\":0,\"b\":0})\n",
    "fig.show()"
   ],
   "metadata": {
    "collapsed": false,
    "pycharm": {
     "name": "#%%\n"
    }
   }
  },
  {
   "cell_type": "code",
   "execution_count": null,
   "outputs": [],
   "source": [
    "import pandas as pd\n",
    "us_cities = pd.read_csv(\"https://raw.githubusercontent.com/plotly/datasets/master/us-cities-top-1k.csv\")\n",
    "us_cities.head()\n",
    "\n",
    "import plotly.express as px\n",
    "\n",
    "fig = px.scatter_mapbox(us_cities, lat=\"lat\", lon=\"lon\", hover_name=\"City\", hover_data=[\"State\", \"Population\"],\n",
    "                        color_discrete_sequence=[\"fuchsia\"], zoom=3, height=300)\n",
    "fig.update_layout(mapbox_style=\"open-street-map\")\n",
    "fig.update_layout(margin={\"r\":0,\"t\":0,\"l\":0,\"b\":0})\n",
    "fig.show()"
   ],
   "metadata": {
    "collapsed": false,
    "pycharm": {
     "name": "#%%\n"
    }
   }
  },
  {
   "cell_type": "code",
   "execution_count": null,
   "outputs": [],
   "source": [
    "import plotly.express as px\n",
    "\n",
    "fig = px.scatter_mapbox(test_df, lat=\"latitude\", lon=\"longitude\", hover_name=\"location\",\n",
    "                        color_discrete_sequence=[\"fuchsia\"], zoom=3, height=300)\n",
    "fig.update_layout(mapbox_style=\"open-street-map\")\n",
    "fig.update_layout(margin={\"r\":0,\"t\":0,\"l\":0,\"b\":0})\n",
    "fig.show()"
   ],
   "metadata": {
    "collapsed": false,
    "pycharm": {
     "name": "#%%\n"
    }
   }
  },
  {
   "cell_type": "code",
   "execution_count": null,
   "id": "c5bb464d-c881-49d5-83d2-21d24e17e04f",
   "metadata": {
    "tags": []
   },
   "outputs": [],
   "source": [
    "ej = r.json()\n",
    "ej[2]"
   ]
  },
  {
   "cell_type": "code",
   "execution_count": null,
   "id": "8b835acd-ccac-4c96-a281-0d6510451e8e",
   "metadata": {},
   "outputs": [],
   "source": [
    "len(event_json)"
   ]
  },
  {
   "cell_type": "code",
   "execution_count": null,
   "id": "02de8e44-617c-4215-ae76-710ac67407c9",
   "metadata": {
    "tags": []
   },
   "outputs": [],
   "source": [
    "#r.text"
   ]
  },
  {
   "cell_type": "code",
   "execution_count": null,
   "id": "4f8c83e9-a728-4ba5-b8c9-abbbe011cb72",
   "metadata": {},
   "outputs": [],
   "source": [
    "len(ej[0])"
   ]
  },
  {
   "cell_type": "code",
   "execution_count": null,
   "id": "09c3a67a-32ce-4b70-9e83-9753dab2c73f",
   "metadata": {},
   "outputs": [],
   "source": [
    "ej[0].keys()"
   ]
  },
  {
   "cell_type": "code",
   "execution_count": null,
   "id": "07ac0ee8-80be-49a2-a3ab-ce20398c4728",
   "metadata": {},
   "outputs": [],
   "source": [
    "list(ej[0].keys())"
   ]
  },
  {
   "cell_type": "code",
   "execution_count": null,
   "id": "53146583-e11c-400f-ac54-49c1c11aab0e",
   "metadata": {},
   "outputs": [],
   "source": [
    "type(ej[0])"
   ]
  },
  {
   "cell_type": "code",
   "execution_count": null,
   "id": "077c0f79-81dd-47c4-97be-6c1b5502ee5b",
   "metadata": {},
   "outputs": [],
   "source": [
    "ej[0].values()"
   ]
  },
  {
   "cell_type": "code",
   "execution_count": null,
   "id": "1f65589a-7863-47f3-ba0e-d552395102d5",
   "metadata": {},
   "outputs": [],
   "source": [
    "v = ej[0].get('venue')\n",
    "print(v)\n",
    "type(v)"
   ]
  },
  {
   "cell_type": "code",
   "execution_count": null,
   "id": "528d7460-796b-43e0-bdeb-f50ea5c5f80a",
   "metadata": {},
   "outputs": [],
   "source": [
    "v.get('country')"
   ]
  },
  {
   "cell_type": "code",
   "execution_count": null,
   "outputs": [],
   "source": [
    "for key in list(ej[0].keys()):\n",
    "    print(key, \" : \\n\", ej[0].get(key), \"\\n\")"
   ],
   "metadata": {
    "collapsed": false,
    "pycharm": {
     "name": "#%%\n"
    }
   }
  },
  {
   "cell_type": "code",
   "execution_count": null,
   "id": "a497fe4d-7e00-4168-9cae-5642aee4bf3b",
   "metadata": {},
   "outputs": [],
   "source": []
  }
 ],
 "metadata": {
  "kernelspec": {
   "display_name": "Python 3 (ipykernel)",
   "language": "python",
   "name": "python3"
  },
  "language_info": {
   "codemirror_mode": {
    "name": "ipython",
    "version": 3
   },
   "file_extension": ".py",
   "mimetype": "text/x-python",
   "name": "python",
   "nbconvert_exporter": "python",
   "pygments_lexer": "ipython3",
   "version": "3.9.9"
  }
 },
 "nbformat": 4,
 "nbformat_minor": 5
}